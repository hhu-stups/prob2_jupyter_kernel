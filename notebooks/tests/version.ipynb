{
 "cells": [
  {
   "cell_type": "code",
   "execution_count": 1,
   "metadata": {},
   "outputs": [
    {
     "data": {
      "text/markdown": [
       "```\n",
       ":version\n",
       "```\n",
       "\n",
       "Display version info about the ProB 2 Jupyter kernel and its underlying components."
      ],
      "text/plain": [
       ":version\n",
       "Display version info about the ProB 2 Jupyter kernel and its underlying components."
      ]
     },
     "execution_count": 1,
     "metadata": {},
     "output_type": "execute_result"
    }
   ],
   "source": [
    ":help :version"
   ]
  },
  {
   "cell_type": "code",
   "execution_count": 2,
   "metadata": {},
   "outputs": [
    {
     "data": {
      "text/plain": [
       "ProB 2 Jupyter kernel: 1.1.1-SNAPSHOT (e5188664ec88fa6c381b5fec7b46ab44deaf9eb7)\n",
       "ProB 2: 4.0.0-SNAPSHOT (489d93856139812923fae9b8e4c1297e9576b460)\n",
       "ProB B parser: 2.9.26-SNAPSHOT (d2cd9ca3dba77bfff8c6eed9799794af899b3230)\n",
       "ProB CLI:\n",
       "\t1.10.0-nightly (907db892e8fdc604be6a15cea637d74da98bf1cb)\n",
       "\tLast changed: Tue May 12 19:06:34 2020 +0200\n",
       "\tProlog: SICStus 4.5.1 (x86_64-darwin-17.7.0): Tue Apr  2 15:34:32 CEST 2019"
      ]
     },
     "execution_count": 2,
     "metadata": {},
     "output_type": "execute_result"
    }
   ],
   "source": [
    ":version"
   ]
  }
 ],
 "metadata": {
  "kernelspec": {
   "display_name": "ProB 2",
   "language": "prob",
   "name": "prob2"
  },
  "language_info": {
   "codemirror_mode": "prob2_jupyter_repl",
   "file_extension": ".prob",
   "mimetype": "text/x-prob2-jupyter-repl",
   "name": "prob"
  }
 },
 "nbformat": 4,
 "nbformat_minor": 2
}
