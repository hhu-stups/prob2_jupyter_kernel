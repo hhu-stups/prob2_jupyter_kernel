{
 "cells": [
  {
   "cell_type": "code",
   "execution_count": 1,
   "metadata": {},
   "outputs": [
    {
     "data": {
      "text/markdown": [
       "```\n",
       ":version\n",
       "```\n",
       "\n",
       "Display version info about the ProB 2 Jupyter kernel and its underlying components."
      ],
      "text/plain": [
       ":version\n",
       "Display version info about the ProB 2 Jupyter kernel and its underlying components."
      ]
     },
     "execution_count": 1,
     "metadata": {},
     "output_type": "execute_result"
    }
   ],
   "source": [
    ":help :version"
   ]
  },
  {
   "cell_type": "code",
   "execution_count": 2,
   "metadata": {},
   "outputs": [
    {
     "data": {
      "text/plain": [
       "ProB 2 Jupyter kernel: 1.4.2-SNAPSHOT (e107271eacd6d5b5be2f03c472b9c54e795e9342)\n",
       "ProB 2: 4.15.0 (6fac47be7dc8ab8275878c518a2ca134be8289b1)\n",
       "ProB B parser: 2.15.2 (0a382343e409cf7fe1253a6e2490169861fda692)\n",
       "ProB CLI:\n",
       "\t1.15.0-final (e10c98eafba5a91367f8b51c96f659e2d3727226)\n",
       "\tLast changed: Thu Jun 26 13:25:41 2025 +0200\n",
       "\tProlog: SICStus 4.8.0 (arm64-darwin-20.1.0): Sun Dec  4 14:17:07 CET 2022"
      ]
     },
     "execution_count": 2,
     "metadata": {},
     "output_type": "execute_result"
    }
   ],
   "source": [
    ":version"
   ]
  }
 ],
 "metadata": {
  "kernelspec": {
   "display_name": "ProB 2",
   "language": "prob",
   "name": "prob2"
  },
  "language_info": {
   "codemirror_mode": "prob2_jupyter_repl",
   "file_extension": ".prob",
   "mimetype": "text/x-prob2-jupyter-repl",
   "name": "prob"
  }
 },
 "nbformat": 4,
 "nbformat_minor": 4
}
