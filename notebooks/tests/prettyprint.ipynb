{
 "cells": [
  {
   "cell_type": "code",
   "execution_count": 1,
   "metadata": {},
   "outputs": [
    {
     "data": {
      "text/markdown": [
       "```\n",
       ":prettyprint PREDICATE\n",
       "```\n",
       "\n",
       "Pretty-print a predicate.\n",
       "\n",
       "The predicate is not evaluated or simplified, it is only reformatted and converted to Unicode/$\\LaTeX$ form.\n",
       "\n",
       "Expressions cannot be pretty-printed, only predicates."
      ],
      "text/plain": [
       "```\n",
       ":prettyprint PREDICATE\n",
       "```\n",
       "\n",
       "Pretty-print a predicate.\n",
       "\n",
       "The predicate is not evaluated or simplified, it is only reformatted and converted to Unicode/$\\LaTeX$ form.\n",
       "\n",
       "Expressions cannot be pretty-printed, only predicates."
      ]
     },
     "execution_count": 1,
     "metadata": {},
     "output_type": "execute_result"
    }
   ],
   "source": [
    ":help :prettyprint"
   ]
  },
  {
   "cell_type": "code",
   "execution_count": 2,
   "metadata": {},
   "outputs": [
    {
     "data": {
      "text/latex": [
       "$1 + 2 = 3$"
      ],
      "text/plain": [
       "1 + 2 = 3"
      ]
     },
     "execution_count": 2,
     "metadata": {},
     "output_type": "execute_result"
    }
   ],
   "source": [
    ":prettyprint 1 + 2 = 3"
   ]
  },
  {
   "cell_type": "code",
   "execution_count": 3,
   "metadata": {},
   "outputs": [
    {
     "data": {
      "text/latex": [
       "$((\\{1\\} \\cap  \\{2\\}) \\cup  \\{3\\}) \\neq  \\emptyset $"
      ],
      "text/plain": [
       "(({1} ∩ {2}) ∪ {3}) ≠ ∅"
      ]
     },
     "execution_count": 3,
     "metadata": {},
     "output_type": "execute_result"
    }
   ],
   "source": [
    ":prettyprint {1} /\\ {2} \\/ {3} /= {}"
   ]
  }
 ],
 "metadata": {
  "kernelspec": {
   "display_name": "ProB 2",
   "language": "prob",
   "name": "prob2"
  },
  "language_info": {
   "codemirror_mode": "prob2_jupyter_repl",
   "file_extension": ".prob",
   "mimetype": "text/x-prob2-jupyter-repl",
   "name": "prob"
  }
 },
 "nbformat": 4,
 "nbformat_minor": 2
}
