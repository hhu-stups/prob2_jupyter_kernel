{
 "cells": [
  {
   "cell_type": "markdown",
   "metadata": {
    "slideshow": {
     "slide_type": "slide"
    }
   },
   "source": [
    "# Ein Jupyter Notebook-Kernel für ProB 2\n",
    "\n",
    "### David Geleßus\n",
    "### Bachelorarbeit"
   ]
  },
  {
   "cell_type": "markdown",
   "metadata": {
    "slideshow": {
     "slide_type": "skip"
    }
   },
   "source": [
    "TODO Mach das Fazit fertig!"
   ]
  },
  {
   "cell_type": "markdown",
   "metadata": {
    "slideshow": {
     "slide_type": "slide"
    }
   },
   "source": [
    "# Einführung: Notebooks, Jupyter"
   ]
  },
  {
   "cell_type": "markdown",
   "metadata": {
    "slideshow": {
     "slide_type": "subslide"
    }
   },
   "source": [
    "## Was ist ein Notebook?\n",
    "\n",
    "* Dokument mit Text und ausführbaren Code-Abschnitten\n",
    "* Code kann interaktiv ausgeführt werden\n",
    "* Ergebnisse erscheinen im Notebook unter dem jeweiligem Code\n",
    "* Ähnlich wie eine REPL (read-eval-print-loop), mit einigen Unterschieden:\n",
    "    * Code-Abschnitte können \"außer der Reihe\" bearbeitet und ausgeführt werden\n",
    "    * Ausgaben können formatierten Text und Grafiken enthalten\n",
    "    * Speicherbar als Datei\n",
    "    * Code kann später neu ausgeführt werden\n",
    "    * Weitergabe an andere Nutzer möglich\n",
    "* Implementierungen: Mathematica, Maple, Jupyter, u. a."
   ]
  },
  {
   "cell_type": "markdown",
   "metadata": {
    "slideshow": {
     "slide_type": "notes"
    }
   },
   "source": [
    "* Punkte zum Notebook-Konzept im Allgemeinen\n",
    "* Unabhängig von einer speziellen Implementierung\n",
    "* (Folie)"
   ]
  },
  {
   "cell_type": "markdown",
   "metadata": {
    "slideshow": {
     "slide_type": "subslide"
    }
   },
   "source": [
    "## Jupyter Notebook\n",
    "\n",
    "* Browserbasierte Notebook-Oberfläche\n",
    "* Open Source und plattformübergreifend\n",
    "* Stammt aus der Python-Community, in Python implementiert\n",
    "* Jupyter-Notebooks können aber verschiedene Programmiersprachen verwenden\n",
    "* Dazu trennt Jupyter strikt zwischen Frontend und Kernel:\n",
    "    * Das allgemeine **Frontend** implementiert z. B. Benutzeroberfläche und Dateiformat\n",
    "    * Ein sprachspezifischer **Kernel** stellt die Sprache dem Frontend zur Verfügung\n",
    "* Schnittstellen zwischen Frontend und Kernel sind sprachneutral\n",
    "    * Kernel können in (fast) jeder Sprache implementiert werden, kein Python-Code nötig"
   ]
  },
  {
   "cell_type": "markdown",
   "metadata": {
    "slideshow": {
     "slide_type": "skip"
    }
   },
   "source": [
    "## Architektur von Jupyter\n",
    "\n",
    "* **Frontend:** z. B. Jupyter Notebook\n",
    "    * Unabhängig davon, welche Programmiersprache im Notebook verwendet wird\n",
    "    * Implementiert z. B. Benutzeroberfläche und Notebook-Dateiformat\n",
    "    * Benutzt einen Kernel, um die Sprache für das Notebook anzusteuern\n",
    "* **Kernel:** z. B. ipykernel, IRkernel, IJulia, prob2-jupyter-kernel, uvm.\n",
    "    * Stellt einem Jupyter-Frontend eine Programmiersprache zur Verfügung\n",
    "    * Implementiert sprachneutrale Schnittstellen, die das Frontend aufrufen kann\n",
    "    * Kernel können in (fast) jeder Sprache geschrieben werden, kein Python-Code nötig"
   ]
  },
  {
   "cell_type": "markdown",
   "metadata": {
    "slideshow": {
     "slide_type": "skip"
    }
   },
   "source": [
    "## Warum Jupyter?\n",
    "\n",
    "* Solide Grundlage\n",
    "    * Dateiformat, Oberfläche, Tools, etc. existieren bereits\n",
    "    * Nur der Kernel muss selbst implementiert werden\n",
    "* Bewährtes und etabliertes Projekt\n",
    "    * Aktiv entwickelt seit mehr als 10 Jahren\n",
    "    * Wird in Lehre, Forschung, Industrie benutzt\n",
    "    * Eigene Implementierung wäre aufwendig und fehleranfällig\n",
    "* Kaum Alternativen\n",
    "    * Andere Notebook-Oberflächen sind schwer oder gar nicht erweiterbar"
   ]
  },
  {
   "cell_type": "markdown",
   "metadata": {
    "slideshow": {
     "slide_type": "skip"
    }
   },
   "source": [
    "* Jupyter bildet eine funktionsreiche Grundlage\n",
    "    * (Folie)\n",
    "    * Für einen lauffähigen Kernel müssen nur sehr wenige APIs implementiert werden, viele Teile optional\n",
    "* Jupyter ist bewährt und etabliert\n",
    "    * (Folie)\n",
    "* Nur wenige Alternativen\n",
    "    * Andere Notebook-Oberflächen (Mathematica, Maple, RMarkdown, etc.) sind auf eine Sprache ausgelegt oder schwer erweiterbar"
   ]
  },
  {
   "cell_type": "markdown",
   "metadata": {
    "slideshow": {
     "slide_type": "subslide"
    }
   },
   "source": [
    "## ProB\n",
    "\n",
    "* Werkzeug zur Animation, Verifikation und Visualisierung formeller Spezifikationen\n",
    "* Unterstützt hauptsächlich B-Spezifikationen (klassisches B, Event-B)\n",
    "* Versteht auch andere Sprachen wie TLA<sup>+</sup> und CSP<sub>M</sub>\n",
    "* Gemeinsamkeit: alle Sprachen modellieren zustandsbasierte Maschinen\n",
    "* ProBs APIs sind für alle Sprachen gleich\n",
    "    * Der ProB 2-Jupyter-Kernel unterstützt daher (fast) alle Sprachen, die ProB versteht"
   ]
  },
  {
   "cell_type": "markdown",
   "metadata": {
    "slideshow": {
     "slide_type": "skip"
    }
   },
   "source": [
    "## Architektur von ProB\n",
    "\n",
    "* **`probcli`:** Kern/Hauptteil von ProB\n",
    "    * Implementiert in SICStus Prolog\n",
    "    * Erlaubt Animation, Visualisierung, Verifikation von formellen Spezifikationen\n",
    "    * Unterstützt u. A. (klassisches) B, Event-B, TLA<sup>+</sup>, CSP<sub>M</sub>\n",
    "    * Kommandozeilentool oder interaktive REPL\n",
    "* **ProB 2-Java-API:** (aka ProB 2-Kernel; ≠ ProB 2-Jupyter-Kernel!)\n",
    "    * Objektorientierte Java-Schnittstelle für ProB\n",
    "    * Verwaltet automatisch eine oder mehrere `probcli`-Instanzen\n",
    "* **ProB 2-Jupyter-Kernel:** Jupyter-Kernel-Implementierung für ProB\n",
    "    * In Java implementiert\n",
    "    * Ansteuerung von ProB durch ProB 2-Java-API\n",
    "    * Kommunikation mit Jupyter durch Jupyter-JVM-BaseKernel"
   ]
  },
  {
   "cell_type": "markdown",
   "metadata": {
    "slideshow": {
     "slide_type": "slide"
    }
   },
   "source": [
    "# Funktionsweise"
   ]
  },
  {
   "cell_type": "markdown",
   "metadata": {
    "slideshow": {
     "slide_type": "subslide"
    }
   },
   "source": [
    "## Formeln auswerten\n",
    "\n",
    "* B-Ausdrücke auswerten und Prädikate lösen wie in `probcli -repl`"
   ]
  },
  {
   "cell_type": "code",
   "execution_count": 1,
   "metadata": {
    "slideshow": {
     "slide_type": "-"
    }
   },
   "outputs": [
    {
     "data": {
      "text/markdown": [
       "$\\{2,3,5,7,11,13,17,19,23,29,31,37,41,43,47\\}$"
      ],
      "text/plain": [
       "{2,3,5,7,11,13,17,19,23,29,31,37,41,43,47}"
      ]
     },
     "execution_count": 1,
     "metadata": {},
     "output_type": "execute_result"
    }
   ],
   "source": [
    "{x | x > 1 & x < 50 & not(#y.(y > 1 & y < x & x mod y = 0))}"
   ]
  },
  {
   "cell_type": "code",
   "execution_count": 2,
   "metadata": {
    "slideshow": {
     "slide_type": "-"
    }
   },
   "outputs": [
    {
     "data": {
      "text/markdown": [
       "$\\mathit{TRUE}$\n",
       "\n",
       "**Solution:**\n",
       "* $\\mathit{xx} = 3$\n",
       "* $\\mathit{yy} = 4$"
      ],
      "text/plain": [
       "TRUE\n",
       "\n",
       "Solution:\n",
       "\txx = 3\n",
       "\tyy = 4"
      ]
     },
     "execution_count": 2,
     "metadata": {},
     "output_type": "execute_result"
    }
   ],
   "source": [
    "xx > 2 & yy < 5 & xx < yy"
   ]
  },
  {
   "cell_type": "code",
   "execution_count": 3,
   "metadata": {
    "slideshow": {
     "slide_type": "-"
    }
   },
   "outputs": [
    {
     "data": {
      "text/markdown": [
       "$\\mathit{FALSE}$"
      ],
      "text/plain": [
       "FALSE"
      ]
     },
     "execution_count": 3,
     "metadata": {},
     "output_type": "execute_result"
    }
   ],
   "source": [
    "xx > 0 & xx < 0"
   ]
  },
  {
   "cell_type": "markdown",
   "metadata": {
    "slideshow": {
     "slide_type": "notes"
    }
   },
   "source": [
    "* (Folie)\n",
    "* Beispielhaft ein Ausdruck (Menge aller Primzahlen < 50), ein wahres und ein falsches Prädikat"
   ]
  },
  {
   "cell_type": "markdown",
   "metadata": {
    "slideshow": {
     "slide_type": "subslide"
    }
   },
   "source": [
    "* Einfache mehrzeilige Eingaben\n",
    "    * Kein Escaping der Newlines nötig"
   ]
  },
  {
   "cell_type": "code",
   "execution_count": 4,
   "metadata": {
    "slideshow": {
     "slide_type": "-"
    }
   },
   "outputs": [
    {
     "data": {
      "text/markdown": [
       "$\\mathit{TRUE}$\n",
       "\n",
       "**Solution:**\n",
       "* $\\mathit{R} = 8$\n",
       "* $\\mathit{S} = 9$\n",
       "* $\\mathit{D} = 7$\n",
       "* $\\mathit{E} = 5$\n",
       "* $\\mathit{Y} = 2$\n",
       "* $\\mathit{M} = 1$\n",
       "* $\\mathit{N} = 6$\n",
       "* $\\mathit{O} = 0$"
      ],
      "text/plain": [
       "TRUE\n",
       "\n",
       "Solution:\n",
       "\tR = 8\n",
       "\tS = 9\n",
       "\tD = 7\n",
       "\tE = 5\n",
       "\tY = 2\n",
       "\tM = 1\n",
       "\tN = 6\n",
       "\tO = 0"
      ]
     },
     "execution_count": 4,
     "metadata": {},
     "output_type": "execute_result"
    }
   ],
   "source": [
    "{S, E, N, D, M, O, R, Y} <: 0..9\n",
    "& S > 0 & M > 0\n",
    "& card({S, E, N, D, M, O, R, Y}) = 8\n",
    "&\n",
    "            S*1000 + E*100 + N*10 + D\n",
    "+           M*1000 + O*100 + R*10 + E\n",
    "= M*10000 + O*1000 + N*100 + E*10 + Y"
   ]
  },
  {
   "cell_type": "markdown",
   "metadata": {
    "slideshow": {
     "slide_type": "notes"
    }
   },
   "source": [
    "* \"SEND+MORE=MONEY\"-Puzzle als komplexeres Beispiel\n",
    "* (Folie)"
   ]
  },
  {
   "cell_type": "markdown",
   "metadata": {
    "slideshow": {
     "slide_type": "subslide"
    }
   },
   "source": [
    "## Formatierte Ausgabe\n",
    "\n",
    "* Ergebnisse werden als $\\LaTeX$-Formel formatiert"
   ]
  },
  {
   "cell_type": "code",
   "execution_count": 5,
   "metadata": {
    "slideshow": {
     "slide_type": "-"
    }
   },
   "outputs": [
    {
     "data": {
      "text/markdown": [
       "$\\newcommand{\\qdot}{\\mathord{\\mkern1mu\\cdot\\mkern1mu}}\\lambda \\_succ\\_\\qdot(\\_succ\\_ \\in \\mathit{INTEGER}\\mid \\_succ\\_ + 1)$"
      ],
      "text/plain": [
       "λ_succ_·(_succ_ ∈ INTEGER∣_succ_ + 1)"
      ]
     },
     "execution_count": 5,
     "metadata": {},
     "output_type": "execute_result"
    }
   ],
   "source": [
    "succ"
   ]
  },
  {
   "cell_type": "markdown",
   "metadata": {
    "slideshow": {
     "slide_type": "fragment"
    }
   },
   "source": [
    "* Ausgabe als Tabelle mit dem `:table`-Kommando möglich (für Mengen von Tupeln)"
   ]
  },
  {
   "cell_type": "code",
   "execution_count": 6,
   "metadata": {
    "slideshow": {
     "slide_type": "-"
    }
   },
   "outputs": [
    {
     "data": {
      "text/markdown": [
       "|x|y|z|\n",
       "|---|---|---|\n",
       "|$2$|$4$|$8$|\n",
       "|$3$|$9$|$27$|\n",
       "|$4$|$16$|$64$|\n",
       "|$5$|$25$|$125$|\n",
       "|$6$|$36$|$216$|\n",
       "|$7$|$49$|$343$|\n",
       "|$8$|$64$|$512$|\n",
       "|$9$|$81$|$729$|\n",
       "|$10$|$100$|$1000$|\n"
      ],
      "text/plain": [
       "x\ty\tz\n",
       "2\t4\t8\n",
       "3\t9\t27\n",
       "4\t16\t64\n",
       "5\t25\t125\n",
       "6\t36\t216\n",
       "7\t49\t343\n",
       "8\t64\t512\n",
       "9\t81\t729\n",
       "10\t100\t1000\n"
      ]
     },
     "execution_count": 6,
     "metadata": {},
     "output_type": "execute_result"
    }
   ],
   "source": [
    ":table {x, y, z | x > 1 & x <= 10 & y = x**2 & z = x**3}"
   ]
  },
  {
   "cell_type": "markdown",
   "metadata": {
    "slideshow": {
     "slide_type": "notes"
    }
   },
   "source": [
    "* (Folie)\n",
    "* Fällt bei einfachen Ergebnissen wenig auf, eher bei symbolischen Ausdrücken sichtbar\n",
    "* Beispiel: Nachfolgerfunktion $\\mathit{succ}$, von ProB als Lambda definiert\n",
    "\n",
    "\n",
    "* Andere Ausgabeformate sind auch möglich\n",
    "* (Folie)\n",
    "* Mit dieser Doppelpunkt-Syntax können \"Kommandos\" aufgerufen werden\n",
    "* Damit können Funktionen benutzt werden, die nicht als B-Formel ausdrückbar sind"
   ]
  },
  {
   "cell_type": "markdown",
   "metadata": {
    "slideshow": {
     "slide_type": "subslide"
    }
   },
   "source": [
    "## Arbeiten mit Maschinen\n",
    "\n",
    "* Eine B-Maschine kann mit `::load` direkt im Notebook geschrieben werden\n",
    "* Laden von separaten Maschinendateien auch möglich"
   ]
  },
  {
   "cell_type": "code",
   "execution_count": 7,
   "metadata": {
    "slideshow": {
     "slide_type": "-"
    }
   },
   "outputs": [
    {
     "data": {
      "text/plain": [
       "Loaded machine: Counter"
      ]
     },
     "execution_count": 7,
     "metadata": {},
     "output_type": "execute_result"
    }
   ],
   "source": [
    "::load\n",
    "MACHINE Counter\n",
    "VARIABLES count\n",
    "INVARIANT count : NAT\n",
    "INITIALISATION count := 0\n",
    "OPERATIONS\n",
    "    inc(n) = PRE n > 0 THEN count := count + n END;\n",
    "    dec(n) = PRE n > 0 & count >= n THEN count := count - n END\n",
    "END"
   ]
  },
  {
   "cell_type": "markdown",
   "metadata": {
    "slideshow": {
     "slide_type": "notes"
    }
   },
   "source": [
    "* (Folie)\n",
    "* Erlaubt einfaches Entwickeln, Ändern und Testen von Maschinen in einem Notebook\n",
    "* Separate Maschinendateien können auch geladen werden\n",
    "    * Erlaubt größere Maschinen, oder solche die sich auf andere Dateien beziehen\n",
    "    * Unterstützt B, Event-B, TLA<sup>+</sup>, und CSP<sub>M</sub>"
   ]
  },
  {
   "cell_type": "code",
   "execution_count": 8,
   "metadata": {
    "slideshow": {
     "slide_type": "subslide"
    }
   },
   "outputs": [
    {
     "ename": "CommandExecutionException",
     "evalue": ":eval: NOT-INITIALISED",
     "output_type": "error",
     "traceback": [
      "\u001b[1m\u001b[31m:eval: NOT-INITIALISED\u001b[0m"
     ]
    }
   ],
   "source": [
    "count"
   ]
  },
  {
   "cell_type": "code",
   "execution_count": 9,
   "metadata": {
    "slideshow": {
     "slide_type": "-"
    }
   },
   "outputs": [
    {
     "data": {
      "text/plain": [
       "Machine initialised using operation 0: $initialise_machine()"
      ]
     },
     "execution_count": 9,
     "metadata": {},
     "output_type": "execute_result"
    }
   ],
   "source": [
    ":init"
   ]
  },
  {
   "cell_type": "code",
   "execution_count": 10,
   "metadata": {
    "slideshow": {
     "slide_type": "-"
    }
   },
   "outputs": [
    {
     "data": {
      "text/markdown": [
       "$0$"
      ],
      "text/plain": [
       "0"
      ]
     },
     "execution_count": 10,
     "metadata": {},
     "output_type": "execute_result"
    }
   ],
   "source": [
    "count"
   ]
  },
  {
   "cell_type": "markdown",
   "metadata": {
    "slideshow": {
     "slide_type": "notes"
    }
   },
   "source": [
    "* Variablen etc. können evaluiert werden\n",
    "* `count` hat vor Initialisierung keinen Wert\n",
    "* `:init` initialisiert die Maschine\n",
    "* `count`-Variable hat nun ihren Initialwert\n",
    "* (Formeln werden immer im aktuellen Zustand der Maschine ausgewertet)"
   ]
  },
  {
   "cell_type": "markdown",
   "metadata": {
    "slideshow": {
     "slide_type": "subslide"
    }
   },
   "source": [
    "### Ausführen von Operationen"
   ]
  },
  {
   "cell_type": "code",
   "execution_count": 11,
   "metadata": {
    "slideshow": {
     "slide_type": "-"
    }
   },
   "outputs": [
    {
     "data": {
      "text/plain": [
       "Executed operation: inc(1)"
      ]
     },
     "execution_count": 11,
     "metadata": {},
     "output_type": "execute_result"
    }
   ],
   "source": [
    ":exec inc n=1"
   ]
  },
  {
   "cell_type": "code",
   "execution_count": 12,
   "metadata": {
    "slideshow": {
     "slide_type": "-"
    }
   },
   "outputs": [
    {
     "data": {
      "text/markdown": [
       "$1$"
      ],
      "text/plain": [
       "1"
      ]
     },
     "execution_count": 12,
     "metadata": {},
     "output_type": "execute_result"
    }
   ],
   "source": [
    "count"
   ]
  },
  {
   "cell_type": "code",
   "execution_count": 13,
   "metadata": {
    "slideshow": {
     "slide_type": "-"
    }
   },
   "outputs": [
    {
     "ename": "IllegalArgumentException",
     "evalue": "Executing operation dec with predicate n=5 produced errors: Could not execute operation dec with additional predicate",
     "output_type": "error",
     "traceback": [
      "\u001b[1m\u001b[31mjava.lang.IllegalArgumentException: Executing operation dec with predicate n=5 produced errors: Could not execute operation dec with additional predicate\u001b[0m"
     ]
    }
   ],
   "source": [
    ":exec dec n=5"
   ]
  },
  {
   "cell_type": "code",
   "execution_count": 14,
   "metadata": {},
   "outputs": [
    {
     "data": {
      "text/markdown": [
       "* -1: Root state\n",
       "* 0: `INITIALISATION()`\n",
       "* 1: `inc(1)` **(current)**"
      ],
      "text/plain": [
       "-1: Root state\n",
       "0: INITIALISATION()\n",
       "1: inc(1) (current)"
      ]
     },
     "execution_count": 14,
     "metadata": {},
     "output_type": "execute_result"
    }
   ],
   "source": [
    ":trace"
   ]
  },
  {
   "cell_type": "markdown",
   "metadata": {
    "slideshow": {
     "slide_type": "notes"
    }
   },
   "source": [
    "* Hier werden beispielhaft ein paar Operationen ausgeführt\n",
    "* Der Wert der Variable ändert sich\n",
    "* Parameter werden als Prädikat übergeben\n",
    "    * Hier sehr einfach, komplexere Prädikate auch möglich\n",
    "* Nicht mögliche Operationen ergeben einen Fehler\n",
    "* `:trace` zeigt den Operations-/Zustandsverlauf an"
   ]
  },
  {
   "cell_type": "markdown",
   "metadata": {
    "slideshow": {
     "slide_type": "subslide"
    }
   },
   "source": [
    "## Visualisierung mit `dot`"
   ]
  },
  {
   "cell_type": "code",
   "execution_count": 15,
   "metadata": {
    "scrolled": false,
    "slideshow": {
     "slide_type": "-"
    }
   },
   "outputs": [
    {
     "data": {
      "image/svg+xml": [
       "<?xml version=\"1.0\" encoding=\"UTF-8\" standalone=\"no\"?>\n",
       "<!DOCTYPE svg PUBLIC \"-//W3C//DTD SVG 1.1//EN\"\n",
       " \"http://www.w3.org/Graphics/SVG/1.1/DTD/svg11.dtd\">\n",
       "<!-- Generated by graphviz version 2.40.1 (20161225.0304)\n",
       " -->\n",
       "<!-- Title: visited_states Pages: 1 -->\n",
       "<svg width=\"632pt\" height=\"339pt\"\n",
       " viewBox=\"0.00 0.00 632.27 339.30\" xmlns=\"http://www.w3.org/2000/svg\" xmlns:xlink=\"http://www.w3.org/1999/xlink\">\n",
       "<g id=\"graph0\" class=\"graph\" transform=\"scale(1 1) rotate(0) translate(4 335.2991)\">\n",
       "<title>visited_states</title>\n",
       "<polygon fill=\"#ffffff\" stroke=\"transparent\" points=\"-4,4 -4,-335.2991 628.274,-335.2991 628.274,4 -4,4\"/>\n",
       "<!-- root -->\n",
       "<g id=\"node1\" class=\"node\">\n",
       "<title>root</title>\n",
       "<path fill=\"#f4e3c1\" stroke=\"#f4e3c1\" stroke-width=\"2\" d=\"M35.4853,-303.568C35.4853,-303.568 45.5147,-313.5975 45.5147,-313.5975 49.7574,-317.8401 48,-322.0827 42,-322.0827 42,-322.0827 12,-322.0827 12,-322.0827 6,-322.0827 4.2426,-317.8401 8.4853,-313.5975 8.4853,-313.5975 18.5147,-303.568 18.5147,-303.568 22.7574,-299.3254 31.2426,-299.3254 35.4853,-303.568\"/>\n",
       "</g>\n",
       "<!-- 0 -->\n",
       "<g id=\"node2\" class=\"node\">\n",
       "<title>0</title>\n",
       "<path fill=\"#99bf38\" stroke=\"#99bf38\" stroke-width=\"2\" d=\"M233.3783,-202.5396C233.3783,-202.5396 203.3783,-202.5396 203.3783,-202.5396 197.3783,-202.5396 191.3783,-196.5396 191.3783,-190.5396 191.3783,-190.5396 191.3783,-178.5396 191.3783,-178.5396 191.3783,-172.5396 197.3783,-166.5396 203.3783,-166.5396 203.3783,-166.5396 233.3783,-166.5396 233.3783,-166.5396 239.3783,-166.5396 245.3783,-172.5396 245.3783,-178.5396 245.3783,-178.5396 245.3783,-190.5396 245.3783,-190.5396 245.3783,-196.5396 239.3783,-202.5396 233.3783,-202.5396\"/>\n",
       "</g>\n",
       "<!-- root&#45;&gt;0 -->\n",
       "<g id=\"edge1\" class=\"edge\">\n",
       "<title>root&#45;&gt;0</title>\n",
       "<path fill=\"none\" stroke=\"#000000\" stroke-dasharray=\"1,5\" d=\"M37.8377,-305.8034C65.3399,-287.331 138.7919,-237.9955 183.0726,-208.2534\"/>\n",
       "<polygon fill=\"#000000\" stroke=\"#000000\" points=\"185.1678,-211.0624 191.5176,-202.5812 181.2648,-205.2515 185.1678,-211.0624\"/>\n",
       "<text text-anchor=\"middle\" x=\"64.4552\" y=\"-260.4284\" font-family=\"Times,serif\" font-size=\"12.00\" fill=\"#000000\">INITIALISATION</text>\n",
       "</g>\n",
       "<!-- 1 -->\n",
       "<g id=\"node3\" class=\"node\">\n",
       "<title>1</title>\n",
       "<path fill=\"#99bf38\" stroke=\"#99bf38\" stroke-width=\"2\" d=\"M432.3938,-182.4294C432.3938,-182.4294 432.3938,-187.4 432.3938,-187.4 432.3938,-189.8852 430.3259,-193.7491 428.258,-195.1277 428.258,-195.1277 420.7133,-200.1575 420.7133,-200.1575 418.6454,-201.5361 414.0923,-202.9147 411.607,-202.9147 411.607,-202.9147 399.1806,-202.9147 399.1806,-202.9147 396.6953,-202.9147 392.1421,-201.5361 390.0743,-200.1575 390.0743,-200.1575 382.5295,-195.1277 382.5295,-195.1277 380.4617,-193.7491 378.3938,-189.8852 378.3938,-187.4 378.3938,-187.4 378.3938,-182.4294 378.3938,-182.4294 378.3938,-179.9441 380.4617,-176.0802 382.5295,-174.7017 382.5295,-174.7017 390.0743,-169.6718 390.0743,-169.6718 392.1421,-168.2933 396.6953,-166.9147 399.1806,-166.9147 399.1806,-166.9147 411.607,-166.9147 411.607,-166.9147 414.0923,-166.9147 418.6454,-168.2933 420.7133,-169.6718 420.7133,-169.6718 428.258,-174.7017 428.258,-174.7017 430.3259,-176.0802 432.3938,-179.9441 432.3938,-182.4294\"/>\n",
       "<path fill=\"none\" stroke=\"#99bf38\" stroke-width=\"2\" d=\"M436.3938,-181.7158C436.3938,-181.7158 436.3938,-188.1135 436.3938,-188.1135 436.3938,-191.3124 433.7322,-196.2857 431.0706,-198.0601 431.0706,-198.0601 423.1119,-203.3659 423.1119,-203.3659 420.4503,-205.1403 414.5898,-206.9147 411.3909,-206.9147 411.3909,-206.9147 399.3966,-206.9147 399.3966,-206.9147 396.1978,-206.9147 390.3373,-205.1403 387.6757,-203.3659 387.6757,-203.3659 379.717,-198.0601 379.717,-198.0601 377.0554,-196.2857 374.3938,-191.3124 374.3938,-188.1135 374.3938,-188.1135 374.3938,-181.7158 374.3938,-181.7158 374.3938,-178.517 377.0554,-173.5437 379.717,-171.7693 379.717,-171.7693 387.6757,-166.4635 387.6757,-166.4635 390.3373,-164.6891 396.1978,-162.9147 399.3966,-162.9147 399.3966,-162.9147 411.3909,-162.9147 411.3909,-162.9147 414.5898,-162.9147 420.4503,-164.6891 423.1119,-166.4635 423.1119,-166.4635 431.0706,-171.7693 431.0706,-171.7693 433.7322,-173.5437 436.3938,-178.517 436.3938,-181.7158\"/>\n",
       "</g>\n",
       "<!-- 0&#45;&gt;1 -->\n",
       "<g id=\"edge2\" class=\"edge\">\n",
       "<title>0&#45;&gt;1</title>\n",
       "<path fill=\"none\" stroke=\"#006391\" d=\"M226.8635,-202.7476C254.5207,-229.2456 342.6452,-232.3585 383.8151,-211.871\"/>\n",
       "<polygon fill=\"#006391\" stroke=\"#006391\" points=\"385.748,-214.7932 392.5303,-206.6537 382.1525,-208.7871 385.748,-214.7932\"/>\n",
       "<text text-anchor=\"middle\" x=\"290.8393\" y=\"-210.7093\" font-family=\"Times,serif\" font-size=\"12.00\" fill=\"#000000\">inc(1)</text>\n",
       "</g>\n",
       "<!-- 2 -->\n",
       "<g id=\"node4\" class=\"node\">\n",
       "<title>2</title>\n",
       "<path fill=\"#f4e3c1\" stroke=\"#f4e3c1\" stroke-width=\"2\" d=\"M231.3415,-36C231.3415,-36 201.3415,-36 201.3415,-36 195.3415,-36 189.3415,-30 189.3415,-24 189.3415,-24 189.3415,-12 189.3415,-12 189.3415,-6 195.3415,0 201.3415,0 201.3415,0 231.3415,0 231.3415,0 237.3415,0 243.3415,-6 243.3415,-12 243.3415,-12 243.3415,-24 243.3415,-24 243.3415,-30 237.3415,-36 231.3415,-36\"/>\n",
       "</g>\n",
       "<!-- 0&#45;&gt;2 -->\n",
       "<g id=\"edge3\" class=\"edge\">\n",
       "<title>0&#45;&gt;2</title>\n",
       "<path fill=\"none\" stroke=\"#006391\" d=\"M218.1565,-166.4C217.8029,-137.4931 217.1089,-80.7458 216.689,-46.413\"/>\n",
       "<polygon fill=\"#006391\" stroke=\"#006391\" points=\"220.1852,-46.0737 216.563,-36.1173 213.1857,-46.1594 220.1852,-46.0737\"/>\n",
       "<text text-anchor=\"middle\" x=\"202.9227\" y=\"-109.8065\" font-family=\"Times,serif\" font-size=\"12.00\" fill=\"#000000\">inc(2)</text>\n",
       "</g>\n",
       "<!-- 3 -->\n",
       "<g id=\"node5\" class=\"node\">\n",
       "<title>3</title>\n",
       "<path fill=\"#f4e3c1\" stroke=\"#f4e3c1\" stroke-width=\"2\" d=\"M423.5475,-36.0447C423.5475,-36.0447 393.5475,-36.0447 393.5475,-36.0447 387.5475,-36.0447 381.5475,-30.0447 381.5475,-24.0447 381.5475,-24.0447 381.5475,-12.0447 381.5475,-12.0447 381.5475,-6.0447 387.5475,-.0447 393.5475,-.0447 393.5475,-.0447 423.5475,-.0447 423.5475,-.0447 429.5475,-.0447 435.5475,-6.0447 435.5475,-12.0447 435.5475,-12.0447 435.5475,-24.0447 435.5475,-24.0447 435.5475,-30.0447 429.5475,-36.0447 423.5475,-36.0447\"/>\n",
       "</g>\n",
       "<!-- 0&#45;&gt;3 -->\n",
       "<g id=\"edge4\" class=\"edge\">\n",
       "<title>0&#45;&gt;3</title>\n",
       "<path fill=\"none\" stroke=\"#006391\" d=\"M239.0918,-166.4048C273.2433,-136.5048 341.4253,-76.8108 380.0817,-42.9667\"/>\n",
       "<polygon fill=\"#006391\" stroke=\"#006391\" points=\"382.6412,-45.3778 387.8595,-36.1571 378.0301,-40.111 382.6412,-45.3778\"/>\n",
       "<text text-anchor=\"middle\" x=\"295.0867\" y=\"-108.0858\" font-family=\"Times,serif\" font-size=\"12.00\" fill=\"#000000\">inc(3)</text>\n",
       "</g>\n",
       "<!-- 1&#45;&gt;0 -->\n",
       "<g id=\"edge8\" class=\"edge\">\n",
       "<title>1&#45;&gt;0</title>\n",
       "<path fill=\"none\" stroke=\"#006391\" d=\"M392.5831,-163.0989C359.6143,-138.9452 271.8508,-137.9397 235.018,-160.2945\"/>\n",
       "<polygon fill=\"#006391\" stroke=\"#006391\" points=\"232.6915,-157.6653 226.8155,-166.4814 236.9068,-163.2539 232.6915,-157.6653\"/>\n",
       "<text text-anchor=\"middle\" x=\"298.3006\" y=\"-165.0967\" font-family=\"Times,serif\" font-size=\"12.00\" fill=\"#000000\">dec(1)</text>\n",
       "</g>\n",
       "<!-- 1&#45;&gt;2 -->\n",
       "<g id=\"edge5\" class=\"edge\">\n",
       "<title>1&#45;&gt;2</title>\n",
       "<path fill=\"none\" stroke=\"#006391\" d=\"M385.5192,-167.3674C351.7983,-137.5951 283.2785,-77.0988 244.5862,-42.9374\"/>\n",
       "<polygon fill=\"#006391\" stroke=\"#006391\" points=\"246.6186,-40.0628 236.8057,-36.068 241.9856,-45.3102 246.6186,-40.0628\"/>\n",
       "<text text-anchor=\"middle\" x=\"329.5527\" y=\"-108.5524\" font-family=\"Times,serif\" font-size=\"12.00\" fill=\"#000000\">inc(1)</text>\n",
       "</g>\n",
       "<!-- 1&#45;&gt;3 -->\n",
       "<g id=\"edge6\" class=\"edge\">\n",
       "<title>1&#45;&gt;3</title>\n",
       "<path fill=\"none\" stroke=\"#006391\" d=\"M405.8126,-162.7556C406.3786,-132.8065 407.3882,-79.3817 408.0097,-46.4967\"/>\n",
       "<polygon fill=\"#006391\" stroke=\"#006391\" points=\"411.5147,-46.2598 408.2044,-36.1955 404.516,-46.1275 411.5147,-46.2598\"/>\n",
       "<text text-anchor=\"middle\" x=\"392.4111\" y=\"-108.0262\" font-family=\"Times,serif\" font-size=\"12.00\" fill=\"#000000\">inc(2)</text>\n",
       "</g>\n",
       "<!-- 4 -->\n",
       "<g id=\"node6\" class=\"node\">\n",
       "<title>4</title>\n",
       "<path fill=\"#f4e3c1\" stroke=\"#f4e3c1\" stroke-width=\"2\" d=\"M612.274,-331.2991C612.274,-331.2991 582.274,-331.2991 582.274,-331.2991 576.274,-331.2991 570.274,-325.2991 570.274,-319.2991 570.274,-319.2991 570.274,-307.2991 570.274,-307.2991 570.274,-301.2991 576.274,-295.2991 582.274,-295.2991 582.274,-295.2991 612.274,-295.2991 612.274,-295.2991 618.274,-295.2991 624.274,-301.2991 624.274,-307.2991 624.274,-307.2991 624.274,-319.2991 624.274,-319.2991 624.274,-325.2991 618.274,-331.2991 612.274,-331.2991\"/>\n",
       "</g>\n",
       "<!-- 1&#45;&gt;4 -->\n",
       "<g id=\"edge7\" class=\"edge\">\n",
       "<title>1&#45;&gt;4</title>\n",
       "<path fill=\"none\" stroke=\"#006391\" d=\"M428.1585,-200.1462C461.1989,-222.2531 522.7465,-263.4338 561.7769,-289.5485\"/>\n",
       "<polygon fill=\"#006391\" stroke=\"#006391\" points=\"559.9665,-292.5484 570.2241,-295.2004 563.8592,-286.7305 559.9665,-292.5484\"/>\n",
       "<text text-anchor=\"middle\" x=\"480.4677\" y=\"-248.2474\" font-family=\"Times,serif\" font-size=\"12.00\" fill=\"#000000\">inc(3)</text>\n",
       "</g>\n",
       "</g>\n",
       "</svg>"
      ],
      "text/plain": [
       "<Dot visualization: state_space_sfdp []>"
      ]
     },
     "execution_count": 15,
     "metadata": {},
     "output_type": "execute_result"
    }
   ],
   "source": [
    ":dot state_space_sfdp"
   ]
  },
  {
   "cell_type": "markdown",
   "metadata": {
    "slideshow": {
     "slide_type": "notes"
    }
   },
   "source": [
    "* Die `dot`-Visualisierungen von ProB können in Notebooks verwendet werden\n",
    "* Hier wird z. B. der Zustandsraum angezeigt\n",
    "* Die generierte Grafik erscheint direkt als Ergebnis im Notebook\n",
    "* Kein eigenes Fenster oder Öffnen einer Datei nötig\n",
    "* `ANIMATION_FUNCTION` wird auch unterstützt"
   ]
  },
  {
   "cell_type": "markdown",
   "metadata": {
    "slideshow": {
     "slide_type": "subslide"
    }
   },
   "source": [
    "## Groovy\n",
    "\n",
    "* Die ProB 2-Groovy-Umgebung ist mit dem `:groovy`-Kommando zugänglich\n",
    "* Erlaubt Zugang zu beliebigen Methoden aus der ProB 2-API"
   ]
  },
  {
   "cell_type": "code",
   "execution_count": 16,
   "metadata": {},
   "outputs": [
    {
     "data": {
      "text/plain": [
       "null"
      ]
     },
     "execution_count": 16,
     "metadata": {},
     "output_type": "execute_result"
    }
   ],
   "source": [
    ":groovy\n",
    "def newTrace = animations.currentTrace.randomAnimation(5)\n",
    "animations.changeCurrentAnimation(newTrace)"
   ]
  },
  {
   "cell_type": "code",
   "execution_count": 17,
   "metadata": {},
   "outputs": [
    {
     "data": {
      "text/markdown": [
       "* -1: Root state\n",
       "* 0: `INITIALISATION()`\n",
       "* 1: `inc(1)`\n",
       "* 2: `inc`\n",
       "* 3: `dec`\n",
       "* 4: `inc`\n",
       "* 5: `dec`\n",
       "* 6: `inc` **(current)**"
      ],
      "text/plain": [
       "-1: Root state\n",
       "0: INITIALISATION()\n",
       "1: inc(1)\n",
       "2: inc\n",
       "3: dec\n",
       "4: inc\n",
       "5: dec\n",
       "6: inc (current)"
      ]
     },
     "execution_count": 17,
     "metadata": {},
     "output_type": "execute_result"
    }
   ],
   "source": [
    ":trace"
   ]
  },
  {
   "cell_type": "markdown",
   "metadata": {
    "slideshow": {
     "slide_type": "notes"
    }
   },
   "source": [
    "* (Folie)\n",
    "* Ermöglicht Benutzung von Funktionen, für die der Kernel noch kein eingebautes Kommando hat\n",
    "* Auch für fortgeschrittene APIs/Skripting verwendbar (z. B. mehrere `Trace`s)\n",
    "* Auch Hilfswerkzeug zum Debuggen des Kernels"
   ]
  },
  {
   "cell_type": "markdown",
   "metadata": {
    "slideshow": {
     "slide_type": "subslide"
    }
   },
   "source": [
    "## Syntax-Hervorhebung\n",
    "\n",
    "![Screenshot 1](syntaxhighlighting1.png)\n",
    "\n",
    "![Screenshot 2](syntaxhighlighting2.png)"
   ]
  },
  {
   "cell_type": "markdown",
   "metadata": {
    "slideshow": {
     "slide_type": "notes"
    }
   },
   "source": [
    "evtl. das echte Notebook zeigen?\n",
    "\n",
    "* Der Kernel kümmert sich nicht nur um das Ausführen von Eingaben\n",
    "* Es werden auch einige Sonderfunktionen der Notebook-Oberfläche unterstützt\n",
    "* z. B. Syntax-Hervorhebung für B-Ausdrücke und Maschinen, sowie `:`-Kommandos\n",
    "* hier Screenshots aus der Notebook-Oberfläche von einer Formel und einer Maschine"
   ]
  },
  {
   "cell_type": "markdown",
   "metadata": {
    "slideshow": {
     "slide_type": "subslide"
    }
   },
   "source": [
    "## Code-Vervollständigung\n",
    "\n",
    "* Tab-Taste in Jupyter Notebook\n",
    "* Unterstützt z. B. Kommandos und B-Schlüsselwörter und -Bezeichner\n",
    "\n",
    "![Screenshot 1](codecompletion1.png) ![Screenshot 2](codecompletion2.png)"
   ]
  },
  {
   "cell_type": "markdown",
   "metadata": {
    "slideshow": {
     "slide_type": "notes"
    }
   },
   "source": [
    "* (Folie)\n",
    "* Vorschläge werden vom ProB 2-Jupyter-Kernel dem Jupyter bereitgestellt"
   ]
  },
  {
   "cell_type": "markdown",
   "metadata": {
    "slideshow": {
     "slide_type": "subslide"
    }
   },
   "source": [
    "## Inspektion\n",
    "\n",
    "* Shift+Tab in Jupyter Notebook\n",
    "* Zeigt Informationen zu einem Teil des Codes an, z. B.:\n",
    "    * Für B-Variablen: Typ und Wert\n",
    "    * Für Kommandos: Hilfetext\n",
    "\n",
    "![Screenshot 1](inspect1.png)\n",
    "\n",
    "![Screenshot 2](inspect2.png)"
   ]
  },
  {
   "cell_type": "markdown",
   "metadata": {
    "slideshow": {
     "slide_type": "notes"
    }
   },
   "source": [
    "* (Folie)\n",
    "* Einige andere Elemente unterstützten auch Inspektion (z. B. Präferenzen)"
   ]
  },
  {
   "cell_type": "markdown",
   "metadata": {
    "slideshow": {
     "slide_type": "subslide"
    }
   },
   "source": [
    "## Weitere Funktionen"
   ]
  },
  {
   "cell_type": "code",
   "execution_count": 18,
   "metadata": {
    "scrolled": true
   },
   "outputs": [
    {
     "data": {
      "text/markdown": [
       "Type a valid B expression, or one of the following commands:\n",
       "\n",
       "* `::load` Load the machine source code given in the cell body.\n",
       "* `::render` Render some content with the specified MIME type.\n",
       "* `:assert` Ensure that the predicate is true, and show an error otherwise.\n",
       "* `:browse` Show information about the current state.\n",
       "* `:check` Check the machine's properties, invariant, or assertions in the current state.\n",
       "* `:constants` Set up the current machine's constants.\n",
       "* `:dot` Execute and show a dot visualisation.\n",
       "* `:eval` Evaluate a formula and display the result.\n",
       "* `:exec` Execute an operation.\n",
       "* `:find` Try to find a state for which the given predicate is true (in addition to the machine's invariant).\n",
       "* `:goto` Go to the state with the specified index in the current trace.\n",
       "* `:groovy` Evaluate the given Groovy expression.\n",
       "* `:help` Display help for a specific command, or general help about the REPL.\n",
       "* `:init` Initialise the current machine with the specified predicate\n",
       "* `:let` Evaluate an expression and store it in a local variable.\n",
       "* `:load` Load the machine from the given path.\n",
       "* `:pref` View or change the value of one or more preferences.\n",
       "* `:prettyprint` Pretty-print a predicate.\n",
       "* `:show` Show the machine's animation function visualisation for the current state.\n",
       "* `:solve` Solve a predicate with the specified solver.\n",
       "* `:stats` Show statistics about the state space.\n",
       "* `:table` Display an expression as a table.\n",
       "* `:time` Execute the given command and measure how long it takes to execute.\n",
       "* `:trace` Display all states and transitions in the current trace.\n",
       "* `:type` Display the type of a formula.\n",
       "* `:unlet` Remove a local variable.\n",
       "* `:version` Display version info about the ProB CLI and ProB 2.\n"
      ],
      "text/plain": [
       "Type a valid B expression, or one of the following commands:\n",
       "::load Load the machine source code given in the cell body.\n",
       "::render Render some content with the specified MIME type.\n",
       ":assert Ensure that the predicate is true, and show an error otherwise.\n",
       ":browse Show information about the current state.\n",
       ":check Check the machine's properties, invariant, or assertions in the current state.\n",
       ":constants Set up the current machine's constants.\n",
       ":dot Execute and show a dot visualisation.\n",
       ":eval Evaluate a formula and display the result.\n",
       ":exec Execute an operation.\n",
       ":find Try to find a state for which the given predicate is true (in addition to the machine's invariant).\n",
       ":goto Go to the state with the specified index in the current trace.\n",
       ":groovy Evaluate the given Groovy expression.\n",
       ":help Display help for a specific command, or general help about the REPL.\n",
       ":init Initialise the current machine with the specified predicate\n",
       ":let Evaluate an expression and store it in a local variable.\n",
       ":load Load the machine from the given path.\n",
       ":pref View or change the value of one or more preferences.\n",
       ":prettyprint Pretty-print a predicate.\n",
       ":show Show the machine's animation function visualisation for the current state.\n",
       ":solve Solve a predicate with the specified solver.\n",
       ":stats Show statistics about the state space.\n",
       ":table Display an expression as a table.\n",
       ":time Execute the given command and measure how long it takes to execute.\n",
       ":trace Display all states and transitions in the current trace.\n",
       ":type Display the type of a formula.\n",
       ":unlet Remove a local variable.\n",
       ":version Display version info about the ProB CLI and ProB 2.\n"
      ]
     },
     "execution_count": 18,
     "metadata": {},
     "output_type": "execute_result"
    }
   ],
   "source": [
    ":help"
   ]
  },
  {
   "cell_type": "markdown",
   "metadata": {
    "slideshow": {
     "slide_type": "notes"
    }
   },
   "source": [
    "* Es gibt noch einige weitere Funktionen, insbesondere Kommandos\n",
    "* Diese werden der Kürze halber hier nicht alle vorgestellt"
   ]
  },
  {
   "cell_type": "markdown",
   "metadata": {
    "slideshow": {
     "slide_type": "slide"
    }
   },
   "source": [
    "# Anwendungsmöglichkeiten"
   ]
  },
  {
   "cell_type": "markdown",
   "metadata": {
    "slideshow": {
     "slide_type": "notes"
    }
   },
   "source": [
    "* Mögliche Anwendungen für den ProB 2-Jupyter-Kernel und ProB-Notebooks"
   ]
  },
  {
   "cell_type": "markdown",
   "metadata": {
    "slideshow": {
     "slide_type": "subslide"
    }
   },
   "source": [
    "## Interaktive Nutzung als REPL\n",
    "\n",
    "* Jupyter Notebook kann wie eine REPL benutzt werden\n",
    "* Vorteile: mehrzeilige Eingaben, formatierte Ausgaben, verbesserte Editor-Funktionen, speicherbar\n",
    "* Alternative: `jupyter console` ermöglicht Verwendung von Jupyter-Kerneln im Terminal\n",
    "    * Verhält sich wie eine klassische REPL, arbeitet nicht mit Notebooks\n",
    "    * Unterstützt trotzdem erweiterte Funktionen: Eingabeverlauf, Code-Vervollständigung"
   ]
  },
  {
   "cell_type": "markdown",
   "metadata": {
    "slideshow": {
     "slide_type": "notes"
    }
   },
   "source": [
    "* (Folie)\n",
    "* Alle Vorteile von Jupyter-Notebooks:\n",
    "    * einfache mehrzeilige Eingaben\n",
    "    * formatierte Ausgaben\n",
    "    * Editor-Funktionen (Syntax-Highlighting, Code-Completion)\n",
    "    * speicherbar\n",
    "* Alternative: `jupyter console`\n",
    "    * (Folie)"
   ]
  },
  {
   "cell_type": "markdown",
   "metadata": {
    "slideshow": {
     "slide_type": "subslide"
    }
   },
   "source": [
    "## Interaktive Experimentierung\n",
    "\n",
    "* Beliebige Stellen im Notebook können bearbeitet und neu ausgeführt werden\n",
    "* Vereinfacht Testen von Änderungen am Code, z. B.:\n",
    "    * Andere Konstanten-/Präferenzwerte\n",
    "    * Hinzufügen/Entfernen von Invarianten/Guards\n",
    "    * Ändern der Operationsfolge\n",
    "* Auch Notebooks von anderen Nutzern können ohne Weiteres bearbeitet werden\n",
    "    * Notebook-Dateien sind nie \"schreibgeschützt\"\n",
    "    * Anzeige und Bearbeitung nutzen die gleiche Oberfläche\n",
    "* Anwendungen:\n",
    "    * ProB-Notebook als Dokumentation und Beispielcode zu einem B-Modell\n",
    "    * Übungsblätter für Lehrveranstaltungen als Notebooks"
   ]
  },
  {
   "cell_type": "markdown",
   "metadata": {
    "slideshow": {
     "slide_type": "subslide"
    }
   },
   "source": [
    "## Generierung von Dokumenten\n",
    "\n",
    "* `jupyter nbconvert` konvertiert Notebooks in Standard-Dokumentformate\n",
    "* Ermöglicht Betrachtung ohne Jupyter\n",
    "    * Nachteil: ohne Original-Notebook nicht mehr änderbar\n",
    "* Unterstützte Formate:\n",
    "    * HTML (für Webseiten)\n",
    "    * PDF (für eigenständige Dateien)\n",
    "    * $\\LaTeX$ (für Publikationen)\n",
    "    * reveal.js (für Präsentationen)"
   ]
  },
  {
   "cell_type": "markdown",
   "metadata": {
    "slideshow": {
     "slide_type": "slide"
    }
   },
   "source": [
    "# Future Work\n",
    "\n",
    "* Mehr Kommandos:\n",
    "    * Temporäre (\"lokale\") Variablen mit `:let`\n",
    "    * Verifikation (LTL, Model Checking)\n",
    "    * Diagramme: Plotten von Werten im Verlauf des Traces\n",
    "* `In`/`Out`-Arrays um vorherige Eingaben/Ergebnisse abzurufen\n",
    "* Integration mit ProB 2-Trace-Dateien\n",
    "    * Konvertierung zwischen `.prob2trace` und `.ipynb`"
   ]
  },
  {
   "cell_type": "markdown",
   "metadata": {
    "slideshow": {
     "slide_type": "skip"
    }
   },
   "source": [
    "* Vom Funktionsumfang noch weit von `probcli -repl` entfernt\n",
    "* Trotzdem bereits zu einigen Zwecken verwendbar, z. B.:\n",
    "    * diese Präsentation wurde in einem ProB-Notebook geschrieben\n",
    "    * die aktuelle \"Sicherheitskritische Systeme\"-Vorlesung"
   ]
  },
  {
   "cell_type": "markdown",
   "metadata": {
    "slideshow": {
     "slide_type": "slide"
    }
   },
   "source": [
    "# `END`"
   ]
  }
 ],
 "metadata": {
  "celltoolbar": "Slideshow",
  "kernelspec": {
   "display_name": "ProB 2",
   "language": "prob",
   "name": "prob2"
  },
  "language_info": {
   "codemirror_mode": "prob2_jupyter_repl",
   "file_extension": ".prob",
   "mimetype": "text/x-prob2-jupyter-repl",
   "name": "prob"
  }
 },
 "nbformat": 4,
 "nbformat_minor": 2
}
