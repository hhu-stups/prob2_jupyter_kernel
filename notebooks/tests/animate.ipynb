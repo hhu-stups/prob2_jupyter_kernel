{
 "cells": [
  {
   "cell_type": "code",
   "execution_count": 1,
   "metadata": {},
   "outputs": [
    {
     "data": {
      "text/markdown": [
       "```\n",
       ":browse\n",
       "```\n",
       "\n",
       "Show information about the current state"
      ],
      "text/plain": [
       ":browse\n",
       "\n",
       "Show information about the current state"
      ]
     },
     "execution_count": 1,
     "metadata": {},
     "output_type": "execute_result"
    }
   ],
   "source": [
    ":help :browse"
   ]
  },
  {
   "cell_type": "code",
   "execution_count": 2,
   "metadata": {},
   "outputs": [
    {
     "data": {
      "text/markdown": [
       "```\n",
       ":exec OPERATION [PREDICATE]\n",
       ":exec OPERATION_ID\n",
       "```\n",
       "\n",
       "Execute an operation with the specified predicate, or by its ID"
      ],
      "text/plain": [
       ":exec OPERATION [PREDICATE]\n",
       ":exec OPERATION_ID\n",
       "\n",
       "Execute an operation with the specified predicate, or by its ID"
      ]
     },
     "execution_count": 2,
     "metadata": {},
     "output_type": "execute_result"
    }
   ],
   "source": [
    ":help :exec"
   ]
  },
  {
   "cell_type": "code",
   "execution_count": 3,
   "metadata": {},
   "outputs": [
    {
     "data": {
      "text/markdown": [
       "```\n",
       ":constants [PREDICATE]\n",
       "```\n",
       "\n",
       "Set up the current machine's constants with the specified predicate"
      ],
      "text/plain": [
       ":constants [PREDICATE]\n",
       "\n",
       "Set up the current machine's constants with the specified predicate"
      ]
     },
     "execution_count": 3,
     "metadata": {},
     "output_type": "execute_result"
    }
   ],
   "source": [
    ":help :constants"
   ]
  },
  {
   "cell_type": "code",
   "execution_count": 4,
   "metadata": {},
   "outputs": [
    {
     "data": {
      "text/markdown": [
       "```\n",
       ":initialise [PREDICATE]\n",
       ":init [PREDICATE]\n",
       "```\n",
       "\n",
       "Initialise the current machine with the specified predicate"
      ],
      "text/plain": [
       ":initialise [PREDICATE]\n",
       ":init [PREDICATE]\n",
       "\n",
       "Initialise the current machine with the specified predicate"
      ]
     },
     "execution_count": 4,
     "metadata": {},
     "output_type": "execute_result"
    }
   ],
   "source": [
    ":help :init"
   ]
  },
  {
   "cell_type": "code",
   "execution_count": 5,
   "metadata": {},
   "outputs": [
    {
     "data": {
      "text/plain": [
       "Machine: repl\n",
       "Sets: (none)\n",
       "Constants: (none)\n",
       "Variables: (none)\n",
       "Operations: \n",
       "0: $initialise_machine()"
      ]
     },
     "execution_count": 5,
     "metadata": {},
     "output_type": "execute_result"
    }
   ],
   "source": [
    ":browse"
   ]
  },
  {
   "cell_type": "code",
   "execution_count": 6,
   "metadata": {},
   "outputs": [
    {
     "data": {
      "text/plain": [
       "Loaded machine: Counter : []\n"
      ]
     },
     "execution_count": 6,
     "metadata": {},
     "output_type": "execute_result"
    }
   ],
   "source": [
    "::load\n",
    "MACHINE Counter\n",
    "CONSTANTS min_value, max_value\n",
    "PROPERTIES min_value : MININT..0 & max_value : 0..MAXINT & min_value <= max_value\n",
    "VARIABLES value\n",
    "INVARIANT value : min_value..max_value\n",
    "INITIALISATION value :: min_value..max_value\n",
    "OPERATIONS\n",
    "    add(diff) = SELECT\n",
    "        value+diff : min_value..max_value\n",
    "    THEN\n",
    "        value := value+diff\n",
    "    END\n",
    "END"
   ]
  },
  {
   "cell_type": "code",
   "execution_count": 7,
   "metadata": {},
   "outputs": [
    {
     "data": {
      "text/plain": [
       "Machine: Counter\n",
       "Sets: (none)\n",
       "Constants: min_value, max_value\n",
       "Variables: value\n",
       "Operations: \n",
       "0: $setup_constants()\n",
       "1: $setup_constants()\n",
       "2: $setup_constants()\n",
       "3: $setup_constants()\n",
       "More operations may be available (MAX_OPERATIONS/MAX_INITIALISATIONS reached)"
      ]
     },
     "execution_count": 7,
     "metadata": {},
     "output_type": "execute_result"
    }
   ],
   "source": [
    ":browse"
   ]
  },
  {
   "cell_type": "code",
   "execution_count": 8,
   "metadata": {},
   "outputs": [
    {
     "ename": "CommandExecutionException",
     "evalue": ":eval: NOT-INITIALISED",
     "output_type": "error",
     "traceback": [
      "\u001b[1m\u001b[31m:eval: NOT-INITIALISED\u001b[0m"
     ]
    }
   ],
   "source": [
    "min_value..max_value"
   ]
  },
  {
   "cell_type": "code",
   "execution_count": 9,
   "metadata": {},
   "outputs": [
    {
     "ename": "CommandExecutionException",
     "evalue": ":eval: NOT-INITIALISED",
     "output_type": "error",
     "traceback": [
      "\u001b[1m\u001b[31m:eval: NOT-INITIALISED\u001b[0m"
     ]
    }
   ],
   "source": [
    "value"
   ]
  },
  {
   "cell_type": "code",
   "execution_count": 10,
   "metadata": {},
   "outputs": [
    {
     "ename": "CommandExecutionException",
     "evalue": ":constants: Could not setup constants with the specified predicate",
     "output_type": "error",
     "traceback": [
      "\u001b[1m\u001b[31m:constants: Could not setup constants with the specified predicate\u001b[0m"
     ]
    }
   ],
   "source": [
    ":constants min_value=5 & max_value=-5"
   ]
  },
  {
   "cell_type": "code",
   "execution_count": 11,
   "metadata": {},
   "outputs": [
    {
     "data": {
      "text/plain": [
       "Machine constants set up using operation 2: $setup_constants()"
      ]
     },
     "execution_count": 11,
     "metadata": {},
     "output_type": "execute_result"
    }
   ],
   "source": [
    ":constants min_value=-1 & max_value=2"
   ]
  },
  {
   "cell_type": "code",
   "execution_count": 12,
   "metadata": {},
   "outputs": [
    {
     "data": {
      "text/plain": [
       "Machine: Counter\n",
       "Sets: (none)\n",
       "Constants: min_value, max_value\n",
       "Variables: value\n",
       "Operations: \n",
       "4: $initialise_machine()\n",
       "5: $initialise_machine()\n",
       "6: $initialise_machine()\n",
       "7: $initialise_machine()\n",
       "More operations may be available (MAX_OPERATIONS/MAX_INITIALISATIONS reached)"
      ]
     },
     "execution_count": 12,
     "metadata": {},
     "output_type": "execute_result"
    }
   ],
   "source": [
    ":browse"
   ]
  },
  {
   "cell_type": "code",
   "execution_count": 13,
   "metadata": {},
   "outputs": [
    {
     "data": {
      "text/plain": [
       "{−1,0,1,2}"
      ]
     },
     "execution_count": 13,
     "metadata": {},
     "output_type": "execute_result"
    }
   ],
   "source": [
    "min_value..max_value"
   ]
  },
  {
   "cell_type": "code",
   "execution_count": 14,
   "metadata": {},
   "outputs": [
    {
     "ename": "CommandExecutionException",
     "evalue": ":eval: NOT-INITIALISED",
     "output_type": "error",
     "traceback": [
      "\u001b[1m\u001b[31m:eval: NOT-INITIALISED\u001b[0m"
     ]
    }
   ],
   "source": [
    "value"
   ]
  },
  {
   "cell_type": "code",
   "execution_count": 15,
   "metadata": {},
   "outputs": [
    {
     "ename": "ProBError",
     "evalue": "ProB reported Errors\nProB returned error messages:\nError: INITIALISATION FAILS (/Users/Shared/Uni/SHK/ProB2/prob2-jupyter-kernel/notebooks/tests:6:15 to 6:44)",
     "output_type": "error",
     "traceback": [
      "\u001b[1m\u001b[30mError from ProB: \u001b[0m\u001b[1m\u001b[31mProB reported Errors\u001b[0m",
      "\u001b[1m\u001b[31mError: INITIALISATION FAILS (/Users/Shared/Uni/SHK/ProB2/prob2-jupyter-kernel/notebooks/tests:6:15 to 6:44)\u001b[0m"
     ]
    }
   ],
   "source": [
    ":init value=-100"
   ]
  },
  {
   "cell_type": "code",
   "execution_count": 16,
   "metadata": {},
   "outputs": [
    {
     "data": {
      "text/plain": [
       "Machine initialised using operation 7: $initialise_machine()"
      ]
     },
     "execution_count": 16,
     "metadata": {},
     "output_type": "execute_result"
    }
   ],
   "source": [
    ":init value=2"
   ]
  },
  {
   "cell_type": "code",
   "execution_count": 17,
   "metadata": {},
   "outputs": [
    {
     "data": {
      "text/plain": [
       "Machine: Counter\n",
       "Sets: (none)\n",
       "Constants: min_value, max_value\n",
       "Variables: value\n",
       "Operations: \n",
       "8: add(-3)\n",
       "9: add(-2)\n",
       "10: add(-1)\n",
       "11: add(0)"
      ]
     },
     "execution_count": 17,
     "metadata": {},
     "output_type": "execute_result"
    }
   ],
   "source": [
    ":browse"
   ]
  },
  {
   "cell_type": "code",
   "execution_count": 18,
   "metadata": {},
   "outputs": [
    {
     "data": {
      "text/plain": [
       "2"
      ]
     },
     "execution_count": 18,
     "metadata": {},
     "output_type": "execute_result"
    }
   ],
   "source": [
    "value"
   ]
  },
  {
   "cell_type": "code",
   "execution_count": 19,
   "metadata": {},
   "outputs": [
    {
     "data": {
      "text/plain": [
       "Executed operation 10: add(-1)"
      ]
     },
     "execution_count": 19,
     "metadata": {},
     "output_type": "execute_result"
    }
   ],
   "source": [
    ":exec add diff=-1"
   ]
  },
  {
   "cell_type": "code",
   "execution_count": 20,
   "metadata": {},
   "outputs": [
    {
     "data": {
      "text/plain": [
       "Machine: Counter\n",
       "Sets: (none)\n",
       "Constants: min_value, max_value\n",
       "Variables: value\n",
       "Operations: \n",
       "12: add(-2)\n",
       "13: add(-1)\n",
       "14: add(0)\n",
       "15: add(1)"
      ]
     },
     "execution_count": 20,
     "metadata": {},
     "output_type": "execute_result"
    }
   ],
   "source": [
    ":browse"
   ]
  },
  {
   "cell_type": "code",
   "execution_count": 21,
   "metadata": {},
   "outputs": [
    {
     "data": {
      "text/plain": [
       "1"
      ]
     },
     "execution_count": 21,
     "metadata": {},
     "output_type": "execute_result"
    }
   ],
   "source": [
    "value"
   ]
  },
  {
   "cell_type": "code",
   "execution_count": 22,
   "metadata": {},
   "outputs": [
    {
     "data": {
      "text/plain": [
       "Executed operation 15: add(1)"
      ]
     },
     "execution_count": 22,
     "metadata": {},
     "output_type": "execute_result"
    }
   ],
   "source": [
    ":exec 15"
   ]
  },
  {
   "cell_type": "code",
   "execution_count": 23,
   "metadata": {},
   "outputs": [
    {
     "data": {
      "text/plain": [
       "Machine: Counter\n",
       "Sets: (none)\n",
       "Constants: min_value, max_value\n",
       "Variables: value\n",
       "Operations: \n",
       "8: add(-3)\n",
       "9: add(-2)\n",
       "10: add(-1)\n",
       "11: add(0)"
      ]
     },
     "execution_count": 23,
     "metadata": {},
     "output_type": "execute_result"
    }
   ],
   "source": [
    ":browse"
   ]
  },
  {
   "cell_type": "code",
   "execution_count": 24,
   "metadata": {},
   "outputs": [
    {
     "ename": "CommandExecutionException",
     "evalue": ":exec: Cannot specify a predicate when executing an operation by ID",
     "output_type": "error",
     "traceback": [
      "\u001b[1m\u001b[31m:exec: Cannot specify a predicate when executing an operation by ID\u001b[0m"
     ]
    }
   ],
   "source": [
    ":exec 10 1=1"
   ]
  },
  {
   "cell_type": "markdown",
   "metadata": {},
   "source": [
    "Useful error messages are shown when an operation cannot be executed."
   ]
  },
  {
   "cell_type": "code",
   "execution_count": 25,
   "metadata": {},
   "outputs": [
    {
     "ename": "CommandExecutionException",
     "evalue": ":constants: Could not setup constants",
     "output_type": "error",
     "traceback": [
      "\u001b[1m\u001b[31m:constants: Could not setup constants\u001b[0m"
     ]
    }
   ],
   "source": [
    ":constants"
   ]
  },
  {
   "cell_type": "code",
   "execution_count": 26,
   "metadata": {},
   "outputs": [
    {
     "ename": "CommandExecutionException",
     "evalue": ":constants: Could not setup constants with the specified predicate",
     "output_type": "error",
     "traceback": [
      "\u001b[1m\u001b[31m:constants: Could not setup constants with the specified predicate\u001b[0m"
     ]
    }
   ],
   "source": [
    ":constants 1=1"
   ]
  },
  {
   "cell_type": "code",
   "execution_count": 27,
   "metadata": {},
   "outputs": [
    {
     "ename": "CommandExecutionException",
     "evalue": ":init: Could not initialise machine",
     "output_type": "error",
     "traceback": [
      "\u001b[1m\u001b[31m:init: Could not initialise machine\u001b[0m"
     ]
    }
   ],
   "source": [
    ":init"
   ]
  },
  {
   "cell_type": "code",
   "execution_count": 28,
   "metadata": {},
   "outputs": [
    {
     "ename": "CommandExecutionException",
     "evalue": ":init: Could not initialise machine with the specified predicate",
     "output_type": "error",
     "traceback": [
      "\u001b[1m\u001b[31m:init: Could not initialise machine with the specified predicate\u001b[0m"
     ]
    }
   ],
   "source": [
    ":init 1=1"
   ]
  },
  {
   "cell_type": "code",
   "execution_count": 29,
   "metadata": {},
   "outputs": [
    {
     "ename": "CommandExecutionException",
     "evalue": ":exec: Could not execute operation nope",
     "output_type": "error",
     "traceback": [
      "\u001b[1m\u001b[31m:exec: Could not execute operation nope\u001b[0m"
     ]
    }
   ],
   "source": [
    ":exec nope"
   ]
  },
  {
   "cell_type": "code",
   "execution_count": 30,
   "metadata": {},
   "outputs": [
    {
     "ename": "CommandExecutionException",
     "evalue": ":exec: Could not execute operation add with the given predicate",
     "output_type": "error",
     "traceback": [
      "\u001b[1m\u001b[31m:exec: Could not execute operation add with the given predicate\u001b[0m"
     ]
    }
   ],
   "source": [
    ":exec add 1=0"
   ]
  },
  {
   "cell_type": "markdown",
   "metadata": {},
   "source": [
    "`SETUP_CONSTANTS` and `INITIALISATION` can be used as operation names."
   ]
  },
  {
   "cell_type": "code",
   "execution_count": 31,
   "metadata": {},
   "outputs": [
    {
     "data": {
      "text/plain": [
       "Loaded machine: Foo : []\n"
      ]
     },
     "execution_count": 31,
     "metadata": {},
     "output_type": "execute_result"
    }
   ],
   "source": [
    "::load\n",
    "MACHINE Foo\n",
    "CONSTANTS x\n",
    "PROPERTIES x : MININT..MAXINT\n",
    "VARIABLES y\n",
    "INVARIANT y : MININT..MAXINT\n",
    "INITIALISATION y :: MININT..MAXINT\n",
    "END"
   ]
  },
  {
   "cell_type": "code",
   "execution_count": 32,
   "metadata": {},
   "outputs": [
    {
     "data": {
      "text/plain": [
       "Executed operation 2: $setup_constants()"
      ]
     },
     "execution_count": 32,
     "metadata": {},
     "output_type": "execute_result"
    }
   ],
   "source": [
    ":exec SETUP_CONSTANTS x = 1"
   ]
  },
  {
   "cell_type": "code",
   "execution_count": 33,
   "metadata": {},
   "outputs": [
    {
     "data": {
      "text/plain": [
       "Executed operation 7: $initialise_machine()"
      ]
     },
     "execution_count": 33,
     "metadata": {},
     "output_type": "execute_result"
    }
   ],
   "source": [
    ":exec INITIALISATION y = 2"
   ]
  },
  {
   "cell_type": "code",
   "execution_count": 34,
   "metadata": {},
   "outputs": [
    {
     "data": {
      "text/plain": [
       "1"
      ]
     },
     "execution_count": 34,
     "metadata": {},
     "output_type": "execute_result"
    }
   ],
   "source": [
    "x"
   ]
  },
  {
   "cell_type": "code",
   "execution_count": 35,
   "metadata": {},
   "outputs": [
    {
     "data": {
      "text/plain": [
       "2"
      ]
     },
     "execution_count": 35,
     "metadata": {},
     "output_type": "execute_result"
    }
   ],
   "source": [
    "y"
   ]
  }
 ],
 "metadata": {
  "kernelspec": {
   "display_name": "ProB 2",
   "language": "prob",
   "name": "prob2"
  },
  "language_info": {
   "file_extension": ".prob",
   "mimetype": "text/x-prob",
   "name": "prob"
  }
 },
 "nbformat": 4,
 "nbformat_minor": 2
}
