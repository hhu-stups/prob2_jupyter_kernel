{
 "cells": [
  {
   "cell_type": "code",
   "execution_count": 1,
   "metadata": {},
   "outputs": [
    {
     "data": {
      "text/markdown": [
       "```\n",
       ":pref [NAME ...]\n",
       ":pref NAME=VALUE [NAME=VALUE ...]\n",
       "```\n",
       "\n",
       "View or change the value of one or more preferences."
      ],
      "text/plain": [
       ":pref [NAME ...]\n",
       ":pref NAME=VALUE [NAME=VALUE ...]\n",
       "\n",
       "View or change the value of one or more preferences."
      ]
     },
     "execution_count": 1,
     "metadata": {},
     "output_type": "execute_result"
    }
   ],
   "source": [
    ":help :pref"
   ]
  },
  {
   "cell_type": "markdown",
   "metadata": {},
   "source": [
    "The values of all preferences can be viewed."
   ]
  },
  {
   "cell_type": "code",
   "execution_count": 2,
   "metadata": {},
   "outputs": [
    {
     "data": {
      "text/plain": [
       "ALLOW_COMPLEX_LETS = false\n",
       "ALLOW_INCOMPLETE_SETUP_CONSTANTS = false\n",
       "ALLOW_LOCAL_OPERATION_CALLS = false\n",
       "ALLOW_NEW_OPERATIONS_IN_REFINEMENT = false\n",
       "ALLOW_SIMULTANEOUS_ASSIGNMENTS = false\n",
       "ALLOW_UNTYPED_IDENTIFIERS = false\n",
       "ATELIERB_KRT_PATH = krt\n",
       "BBRESULTS = false\n",
       "BOOL_AS_PREDICATE = false\n",
       "BUGLY = false\n",
       "CHR = false\n",
       "CLPFD = true\n",
       "COMPRESSION = false\n",
       "CSE = false\n",
       "CSE_PRED = true\n",
       "CSE_SUBST = false\n",
       "CSE_WD_ONLY = false\n",
       "CSP_STRIP_SOURCE_LOC = false\n",
       "DATA_VALIDATION = false\n",
       "DEFAULT_SETSIZE = 2\n",
       "DETECT_LAMBDAS = false\n",
       "DISPROVER_MODE = false\n",
       "DOT = dot\n",
       "DOT_ARGUMENTS = true\n",
       "DOT_COLOR_ARC = #006391\n",
       "DOT_COLOR_NODE = #99BF38\n",
       "DOT_COLOR_NODE_ERROR = #FF3800\n",
       "DOT_COLOR_NODE_GOAL = orange\n",
       "DOT_COLOR_NODE_OPEN = #F4E3C1\n",
       "DOT_EDGE_LABELS = true\n",
       "DOT_FUNCTIONS = false\n",
       "DOT_IDS = false\n",
       "DOT_INFO = true\n",
       "DOT_LOOPS = true\n",
       "DOT_PEN_WIDTH = 2\n",
       "DOT_PROP = false\n",
       "DOT_ROOT = true\n",
       "DOT_SHOW_OP_READ_WRITES = true\n",
       "DOUBLE_EVALUATION = true\n",
       "EDITOR = /usr/local/bin/bbedit\n",
       "EDITOR_GUI = /Applications/BBEdit.app\n",
       "ENUMERATE_INFINITE_TYPES = true\n",
       "EXPAND_FORALL_UPTO = 100\n",
       "FILTER_UNUSED = false\n",
       "FORGET_STATE_SPACE = false\n",
       "IGNORE_HASH_COLLISIONS = false\n",
       "IGNORE_PRJ_TYPES = false\n",
       "INTERNAL_ARGUMENT_PREFIX = $none\n",
       "INVARIANT_CHECKING = true\n",
       "JAVA_PATH = /usr/bin/java\n",
       "KODKOD = false\n",
       "KODKOD_MAX_NR_SOLS = 22\n",
       "KODKOD_ONLY_FULL = true\n",
       "KODKOD_RAISE_WARNINGS = false\n",
       "KODKOD_SAT_SOLVER = sat4j\n",
       "KODKOD_SYMMETRY = 0\n",
       "LATEX_ENCODING = auto\n",
       "LATEX_GREEK_IDENTIFIERS = false\n",
       "LTSMIN = ./lib/\n",
       "MAXINT = 3\n",
       "MAX_DISPLAY_SET = 100\n",
       "MAX_INITIALISATIONS = 4\n",
       "MAX_OPERATIONS = 10\n",
       "MEMO = false\n",
       "MINIMAL_TEST_SUITES = true\n",
       "MININT = -1\n",
       "NDJSON_ERROR_LOG_FILE = \n",
       "NORMALIZE_AST = false\n",
       "NUMBER_OF_ANIMATED_ABSTRACTIONS = 20\n",
       "OPERATION_REUSE = false\n",
       "OPTIMIZE_AST = true\n",
       "PARTITION_PROPERTIES = true\n",
       "PARTITION_PROPERTIES_INLINE = true\n",
       "PERFORMANCE_INFO = false\n",
       "PGE = off\n",
       "PP_CS_STYLE_SEQUENCES = false\n",
       "PP_FROZEN_INFOS = false\n",
       "PP_SEQUENCES = false\n",
       "PROB2_TRACE_FILE = \n",
       "PROB2_TRACE_FILE_UNIQUE = false\n",
       "PROOF_INFO = true\n",
       "RAISE_ABORT_IMMEDIATELY = false\n",
       "RANDOMISE_ENUMERATION_ORDER = false\n",
       "RANDOMISE_OPERATION_ORDER = false\n",
       "REMOVE_IMPLIED_CONSTRAINTS = false\n",
       "REPL_CACHE_PARSING = false\n",
       "REPL_UNICODE = false\n",
       "REQUIRE_OUTPUT_ASSIGNMENT = false\n",
       "SFDP = sfdp\n",
       "SHOW_EVENTB_ANY_VALUES = false\n",
       "SHOW_FULL_ERROR_LOCATIONS = true\n",
       "SMT = false\n",
       "SMT_SUPPORTED_INTERPRETER = false\n",
       "SOLVER_STRENGTH = 0\n",
       "STATIC_ORDERING = false\n",
       "STATIC_SYMMETRY_DETECTION = true\n",
       "STRICT_CLASH_CHECKING = false\n",
       "STRICT_RAISE_ENUM_WARNINGS = false\n",
       "STRICT_RAISE_WARNINGS = false\n",
       "STRING_AS_SEQUENCE = true\n",
       "SYMBOLIC = false\n",
       "SYMBOLIC_MC_TRY_OTHER_SOLVERS = false\n",
       "SYMMETRY_MODE = off\n",
       "TIME_OUT = 2500\n",
       "TK_CUSTOM_STATE_VIEW_PADDING = 0\n",
       "TLC_WORKERS = 2\n",
       "TRACE_INFO = false\n",
       "TRACE_UPON_ERROR = false\n",
       "TRY_ATELIERB_PROVERS = false\n",
       "TRY_FIND_ABORT = false\n",
       "TYPE_CHECK_DEFINITIONS = false\n",
       "USE_RECORD_CONSTRUCTION = true\n",
       "WARN_IF_DEFINITION_HIDES_VARIABLE = true\n",
       "WARN_WHEN_EXPANDING_INFINITE_CLOSURES = 5\n",
       "XML_ENCODING = auto\n"
      ]
     },
     "execution_count": 2,
     "metadata": {},
     "output_type": "execute_result"
    }
   ],
   "source": [
    ":pref"
   ]
  },
  {
   "cell_type": "markdown",
   "metadata": {},
   "source": [
    "The values of specific preferences can be viewed."
   ]
  },
  {
   "cell_type": "code",
   "execution_count": 3,
   "metadata": {},
   "outputs": [
    {
     "data": {
      "text/plain": [
       "MININT = -1\n",
       "MAXINT = 3\n"
      ]
     },
     "execution_count": 3,
     "metadata": {},
     "output_type": "execute_result"
    }
   ],
   "source": [
    ":pref MININT MAXINT"
   ]
  },
  {
   "cell_type": "code",
   "execution_count": 4,
   "metadata": {},
   "outputs": [
    {
     "data": {
      "text/plain": [
       "{−1,0,1,2,3}"
      ]
     },
     "execution_count": 4,
     "metadata": {},
     "output_type": "execute_result"
    }
   ],
   "source": [
    "MININT..MAXINT"
   ]
  },
  {
   "cell_type": "markdown",
   "metadata": {},
   "source": [
    "The values of preferences can be changed."
   ]
  },
  {
   "cell_type": "code",
   "execution_count": 5,
   "metadata": {},
   "outputs": [
    {
     "data": {
      "text/plain": [
       "Preference changed: MININT = -5\n",
       "Preference changed: MAXINT = 5\n"
      ]
     },
     "execution_count": 5,
     "metadata": {},
     "output_type": "execute_result"
    }
   ],
   "source": [
    ":pref MININT=-5 MAXINT=5"
   ]
  },
  {
   "cell_type": "code",
   "execution_count": 6,
   "metadata": {},
   "outputs": [
    {
     "data": {
      "text/plain": [
       "MININT = -5\n",
       "MAXINT = 5\n"
      ]
     },
     "execution_count": 6,
     "metadata": {},
     "output_type": "execute_result"
    }
   ],
   "source": [
    ":pref MININT MAXINT"
   ]
  },
  {
   "cell_type": "code",
   "execution_count": 7,
   "metadata": {},
   "outputs": [
    {
     "data": {
      "text/plain": [
       "{−5,−4,−3,−2,−1,0,1,2,3,4,5}"
      ]
     },
     "execution_count": 7,
     "metadata": {},
     "output_type": "execute_result"
    }
   ],
   "source": [
    "MININT..MAXINT"
   ]
  },
  {
   "cell_type": "markdown",
   "metadata": {},
   "source": [
    "Preferences cannot be viewed and changed in one command."
   ]
  },
  {
   "cell_type": "code",
   "execution_count": 8,
   "metadata": {},
   "outputs": [
    {
     "ename": "CommandExecutionException",
     "evalue": ":pref: Cannot view and change preferences in the same command (attempted to assign preference MAXINT=5)",
     "output_type": "error",
     "traceback": [
      "\u001b[1m\u001b[31m:pref: Cannot view and change preferences in the same command (attempted to assign preference MAXINT=5)\u001b[0m"
     ]
    }
   ],
   "source": [
    ":pref MININT MAXINT=5"
   ]
  },
  {
   "cell_type": "code",
   "execution_count": 9,
   "metadata": {},
   "outputs": [
    {
     "ename": "CommandExecutionException",
     "evalue": ":pref: Missing value for preference MAXINT",
     "output_type": "error",
     "traceback": [
      "\u001b[1m\u001b[31m:pref: Missing value for preference MAXINT\u001b[0m"
     ]
    }
   ],
   "source": [
    ":pref MININT=-5 MAXINT"
   ]
  }
 ],
 "metadata": {
  "kernelspec": {
   "display_name": "ProB 2",
   "language": "prob",
   "name": "prob2"
  },
  "language_info": {
   "file_extension": ".prob",
   "mimetype": "text/x-prob",
   "name": "prob"
  }
 },
 "nbformat": 4,
 "nbformat_minor": 2
}
