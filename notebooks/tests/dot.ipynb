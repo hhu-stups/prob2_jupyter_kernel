{
 "cells": [
  {
   "cell_type": "code",
   "execution_count": 1,
   "metadata": {},
   "outputs": [
    {
     "data": {
      "text/markdown": [
       "```\n",
       ":dot COMMAND [FORMULA]\n",
       "```\n",
       "\n",
       "Execute and show a dot visualisation.\n",
       "\n",
       "The following dot visualisation commands are available:\n",
       "\n",
       "* `machine_hierarchy` - Machine Hierarchy: Shows the machine hierarchy of a classical B model\n",
       "* `operations` - Operation Call Graph: Shows the call graph of a classical B model\n",
       "* `event_hierarchy` - Event Hierarchy: Shows the event hierarchy of an Event-B model\n",
       "* `variable_hierarchy` - Variable Refinement Hierarchy: Shows variables within the refinement hierarchy of an Event-B model\n",
       "* `state_space` - State Space: Show state space\n",
       "* `state_space_sfdp` - State Space (Fast): Show state space (faster layout with less information and more overlaps)\n",
       "* `current_state` - Current State in State Space: Show current state and successors in state space\n",
       "* `history` - Path to Current State: Show a path leading to current state\n",
       "* `signature_merge` - Signature Merge: Show signature-merged reduced state space (i.e., merge states which have same set of enabled events/operations)\n",
       "* `dfa_merge` - DFA Merge: Show state space as deterministic automaton (DFA)\n",
       "* `transition_diagram` - State Space Expression Projection...: Project state space onto expression values and show transition diagram\n",
       "* `enable_graph` - Event Enable Graph: Show enabling graph of events (i.e., which event/operation can enable/disable which other event)\n",
       "* `state_as_graph` - Current State as Graph: Show values of variables in current state as one graph\n",
       "* `custom_graph` - Customized Current State as Graph: Show values in current state as a graph using CUSTOM_GRAPH definition\n",
       "* `rule_dependency_graph` - Rule Dependency Graph: Show dependencies of rules and computations of a rules machine\n",
       "* `expr_as_graph` - (Relational) Expression as Graph...: Show (relational) expression value as a graph\n",
       "* `formula_tree` - Custom Predicate/Expression Formula Tree...: Show predicate/expressions and sub-formulas as a tree\n",
       "* `invariant` - Invariant Formula Tree: Show invariant as a formula tree\n",
       "* `properties` - Properties Formula Tree: Show properties/axioms as a formula tree\n",
       "* `assertions` - Assertions Formula Tree: Show assertions/theorems as a formula tree\n",
       "* `deadlock` - Deadlock Formula Tree: Show deadlocking status (i.e., guards of all operations/events) in current state as a formula tree\n",
       "* `goal` - Goal Formula Tree: Show GOAL as a formula tree\n",
       "* `dependence_graph` - Event Dependence Graph: Show dependency graph of events (i.e., which events are not commutative)\n",
       "* `variable_modification_graph` - Variable Read/Write Graph: Show variable modification by operations and reading in guards\n",
       "* `definitions` - Definitions Graph: Show dependency graph of DEFINITIONS\n",
       "* `predicate_dependency` - Predicate Dependency Graph...: Show dependency graph of conjuncts of a predicate\n",
       "* `last_error` - Last State Error Formula Tree: Try and visualise last state error source as a formula tree\n",
       "* `last_mcts_tree` - MCTS Game Tree: Show two levels of last MCTS (Monte Carlo Tree Search) game tree\n",
       "* `id_value_formula_tree` - Value of Identifier as Formula Tree...: Show value of an identifier as a formula tree (mainly useful for symbolic values)\n"
      ],
      "text/plain": [
       ":dot COMMAND [FORMULA]\n",
       "Execute and show a dot visualisation.\n",
       "\n",
       "The following dot visualisation commands are available:\n",
       "\n",
       "* `machine_hierarchy` - Machine Hierarchy: Shows the machine hierarchy of a classical B model\n",
       "* `operations` - Operation Call Graph: Shows the call graph of a classical B model\n",
       "* `event_hierarchy` - Event Hierarchy: Shows the event hierarchy of an Event-B model\n",
       "* `variable_hierarchy` - Variable Refinement Hierarchy: Shows variables within the refinement hierarchy of an Event-B model\n",
       "* `state_space` - State Space: Show state space\n",
       "* `state_space_sfdp` - State Space (Fast): Show state space (faster layout with less information and more overlaps)\n",
       "* `current_state` - Current State in State Space: Show current state and successors in state space\n",
       "* `history` - Path to Current State: Show a path leading to current state\n",
       "* `signature_merge` - Signature Merge: Show signature-merged reduced state space (i.e., merge states which have same set of enabled events/operations)\n",
       "* `dfa_merge` - DFA Merge: Show state space as deterministic automaton (DFA)\n",
       "* `transition_diagram` - State Space Expression Projection...: Project state space onto expression values and show transition diagram\n",
       "* `enable_graph` - Event Enable Graph: Show enabling graph of events (i.e., which event/operation can enable/disable which other event)\n",
       "* `state_as_graph` - Current State as Graph: Show values of variables in current state as one graph\n",
       "* `custom_graph` - Customized Current State as Graph: Show values in current state as a graph using CUSTOM_GRAPH definition\n",
       "* `rule_dependency_graph` - Rule Dependency Graph: Show dependencies of rules and computations of a rules machine\n",
       "* `expr_as_graph` - (Relational) Expression as Graph...: Show (relational) expression value as a graph\n",
       "* `formula_tree` - Custom Predicate/Expression Formula Tree...: Show predicate/expressions and sub-formulas as a tree\n",
       "* `invariant` - Invariant Formula Tree: Show invariant as a formula tree\n",
       "* `properties` - Properties Formula Tree: Show properties/axioms as a formula tree\n",
       "* `assertions` - Assertions Formula Tree: Show assertions/theorems as a formula tree\n",
       "* `deadlock` - Deadlock Formula Tree: Show deadlocking status (i.e., guards of all operations/events) in current state as a formula tree\n",
       "* `goal` - Goal Formula Tree: Show GOAL as a formula tree\n",
       "* `dependence_graph` - Event Dependence Graph: Show dependency graph of events (i.e., which events are not commutative)\n",
       "* `variable_modification_graph` - Variable Read/Write Graph: Show variable modification by operations and reading in guards\n",
       "* `definitions` - Definitions Graph: Show dependency graph of DEFINITIONS\n",
       "* `predicate_dependency` - Predicate Dependency Graph...: Show dependency graph of conjuncts of a predicate\n",
       "* `last_error` - Last State Error Formula Tree: Try and visualise last state error source as a formula tree\n",
       "* `last_mcts_tree` - MCTS Game Tree: Show two levels of last MCTS (Monte Carlo Tree Search) game tree\n",
       "* `id_value_formula_tree` - Value of Identifier as Formula Tree...: Show value of an identifier as a formula tree (mainly useful for symbolic values)\n"
      ]
     },
     "execution_count": 1,
     "metadata": {},
     "output_type": "execute_result"
    }
   ],
   "source": [
    ":help :dot"
   ]
  },
  {
   "cell_type": "code",
   "execution_count": 2,
   "metadata": {},
   "outputs": [
    {
     "data": {
      "image/svg+xml": [
       "<?xml version=\"1.0\" encoding=\"UTF-8\" standalone=\"no\"?>\n",
       "<!DOCTYPE svg PUBLIC \"-//W3C//DTD SVG 1.1//EN\"\n",
       " \"http://www.w3.org/Graphics/SVG/1.1/DTD/svg11.dtd\">\n",
       "<!-- Generated by graphviz version 12.2.1 (20241206.2353)\n",
       " -->\n",
       "<!-- Title: visited_states Pages: 1 -->\n",
       "<svg width=\"96pt\" height=\"52pt\"\n",
       " viewBox=\"0.00 0.00 96.41 52.50\" xmlns=\"http://www.w3.org/2000/svg\" xmlns:xlink=\"http://www.w3.org/1999/xlink\">\n",
       "<g id=\"graph0\" class=\"graph\" transform=\"scale(1 1) rotate(0) translate(4 48.5)\">\n",
       "<title>visited_states</title>\n",
       "<polygon fill=\"white\" stroke=\"none\" points=\"-4,4 -4,-48.5 92.41,-48.5 92.41,4 -4,4\"/>\n",
       "<!-- root -->\n",
       "<g id=\"node1\" class=\"node\">\n",
       "<title>root</title>\n",
       "<polygon fill=\"none\" stroke=\"#f4e3c1\" stroke-width=\"2\" points=\"44.2,0 88.41,-33.37 0,-33.37 44.2,0\"/>\n",
       "<text text-anchor=\"middle\" x=\"44.2\" y=\"-17.97\" font-family=\"Times,serif\" font-size=\"12.00\">root</text>\n",
       "</g>\n",
       "</g>\n",
       "</svg>\n"
      ],
      "text/plain": [
       "<Dot visualization: state_space []>"
      ]
     },
     "execution_count": 2,
     "metadata": {},
     "output_type": "execute_result"
    }
   ],
   "source": [
    ":dot state_space"
   ]
  },
  {
   "cell_type": "code",
   "execution_count": 3,
   "metadata": {},
   "outputs": [
    {
     "data": {
      "text/plain": [
       "Executed operation: INITIALISATION()"
      ]
     },
     "execution_count": 3,
     "metadata": {},
     "output_type": "execute_result"
    }
   ],
   "source": [
    ":init"
   ]
  },
  {
   "cell_type": "code",
   "execution_count": 4,
   "metadata": {},
   "outputs": [
    {
     "data": {
      "image/svg+xml": [
       "<?xml version=\"1.0\" encoding=\"UTF-8\" standalone=\"no\"?>\n",
       "<!DOCTYPE svg PUBLIC \"-//W3C//DTD SVG 1.1//EN\"\n",
       " \"http://www.w3.org/Graphics/SVG/1.1/DTD/svg11.dtd\">\n",
       "<!-- Generated by graphviz version 12.2.1 (20241206.2353)\n",
       " -->\n",
       "<!-- Title: visited_states Pages: 1 -->\n",
       "<svg width=\"144pt\" height=\"219pt\"\n",
       " viewBox=\"0.00 0.00 143.70 218.75\" xmlns=\"http://www.w3.org/2000/svg\" xmlns:xlink=\"http://www.w3.org/1999/xlink\">\n",
       "<g id=\"graph0\" class=\"graph\" transform=\"scale(1 1) rotate(0) translate(4 214.75)\">\n",
       "<title>visited_states</title>\n",
       "<polygon fill=\"white\" stroke=\"none\" points=\"-4,4 -4,-214.75 139.7,-214.75 139.7,4 -4,4\"/>\n",
       "<!-- root -->\n",
       "<g id=\"node1\" class=\"node\">\n",
       "<title>root</title>\n",
       "<polygon fill=\"none\" stroke=\"#99bf38\" stroke-width=\"2\" points=\"44.2,-166.25 88.41,-199.62 0,-199.62 44.2,-166.25\"/>\n",
       "<text text-anchor=\"middle\" x=\"44.2\" y=\"-184.22\" font-family=\"Times,serif\" font-size=\"12.00\">root</text>\n",
       "</g>\n",
       "<!-- 0 -->\n",
       "<g id=\"node2\" class=\"node\">\n",
       "<title>0</title>\n",
       "<polygon fill=\"none\" stroke=\"#99bf38\" stroke-width=\"2\" points=\"71.2,-14.54 71.2,-29.46 55.39,-40 33.02,-40 17.2,-29.46 17.2,-14.54 33.02,-4 55.39,-4 71.2,-14.54\"/>\n",
       "<polygon fill=\"none\" stroke=\"#99bf38\" stroke-width=\"2\" points=\"75.2,-12.4 75.2,-31.6 56.6,-44 31.81,-44 13.2,-31.6 13.2,-12.4 31.81,0 56.6,0 75.2,-12.4\"/>\n",
       "</g>\n",
       "<!-- root&#45;&gt;0 -->\n",
       "<g id=\"edge1\" class=\"edge\">\n",
       "<title>root&#45;&gt;0</title>\n",
       "<path fill=\"none\" stroke=\"black\" stroke-dasharray=\"1,5\" d=\"M44.2,-165.31C44.2,-137.2 44.2,-88.49 44.2,-56\"/>\n",
       "<polygon fill=\"black\" stroke=\"black\" points=\"47.7,-56.35 44.2,-46.35 40.7,-56.35 47.7,-56.35\"/>\n",
       "<text text-anchor=\"middle\" x=\"89.95\" y=\"-100.85\" font-family=\"Times,serif\" font-size=\"12.00\">INITIALISATION</text>\n",
       "</g>\n",
       "</g>\n",
       "</svg>\n"
      ],
      "text/plain": [
       "<Dot visualization: state_space []>"
      ]
     },
     "execution_count": 4,
     "metadata": {},
     "output_type": "execute_result"
    }
   ],
   "source": [
    ":dot state_space"
   ]
  },
  {
   "cell_type": "code",
   "execution_count": 5,
   "metadata": {},
   "outputs": [
    {
     "data": {
      "image/svg+xml": [
       "<?xml version=\"1.0\" encoding=\"UTF-8\" standalone=\"no\"?>\n",
       "<!DOCTYPE svg PUBLIC \"-//W3C//DTD SVG 1.1//EN\"\n",
       " \"http://www.w3.org/Graphics/SVG/1.1/DTD/svg11.dtd\">\n",
       "<!-- Generated by graphviz version 12.2.1 (20241206.2353)\n",
       " -->\n",
       "<!-- Title: g Pages: 1 -->\n",
       "<svg width=\"62pt\" height=\"50pt\"\n",
       " viewBox=\"0.00 0.00 62.00 49.75\" xmlns=\"http://www.w3.org/2000/svg\" xmlns:xlink=\"http://www.w3.org/1999/xlink\">\n",
       "<g id=\"graph0\" class=\"graph\" transform=\"scale(1 1) rotate(0) translate(4 45.75)\">\n",
       "<title>g</title>\n",
       "<polygon fill=\"white\" stroke=\"none\" points=\"-4,4 -4,-45.75 58,-45.75 58,4 -4,4\"/>\n",
       "<!-- Noderoot -->\n",
       "<g id=\"node1\" class=\"node\">\n",
       "<title>Noderoot</title>\n",
       "<path fill=\"#b3ee3a\" stroke=\"black\" d=\"M42,-41.75C42,-41.75 12,-41.75 12,-41.75 6,-41.75 0,-35.75 0,-29.75 0,-29.75 0,-12 0,-12 0,-6 6,0 12,0 12,0 42,0 42,0 48,0 54,-6 54,-12 54,-12 54,-29.75 54,-29.75 54,-35.75 48,-41.75 42,-41.75\"/>\n",
       "<text text-anchor=\"middle\" x=\"27\" y=\"-24.45\" font-family=\"Times,serif\" font-size=\"14.00\">⊤</text>\n",
       "<text text-anchor=\"middle\" x=\"27\" y=\"-7.2\" font-family=\"Times,serif\" font-size=\"14.00\">true</text>\n",
       "</g>\n",
       "</g>\n",
       "</svg>\n"
      ],
      "text/plain": [
       "<Dot visualization: invariant []>"
      ]
     },
     "execution_count": 5,
     "metadata": {},
     "output_type": "execute_result"
    }
   ],
   "source": [
    ":dot invariant"
   ]
  },
  {
   "cell_type": "code",
   "execution_count": 6,
   "metadata": {},
   "outputs": [
    {
     "data": {
      "image/svg+xml": [
       "<?xml version=\"1.0\" encoding=\"UTF-8\" standalone=\"no\"?>\n",
       "<!DOCTYPE svg PUBLIC \"-//W3C//DTD SVG 1.1//EN\"\n",
       " \"http://www.w3.org/Graphics/SVG/1.1/DTD/svg11.dtd\">\n",
       "<!-- Generated by graphviz version 12.2.1 (20241206.2353)\n",
       " -->\n",
       "<!-- Title: state Pages: 1 -->\n",
       "<svg width=\"325pt\" height=\"221pt\"\n",
       " viewBox=\"0.00 0.00 325.40 221.00\" xmlns=\"http://www.w3.org/2000/svg\" xmlns:xlink=\"http://www.w3.org/1999/xlink\">\n",
       "<g id=\"graph0\" class=\"graph\" transform=\"scale(1 1) rotate(0) translate(4 217)\">\n",
       "<title>state</title>\n",
       "<polygon fill=\"white\" stroke=\"none\" points=\"-4,4 -4,-217 321.4,-217 321.4,4 -4,4\"/>\n",
       "<!-- 3 -->\n",
       "<g id=\"node1\" class=\"node\">\n",
       "<title>3</title>\n",
       "<polygon fill=\"#cdba96\" stroke=\"#cdba96\" points=\"129,-213 75,-213 75,-177 129,-177 129,-213\"/>\n",
       "<text text-anchor=\"middle\" x=\"102\" y=\"-189.95\" font-family=\"Times,serif\" font-size=\"14.00\">3</text>\n",
       "</g>\n",
       "<!-- 1 -->\n",
       "<g id=\"node2\" class=\"node\">\n",
       "<title>1</title>\n",
       "<polygon fill=\"#cdba96\" stroke=\"#cdba96\" points=\"54,-124.5 0,-124.5 0,-88.5 54,-88.5 54,-124.5\"/>\n",
       "<text text-anchor=\"middle\" x=\"27\" y=\"-101.45\" font-family=\"Times,serif\" font-size=\"14.00\">1</text>\n",
       "</g>\n",
       "<!-- 3&#45;&gt;1 -->\n",
       "<g id=\"edge1\" class=\"edge\">\n",
       "<title>3&#45;&gt;1</title>\n",
       "<path fill=\"none\" stroke=\"firebrick\" d=\"M74.76,-188.58C58.32,-183.77 38.59,-174.93 28.25,-159 23.86,-152.25 22.41,-143.87 22.36,-135.86\"/>\n",
       "<polygon fill=\"firebrick\" stroke=\"firebrick\" points=\"25.84,-136.32 23.03,-126.1 18.86,-135.84 25.84,-136.32\"/>\n",
       "<text text-anchor=\"middle\" x=\"96.12\" y=\"-145.7\" font-family=\"Times,serif\" font-size=\"14.00\">{(1|&#45;&gt;2),(2|&#45;&gt;3),(3|&#45;&gt;1)}</text>\n",
       "</g>\n",
       "<!-- 2 -->\n",
       "<g id=\"node3\" class=\"node\">\n",
       "<title>2</title>\n",
       "<polygon fill=\"#cdba96\" stroke=\"#cdba96\" points=\"129,-36 75,-36 75,0 129,0 129,-36\"/>\n",
       "<text text-anchor=\"middle\" x=\"102\" y=\"-12.95\" font-family=\"Times,serif\" font-size=\"14.00\">2</text>\n",
       "</g>\n",
       "<!-- 1&#45;&gt;2 -->\n",
       "<g id=\"edge3\" class=\"edge\">\n",
       "<title>1&#45;&gt;2</title>\n",
       "<path fill=\"none\" stroke=\"firebrick\" d=\"M23.13,-88.41C21.69,-77.69 21.72,-64.05 28.25,-54 36.41,-41.43 50.41,-33.28 64.04,-28.03\"/>\n",
       "<polygon fill=\"firebrick\" stroke=\"firebrick\" points=\"64.97,-31.41 73.33,-24.9 62.73,-24.78 64.97,-31.41\"/>\n",
       "<text text-anchor=\"middle\" x=\"96.12\" y=\"-57.2\" font-family=\"Times,serif\" font-size=\"14.00\">{(1|&#45;&gt;2),(2|&#45;&gt;3),(3|&#45;&gt;1)}</text>\n",
       "</g>\n",
       "<!-- 2&#45;&gt;3 -->\n",
       "<g id=\"edge2\" class=\"edge\">\n",
       "<title>2&#45;&gt;3</title>\n",
       "<path fill=\"none\" stroke=\"firebrick\" d=\"M129.25,-27.16C142.2,-32.56 156.46,-41.08 164,-54 187.53,-94.3 187.53,-118.7 164,-159 158.4,-168.59 149.1,-175.75 139.39,-181.02\"/>\n",
       "<polygon fill=\"firebrick\" stroke=\"firebrick\" points=\"138.14,-177.74 130.62,-185.19 141.15,-184.06 138.14,-177.74\"/>\n",
       "<text text-anchor=\"middle\" x=\"249.52\" y=\"-101.45\" font-family=\"Times,serif\" font-size=\"14.00\">{(1|&#45;&gt;2),(2|&#45;&gt;3),(3|&#45;&gt;1)}</text>\n",
       "</g>\n",
       "</g>\n",
       "</svg>\n"
      ],
      "text/plain": [
       "<Dot visualization: expr_as_graph [{1|->2, 2|->3, 3|->1}]>"
      ]
     },
     "execution_count": 6,
     "metadata": {},
     "output_type": "execute_result"
    }
   ],
   "source": [
    ":dot expr_as_graph {1|->2, 2|->3, 3|->1}"
   ]
  },
  {
   "cell_type": "code",
   "execution_count": 7,
   "metadata": {},
   "outputs": [
    {
     "data": {
      "image/svg+xml": [
       "<?xml version=\"1.0\" encoding=\"UTF-8\" standalone=\"no\"?>\n",
       "<!DOCTYPE svg PUBLIC \"-//W3C//DTD SVG 1.1//EN\"\n",
       " \"http://www.w3.org/Graphics/SVG/1.1/DTD/svg11.dtd\">\n",
       "<!-- Generated by graphviz version 12.2.1 (20241206.2353)\n",
       " -->\n",
       "<!-- Title: state Pages: 1 -->\n",
       "<svg width=\"218pt\" height=\"398pt\"\n",
       " viewBox=\"0.00 0.00 217.67 398.00\" xmlns=\"http://www.w3.org/2000/svg\" xmlns:xlink=\"http://www.w3.org/1999/xlink\">\n",
       "<g id=\"graph0\" class=\"graph\" transform=\"scale(1 1) rotate(0) translate(4 394)\">\n",
       "<title>state</title>\n",
       "<polygon fill=\"white\" stroke=\"none\" points=\"-4,4 -4,-394 213.67,-394 213.67,4 -4,4\"/>\n",
       "<!-- 4 -->\n",
       "<g id=\"node1\" class=\"node\">\n",
       "<title>4</title>\n",
       "<polygon fill=\"#cdba96\" stroke=\"#cdba96\" points=\"124.17,-301.5 70.17,-301.5 70.17,-265.5 124.17,-265.5 124.17,-301.5\"/>\n",
       "<text text-anchor=\"middle\" x=\"97.17\" y=\"-278.45\" font-family=\"Times,serif\" font-size=\"14.00\">4</text>\n",
       "</g>\n",
       "<!-- 2 -->\n",
       "<g id=\"node2\" class=\"node\">\n",
       "<title>2</title>\n",
       "<polygon fill=\"#cdba96\" stroke=\"#cdba96\" points=\"59.17,-124.5 5.17,-124.5 5.17,-88.5 59.17,-88.5 59.17,-124.5\"/>\n",
       "<text text-anchor=\"middle\" x=\"32.17\" y=\"-101.45\" font-family=\"Times,serif\" font-size=\"14.00\">2</text>\n",
       "</g>\n",
       "<!-- 4&#45;&gt;2 -->\n",
       "<g id=\"edge1\" class=\"edge\">\n",
       "<title>4&#45;&gt;2</title>\n",
       "<path fill=\"none\" stroke=\"firebrick\" d=\"M78.07,-265.02C65.24,-252.03 49.25,-233.13 41.17,-213 31.28,-188.36 29.68,-157.93 30.17,-136.1\"/>\n",
       "<polygon fill=\"firebrick\" stroke=\"firebrick\" points=\"33.67,-136.29 30.57,-126.16 26.67,-136.01 33.67,-136.29\"/>\n",
       "<text text-anchor=\"middle\" x=\"51.67\" y=\"-189.95\" font-family=\"Times,serif\" font-size=\"14.00\">half</text>\n",
       "</g>\n",
       "<!-- 4&#45;&gt;2 -->\n",
       "<g id=\"edge8\" class=\"edge\">\n",
       "<title>4&#45;&gt;2</title>\n",
       "<path fill=\"none\" stroke=\"sienna\" d=\"M69.68,-268.21C50.49,-256.4 26.75,-237.59 17.67,-213 8.39,-187.86 14.26,-157.37 21.11,-135.64\"/>\n",
       "<polygon fill=\"sienna\" stroke=\"sienna\" points=\"24.38,-136.89 24.32,-126.29 17.76,-134.61 24.38,-136.89\"/>\n",
       "<text text-anchor=\"middle\" x=\"22.92\" y=\"-189.95\" font-family=\"Times,serif\" font-size=\"14.00\">gt</text>\n",
       "</g>\n",
       "<!-- 1 -->\n",
       "<g id=\"node3\" class=\"node\">\n",
       "<title>1</title>\n",
       "<polygon fill=\"#cdba96\" stroke=\"#cdba96\" points=\"129.17,-36 75.17,-36 75.17,0 129.17,0 129.17,-36\"/>\n",
       "<text text-anchor=\"middle\" x=\"102.17\" y=\"-12.95\" font-family=\"Times,serif\" font-size=\"14.00\">1</text>\n",
       "</g>\n",
       "<!-- 4&#45;&gt;1 -->\n",
       "<g id=\"edge9\" class=\"edge\">\n",
       "<title>4&#45;&gt;1</title>\n",
       "<path fill=\"none\" stroke=\"sienna\" d=\"M109.48,-265.2C118.29,-251.7 129.4,-232.1 134.17,-213 148.7,-154.77 128.18,-85.02 113.9,-47.04\"/>\n",
       "<polygon fill=\"sienna\" stroke=\"sienna\" points=\"117.16,-45.77 110.26,-37.73 110.64,-48.32 117.16,-45.77\"/>\n",
       "<text text-anchor=\"middle\" x=\"144.13\" y=\"-145.7\" font-family=\"Times,serif\" font-size=\"14.00\">gt</text>\n",
       "</g>\n",
       "<!-- 3 -->\n",
       "<g id=\"node5\" class=\"node\">\n",
       "<title>3</title>\n",
       "<polygon fill=\"#cdba96\" stroke=\"#cdba96\" points=\"125.17,-213 71.17,-213 71.17,-177 125.17,-177 125.17,-213\"/>\n",
       "<text text-anchor=\"middle\" x=\"98.17\" y=\"-189.95\" font-family=\"Times,serif\" font-size=\"14.00\">3</text>\n",
       "</g>\n",
       "<!-- 4&#45;&gt;3 -->\n",
       "<g id=\"edge7\" class=\"edge\">\n",
       "<title>4&#45;&gt;3</title>\n",
       "<path fill=\"none\" stroke=\"sienna\" d=\"M97.37,-265.41C97.5,-253.76 97.68,-238.05 97.84,-224.52\"/>\n",
       "<polygon fill=\"sienna\" stroke=\"sienna\" points=\"101.33,-224.9 97.95,-214.86 94.33,-224.82 101.33,-224.9\"/>\n",
       "<text text-anchor=\"middle\" x=\"103.01\" y=\"-234.2\" font-family=\"Times,serif\" font-size=\"14.00\">gt</text>\n",
       "</g>\n",
       "<!-- 2&#45;&gt;1 -->\n",
       "<g id=\"edge2\" class=\"edge\">\n",
       "<title>2&#45;&gt;1</title>\n",
       "<path fill=\"none\" stroke=\"firebrick\" d=\"M42.75,-88.22C49.32,-77.94 58.21,-64.83 67.17,-54 69.85,-50.76 72.78,-47.49 75.77,-44.3\"/>\n",
       "<polygon fill=\"firebrick\" stroke=\"firebrick\" points=\"78.15,-46.87 82.63,-37.27 73.14,-41.99 78.15,-46.87\"/>\n",
       "<text text-anchor=\"middle\" x=\"77.67\" y=\"-57.2\" font-family=\"Times,serif\" font-size=\"14.00\">half</text>\n",
       "</g>\n",
       "<!-- 2&#45;&gt;1 -->\n",
       "<g id=\"edge12\" class=\"edge\">\n",
       "<title>2&#45;&gt;1</title>\n",
       "<path fill=\"none\" stroke=\"sienna\" d=\"M31.39,-88.35C31.72,-77.61 33.73,-63.96 40.67,-54 46.64,-45.43 55.42,-38.69 64.5,-33.52\"/>\n",
       "<polygon fill=\"sienna\" stroke=\"sienna\" points=\"66.05,-36.65 73.38,-29 62.88,-30.41 66.05,-36.65\"/>\n",
       "<text text-anchor=\"middle\" x=\"45.92\" y=\"-57.2\" font-family=\"Times,serif\" font-size=\"14.00\">gt</text>\n",
       "</g>\n",
       "<!-- 5 -->\n",
       "<g id=\"node4\" class=\"node\">\n",
       "<title>5</title>\n",
       "<polygon fill=\"#cdba96\" stroke=\"#cdba96\" points=\"171.17,-390 117.17,-390 117.17,-354 171.17,-354 171.17,-390\"/>\n",
       "<text text-anchor=\"middle\" x=\"144.17\" y=\"-366.95\" font-family=\"Times,serif\" font-size=\"14.00\">5</text>\n",
       "</g>\n",
       "<!-- 5&#45;&gt;4 -->\n",
       "<g id=\"edge3\" class=\"edge\">\n",
       "<title>5&#45;&gt;4</title>\n",
       "<path fill=\"none\" stroke=\"sienna\" d=\"M134.88,-353.91C128.36,-341.9 119.49,-325.59 112,-311.8\"/>\n",
       "<polygon fill=\"sienna\" stroke=\"sienna\" points=\"115.17,-310.3 107.32,-303.18 109.02,-313.64 115.17,-310.3\"/>\n",
       "<text text-anchor=\"middle\" x=\"130.13\" y=\"-322.7\" font-family=\"Times,serif\" font-size=\"14.00\">gt</text>\n",
       "</g>\n",
       "<!-- 5&#45;&gt;2 -->\n",
       "<g id=\"edge5\" class=\"edge\">\n",
       "<title>5&#45;&gt;2</title>\n",
       "<path fill=\"none\" stroke=\"sienna\" d=\"M116.74,-354.54C85.33,-333.96 35.43,-295.51 13.67,-247.5 -5.6,-204.98 -2.59,-187.11 11.17,-142.5 11.96,-139.93 12.98,-137.35 14.14,-134.82\"/>\n",
       "<polygon fill=\"sienna\" stroke=\"sienna\" points=\"17.12,-136.67 18.78,-126.21 10.96,-133.35 17.12,-136.67\"/>\n",
       "<text text-anchor=\"middle\" x=\"18.92\" y=\"-234.2\" font-family=\"Times,serif\" font-size=\"14.00\">gt</text>\n",
       "</g>\n",
       "<!-- 5&#45;&gt;1 -->\n",
       "<g id=\"edge6\" class=\"edge\">\n",
       "<title>5&#45;&gt;1</title>\n",
       "<path fill=\"none\" stroke=\"sienna\" d=\"M163.4,-353.8C179.26,-337.64 199.17,-311.91 199.17,-284.5 199.17,-284.5 199.17,-284.5 199.17,-105.5 199.17,-72.19 166.91,-48.53 139.59,-34.47\"/>\n",
       "<polygon fill=\"sienna\" stroke=\"sienna\" points=\"141.33,-31.42 130.81,-30.21 138.28,-37.72 141.33,-31.42\"/>\n",
       "<text text-anchor=\"middle\" x=\"204.42\" y=\"-189.95\" font-family=\"Times,serif\" font-size=\"14.00\">gt</text>\n",
       "</g>\n",
       "<!-- 5&#45;&gt;3 -->\n",
       "<g id=\"edge4\" class=\"edge\">\n",
       "<title>5&#45;&gt;3</title>\n",
       "<path fill=\"none\" stroke=\"sienna\" d=\"M142.56,-353.83C141.61,-343.81 140.36,-330.94 139.17,-319.5 136.67,-295.48 140.04,-288.65 133.17,-265.5 128.81,-250.83 121.46,-235.53 114.61,-223.04\"/>\n",
       "<polygon fill=\"sienna\" stroke=\"sienna\" points=\"117.79,-221.55 109.81,-214.59 111.71,-225.01 117.79,-221.55\"/>\n",
       "<text text-anchor=\"middle\" x=\"143.3\" y=\"-278.45\" font-family=\"Times,serif\" font-size=\"14.00\">gt</text>\n",
       "</g>\n",
       "<!-- 3&#45;&gt;2 -->\n",
       "<g id=\"edge10\" class=\"edge\">\n",
       "<title>3&#45;&gt;2</title>\n",
       "<path fill=\"none\" stroke=\"sienna\" d=\"M85.13,-176.91C75.79,-164.67 63.03,-147.95 52.38,-133.99\"/>\n",
       "<polygon fill=\"sienna\" stroke=\"sienna\" points=\"55.17,-131.88 46.32,-126.05 49.61,-136.13 55.17,-131.88\"/>\n",
       "<text text-anchor=\"middle\" x=\"76.33\" y=\"-145.7\" font-family=\"Times,serif\" font-size=\"14.00\">gt</text>\n",
       "</g>\n",
       "<!-- 3&#45;&gt;1 -->\n",
       "<g id=\"edge11\" class=\"edge\">\n",
       "<title>3&#45;&gt;1</title>\n",
       "<path fill=\"none\" stroke=\"sienna\" d=\"M98.57,-176.58C99.26,-146.44 100.68,-84.3 101.51,-47.7\"/>\n",
       "<polygon fill=\"sienna\" stroke=\"sienna\" points=\"105.01,-47.94 101.74,-37.86 98.01,-47.78 105.01,-47.94\"/>\n",
       "<text text-anchor=\"middle\" x=\"105.82\" y=\"-101.45\" font-family=\"Times,serif\" font-size=\"14.00\">gt</text>\n",
       "</g>\n",
       "</g>\n",
       "</svg>\n"
      ],
      "text/plain": [
       "<Dot visualization: expr_as_graph [(\"gt\",{x,y|x:1..5 & y:1..5 & x>y},\"half\",{y,x|x:1..5 & y:1..5 & x+x=y})]>"
      ]
     },
     "execution_count": 7,
     "metadata": {},
     "output_type": "execute_result"
    }
   ],
   "source": [
    ":dot expr_as_graph (\"gt\",{x,y|x:1..5 & y:1..5 & x>y},\"half\",{y,x|x:1..5 & y:1..5 & x+x=y})"
   ]
  },
  {
   "cell_type": "code",
   "execution_count": 8,
   "metadata": {},
   "outputs": [
    {
     "data": {
      "text/plain": [
       "Preference changed: DOT_ENGINE = circo\n"
      ]
     },
     "execution_count": 8,
     "metadata": {},
     "output_type": "execute_result"
    }
   ],
   "source": [
    ":pref DOT_ENGINE=circo"
   ]
  },
  {
   "cell_type": "code",
   "execution_count": 9,
   "metadata": {},
   "outputs": [
    {
     "data": {
      "image/svg+xml": [
       "<?xml version=\"1.0\" encoding=\"UTF-8\" standalone=\"no\"?>\n",
       "<!DOCTYPE svg PUBLIC \"-//W3C//DTD SVG 1.1//EN\"\n",
       " \"http://www.w3.org/Graphics/SVG/1.1/DTD/svg11.dtd\">\n",
       "<!-- Generated by graphviz version 12.2.1 (20241206.2353)\n",
       " -->\n",
       "<!-- Title: state Pages: 1 -->\n",
       "<svg width=\"243pt\" height=\"235pt\"\n",
       " viewBox=\"0.00 0.00 243.39 234.72\" xmlns=\"http://www.w3.org/2000/svg\" xmlns:xlink=\"http://www.w3.org/1999/xlink\">\n",
       "<g id=\"graph0\" class=\"graph\" transform=\"scale(1 1) rotate(0) translate(4 230.72)\">\n",
       "<title>state</title>\n",
       "<polygon fill=\"white\" stroke=\"none\" points=\"-4,4 -4,-230.72 239.39,-230.72 239.39,4 -4,4\"/>\n",
       "<!-- 4 -->\n",
       "<g id=\"node1\" class=\"node\">\n",
       "<title>4</title>\n",
       "<polygon fill=\"#cdba96\" stroke=\"#cdba96\" points=\"166.1,-36 112.1,-36 112.1,0 166.1,0 166.1,-36\"/>\n",
       "<text text-anchor=\"middle\" x=\"139.1\" y=\"-12.95\" font-family=\"Times,serif\" font-size=\"14.00\">4</text>\n",
       "</g>\n",
       "<!-- 2 -->\n",
       "<g id=\"node2\" class=\"node\">\n",
       "<title>2</title>\n",
       "<polygon fill=\"#cdba96\" stroke=\"#cdba96\" points=\"235.39,-131.36 181.39,-131.36 181.39,-95.36 235.39,-95.36 235.39,-131.36\"/>\n",
       "<text text-anchor=\"middle\" x=\"208.39\" y=\"-108.31\" font-family=\"Times,serif\" font-size=\"14.00\">2</text>\n",
       "</g>\n",
       "<!-- 4&#45;&gt;2 -->\n",
       "<g id=\"edge1\" class=\"edge\">\n",
       "<title>4&#45;&gt;2</title>\n",
       "<path fill=\"none\" stroke=\"firebrick\" d=\"M146.1,-36.33C154.38,-50.48 168.19,-70.2 180.76,-86.17\"/>\n",
       "<polygon fill=\"firebrick\" stroke=\"firebrick\" points=\"178,-88.33 187.02,-93.89 183.44,-83.92 178,-88.33\"/>\n",
       "<text text-anchor=\"middle\" x=\"152.93\" y=\"-64.45\" font-family=\"Times,serif\" font-size=\"14.00\">half</text>\n",
       "</g>\n",
       "<!-- 4&#45;&gt;2 -->\n",
       "<g id=\"edge8\" class=\"edge\">\n",
       "<title>4&#45;&gt;2</title>\n",
       "<path fill=\"none\" stroke=\"sienna\" d=\"M159.48,-36.25C171.21,-50.26 185.46,-69.76 195.64,-85.67\"/>\n",
       "<polygon fill=\"sienna\" stroke=\"sienna\" points=\"192.38,-87.06 200.6,-93.75 198.35,-83.39 192.38,-87.06\"/>\n",
       "<text text-anchor=\"middle\" x=\"172.31\" y=\"-64.16\" font-family=\"Times,serif\" font-size=\"14.00\">gt</text>\n",
       "</g>\n",
       "<!-- 1 -->\n",
       "<g id=\"node3\" class=\"node\">\n",
       "<title>1</title>\n",
       "<polygon fill=\"#cdba96\" stroke=\"#cdba96\" points=\"54,-190.3 0,-190.3 0,-154.3 54,-154.3 54,-190.3\"/>\n",
       "<text text-anchor=\"middle\" x=\"27\" y=\"-167.25\" font-family=\"Times,serif\" font-size=\"14.00\">1</text>\n",
       "</g>\n",
       "<!-- 4&#45;&gt;1 -->\n",
       "<g id=\"edge9\" class=\"edge\">\n",
       "<title>4&#45;&gt;1</title>\n",
       "<path fill=\"none\" stroke=\"sienna\" d=\"M125.8,-36.31C106.25,-63.22 69.61,-113.65 46.86,-144.96\"/>\n",
       "<polygon fill=\"sienna\" stroke=\"sienna\" points=\"44.22,-142.64 41.17,-152.79 49.88,-146.76 44.22,-142.64\"/>\n",
       "<text text-anchor=\"middle\" x=\"81.08\" y=\"-93.83\" font-family=\"Times,serif\" font-size=\"14.00\">gt</text>\n",
       "</g>\n",
       "<!-- 3 -->\n",
       "<g id=\"node5\" class=\"node\">\n",
       "<title>3</title>\n",
       "<polygon fill=\"#cdba96\" stroke=\"#cdba96\" points=\"54,-72.42 0,-72.42 0,-36.42 54,-36.42 54,-72.42\"/>\n",
       "<text text-anchor=\"middle\" x=\"27\" y=\"-49.37\" font-family=\"Times,serif\" font-size=\"14.00\">3</text>\n",
       "</g>\n",
       "<!-- 4&#45;&gt;3 -->\n",
       "<g id=\"edge7\" class=\"edge\">\n",
       "<title>4&#45;&gt;3</title>\n",
       "<path fill=\"none\" stroke=\"sienna\" d=\"M111.68,-26.91C97.6,-31.49 80.22,-37.13 64.88,-42.12\"/>\n",
       "<polygon fill=\"sienna\" stroke=\"sienna\" points=\"64.01,-38.72 55.58,-45.14 66.17,-45.38 64.01,-38.72\"/>\n",
       "<text text-anchor=\"middle\" x=\"83.03\" y=\"-37.71\" font-family=\"Times,serif\" font-size=\"14.00\">gt</text>\n",
       "</g>\n",
       "<!-- 2&#45;&gt;1 -->\n",
       "<g id=\"edge2\" class=\"edge\">\n",
       "<title>2&#45;&gt;1</title>\n",
       "<path fill=\"none\" stroke=\"firebrick\" d=\"M181.28,-117.04C150.47,-124.76 99.98,-140.87 65.19,-153.89\"/>\n",
       "<polygon fill=\"firebrick\" stroke=\"firebrick\" points=\"63.99,-150.6 55.91,-157.45 66.5,-157.14 63.99,-150.6\"/>\n",
       "<text text-anchor=\"middle\" x=\"112.73\" y=\"-122.17\" font-family=\"Times,serif\" font-size=\"14.00\">half</text>\n",
       "</g>\n",
       "<!-- 2&#45;&gt;1 -->\n",
       "<g id=\"edge12\" class=\"edge\">\n",
       "<title>2&#45;&gt;1</title>\n",
       "<path fill=\"none\" stroke=\"sienna\" d=\"M181.22,-127.54C150.39,-139.71 99.93,-156.27 65.17,-165.72\"/>\n",
       "<polygon fill=\"sienna\" stroke=\"sienna\" points=\"64.72,-162.21 55.94,-168.14 66.5,-168.98 64.72,-162.21\"/>\n",
       "<text text-anchor=\"middle\" x=\"117.94\" y=\"-149.83\" font-family=\"Times,serif\" font-size=\"14.00\">gt</text>\n",
       "</g>\n",
       "<!-- 5 -->\n",
       "<g id=\"node4\" class=\"node\">\n",
       "<title>5</title>\n",
       "<polygon fill=\"#cdba96\" stroke=\"#cdba96\" points=\"166.1,-226.72 112.1,-226.72 112.1,-190.72 166.1,-190.72 166.1,-226.72\"/>\n",
       "<text text-anchor=\"middle\" x=\"139.1\" y=\"-203.67\" font-family=\"Times,serif\" font-size=\"14.00\">5</text>\n",
       "</g>\n",
       "<!-- 5&#45;&gt;4 -->\n",
       "<g id=\"edge3\" class=\"edge\">\n",
       "<title>5&#45;&gt;4</title>\n",
       "<path fill=\"none\" stroke=\"sienna\" d=\"M139.1,-190.43C139.1,-157.4 139.1,-87.5 139.1,-47.58\"/>\n",
       "<polygon fill=\"sienna\" stroke=\"sienna\" points=\"142.6,-47.75 139.1,-37.75 135.6,-47.75 142.6,-47.75\"/>\n",
       "<text text-anchor=\"middle\" x=\"133.85\" y=\"-122.21\" font-family=\"Times,serif\" font-size=\"14.00\">gt</text>\n",
       "</g>\n",
       "<!-- 5&#45;&gt;2 -->\n",
       "<g id=\"edge5\" class=\"edge\">\n",
       "<title>5&#45;&gt;2</title>\n",
       "<path fill=\"none\" stroke=\"sienna\" d=\"M152.46,-190.33C162.72,-176.22 177.04,-156.51 188.62,-140.57\"/>\n",
       "<polygon fill=\"sienna\" stroke=\"sienna\" points=\"191.13,-143.06 194.18,-132.91 185.47,-138.95 191.13,-143.06\"/>\n",
       "<text text-anchor=\"middle\" x=\"165.29\" y=\"-168.65\" font-family=\"Times,serif\" font-size=\"14.00\">gt</text>\n",
       "</g>\n",
       "<!-- 5&#45;&gt;1 -->\n",
       "<g id=\"edge6\" class=\"edge\">\n",
       "<title>5&#45;&gt;1</title>\n",
       "<path fill=\"none\" stroke=\"sienna\" d=\"M111.68,-199.81C97.6,-195.23 80.22,-189.59 64.88,-184.6\"/>\n",
       "<polygon fill=\"sienna\" stroke=\"sienna\" points=\"66.17,-181.34 55.58,-181.58 64.01,-188 66.17,-181.34\"/>\n",
       "<text text-anchor=\"middle\" x=\"83.03\" y=\"-195.41\" font-family=\"Times,serif\" font-size=\"14.00\">gt</text>\n",
       "</g>\n",
       "<!-- 5&#45;&gt;3 -->\n",
       "<g id=\"edge4\" class=\"edge\">\n",
       "<title>5&#45;&gt;3</title>\n",
       "<path fill=\"none\" stroke=\"sienna\" d=\"M125.8,-190.41C106.25,-163.5 69.61,-113.07 46.86,-81.76\"/>\n",
       "<polygon fill=\"sienna\" stroke=\"sienna\" points=\"49.88,-79.96 41.17,-73.93 44.22,-84.08 49.88,-79.96\"/>\n",
       "<text text-anchor=\"middle\" x=\"81.08\" y=\"-139.29\" font-family=\"Times,serif\" font-size=\"14.00\">gt</text>\n",
       "</g>\n",
       "<!-- 3&#45;&gt;2 -->\n",
       "<g id=\"edge10\" class=\"edge\">\n",
       "<title>3&#45;&gt;2</title>\n",
       "<path fill=\"none\" stroke=\"sienna\" d=\"M54.16,-63.25C85.01,-73.27 135.58,-89.71 170.36,-101\"/>\n",
       "<polygon fill=\"sienna\" stroke=\"sienna\" points=\"169.01,-104.25 179.61,-104.01 171.18,-97.59 169.01,-104.25\"/>\n",
       "<text text-anchor=\"middle\" x=\"107.01\" y=\"-85.33\" font-family=\"Times,serif\" font-size=\"14.00\">gt</text>\n",
       "</g>\n",
       "<!-- 3&#45;&gt;1 -->\n",
       "<g id=\"edge11\" class=\"edge\">\n",
       "<title>3&#45;&gt;1</title>\n",
       "<path fill=\"none\" stroke=\"sienna\" d=\"M27,-72.84C27,-91.53 27,-120.74 27,-142.68\"/>\n",
       "<polygon fill=\"sienna\" stroke=\"sienna\" points=\"23.5,-142.49 27,-152.49 30.5,-142.49 23.5,-142.49\"/>\n",
       "<text text-anchor=\"middle\" x=\"21.75\" y=\"-110.96\" font-family=\"Times,serif\" font-size=\"14.00\">gt</text>\n",
       "</g>\n",
       "</g>\n",
       "</svg>\n"
      ],
      "text/plain": [
       "<Dot visualization: expr_as_graph [(\"gt\",{x,y|x:1..5 & y:1..5 & x>y},\"half\",{y,x|x:1..5 & y:1..5 & x+x=y})]>"
      ]
     },
     "execution_count": 9,
     "metadata": {},
     "output_type": "execute_result"
    }
   ],
   "source": [
    ":dot expr_as_graph (\"gt\",{x,y|x:1..5 & y:1..5 & x>y},\"half\",{y,x|x:1..5 & y:1..5 & x+x=y})"
   ]
  },
  {
   "cell_type": "code",
   "execution_count": 10,
   "metadata": {},
   "outputs": [
    {
     "data": {
      "text/plain": [
       "Preference changed: DOT_ENGINE = dot\n"
      ]
     },
     "execution_count": 10,
     "metadata": {},
     "output_type": "execute_result"
    }
   ],
   "source": [
    ":pref DOT_ENGINE=dot"
   ]
  },
  {
   "cell_type": "code",
   "execution_count": 11,
   "metadata": {},
   "outputs": [
    {
     "data": {
      "image/svg+xml": [
       "<?xml version=\"1.0\" encoding=\"UTF-8\" standalone=\"no\"?>\n",
       "<!DOCTYPE svg PUBLIC \"-//W3C//DTD SVG 1.1//EN\"\n",
       " \"http://www.w3.org/Graphics/SVG/1.1/DTD/svg11.dtd\">\n",
       "<!-- Generated by graphviz version 12.2.1 (20241206.2353)\n",
       " -->\n",
       "<!-- Title: g Pages: 1 -->\n",
       "<svg width=\"242pt\" height=\"114pt\"\n",
       " viewBox=\"0.00 0.00 242.00 113.50\" xmlns=\"http://www.w3.org/2000/svg\" xmlns:xlink=\"http://www.w3.org/1999/xlink\">\n",
       "<g id=\"graph0\" class=\"graph\" transform=\"scale(1 1) rotate(0) translate(4 109.5)\">\n",
       "<title>g</title>\n",
       "<polygon fill=\"white\" stroke=\"none\" points=\"-4,4 -4,-109.5 238,-109.5 238,4 -4,4\"/>\n",
       "<!-- Noderoot -->\n",
       "<g id=\"node1\" class=\"node\">\n",
       "<title>Noderoot</title>\n",
       "<path fill=\"#b3ee3a\" stroke=\"black\" d=\"M42,-76.5C42,-76.5 12,-76.5 12,-76.5 6,-76.5 0,-70.5 0,-64.5 0,-64.5 0,-47.5 0,-47.5 0,-41.5 6,-35.5 12,-35.5 12,-35.5 42,-35.5 42,-35.5 48,-35.5 54,-41.5 54,-47.5 54,-47.5 54,-64.5 54,-64.5 54,-70.5 48,-76.5 42,-76.5\"/>\n",
       "<text text-anchor=\"middle\" x=\"27\" y=\"-59.2\" font-family=\"Times,serif\" font-size=\"14.00\">=</text>\n",
       "<text text-anchor=\"middle\" x=\"27\" y=\"-42.7\" font-family=\"Times,serif\" font-size=\"14.00\">true</text>\n",
       "</g>\n",
       "<!-- Node1 -->\n",
       "<g id=\"node2\" class=\"node\">\n",
       "<title>Node1</title>\n",
       "<polygon fill=\"white\" stroke=\"black\" points=\"90,-69 90,-105 144,-105 144,-69 90,-69\"/>\n",
       "<text text-anchor=\"middle\" x=\"117\" y=\"-82.2\" font-family=\"Times,serif\" font-size=\"14.00\">2</text>\n",
       "</g>\n",
       "<!-- Node1&#45;&gt;Noderoot -->\n",
       "<g id=\"edge1\" class=\"edge\">\n",
       "<title>Node1&#45;&gt;Noderoot</title>\n",
       "<path fill=\"none\" stroke=\"black\" d=\"M89.6,-77.7C81.94,-75 73.43,-72 65.24,-69.12\"/>\n",
       "<polygon fill=\"black\" stroke=\"black\" points=\"66.41,-65.82 55.81,-65.8 64.08,-72.42 66.41,-65.82\"/>\n",
       "</g>\n",
       "<!-- Node2 -->\n",
       "<g id=\"node3\" class=\"node\">\n",
       "<title>Node2</title>\n",
       "<polygon fill=\"white\" stroke=\"black\" points=\"90,-0.5 90,-49.5 144,-49.5 144,-0.5 90,-0.5\"/>\n",
       "<text text-anchor=\"middle\" x=\"117\" y=\"-32.2\" font-family=\"Times,serif\" font-size=\"14.00\">card</text>\n",
       "<polyline fill=\"none\" stroke=\"black\" points=\"90,-25 144,-25\"/>\n",
       "<text text-anchor=\"middle\" x=\"117\" y=\"-7.7\" font-family=\"Times,serif\" font-size=\"14.00\">2</text>\n",
       "</g>\n",
       "<!-- Node2&#45;&gt;Noderoot -->\n",
       "<g id=\"edge2\" class=\"edge\">\n",
       "<title>Node2&#45;&gt;Noderoot</title>\n",
       "<path fill=\"none\" stroke=\"black\" d=\"M89.6,-34.3C81.94,-37 73.43,-40 65.24,-42.88\"/>\n",
       "<polygon fill=\"black\" stroke=\"black\" points=\"64.08,-39.58 55.81,-46.2 66.41,-46.18 64.08,-39.58\"/>\n",
       "</g>\n",
       "<!-- Node3 -->\n",
       "<g id=\"node4\" class=\"node\">\n",
       "<title>Node3</title>\n",
       "<polygon fill=\"white\" stroke=\"black\" points=\"180,-7 180,-43 234,-43 234,-7 180,-7\"/>\n",
       "<text text-anchor=\"middle\" x=\"207\" y=\"-20.2\" font-family=\"Times,serif\" font-size=\"14.00\">{1,2}</text>\n",
       "</g>\n",
       "<!-- Node3&#45;&gt;Node2 -->\n",
       "<g id=\"edge3\" class=\"edge\">\n",
       "<title>Node3&#45;&gt;Node2</title>\n",
       "<path fill=\"none\" stroke=\"black\" d=\"M179.6,-25C172.11,-25 163.82,-25 155.8,-25\"/>\n",
       "<polygon fill=\"black\" stroke=\"black\" points=\"155.9,-21.5 145.9,-25 155.9,-28.5 155.9,-21.5\"/>\n",
       "</g>\n",
       "</g>\n",
       "</svg>\n"
      ],
      "text/plain": [
       "<Dot visualization: formula_tree [1*2 + 3/4 = card({1, 2})]>"
      ]
     },
     "execution_count": 11,
     "metadata": {},
     "output_type": "execute_result"
    }
   ],
   "source": [
    ":dot formula_tree 1*2 + 3/4 = card({1, 2})"
   ]
  },
  {
   "cell_type": "markdown",
   "metadata": {},
   "source": [
    "Local variables can be used in dot visualisation parameters."
   ]
  },
  {
   "cell_type": "code",
   "execution_count": 12,
   "metadata": {},
   "outputs": [
    {
     "data": {
      "text/markdown": [
       "$2$"
      ],
      "text/plain": [
       "2"
      ]
     },
     "execution_count": 12,
     "metadata": {},
     "output_type": "execute_result"
    }
   ],
   "source": [
    ":let thing 1*2 + 3/4"
   ]
  },
  {
   "cell_type": "code",
   "execution_count": 13,
   "metadata": {},
   "outputs": [
    {
     "data": {
      "image/svg+xml": [
       "<?xml version=\"1.0\" encoding=\"UTF-8\" standalone=\"no\"?>\n",
       "<!DOCTYPE svg PUBLIC \"-//W3C//DTD SVG 1.1//EN\"\n",
       " \"http://www.w3.org/Graphics/SVG/1.1/DTD/svg11.dtd\">\n",
       "<!-- Generated by graphviz version 12.2.1 (20241206.2353)\n",
       " -->\n",
       "<!-- Title: g Pages: 1 -->\n",
       "<svg width=\"242pt\" height=\"114pt\"\n",
       " viewBox=\"0.00 0.00 242.00 113.50\" xmlns=\"http://www.w3.org/2000/svg\" xmlns:xlink=\"http://www.w3.org/1999/xlink\">\n",
       "<g id=\"graph0\" class=\"graph\" transform=\"scale(1 1) rotate(0) translate(4 109.5)\">\n",
       "<title>g</title>\n",
       "<polygon fill=\"white\" stroke=\"none\" points=\"-4,4 -4,-109.5 238,-109.5 238,4 -4,4\"/>\n",
       "<!-- Noderoot -->\n",
       "<g id=\"node1\" class=\"node\">\n",
       "<title>Noderoot</title>\n",
       "<path fill=\"#b3ee3a\" stroke=\"black\" d=\"M42,-76.5C42,-76.5 12,-76.5 12,-76.5 6,-76.5 0,-70.5 0,-64.5 0,-64.5 0,-47.5 0,-47.5 0,-41.5 6,-35.5 12,-35.5 12,-35.5 42,-35.5 42,-35.5 48,-35.5 54,-41.5 54,-47.5 54,-47.5 54,-64.5 54,-64.5 54,-70.5 48,-76.5 42,-76.5\"/>\n",
       "<text text-anchor=\"middle\" x=\"27\" y=\"-59.2\" font-family=\"Times,serif\" font-size=\"14.00\">=</text>\n",
       "<text text-anchor=\"middle\" x=\"27\" y=\"-42.7\" font-family=\"Times,serif\" font-size=\"14.00\">true</text>\n",
       "</g>\n",
       "<!-- Node1 -->\n",
       "<g id=\"node2\" class=\"node\">\n",
       "<title>Node1</title>\n",
       "<polygon fill=\"white\" stroke=\"black\" points=\"90,-69 90,-105 144,-105 144,-69 90,-69\"/>\n",
       "<text text-anchor=\"middle\" x=\"117\" y=\"-82.2\" font-family=\"Times,serif\" font-size=\"14.00\">2</text>\n",
       "</g>\n",
       "<!-- Node1&#45;&gt;Noderoot -->\n",
       "<g id=\"edge1\" class=\"edge\">\n",
       "<title>Node1&#45;&gt;Noderoot</title>\n",
       "<path fill=\"none\" stroke=\"black\" d=\"M89.6,-77.7C81.94,-75 73.43,-72 65.24,-69.12\"/>\n",
       "<polygon fill=\"black\" stroke=\"black\" points=\"66.41,-65.82 55.81,-65.8 64.08,-72.42 66.41,-65.82\"/>\n",
       "</g>\n",
       "<!-- Node2 -->\n",
       "<g id=\"node3\" class=\"node\">\n",
       "<title>Node2</title>\n",
       "<polygon fill=\"white\" stroke=\"black\" points=\"90,-0.5 90,-49.5 144,-49.5 144,-0.5 90,-0.5\"/>\n",
       "<text text-anchor=\"middle\" x=\"117\" y=\"-32.2\" font-family=\"Times,serif\" font-size=\"14.00\">card</text>\n",
       "<polyline fill=\"none\" stroke=\"black\" points=\"90,-25 144,-25\"/>\n",
       "<text text-anchor=\"middle\" x=\"117\" y=\"-7.7\" font-family=\"Times,serif\" font-size=\"14.00\">2</text>\n",
       "</g>\n",
       "<!-- Node2&#45;&gt;Noderoot -->\n",
       "<g id=\"edge2\" class=\"edge\">\n",
       "<title>Node2&#45;&gt;Noderoot</title>\n",
       "<path fill=\"none\" stroke=\"black\" d=\"M89.6,-34.3C81.94,-37 73.43,-40 65.24,-42.88\"/>\n",
       "<polygon fill=\"black\" stroke=\"black\" points=\"64.08,-39.58 55.81,-46.2 66.41,-46.18 64.08,-39.58\"/>\n",
       "</g>\n",
       "<!-- Node3 -->\n",
       "<g id=\"node4\" class=\"node\">\n",
       "<title>Node3</title>\n",
       "<polygon fill=\"white\" stroke=\"black\" points=\"180,-7 180,-43 234,-43 234,-7 180,-7\"/>\n",
       "<text text-anchor=\"middle\" x=\"207\" y=\"-20.2\" font-family=\"Times,serif\" font-size=\"14.00\">{1,2}</text>\n",
       "</g>\n",
       "<!-- Node3&#45;&gt;Node2 -->\n",
       "<g id=\"edge3\" class=\"edge\">\n",
       "<title>Node3&#45;&gt;Node2</title>\n",
       "<path fill=\"none\" stroke=\"black\" d=\"M179.6,-25C172.11,-25 163.82,-25 155.8,-25\"/>\n",
       "<polygon fill=\"black\" stroke=\"black\" points=\"155.9,-21.5 145.9,-25 155.9,-28.5 155.9,-21.5\"/>\n",
       "</g>\n",
       "</g>\n",
       "</svg>\n"
      ],
      "text/plain": [
       "<Dot visualization: formula_tree [LET thing BE thing=2 IN(\n",
       "thing = card({1, 2})\n",
       ")END]>"
      ]
     },
     "execution_count": 13,
     "metadata": {},
     "output_type": "execute_result"
    }
   ],
   "source": [
    ":dot formula_tree thing = card({1, 2})"
   ]
  }
 ],
 "metadata": {
  "kernelspec": {
   "display_name": "ProB 2",
   "language": "prob",
   "name": "prob2"
  },
  "language_info": {
   "codemirror_mode": "prob2_jupyter_repl",
   "file_extension": ".prob",
   "mimetype": "text/x-prob2-jupyter-repl",
   "name": "prob"
  }
 },
 "nbformat": 4,
 "nbformat_minor": 4
}
