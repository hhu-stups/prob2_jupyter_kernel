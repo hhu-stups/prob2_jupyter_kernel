{
 "cells": [
  {
   "cell_type": "code",
   "execution_count": 1,
   "metadata": {},
   "outputs": [
    {
     "data": {
      "text/markdown": [
       "```\n",
       "::render MIMETYPE\n",
       "CONTENT\n",
       "```\n",
       "\n",
       "Render some content with the specified MIME type.\n",
       "\n",
       "This command is intended for debugging the rendering behavior of Jupyter and the kernel, it should not be used in regular notebooks. To include text or images in a notebook, Markdown cells should be used instead.\n",
       "\n",
       "The command does not place any restrictions on the MIME type or content. A plain text fallback with the raw content is always included, and will be displayed if the frontend does not support the given MIME type."
      ],
      "text/plain": [
       "::render MIMETYPE\n",
       "CONTENT\n",
       "Render some content with the specified MIME type.\n",
       "\n",
       "This command is intended for debugging the rendering behavior of Jupyter and the kernel, it should not be used in regular notebooks. To include text or images in a notebook, Markdown cells should be used instead.\n",
       "\n",
       "The command does not place any restrictions on the MIME type or content. A plain text fallback with the raw content is always included, and will be displayed if the frontend does not support the given MIME type."
      ]
     },
     "execution_count": 1,
     "metadata": {},
     "output_type": "execute_result"
    }
   ],
   "source": [
    ":help ::render"
   ]
  },
  {
   "cell_type": "code",
   "execution_count": 2,
   "metadata": {},
   "outputs": [
    {
     "data": {
      "text/plain": [
       "This is plain text."
      ]
     },
     "execution_count": 2,
     "metadata": {},
     "output_type": "execute_result"
    }
   ],
   "source": [
    "::render text/plain\n",
    "This is plain text."
   ]
  },
  {
   "cell_type": "code",
   "execution_count": 3,
   "metadata": {},
   "outputs": [
    {
     "data": {
      "text/markdown": [
       "This *is* **Markdown!** Also supports embedded $\\LaTeX$ math."
      ],
      "text/plain": [
       "text/markdown:\n",
       "This *is* **Markdown!** Also supports embedded $\\LaTeX$ math."
      ]
     },
     "execution_count": 3,
     "metadata": {},
     "output_type": "execute_result"
    }
   ],
   "source": [
    "::render text/markdown\n",
    "This *is* **Markdown!** Also supports embedded $\\LaTeX$ math."
   ]
  },
  {
   "cell_type": "code",
   "execution_count": 4,
   "metadata": {},
   "outputs": [
    {
     "data": {
      "text/latex": [
       "This is text with embedded $\\LaTeX$ math, but *no* Markdown."
      ],
      "text/plain": [
       "text/latex:\n",
       "This is text with embedded $\\LaTeX$ math, but *no* Markdown."
      ]
     },
     "execution_count": 4,
     "metadata": {},
     "output_type": "execute_result"
    }
   ],
   "source": [
    "::render text/latex\n",
    "This is text with embedded $\\LaTeX$ math, but *no* Markdown."
   ]
  },
  {
   "cell_type": "code",
   "execution_count": 5,
   "metadata": {},
   "outputs": [
    {
     "data": {
      "text/html": [
       "This <em>is</em> <a href=\"https://html.spec.whatwg.org/multipage/\">HTML</a>."
      ],
      "text/plain": [
       "text/html:\n",
       "This <em>is</em> <a href=\"https://html.spec.whatwg.org/multipage/\">HTML</a>."
      ]
     },
     "execution_count": 5,
     "metadata": {},
     "output_type": "execute_result"
    }
   ],
   "source": [
    "::render text/html\n",
    "This <em>is</em> <a href=\"https://html.spec.whatwg.org/multipage/\">HTML</a>."
   ]
  },
  {
   "cell_type": "code",
   "execution_count": 6,
   "metadata": {},
   "outputs": [
    {
     "data": {
      "image/svg+xml": [
       "<?xml version=\"1.0\" encoding=\"UTF-8\" ?>\n",
       "<!--\n",
       "Based on:\n",
       "https://en.wikipedia.org/w/index.php?title=Scalable_Vector_Graphics&oldid=843316249#Example\n",
       "-->\n",
       "<svg xmlns=\"http://www.w3.org/2000/svg\" version=\"1.1\" width=\"250\" height=\"250\">\n",
       "  <rect x=\"25\" y=\"25\" width=\"200\" height=\"200\" fill=\"lime\" stroke-width=\"4\" stroke=\"pink\" />\n",
       "  <circle cx=\"125\" cy=\"125\" r=\"75\" fill=\"orange\" />\n",
       "  <polyline points=\"50,150 50,200 200,200 200,100\" stroke=\"red\" stroke-width=\"4\" fill=\"none\" />\n",
       "  <line x1=\"50\" y1=\"50\" x2=\"200\" y2=\"200\" stroke=\"blue\" stroke-width=\"4\" />\n",
       "</svg>"
      ],
      "text/plain": [
       "image/svg+xml:\n",
       "<?xml version=\"1.0\" encoding=\"UTF-8\" ?>\n",
       "<!--\n",
       "Based on:\n",
       "https://en.wikipedia.org/w/index.php?title=Scalable_Vector_Graphics&oldid=843316249#Example\n",
       "-->\n",
       "<svg xmlns=\"http://www.w3.org/2000/svg\" version=\"1.1\" width=\"250\" height=\"250\">\n",
       "  <rect x=\"25\" y=\"25\" width=\"200\" height=\"200\" fill=\"lime\" stroke-width=\"4\" stroke=\"pink\" />\n",
       "  <circle cx=\"125\" cy=\"125\" r=\"75\" fill=\"orange\" />\n",
       "  <polyline points=\"50,150 50,200 200,200 200,100\" stroke=\"red\" stroke-width=\"4\" fill=\"none\" />\n",
       "  <line x1=\"50\" y1=\"50\" x2=\"200\" y2=\"200\" stroke=\"blue\" stroke-width=\"4\" />\n",
       "</svg>"
      ]
     },
     "execution_count": 6,
     "metadata": {},
     "output_type": "execute_result"
    }
   ],
   "source": [
    "::render image/svg+xml\n",
    "<?xml version=\"1.0\" encoding=\"UTF-8\" ?>\n",
    "<!--\n",
    "Based on:\n",
    "https://en.wikipedia.org/w/index.php?title=Scalable_Vector_Graphics&oldid=843316249#Example\n",
    "-->\n",
    "<svg xmlns=\"http://www.w3.org/2000/svg\" version=\"1.1\" width=\"250\" height=\"250\">\n",
    "  <rect x=\"25\" y=\"25\" width=\"200\" height=\"200\" fill=\"lime\" stroke-width=\"4\" stroke=\"pink\" />\n",
    "  <circle cx=\"125\" cy=\"125\" r=\"75\" fill=\"orange\" />\n",
    "  <polyline points=\"50,150 50,200 200,200 200,100\" stroke=\"red\" stroke-width=\"4\" fill=\"none\" />\n",
    "  <line x1=\"50\" y1=\"50\" x2=\"200\" y2=\"200\" stroke=\"blue\" stroke-width=\"4\" />\n",
    "</svg>"
   ]
  },
  {
   "cell_type": "markdown",
   "metadata": {},
   "source": [
    "The content must be on a separate line."
   ]
  },
  {
   "cell_type": "code",
   "execution_count": 7,
   "metadata": {},
   "outputs": [
    {
     "ename": "CommandExecutionException",
     "evalue": "::render: Missing content (the content cannot be placed on the same line as the command)",
     "output_type": "error",
     "traceback": [
      "\u001b[1m\u001b[31m::render: Missing content (the content cannot be placed on the same line as the command)\u001b[0m"
     ]
    }
   ],
   "source": [
    "::render text/markdown This *is* **Markdown!**"
   ]
  },
  {
   "cell_type": "markdown",
   "metadata": {},
   "source": [
    "The MIME type is required."
   ]
  },
  {
   "cell_type": "code",
   "execution_count": 8,
   "metadata": {},
   "outputs": [
    {
     "ename": "CommandExecutionException",
     "evalue": "::render: Missing MIME type",
     "output_type": "error",
     "traceback": [
      "\u001b[1m\u001b[31m::render: Missing MIME type\u001b[0m"
     ]
    }
   ],
   "source": [
    "::render\n",
    "This is... something."
   ]
  }
 ],
 "metadata": {
  "kernelspec": {
   "display_name": "ProB 2",
   "language": "prob",
   "name": "prob2"
  },
  "language_info": {
   "codemirror_mode": "prob2_jupyter_repl",
   "file_extension": ".prob",
   "mimetype": "text/x-prob2-jupyter-repl",
   "name": "prob"
  }
 },
 "nbformat": 4,
 "nbformat_minor": 2
}
