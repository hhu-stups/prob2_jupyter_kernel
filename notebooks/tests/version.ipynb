{
 "cells": [
  {
   "cell_type": "code",
   "execution_count": 1,
   "metadata": {},
   "outputs": [
    {
     "data": {
      "text/markdown": [
       "```\n",
       ":version\n",
       "```\n",
       "\n",
       "Display version info about the ProB 2 Jupyter kernel and its underlying components."
      ],
      "text/plain": [
       ":version\n",
       "Display version info about the ProB 2 Jupyter kernel and its underlying components."
      ]
     },
     "execution_count": 1,
     "metadata": {},
     "output_type": "execute_result"
    }
   ],
   "source": [
    ":help :version"
   ]
  },
  {
   "cell_type": "code",
   "execution_count": 2,
   "metadata": {},
   "outputs": [
    {
     "data": {
      "text/plain": [
       "ProB 2 Jupyter kernel: 1.3.1-SNAPSHOT (b960640e155fc1441104e499894acd14e8f0fc07)\n",
       "ProB 2: 4.12.0 (0356aaca15fde27915b8ab15c35a198fd381c9cd)\n",
       "ProB B parser: 2.12.3 (99a64151f3bc82f987258619161831a8b9a7df01)\n",
       "ProB CLI:\n",
       "\t1.12.0-final (fef4b935b59d76e353ab67230f6206b15f903f4b)\n",
       "\tLast changed: Wed Apr 5 14:57:01 2023 +0200\n",
       "\tProlog: SICStus 4.7.1 (x86_64-darwin-18.7.0): Fri Jan 21 19:45:28 CET 2022"
      ]
     },
     "execution_count": 2,
     "metadata": {},
     "output_type": "execute_result"
    }
   ],
   "source": [
    ":version"
   ]
  }
 ],
 "metadata": {
  "kernelspec": {
   "display_name": "ProB 2",
   "language": "prob",
   "name": "prob2"
  },
  "language_info": {
   "codemirror_mode": "prob2_jupyter_repl",
   "file_extension": ".prob",
   "mimetype": "text/x-prob2-jupyter-repl",
   "name": "prob"
  }
 },
 "nbformat": 4,
 "nbformat_minor": 2
}
