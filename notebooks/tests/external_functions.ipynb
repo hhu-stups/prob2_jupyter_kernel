{
 "cells": [
  {
   "cell_type": "code",
   "execution_count": 1,
   "metadata": {},
   "outputs": [
    {
     "data": {
      "text/plain": [
       "Loaded machine: Jupyter : []\n"
      ]
     },
     "execution_count": 1,
     "metadata": {},
     "output_type": "execute_result"
    }
   ],
   "source": [
    "::load\n",
    "MACHINE Jupyter\n",
    "    DEFINITIONS \"LibraryMeta.def\"; \"LibraryStrings.def\"\n",
    "END"
   ]
  },
  {
   "cell_type": "code",
   "execution_count": 2,
   "metadata": {},
   "outputs": [
    {
     "data": {
      "text/plain": [
       "\"1.8.1-beta4\""
      ]
     },
     "execution_count": 2,
     "metadata": {},
     "output_type": "execute_result"
    }
   ],
   "source": [
    "PROB_INFO_STR(\"prob-version\")"
   ]
  },
  {
   "cell_type": "code",
   "execution_count": 3,
   "metadata": {},
   "outputs": [
    {
     "data": {
      "text/plain": [
       "\"1.8.0_172-b11\""
      ]
     },
     "execution_count": 3,
     "metadata": {},
     "output_type": "execute_result"
    }
   ],
   "source": [
    "PROB_INFO_STR(\"java-version\")"
   ]
  },
  {
   "cell_type": "code",
   "execution_count": 4,
   "metadata": {},
   "outputs": [
    {
     "data": {
      "text/plain": [
       "\"c6264c505a07e8df7a9f0a7631c9d503c125bd8e\""
      ]
     },
     "execution_count": 4,
     "metadata": {},
     "output_type": "execute_result"
    }
   ],
   "source": [
    "PROB_INFO_STR(\"prob-revision\")"
   ]
  },
  {
   "cell_type": "code",
   "execution_count": 5,
   "metadata": {},
   "outputs": [
    {
     "data": {
      "text/plain": [
       "1"
      ]
     },
     "execution_count": 5,
     "metadata": {},
     "output_type": "execute_result"
    }
   ],
   "source": [
    "PROB_STATISTICS(\"states\")"
   ]
  },
  {
   "cell_type": "code",
   "execution_count": 6,
   "metadata": {},
   "outputs": [
    {
     "data": {
      "text/plain": [
       "150627280"
      ]
     },
     "execution_count": 6,
     "metadata": {},
     "output_type": "execute_result"
    }
   ],
   "source": [
    "PROB_STATISTICS(\"prolog-memory-bytes-used\")"
   ]
  },
  {
   "cell_type": "markdown",
   "metadata": {},
   "source": [
    "The following fails because Java parser not available from within probcli:"
   ]
  },
  {
   "cell_type": "code",
   "execution_count": 7,
   "metadata": {},
   "outputs": [
    {
     "ename": "CommandExecutionException",
     "evalue": ":eval: NOT-WELL-DEFINED: \nUnexpected error while parsing machine: \n\n\nAdditional information:  Fehler: Hauptklasse de.prob.cliparser.CliBParser konnte nicht gefunden oder geladen werden\n\n\nJava B parser (probcliparser.jar) is missing from lib directory in:  /Users/david/.prob/prob2-3.2.10-SNAPSHOT/\n\n",
     "output_type": "error",
     "traceback": [
      "\u001b[1m\u001b[31m:eval: NOT-WELL-DEFINED: \u001b[0m",
      "\u001b[1m\u001b[31mUnexpected error while parsing machine: \u001b[0m",
      "\u001b[1m\u001b[31m\u001b[0m",
      "\u001b[1m\u001b[31m\u001b[0m",
      "\u001b[1m\u001b[31mAdditional information:  Fehler: Hauptklasse de.prob.cliparser.CliBParser konnte nicht gefunden oder geladen werden\u001b[0m",
      "\u001b[1m\u001b[31m\u001b[0m",
      "\u001b[1m\u001b[31m\u001b[0m",
      "\u001b[1m\u001b[31mJava B parser (probcliparser.jar) is missing from lib directory in:  /Users/david/.prob/prob2-3.2.10-SNAPSHOT/\u001b[0m"
     ]
    }
   ],
   "source": [
    "PROB_INFO_STR(\"parser-version\")"
   ]
  }
 ],
 "metadata": {
  "kernelspec": {
   "display_name": "ProB 2",
   "language": "prob",
   "name": "prob2"
  },
  "language_info": {
   "file_extension": ".prob",
   "mimetype": "text/x-prob",
   "name": "prob"
  }
 },
 "nbformat": 4,
 "nbformat_minor": 2
}
