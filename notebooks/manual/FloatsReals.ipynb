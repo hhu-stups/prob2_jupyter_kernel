{
 "cells": [
  {
   "cell_type": "markdown",
   "id": "85001897",
   "metadata": {},
   "source": [
    "# Reals and Floats in ProB\n",
    "\n",
    "### Michael Leuschel\n"
   ]
  },
  {
   "cell_type": "markdown",
   "id": "42473a5e",
   "metadata": {},
   "source": [
    "## Classical B\n",
    "\n",
    "In Atelier-B the following two types were added to the B language:\n",
    "* REAL\n",
    "* FLOAT\n",
    "\n",
    "ProB treats these keywords as synonyms for a new base type.\n",
    "The current representation in ProB are floating point numbers; but this\n",
    "will probably change in the future, at least for the REAL type.\n",
    "\n",
    "One can now also use literals in decimal point notation for REAL and FLOAT."
   ]
  },
  {
   "cell_type": "code",
   "execution_count": 1,
   "id": "cf76baf3",
   "metadata": {
    "vscode": {
     "languageId": "plaintext"
    }
   },
   "outputs": [
    {
     "data": {
      "text/markdown": [
       "$2.0$"
      ],
      "text/plain": [
       "2.0"
      ]
     },
     "execution_count": 1,
     "metadata": {},
     "output_type": "execute_result"
    }
   ],
   "source": [
    "1.0+real(1)"
   ]
  },
  {
   "cell_type": "code",
   "execution_count": 2,
   "id": "941433ba",
   "metadata": {
    "vscode": {
     "languageId": "plaintext"
    }
   },
   "outputs": [
    {
     "data": {
      "text/markdown": [
       "$\\mathit{TRUE}$"
      ],
      "text/plain": [
       "TRUE"
      ]
     },
     "execution_count": 2,
     "metadata": {},
     "output_type": "execute_result"
    }
   ],
   "source": [
    "1.0 : REAL & 1.0 : FLOAT"
   ]
  },
  {
   "cell_type": "markdown",
   "id": "6caf3504",
   "metadata": {},
   "source": [
    "### Conversion Operators\n",
    "The following conversion operators are available in classical B:\n",
    "* floor\n",
    "* ceiling\n",
    "* real"
   ]
  },
  {
   "cell_type": "code",
   "execution_count": 3,
   "id": "8925f6fe",
   "metadata": {
    "vscode": {
     "languageId": "plaintext"
    }
   },
   "outputs": [
    {
     "data": {
      "text/markdown": [
       "$2.0$"
      ],
      "text/plain": [
       "2.0"
      ]
     },
     "execution_count": 3,
     "metadata": {},
     "output_type": "execute_result"
    }
   ],
   "source": [
    "real(2)"
   ]
  },
  {
   "cell_type": "code",
   "execution_count": 4,
   "id": "bbd73954",
   "metadata": {
    "vscode": {
     "languageId": "plaintext"
    }
   },
   "outputs": [
    {
     "data": {
      "text/markdown": [
       "$2$"
      ],
      "text/plain": [
       "2"
      ]
     },
     "execution_count": 4,
     "metadata": {},
     "output_type": "execute_result"
    }
   ],
   "source": [
    "floor(2.2)"
   ]
  },
  {
   "cell_type": "code",
   "execution_count": 5,
   "id": "838ea786",
   "metadata": {
    "vscode": {
     "languageId": "plaintext"
    }
   },
   "outputs": [
    {
     "data": {
      "text/markdown": [
       "$3$"
      ],
      "text/plain": [
       "3"
      ]
     },
     "execution_count": 5,
     "metadata": {},
     "output_type": "execute_result"
    }
   ],
   "source": [
    "ceiling(2.2)"
   ]
  },
  {
   "cell_type": "code",
   "execution_count": 6,
   "id": "ee31f934",
   "metadata": {
    "vscode": {
     "languageId": "plaintext"
    }
   },
   "outputs": [
    {
     "data": {
      "text/markdown": [
       "$-2$"
      ],
      "text/plain": [
       "−2"
      ]
     },
     "execution_count": 6,
     "metadata": {},
     "output_type": "execute_result"
    }
   ],
   "source": [
    "ceiling(-2.2)"
   ]
  },
  {
   "cell_type": "markdown",
   "id": "f7398e0e",
   "metadata": {},
   "source": [
    "### Arithmetic Operators\n",
    "\n",
    "The documentation of Atelier-B is not entirely consistent according to which\n",
    "operators to use.\n",
    "In ProB you can use the standard arithmetic operators also for\n",
    "floats:"
   ]
  },
  {
   "cell_type": "code",
   "execution_count": 7,
   "id": "65a66ec9",
   "metadata": {
    "vscode": {
     "languageId": "plaintext"
    }
   },
   "outputs": [
    {
     "data": {
      "text/markdown": [
       "$2.0$"
      ],
      "text/plain": [
       "2.0"
      ]
     },
     "execution_count": 7,
     "metadata": {},
     "output_type": "execute_result"
    }
   ],
   "source": [
    "1.0 + 1.0"
   ]
  },
  {
   "cell_type": "code",
   "execution_count": 8,
   "id": "35ce95d5",
   "metadata": {
    "vscode": {
     "languageId": "classicalb"
    }
   },
   "outputs": [
    {
     "data": {
      "text/markdown": [
       "$\\mathit{FALSE}$"
      ],
      "text/plain": [
       "FALSE"
      ]
     },
     "execution_count": 8,
     "metadata": {},
     "output_type": "execute_result"
    }
   ],
   "source": [
    "2.0 * 2.0 < 2.1"
   ]
  },
  {
   "cell_type": "code",
   "execution_count": 9,
   "id": "531aa72d",
   "metadata": {
    "vscode": {
     "languageId": "classicalb"
    }
   },
   "outputs": [
    {
     "data": {
      "text/markdown": [
       "$\\mathit{FALSE}$"
      ],
      "text/plain": [
       "FALSE"
      ]
     },
     "execution_count": 9,
     "metadata": {},
     "output_type": "execute_result"
    }
   ],
   "source": [
    "2.0 * 2.0 < 2.0 + 2.0"
   ]
  },
  {
   "cell_type": "markdown",
   "id": "9066aa50",
   "metadata": {},
   "source": [
    "You can control whether to allow arithmetic operators for reals\n",
    "in ProB via the preference ```ALLOW_REALS```.\n",
    "By default reals are allowed for classical B and disallowed for Event-B.\n",
    "The only disadvantage of allowing reals is that the arithmetic operators\n",
    "are overloaded, which may require stronger typing.\n",
    "E.g., without ```x:INT``` you get an error that the type of x and y cannot be inferred, when reals are allowed:"
   ]
  },
  {
   "cell_type": "code",
   "execution_count": 10,
   "id": "528e647d",
   "metadata": {
    "vscode": {
     "languageId": "classicalb"
    }
   },
   "outputs": [
    {
     "data": {
      "text/markdown": [
       "$\\mathit{TRUE}$\n",
       "\n",
       "**Solution:**\n",
       "* $\\mathit{x} = -1$\n",
       "* $\\mathit{y} = 0$"
      ],
      "text/plain": [
       "TRUE\n",
       "\n",
       "Solution:\n",
       "\tx = −1\n",
       "\ty = 0"
      ]
     },
     "execution_count": 10,
     "metadata": {},
     "output_type": "execute_result"
    }
   ],
   "source": [
    "x:INT & x < y"
   ]
  },
  {
   "cell_type": "markdown",
   "id": "02b86510",
   "metadata": {},
   "source": [
    "### Constraint solving\n",
    "\n",
    "Constraint solving and enumeration is very limited in ProB.\n",
    "This will change in future.\n",
    "Currently ProB will enumerate a few random values for unspecified reals,\n",
    "and then stop with an enumeration warning."
   ]
  },
  {
   "cell_type": "code",
   "execution_count": 11,
   "id": "9356ea2c",
   "metadata": {
    "vscode": {
     "languageId": "classicalb"
    }
   },
   "outputs": [
    {
     "data": {
      "text/markdown": [
       "$\\mathit{TRUE}$\n",
       "\n",
       "**Solution:**\n",
       "* $\\mathit{x} = 0.0$"
      ],
      "text/plain": [
       "TRUE\n",
       "\n",
       "Solution:\n",
       "\tx = 0.0"
      ]
     },
     "execution_count": 11,
     "metadata": {},
     "output_type": "execute_result"
    }
   ],
   "source": [
    "x:REAL"
   ]
  },
  {
   "cell_type": "code",
   "execution_count": 12,
   "id": "b6d8671d",
   "metadata": {
    "vscode": {
     "languageId": "classicalb"
    }
   },
   "outputs": [
    {
     "data": {
      "text/markdown": [
       "$\\mathit{TRUE}$\n",
       "\n",
       "**Solution:**\n",
       "* $\\mathit{x} = 0.9999999999999999$"
      ],
      "text/plain": [
       "TRUE\n",
       "\n",
       "Solution:\n",
       "\tx = 0.9999999999999999"
      ]
     },
     "execution_count": 12,
     "metadata": {},
     "output_type": "execute_result"
    }
   ],
   "source": [
    "x + 1.0 = 2.0"
   ]
  },
  {
   "cell_type": "markdown",
   "id": "13388af0",
   "metadata": {},
   "source": [
    "### Other Operators\n",
    "\n",
    "The standard library ```LibraryReals.def``` provides many functions\n",
    "over reals as external functions.\n",
    "These functions typically start with a capital R.\n",
    "The functions are available in the REPL (aka console) but\n",
    "one needs to import ```LibraryReals.def``` to use them in a B machine.\n"
   ]
  },
  {
   "cell_type": "code",
   "execution_count": 13,
   "id": "df6d2cd0",
   "metadata": {
    "vscode": {
     "languageId": "classicalb"
    }
   },
   "outputs": [
    {
     "data": {
      "text/markdown": [
       "$1.4142135623730951$"
      ],
      "text/plain": [
       "1.4142135623730951"
      ]
     },
     "execution_count": 13,
     "metadata": {},
     "output_type": "execute_result"
    }
   ],
   "source": [
    "RSQRT(2.0)"
   ]
  },
  {
   "cell_type": "code",
   "execution_count": 14,
   "id": "d2daab50",
   "metadata": {
    "vscode": {
     "languageId": "classicalb"
    }
   },
   "outputs": [
    {
     "data": {
      "text/markdown": [
       "$-2.4492935982947064E-16$"
      ],
      "text/plain": [
       "−2.4492935982947064E-16"
      ]
     },
     "execution_count": 14,
     "metadata": {},
     "output_type": "execute_result"
    }
   ],
   "source": [
    "RSIN(2.0*RPI)"
   ]
  },
  {
   "cell_type": "code",
   "execution_count": 15,
   "id": "481e4f68",
   "metadata": {
    "vscode": {
     "languageId": "classicalb"
    }
   },
   "outputs": [
    {
     "data": {
      "text/markdown": [
       "$\\mathit{TRUE}$\n",
       "\n",
       "**Solution:**\n",
       "* $\\mathit{r} = 1.0$\n",
       "* $\\mathit{x} = 0.5$"
      ],
      "text/plain": [
       "TRUE\n",
       "\n",
       "Solution:\n",
       "\tr = 1.0\n",
       "\tx = 0.5"
      ]
     },
     "execution_count": 15,
     "metadata": {},
     "output_type": "execute_result"
    }
   ],
   "source": [
    "r=RPOW(RSIN(x),2.0)+RPOW(RCOS(x),2.0) & x=0.5"
   ]
  },
  {
   "cell_type": "code",
   "execution_count": 16,
   "id": "bfd74a24",
   "metadata": {
    "vscode": {
     "languageId": "classicalb"
    }
   },
   "outputs": [
    {
     "data": {
      "text/markdown": [
       "$\\mathit{TRUE}$\n",
       "\n",
       "**Solution:**\n",
       "* $\\mathit{r} = 1.0000000000000002$\n",
       "* $\\mathit{x} = 10.5$"
      ],
      "text/plain": [
       "TRUE\n",
       "\n",
       "Solution:\n",
       "\tr = 1.0000000000000002\n",
       "\tx = 10.5"
      ]
     },
     "execution_count": 16,
     "metadata": {},
     "output_type": "execute_result"
    }
   ],
   "source": [
    "r=RPOW(RSIN(x),2.0)+RPOW(RCOS(x),2.0) & x=10.5"
   ]
  },
  {
   "cell_type": "code",
   "execution_count": 17,
   "id": "34ca2773",
   "metadata": {
    "vscode": {
     "languageId": "classicalb"
    }
   },
   "outputs": [
    {
     "data": {
      "text/markdown": [
       "$2.718281828459045$"
      ],
      "text/plain": [
       "2.718281828459045"
      ]
     },
     "execution_count": 17,
     "metadata": {},
     "output_type": "execute_result"
    }
   ],
   "source": [
    "REULER"
   ]
  },
  {
   "cell_type": "code",
   "execution_count": 18,
   "id": "4b24407f",
   "metadata": {
    "vscode": {
     "languageId": "classicalb"
    }
   },
   "outputs": [
    {
     "data": {
      "text/markdown": [
       "$-1.0$"
      ],
      "text/plain": [
       "−1.0"
      ]
     },
     "execution_count": 18,
     "metadata": {},
     "output_type": "execute_result"
    }
   ],
   "source": [
    "RSIGN(-2.2)"
   ]
  },
  {
   "cell_type": "code",
   "execution_count": 19,
   "id": "ec855071",
   "metadata": {
    "vscode": {
     "languageId": "classicalb"
    }
   },
   "outputs": [
    {
     "data": {
      "text/markdown": [
       "$2.2$"
      ],
      "text/plain": [
       "2.2"
      ]
     },
     "execution_count": 19,
     "metadata": {},
     "output_type": "execute_result"
    }
   ],
   "source": [
    "RABS(-2.2)"
   ]
  },
  {
   "cell_type": "code",
   "execution_count": 20,
   "id": "c0bf9060",
   "metadata": {
    "vscode": {
     "languageId": "classicalb"
    }
   },
   "outputs": [
    {
     "data": {
      "text/markdown": [
       "$10.0$"
      ],
      "text/plain": [
       "10.0"
      ]
     },
     "execution_count": 20,
     "metadata": {},
     "output_type": "execute_result"
    }
   ],
   "source": [
    "RLOG(2.0,1024.0)"
   ]
  },
  {
   "cell_type": "code",
   "execution_count": 21,
   "id": "152d2052",
   "metadata": {
    "vscode": {
     "languageId": "classicalb"
    }
   },
   "outputs": [
    {
     "data": {
      "text/markdown": [
       "$1.0$"
      ],
      "text/plain": [
       "1.0"
      ]
     },
     "execution_count": 21,
     "metadata": {},
     "output_type": "execute_result"
    }
   ],
   "source": [
    "RLOGe(REULER)"
   ]
  },
  {
   "cell_type": "code",
   "execution_count": 22,
   "id": "0a81f12f",
   "metadata": {
    "vscode": {
     "languageId": "classicalb"
    }
   },
   "outputs": [
    {
     "data": {
      "text/markdown": [
       "$1.4142135623730951$"
      ],
      "text/plain": [
       "1.4142135623730951"
      ]
     },
     "execution_count": 22,
     "metadata": {},
     "output_type": "execute_result"
    }
   ],
   "source": [
    "RMAX(1.4,RSQRT(2.0))"
   ]
  },
  {
   "cell_type": "code",
   "execution_count": 23,
   "id": "4669fcd2",
   "metadata": {
    "vscode": {
     "languageId": "classicalb"
    }
   },
   "outputs": [
    {
     "data": {
      "text/markdown": [
       "$1.0$"
      ],
      "text/plain": [
       "1.0"
      ]
     },
     "execution_count": 23,
     "metadata": {},
     "output_type": "execute_result"
    }
   ],
   "source": [
    "RONE+RZERO"
   ]
  },
  {
   "cell_type": "markdown",
   "id": "8df6222b",
   "metadata": {},
   "source": [
    "There are also external functions which are equivalent to the arithmetic operators: RLEQ, RGEQ, RLT, RGT, ROUND, RINTEGER, RADD, RSUB, RMUL, RDIV.\n",
    "This can be useful in some cases (e.g., when ALLOW_REALS is false or when mapping Event-B operators to classical B, see below)."
   ]
  },
  {
   "cell_type": "markdown",
   "id": "dbb9c880",
   "metadata": {},
   "source": [
    "### Generating Random Values\n",
    "\n",
    "ProB also provides the RNORMAL external function, which is not a real mathematical function. It provides a random value according to a Gaussian distribution"
   ]
  },
  {
   "cell_type": "code",
   "execution_count": 24,
   "id": "31e86284",
   "metadata": {
    "vscode": {
     "languageId": "classicalb"
    }
   },
   "outputs": [
    {
     "data": {
      "text/markdown": [
       "$10.42530880185927$"
      ],
      "text/plain": [
       "10.42530880185927"
      ]
     },
     "execution_count": 24,
     "metadata": {},
     "output_type": "execute_result"
    }
   ],
   "source": [
    "RNORMAL(10.0,2.0)"
   ]
  },
  {
   "cell_type": "code",
   "execution_count": 25,
   "id": "8c360bee",
   "metadata": {
    "vscode": {
     "languageId": "classicalb"
    }
   },
   "outputs": [
    {
     "data": {
      "text/markdown": [
       "$10.42530880185927$"
      ],
      "text/plain": [
       "10.42530880185927"
      ]
     },
     "execution_count": 25,
     "metadata": {},
     "output_type": "execute_result"
    }
   ],
   "source": [
    "RNORMAL(10.0,2.0)"
   ]
  },
  {
   "cell_type": "markdown",
   "id": "cc7d2262",
   "metadata": {},
   "source": [
    "We can use this function to for example find counter-examples to the associativity law (which holds for reals but not for floats):"
   ]
  },
  {
   "cell_type": "code",
   "execution_count": 26,
   "id": "71b6b98c",
   "metadata": {
    "vscode": {
     "languageId": "classicalb"
    }
   },
   "outputs": [
    {
     "data": {
      "text/markdown": [
       "$\\mathit{TRUE}$\n",
       "\n",
       "**Solution:**\n",
       "* $\\mathit{xyz1} = -18.544180020675764$\n",
       "* $\\mathit{xyz2} = -18.544180020675768$\n",
       "* $\\mathit{r} = \\{(-10\\mapsto-6.861966615249229),(-9\\mapsto-7.186094094392285),(-8\\mapsto-7.332986301494491),(-7\\mapsto-8.106054776763203),(-6\\mapsto-0.6326089642083064),(-5\\mapsto-6.671750582994095),(-4\\mapsto-2.332070467149358),(-3\\mapsto-5.257350725625092),(-2\\mapsto-0.9560407162045725),(-1\\mapsto-2.9639673859069067),(0\\mapsto-2.0972756514159676),(1\\mapsto 0.6651149830119542),(2\\mapsto 1.645883632527818),(3\\mapsto-0.3668234275847766),(4\\mapsto 1.431408907913236),(5\\mapsto 4.345642759126807),(6\\mapsto 8.954892967425495),(7\\mapsto 7.237046310186458),(8\\mapsto 7.243573684657285),(9\\mapsto 10.891435438318947),(10\\mapsto 5.913195252409509)\\}$\n",
       "* $\\mathit{x} = -8.106054776763203$\n",
       "* $\\mathit{y} = -8.106054776763203$\n",
       "* $\\mathit{z} = -2.332070467149358$"
      ],
      "text/plain": [
       "TRUE\n",
       "\n",
       "Solution:\n",
       "\txyz1 = −18.544180020675764\n",
       "\txyz2 = −18.544180020675768\n",
       "\tr = {(−10↦−6.861966615249229),(−9↦−7.186094094392285),(−8↦−7.332986301494491),(−7↦−8.106054776763203),(−6↦−0.6326089642083064),(−5↦−6.671750582994095),(−4↦−2.332070467149358),(−3↦−5.257350725625092),(−2↦−0.9560407162045725),(−1↦−2.9639673859069067),(0↦−2.0972756514159676),(1↦0.6651149830119542),(2↦1.645883632527818),(3↦−0.3668234275847766),(4↦1.431408907913236),(5↦4.345642759126807),(6↦8.954892967425495),(7↦7.237046310186458),(8↦7.243573684657285),(9↦10.891435438318947),(10↦5.913195252409509)}\n",
       "\tx = −8.106054776763203\n",
       "\ty = −8.106054776763203\n",
       "\tz = −2.332070467149358"
      ]
     },
     "execution_count": 26,
     "metadata": {},
     "output_type": "execute_result"
    }
   ],
   "source": [
    "r = %i.(i:-10..10|RNORMAL(real(i),2.0)) &  // generate some random numbers\n",
    " x:ran(r) & y:ran(r) & z:ran(r) & // pick three random numbers from above\n",
    " xyz1 = (x+y)+z &\n",
    " xyz2 = x+(y+z) &\n",
    " xyz1 > xyz2"
   ]
  },
  {
   "cell_type": "markdown",
   "id": "909a9b2d",
   "metadata": {},
   "source": [
    "When using RNORMAL one has to be wary: ProB expects RNORMAL to be a mathematical function; hence in the expression below RNORMAL is evaluated only once an the same \"random\" value is generated for the 21 values:"
   ]
  },
  {
   "cell_type": "code",
   "execution_count": 27,
   "id": "1b8acb8f",
   "metadata": {
    "vscode": {
     "languageId": "classicalb"
    }
   },
   "outputs": [
    {
     "data": {
      "text/markdown": [
       "$\\mathit{TRUE}$\n",
       "\n",
       "**Solution:**\n",
       "* $\\mathit{r} = \\{(-10\\mapsto 4.066796711487291),(-9\\mapsto 4.066796711487291),(-8\\mapsto 4.066796711487291),(-7\\mapsto 4.066796711487291),(-6\\mapsto 4.066796711487291),(-5\\mapsto 4.066796711487291),(-4\\mapsto 4.066796711487291),(-3\\mapsto 4.066796711487291),(-2\\mapsto 4.066796711487291),(-1\\mapsto 4.066796711487291),(0\\mapsto 4.066796711487291),(1\\mapsto 4.066796711487291),(2\\mapsto 4.066796711487291),(3\\mapsto 4.066796711487291),(4\\mapsto 4.066796711487291),(5\\mapsto 4.066796711487291),(6\\mapsto 4.066796711487291),(7\\mapsto 4.066796711487291),(8\\mapsto 4.066796711487291),(9\\mapsto 4.066796711487291),(10\\mapsto 4.066796711487291)\\}$"
      ],
      "text/plain": [
       "TRUE\n",
       "\n",
       "Solution:\n",
       "\tr = {(−10↦4.066796711487291),(−9↦4.066796711487291),(−8↦4.066796711487291),(−7↦4.066796711487291),(−6↦4.066796711487291),(−5↦4.066796711487291),(−4↦4.066796711487291),(−3↦4.066796711487291),(−2↦4.066796711487291),(−1↦4.066796711487291),(0↦4.066796711487291),(1↦4.066796711487291),(2↦4.066796711487291),(3↦4.066796711487291),(4↦4.066796711487291),(5↦4.066796711487291),(6↦4.066796711487291),(7↦4.066796711487291),(8↦4.066796711487291),(9↦4.066796711487291),(10↦4.066796711487291)}"
      ]
     },
     "execution_count": 27,
     "metadata": {},
     "output_type": "execute_result"
    }
   ],
   "source": [
    "r = %i.(i:-10..10|RNORMAL(0.0,2.0))"
   ]
  },
  {
   "cell_type": "markdown",
   "id": "efc04915",
   "metadata": {},
   "source": [
    "Another external function for generating random values is RAND:"
   ]
  },
  {
   "cell_type": "code",
   "execution_count": 28,
   "id": "66b2fe21",
   "metadata": {
    "vscode": {
     "languageId": "classicalb"
    }
   },
   "outputs": [
    {
     "data": {
      "text/markdown": [
       "$6.2598827950041125$"
      ],
      "text/plain": [
       "6.2598827950041125"
      ]
     },
     "execution_count": 28,
     "metadata": {},
     "output_type": "execute_result"
    }
   ],
   "source": [
    "RAND(0.0,10.0)"
   ]
  },
  {
   "cell_type": "code",
   "execution_count": 29,
   "id": "52798a87",
   "metadata": {
    "vscode": {
     "languageId": "classicalb"
    }
   },
   "outputs": [
    {
     "data": {
      "text/markdown": [
       "$6.2598827950041125$"
      ],
      "text/plain": [
       "6.2598827950041125"
      ]
     },
     "execution_count": 29,
     "metadata": {},
     "output_type": "execute_result"
    }
   ],
   "source": [
    "RAND(0.0,10.0)"
   ]
  },
  {
   "cell_type": "markdown",
   "id": "cc7e1768",
   "metadata": {},
   "source": [
    "## Event-B Theories\n",
    "Event-B does not have support for reals or floats as basic type but one can use the theory plugin.\n",
    "\n",
    "[https://prob.hhu.de/w/index.php?title=Event-B_Theories]\n",
    "\n",
    "To be able to view reals in ProB within Rodin you need to install a recent nightly build: [https://stups.hhu-hosting.de/rodin/prob1/nightly]\n",
    "\n",
    "You need to use one of the standard theories.\n",
    "\n",
    "To write your own theory you should add an axiomatic type called REAL, FLOAT or the unicode R for reals.\n",
    "Then you have to define axiomatic operators and link them to ProB's real operators.\n",
    "You can do this either\n",
    "* using a theory mapping file (.ptm extension) which needs to be put into the Rodin project, see [https://prob.hhu.de/w/index.php?title=Event-B_Theories]\n",
    "* or use the same name as the external functions above (e.g., RSQRT) and set the preference AUTO_DETECT_THEORY_MAPPING to TRUE; in this way ProB will do the mapping automatically.\n",
    "\n",
    "\n"
   ]
  },
  {
   "cell_type": "markdown",
   "id": "b659ae13",
   "metadata": {},
   "source": []
  }
 ],
 "metadata": {
  "kernelspec": {
   "display_name": "ProB 2",
   "language": "prob",
   "name": "prob2"
  },
  "language_info": {
   "codemirror_mode": "prob2_jupyter_repl",
   "file_extension": ".prob",
   "mimetype": "text/x-prob2-jupyter-repl",
   "name": "prob"
  }
 },
 "nbformat": 4,
 "nbformat_minor": 5
}
