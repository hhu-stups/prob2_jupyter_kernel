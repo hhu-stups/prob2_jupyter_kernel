{
 "cells": [
  {
   "cell_type": "code",
   "execution_count": 1,
   "metadata": {},
   "outputs": [
    {
     "data": {
      "text/markdown": [
       "$\\def\\Inter{\\bigcap\\nolimits}\\def\\bfalse{\\mathord\\bot}\\def\\qdot{\\mathord{\\mkern1mu\\cdot\\mkern1mu}}\\def\\binter{\\mathbin{\\mkern1mu\\cap\\mkern1mu}}\\def\\dprod{\\mathbin\\otimes}\\def\\usucc{\\mathop{\\mathrm{succ}}\\nolimits}\\def\\trel{\\mathbin{<\\mkern-6mu<\\mkern-10mu-\\mkern-10mu>}}\\def\\strel{\\mathbin{<\\mkern-6mu<\\mkern-10mu-\\mkern-10mu>\\mkern-6mu>}}\\def\\Bool{\\mathord{\\mathrm{BOOL}}}\\def\\rel{\\mathbin{<\\mkern-10mu-\\mkern-10mu>}}\\def\\pprod{\\mathbin\\mid}\\def\\id{\\mathop{\\mathrm{id}}\\nolimits}\\def\\cprod{\\mathbin\\times}\\def\\ran{\\mathop{\\mathrm{ran}}\\nolimits}\\def\\nat{\\mathord{\\mathbb N}}\\def\\pown{\\mathop{\\mathbb P_1}\\nolimits}\\def\\finite{\\mathop{\\mathrm{finite}}\\nolimits}\\def\\inter{\\mathop{\\mathrm{inter}}\\nolimits}\\def\\prjone{\\mathop{\\mathrm{prj}_1}\\nolimits}\\def\\defi{\\mathrel{≙}}\\def\\ranres{\\mathbin▷}\\def\\prjtwo{\\mathop{\\mathrm{prj}_2}\\nolimits}\\def\\upred{\\mathop{\\mathrm{pred}}\\nolimits}\\def\\fcomp{\\mathbin;}\\def\\tbij{\\mathbin⤖}\\def\\pfun{\\mathbin↦}\\def\\tfun{\\mathbin→}\\def\\card{\\mathop{\\mathrm{card}}\\nolimits}\\def\\pinj{\\mathbin⤔}\\def\\dom{\\mathop{\\mathrm{dom}}\\nolimits}\\def\\bool{\\mathop{\\mathrm{bool}}\\nolimits}\\def\\tinj{\\mathbin↣}\\def\\domsub{\\mathbin⩤}\\def\\Union{\\bigcup\\nolimits}\\def\\limp{\\mathbin\\Rightarrow}\\def\\ransub{\\mathbin⩥}\\def\\psur{\\mathbin⤅}\\def\\pow{\\mathop{\\mathbb P\\hbox{}}\\nolimits}\\def\\bcmsuch{\\mathrel{:\\mkern1mu\\mid}}\\def\\natn{\\mathord{\\mathbb N_1}}\\def\\expn{\\mathbin{\\widehat{\\mkern1em}}}\\def\\upto{\\mathbin{.\\mkern1mu.}}\\def\\bcomp{\\circ}\\def\\bcmin{\\mathrel{:\\mkern1mu\\in}}\\def\\ovl{\\mathbin{<\\mkern-11mu+}}\\def\\intg{\\mathord{\\mathbb Z}}\\def\\domres{\\mathbin◁}\\def\\tsur{\\mathbin↠}\\def\\btrue{\\mathord\\top}\\def\\union{\\mathop{\\mathrm{union}}\\nolimits}\\def\\bcmeq{\\mathrel{:\\mkern1mu=}}\\def\\leqv{\\mathbin\\Leftrightarrow}\\def\\emptyset{\\mathord\\varnothing}\\def\\bunion{\\mathbin{\\mkern1mu\\cup\\mkern1mu}}\\def\\srel{\\mathbin{<\\mkern-10mu-\\mkern-10mu>\\mkern-6mu>}}\\text{All bsymb.sty definitions have been loaded.}$"
      ],
      "text/plain": [
       "Your current environment uses plain text output; the bsymb.sty LaTeX commands will not be loaded."
      ]
     },
     "execution_count": 1,
     "metadata": {},
     "output_type": "execute_result"
    }
   ],
   "source": [
    ":bsymb"
   ]
  },
  {
   "cell_type": "markdown",
   "metadata": {},
   "source": [
    "# Application: Course Notes for Theoretical Computer Science (NFA)\n",
    "\n",
    "\n",
    "\n",
    "#### DEFINITION 2.9 (NFA)\n",
    "A non-deterministic finite automaton\n",
    "(NFA) is a  5-tuple $M = (\\Sigma, Z, \\delta , S, F)$, where\n",
    "\n",
    "* $\\Sigma$ is the alphabet,\n",
    "* $Z$ is a finite set of states with $\\Sigma \\cap Z = \\emptyset$,\n",
    "* $\\delta : Z \\times \\Sigma \\rightarrow POW(Z)$ is the transition function\n",
    "  ($\\pow(Z)$ is the powerset of $Z$, the set of all subsets of $Z$),\n",
    "* $S \\subseteq Z$ is the set of initial states,\n",
    "* $F \\subseteq Z$ is the set of final (accepting) states.\n",
    "\n",
    "\n",
    "#### DEFINITION 2.10 (Language of an NFA)\n",
    "\n",
    "Die erweiterte Überführungsfunktion $\\widehat{\\delta} :\n",
    "\\pow(Z) \\times \\Sigma^* \\rightarrow \\pow(Z)$ von $M$ ist\n",
    "induktiv definiert:\n",
    "* $\\widehat{\\delta}(Z', \\lambda) = Z'$\n",
    "* $\\widehat{\\delta}(Z', ax) = \\bigcup_{z \\in Z'} \\widehat{\\delta}(\\delta(z,a), x)$\n",
    "für alle $Z' \\subseteq Z$, $a \\in \\Sigma$ und $x \\in \\Sigma^*$.\n",
    "\n",
    "Die vom NFA $M$ akzeptierte Sprache ist definiert durch\n",
    "* L(M) = $\\{w \\in \\Sigma^* \\mid \\widehat{\\delta}(S,w) \\cap F \\neq \\emptyset\\}$\n",
    "\n"
   ]
  },
  {
   "cell_type": "markdown",
   "metadata": {},
   "source": [
    "Wie laden nun ein B Modell welches diese Definitionen beinhaltet.\n",
    "Wörter werden dabei in der B Sprache mit eckigen Klammern und Kommas geschrieben; aus 101 wird [1,0,1].\n",
    "Gewisse griechische Zeichen sind in der B Sprache als Schlüsselwörter reserviert, zB $\\lambda$.\n",
    "Auch kann man leider kein $\\hat{~}$ in Bezeichnern verwenden.\n",
    "Deshalb wird aus\n",
    "* $\\Sigma^*$ wird ```seq(Σ)```\n",
    "* $\\widehat{\\delta}$ wird ```δs```"
   ]
  },
  {
   "cell_type": "code",
   "execution_count": 2,
   "metadata": {},
   "outputs": [
    {
     "data": {
      "text/plain": [
       "Loaded machine: NFA_nach_DFA"
      ]
     },
     "execution_count": 2,
     "metadata": {},
     "output_type": "execute_result"
    }
   ],
   "source": [
    "::load\n",
    "MACHINE NFA_nach_DFA\n",
    "SETS\n",
    "   Z = {z0,z1,z2,z3}\n",
    "ABSTRACT_CONSTANTS δs, L\n",
    "CONSTANTS Σ, S, F, δ\n",
    "PROPERTIES\n",
    " S ⊆ Z ∧ F ⊆ Z ∧ δ ∈ (Z×Σ) → ℙ(Z) ∧\n",
    "\n",
    " /* Definition der erweiterten Übergangsfunktion */\n",
    " δs ∈ (ℙ(Z)×seq(Σ)) → ℙ(Z) ∧\n",
    " δs = λ(Z2,s).(Z2⊆Z ∧ s∈seq(Σ) | \n",
    "           IF s=[] THEN Z2\n",
    "           ELSE         ⋃(z).(z∈Z2|δs(δ(z,first(s)),tail(s))) END)\n",
    " ∧\n",
    " /* die vom Automaten generierte Sprache */\n",
    " L = {ω|ω∈seq(Σ) ∧ δs(S,ω) ∩ F ≠ ∅}\n",
    " ∧\n",
    " /* Nun ein Beispiel-Automat von Folie 24 (Info 4) */\n",
    " Σ = {0,1} ∧\n",
    " S = {z0} ∧ F={z2} ∧\n",
    " δ = {     (z0,0)↦{z0}, (z0,1)↦{z0,z1},\n",
    "           (z1,0)↦{z2}, (z1,1)↦{z2},\n",
    "           (z2,0)↦{z3}, (z2,1)↦{z3},\n",
    "           (z3,0)↦{z3}, (z3,1)↦{z3} }\n",
    "END"
   ]
  },
  {
   "cell_type": "code",
   "execution_count": 3,
   "metadata": {},
   "outputs": [
    {
     "data": {
      "text/plain": [
       "Executed operation: SETUP_CONSTANTS()"
      ]
     },
     "execution_count": 3,
     "metadata": {},
     "output_type": "execute_result"
    }
   ],
   "source": [
    ":constants"
   ]
  },
  {
   "cell_type": "code",
   "execution_count": 4,
   "metadata": {},
   "outputs": [
    {
     "data": {
      "text/plain": [
       "Executed operation: INITIALISATION()"
      ]
     },
     "execution_count": 4,
     "metadata": {},
     "output_type": "execute_result"
    }
   ],
   "source": [
    ":init"
   ]
  },
  {
   "cell_type": "markdown",
   "metadata": {},
   "source": [
    "Die Übergangsfunktion $\\delta$ gibt us für einen Zustand und ein Symbol die möglichen nächsten Zustande an:"
   ]
  },
  {
   "cell_type": "code",
   "execution_count": 5,
   "metadata": {},
   "outputs": [
    {
     "data": {
      "text/markdown": [
       "$\\{\\mathit{z0},\\mathit{z1}\\}$"
      ],
      "text/plain": [
       "{z0,z1}"
      ]
     },
     "execution_count": 5,
     "metadata": {},
     "output_type": "execute_result"
    }
   ],
   "source": [
    "δ(z0,1)"
   ]
  },
  {
   "cell_type": "markdown",
   "metadata": {},
   "source": [
    "As you can see, the automaton is non-deterministic as there are two successors for the state ```z0``` and the input symbol ```1```.\n",
    "\n",
    "We can examine the transition function of this automaton as a table:"
   ]
  },
  {
   "cell_type": "code",
   "execution_count": 6,
   "metadata": {},
   "outputs": [
    {
     "data": {
      "text/markdown": [
       "|prj11|prj12|prj2|\n",
       "|---|---|---|\n",
       "|z0|0|{z0}|\n",
       "|z0|1|{z0,z1}|\n",
       "|z1|0|{z2}|\n",
       "|z1|1|{z2}|\n",
       "|z2|0|{z3}|\n",
       "|z2|1|{z3}|\n",
       "|z3|0|{z3}|\n",
       "|z3|1|{z3}|\n"
      ],
      "text/plain": [
       "prj11\tprj12\tprj2\n",
       "z0\t0\t{z0}\n",
       "z0\t1\t{z0,z1}\n",
       "z1\t0\t{z2}\n",
       "z1\t1\t{z2}\n",
       "z2\t0\t{z3}\n",
       "z2\t1\t{z3}\n",
       "z3\t0\t{z3}\n",
       "z3\t1\t{z3}\n"
      ]
     },
     "execution_count": 6,
     "metadata": {},
     "output_type": "execute_result"
    }
   ],
   "source": [
    ":table δ"
   ]
  },
  {
   "cell_type": "markdown",
   "metadata": {},
   "source": [
    "Alternatively, we can view it as graph:"
   ]
  },
  {
   "cell_type": "code",
   "execution_count": 7,
   "metadata": {},
   "outputs": [
    {
     "data": {
      "image/svg+xml": [
       "<?xml version=\"1.0\" encoding=\"UTF-8\" standalone=\"no\"?>\n",
       "<!DOCTYPE svg PUBLIC \"-//W3C//DTD SVG 1.1//EN\"\n",
       " \"http://www.w3.org/Graphics/SVG/1.1/DTD/svg11.dtd\">\n",
       "<!-- Generated by graphviz version 8.0.3 (20230416.2022)\n",
       " -->\n",
       "<!-- Title: state Pages: 1 -->\n",
       "<svg width=\"144pt\" height=\"358pt\"\n",
       " viewBox=\"0.00 0.00 144.00 358.00\" xmlns=\"http://www.w3.org/2000/svg\" xmlns:xlink=\"http://www.w3.org/1999/xlink\">\n",
       "<g id=\"graph0\" class=\"graph\" transform=\"scale(1 1) rotate(0) translate(4 354)\">\n",
       "<title>state</title>\n",
       "<polygon fill=\"white\" stroke=\"none\" points=\"-4,4 -4,-354 140,-354 140,4 -4,4\"/>\n",
       "<g id=\"clust1\" class=\"cluster\">\n",
       "<title>cluster_Z</title>\n",
       "<polygon fill=\"lightgrey\" stroke=\"lightgrey\" points=\"8,-8 8,-342 128,-342 128,-8 8,-8\"/>\n",
       "<text text-anchor=\"middle\" x=\"68\" y=\"-328.4\" font-family=\"Times,serif\" font-size=\"12.00\">Z</text>\n",
       "</g>\n",
       "<!-- z0 -->\n",
       "<g id=\"node1\" class=\"node\">\n",
       "<title>z0</title>\n",
       "<polygon fill=\"#efdf84\" stroke=\"#efdf84\" points=\"70,-313 16,-313 16,-277 70,-277 70,-313\"/>\n",
       "<text text-anchor=\"middle\" x=\"43\" y=\"-291.3\" font-family=\"Times,serif\" font-size=\"14.00\">z0</text>\n",
       "</g>\n",
       "<!-- z0&#45;&gt;z0 -->\n",
       "<g id=\"edge2\" class=\"edge\">\n",
       "<title>z0&#45;&gt;z0</title>\n",
       "<path fill=\"none\" stroke=\"firebrick\" d=\"M70.24,-299.07C80.02,-299.16 88,-297.8 88,-295 88,-293.38 85.33,-292.24 81.19,-291.59\"/>\n",
       "<polygon fill=\"firebrick\" stroke=\"firebrick\" points=\"81.43,-288.03 71.24,-290.93 81.01,-295.02 81.43,-288.03\"/>\n",
       "<text text-anchor=\"middle\" x=\"91.5\" y=\"-291.3\" font-family=\"Times,serif\" font-size=\"14.00\">1</text>\n",
       "</g>\n",
       "<!-- z0&#45;&gt;z0 -->\n",
       "<g id=\"edge6\" class=\"edge\">\n",
       "<title>z0&#45;&gt;z0</title>\n",
       "<path fill=\"none\" stroke=\"sienna\" d=\"M70.2,-302.44C88.34,-304.53 106,-302.05 106,-295 106,-289.38 94.79,-286.66 81.05,-286.85\"/>\n",
       "<polygon fill=\"sienna\" stroke=\"sienna\" points=\"80.95,-283.42 71.2,-287.56 81.4,-290.4 80.95,-283.42\"/>\n",
       "<text text-anchor=\"middle\" x=\"109.5\" y=\"-291.3\" font-family=\"Times,serif\" font-size=\"14.00\">0</text>\n",
       "</g>\n",
       "<!-- z1 -->\n",
       "<g id=\"node2\" class=\"node\">\n",
       "<title>z1</title>\n",
       "<polygon fill=\"#efdf84\" stroke=\"#efdf84\" points=\"70,-226 16,-226 16,-190 70,-190 70,-226\"/>\n",
       "<text text-anchor=\"middle\" x=\"43\" y=\"-204.3\" font-family=\"Times,serif\" font-size=\"14.00\">z1</text>\n",
       "</g>\n",
       "<!-- z0&#45;&gt;z1 -->\n",
       "<g id=\"edge1\" class=\"edge\">\n",
       "<title>z0&#45;&gt;z1</title>\n",
       "<path fill=\"none\" stroke=\"firebrick\" d=\"M43,-276.8C43,-265.47 43,-250.36 43,-237.29\"/>\n",
       "<polygon fill=\"firebrick\" stroke=\"firebrick\" points=\"46.5,-237.47 43,-227.47 39.5,-237.47 46.5,-237.47\"/>\n",
       "<text text-anchor=\"middle\" x=\"46.5\" y=\"-247.8\" font-family=\"Times,serif\" font-size=\"14.00\">1</text>\n",
       "</g>\n",
       "<!-- z2 -->\n",
       "<g id=\"node4\" class=\"node\">\n",
       "<title>z2</title>\n",
       "<polygon fill=\"#efdf84\" stroke=\"#efdf84\" points=\"70,-139 16,-139 16,-103 70,-103 70,-139\"/>\n",
       "<text text-anchor=\"middle\" x=\"43\" y=\"-117.3\" font-family=\"Times,serif\" font-size=\"14.00\">z2</text>\n",
       "</g>\n",
       "<!-- z1&#45;&gt;z2 -->\n",
       "<g id=\"edge5\" class=\"edge\">\n",
       "<title>z1&#45;&gt;z2</title>\n",
       "<path fill=\"none\" stroke=\"sienna\" d=\"M43,-189.8C43,-178.47 43,-163.36 43,-150.29\"/>\n",
       "<polygon fill=\"sienna\" stroke=\"sienna\" points=\"46.5,-150.47 43,-140.47 39.5,-150.47 46.5,-150.47\"/>\n",
       "<text text-anchor=\"middle\" x=\"46.5\" y=\"-160.8\" font-family=\"Times,serif\" font-size=\"14.00\">0</text>\n",
       "</g>\n",
       "<!-- z3 -->\n",
       "<g id=\"node3\" class=\"node\">\n",
       "<title>z3</title>\n",
       "<polygon fill=\"#efdf84\" stroke=\"#efdf84\" points=\"70,-52 16,-52 16,-16 70,-16 70,-52\"/>\n",
       "<text text-anchor=\"middle\" x=\"43\" y=\"-30.3\" font-family=\"Times,serif\" font-size=\"14.00\">z3</text>\n",
       "</g>\n",
       "<!-- z3&#45;&gt;z3 -->\n",
       "<g id=\"edge3\" class=\"edge\">\n",
       "<title>z3&#45;&gt;z3</title>\n",
       "<path fill=\"none\" stroke=\"sienna\" d=\"M70.24,-42.15C80.02,-42.32 88,-39.61 88,-34 88,-30.67 85.19,-28.36 80.86,-27.07\"/>\n",
       "<polygon fill=\"sienna\" stroke=\"sienna\" points=\"81.57,-23.51 71.24,-25.85 80.78,-30.47 81.57,-23.51\"/>\n",
       "<text text-anchor=\"middle\" x=\"91.5\" y=\"-30.3\" font-family=\"Times,serif\" font-size=\"14.00\">0</text>\n",
       "</g>\n",
       "<!-- z2&#45;&gt;z3 -->\n",
       "<g id=\"edge4\" class=\"edge\">\n",
       "<title>z2&#45;&gt;z3</title>\n",
       "<path fill=\"none\" stroke=\"sienna\" d=\"M43,-102.8C43,-91.47 43,-76.36 43,-63.29\"/>\n",
       "<polygon fill=\"sienna\" stroke=\"sienna\" points=\"46.5,-63.47 43,-53.47 39.5,-63.47 46.5,-63.47\"/>\n",
       "<text text-anchor=\"middle\" x=\"46.5\" y=\"-73.8\" font-family=\"Times,serif\" font-size=\"14.00\">0</text>\n",
       "</g>\n",
       "</g>\n",
       "</svg>\n"
      ],
      "text/plain": [
       "<Dot visualization: expr_as_graph [(\"0\",{x,y| x∈Z & y:δ(x,0)},\n",
       "                    \"1\",{x,y| x∈S & y∈δ(x,1)})]>"
      ]
     },
     "execution_count": 7,
     "metadata": {},
     "output_type": "execute_result"
    }
   ],
   "source": [
    ":dot expr_as_graph (\"0\",{x,y| x∈Z & y:δ(x,0)},\n",
    "                    \"1\",{x,y| x∈S & y∈δ(x,1)})"
   ]
  },
  {
   "cell_type": "markdown",
   "metadata": {},
   "source": [
    "Die Funktion $\\widehat{\\delta}$ berechnet die möglichen Zustände nach dem Abarbeiten eines Wortes. Zum Beispiel, kann sich der Automat nach dem Abarbeiten des Präfixes 111 in folgenden Zuständen befinden:"
   ]
  },
  {
   "cell_type": "code",
   "execution_count": 8,
   "metadata": {},
   "outputs": [
    {
     "data": {
      "text/markdown": [
       "$\\{\\mathit{z0},\\mathit{z1},\\mathit{z2},\\mathit{z3}\\}$"
      ],
      "text/plain": [
       "{z0,z1,z2,z3}"
      ]
     },
     "execution_count": 8,
     "metadata": {},
     "output_type": "execute_result"
    }
   ],
   "source": [
    "δs(S,[1,1,1])"
   ]
  },
  {
   "cell_type": "markdown",
   "metadata": {},
   "source": [
    "Der Automat akzeptiert zum Beispiel das Wort 111 und das Wort 101 nicht, da:"
   ]
  },
  {
   "cell_type": "code",
   "execution_count": 9,
   "metadata": {},
   "outputs": [
    {
     "data": {
      "text/markdown": [
       "$\\{\\mathit{z2}\\}$"
      ],
      "text/plain": [
       "{z2}"
      ]
     },
     "execution_count": 9,
     "metadata": {},
     "output_type": "execute_result"
    }
   ],
   "source": [
    "δs(S,[1,1,1]) ∩ F"
   ]
  },
  {
   "cell_type": "markdown",
   "metadata": {},
   "source": [
    "Folgende Wörter der Länge 3 werden vom Automaten akzeptiert:"
   ]
  },
  {
   "cell_type": "code",
   "execution_count": 10,
   "metadata": {},
   "outputs": [
    {
     "data": {
      "text/markdown": [
       "|x|y|z|\n",
       "|---|---|---|\n",
       "|0|1|0|\n",
       "|0|1|1|\n",
       "|1|1|0|\n",
       "|1|1|1|\n"
      ],
      "text/plain": [
       "x\ty\tz\n",
       "0\t1\t0\n",
       "0\t1\t1\n",
       "1\t1\t0\n",
       "1\t1\t1\n"
      ]
     },
     "execution_count": 10,
     "metadata": {},
     "output_type": "execute_result"
    }
   ],
   "source": [
    ":table {x,y,z| [x,y,z]∈L}"
   ]
  },
  {
   "cell_type": "markdown",
   "metadata": {},
   "source": [
    "and the following words of length 3 are not accepted:"
   ]
  },
  {
   "cell_type": "code",
   "execution_count": 11,
   "metadata": {},
   "outputs": [
    {
     "data": {
      "text/markdown": [
       "|x|y|z|\n",
       "|---|---|---|\n",
       "|0|0|0|\n",
       "|0|0|1|\n",
       "|1|0|0|\n",
       "|1|0|1|\n"
      ],
      "text/plain": [
       "x\ty\tz\n",
       "0\t0\t0\n",
       "0\t0\t1\n",
       "1\t0\t0\n",
       "1\t0\t1\n"
      ]
     },
     "execution_count": 11,
     "metadata": {},
     "output_type": "execute_result"
    }
   ],
   "source": [
    ":table {x,y,z| {x,y,z} ⊆ Σ & ¬([x,y,z]∈L)}"
   ]
  },
  {
   "cell_type": "markdown",
   "metadata": {},
   "source": [
    "Es stellt sich die Frage, ob NFAs mächtiger sind als DFAs. Die \n",
    "Antwort lautet: Nein.\n",
    "\n",
    "## Theorem (Rabin und Scott)\n",
    "Jede von einem NFA akzeptierte Sprache kann auch von einem DFA akzeptiert\n",
    "werden.\n",
    "\n",
    "### Beweis\n",
    "Sei $M = (\\Sigma, Z, \\delta , S, E)$ ein NFA. \n",
    "Konstruiere einen zu\n",
    "  $M$ äquivalenten DFA \n",
    "  $M' = (\\Sigma, \\pow(Z), \\delta' ,z_0', F)$ wie folgt:\n",
    "* Zustandsmenge von $M'$: die Potenzmenge $\\pow(Z)$ von $Z$,\n",
    "* $\\delta'(Z' , a) = \\widehat{\\delta}(Z',a)$ für alle $Z' \\subseteq Z$ und $a \\in \\Sigma$,\n",
    "* $z_0'=S$,\n",
    "* $F = \\{ Z' \\subseteq Z \\mid Z' \\cap E \\neq \\emptyset\\}$.\n",
    "Offenbar sind M' und M äquivalent, denn für alle ...\n",
    "\n"
   ]
  },
  {
   "cell_type": "markdown",
   "metadata": {},
   "source": [
    "Für den oben geladen Automaten können wir diese Konstruktion illustrieren.\n",
    "Die Potenzmenge der Zustände ist:"
   ]
  },
  {
   "cell_type": "code",
   "execution_count": 12,
   "metadata": {},
   "outputs": [
    {
     "data": {
      "text/markdown": [
       "$\\def\\emptyset{\\mathord\\varnothing}\\{\\emptyset,\\{\\mathit{z0}\\},\\{\\mathit{z0},\\mathit{z1}\\},\\{\\mathit{z0},\\mathit{z2}\\},\\{\\mathit{z0},\\mathit{z3}\\},\\{\\mathit{z1}\\},\\{\\mathit{z0},\\mathit{z1},\\mathit{z2}\\},\\{\\mathit{z0},\\mathit{z1},\\mathit{z3}\\},\\{\\mathit{z1},\\mathit{z2}\\},\\{\\mathit{z1},\\mathit{z3}\\},\\{\\mathit{z0},\\mathit{z1},\\mathit{z2},\\mathit{z3}\\},\\{\\mathit{z2}\\},\\{\\mathit{z0},\\mathit{z2},\\mathit{z3}\\},\\{\\mathit{z1},\\mathit{z2},\\mathit{z3}\\},\\{\\mathit{z2},\\mathit{z3}\\},\\{\\mathit{z3}\\}\\}$"
      ],
      "text/plain": [
       "{∅,{z0},{z0,z1},{z0,z2},{z0,z3},{z1},{z0,z1,z2},{z0,z1,z3},{z1,z2},{z1,z3},{z0,z1,z2,z3},{z2},{z0,z2,z3},{z1,z2,z3},{z2,z3},{z3}}"
      ]
     },
     "execution_count": 12,
     "metadata": {},
     "output_type": "execute_result"
    }
   ],
   "source": [
    "ℙ(Z)"
   ]
  },
  {
   "cell_type": "markdown",
   "metadata": {},
   "source": [
    "Tabellarisch können wir $\\widehat{\\delta}$ für $\\pow(Z)$ wie folgt ausrechnen:"
   ]
  },
  {
   "cell_type": "code",
   "execution_count": 13,
   "metadata": {},
   "outputs": [
    {
     "data": {
      "text/markdown": [
       "|x|a|y|\n",
       "|---|---|---|\n",
       "|∅|0|∅|\n",
       "|∅|1|∅|\n",
       "|{z0}|0|{z0}|\n",
       "|{z0}|1|{z0,z1}|\n",
       "|{z0,z1}|0|{z0,z2}|\n",
       "|{z0,z1}|1|{z0,z1,z2}|\n",
       "|{z0,z2}|0|{z0,z3}|\n",
       "|{z0,z2}|1|{z0,z1,z3}|\n",
       "|{z0,z3}|0|{z0,z3}|\n",
       "|{z0,z3}|1|{z0,z1,z3}|\n",
       "|{z1}|0|{z2}|\n",
       "|{z1}|1|{z2}|\n",
       "|{z0,z1,z2}|0|{z0,z2,z3}|\n",
       "|{z0,z1,z2}|1|{z0,z1,z2,z3}|\n",
       "|{z0,z1,z3}|0|{z0,z2,z3}|\n",
       "|{z0,z1,z3}|1|{z0,z1,z2,z3}|\n",
       "|{z1,z2}|0|{z2,z3}|\n",
       "|{z1,z2}|1|{z2,z3}|\n",
       "|{z1,z3}|0|{z2,z3}|\n",
       "|{z1,z3}|1|{z2,z3}|\n",
       "|{z0,z1,z2,z3}|0|{z0,z2,z3}|\n",
       "|{z0,z1,z2,z3}|1|{z0,z1,z2,z3}|\n",
       "|{z2}|0|{z3}|\n",
       "|{z2}|1|{z3}|\n",
       "|{z0,z2,z3}|0|{z0,z3}|\n",
       "|{z0,z2,z3}|1|{z0,z1,z3}|\n",
       "|{z1,z2,z3}|0|{z2,z3}|\n",
       "|{z1,z2,z3}|1|{z2,z3}|\n",
       "|{z2,z3}|0|{z3}|\n",
       "|{z2,z3}|1|{z3}|\n",
       "|{z3}|0|{z3}|\n",
       "|{z3}|1|{z3}|\n"
      ],
      "text/plain": [
       "x\ta\ty\n",
       "{}\t0\t{}\n",
       "{}\t1\t{}\n",
       "{z0}\t0\t{z0}\n",
       "{z0}\t1\t{z0,z1}\n",
       "{z0,z1}\t0\t{z0,z2}\n",
       "{z0,z1}\t1\t{z0,z1,z2}\n",
       "{z0,z2}\t0\t{z0,z3}\n",
       "{z0,z2}\t1\t{z0,z1,z3}\n",
       "{z0,z3}\t0\t{z0,z3}\n",
       "{z0,z3}\t1\t{z0,z1,z3}\n",
       "{z1}\t0\t{z2}\n",
       "{z1}\t1\t{z2}\n",
       "{z0,z1,z2}\t0\t{z0,z2,z3}\n",
       "{z0,z1,z2}\t1\t{z0,z1,z2,z3}\n",
       "{z0,z1,z3}\t0\t{z0,z2,z3}\n",
       "{z0,z1,z3}\t1\t{z0,z1,z2,z3}\n",
       "{z1,z2}\t0\t{z2,z3}\n",
       "{z1,z2}\t1\t{z2,z3}\n",
       "{z1,z3}\t0\t{z2,z3}\n",
       "{z1,z3}\t1\t{z2,z3}\n",
       "{z0,z1,z2,z3}\t0\t{z0,z2,z3}\n",
       "{z0,z1,z2,z3}\t1\t{z0,z1,z2,z3}\n",
       "{z2}\t0\t{z3}\n",
       "{z2}\t1\t{z3}\n",
       "{z0,z2,z3}\t0\t{z0,z3}\n",
       "{z0,z2,z3}\t1\t{z0,z1,z3}\n",
       "{z1,z2,z3}\t0\t{z2,z3}\n",
       "{z1,z2,z3}\t1\t{z2,z3}\n",
       "{z2,z3}\t0\t{z3}\n",
       "{z2,z3}\t1\t{z3}\n",
       "{z3}\t0\t{z3}\n",
       "{z3}\t1\t{z3}\n"
      ]
     },
     "execution_count": 13,
     "metadata": {},
     "output_type": "execute_result"
    }
   ],
   "source": [
    ":table {x,a,y| a∈Σ & x∈ℙ(Z) & y=δs(x,[a])}"
   ]
  },
  {
   "cell_type": "markdown",
   "metadata": {},
   "source": [
    "Graphisch lässt sich der Automat wie folgt darstellen; die Start und Endzustände sind noch nicht schön markiert."
   ]
  },
  {
   "cell_type": "code",
   "execution_count": 14,
   "metadata": {},
   "outputs": [
    {
     "data": {
      "text/plain": [
       "Preference changed: DOT_DECOMPOSE_NODES = FALSE\n"
      ]
     },
     "execution_count": 14,
     "metadata": {},
     "output_type": "execute_result"
    }
   ],
   "source": [
    ":pref DOT_DECOMPOSE_NODES=FALSE"
   ]
  },
  {
   "cell_type": "code",
   "execution_count": 15,
   "metadata": {},
   "outputs": [
    {
     "data": {
      "image/svg+xml": [
       "<?xml version=\"1.0\" encoding=\"UTF-8\" standalone=\"no\"?>\n",
       "<!DOCTYPE svg PUBLIC \"-//W3C//DTD SVG 1.1//EN\"\n",
       " \"http://www.w3.org/Graphics/SVG/1.1/DTD/svg11.dtd\">\n",
       "<!-- Generated by graphviz version 8.0.3 (20230416.2022)\n",
       " -->\n",
       "<!-- Title: state Pages: 1 -->\n",
       "<svg width=\"654pt\" height=\"566pt\"\n",
       " viewBox=\"0.00 0.00 654.00 566.00\" xmlns=\"http://www.w3.org/2000/svg\" xmlns:xlink=\"http://www.w3.org/1999/xlink\">\n",
       "<g id=\"graph0\" class=\"graph\" transform=\"scale(1 1) rotate(0) translate(4 562)\">\n",
       "<title>state</title>\n",
       "<polygon fill=\"white\" stroke=\"none\" points=\"-4,4 -4,-562 650,-562 650,4 -4,4\"/>\n",
       "<!-- \\{z2,z3\\} -->\n",
       "<g id=\"node1\" class=\"node\">\n",
       "<title>\\{z2,z3\\}</title>\n",
       "<polygon fill=\"#cae1ff\" stroke=\"#cae1ff\" points=\"223.5,-471 164.5,-471 164.5,-435 223.5,-435 223.5,-471\"/>\n",
       "<text text-anchor=\"middle\" x=\"194\" y=\"-449.3\" font-family=\"Times,serif\" font-size=\"14.00\">{z2,z3}</text>\n",
       "</g>\n",
       "<!-- \\{z2,z3\\}&#45;&gt;\\{z2,z3\\} -->\n",
       "<g id=\"edge1\" class=\"edge\">\n",
       "<title>\\{z2,z3\\}&#45;&gt;\\{z2,z3\\}</title>\n",
       "<path fill=\"none\" stroke=\"firebrick\" d=\"M223.69,-461.16C233.58,-461.16 241.5,-458.44 241.5,-453 241.5,-449.77 238.71,-447.5 234.37,-446.19\"/>\n",
       "<polygon fill=\"firebrick\" stroke=\"firebrick\" points=\"235.05,-442.62 224.69,-444.84 234.17,-449.57 235.05,-442.62\"/>\n",
       "<text text-anchor=\"middle\" x=\"251.5\" y=\"-449.3\" font-family=\"Times,serif\" font-size=\"14.00\">end</text>\n",
       "</g>\n",
       "<!-- \\{z3\\} -->\n",
       "<g id=\"node10\" class=\"node\">\n",
       "<title>\\{z3\\}</title>\n",
       "<polygon fill=\"#cae1ff\" stroke=\"#cae1ff\" points=\"185,-384 131,-384 131,-348 185,-348 185,-384\"/>\n",
       "<text text-anchor=\"middle\" x=\"158\" y=\"-362.3\" font-family=\"Times,serif\" font-size=\"14.00\">{z3}</text>\n",
       "</g>\n",
       "<!-- \\{z2,z3\\}&#45;&gt;\\{z3\\} -->\n",
       "<g id=\"edge11\" class=\"edge\">\n",
       "<title>\\{z2,z3\\}&#45;&gt;\\{z3\\}</title>\n",
       "<path fill=\"none\" stroke=\"#473c8b\" d=\"M174.14,-434.79C169.36,-429.57 164.82,-423.49 162,-417 159.08,-410.29 157.65,-402.6 157.04,-395.3\"/>\n",
       "<polygon fill=\"#473c8b\" stroke=\"#473c8b\" points=\"160.5,-395.21 156.67,-385.33 153.51,-395.45 160.5,-395.21\"/>\n",
       "<text text-anchor=\"middle\" x=\"165.5\" y=\"-405.8\" font-family=\"Times,serif\" font-size=\"14.00\">1</text>\n",
       "</g>\n",
       "<!-- \\{z2,z3\\}&#45;&gt;\\{z3\\} -->\n",
       "<g id=\"edge27\" class=\"edge\">\n",
       "<title>\\{z2,z3\\}&#45;&gt;\\{z3\\}</title>\n",
       "<path fill=\"none\" stroke=\"black\" d=\"M186.71,-434.8C181.82,-423.24 175.26,-407.75 169.65,-394.5\"/>\n",
       "<polygon fill=\"black\" stroke=\"black\" points=\"172.52,-393.31 165.4,-385.47 166.07,-396.04 172.52,-393.31\"/>\n",
       "<text text-anchor=\"middle\" x=\"182.5\" y=\"-405.8\" font-family=\"Times,serif\" font-size=\"14.00\">0</text>\n",
       "</g>\n",
       "<!-- \\{z1,z2,z3\\} -->\n",
       "<g id=\"node2\" class=\"node\">\n",
       "<title>\\{z1,z2,z3\\}</title>\n",
       "<polygon fill=\"#cae1ff\" stroke=\"#cae1ff\" points=\"148,-558 72,-558 72,-522 148,-522 148,-558\"/>\n",
       "<text text-anchor=\"middle\" x=\"110\" y=\"-536.3\" font-family=\"Times,serif\" font-size=\"14.00\">{z1,z2,z3}</text>\n",
       "</g>\n",
       "<!-- \\{z1,z2,z3\\}&#45;&gt;\\{z2,z3\\} -->\n",
       "<g id=\"edge12\" class=\"edge\">\n",
       "<title>\\{z1,z2,z3\\}&#45;&gt;\\{z2,z3\\}</title>\n",
       "<path fill=\"none\" stroke=\"#473c8b\" d=\"M110.93,-521.63C112.3,-511.19 115.52,-498.18 123,-489 131.12,-479.03 142.8,-471.67 154.34,-466.35\"/>\n",
       "<polygon fill=\"#473c8b\" stroke=\"#473c8b\" points=\"155.47,-469.25 163.35,-462.18 152.78,-462.79 155.47,-469.25\"/>\n",
       "<text text-anchor=\"middle\" x=\"126.5\" y=\"-492.8\" font-family=\"Times,serif\" font-size=\"14.00\">1</text>\n",
       "</g>\n",
       "<!-- \\{z1,z2,z3\\}&#45;&gt;\\{z2,z3\\} -->\n",
       "<g id=\"edge28\" class=\"edge\">\n",
       "<title>\\{z1,z2,z3\\}&#45;&gt;\\{z2,z3\\}</title>\n",
       "<path fill=\"none\" stroke=\"black\" d=\"M127,-521.8C139.1,-509.55 155.56,-492.9 169.13,-479.16\"/>\n",
       "<polygon fill=\"black\" stroke=\"black\" points=\"171.2,-482.04 175.74,-472.47 166.22,-477.12 171.2,-482.04\"/>\n",
       "<text text-anchor=\"middle\" x=\"161.5\" y=\"-492.8\" font-family=\"Times,serif\" font-size=\"14.00\">0</text>\n",
       "</g>\n",
       "<!-- \\{z1,z2,z3\\}&#45;&gt;\\{z1,z2,z3\\} -->\n",
       "<g id=\"edge2\" class=\"edge\">\n",
       "<title>\\{z1,z2,z3\\}&#45;&gt;\\{z1,z2,z3\\}</title>\n",
       "<path fill=\"none\" stroke=\"firebrick\" d=\"M148.48,-548.07C158.47,-547.58 166,-544.89 166,-540 166,-537.1 163.34,-534.97 159.09,-533.62\"/>\n",
       "<polygon fill=\"firebrick\" stroke=\"firebrick\" points=\"159.9,-530.04 149.48,-531.93 158.8,-536.96 159.9,-530.04\"/>\n",
       "<text text-anchor=\"middle\" x=\"176\" y=\"-536.3\" font-family=\"Times,serif\" font-size=\"14.00\">end</text>\n",
       "</g>\n",
       "<!-- \\{z0,z2,z3\\} -->\n",
       "<g id=\"node3\" class=\"node\">\n",
       "<title>\\{z0,z2,z3\\}</title>\n",
       "<polygon fill=\"#cae1ff\" stroke=\"#cae1ff\" points=\"347,-297 271,-297 271,-261 347,-261 347,-297\"/>\n",
       "<text text-anchor=\"middle\" x=\"309\" y=\"-275.3\" font-family=\"Times,serif\" font-size=\"14.00\">{z0,z2,z3}</text>\n",
       "</g>\n",
       "<!-- \\{z0,z2,z3\\}&#45;&gt;\\{z0,z2,z3\\} -->\n",
       "<g id=\"edge3\" class=\"edge\">\n",
       "<title>\\{z0,z2,z3\\}&#45;&gt;\\{z0,z2,z3\\}</title>\n",
       "<path fill=\"none\" stroke=\"firebrick\" d=\"M347.48,-287.07C357.47,-286.58 365,-283.89 365,-279 365,-276.1 362.34,-273.97 358.09,-272.62\"/>\n",
       "<polygon fill=\"firebrick\" stroke=\"firebrick\" points=\"358.9,-269.04 348.48,-270.93 357.8,-275.96 358.9,-269.04\"/>\n",
       "<text text-anchor=\"middle\" x=\"375\" y=\"-275.3\" font-family=\"Times,serif\" font-size=\"14.00\">end</text>\n",
       "</g>\n",
       "<!-- \\{z0,z1,z3\\} -->\n",
       "<g id=\"node11\" class=\"node\">\n",
       "<title>\\{z0,z1,z3\\}</title>\n",
       "<polygon fill=\"#cae1ff\" stroke=\"#cae1ff\" points=\"390,-123 314,-123 314,-87 390,-87 390,-123\"/>\n",
       "<text text-anchor=\"middle\" x=\"352\" y=\"-101.3\" font-family=\"Times,serif\" font-size=\"14.00\">{z0,z1,z3}</text>\n",
       "</g>\n",
       "<!-- \\{z0,z2,z3\\}&#45;&gt;\\{z0,z1,z3\\} -->\n",
       "<g id=\"edge13\" class=\"edge\">\n",
       "<title>\\{z0,z2,z3\\}&#45;&gt;\\{z0,z1,z3\\}</title>\n",
       "<path fill=\"none\" stroke=\"#473c8b\" d=\"M309.9,-260.79C311.31,-239.93 314.78,-203.86 323,-174 326.83,-160.08 332.89,-145.26 338.49,-133.02\"/>\n",
       "<polygon fill=\"#473c8b\" stroke=\"#473c8b\" points=\"341.92,-134.96 343.02,-124.43 335.59,-131.97 341.92,-134.96\"/>\n",
       "<text text-anchor=\"middle\" x=\"326.5\" y=\"-188.3\" font-family=\"Times,serif\" font-size=\"14.00\">1</text>\n",
       "</g>\n",
       "<!-- \\{z0,z3\\} -->\n",
       "<g id=\"node14\" class=\"node\">\n",
       "<title>\\{z0,z3\\}</title>\n",
       "<polygon fill=\"#cae1ff\" stroke=\"#cae1ff\" points=\"481.5,-210 422.5,-210 422.5,-174 481.5,-174 481.5,-210\"/>\n",
       "<text text-anchor=\"middle\" x=\"452\" y=\"-188.3\" font-family=\"Times,serif\" font-size=\"14.00\">{z0,z3}</text>\n",
       "</g>\n",
       "<!-- \\{z0,z2,z3\\}&#45;&gt;\\{z0,z3\\} -->\n",
       "<g id=\"edge29\" class=\"edge\">\n",
       "<title>\\{z0,z2,z3\\}&#45;&gt;\\{z0,z3\\}</title>\n",
       "<path fill=\"none\" stroke=\"black\" d=\"M338.28,-260.59C359.97,-247.7 389.74,-230.01 413.37,-215.96\"/>\n",
       "<polygon fill=\"black\" stroke=\"black\" points=\"414.95,-218.5 421.76,-210.38 411.37,-212.48 414.95,-218.5\"/>\n",
       "<text text-anchor=\"middle\" x=\"392.5\" y=\"-231.8\" font-family=\"Times,serif\" font-size=\"14.00\">0</text>\n",
       "</g>\n",
       "<!-- \\{z2\\} -->\n",
       "<g id=\"node4\" class=\"node\">\n",
       "<title>\\{z2\\}</title>\n",
       "<polygon fill=\"#cae1ff\" stroke=\"#cae1ff\" points=\"91,-471 37,-471 37,-435 91,-435 91,-471\"/>\n",
       "<text text-anchor=\"middle\" x=\"64\" y=\"-449.3\" font-family=\"Times,serif\" font-size=\"14.00\">{z2}</text>\n",
       "</g>\n",
       "<!-- \\{z2\\}&#45;&gt;\\{z2\\} -->\n",
       "<g id=\"edge4\" class=\"edge\">\n",
       "<title>\\{z2\\}&#45;&gt;\\{z2\\}</title>\n",
       "<path fill=\"none\" stroke=\"firebrick\" d=\"M91.24,-461.15C101.02,-461.32 109,-458.61 109,-453 109,-449.67 106.19,-447.36 101.86,-446.07\"/>\n",
       "<polygon fill=\"firebrick\" stroke=\"firebrick\" points=\"102.57,-442.51 92.24,-444.85 101.78,-449.47 102.57,-442.51\"/>\n",
       "<text text-anchor=\"middle\" x=\"119\" y=\"-449.3\" font-family=\"Times,serif\" font-size=\"14.00\">end</text>\n",
       "</g>\n",
       "<!-- \\{z2\\}&#45;&gt;\\{z3\\} -->\n",
       "<g id=\"edge14\" class=\"edge\">\n",
       "<title>\\{z2\\}&#45;&gt;\\{z3\\}</title>\n",
       "<path fill=\"none\" stroke=\"#473c8b\" d=\"M69.95,-434.59C74.22,-424.12 80.85,-411.11 90,-402 98.72,-393.32 110.03,-386.34 120.92,-380.96\"/>\n",
       "<polygon fill=\"#473c8b\" stroke=\"#473c8b\" points=\"122.08,-383.82 129.71,-376.48 119.16,-377.46 122.08,-383.82\"/>\n",
       "<text text-anchor=\"middle\" x=\"93.5\" y=\"-405.8\" font-family=\"Times,serif\" font-size=\"14.00\">1</text>\n",
       "</g>\n",
       "<!-- \\{z2\\}&#45;&gt;\\{z3\\} -->\n",
       "<g id=\"edge30\" class=\"edge\">\n",
       "<title>\\{z2\\}&#45;&gt;\\{z3\\}</title>\n",
       "<path fill=\"none\" stroke=\"black\" d=\"M83.02,-434.8C96.69,-422.44 115.33,-405.59 130.6,-391.78\"/>\n",
       "<polygon fill=\"black\" stroke=\"black\" points=\"132.61,-394.77 137.68,-385.47 127.92,-389.58 132.61,-394.77\"/>\n",
       "<text text-anchor=\"middle\" x=\"120.5\" y=\"-405.8\" font-family=\"Times,serif\" font-size=\"14.00\">0</text>\n",
       "</g>\n",
       "<!-- \\{z0,z1,z2,z3\\} -->\n",
       "<g id=\"node5\" class=\"node\">\n",
       "<title>\\{z0,z1,z2,z3\\}</title>\n",
       "<polygon fill=\"#cae1ff\" stroke=\"#cae1ff\" points=\"309,-36 217,-36 217,0 309,0 309,-36\"/>\n",
       "<text text-anchor=\"middle\" x=\"263\" y=\"-14.3\" font-family=\"Times,serif\" font-size=\"14.00\">{z0,z1,z2,z3}</text>\n",
       "</g>\n",
       "<!-- \\{z0,z1,z2,z3\\}&#45;&gt;\\{z0,z2,z3\\} -->\n",
       "<g id=\"edge31\" class=\"edge\">\n",
       "<title>\\{z0,z1,z2,z3\\}&#45;&gt;\\{z0,z2,z3\\}</title>\n",
       "<path fill=\"none\" stroke=\"black\" d=\"M266.08,-36.32C273.87,-80.19 294.44,-196.03 304,-249.82\"/>\n",
       "<polygon fill=\"black\" stroke=\"black\" points=\"300.72,-250.37 305.91,-259.6 307.61,-249.15 300.72,-250.37\"/>\n",
       "<text text-anchor=\"middle\" x=\"291.5\" y=\"-144.8\" font-family=\"Times,serif\" font-size=\"14.00\">0</text>\n",
       "</g>\n",
       "<!-- \\{z0,z1,z2,z3\\}&#45;&gt;\\{z0,z1,z2,z3\\} -->\n",
       "<g id=\"edge5\" class=\"edge\">\n",
       "<title>\\{z0,z1,z2,z3\\}&#45;&gt;\\{z0,z1,z2,z3\\}</title>\n",
       "<path fill=\"none\" stroke=\"firebrick\" d=\"M309.31,-21.97C319.55,-21.6 327,-20.27 327,-18 327,-16.65 324.37,-15.64 320.09,-14.96\"/>\n",
       "<polygon fill=\"firebrick\" stroke=\"firebrick\" points=\"320.57,-11.4 310.31,-14.03 319.98,-18.37 320.57,-11.4\"/>\n",
       "<text text-anchor=\"middle\" x=\"337\" y=\"-14.3\" font-family=\"Times,serif\" font-size=\"14.00\">end</text>\n",
       "</g>\n",
       "<!-- \\{z0,z1,z2,z3\\}&#45;&gt;\\{z0,z1,z2,z3\\} -->\n",
       "<g id=\"edge15\" class=\"edge\">\n",
       "<title>\\{z0,z1,z2,z3\\}&#45;&gt;\\{z0,z1,z2,z3\\}</title>\n",
       "<path fill=\"none\" stroke=\"#473c8b\" d=\"M309.37,-26.06C329.56,-26.72 347,-24.03 347,-18 347,-13.1 335.49,-10.41 320.34,-9.92\"/>\n",
       "<polygon fill=\"#473c8b\" stroke=\"#473c8b\" points=\"320.37,-6.42 310.37,-9.94 320.38,-13.42 320.37,-6.42\"/>\n",
       "<text text-anchor=\"middle\" x=\"350.5\" y=\"-14.3\" font-family=\"Times,serif\" font-size=\"14.00\">1</text>\n",
       "</g>\n",
       "<!-- \\{z1,z2\\} -->\n",
       "<g id=\"node6\" class=\"node\">\n",
       "<title>\\{z1,z2\\}</title>\n",
       "<polygon fill=\"#cae1ff\" stroke=\"#cae1ff\" points=\"263.5,-558 204.5,-558 204.5,-522 263.5,-522 263.5,-558\"/>\n",
       "<text text-anchor=\"middle\" x=\"234\" y=\"-536.3\" font-family=\"Times,serif\" font-size=\"14.00\">{z1,z2}</text>\n",
       "</g>\n",
       "<!-- \\{z1,z2\\}&#45;&gt;\\{z2,z3\\} -->\n",
       "<g id=\"edge17\" class=\"edge\">\n",
       "<title>\\{z1,z2\\}&#45;&gt;\\{z2,z3\\}</title>\n",
       "<path fill=\"none\" stroke=\"#473c8b\" d=\"M211.3,-521.81C206.06,-516.67 201.12,-510.63 198,-504 194.89,-497.38 193.39,-489.72 192.77,-482.42\"/>\n",
       "<polygon fill=\"#473c8b\" stroke=\"#473c8b\" points=\"196.24,-482.32 192.44,-472.44 189.25,-482.54 196.24,-482.32\"/>\n",
       "<text text-anchor=\"middle\" x=\"201.5\" y=\"-492.8\" font-family=\"Times,serif\" font-size=\"14.00\">1</text>\n",
       "</g>\n",
       "<!-- \\{z1,z2\\}&#45;&gt;\\{z2,z3\\} -->\n",
       "<g id=\"edge33\" class=\"edge\">\n",
       "<title>\\{z1,z2\\}&#45;&gt;\\{z2,z3\\}</title>\n",
       "<path fill=\"none\" stroke=\"black\" d=\"M225.91,-521.8C220.41,-510.12 213.03,-494.45 206.76,-481.11\"/>\n",
       "<polygon fill=\"black\" stroke=\"black\" points=\"209.64,-480.03 202.22,-472.47 203.31,-483.01 209.64,-480.03\"/>\n",
       "<text text-anchor=\"middle\" x=\"220.5\" y=\"-492.8\" font-family=\"Times,serif\" font-size=\"14.00\">0</text>\n",
       "</g>\n",
       "<!-- \\{z1,z2\\}&#45;&gt;\\{z1,z2\\} -->\n",
       "<g id=\"edge6\" class=\"edge\">\n",
       "<title>\\{z1,z2\\}&#45;&gt;\\{z1,z2\\}</title>\n",
       "<path fill=\"none\" stroke=\"firebrick\" d=\"M263.69,-548.16C273.58,-548.16 281.5,-545.44 281.5,-540 281.5,-536.77 278.71,-534.5 274.37,-533.19\"/>\n",
       "<polygon fill=\"firebrick\" stroke=\"firebrick\" points=\"275.05,-529.62 264.69,-531.84 274.17,-536.57 275.05,-529.62\"/>\n",
       "<text text-anchor=\"middle\" x=\"291.5\" y=\"-536.3\" font-family=\"Times,serif\" font-size=\"14.00\">end</text>\n",
       "</g>\n",
       "<!-- \\{z0,z1,z2\\} -->\n",
       "<g id=\"node7\" class=\"node\">\n",
       "<title>\\{z0,z1,z2\\}</title>\n",
       "<polygon fill=\"#cae1ff\" stroke=\"#cae1ff\" points=\"347,-384 271,-384 271,-348 347,-348 347,-384\"/>\n",
       "<text text-anchor=\"middle\" x=\"309\" y=\"-362.3\" font-family=\"Times,serif\" font-size=\"14.00\">{z0,z1,z2}</text>\n",
       "</g>\n",
       "<!-- \\{z0,z1,z2\\}&#45;&gt;\\{z0,z2,z3\\} -->\n",
       "<g id=\"edge35\" class=\"edge\">\n",
       "<title>\\{z0,z1,z2\\}&#45;&gt;\\{z0,z2,z3\\}</title>\n",
       "<path fill=\"none\" stroke=\"black\" d=\"M309,-347.8C309,-336.47 309,-321.36 309,-308.29\"/>\n",
       "<polygon fill=\"black\" stroke=\"black\" points=\"312.5,-308.47 309,-298.47 305.5,-308.47 312.5,-308.47\"/>\n",
       "<text text-anchor=\"middle\" x=\"312.5\" y=\"-318.8\" font-family=\"Times,serif\" font-size=\"14.00\">0</text>\n",
       "</g>\n",
       "<!-- \\{z0,z1,z2\\}&#45;&gt;\\{z0,z1,z2,z3\\} -->\n",
       "<g id=\"edge19\" class=\"edge\">\n",
       "<title>\\{z0,z1,z2\\}&#45;&gt;\\{z0,z1,z2,z3\\}</title>\n",
       "<path fill=\"none\" stroke=\"#473c8b\" d=\"M274.83,-347.58C251.58,-333.04 225,-309.88 225,-280 225,-280 225,-280 225,-104 225,-83.12 234.68,-61.67 244.26,-45.54\"/>\n",
       "<polygon fill=\"#473c8b\" stroke=\"#473c8b\" points=\"247.76,-47.56 250.13,-37.23 241.84,-43.82 247.76,-47.56\"/>\n",
       "<text text-anchor=\"middle\" x=\"228.5\" y=\"-188.3\" font-family=\"Times,serif\" font-size=\"14.00\">1</text>\n",
       "</g>\n",
       "<!-- \\{z0,z1,z2\\}&#45;&gt;\\{z0,z1,z2\\} -->\n",
       "<g id=\"edge7\" class=\"edge\">\n",
       "<title>\\{z0,z1,z2\\}&#45;&gt;\\{z0,z1,z2\\}</title>\n",
       "<path fill=\"none\" stroke=\"firebrick\" d=\"M347.48,-374.07C357.47,-373.58 365,-370.89 365,-366 365,-363.1 362.34,-360.97 358.09,-359.62\"/>\n",
       "<polygon fill=\"firebrick\" stroke=\"firebrick\" points=\"358.9,-356.04 348.48,-357.93 357.8,-362.96 358.9,-356.04\"/>\n",
       "<text text-anchor=\"middle\" x=\"375\" y=\"-362.3\" font-family=\"Times,serif\" font-size=\"14.00\">end</text>\n",
       "</g>\n",
       "<!-- \\{z0,z2\\} -->\n",
       "<g id=\"node8\" class=\"node\">\n",
       "<title>\\{z0,z2\\}</title>\n",
       "<polygon fill=\"#cae1ff\" stroke=\"#cae1ff\" points=\"462.5,-297 403.5,-297 403.5,-261 462.5,-261 462.5,-297\"/>\n",
       "<text text-anchor=\"middle\" x=\"433\" y=\"-275.3\" font-family=\"Times,serif\" font-size=\"14.00\">{z0,z2}</text>\n",
       "</g>\n",
       "<!-- \\{z0,z2\\}&#45;&gt;\\{z0,z2\\} -->\n",
       "<g id=\"edge8\" class=\"edge\">\n",
       "<title>\\{z0,z2\\}&#45;&gt;\\{z0,z2\\}</title>\n",
       "<path fill=\"none\" stroke=\"firebrick\" d=\"M462.69,-287.16C472.58,-287.16 480.5,-284.44 480.5,-279 480.5,-275.77 477.71,-273.5 473.37,-272.19\"/>\n",
       "<polygon fill=\"firebrick\" stroke=\"firebrick\" points=\"474.05,-268.62 463.69,-270.84 473.17,-275.57 474.05,-268.62\"/>\n",
       "<text text-anchor=\"middle\" x=\"490.5\" y=\"-275.3\" font-family=\"Times,serif\" font-size=\"14.00\">end</text>\n",
       "</g>\n",
       "<!-- \\{z0,z2\\}&#45;&gt;\\{z0,z1,z3\\} -->\n",
       "<g id=\"edge22\" class=\"edge\">\n",
       "<title>\\{z0,z2\\}&#45;&gt;\\{z0,z1,z3\\}</title>\n",
       "<path fill=\"none\" stroke=\"#473c8b\" d=\"M424.79,-260.56C410.66,-230.56 381.65,-168.96 364.83,-133.25\"/>\n",
       "<polygon fill=\"#473c8b\" stroke=\"#473c8b\" points=\"367.66,-132.04 360.23,-124.48 361.33,-135.02 367.66,-132.04\"/>\n",
       "<text text-anchor=\"middle\" x=\"403.5\" y=\"-188.3\" font-family=\"Times,serif\" font-size=\"14.00\">1</text>\n",
       "</g>\n",
       "<!-- \\{z0,z2\\}&#45;&gt;\\{z0,z3\\} -->\n",
       "<g id=\"edge38\" class=\"edge\">\n",
       "<title>\\{z0,z2\\}&#45;&gt;\\{z0,z3\\}</title>\n",
       "<path fill=\"none\" stroke=\"black\" d=\"M436.84,-260.8C439.4,-249.35 442.82,-234.06 445.76,-220.89\"/>\n",
       "<polygon fill=\"black\" stroke=\"black\" points=\"449.33,-221.99 448.1,-211.47 442.5,-220.46 449.33,-221.99\"/>\n",
       "<text text-anchor=\"middle\" x=\"446.5\" y=\"-231.8\" font-family=\"Times,serif\" font-size=\"14.00\">0</text>\n",
       "</g>\n",
       "<!-- \\{z0\\} -->\n",
       "<g id=\"node9\" class=\"node\">\n",
       "<title>\\{z0\\}</title>\n",
       "<polygon fill=\"#cae1ff\" stroke=\"#cae1ff\" points=\"457,-558 403,-558 403,-522 457,-522 457,-558\"/>\n",
       "<text text-anchor=\"middle\" x=\"430\" y=\"-536.3\" font-family=\"Times,serif\" font-size=\"14.00\">{z0}</text>\n",
       "</g>\n",
       "<!-- \\{z0\\}&#45;&gt;\\{z0\\} -->\n",
       "<g id=\"edge9\" class=\"edge\">\n",
       "<title>\\{z0\\}&#45;&gt;\\{z0\\}</title>\n",
       "<path fill=\"none\" stroke=\"sienna\" d=\"M457.24,-544.07C467.02,-544.16 475,-542.8 475,-540 475,-538.38 472.33,-537.24 468.19,-536.59\"/>\n",
       "<polygon fill=\"sienna\" stroke=\"sienna\" points=\"468.43,-533.03 458.24,-535.93 468.01,-540.02 468.43,-533.03\"/>\n",
       "<text text-anchor=\"middle\" x=\"487\" y=\"-536.3\" font-family=\"Times,serif\" font-size=\"14.00\">start</text>\n",
       "</g>\n",
       "<!-- \\{z0\\}&#45;&gt;\\{z0\\} -->\n",
       "<g id=\"edge40\" class=\"edge\">\n",
       "<title>\\{z0\\}&#45;&gt;\\{z0\\}</title>\n",
       "<path fill=\"none\" stroke=\"black\" d=\"M457.46,-547.28C477.83,-549.65 499,-547.22 499,-540 499,-534.08 484.76,-531.38 468.39,-531.91\"/>\n",
       "<polygon fill=\"black\" stroke=\"black\" points=\"468.17,-528.49 458.46,-532.72 468.69,-535.47 468.17,-528.49\"/>\n",
       "<text text-anchor=\"middle\" x=\"502.5\" y=\"-536.3\" font-family=\"Times,serif\" font-size=\"14.00\">0</text>\n",
       "</g>\n",
       "<!-- \\{z0,z1\\} -->\n",
       "<g id=\"node15\" class=\"node\">\n",
       "<title>\\{z0,z1\\}</title>\n",
       "<polygon fill=\"#cae1ff\" stroke=\"#cae1ff\" points=\"459.5,-471 400.5,-471 400.5,-435 459.5,-435 459.5,-471\"/>\n",
       "<text text-anchor=\"middle\" x=\"430\" y=\"-449.3\" font-family=\"Times,serif\" font-size=\"14.00\">{z0,z1}</text>\n",
       "</g>\n",
       "<!-- \\{z0\\}&#45;&gt;\\{z0,z1\\} -->\n",
       "<g id=\"edge24\" class=\"edge\">\n",
       "<title>\\{z0\\}&#45;&gt;\\{z0,z1\\}</title>\n",
       "<path fill=\"none\" stroke=\"#473c8b\" d=\"M430,-521.8C430,-510.47 430,-495.36 430,-482.29\"/>\n",
       "<polygon fill=\"#473c8b\" stroke=\"#473c8b\" points=\"433.5,-482.47 430,-472.47 426.5,-482.47 433.5,-482.47\"/>\n",
       "<text text-anchor=\"middle\" x=\"433.5\" y=\"-492.8\" font-family=\"Times,serif\" font-size=\"14.00\">1</text>\n",
       "</g>\n",
       "<!-- \\{z3\\}&#45;&gt;\\{z3\\} -->\n",
       "<g id=\"edge10\" class=\"edge\">\n",
       "<title>\\{z3\\}&#45;&gt;\\{z3\\}</title>\n",
       "<path fill=\"none\" stroke=\"#473c8b\" d=\"M185.24,-370.07C195.02,-370.16 203,-368.8 203,-366 203,-364.38 200.33,-363.24 196.19,-362.59\"/>\n",
       "<polygon fill=\"#473c8b\" stroke=\"#473c8b\" points=\"196.43,-359.03 186.24,-361.93 196.01,-366.02 196.43,-359.03\"/>\n",
       "<text text-anchor=\"middle\" x=\"206.5\" y=\"-362.3\" font-family=\"Times,serif\" font-size=\"14.00\">1</text>\n",
       "</g>\n",
       "<!-- \\{z3\\}&#45;&gt;\\{z3\\} -->\n",
       "<g id=\"edge26\" class=\"edge\">\n",
       "<title>\\{z3\\}&#45;&gt;\\{z3\\}</title>\n",
       "<path fill=\"none\" stroke=\"black\" d=\"M185.2,-373.44C203.34,-375.53 221,-373.05 221,-366 221,-360.38 209.79,-357.66 196.05,-357.85\"/>\n",
       "<polygon fill=\"black\" stroke=\"black\" points=\"195.95,-354.42 186.2,-358.56 196.4,-361.4 195.95,-354.42\"/>\n",
       "<text text-anchor=\"middle\" x=\"224.5\" y=\"-362.3\" font-family=\"Times,serif\" font-size=\"14.00\">0</text>\n",
       "</g>\n",
       "<!-- \\{z0,z1,z3\\}&#45;&gt;\\{z0,z2,z3\\} -->\n",
       "<g id=\"edge34\" class=\"edge\">\n",
       "<title>\\{z0,z1,z3\\}&#45;&gt;\\{z0,z2,z3\\}</title>\n",
       "<path fill=\"none\" stroke=\"black\" d=\"M350.49,-123.28C347.83,-149.67 341.17,-201.34 327,-243 326.11,-245.6 325.06,-248.25 323.92,-250.87\"/>\n",
       "<polygon fill=\"black\" stroke=\"black\" points=\"320.4,-249.11 319.21,-259.64 326.7,-252.15 320.4,-249.11\"/>\n",
       "<text text-anchor=\"middle\" x=\"347.5\" y=\"-188.3\" font-family=\"Times,serif\" font-size=\"14.00\">0</text>\n",
       "</g>\n",
       "<!-- \\{z0,z1,z3\\}&#45;&gt;\\{z0,z1,z2,z3\\} -->\n",
       "<g id=\"edge18\" class=\"edge\">\n",
       "<title>\\{z0,z1,z3\\}&#45;&gt;\\{z0,z1,z2,z3\\}</title>\n",
       "<path fill=\"none\" stroke=\"#473c8b\" d=\"M333.99,-86.8C321.05,-74.44 303.4,-57.59 288.94,-43.78\"/>\n",
       "<polygon fill=\"#473c8b\" stroke=\"#473c8b\" points=\"291.94,-41.84 282.29,-37.47 287.1,-46.91 291.94,-41.84\"/>\n",
       "<text text-anchor=\"middle\" x=\"316.5\" y=\"-57.8\" font-family=\"Times,serif\" font-size=\"14.00\">1</text>\n",
       "</g>\n",
       "<!-- \\{z1,z3\\} -->\n",
       "<g id=\"node12\" class=\"node\">\n",
       "<title>\\{z1,z3\\}</title>\n",
       "<polygon fill=\"#cae1ff\" stroke=\"#cae1ff\" points=\"378.5,-558 319.5,-558 319.5,-522 378.5,-522 378.5,-558\"/>\n",
       "<text text-anchor=\"middle\" x=\"349\" y=\"-536.3\" font-family=\"Times,serif\" font-size=\"14.00\">{z1,z3}</text>\n",
       "</g>\n",
       "<!-- \\{z1,z3\\}&#45;&gt;\\{z2,z3\\} -->\n",
       "<g id=\"edge16\" class=\"edge\">\n",
       "<title>\\{z1,z3\\}&#45;&gt;\\{z2,z3\\}</title>\n",
       "<path fill=\"none\" stroke=\"#473c8b\" d=\"M319.11,-522.61C294.67,-509.21 259.91,-490.14 233.22,-475.51\"/>\n",
       "<polygon fill=\"#473c8b\" stroke=\"#473c8b\" points=\"235.24,-472.08 224.79,-470.34 231.88,-478.22 235.24,-472.08\"/>\n",
       "<text text-anchor=\"middle\" x=\"284.5\" y=\"-492.8\" font-family=\"Times,serif\" font-size=\"14.00\">1</text>\n",
       "</g>\n",
       "<!-- \\{z1,z3\\}&#45;&gt;\\{z2,z3\\} -->\n",
       "<g id=\"edge32\" class=\"edge\">\n",
       "<title>\\{z1,z3\\}&#45;&gt;\\{z2,z3\\}</title>\n",
       "<path fill=\"none\" stroke=\"black\" d=\"M332.86,-521.85C322.11,-511.22 307.21,-497.94 292,-489 274.03,-478.44 252.36,-470.29 233.97,-464.52\"/>\n",
       "<polygon fill=\"black\" stroke=\"black\" points=\"235.15,-460.92 224.57,-461.4 233.14,-467.63 235.15,-460.92\"/>\n",
       "<text text-anchor=\"middle\" x=\"316.5\" y=\"-492.8\" font-family=\"Times,serif\" font-size=\"14.00\">0</text>\n",
       "</g>\n",
       "<!-- \\{z1\\} -->\n",
       "<g id=\"node13\" class=\"node\">\n",
       "<title>\\{z1\\}</title>\n",
       "<polygon fill=\"#cae1ff\" stroke=\"#cae1ff\" points=\"54,-558 0,-558 0,-522 54,-522 54,-558\"/>\n",
       "<text text-anchor=\"middle\" x=\"27\" y=\"-536.3\" font-family=\"Times,serif\" font-size=\"14.00\">{z1}</text>\n",
       "</g>\n",
       "<!-- \\{z1\\}&#45;&gt;\\{z2\\} -->\n",
       "<g id=\"edge20\" class=\"edge\">\n",
       "<title>\\{z1\\}&#45;&gt;\\{z2\\}</title>\n",
       "<path fill=\"none\" stroke=\"#473c8b\" d=\"M27.04,-521.67C27.64,-511.73 29.39,-499.23 34,-489 35.45,-485.79 37.28,-482.65 39.33,-479.65\"/>\n",
       "<polygon fill=\"#473c8b\" stroke=\"#473c8b\" points=\"42.57,-482.19 45.94,-472.14 37.04,-477.89 42.57,-482.19\"/>\n",
       "<text text-anchor=\"middle\" x=\"37.5\" y=\"-492.8\" font-family=\"Times,serif\" font-size=\"14.00\">1</text>\n",
       "</g>\n",
       "<!-- \\{z1\\}&#45;&gt;\\{z2\\} -->\n",
       "<g id=\"edge36\" class=\"edge\">\n",
       "<title>\\{z1\\}&#45;&gt;\\{z2\\}</title>\n",
       "<path fill=\"none\" stroke=\"black\" d=\"M34.49,-521.8C39.52,-510.24 46.26,-494.75 52.03,-481.5\"/>\n",
       "<polygon fill=\"black\" stroke=\"black\" points=\"55.61,-483.03 56.4,-472.47 49.2,-480.24 55.61,-483.03\"/>\n",
       "<text text-anchor=\"middle\" x=\"51.5\" y=\"-492.8\" font-family=\"Times,serif\" font-size=\"14.00\">0</text>\n",
       "</g>\n",
       "<!-- \\{z0,z3\\}&#45;&gt;\\{z0,z1,z3\\} -->\n",
       "<g id=\"edge21\" class=\"edge\">\n",
       "<title>\\{z0,z3\\}&#45;&gt;\\{z0,z1,z3\\}</title>\n",
       "<path fill=\"none\" stroke=\"#473c8b\" d=\"M440.37,-173.97C432.79,-163.65 422.24,-150.66 411,-141 406.02,-136.72 400.45,-132.66 394.77,-128.93\"/>\n",
       "<polygon fill=\"#473c8b\" stroke=\"#473c8b\" points=\"397.17,-125.67 386.83,-123.34 393.46,-131.61 397.17,-125.67\"/>\n",
       "<text text-anchor=\"middle\" x=\"427.5\" y=\"-144.8\" font-family=\"Times,serif\" font-size=\"14.00\">1</text>\n",
       "</g>\n",
       "<!-- \\{z0,z3\\}&#45;&gt;\\{z0,z3\\} -->\n",
       "<g id=\"edge37\" class=\"edge\">\n",
       "<title>\\{z0,z3\\}&#45;&gt;\\{z0,z3\\}</title>\n",
       "<path fill=\"none\" stroke=\"black\" d=\"M481.69,-200.16C491.58,-200.16 499.5,-197.44 499.5,-192 499.5,-188.77 496.71,-186.5 492.37,-185.19\"/>\n",
       "<polygon fill=\"black\" stroke=\"black\" points=\"493.05,-181.62 482.69,-183.84 492.17,-188.57 493.05,-181.62\"/>\n",
       "<text text-anchor=\"middle\" x=\"503\" y=\"-188.3\" font-family=\"Times,serif\" font-size=\"14.00\">0</text>\n",
       "</g>\n",
       "<!-- \\{z0,z1\\}&#45;&gt;\\{z0,z1,z2\\} -->\n",
       "<g id=\"edge23\" class=\"edge\">\n",
       "<title>\\{z0,z1\\}&#45;&gt;\\{z0,z1,z2\\}</title>\n",
       "<path fill=\"none\" stroke=\"#473c8b\" d=\"M405.22,-434.59C387.11,-421.87 362.36,-404.48 342.49,-390.52\"/>\n",
       "<polygon fill=\"#473c8b\" stroke=\"#473c8b\" points=\"344.94,-387.27 334.75,-384.38 340.92,-393 344.94,-387.27\"/>\n",
       "<text text-anchor=\"middle\" x=\"379.5\" y=\"-405.8\" font-family=\"Times,serif\" font-size=\"14.00\">1</text>\n",
       "</g>\n",
       "<!-- \\{z0,z1\\}&#45;&gt;\\{z0,z2\\} -->\n",
       "<g id=\"edge39\" class=\"edge\">\n",
       "<title>\\{z0,z1\\}&#45;&gt;\\{z0,z2\\}</title>\n",
       "<path fill=\"none\" stroke=\"black\" d=\"M430.3,-434.56C430.82,-404.81 431.88,-344.01 432.51,-308.17\"/>\n",
       "<polygon fill=\"black\" stroke=\"black\" points=\"436.02,-308.54 432.7,-298.48 429.02,-308.42 436.02,-308.54\"/>\n",
       "<text text-anchor=\"middle\" x=\"434.5\" y=\"-362.3\" font-family=\"Times,serif\" font-size=\"14.00\">0</text>\n",
       "</g>\n",
       "<!-- \\{\\} -->\n",
       "<g id=\"node16\" class=\"node\">\n",
       "<title>\\{\\}</title>\n",
       "<polygon fill=\"#cae1ff\" stroke=\"#cae1ff\" points=\"596,-558 542,-558 542,-522 596,-522 596,-558\"/>\n",
       "<text text-anchor=\"middle\" x=\"569\" y=\"-536.3\" font-family=\"Times,serif\" font-size=\"14.00\">{}</text>\n",
       "</g>\n",
       "<!-- \\{\\}&#45;&gt;\\{\\} -->\n",
       "<g id=\"edge25\" class=\"edge\">\n",
       "<title>\\{\\}&#45;&gt;\\{\\}</title>\n",
       "<path fill=\"none\" stroke=\"#473c8b\" d=\"M596.24,-544.07C606.02,-544.16 614,-542.8 614,-540 614,-538.38 611.33,-537.24 607.19,-536.59\"/>\n",
       "<polygon fill=\"#473c8b\" stroke=\"#473c8b\" points=\"607.43,-533.03 597.24,-535.93 607.01,-540.02 607.43,-533.03\"/>\n",
       "<text text-anchor=\"middle\" x=\"617.5\" y=\"-536.3\" font-family=\"Times,serif\" font-size=\"14.00\">1</text>\n",
       "</g>\n",
       "<!-- \\{\\}&#45;&gt;\\{\\} -->\n",
       "<g id=\"edge41\" class=\"edge\">\n",
       "<title>\\{\\}&#45;&gt;\\{\\}</title>\n",
       "<path fill=\"none\" stroke=\"black\" d=\"M596.2,-547.44C614.34,-549.53 632,-547.05 632,-540 632,-534.38 620.79,-531.66 607.05,-531.85\"/>\n",
       "<polygon fill=\"black\" stroke=\"black\" points=\"606.95,-528.42 597.2,-532.56 607.4,-535.4 606.95,-528.42\"/>\n",
       "<text text-anchor=\"middle\" x=\"635.5\" y=\"-536.3\" font-family=\"Times,serif\" font-size=\"14.00\">0</text>\n",
       "</g>\n",
       "</g>\n",
       "</svg>\n"
      ],
      "text/plain": [
       "<Dot visualization: expr_as_graph [(\"0\",{x,y| x∈ℙ(Z) & δs(x,[0]) = y},\n",
       "                    \"1\",{x,y| x∈ℙ(Z) & δs(x,[1]) = y},\n",
       "                    \"start\", {x,y|x=y & x={z0}},\n",
       "                    \"end\", {x,y|x=y & x∩F ≠ ∅})]>"
      ]
     },
     "execution_count": 15,
     "metadata": {},
     "output_type": "execute_result"
    }
   ],
   "source": [
    ":dot expr_as_graph (\"0\",{x,y| x∈ℙ(Z) & δs(x,[0]) = y},\n",
    "                    \"1\",{x,y| x∈ℙ(Z) & δs(x,[1]) = y},\n",
    "                    \"start\", {x,y|x=y & x={z0}},\n",
    "                    \"end\", {x,y|x=y & x∩F ≠ ∅})"
   ]
  }
 ],
 "metadata": {
  "kernelspec": {
   "display_name": "ProB 2",
   "language": "prob",
   "name": "prob2"
  },
  "language_info": {
   "codemirror_mode": "prob2_jupyter_repl",
   "file_extension": ".prob",
   "mimetype": "text/x-prob2-jupyter-repl",
   "name": "prob"
  }
 },
 "nbformat": 4,
 "nbformat_minor": 2
}
