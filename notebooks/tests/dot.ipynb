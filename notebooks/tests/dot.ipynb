{
 "cells": [
  {
   "cell_type": "code",
   "execution_count": 1,
   "metadata": {},
   "outputs": [
    {
     "data": {
      "text/markdown": [
       "```\n",
       ":dot COMMAND [FORMULA]\n",
       "```\n",
       "\n",
       "Execute and show a dot visualisation.\n",
       "\n",
       "The following dot visualisation commands are available:\n",
       "\n",
       "* `machine_hierarchy` - Machine Hierarchy: Shows the machine hierarchy of a classical B model\n",
       "* `operations` - Operation Call Graph: Shows the call graph of a classical B model\n",
       "* `event_hierarchy` - Event Hierarchy: Shows the event hierarchy of an Event-B model\n",
       "* `state_space` - State Space: Show state space\n",
       "* `state_space_sfdp` - State Space (Fast): Show state space (fast)\n",
       "* `current_state` - Current State in State Space: Show current state and successors in state space\n",
       "* `history` - Path to Current State: Show a path leading to current state\n",
       "* `signature_merge` - Signature Merge: Show signature-merged reduced state space\n",
       "* `dfa_merge` - DFA Merge: Show state space as deterministic automaton (DFA)\n",
       "* `transition_diagram` - State Space Expression Projection...: Project state space onto expression values and show transition diagram\n",
       "* `enable_graph` - Enable Graph: Show enabling graph of events\n",
       "* `state_as_graph` - Current State as Graph: Show values in current state as a graph\n",
       "* `custom_graph` - Customized Current State as Graph: Show values in current state as a graph using CUSTOM_GRAPH_EDGES\n",
       "* `expr_as_graph` - (Relational) Expression as Graph...: Show (relational) expression value as a graph\n",
       "* `formula_tree` - Custom Predicate/Expression Formula Tree...: Show predicate/expressions and sub-formulas as a tree\n",
       "* `invariant` - Invariant Formula Tree: Show invariant as a formula tree\n",
       "* `properties` - Properties Formula Tree: Show properties as a formula tree\n",
       "* `assertions` - Assertions Formula Tree: Show assertions as a formula tree\n",
       "* `deadlock` - Deadlock Formula Tree: Show deadlocking status as a formula tree\n",
       "* `goal` - Goal Formula Tree: Show GOAL as a formula tree\n",
       "* `dependence_graph` - Dependence Graph: Show dependence graph of events\n",
       "* `variable_modification_graph` - Variable Read/Write Graph: Show variable modification by operations and reading in guards\n",
       "* `definitions` - Definitions Graph: Show dependence graph of DEFINITIONS\n",
       "* `predicate_dependency` - Predicate Dependency Graph...: Show dependence graph of conjuncts of a predicate\n",
       "* `last_error` - Last Error Formula Tree: Show last error source as a formula tree\n",
       "* `id_value_formula_tree` - Value of Identifier as Formula Tree...: Show value of an identifier as a formula tree (mainly useful for symbolic values)\n"
      ],
      "text/plain": [
       ":dot COMMAND [FORMULA]\n",
       "Execute and show a dot visualisation.\n",
       "\n",
       "The following dot visualisation commands are available:\n",
       "\n",
       "* `machine_hierarchy` - Machine Hierarchy: Shows the machine hierarchy of a classical B model\n",
       "* `operations` - Operation Call Graph: Shows the call graph of a classical B model\n",
       "* `event_hierarchy` - Event Hierarchy: Shows the event hierarchy of an Event-B model\n",
       "* `state_space` - State Space: Show state space\n",
       "* `state_space_sfdp` - State Space (Fast): Show state space (fast)\n",
       "* `current_state` - Current State in State Space: Show current state and successors in state space\n",
       "* `history` - Path to Current State: Show a path leading to current state\n",
       "* `signature_merge` - Signature Merge: Show signature-merged reduced state space\n",
       "* `dfa_merge` - DFA Merge: Show state space as deterministic automaton (DFA)\n",
       "* `transition_diagram` - State Space Expression Projection...: Project state space onto expression values and show transition diagram\n",
       "* `enable_graph` - Enable Graph: Show enabling graph of events\n",
       "* `state_as_graph` - Current State as Graph: Show values in current state as a graph\n",
       "* `custom_graph` - Customized Current State as Graph: Show values in current state as a graph using CUSTOM_GRAPH_EDGES\n",
       "* `expr_as_graph` - (Relational) Expression as Graph...: Show (relational) expression value as a graph\n",
       "* `formula_tree` - Custom Predicate/Expression Formula Tree...: Show predicate/expressions and sub-formulas as a tree\n",
       "* `invariant` - Invariant Formula Tree: Show invariant as a formula tree\n",
       "* `properties` - Properties Formula Tree: Show properties as a formula tree\n",
       "* `assertions` - Assertions Formula Tree: Show assertions as a formula tree\n",
       "* `deadlock` - Deadlock Formula Tree: Show deadlocking status as a formula tree\n",
       "* `goal` - Goal Formula Tree: Show GOAL as a formula tree\n",
       "* `dependence_graph` - Dependence Graph: Show dependence graph of events\n",
       "* `variable_modification_graph` - Variable Read/Write Graph: Show variable modification by operations and reading in guards\n",
       "* `definitions` - Definitions Graph: Show dependence graph of DEFINITIONS\n",
       "* `predicate_dependency` - Predicate Dependency Graph...: Show dependence graph of conjuncts of a predicate\n",
       "* `last_error` - Last Error Formula Tree: Show last error source as a formula tree\n",
       "* `id_value_formula_tree` - Value of Identifier as Formula Tree...: Show value of an identifier as a formula tree (mainly useful for symbolic values)\n"
      ]
     },
     "execution_count": 1,
     "metadata": {},
     "output_type": "execute_result"
    }
   ],
   "source": [
    ":help :dot"
   ]
  },
  {
   "cell_type": "code",
   "execution_count": 2,
   "metadata": {},
   "outputs": [
    {
     "data": {
      "image/svg+xml": [
       "<?xml version=\"1.0\" encoding=\"UTF-8\" standalone=\"no\"?>\n",
       "<!DOCTYPE svg PUBLIC \"-//W3C//DTD SVG 1.1//EN\"\n",
       " \"http://www.w3.org/Graphics/SVG/1.1/DTD/svg11.dtd\">\n",
       "<!-- Generated by graphviz version 8.0.3 (20230416.2022)\n",
       " -->\n",
       "<!-- Title: visited_states Pages: 1 -->\n",
       "<svg width=\"94pt\" height=\"50pt\"\n",
       " viewBox=\"0.00 0.00 94.18 50.00\" xmlns=\"http://www.w3.org/2000/svg\" xmlns:xlink=\"http://www.w3.org/1999/xlink\">\n",
       "<g id=\"graph0\" class=\"graph\" transform=\"scale(1 1) rotate(0) translate(4 46)\">\n",
       "<title>visited_states</title>\n",
       "<polygon fill=\"white\" stroke=\"none\" points=\"-4,4 -4,-46 90.18,-46 90.18,4 -4,4\"/>\n",
       "<!-- root -->\n",
       "<g id=\"node1\" class=\"node\">\n",
       "<title>root</title>\n",
       "<polygon fill=\"none\" stroke=\"#f4e3c1\" stroke-width=\"2\" points=\"43.09,0 86.27,-31.5 -0.09,-31.5 43.09,0\"/>\n",
       "<text text-anchor=\"middle\" x=\"43.09\" y=\"-17.9\" font-family=\"Times,serif\" font-size=\"12.00\">root</text>\n",
       "</g>\n",
       "</g>\n",
       "</svg>\n"
      ],
      "text/plain": [
       "<Dot visualization: state_space []>"
      ]
     },
     "execution_count": 2,
     "metadata": {},
     "output_type": "execute_result"
    }
   ],
   "source": [
    ":dot state_space"
   ]
  },
  {
   "cell_type": "code",
   "execution_count": 3,
   "metadata": {},
   "outputs": [
    {
     "data": {
      "text/plain": [
       "Executed operation: INITIALISATION()"
      ]
     },
     "execution_count": 3,
     "metadata": {},
     "output_type": "execute_result"
    }
   ],
   "source": [
    ":init"
   ]
  },
  {
   "cell_type": "code",
   "execution_count": 4,
   "metadata": {
    "scrolled": false
   },
   "outputs": [
    {
     "data": {
      "image/svg+xml": [
       "<?xml version=\"1.0\" encoding=\"UTF-8\" standalone=\"no\"?>\n",
       "<!DOCTYPE svg PUBLIC \"-//W3C//DTD SVG 1.1//EN\"\n",
       " \"http://www.w3.org/Graphics/SVG/1.1/DTD/svg11.dtd\">\n",
       "<!-- Generated by graphviz version 8.0.3 (20230416.2022)\n",
       " -->\n",
       "<!-- Title: visited_states Pages: 1 -->\n",
       "<svg width=\"143pt\" height=\"215pt\"\n",
       " viewBox=\"0.00 0.00 143.09 215.00\" xmlns=\"http://www.w3.org/2000/svg\" xmlns:xlink=\"http://www.w3.org/1999/xlink\">\n",
       "<g id=\"graph0\" class=\"graph\" transform=\"scale(1 1) rotate(0) translate(4 211)\">\n",
       "<title>visited_states</title>\n",
       "<polygon fill=\"white\" stroke=\"none\" points=\"-4,4 -4,-211 139.09,-211 139.09,4 -4,4\"/>\n",
       "<!-- root -->\n",
       "<g id=\"node1\" class=\"node\">\n",
       "<title>root</title>\n",
       "<polygon fill=\"none\" stroke=\"#f4e3c1\" stroke-width=\"2\" points=\"43.09,-165 86.27,-196.5 -0.09,-196.5 43.09,-165\"/>\n",
       "<text text-anchor=\"middle\" x=\"43.09\" y=\"-182.9\" font-family=\"Times,serif\" font-size=\"12.00\">root</text>\n",
       "</g>\n",
       "<!-- 0 -->\n",
       "<g id=\"node2\" class=\"node\">\n",
       "<title>0</title>\n",
       "<polygon fill=\"none\" stroke=\"#99bf38\" stroke-width=\"2\" points=\"70.09,-14.54 70.09,-29.46 54.27,-40 31.91,-40 16.09,-29.46 16.09,-14.54 31.91,-4 54.27,-4 70.09,-14.54\"/>\n",
       "<polygon fill=\"none\" stroke=\"#99bf38\" stroke-width=\"2\" points=\"74.09,-12.4 74.09,-31.6 55.49,-44 30.7,-44 12.09,-31.6 12.09,-12.4 30.7,0 55.49,0 74.09,-12.4\"/>\n",
       "</g>\n",
       "<!-- root&#45;&gt;0 -->\n",
       "<g id=\"edge1\" class=\"edge\">\n",
       "<title>root&#45;&gt;0</title>\n",
       "<path fill=\"none\" stroke=\"black\" stroke-dasharray=\"1,5\" d=\"M43.09,-163.82C43.09,-136.28 43.09,-87.89 43.09,-55.64\"/>\n",
       "<polygon fill=\"black\" stroke=\"black\" points=\"46.59,-55.96 43.09,-45.96 39.59,-55.96 46.59,-55.96\"/>\n",
       "<text text-anchor=\"middle\" x=\"89.09\" y=\"-101.4\" font-family=\"Times,serif\" font-size=\"12.00\">INITIALISATION</text>\n",
       "</g>\n",
       "</g>\n",
       "</svg>\n"
      ],
      "text/plain": [
       "<Dot visualization: state_space []>"
      ]
     },
     "execution_count": 4,
     "metadata": {},
     "output_type": "execute_result"
    }
   ],
   "source": [
    ":dot state_space"
   ]
  },
  {
   "cell_type": "code",
   "execution_count": 5,
   "metadata": {},
   "outputs": [
    {
     "data": {
      "image/svg+xml": [
       "<?xml version=\"1.0\" encoding=\"UTF-8\" standalone=\"no\"?>\n",
       "<!DOCTYPE svg PUBLIC \"-//W3C//DTD SVG 1.1//EN\"\n",
       " \"http://www.w3.org/Graphics/SVG/1.1/DTD/svg11.dtd\">\n",
       "<!-- Generated by graphviz version 8.0.3 (20230416.2022)\n",
       " -->\n",
       "<!-- Title: g Pages: 1 -->\n",
       "<svg width=\"62pt\" height=\"46pt\"\n",
       " viewBox=\"0.00 0.00 62.00 46.00\" xmlns=\"http://www.w3.org/2000/svg\" xmlns:xlink=\"http://www.w3.org/1999/xlink\">\n",
       "<g id=\"graph0\" class=\"graph\" transform=\"scale(1 1) rotate(0) translate(4 42)\">\n",
       "<title>g</title>\n",
       "<polygon fill=\"white\" stroke=\"none\" points=\"-4,4 -4,-42 58,-42 58,4 -4,4\"/>\n",
       "<!-- Noderoot -->\n",
       "<g id=\"node1\" class=\"node\">\n",
       "<title>Noderoot</title>\n",
       "<path fill=\"#b3ee3a\" stroke=\"black\" d=\"M42,-38C42,-38 12,-38 12,-38 6,-38 0,-32 0,-26 0,-26 0,-12 0,-12 0,-6 6,0 12,0 12,0 42,0 42,0 48,0 54,-6 54,-12 54,-12 54,-26 54,-26 54,-32 48,-38 42,-38\"/>\n",
       "<text text-anchor=\"middle\" x=\"27\" y=\"-22.8\" font-family=\"Times,serif\" font-size=\"14.00\">⊤</text>\n",
       "<text text-anchor=\"middle\" x=\"27\" y=\"-7.8\" font-family=\"Times,serif\" font-size=\"14.00\">true</text>\n",
       "</g>\n",
       "</g>\n",
       "</svg>\n"
      ],
      "text/plain": [
       "<Dot visualization: invariant []>"
      ]
     },
     "execution_count": 5,
     "metadata": {},
     "output_type": "execute_result"
    }
   ],
   "source": [
    ":dot invariant"
   ]
  },
  {
   "cell_type": "code",
   "execution_count": 6,
   "metadata": {},
   "outputs": [
    {
     "data": {
      "image/svg+xml": [
       "<?xml version=\"1.0\" encoding=\"UTF-8\" standalone=\"no\"?>\n",
       "<!DOCTYPE svg PUBLIC \"-//W3C//DTD SVG 1.1//EN\"\n",
       " \"http://www.w3.org/Graphics/SVG/1.1/DTD/svg11.dtd\">\n",
       "<!-- Generated by graphviz version 8.0.3 (20230416.2022)\n",
       " -->\n",
       "<!-- Title: state Pages: 1 -->\n",
       "<svg width=\"325pt\" height=\"218pt\"\n",
       " viewBox=\"0.00 0.00 325.00 218.00\" xmlns=\"http://www.w3.org/2000/svg\" xmlns:xlink=\"http://www.w3.org/1999/xlink\">\n",
       "<g id=\"graph0\" class=\"graph\" transform=\"scale(1 1) rotate(0) translate(4 214)\">\n",
       "<title>state</title>\n",
       "<polygon fill=\"white\" stroke=\"none\" points=\"-4,4 -4,-214 321,-214 321,4 -4,4\"/>\n",
       "<!-- 3 -->\n",
       "<g id=\"node1\" class=\"node\">\n",
       "<title>3</title>\n",
       "<polygon fill=\"#cdba96\" stroke=\"#cdba96\" points=\"129,-210 75,-210 75,-174 129,-174 129,-210\"/>\n",
       "<text text-anchor=\"middle\" x=\"102\" y=\"-188.3\" font-family=\"Times,serif\" font-size=\"14.00\">3</text>\n",
       "</g>\n",
       "<!-- 1 -->\n",
       "<g id=\"node2\" class=\"node\">\n",
       "<title>1</title>\n",
       "<polygon fill=\"#cdba96\" stroke=\"#cdba96\" points=\"54,-123 0,-123 0,-87 54,-87 54,-123\"/>\n",
       "<text text-anchor=\"middle\" x=\"27\" y=\"-101.3\" font-family=\"Times,serif\" font-size=\"14.00\">1</text>\n",
       "</g>\n",
       "<!-- 3&#45;&gt;1 -->\n",
       "<g id=\"edge1\" class=\"edge\">\n",
       "<title>3&#45;&gt;1</title>\n",
       "<path fill=\"none\" stroke=\"firebrick\" d=\"M74.65,-185.62C58.14,-180.83 38.35,-171.99 28,-156 23.82,-149.54 22.41,-141.55 22.36,-133.87\"/>\n",
       "<polygon fill=\"firebrick\" stroke=\"firebrick\" points=\"25.91,-134.27 23.09,-124.06 18.93,-133.8 25.91,-134.27\"/>\n",
       "<text text-anchor=\"middle\" x=\"96\" y=\"-144.8\" font-family=\"Times,serif\" font-size=\"14.00\">{(1|&#45;&gt;2),(2|&#45;&gt;3),(3|&#45;&gt;1)}</text>\n",
       "</g>\n",
       "<!-- 2 -->\n",
       "<g id=\"node3\" class=\"node\">\n",
       "<title>2</title>\n",
       "<polygon fill=\"#cdba96\" stroke=\"#cdba96\" points=\"129,-36 75,-36 75,0 129,0 129,-36\"/>\n",
       "<text text-anchor=\"middle\" x=\"102\" y=\"-14.3\" font-family=\"Times,serif\" font-size=\"14.00\">2</text>\n",
       "</g>\n",
       "<!-- 1&#45;&gt;2 -->\n",
       "<g id=\"edge3\" class=\"edge\">\n",
       "<title>1&#45;&gt;2</title>\n",
       "<path fill=\"none\" stroke=\"firebrick\" d=\"M23.09,-86.94C21.7,-76.61 21.77,-63.62 28,-54 36.25,-41.26 50.49,-33.06 64.29,-27.83\"/>\n",
       "<polygon fill=\"firebrick\" stroke=\"firebrick\" points=\"65.27,-30.86 73.65,-24.38 63.06,-24.22 65.27,-30.86\"/>\n",
       "<text text-anchor=\"middle\" x=\"96\" y=\"-57.8\" font-family=\"Times,serif\" font-size=\"14.00\">{(1|&#45;&gt;2),(2|&#45;&gt;3),(3|&#45;&gt;1)}</text>\n",
       "</g>\n",
       "<!-- 2&#45;&gt;3 -->\n",
       "<g id=\"edge2\" class=\"edge\">\n",
       "<title>2&#45;&gt;3</title>\n",
       "<path fill=\"none\" stroke=\"firebrick\" d=\"M129.25,-27.16C142.2,-32.56 156.46,-41.08 164,-54 186.86,-93.15 186.86,-116.85 164,-156 158.34,-165.69 148.91,-172.9 139.08,-178.19\"/>\n",
       "<polygon fill=\"firebrick\" stroke=\"firebrick\" points=\"137.79,-175.4 130.25,-182.84 140.79,-181.72 137.79,-175.4\"/>\n",
       "<text text-anchor=\"middle\" x=\"249\" y=\"-101.3\" font-family=\"Times,serif\" font-size=\"14.00\">{(1|&#45;&gt;2),(2|&#45;&gt;3),(3|&#45;&gt;1)}</text>\n",
       "</g>\n",
       "</g>\n",
       "</svg>\n"
      ],
      "text/plain": [
       "<Dot visualization: expr_as_graph [{1|->2, 2|->3, 3|->1}]>"
      ]
     },
     "execution_count": 6,
     "metadata": {},
     "output_type": "execute_result"
    }
   ],
   "source": [
    ":dot expr_as_graph {1|->2, 2|->3, 3|->1}"
   ]
  },
  {
   "cell_type": "code",
   "execution_count": 7,
   "metadata": {},
   "outputs": [
    {
     "data": {
      "image/svg+xml": [
       "<?xml version=\"1.0\" encoding=\"UTF-8\" standalone=\"no\"?>\n",
       "<!DOCTYPE svg PUBLIC \"-//W3C//DTD SVG 1.1//EN\"\n",
       " \"http://www.w3.org/Graphics/SVG/1.1/DTD/svg11.dtd\">\n",
       "<!-- Generated by graphviz version 8.0.3 (20230416.2022)\n",
       " -->\n",
       "<!-- Title: state Pages: 1 -->\n",
       "<svg width=\"220pt\" height=\"392pt\"\n",
       " viewBox=\"0.00 0.00 220.11 392.00\" xmlns=\"http://www.w3.org/2000/svg\" xmlns:xlink=\"http://www.w3.org/1999/xlink\">\n",
       "<g id=\"graph0\" class=\"graph\" transform=\"scale(1 1) rotate(0) translate(4 388)\">\n",
       "<title>state</title>\n",
       "<polygon fill=\"white\" stroke=\"none\" points=\"-4,4 -4,-388 216.11,-388 216.11,4 -4,4\"/>\n",
       "<!-- 4 -->\n",
       "<g id=\"node1\" class=\"node\">\n",
       "<title>4</title>\n",
       "<polygon fill=\"#cdba96\" stroke=\"#cdba96\" points=\"126.11,-297 72.11,-297 72.11,-261 126.11,-261 126.11,-297\"/>\n",
       "<text text-anchor=\"middle\" x=\"99.11\" y=\"-275.3\" font-family=\"Times,serif\" font-size=\"14.00\">4</text>\n",
       "</g>\n",
       "<!-- 2 -->\n",
       "<g id=\"node2\" class=\"node\">\n",
       "<title>2</title>\n",
       "<polygon fill=\"#cdba96\" stroke=\"#cdba96\" points=\"60.11,-123 6.11,-123 6.11,-87 60.11,-87 60.11,-123\"/>\n",
       "<text text-anchor=\"middle\" x=\"33.11\" y=\"-101.3\" font-family=\"Times,serif\" font-size=\"14.00\">2</text>\n",
       "</g>\n",
       "<!-- 4&#45;&gt;2 -->\n",
       "<g id=\"edge1\" class=\"edge\">\n",
       "<title>4&#45;&gt;2</title>\n",
       "<path fill=\"none\" stroke=\"firebrick\" d=\"M79.4,-260.77C66.39,-248.14 50.29,-229.79 42.11,-210 32.07,-185.72 30.52,-155.6 31.05,-134.03\"/>\n",
       "<polygon fill=\"firebrick\" stroke=\"firebrick\" points=\"34.58,-134.45 31.51,-124.31 27.59,-134.15 34.58,-134.45\"/>\n",
       "<text text-anchor=\"middle\" x=\"53.11\" y=\"-188.3\" font-family=\"Times,serif\" font-size=\"14.00\">half</text>\n",
       "</g>\n",
       "<!-- 4&#45;&gt;2 -->\n",
       "<g id=\"edge8\" class=\"edge\">\n",
       "<title>4&#45;&gt;2</title>\n",
       "<path fill=\"none\" stroke=\"sienna\" d=\"M71.64,-264.5C52.08,-253.09 27.64,-234.66 18.11,-210 8.49,-185.11 14.76,-154.71 21.9,-133.22\"/>\n",
       "<polygon fill=\"sienna\" stroke=\"sienna\" points=\"25.43,-134.75 25.52,-124.16 18.84,-132.38 25.43,-134.75\"/>\n",
       "<text text-anchor=\"middle\" x=\"23.61\" y=\"-188.3\" font-family=\"Times,serif\" font-size=\"14.00\">gt</text>\n",
       "</g>\n",
       "<!-- 1 -->\n",
       "<g id=\"node3\" class=\"node\">\n",
       "<title>1</title>\n",
       "<polygon fill=\"#cdba96\" stroke=\"#cdba96\" points=\"131.11,-36 77.11,-36 77.11,0 131.11,0 131.11,-36\"/>\n",
       "<text text-anchor=\"middle\" x=\"104.11\" y=\"-14.3\" font-family=\"Times,serif\" font-size=\"14.00\">1</text>\n",
       "</g>\n",
       "<!-- 4&#45;&gt;1 -->\n",
       "<g id=\"edge9\" class=\"edge\">\n",
       "<title>4&#45;&gt;1</title>\n",
       "<path fill=\"none\" stroke=\"sienna\" d=\"M111.79,-260.56C120.53,-247.39 131.4,-228.5 136.11,-210 150.71,-152.62 130.08,-83.79 115.78,-46.42\"/>\n",
       "<polygon fill=\"sienna\" stroke=\"sienna\" points=\"118.71,-45.32 111.77,-37.32 112.2,-47.91 118.71,-45.32\"/>\n",
       "<text text-anchor=\"middle\" x=\"145.61\" y=\"-144.8\" font-family=\"Times,serif\" font-size=\"14.00\">gt</text>\n",
       "</g>\n",
       "<!-- 3 -->\n",
       "<g id=\"node5\" class=\"node\">\n",
       "<title>3</title>\n",
       "<polygon fill=\"#cdba96\" stroke=\"#cdba96\" points=\"127.11,-210 73.11,-210 73.11,-174 127.11,-174 127.11,-210\"/>\n",
       "<text text-anchor=\"middle\" x=\"100.11\" y=\"-188.3\" font-family=\"Times,serif\" font-size=\"14.00\">3</text>\n",
       "</g>\n",
       "<!-- 4&#45;&gt;3 -->\n",
       "<g id=\"edge7\" class=\"edge\">\n",
       "<title>4&#45;&gt;3</title>\n",
       "<path fill=\"none\" stroke=\"sienna\" d=\"M99.31,-260.8C99.44,-249.47 99.62,-234.36 99.78,-221.29\"/>\n",
       "<polygon fill=\"sienna\" stroke=\"sienna\" points=\"103.28,-221.51 99.9,-211.47 96.29,-221.43 103.28,-221.51\"/>\n",
       "<text text-anchor=\"middle\" x=\"104.61\" y=\"-231.8\" font-family=\"Times,serif\" font-size=\"14.00\">gt</text>\n",
       "</g>\n",
       "<!-- 2&#45;&gt;1 -->\n",
       "<g id=\"edge2\" class=\"edge\">\n",
       "<title>2&#45;&gt;1</title>\n",
       "<path fill=\"none\" stroke=\"firebrick\" d=\"M44.02,-86.75C50.57,-76.83 59.32,-64.33 68.11,-54 71.03,-50.56 74.24,-47.09 77.51,-43.73\"/>\n",
       "<polygon fill=\"firebrick\" stroke=\"firebrick\" points=\"79.49,-46.7 84.11,-37.17 74.55,-41.74 79.49,-46.7\"/>\n",
       "<text text-anchor=\"middle\" x=\"79.11\" y=\"-57.8\" font-family=\"Times,serif\" font-size=\"14.00\">half</text>\n",
       "</g>\n",
       "<!-- 2&#45;&gt;1 -->\n",
       "<g id=\"edge12\" class=\"edge\">\n",
       "<title>2&#45;&gt;1</title>\n",
       "<path fill=\"none\" stroke=\"sienna\" d=\"M32.23,-86.86C32.53,-76.5 34.45,-63.5 41.11,-54 47.52,-44.85 57.11,-37.83 66.9,-32.56\"/>\n",
       "<polygon fill=\"sienna\" stroke=\"sienna\" points=\"68.15,-35.36 75.63,-27.87 65.1,-29.06 68.15,-35.36\"/>\n",
       "<text text-anchor=\"middle\" x=\"46.61\" y=\"-57.8\" font-family=\"Times,serif\" font-size=\"14.00\">gt</text>\n",
       "</g>\n",
       "<!-- 5 -->\n",
       "<g id=\"node4\" class=\"node\">\n",
       "<title>5</title>\n",
       "<polygon fill=\"#cdba96\" stroke=\"#cdba96\" points=\"173.11,-384 119.11,-384 119.11,-348 173.11,-348 173.11,-384\"/>\n",
       "<text text-anchor=\"middle\" x=\"146.11\" y=\"-362.3\" font-family=\"Times,serif\" font-size=\"14.00\">5</text>\n",
       "</g>\n",
       "<!-- 5&#45;&gt;4 -->\n",
       "<g id=\"edge3\" class=\"edge\">\n",
       "<title>5&#45;&gt;4</title>\n",
       "<path fill=\"none\" stroke=\"sienna\" d=\"M136.6,-347.8C130.08,-336.01 121.3,-320.14 113.88,-306.72\"/>\n",
       "<polygon fill=\"sienna\" stroke=\"sienna\" points=\"116.67,-305.52 108.77,-298.47 110.54,-308.91 116.67,-305.52\"/>\n",
       "<text text-anchor=\"middle\" x=\"130.61\" y=\"-318.8\" font-family=\"Times,serif\" font-size=\"14.00\">gt</text>\n",
       "</g>\n",
       "<!-- 5&#45;&gt;2 -->\n",
       "<g id=\"edge5\" class=\"edge\">\n",
       "<title>5&#45;&gt;2</title>\n",
       "<path fill=\"none\" stroke=\"sienna\" d=\"M118.74,-349.31C86.8,-329.27 35.5,-291.33 13.11,-243 -5.95,-201.86 -1.96,-184.1 12.11,-141 12.97,-138.35 14.07,-135.68 15.31,-133.07\"/>\n",
       "<polygon fill=\"sienna\" stroke=\"sienna\" points=\"18.86,-134.87 20.57,-124.42 12.71,-131.52 18.86,-134.87\"/>\n",
       "<text text-anchor=\"middle\" x=\"18.61\" y=\"-231.8\" font-family=\"Times,serif\" font-size=\"14.00\">gt</text>\n",
       "</g>\n",
       "<!-- 5&#45;&gt;1 -->\n",
       "<g id=\"edge6\" class=\"edge\">\n",
       "<title>5&#45;&gt;1</title>\n",
       "<path fill=\"none\" stroke=\"sienna\" d=\"M165.96,-347.54C181.72,-331.67 201.11,-306.72 201.11,-280 201.11,-280 201.11,-280 201.11,-104 201.11,-70.8 168.56,-47.54 141.17,-33.85\"/>\n",
       "<polygon fill=\"sienna\" stroke=\"sienna\" points=\"142.92,-30.33 132.39,-29.23 139.94,-36.66 142.92,-30.33\"/>\n",
       "<text text-anchor=\"middle\" x=\"206.61\" y=\"-188.3\" font-family=\"Times,serif\" font-size=\"14.00\">gt</text>\n",
       "</g>\n",
       "<!-- 5&#45;&gt;3 -->\n",
       "<g id=\"edge4\" class=\"edge\">\n",
       "<title>5&#45;&gt;3</title>\n",
       "<path fill=\"none\" stroke=\"sienna\" d=\"M146.21,-347.69C145.9,-326.73 143.94,-290.57 135.11,-261 130.86,-246.79 123.66,-232.03 116.88,-219.91\"/>\n",
       "<polygon fill=\"sienna\" stroke=\"sienna\" points=\"119.42,-218.31 111.37,-211.42 113.37,-221.82 119.42,-218.31\"/>\n",
       "<text text-anchor=\"middle\" x=\"147.61\" y=\"-275.3\" font-family=\"Times,serif\" font-size=\"14.00\">gt</text>\n",
       "</g>\n",
       "<!-- 3&#45;&gt;2 -->\n",
       "<g id=\"edge10\" class=\"edge\">\n",
       "<title>3&#45;&gt;2</title>\n",
       "<path fill=\"none\" stroke=\"sienna\" d=\"M86.55,-173.8C77.08,-161.78 64.26,-145.52 53.55,-131.94\"/>\n",
       "<polygon fill=\"sienna\" stroke=\"sienna\" points=\"55.82,-130.15 46.88,-124.47 50.32,-134.49 55.82,-130.15\"/>\n",
       "<text text-anchor=\"middle\" x=\"75.61\" y=\"-144.8\" font-family=\"Times,serif\" font-size=\"14.00\">gt</text>\n",
       "</g>\n",
       "<!-- 3&#45;&gt;1 -->\n",
       "<g id=\"edge11\" class=\"edge\">\n",
       "<title>3&#45;&gt;1</title>\n",
       "<path fill=\"none\" stroke=\"sienna\" d=\"M100.51,-173.56C101.21,-143.81 102.62,-83.01 103.45,-47.17\"/>\n",
       "<polygon fill=\"sienna\" stroke=\"sienna\" points=\"106.97,-47.56 103.7,-37.48 99.97,-47.4 106.97,-47.56\"/>\n",
       "<text text-anchor=\"middle\" x=\"107.61\" y=\"-101.3\" font-family=\"Times,serif\" font-size=\"14.00\">gt</text>\n",
       "</g>\n",
       "</g>\n",
       "</svg>\n"
      ],
      "text/plain": [
       "<Dot visualization: expr_as_graph [(\"gt\",{x,y|x:1..5 & y:1..5 & x>y},\"half\",{y,x|x:1..5 & y:1..5 & x+x=y})]>"
      ]
     },
     "execution_count": 7,
     "metadata": {},
     "output_type": "execute_result"
    }
   ],
   "source": [
    ":dot expr_as_graph (\"gt\",{x,y|x:1..5 & y:1..5 & x>y},\"half\",{y,x|x:1..5 & y:1..5 & x+x=y})"
   ]
  },
  {
   "cell_type": "code",
   "execution_count": 8,
   "metadata": {},
   "outputs": [
    {
     "data": {
      "text/plain": [
       "Preference changed: DOT_ENGINE = circo\n"
      ]
     },
     "execution_count": 8,
     "metadata": {},
     "output_type": "execute_result"
    }
   ],
   "source": [
    ":pref DOT_ENGINE=circo"
   ]
  },
  {
   "cell_type": "code",
   "execution_count": 9,
   "metadata": {},
   "outputs": [
    {
     "data": {
      "image/svg+xml": [
       "<?xml version=\"1.0\" encoding=\"UTF-8\" standalone=\"no\"?>\n",
       "<!DOCTYPE svg PUBLIC \"-//W3C//DTD SVG 1.1//EN\"\n",
       " \"http://www.w3.org/Graphics/SVG/1.1/DTD/svg11.dtd\">\n",
       "<!-- Generated by graphviz version 8.0.3 (20230416.2022)\n",
       " -->\n",
       "<!-- Title: state Pages: 1 -->\n",
       "<svg width=\"243pt\" height=\"235pt\"\n",
       " viewBox=\"0.00 0.00 243.39 234.72\" xmlns=\"http://www.w3.org/2000/svg\" xmlns:xlink=\"http://www.w3.org/1999/xlink\">\n",
       "<g id=\"graph0\" class=\"graph\" transform=\"scale(1 1) rotate(0) translate(4 230.72)\">\n",
       "<title>state</title>\n",
       "<polygon fill=\"white\" stroke=\"none\" points=\"-4,4 -4,-230.72 239.39,-230.72 239.39,4 -4,4\"/>\n",
       "<!-- 4 -->\n",
       "<g id=\"node1\" class=\"node\">\n",
       "<title>4</title>\n",
       "<polygon fill=\"#cdba96\" stroke=\"#cdba96\" points=\"166.1,-36 112.1,-36 112.1,0 166.1,0 166.1,-36\"/>\n",
       "<text text-anchor=\"middle\" x=\"139.1\" y=\"-14.3\" font-family=\"Times,serif\" font-size=\"14.00\">4</text>\n",
       "</g>\n",
       "<!-- 2 -->\n",
       "<g id=\"node2\" class=\"node\">\n",
       "<title>2</title>\n",
       "<polygon fill=\"#cdba96\" stroke=\"#cdba96\" points=\"235.39,-131.36 181.39,-131.36 181.39,-95.36 235.39,-95.36 235.39,-131.36\"/>\n",
       "<text text-anchor=\"middle\" x=\"208.39\" y=\"-109.66\" font-family=\"Times,serif\" font-size=\"14.00\">2</text>\n",
       "</g>\n",
       "<!-- 4&#45;&gt;2 -->\n",
       "<g id=\"edge1\" class=\"edge\">\n",
       "<title>4&#45;&gt;2</title>\n",
       "<path fill=\"none\" stroke=\"firebrick\" d=\"M146.1,-36.33C154.46,-50.61 168.45,-70.57 181.11,-86.62\"/>\n",
       "<polygon fill=\"firebrick\" stroke=\"firebrick\" points=\"178.95,-88.51 187.97,-94.07 184.39,-84.1 178.95,-88.51\"/>\n",
       "<text text-anchor=\"middle\" x=\"152.61\" y=\"-65.27\" font-family=\"Times,serif\" font-size=\"14.00\">half</text>\n",
       "</g>\n",
       "<!-- 4&#45;&gt;2 -->\n",
       "<g id=\"edge8\" class=\"edge\">\n",
       "<title>4&#45;&gt;2</title>\n",
       "<path fill=\"none\" stroke=\"sienna\" d=\"M159.48,-36.25C171.21,-50.26 185.46,-69.76 195.64,-85.67\"/>\n",
       "<polygon fill=\"sienna\" stroke=\"sienna\" points=\"193.18,-87.35 201.39,-94.04 199.14,-83.68 193.18,-87.35\"/>\n",
       "<text text-anchor=\"middle\" x=\"172.06\" y=\"-64.76\" font-family=\"Times,serif\" font-size=\"14.00\">gt</text>\n",
       "</g>\n",
       "<!-- 1 -->\n",
       "<g id=\"node3\" class=\"node\">\n",
       "<title>1</title>\n",
       "<polygon fill=\"#cdba96\" stroke=\"#cdba96\" points=\"54,-190.3 0,-190.3 0,-154.3 54,-154.3 54,-190.3\"/>\n",
       "<text text-anchor=\"middle\" x=\"27\" y=\"-168.6\" font-family=\"Times,serif\" font-size=\"14.00\">1</text>\n",
       "</g>\n",
       "<!-- 4&#45;&gt;1 -->\n",
       "<g id=\"edge9\" class=\"edge\">\n",
       "<title>4&#45;&gt;1</title>\n",
       "<path fill=\"none\" stroke=\"sienna\" d=\"M125.8,-36.31C106.17,-63.33 69.29,-114.08 46.57,-145.36\"/>\n",
       "<polygon fill=\"sienna\" stroke=\"sienna\" points=\"43.33,-142.87 40.28,-153.01 48.99,-146.98 43.33,-142.87\"/>\n",
       "<text text-anchor=\"middle\" x=\"80.69\" y=\"-94.63\" font-family=\"Times,serif\" font-size=\"14.00\">gt</text>\n",
       "</g>\n",
       "<!-- 3 -->\n",
       "<g id=\"node5\" class=\"node\">\n",
       "<title>3</title>\n",
       "<polygon fill=\"#cdba96\" stroke=\"#cdba96\" points=\"54,-72.42 0,-72.42 0,-36.42 54,-36.42 54,-72.42\"/>\n",
       "<text text-anchor=\"middle\" x=\"27\" y=\"-50.72\" font-family=\"Times,serif\" font-size=\"14.00\">3</text>\n",
       "</g>\n",
       "<!-- 4&#45;&gt;3 -->\n",
       "<g id=\"edge7\" class=\"edge\">\n",
       "<title>4&#45;&gt;3</title>\n",
       "<path fill=\"none\" stroke=\"sienna\" d=\"M111.68,-26.91C97.46,-31.53 79.88,-37.24 64.43,-42.26\"/>\n",
       "<polygon fill=\"sienna\" stroke=\"sienna\" points=\"63.57,-39.19 55.14,-45.61 65.73,-45.84 63.57,-39.19\"/>\n",
       "<text text-anchor=\"middle\" x=\"82.55\" y=\"-38.39\" font-family=\"Times,serif\" font-size=\"14.00\">gt</text>\n",
       "</g>\n",
       "<!-- 2&#45;&gt;1 -->\n",
       "<g id=\"edge2\" class=\"edge\">\n",
       "<title>2&#45;&gt;1</title>\n",
       "<path fill=\"none\" stroke=\"firebrick\" d=\"M181.28,-117.04C150.33,-124.79 99.54,-141.01 64.74,-154.06\"/>\n",
       "<polygon fill=\"firebrick\" stroke=\"firebrick\" points=\"63.57,-151.14 55.49,-157.99 66.08,-157.67 63.57,-151.14\"/>\n",
       "<text text-anchor=\"middle\" x=\"112.01\" y=\"-124.35\" font-family=\"Times,serif\" font-size=\"14.00\">half</text>\n",
       "</g>\n",
       "<!-- 2&#45;&gt;1 -->\n",
       "<g id=\"edge12\" class=\"edge\">\n",
       "<title>2&#45;&gt;1</title>\n",
       "<path fill=\"none\" stroke=\"sienna\" d=\"M181.22,-127.54C150.26,-139.77 99.49,-156.41 64.72,-165.84\"/>\n",
       "<polygon fill=\"sienna\" stroke=\"sienna\" points=\"64.26,-162.6 55.48,-168.52 66.04,-169.37 64.26,-162.6\"/>\n",
       "<text text-anchor=\"middle\" x=\"117.47\" y=\"-150.49\" font-family=\"Times,serif\" font-size=\"14.00\">gt</text>\n",
       "</g>\n",
       "<!-- 5 -->\n",
       "<g id=\"node4\" class=\"node\">\n",
       "<title>5</title>\n",
       "<polygon fill=\"#cdba96\" stroke=\"#cdba96\" points=\"166.1,-226.72 112.1,-226.72 112.1,-190.72 166.1,-190.72 166.1,-226.72\"/>\n",
       "<text text-anchor=\"middle\" x=\"139.1\" y=\"-205.02\" font-family=\"Times,serif\" font-size=\"14.00\">5</text>\n",
       "</g>\n",
       "<!-- 5&#45;&gt;4 -->\n",
       "<g id=\"edge3\" class=\"edge\">\n",
       "<title>5&#45;&gt;4</title>\n",
       "<path fill=\"none\" stroke=\"sienna\" d=\"M139.1,-190.43C139.1,-157.25 139.1,-86.89 139.1,-47.07\"/>\n",
       "<polygon fill=\"sienna\" stroke=\"sienna\" points=\"142.6,-47.23 139.1,-37.23 135.6,-47.23 142.6,-47.23\"/>\n",
       "<text text-anchor=\"middle\" x=\"133.6\" y=\"-122.55\" font-family=\"Times,serif\" font-size=\"14.00\">gt</text>\n",
       "</g>\n",
       "<!-- 5&#45;&gt;2 -->\n",
       "<g id=\"edge5\" class=\"edge\">\n",
       "<title>5&#45;&gt;2</title>\n",
       "<path fill=\"none\" stroke=\"sienna\" d=\"M152.46,-190.33C162.72,-176.22 177.04,-156.51 188.62,-140.57\"/>\n",
       "<polygon fill=\"sienna\" stroke=\"sienna\" points=\"192.02,-142.84 195.07,-132.69 186.36,-138.72 192.02,-142.84\"/>\n",
       "<text text-anchor=\"middle\" x=\"165.04\" y=\"-169.25\" font-family=\"Times,serif\" font-size=\"14.00\">gt</text>\n",
       "</g>\n",
       "<!-- 5&#45;&gt;1 -->\n",
       "<g id=\"edge6\" class=\"edge\">\n",
       "<title>5&#45;&gt;1</title>\n",
       "<path fill=\"none\" stroke=\"sienna\" d=\"M111.68,-199.81C97.46,-195.19 79.88,-189.48 64.43,-184.46\"/>\n",
       "<polygon fill=\"sienna\" stroke=\"sienna\" points=\"65.73,-180.88 55.14,-181.11 63.57,-187.53 65.73,-180.88\"/>\n",
       "<text text-anchor=\"middle\" x=\"82.55\" y=\"-195.93\" font-family=\"Times,serif\" font-size=\"14.00\">gt</text>\n",
       "</g>\n",
       "<!-- 5&#45;&gt;3 -->\n",
       "<g id=\"edge4\" class=\"edge\">\n",
       "<title>5&#45;&gt;3</title>\n",
       "<path fill=\"none\" stroke=\"sienna\" d=\"M125.8,-190.41C106.17,-163.39 69.29,-112.64 46.57,-81.36\"/>\n",
       "<polygon fill=\"sienna\" stroke=\"sienna\" points=\"48.99,-79.74 40.28,-73.71 43.33,-83.85 48.99,-79.74\"/>\n",
       "<text text-anchor=\"middle\" x=\"80.69\" y=\"-139.69\" font-family=\"Times,serif\" font-size=\"14.00\">gt</text>\n",
       "</g>\n",
       "<!-- 3&#45;&gt;2 -->\n",
       "<g id=\"edge10\" class=\"edge\">\n",
       "<title>3&#45;&gt;2</title>\n",
       "<path fill=\"none\" stroke=\"sienna\" d=\"M54.16,-63.25C85.14,-73.32 136.02,-89.85 170.81,-101.15\"/>\n",
       "<polygon fill=\"sienna\" stroke=\"sienna\" points=\"169.45,-104.72 180.04,-104.48 171.62,-98.06 169.45,-104.72\"/>\n",
       "<text text-anchor=\"middle\" x=\"106.98\" y=\"-86\" font-family=\"Times,serif\" font-size=\"14.00\">gt</text>\n",
       "</g>\n",
       "<!-- 3&#45;&gt;1 -->\n",
       "<g id=\"edge11\" class=\"edge\">\n",
       "<title>3&#45;&gt;1</title>\n",
       "<path fill=\"none\" stroke=\"sienna\" d=\"M27,-72.84C27,-91.7 27,-121.28 27,-143.29\"/>\n",
       "<polygon fill=\"sienna\" stroke=\"sienna\" points=\"23.5,-143.01 27,-153.01 30.5,-143.01 23.5,-143.01\"/>\n",
       "<text text-anchor=\"middle\" x=\"21.5\" y=\"-111.86\" font-family=\"Times,serif\" font-size=\"14.00\">gt</text>\n",
       "</g>\n",
       "</g>\n",
       "</svg>\n"
      ],
      "text/plain": [
       "<Dot visualization: expr_as_graph [(\"gt\",{x,y|x:1..5 & y:1..5 & x>y},\"half\",{y,x|x:1..5 & y:1..5 & x+x=y})]>"
      ]
     },
     "execution_count": 9,
     "metadata": {},
     "output_type": "execute_result"
    }
   ],
   "source": [
    ":dot expr_as_graph (\"gt\",{x,y|x:1..5 & y:1..5 & x>y},\"half\",{y,x|x:1..5 & y:1..5 & x+x=y})"
   ]
  },
  {
   "cell_type": "code",
   "execution_count": 10,
   "metadata": {},
   "outputs": [
    {
     "data": {
      "text/plain": [
       "Preference changed: DOT_ENGINE = dot\n"
      ]
     },
     "execution_count": 10,
     "metadata": {},
     "output_type": "execute_result"
    }
   ],
   "source": [
    ":pref DOT_ENGINE=dot"
   ]
  },
  {
   "cell_type": "code",
   "execution_count": 11,
   "metadata": {},
   "outputs": [
    {
     "data": {
      "image/svg+xml": [
       "<?xml version=\"1.0\" encoding=\"UTF-8\" standalone=\"no\"?>\n",
       "<!DOCTYPE svg PUBLIC \"-//W3C//DTD SVG 1.1//EN\"\n",
       " \"http://www.w3.org/Graphics/SVG/1.1/DTD/svg11.dtd\">\n",
       "<!-- Generated by graphviz version 8.0.3 (20230416.2022)\n",
       " -->\n",
       "<!-- Title: g Pages: 1 -->\n",
       "<svg width=\"242pt\" height=\"110pt\"\n",
       " viewBox=\"0.00 0.00 242.00 110.00\" xmlns=\"http://www.w3.org/2000/svg\" xmlns:xlink=\"http://www.w3.org/1999/xlink\">\n",
       "<g id=\"graph0\" class=\"graph\" transform=\"scale(1 1) rotate(0) translate(4 106)\">\n",
       "<title>g</title>\n",
       "<polygon fill=\"white\" stroke=\"none\" points=\"-4,4 -4,-106 238,-106 238,4 -4,4\"/>\n",
       "<!-- Noderoot -->\n",
       "<g id=\"node1\" class=\"node\">\n",
       "<title>Noderoot</title>\n",
       "<path fill=\"#b3ee3a\" stroke=\"black\" d=\"M42,-72.5C42,-72.5 12,-72.5 12,-72.5 6,-72.5 0,-66.5 0,-60.5 0,-60.5 0,-46.5 0,-46.5 0,-40.5 6,-34.5 12,-34.5 12,-34.5 42,-34.5 42,-34.5 48,-34.5 54,-40.5 54,-46.5 54,-46.5 54,-60.5 54,-60.5 54,-66.5 48,-72.5 42,-72.5\"/>\n",
       "<text text-anchor=\"middle\" x=\"27\" y=\"-57.3\" font-family=\"Times,serif\" font-size=\"14.00\">=</text>\n",
       "<text text-anchor=\"middle\" x=\"27\" y=\"-42.3\" font-family=\"Times,serif\" font-size=\"14.00\">true</text>\n",
       "</g>\n",
       "<!-- Node1 -->\n",
       "<g id=\"node2\" class=\"node\">\n",
       "<title>Node1</title>\n",
       "<polygon fill=\"white\" stroke=\"black\" points=\"90,-65.5 90,-101.5 144,-101.5 144,-65.5 90,-65.5\"/>\n",
       "<text text-anchor=\"middle\" x=\"117\" y=\"-79.8\" font-family=\"Times,serif\" font-size=\"14.00\">2</text>\n",
       "</g>\n",
       "<!-- Node1&#45;&gt;Noderoot -->\n",
       "<g id=\"edge1\" class=\"edge\">\n",
       "<title>Node1&#45;&gt;Noderoot</title>\n",
       "<path fill=\"none\" stroke=\"black\" d=\"M90.07,-74.66C82.07,-71.93 73.1,-68.88 64.53,-65.95\"/>\n",
       "<polygon fill=\"black\" stroke=\"black\" points=\"65.95,-62.4 55.35,-62.48 63.69,-69.02 65.95,-62.4\"/>\n",
       "</g>\n",
       "<!-- Node2 -->\n",
       "<g id=\"node3\" class=\"node\">\n",
       "<title>Node2</title>\n",
       "<polygon fill=\"white\" stroke=\"black\" points=\"90,-0.5 90,-46.5 144,-46.5 144,-0.5 90,-0.5\"/>\n",
       "<text text-anchor=\"middle\" x=\"117\" y=\"-31.3\" font-family=\"Times,serif\" font-size=\"14.00\">card</text>\n",
       "<polyline fill=\"none\" stroke=\"black\" points=\"90,-23.5 144,-23.5\"/>\n",
       "<text text-anchor=\"middle\" x=\"117\" y=\"-8.3\" font-family=\"Times,serif\" font-size=\"14.00\">2</text>\n",
       "</g>\n",
       "<!-- Node2&#45;&gt;Noderoot -->\n",
       "<g id=\"edge2\" class=\"edge\">\n",
       "<title>Node2&#45;&gt;Noderoot</title>\n",
       "<path fill=\"none\" stroke=\"black\" d=\"M90.07,-32.34C82.07,-35.07 73.1,-38.12 64.53,-41.05\"/>\n",
       "<polygon fill=\"black\" stroke=\"black\" points=\"63.69,-37.98 55.35,-44.52 65.95,-44.6 63.69,-37.98\"/>\n",
       "</g>\n",
       "<!-- Node3 -->\n",
       "<g id=\"node4\" class=\"node\">\n",
       "<title>Node3</title>\n",
       "<polygon fill=\"white\" stroke=\"black\" points=\"180,-5.5 180,-41.5 234,-41.5 234,-5.5 180,-5.5\"/>\n",
       "<text text-anchor=\"middle\" x=\"207\" y=\"-19.8\" font-family=\"Times,serif\" font-size=\"14.00\">{1,2}</text>\n",
       "</g>\n",
       "<!-- Node3&#45;&gt;Node2 -->\n",
       "<g id=\"edge3\" class=\"edge\">\n",
       "<title>Node3&#45;&gt;Node2</title>\n",
       "<path fill=\"none\" stroke=\"black\" d=\"M180.07,-23.5C172.11,-23.5 163.18,-23.5 154.64,-23.5\"/>\n",
       "<polygon fill=\"black\" stroke=\"black\" points=\"154.74,-20 144.74,-23.5 154.74,-27 154.74,-20\"/>\n",
       "</g>\n",
       "</g>\n",
       "</svg>\n"
      ],
      "text/plain": [
       "<Dot visualization: formula_tree [1*2 + 3/4 = card({1, 2})]>"
      ]
     },
     "execution_count": 11,
     "metadata": {},
     "output_type": "execute_result"
    }
   ],
   "source": [
    ":dot formula_tree 1*2 + 3/4 = card({1, 2})"
   ]
  },
  {
   "cell_type": "markdown",
   "metadata": {},
   "source": [
    "Local variables can be used in dot visualisation parameters."
   ]
  },
  {
   "cell_type": "code",
   "execution_count": 12,
   "metadata": {},
   "outputs": [
    {
     "data": {
      "text/markdown": [
       "$2$"
      ],
      "text/plain": [
       "2"
      ]
     },
     "execution_count": 12,
     "metadata": {},
     "output_type": "execute_result"
    }
   ],
   "source": [
    ":let thing 1*2 + 3/4"
   ]
  },
  {
   "cell_type": "code",
   "execution_count": 13,
   "metadata": {},
   "outputs": [
    {
     "data": {
      "image/svg+xml": [
       "<?xml version=\"1.0\" encoding=\"UTF-8\" standalone=\"no\"?>\n",
       "<!DOCTYPE svg PUBLIC \"-//W3C//DTD SVG 1.1//EN\"\n",
       " \"http://www.w3.org/Graphics/SVG/1.1/DTD/svg11.dtd\">\n",
       "<!-- Generated by graphviz version 8.0.3 (20230416.2022)\n",
       " -->\n",
       "<!-- Title: g Pages: 1 -->\n",
       "<svg width=\"242pt\" height=\"110pt\"\n",
       " viewBox=\"0.00 0.00 242.00 110.00\" xmlns=\"http://www.w3.org/2000/svg\" xmlns:xlink=\"http://www.w3.org/1999/xlink\">\n",
       "<g id=\"graph0\" class=\"graph\" transform=\"scale(1 1) rotate(0) translate(4 106)\">\n",
       "<title>g</title>\n",
       "<polygon fill=\"white\" stroke=\"none\" points=\"-4,4 -4,-106 238,-106 238,4 -4,4\"/>\n",
       "<!-- Noderoot -->\n",
       "<g id=\"node1\" class=\"node\">\n",
       "<title>Noderoot</title>\n",
       "<path fill=\"#b3ee3a\" stroke=\"black\" d=\"M42,-72.5C42,-72.5 12,-72.5 12,-72.5 6,-72.5 0,-66.5 0,-60.5 0,-60.5 0,-46.5 0,-46.5 0,-40.5 6,-34.5 12,-34.5 12,-34.5 42,-34.5 42,-34.5 48,-34.5 54,-40.5 54,-46.5 54,-46.5 54,-60.5 54,-60.5 54,-66.5 48,-72.5 42,-72.5\"/>\n",
       "<text text-anchor=\"middle\" x=\"27\" y=\"-57.3\" font-family=\"Times,serif\" font-size=\"14.00\">=</text>\n",
       "<text text-anchor=\"middle\" x=\"27\" y=\"-42.3\" font-family=\"Times,serif\" font-size=\"14.00\">true</text>\n",
       "</g>\n",
       "<!-- Node1 -->\n",
       "<g id=\"node2\" class=\"node\">\n",
       "<title>Node1</title>\n",
       "<polygon fill=\"white\" stroke=\"black\" points=\"90,-65.5 90,-101.5 144,-101.5 144,-65.5 90,-65.5\"/>\n",
       "<text text-anchor=\"middle\" x=\"117\" y=\"-79.8\" font-family=\"Times,serif\" font-size=\"14.00\">2</text>\n",
       "</g>\n",
       "<!-- Node1&#45;&gt;Noderoot -->\n",
       "<g id=\"edge1\" class=\"edge\">\n",
       "<title>Node1&#45;&gt;Noderoot</title>\n",
       "<path fill=\"none\" stroke=\"black\" d=\"M90.07,-74.66C82.07,-71.93 73.1,-68.88 64.53,-65.95\"/>\n",
       "<polygon fill=\"black\" stroke=\"black\" points=\"65.95,-62.4 55.35,-62.48 63.69,-69.02 65.95,-62.4\"/>\n",
       "</g>\n",
       "<!-- Node2 -->\n",
       "<g id=\"node3\" class=\"node\">\n",
       "<title>Node2</title>\n",
       "<polygon fill=\"white\" stroke=\"black\" points=\"90,-0.5 90,-46.5 144,-46.5 144,-0.5 90,-0.5\"/>\n",
       "<text text-anchor=\"middle\" x=\"117\" y=\"-31.3\" font-family=\"Times,serif\" font-size=\"14.00\">card</text>\n",
       "<polyline fill=\"none\" stroke=\"black\" points=\"90,-23.5 144,-23.5\"/>\n",
       "<text text-anchor=\"middle\" x=\"117\" y=\"-8.3\" font-family=\"Times,serif\" font-size=\"14.00\">2</text>\n",
       "</g>\n",
       "<!-- Node2&#45;&gt;Noderoot -->\n",
       "<g id=\"edge2\" class=\"edge\">\n",
       "<title>Node2&#45;&gt;Noderoot</title>\n",
       "<path fill=\"none\" stroke=\"black\" d=\"M90.07,-32.34C82.07,-35.07 73.1,-38.12 64.53,-41.05\"/>\n",
       "<polygon fill=\"black\" stroke=\"black\" points=\"63.69,-37.98 55.35,-44.52 65.95,-44.6 63.69,-37.98\"/>\n",
       "</g>\n",
       "<!-- Node3 -->\n",
       "<g id=\"node4\" class=\"node\">\n",
       "<title>Node3</title>\n",
       "<polygon fill=\"white\" stroke=\"black\" points=\"180,-5.5 180,-41.5 234,-41.5 234,-5.5 180,-5.5\"/>\n",
       "<text text-anchor=\"middle\" x=\"207\" y=\"-19.8\" font-family=\"Times,serif\" font-size=\"14.00\">{1,2}</text>\n",
       "</g>\n",
       "<!-- Node3&#45;&gt;Node2 -->\n",
       "<g id=\"edge3\" class=\"edge\">\n",
       "<title>Node3&#45;&gt;Node2</title>\n",
       "<path fill=\"none\" stroke=\"black\" d=\"M180.07,-23.5C172.11,-23.5 163.18,-23.5 154.64,-23.5\"/>\n",
       "<polygon fill=\"black\" stroke=\"black\" points=\"154.74,-20 144.74,-23.5 154.74,-27 154.74,-20\"/>\n",
       "</g>\n",
       "</g>\n",
       "</svg>\n"
      ],
      "text/plain": [
       "<Dot visualization: formula_tree [LET thing BE thing=2 IN(\n",
       "thing = card({1, 2})\n",
       ")END]>"
      ]
     },
     "execution_count": 13,
     "metadata": {},
     "output_type": "execute_result"
    }
   ],
   "source": [
    ":dot formula_tree thing = card({1, 2})"
   ]
  }
 ],
 "metadata": {
  "kernelspec": {
   "display_name": "ProB 2",
   "language": "prob",
   "name": "prob2"
  },
  "language_info": {
   "codemirror_mode": "prob2_jupyter_repl",
   "file_extension": ".prob",
   "mimetype": "text/x-prob2-jupyter-repl",
   "name": "prob"
  }
 },
 "nbformat": 4,
 "nbformat_minor": 2
}
