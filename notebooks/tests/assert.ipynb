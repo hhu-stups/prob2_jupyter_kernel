{
 "cells": [
  {
   "cell_type": "code",
   "execution_count": 1,
   "metadata": {},
   "outputs": [
    {
     "data": {
      "text/markdown": [
       "```\n",
       ":assert PREDICATE\n",
       "```\n",
       "\n",
       "Ensure that the predicate is true, and show an error otherwise."
      ],
      "text/plain": [
       ":assert PREDICATE\n",
       "\n",
       "Ensure that the predicate is true, and show an error otherwise."
      ]
     },
     "execution_count": 1,
     "metadata": {},
     "output_type": "execute_result"
    }
   ],
   "source": [
    ":help :assert"
   ]
  },
  {
   "cell_type": "markdown",
   "metadata": {},
   "source": [
    "Asserting a true predicate doesn't show anything."
   ]
  },
  {
   "cell_type": "code",
   "execution_count": 2,
   "metadata": {},
   "outputs": [],
   "source": [
    ":assert 1 = 1"
   ]
  },
  {
   "cell_type": "code",
   "execution_count": 3,
   "metadata": {},
   "outputs": [],
   "source": [
    ":assert TRUE"
   ]
  },
  {
   "cell_type": "markdown",
   "metadata": {},
   "source": [
    "Asserting a false predicate shows an error."
   ]
  },
  {
   "cell_type": "code",
   "execution_count": 4,
   "metadata": {},
   "outputs": [
    {
     "ename": "CommandExecutionException",
     "evalue": ":assert: Assertion is not true: FALSE",
     "output_type": "error",
     "traceback": [
      "\u001b[1m\u001b[31m:assert: Assertion is not true: FALSE\u001b[0m"
     ]
    }
   ],
   "source": [
    ":assert 0 = 1"
   ]
  },
  {
   "cell_type": "code",
   "execution_count": 5,
   "metadata": {},
   "outputs": [
    {
     "ename": "CommandExecutionException",
     "evalue": ":assert: Assertion is not true: FALSE",
     "output_type": "error",
     "traceback": [
      "\u001b[1m\u001b[31m:assert: Assertion is not true: FALSE\u001b[0m"
     ]
    }
   ],
   "source": [
    ":assert FALSE"
   ]
  },
  {
   "cell_type": "markdown",
   "metadata": {},
   "source": [
    "Asserting something that isn't a predicate/boolean shows an error."
   ]
  },
  {
   "cell_type": "code",
   "execution_count": 6,
   "metadata": {},
   "outputs": [
    {
     "ename": "CommandExecutionException",
     "evalue": ":assert: Assertion is not true: 123",
     "output_type": "error",
     "traceback": [
      "\u001b[1m\u001b[31m:assert: Assertion is not true: 123\u001b[0m"
     ]
    }
   ],
   "source": [
    ":assert 123"
   ]
  },
  {
   "cell_type": "code",
   "execution_count": 7,
   "metadata": {},
   "outputs": [
    {
     "ename": "CommandExecutionException",
     "evalue": ":assert: Assertion is not true: ∅",
     "output_type": "error",
     "traceback": [
      "\u001b[1m\u001b[31m:assert: Assertion is not true: ∅\u001b[0m"
     ]
    }
   ],
   "source": [
    ":assert {}"
   ]
  },
  {
   "cell_type": "markdown",
   "metadata": {},
   "source": [
    "Asserting a formula with errors shows an error."
   ]
  },
  {
   "cell_type": "code",
   "execution_count": 8,
   "metadata": {},
   "outputs": [
    {
     "ename": "CommandExecutionException",
     "evalue": ":assert: Error while evaluating assertion: Computation not completed: Type mismatch: Expected INTEGER, but was POW(_A) in '{}'",
     "output_type": "error",
     "traceback": [
      "\u001b[1m\u001b[31m:assert: Error while evaluating assertion: Computation not completed: Type mismatch: Expected INTEGER, but was POW(_A) in '{}'\u001b[0m"
     ]
    }
   ],
   "source": [
    ":assert 123 + {}"
   ]
  }
 ],
 "metadata": {
  "kernelspec": {
   "display_name": "ProB 2",
   "language": "prob",
   "name": "prob2"
  },
  "language_info": {
   "codemirror_mode": "prob2_jupyter_repl",
   "file_extension": ".prob",
   "mimetype": "text/x-prob2-jupyter-repl",
   "name": "prob"
  }
 },
 "nbformat": 4,
 "nbformat_minor": 2
}
