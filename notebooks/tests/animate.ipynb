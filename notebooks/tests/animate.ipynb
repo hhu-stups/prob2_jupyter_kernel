{
 "cells": [
  {
   "cell_type": "code",
   "execution_count": 1,
   "metadata": {},
   "outputs": [
    {
     "data": {
      "text/markdown": [
       "```\n",
       ":browse\n",
       "```\n",
       "\n",
       "Show information about the current state.\n",
       "\n",
       "The output shows the names of all sets, constants, and variables defined by the current machine, as well as a list of enabled operations (and possible parameter values) in the current state."
      ],
      "text/plain": [
       ":browse\n",
       "Show information about the current state.\n",
       "\n",
       "The output shows the names of all sets, constants, and variables defined by the current machine, as well as a list of enabled operations (and possible parameter values) in the current state."
      ]
     },
     "execution_count": 1,
     "metadata": {},
     "output_type": "execute_result"
    }
   ],
   "source": [
    ":help :browse"
   ]
  },
  {
   "cell_type": "code",
   "execution_count": 2,
   "metadata": {},
   "outputs": [
    {
     "data": {
      "text/markdown": [
       "```\n",
       ":exec OPERATION [PREDICATE]\n",
       "```\n",
       "\n",
       "Execute an operation.\n",
       "\n",
       "The predicate is used to select the operation's parameter values. The parameters can be fully specified explicitly (e. g. `:exec op param1 = 123 & param2 = {1, 2}`), or they can be partially constrained (e. g. `:exec op param1 > 100 & card(param2) >= 2`) to let ProB find a valid combination of parameters. If there are multiple valid combinations of parameters that satisfy the predicate, it is undefined which one is selected by ProB.\n",
       "\n",
       "If no predicate is specified, the parameters are not constrained, and ProB will select an arbitrary valid combination of parameters."
      ],
      "text/plain": [
       ":exec OPERATION [PREDICATE]\n",
       "Execute an operation.\n",
       "\n",
       "The predicate is used to select the operation's parameter values. The parameters can be fully specified explicitly (e. g. `:exec op param1 = 123 & param2 = {1, 2}`), or they can be partially constrained (e. g. `:exec op param1 > 100 & card(param2) >= 2`) to let ProB find a valid combination of parameters. If there are multiple valid combinations of parameters that satisfy the predicate, it is undefined which one is selected by ProB.\n",
       "\n",
       "If no predicate is specified, the parameters are not constrained, and ProB will select an arbitrary valid combination of parameters."
      ]
     },
     "execution_count": 2,
     "metadata": {},
     "output_type": "execute_result"
    }
   ],
   "source": [
    ":help :exec"
   ]
  },
  {
   "cell_type": "code",
   "execution_count": 3,
   "metadata": {},
   "outputs": [
    {
     "data": {
      "text/markdown": [
       "```\n",
       ":constants [PREDICATE]\n",
       "```\n",
       "\n",
       "Set up the current machine's constants.\n",
       "\n",
       "This is a shorthand for `:exec SETUP_CONSTANTS [PREDICATE]`."
      ],
      "text/plain": [
       ":constants [PREDICATE]\n",
       "Set up the current machine's constants.\n",
       "\n",
       "This is a shorthand for `:exec SETUP_CONSTANTS [PREDICATE]`."
      ]
     },
     "execution_count": 3,
     "metadata": {},
     "output_type": "execute_result"
    }
   ],
   "source": [
    ":help :constants"
   ]
  },
  {
   "cell_type": "code",
   "execution_count": 4,
   "metadata": {},
   "outputs": [
    {
     "data": {
      "text/markdown": [
       "```\n",
       ":init [PREDICATE]\n",
       "```\n",
       "\n",
       "Initialise the current machine with the specified predicate\n",
       "\n",
       "This is a shorthand for `:exec INITIALISATION [PREDICATE]`."
      ],
      "text/plain": [
       ":init [PREDICATE]\n",
       "Initialise the current machine with the specified predicate\n",
       "\n",
       "This is a shorthand for `:exec INITIALISATION [PREDICATE]`."
      ]
     },
     "execution_count": 4,
     "metadata": {},
     "output_type": "execute_result"
    }
   ],
   "source": [
    ":help :init"
   ]
  },
  {
   "cell_type": "code",
   "execution_count": 5,
   "metadata": {},
   "outputs": [
    {
     "data": {
      "text/plain": [
       "Machine: repl\n",
       "Sets: (none)\n",
       "Constants: (none)\n",
       "Variables: (none)\n",
       "Operations: \n",
       "INITIALISATION()"
      ]
     },
     "execution_count": 5,
     "metadata": {},
     "output_type": "execute_result"
    }
   ],
   "source": [
    ":browse"
   ]
  },
  {
   "cell_type": "code",
   "execution_count": 6,
   "metadata": {},
   "outputs": [
    {
     "data": {
      "text/plain": [
       "Loaded machine: Counter"
      ]
     },
     "execution_count": 6,
     "metadata": {},
     "output_type": "execute_result"
    }
   ],
   "source": [
    "::load\n",
    "MACHINE Counter\n",
    "CONSTANTS min_value, max_value\n",
    "PROPERTIES min_value : MININT..0 & max_value : 0..MAXINT & min_value <= max_value\n",
    "VARIABLES value\n",
    "INVARIANT value : min_value..max_value\n",
    "INITIALISATION value :: min_value..max_value\n",
    "OPERATIONS\n",
    "    add(diff) = SELECT\n",
    "        value+diff : min_value..max_value\n",
    "    THEN\n",
    "        value := value+diff\n",
    "    END\n",
    "END"
   ]
  },
  {
   "cell_type": "code",
   "execution_count": 7,
   "metadata": {},
   "outputs": [
    {
     "data": {
      "text/plain": [
       "Machine: Counter\n",
       "Sets: (none)\n",
       "Constants: min_value, max_value\n",
       "Variables: value\n",
       "Operations: \n",
       "SETUP_CONSTANTS()\n",
       "SETUP_CONSTANTS()\n",
       "SETUP_CONSTANTS()\n",
       "SETUP_CONSTANTS()\n",
       "More operations may be available (MAX_OPERATIONS/MAX_INITIALISATIONS reached)"
      ]
     },
     "execution_count": 7,
     "metadata": {},
     "output_type": "execute_result"
    }
   ],
   "source": [
    ":browse"
   ]
  },
  {
   "cell_type": "code",
   "execution_count": 8,
   "metadata": {},
   "outputs": [
    {
     "ename": "WithSourceCodeException",
     "evalue": "de.prob.exception.ProBError: NOT-INITIALISED",
     "output_type": "error",
     "traceback": [
      "\u001b[1m\u001b[30mError from ProB: \u001b[0m\u001b[1m\u001b[31mNOT-INITIALISED\u001b[0m"
     ]
    }
   ],
   "source": [
    "min_value..max_value"
   ]
  },
  {
   "cell_type": "code",
   "execution_count": 9,
   "metadata": {},
   "outputs": [
    {
     "ename": "WithSourceCodeException",
     "evalue": "de.prob.exception.ProBError: NOT-INITIALISED",
     "output_type": "error",
     "traceback": [
      "\u001b[1m\u001b[30mError from ProB: \u001b[0m\u001b[1m\u001b[31mNOT-INITIALISED\u001b[0m"
     ]
    }
   ],
   "source": [
    "value"
   ]
  },
  {
   "cell_type": "code",
   "execution_count": 10,
   "metadata": {},
   "outputs": [
    {
     "ename": "ExecuteOperationException",
     "evalue": "Executing operation $setup_constants with additional predicate produced errors: Could not execute operation SETUP_CONSTANTS in state root with additional predicate",
     "output_type": "error",
     "traceback": [
      "\u001b[1m\u001b[31mde.prob.animator.command.ExecuteOperationException: Executing operation $setup_constants with additional predicate produced errors: Could not execute operation SETUP_CONSTANTS in state root with additional predicate\u001b[0m"
     ]
    }
   ],
   "source": [
    ":constants min_value=5 & max_value=-5"
   ]
  },
  {
   "cell_type": "code",
   "execution_count": 11,
   "metadata": {},
   "outputs": [
    {
     "data": {
      "text/plain": [
       "Executed operation: SETUP_CONSTANTS()"
      ]
     },
     "execution_count": 11,
     "metadata": {},
     "output_type": "execute_result"
    }
   ],
   "source": [
    ":constants min_value=-1 & max_value=2"
   ]
  },
  {
   "cell_type": "code",
   "execution_count": 12,
   "metadata": {},
   "outputs": [
    {
     "data": {
      "text/plain": [
       "Machine: Counter\n",
       "Sets: (none)\n",
       "Constants: min_value, max_value\n",
       "Variables: value\n",
       "Operations: \n",
       "INITIALISATION()\n",
       "INITIALISATION()\n",
       "INITIALISATION()\n",
       "INITIALISATION()\n",
       "More operations may be available (MAX_OPERATIONS/MAX_INITIALISATIONS reached)"
      ]
     },
     "execution_count": 12,
     "metadata": {},
     "output_type": "execute_result"
    }
   ],
   "source": [
    ":browse"
   ]
  },
  {
   "cell_type": "code",
   "execution_count": 13,
   "metadata": {},
   "outputs": [
    {
     "data": {
      "text/markdown": [
       "$\\{-1,0,1,2\\}$"
      ],
      "text/plain": [
       "{−1,0,1,2}"
      ]
     },
     "execution_count": 13,
     "metadata": {},
     "output_type": "execute_result"
    }
   ],
   "source": [
    "min_value..max_value"
   ]
  },
  {
   "cell_type": "code",
   "execution_count": 14,
   "metadata": {},
   "outputs": [
    {
     "ename": "WithSourceCodeException",
     "evalue": "de.prob.exception.ProBError: NOT-INITIALISED",
     "output_type": "error",
     "traceback": [
      "\u001b[1m\u001b[30mError from ProB: \u001b[0m\u001b[1m\u001b[31mNOT-INITIALISED\u001b[0m"
     ]
    }
   ],
   "source": [
    "value"
   ]
  },
  {
   "cell_type": "code",
   "execution_count": 15,
   "metadata": {},
   "outputs": [
    {
     "ename": "ExecuteOperationException",
     "evalue": "Executing operation $initialise_machine with additional predicate produced errors: Could not execute operation INITIALISATION in state 2 with additional predicate",
     "output_type": "error",
     "traceback": [
      "\u001b[1m\u001b[31mde.prob.animator.command.ExecuteOperationException: Executing operation $initialise_machine with additional predicate produced errors: Could not execute operation INITIALISATION in state 2 with additional predicate\u001b[0m"
     ]
    }
   ],
   "source": [
    ":init value=-100"
   ]
  },
  {
   "cell_type": "code",
   "execution_count": 16,
   "metadata": {},
   "outputs": [
    {
     "data": {
      "text/plain": [
       "Executed operation: INITIALISATION()"
      ]
     },
     "execution_count": 16,
     "metadata": {},
     "output_type": "execute_result"
    }
   ],
   "source": [
    ":init value=2"
   ]
  },
  {
   "cell_type": "code",
   "execution_count": 17,
   "metadata": {},
   "outputs": [
    {
     "data": {
      "text/plain": [
       "Machine: Counter\n",
       "Sets: (none)\n",
       "Constants: min_value, max_value\n",
       "Variables: value\n",
       "Operations: \n",
       "add(-3)\n",
       "add(-2)\n",
       "add(-1)\n",
       "add(0)"
      ]
     },
     "execution_count": 17,
     "metadata": {},
     "output_type": "execute_result"
    }
   ],
   "source": [
    ":browse"
   ]
  },
  {
   "cell_type": "code",
   "execution_count": 18,
   "metadata": {},
   "outputs": [
    {
     "data": {
      "text/markdown": [
       "$2$"
      ],
      "text/plain": [
       "2"
      ]
     },
     "execution_count": 18,
     "metadata": {},
     "output_type": "execute_result"
    }
   ],
   "source": [
    "value"
   ]
  },
  {
   "cell_type": "code",
   "execution_count": 19,
   "metadata": {},
   "outputs": [
    {
     "data": {
      "text/plain": [
       "Executed operation: add(-1)"
      ]
     },
     "execution_count": 19,
     "metadata": {},
     "output_type": "execute_result"
    }
   ],
   "source": [
    ":exec add diff=-1"
   ]
  },
  {
   "cell_type": "code",
   "execution_count": 20,
   "metadata": {},
   "outputs": [
    {
     "data": {
      "text/plain": [
       "Machine: Counter\n",
       "Sets: (none)\n",
       "Constants: min_value, max_value\n",
       "Variables: value\n",
       "Operations: \n",
       "add(-2)\n",
       "add(-1)\n",
       "add(0)\n",
       "add(1)"
      ]
     },
     "execution_count": 20,
     "metadata": {},
     "output_type": "execute_result"
    }
   ],
   "source": [
    ":browse"
   ]
  },
  {
   "cell_type": "code",
   "execution_count": 21,
   "metadata": {},
   "outputs": [
    {
     "data": {
      "text/markdown": [
       "$1$"
      ],
      "text/plain": [
       "1"
      ]
     },
     "execution_count": 21,
     "metadata": {},
     "output_type": "execute_result"
    }
   ],
   "source": [
    "value"
   ]
  },
  {
   "cell_type": "code",
   "execution_count": 22,
   "metadata": {},
   "outputs": [
    {
     "data": {
      "text/markdown": [
       "**Explored States:** 4/9  \n",
       "**Transitions:** 16"
      ],
      "text/plain": [
       "Explored States: 4/9\n",
       "Transitions: 16"
      ]
     },
     "execution_count": 22,
     "metadata": {},
     "output_type": "execute_result"
    }
   ],
   "source": [
    ":stats"
   ]
  },
  {
   "cell_type": "markdown",
   "metadata": {},
   "source": [
    "Useful error messages are shown when an operation cannot be executed."
   ]
  },
  {
   "cell_type": "code",
   "execution_count": 23,
   "metadata": {},
   "outputs": [
    {
     "ename": "ExecuteOperationException",
     "evalue": "Executing operation $setup_constants with additional predicate produced errors: Machine is already initialised, cannot execute SETUP_CONSTANTS",
     "output_type": "error",
     "traceback": [
      "\u001b[1m\u001b[31mde.prob.animator.command.ExecuteOperationException: Executing operation $setup_constants with additional predicate produced errors: Machine is already initialised, cannot execute SETUP_CONSTANTS\u001b[0m"
     ]
    }
   ],
   "source": [
    ":constants"
   ]
  },
  {
   "cell_type": "code",
   "execution_count": 24,
   "metadata": {},
   "outputs": [
    {
     "ename": "ExecuteOperationException",
     "evalue": "Executing operation $initialise_machine with additional predicate produced errors: Machine is already initialised, cannot execute INITIALISATION",
     "output_type": "error",
     "traceback": [
      "\u001b[1m\u001b[31mde.prob.animator.command.ExecuteOperationException: Executing operation $initialise_machine with additional predicate produced errors: Machine is already initialised, cannot execute INITIALISATION\u001b[0m"
     ]
    }
   ],
   "source": [
    ":init"
   ]
  },
  {
   "cell_type": "code",
   "execution_count": 25,
   "metadata": {},
   "outputs": [
    {
     "ename": "ExecuteOperationException",
     "evalue": "Executing operation nope with additional predicate produced errors: Unknown Operation nope",
     "output_type": "error",
     "traceback": [
      "\u001b[1m\u001b[31mde.prob.animator.command.ExecuteOperationException: Executing operation nope with additional predicate produced errors: Unknown Operation nope\u001b[0m"
     ]
    }
   ],
   "source": [
    ":exec nope"
   ]
  },
  {
   "cell_type": "code",
   "execution_count": 26,
   "metadata": {},
   "outputs": [
    {
     "ename": "ExecuteOperationException",
     "evalue": "Executing operation add with additional predicate produced errors: Could not execute operation add in state 6 with additional predicate (but a transition for operation exists)",
     "output_type": "error",
     "traceback": [
      "\u001b[1m\u001b[31mde.prob.animator.command.ExecuteOperationException: Executing operation add with additional predicate produced errors: Could not execute operation add in state 6 with additional predicate (but a transition for operation exists)\u001b[0m"
     ]
    }
   ],
   "source": [
    ":exec add 1=0"
   ]
  },
  {
   "cell_type": "code",
   "execution_count": 27,
   "metadata": {},
   "outputs": [
    {
     "data": {
      "text/plain": [
       "Loaded machine: NoConstants"
      ]
     },
     "execution_count": 27,
     "metadata": {},
     "output_type": "execute_result"
    }
   ],
   "source": [
    "::load\n",
    "MACHINE NoConstants\n",
    "VARIABLES z\n",
    "INVARIANT z : MININT..MAXINT\n",
    "INITIALISATION z :: {0, 1}\n",
    "OPERATIONS\n",
    "    nothing = skip\n",
    "END"
   ]
  },
  {
   "cell_type": "code",
   "execution_count": 28,
   "metadata": {},
   "outputs": [
    {
     "ename": "ExecuteOperationException",
     "evalue": "Executing operation $setup_constants with additional predicate produced errors: Could not execute operation SETUP_CONSTANTS in state root",
     "output_type": "error",
     "traceback": [
      "\u001b[1m\u001b[31mde.prob.animator.command.ExecuteOperationException: Executing operation $setup_constants with additional predicate produced errors: Could not execute operation SETUP_CONSTANTS in state root\u001b[0m"
     ]
    }
   ],
   "source": [
    ":constants"
   ]
  },
  {
   "cell_type": "code",
   "execution_count": 29,
   "metadata": {},
   "outputs": [
    {
     "ename": "ExecuteOperationException",
     "evalue": "Executing operation $initialise_machine with additional predicate produced errors: Could not execute operation INITIALISATION in state root with additional predicate",
     "output_type": "error",
     "traceback": [
      "\u001b[1m\u001b[31mde.prob.animator.command.ExecuteOperationException: Executing operation $initialise_machine with additional predicate produced errors: Could not execute operation INITIALISATION in state root with additional predicate\u001b[0m"
     ]
    }
   ],
   "source": [
    ":init z = -1"
   ]
  },
  {
   "cell_type": "markdown",
   "metadata": {},
   "source": [
    "Executing an operation in an uninitialised machine automatically initialises the machine."
   ]
  },
  {
   "cell_type": "code",
   "execution_count": 30,
   "metadata": {},
   "outputs": [
    {
     "data": {
      "text/plain": [
       "Machine was not initialised yet. Automatically initialised machine using arbitrary transition: INITIALISATION()\n",
       "Executed operation: nothing()"
      ]
     },
     "execution_count": 30,
     "metadata": {},
     "output_type": "execute_result"
    }
   ],
   "source": [
    ":exec nothing"
   ]
  },
  {
   "cell_type": "markdown",
   "metadata": {},
   "source": [
    "The same also works if the machine has constants."
   ]
  },
  {
   "cell_type": "code",
   "execution_count": 31,
   "metadata": {},
   "outputs": [
    {
     "data": {
      "text/plain": [
       "Loaded machine: ItHasConstants"
      ]
     },
     "execution_count": 31,
     "metadata": {},
     "output_type": "execute_result"
    }
   ],
   "source": [
    "::load\n",
    "MACHINE ItHasConstants\n",
    "CONSTANTS c\n",
    "PROPERTIES c : MININT..MAXINT\n",
    "VARIABLES z\n",
    "INVARIANT z : MININT..MAXINT\n",
    "INITIALISATION z :: {0, 1}\n",
    "OPERATIONS\n",
    "    nothing = skip\n",
    "END"
   ]
  },
  {
   "cell_type": "code",
   "execution_count": 32,
   "metadata": {},
   "outputs": [
    {
     "data": {
      "text/plain": [
       "Executed operation: SETUP_CONSTANTS()"
      ]
     },
     "execution_count": 32,
     "metadata": {},
     "output_type": "execute_result"
    }
   ],
   "source": [
    ":constants c = 2"
   ]
  },
  {
   "cell_type": "code",
   "execution_count": 33,
   "metadata": {},
   "outputs": [
    {
     "data": {
      "text/plain": [
       "Machine was not initialised yet. Automatically initialised machine using arbitrary transition: INITIALISATION()\n",
       "Executed operation: nothing()"
      ]
     },
     "execution_count": 33,
     "metadata": {},
     "output_type": "execute_result"
    }
   ],
   "source": [
    ":exec nothing"
   ]
  },
  {
   "cell_type": "code",
   "execution_count": 34,
   "metadata": {},
   "outputs": [
    {
     "data": {
      "text/plain": [
       "Changed to state with index -1"
      ]
     },
     "execution_count": 34,
     "metadata": {},
     "output_type": "execute_result"
    }
   ],
   "source": [
    ":goto -1"
   ]
  },
  {
   "cell_type": "code",
   "execution_count": 35,
   "metadata": {},
   "outputs": [
    {
     "data": {
      "text/plain": [
       "Machine constants were not set up yet. Automatically set up constants using arbitrary transition: SETUP_CONSTANTS()\n",
       "Machine was not initialised yet. Automatically initialised machine using arbitrary transition: INITIALISATION()\n",
       "Executed operation: nothing()"
      ]
     },
     "execution_count": 35,
     "metadata": {},
     "output_type": "execute_result"
    }
   ],
   "source": [
    ":exec nothing"
   ]
  },
  {
   "cell_type": "markdown",
   "metadata": {},
   "source": [
    "`SETUP_CONSTANTS` and `INITIALISATION` can be used as operation names."
   ]
  },
  {
   "cell_type": "code",
   "execution_count": 36,
   "metadata": {},
   "outputs": [
    {
     "data": {
      "text/plain": [
       "Loaded machine: Foo"
      ]
     },
     "execution_count": 36,
     "metadata": {},
     "output_type": "execute_result"
    }
   ],
   "source": [
    "::load\n",
    "MACHINE Foo\n",
    "CONSTANTS x\n",
    "PROPERTIES x : MININT..MAXINT\n",
    "VARIABLES y\n",
    "INVARIANT y : MININT..MAXINT\n",
    "INITIALISATION y :: MININT..MAXINT\n",
    "END"
   ]
  },
  {
   "cell_type": "code",
   "execution_count": 37,
   "metadata": {},
   "outputs": [
    {
     "data": {
      "text/plain": [
       "Executed operation: SETUP_CONSTANTS()"
      ]
     },
     "execution_count": 37,
     "metadata": {},
     "output_type": "execute_result"
    }
   ],
   "source": [
    ":exec SETUP_CONSTANTS x = 1"
   ]
  },
  {
   "cell_type": "code",
   "execution_count": 38,
   "metadata": {},
   "outputs": [
    {
     "data": {
      "text/plain": [
       "Executed operation: INITIALISATION()"
      ]
     },
     "execution_count": 38,
     "metadata": {},
     "output_type": "execute_result"
    }
   ],
   "source": [
    ":exec INITIALISATION y = 2"
   ]
  },
  {
   "cell_type": "code",
   "execution_count": 39,
   "metadata": {},
   "outputs": [
    {
     "data": {
      "text/markdown": [
       "$1$"
      ],
      "text/plain": [
       "1"
      ]
     },
     "execution_count": 39,
     "metadata": {},
     "output_type": "execute_result"
    }
   ],
   "source": [
    "x"
   ]
  },
  {
   "cell_type": "code",
   "execution_count": 40,
   "metadata": {},
   "outputs": [
    {
     "data": {
      "text/markdown": [
       "$2$"
      ],
      "text/plain": [
       "2"
      ]
     },
     "execution_count": 40,
     "metadata": {},
     "output_type": "execute_result"
    }
   ],
   "source": [
    "y"
   ]
  },
  {
   "cell_type": "markdown",
   "metadata": {},
   "source": [
    "Local variables can be used in operation predicates."
   ]
  },
  {
   "cell_type": "code",
   "execution_count": 41,
   "metadata": {},
   "outputs": [
    {
     "data": {
      "text/plain": [
       "Loaded machine: Counter"
      ]
     },
     "execution_count": 41,
     "metadata": {},
     "output_type": "execute_result"
    }
   ],
   "source": [
    "::load\n",
    "MACHINE Counter\n",
    "CONSTANTS min_value, max_value\n",
    "PROPERTIES min_value : MININT..0 & max_value : 0..MAXINT & min_value <= max_value\n",
    "VARIABLES value\n",
    "INVARIANT value : min_value..max_value\n",
    "INITIALISATION value :: min_value..max_value\n",
    "OPERATIONS\n",
    "    add(diff) = SELECT\n",
    "        value+diff : min_value..max_value\n",
    "    THEN\n",
    "        value := value+diff\n",
    "    END\n",
    "END"
   ]
  },
  {
   "cell_type": "code",
   "execution_count": 42,
   "metadata": {},
   "outputs": [
    {
     "data": {
      "text/markdown": [
       "$1$"
      ],
      "text/plain": [
       "1"
      ]
     },
     "execution_count": 42,
     "metadata": {},
     "output_type": "execute_result"
    }
   ],
   "source": [
    ":let one 1"
   ]
  },
  {
   "cell_type": "code",
   "execution_count": 43,
   "metadata": {},
   "outputs": [
    {
     "data": {
      "text/markdown": [
       "$2$"
      ],
      "text/plain": [
       "2"
      ]
     },
     "execution_count": 43,
     "metadata": {},
     "output_type": "execute_result"
    }
   ],
   "source": [
    ":let two 2"
   ]
  },
  {
   "cell_type": "code",
   "execution_count": 44,
   "metadata": {},
   "outputs": [
    {
     "data": {
      "text/plain": [
       "Executed operation: SETUP_CONSTANTS()"
      ]
     },
     "execution_count": 44,
     "metadata": {},
     "output_type": "execute_result"
    }
   ],
   "source": [
    ":constants min_value=-one & max_value=two"
   ]
  },
  {
   "cell_type": "code",
   "execution_count": 45,
   "metadata": {},
   "outputs": [
    {
     "data": {
      "text/markdown": [
       "$\\{-1,0,1,2\\}$"
      ],
      "text/plain": [
       "{−1,0,1,2}"
      ]
     },
     "execution_count": 45,
     "metadata": {},
     "output_type": "execute_result"
    }
   ],
   "source": [
    "min_value..max_value"
   ]
  },
  {
   "cell_type": "code",
   "execution_count": 46,
   "metadata": {},
   "outputs": [
    {
     "data": {
      "text/plain": [
       "Executed operation: INITIALISATION()"
      ]
     },
     "execution_count": 46,
     "metadata": {},
     "output_type": "execute_result"
    }
   ],
   "source": [
    ":init value=one"
   ]
  },
  {
   "cell_type": "code",
   "execution_count": 47,
   "metadata": {},
   "outputs": [
    {
     "data": {
      "text/markdown": [
       "$1$"
      ],
      "text/plain": [
       "1"
      ]
     },
     "execution_count": 47,
     "metadata": {},
     "output_type": "execute_result"
    }
   ],
   "source": [
    "value"
   ]
  },
  {
   "cell_type": "code",
   "execution_count": 48,
   "metadata": {},
   "outputs": [
    {
     "data": {
      "text/plain": [
       "Executed operation: add(-1)"
      ]
     },
     "execution_count": 48,
     "metadata": {},
     "output_type": "execute_result"
    }
   ],
   "source": [
    ":exec add diff=-one"
   ]
  },
  {
   "cell_type": "code",
   "execution_count": 49,
   "metadata": {},
   "outputs": [
    {
     "data": {
      "text/markdown": [
       "$0$"
      ],
      "text/plain": [
       "0"
      ]
     },
     "execution_count": 49,
     "metadata": {},
     "output_type": "execute_result"
    }
   ],
   "source": [
    "value"
   ]
  }
 ],
 "metadata": {
  "kernelspec": {
   "display_name": "ProB 2",
   "language": "prob",
   "name": "prob2"
  },
  "language_info": {
   "codemirror_mode": "prob2_jupyter_repl",
   "file_extension": ".prob",
   "mimetype": "text/x-prob2-jupyter-repl",
   "name": "prob"
  }
 },
 "nbformat": 4,
 "nbformat_minor": 4
}
