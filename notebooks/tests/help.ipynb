{
 "cells": [
  {
   "cell_type": "markdown",
   "metadata": {},
   "source": [
    "`:help` can be used to list all commands, or get help for a specific command."
   ]
  },
  {
   "cell_type": "code",
   "execution_count": 1,
   "metadata": {},
   "outputs": [
    {
     "data": {
      "text/markdown": [
       "Enter a B expression or predicate to evaluate it. To load a B machine, enter its source code directly, or use `:load` to load an external machine file.\n",
       "\n",
       "You can also use any of the following commands. For more help on a particular command, run `:help commandname`.\n",
       "\n",
       "## Evaluation\n",
       "\n",
       "* `:eval` - Evaluate a formula and display the result.\n",
       "* `:solve` - Solve a predicate with the specified solver.\n",
       "* `:table` - Display an expression as a table.\n",
       "* `:type` - Display the static type of a formula.\n",
       "* `:prettyprint` - Pretty-print a predicate.\n",
       "* `:let` - Evaluate an expression and store it in a local variable.\n",
       "* `:unlet` - Remove a local variable.\n",
       "* `:assert` - Ensure that the predicate is true, and show an error otherwise.\n",
       "\n",
       "## Animation\n",
       "\n",
       "* `::load` - Load a B machine from the given source code.\n",
       "* `:load` - Load a machine from a file.\n",
       "* `:constants` - Set up the current machine's constants.\n",
       "* `:init` - Initialise the current machine with the specified predicate\n",
       "* `:exec` - Execute an operation.\n",
       "* `:browse` - Show information about the current state.\n",
       "* `:trace` - Display all states and executed operations in the current trace.\n",
       "* `:goto` - Go to the state with the specified index in the current trace.\n",
       "* `:find` - Try to find a state for which the given predicate is true (in addition to the machine's invariant).\n",
       "\n",
       "## Visualisation\n",
       "\n",
       "* `:show` - Show the machine's animation function visualisation for the current state.\n",
       "* `:dot` - Execute and show a dot visualisation.\n",
       "\n",
       "## Verification\n",
       "\n",
       "* `:check` - Check the machine's properties, invariant, or assertions in the current state.\n",
       "* `:modelcheck` - Run the ProB model checker on the current model.\n",
       "\n",
       "## Other\n",
       "\n",
       "* `::render` - Render some content with the specified MIME type.\n",
       "* `:bsymb` - Load all bsymb.sty command definitions, so that they can be used in $\\LaTeX$ formulas in Markdown cells.\n",
       "* `:groovy` - Evaluate the given Groovy expression.\n",
       "* `:help` - Display help for a specific command, or general help about the REPL.\n",
       "* `:pref` - View or change the value of one or more preferences.\n",
       "* `:stats` - Show statistics about the state space.\n",
       "* `:time` - Execute the given command and measure how long it takes to execute.\n",
       "* `:version` - Display version info about the ProB CLI and ProB 2.\n"
      ],
      "text/plain": [
       "Enter a B expression or predicate to evaluate it. To load a B machine, enter its source code directly, or use :load to load an external machine file.\n",
       "You can also use any of the following commands. For more help on a particular command, run :help commandname.\n",
       "\n",
       "Evaluation:\n",
       ":eval - Evaluate a formula and display the result.\n",
       ":solve - Solve a predicate with the specified solver.\n",
       ":table - Display an expression as a table.\n",
       ":type - Display the static type of a formula.\n",
       ":prettyprint - Pretty-print a predicate.\n",
       ":let - Evaluate an expression and store it in a local variable.\n",
       ":unlet - Remove a local variable.\n",
       ":assert - Ensure that the predicate is true, and show an error otherwise.\n",
       "\n",
       "Animation:\n",
       "::load - Load a B machine from the given source code.\n",
       ":load - Load a machine from a file.\n",
       ":constants - Set up the current machine's constants.\n",
       ":init - Initialise the current machine with the specified predicate\n",
       ":exec - Execute an operation.\n",
       ":browse - Show information about the current state.\n",
       ":trace - Display all states and executed operations in the current trace.\n",
       ":goto - Go to the state with the specified index in the current trace.\n",
       ":find - Try to find a state for which the given predicate is true (in addition to the machine's invariant).\n",
       "\n",
       "Visualisation:\n",
       ":show - Show the machine's animation function visualisation for the current state.\n",
       ":dot - Execute and show a dot visualisation.\n",
       "\n",
       "Verification:\n",
       ":check - Check the machine's properties, invariant, or assertions in the current state.\n",
       ":modelcheck - Run the ProB model checker on the current model.\n",
       "\n",
       "Other:\n",
       "::render - Render some content with the specified MIME type.\n",
       ":bsymb - Load all bsymb.sty command definitions, so that they can be used in $\\LaTeX$ formulas in Markdown cells.\n",
       ":groovy - Evaluate the given Groovy expression.\n",
       ":help - Display help for a specific command, or general help about the REPL.\n",
       ":pref - View or change the value of one or more preferences.\n",
       ":stats - Show statistics about the state space.\n",
       ":time - Execute the given command and measure how long it takes to execute.\n",
       ":version - Display version info about the ProB CLI and ProB 2.\n"
      ]
     },
     "execution_count": 1,
     "metadata": {},
     "output_type": "execute_result"
    }
   ],
   "source": [
    ":help"
   ]
  },
  {
   "cell_type": "code",
   "execution_count": 2,
   "metadata": {},
   "outputs": [
    {
     "data": {
      "text/markdown": [
       "```\n",
       ":help [COMMAND]\n",
       "```\n",
       "\n",
       "Display help for a specific command, or general help about the REPL."
      ],
      "text/plain": [
       ":help [COMMAND]\n",
       "Display help for a specific command, or general help about the REPL."
      ]
     },
     "execution_count": 2,
     "metadata": {},
     "output_type": "execute_result"
    }
   ],
   "source": [
    ":help :help"
   ]
  },
  {
   "cell_type": "code",
   "execution_count": 3,
   "metadata": {},
   "outputs": [
    {
     "data": {
      "text/markdown": [
       "```\n",
       ":load FILENAME [PREF=VALUE ...]\n",
       "```\n",
       "\n",
       "Load a machine from a file.\n",
       "\n",
       "The file path is relative to the kernel's current directory (i. e. the directory in which the notebook is located).\n",
       "\n",
       "After the file path, you can set the values of one or more ProB preferences that should be applied to the newly loaded machine. Preferences can also be changed using the `:pref` command after a machine has been loaded, however certain preferences do not take full effect when set using `:pref` and must be set when the machine is loaded."
      ],
      "text/plain": [
       ":load FILENAME [PREF=VALUE ...]\n",
       "Load a machine from a file.\n",
       "\n",
       "The file path is relative to the kernel's current directory (i. e. the directory in which the notebook is located).\n",
       "\n",
       "After the file path, you can set the values of one or more ProB preferences that should be applied to the newly loaded machine. Preferences can also be changed using the `:pref` command after a machine has been loaded, however certain preferences do not take full effect when set using `:pref` and must be set when the machine is loaded."
      ]
     },
     "execution_count": 3,
     "metadata": {},
     "output_type": "execute_result"
    }
   ],
   "source": [
    ":help :load"
   ]
  },
  {
   "cell_type": "code",
   "execution_count": 4,
   "metadata": {},
   "outputs": [
    {
     "data": {
      "text/markdown": [
       "```\n",
       "MACHINE\n",
       "...\n",
       "END\n",
       "\n",
       "// or\n",
       "\n",
       "::load [PREF=VALUE ...]\n",
       "MACHINE\n",
       "...\n",
       "END\n",
       "```\n",
       "\n",
       "Load a B machine from the given source code.\n",
       "\n",
       "Normally you do not need to explicitly call `::load` to load a machine from a cell. If you input the source code for a B machine without any command before it, it is loaded automatically.\n",
       "\n",
       "There must be a newline between the `::load` command name and the machine code.\n",
       "\n",
       "If you use an explicit `::load` command, there must be a newline between `::load` and the machine source code. On the same line as `::load`, you can set the values of one or more ProB preferences that should be applied to the newly loaded machine. Preferences can also be changed using the `:pref` command after a machine has been loaded, however certain preferences do not take full effect when set using `:pref` and must be set when the machine is loaded."
      ],
      "text/plain": [
       "MACHINE\n",
       "...\n",
       "END\n",
       "\n",
       "// or\n",
       "\n",
       "::load [PREF=VALUE ...]\n",
       "MACHINE\n",
       "...\n",
       "END\n",
       "Load a B machine from the given source code.\n",
       "\n",
       "Normally you do not need to explicitly call `::load` to load a machine from a cell. If you input the source code for a B machine without any command before it, it is loaded automatically.\n",
       "\n",
       "There must be a newline between the `::load` command name and the machine code.\n",
       "\n",
       "If you use an explicit `::load` command, there must be a newline between `::load` and the machine source code. On the same line as `::load`, you can set the values of one or more ProB preferences that should be applied to the newly loaded machine. Preferences can also be changed using the `:pref` command after a machine has been loaded, however certain preferences do not take full effect when set using `:pref` and must be set when the machine is loaded."
      ]
     },
     "execution_count": 4,
     "metadata": {},
     "output_type": "execute_result"
    }
   ],
   "source": [
    ":help ::load"
   ]
  },
  {
   "cell_type": "markdown",
   "metadata": {},
   "source": [
    "When looking up help for a command, the `:` or `::` can be left off of the command name."
   ]
  },
  {
   "cell_type": "code",
   "execution_count": 5,
   "metadata": {},
   "outputs": [
    {
     "data": {
      "text/markdown": [
       "```\n",
       ":help [COMMAND]\n",
       "```\n",
       "\n",
       "Display help for a specific command, or general help about the REPL."
      ],
      "text/plain": [
       ":help [COMMAND]\n",
       "Display help for a specific command, or general help about the REPL."
      ]
     },
     "execution_count": 5,
     "metadata": {},
     "output_type": "execute_result"
    }
   ],
   "source": [
    ":help help"
   ]
  },
  {
   "cell_type": "code",
   "execution_count": 6,
   "metadata": {},
   "outputs": [
    {
     "data": {
      "text/markdown": [
       "```\n",
       ":load FILENAME [PREF=VALUE ...]\n",
       "```\n",
       "\n",
       "Load a machine from a file.\n",
       "\n",
       "The file path is relative to the kernel's current directory (i. e. the directory in which the notebook is located).\n",
       "\n",
       "After the file path, you can set the values of one or more ProB preferences that should be applied to the newly loaded machine. Preferences can also be changed using the `:pref` command after a machine has been loaded, however certain preferences do not take full effect when set using `:pref` and must be set when the machine is loaded."
      ],
      "text/plain": [
       ":load FILENAME [PREF=VALUE ...]\n",
       "Load a machine from a file.\n",
       "\n",
       "The file path is relative to the kernel's current directory (i. e. the directory in which the notebook is located).\n",
       "\n",
       "After the file path, you can set the values of one or more ProB preferences that should be applied to the newly loaded machine. Preferences can also be changed using the `:pref` command after a machine has been loaded, however certain preferences do not take full effect when set using `:pref` and must be set when the machine is loaded."
      ]
     },
     "execution_count": 6,
     "metadata": {},
     "output_type": "execute_result"
    }
   ],
   "source": [
    ":help load"
   ]
  },
  {
   "cell_type": "markdown",
   "metadata": {},
   "source": [
    "But it's not possible to use the wrong number of colons."
   ]
  },
  {
   "cell_type": "code",
   "execution_count": 7,
   "metadata": {},
   "outputs": [
    {
     "ename": "CommandExecutionException",
     "evalue": ":help: Cannot display help for unknown command \"::help\"",
     "output_type": "error",
     "traceback": [
      "\u001b[1m\u001b[31m:help: Cannot display help for unknown command \"::help\"\u001b[0m"
     ]
    }
   ],
   "source": [
    ":help ::help"
   ]
  },
  {
   "cell_type": "markdown",
   "metadata": {},
   "source": [
    "Unknown commands cannot be looked up."
   ]
  },
  {
   "cell_type": "code",
   "execution_count": 8,
   "metadata": {},
   "outputs": [
    {
     "ename": "CommandExecutionException",
     "evalue": ":help: Cannot display help for unknown command \"wrong\"",
     "output_type": "error",
     "traceback": [
      "\u001b[1m\u001b[31m:help: Cannot display help for unknown command \"wrong\"\u001b[0m"
     ]
    }
   ],
   "source": [
    ":help wrong"
   ]
  },
  {
   "cell_type": "code",
   "execution_count": 9,
   "metadata": {},
   "outputs": [
    {
     "ename": "CommandExecutionException",
     "evalue": ":help: Cannot display help for unknown command \":wrong\"",
     "output_type": "error",
     "traceback": [
      "\u001b[1m\u001b[31m:help: Cannot display help for unknown command \":wrong\"\u001b[0m"
     ]
    }
   ],
   "source": [
    ":help :wrong"
   ]
  }
 ],
 "metadata": {
  "kernelspec": {
   "display_name": "ProB 2",
   "language": "prob",
   "name": "prob2"
  },
  "language_info": {
   "codemirror_mode": "prob2_jupyter_repl",
   "file_extension": ".prob",
   "mimetype": "text/x-prob2-jupyter-repl",
   "name": "prob"
  }
 },
 "nbformat": 4,
 "nbformat_minor": 2
}
