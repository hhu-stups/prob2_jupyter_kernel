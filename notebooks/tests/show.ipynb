{
 "cells": [
  {
   "cell_type": "code",
   "execution_count": 1,
   "metadata": {},
   "outputs": [
    {
     "data": {
      "text/markdown": [
       "```\n",
       ":show\n",
       "```\n",
       "\n",
       "Show the machine's animation function visualisation for the current state.\n",
       "\n",
       "The visualisation is static, any defined right-click options cannot be viewed or used."
      ],
      "text/plain": [
       ":show\n",
       "Show the machine's animation function visualisation for the current state.\n",
       "\n",
       "The visualisation is static, any defined right-click options cannot be viewed or used."
      ]
     },
     "execution_count": 1,
     "metadata": {},
     "output_type": "execute_result"
    }
   ],
   "source": [
    ":help :show"
   ]
  },
  {
   "cell_type": "code",
   "execution_count": 2,
   "metadata": {},
   "outputs": [
    {
     "data": {
      "text/plain": [
       "Loaded machine: Hanoi"
      ]
     },
     "execution_count": 2,
     "metadata": {},
     "output_type": "execute_result"
    }
   ],
   "source": [
    ":load Hanoi.mch"
   ]
  },
  {
   "cell_type": "code",
   "execution_count": 3,
   "metadata": {},
   "outputs": [
    {
     "ename": "CommandExecutionException",
     "evalue": ":show: Machine is not initialised, cannot show animation function visualisation",
     "output_type": "error",
     "traceback": [
      "\u001b[1m\u001b[31m:show: Machine is not initialised, cannot show animation function visualisation\u001b[0m"
     ]
    }
   ],
   "source": [
    ":show"
   ]
  },
  {
   "cell_type": "code",
   "execution_count": 4,
   "metadata": {},
   "outputs": [
    {
     "data": {
      "text/plain": [
       "Machine constants set up using operation 0: $setup_constants()"
      ]
     },
     "execution_count": 4,
     "metadata": {},
     "output_type": "execute_result"
    }
   ],
   "source": [
    ":constants"
   ]
  },
  {
   "cell_type": "code",
   "execution_count": 5,
   "metadata": {},
   "outputs": [
    {
     "ename": "CommandExecutionException",
     "evalue": ":show: Machine is not initialised, cannot show animation function visualisation",
     "output_type": "error",
     "traceback": [
      "\u001b[1m\u001b[31m:show: Machine is not initialised, cannot show animation function visualisation\u001b[0m"
     ]
    }
   ],
   "source": [
    ":show"
   ]
  },
  {
   "cell_type": "code",
   "execution_count": 6,
   "metadata": {},
   "outputs": [
    {
     "data": {
      "text/plain": [
       "Machine initialised using operation 1: $initialise_machine()"
      ]
     },
     "execution_count": 6,
     "metadata": {},
     "output_type": "execute_result"
    }
   ],
   "source": [
    ":init"
   ]
  },
  {
   "cell_type": "code",
   "execution_count": 7,
   "metadata": {},
   "outputs": [
    {
     "data": {
      "text/markdown": [
       "<table style=\"font-family:monospace\"><tbody>\n",
       "<tr>\n",
       "<td style=\"padding:0px\"><img alt=\"1\" src=\"images/Disc1.gif\"/></td>\n",
       "<td style=\"padding:0px\"><img alt=\"0\" src=\"images/Disc_empty.gif\"/></td>\n",
       "<td style=\"padding:0px\"><img alt=\"0\" src=\"images/Disc_empty.gif\"/></td>\n",
       "</tr>\n",
       "<tr>\n",
       "<td style=\"padding:0px\"><img alt=\"2\" src=\"images/Disc2.gif\"/></td>\n",
       "<td style=\"padding:0px\"><img alt=\"0\" src=\"images/Disc_empty.gif\"/></td>\n",
       "<td style=\"padding:0px\"><img alt=\"0\" src=\"images/Disc_empty.gif\"/></td>\n",
       "</tr>\n",
       "<tr>\n",
       "<td style=\"padding:0px\"><img alt=\"3\" src=\"images/Disc3.gif\"/></td>\n",
       "<td style=\"padding:0px\"><img alt=\"0\" src=\"images/Disc_empty.gif\"/></td>\n",
       "<td style=\"padding:0px\"><img alt=\"0\" src=\"images/Disc_empty.gif\"/></td>\n",
       "</tr>\n",
       "<tr>\n",
       "<td style=\"padding:0px\"><img alt=\"4\" src=\"images/Disc4.gif\"/></td>\n",
       "<td style=\"padding:0px\"><img alt=\"0\" src=\"images/Disc_empty.gif\"/></td>\n",
       "<td style=\"padding:0px\"><img alt=\"0\" src=\"images/Disc_empty.gif\"/></td>\n",
       "</tr>\n",
       "<tr>\n",
       "<td style=\"padding:0px\"><img alt=\"5\" src=\"images/Disc5.gif\"/></td>\n",
       "<td style=\"padding:0px\"><img alt=\"0\" src=\"images/Disc_empty.gif\"/></td>\n",
       "<td style=\"padding:0px\"><img alt=\"0\" src=\"images/Disc_empty.gif\"/></td>\n",
       "</tr>\n",
       "</tbody></table>"
      ],
      "text/plain": [
       "<Animation function visualisation>"
      ]
     },
     "execution_count": 7,
     "metadata": {},
     "output_type": "execute_result"
    }
   ],
   "source": [
    ":show"
   ]
  },
  {
   "cell_type": "code",
   "execution_count": 8,
   "metadata": {},
   "outputs": [
    {
     "data": {
      "text/plain": [
       "Executed operation: Move(orig,dest,1)"
      ]
     },
     "execution_count": 8,
     "metadata": {},
     "output_type": "execute_result"
    }
   ],
   "source": [
    ":exec Move"
   ]
  },
  {
   "cell_type": "code",
   "execution_count": 9,
   "metadata": {},
   "outputs": [
    {
     "data": {
      "text/markdown": [
       "<table style=\"font-family:monospace\"><tbody>\n",
       "<tr>\n",
       "<td style=\"padding:0px\"><img alt=\"0\" src=\"images/Disc_empty.gif\"/></td>\n",
       "<td style=\"padding:0px\"><img alt=\"0\" src=\"images/Disc_empty.gif\"/></td>\n",
       "<td style=\"padding:0px\"><img alt=\"0\" src=\"images/Disc_empty.gif\"/></td>\n",
       "</tr>\n",
       "<tr>\n",
       "<td style=\"padding:0px\"><img alt=\"2\" src=\"images/Disc2.gif\"/></td>\n",
       "<td style=\"padding:0px\"><img alt=\"0\" src=\"images/Disc_empty.gif\"/></td>\n",
       "<td style=\"padding:0px\"><img alt=\"0\" src=\"images/Disc_empty.gif\"/></td>\n",
       "</tr>\n",
       "<tr>\n",
       "<td style=\"padding:0px\"><img alt=\"3\" src=\"images/Disc3.gif\"/></td>\n",
       "<td style=\"padding:0px\"><img alt=\"0\" src=\"images/Disc_empty.gif\"/></td>\n",
       "<td style=\"padding:0px\"><img alt=\"0\" src=\"images/Disc_empty.gif\"/></td>\n",
       "</tr>\n",
       "<tr>\n",
       "<td style=\"padding:0px\"><img alt=\"4\" src=\"images/Disc4.gif\"/></td>\n",
       "<td style=\"padding:0px\"><img alt=\"0\" src=\"images/Disc_empty.gif\"/></td>\n",
       "<td style=\"padding:0px\"><img alt=\"0\" src=\"images/Disc_empty.gif\"/></td>\n",
       "</tr>\n",
       "<tr>\n",
       "<td style=\"padding:0px\"><img alt=\"5\" src=\"images/Disc5.gif\"/></td>\n",
       "<td style=\"padding:0px\"><img alt=\"1\" src=\"images/Disc1.gif\"/></td>\n",
       "<td style=\"padding:0px\"><img alt=\"0\" src=\"images/Disc_empty.gif\"/></td>\n",
       "</tr>\n",
       "</tbody></table>"
      ],
      "text/plain": [
       "<Animation function visualisation>"
      ]
     },
     "execution_count": 9,
     "metadata": {},
     "output_type": "execute_result"
    }
   ],
   "source": [
    ":show"
   ]
  },
  {
   "cell_type": "code",
   "execution_count": 10,
   "metadata": {},
   "outputs": [
    {
     "data": {
      "text/plain": [
       "Executed operation: Move(orig,Stakes3,2)"
      ]
     },
     "execution_count": 10,
     "metadata": {},
     "output_type": "execute_result"
    }
   ],
   "source": [
    ":exec Move"
   ]
  },
  {
   "cell_type": "code",
   "execution_count": 11,
   "metadata": {},
   "outputs": [
    {
     "data": {
      "text/markdown": [
       "<table style=\"font-family:monospace\"><tbody>\n",
       "<tr>\n",
       "<td style=\"padding:0px\"><img alt=\"0\" src=\"images/Disc_empty.gif\"/></td>\n",
       "<td style=\"padding:0px\"><img alt=\"0\" src=\"images/Disc_empty.gif\"/></td>\n",
       "<td style=\"padding:0px\"><img alt=\"0\" src=\"images/Disc_empty.gif\"/></td>\n",
       "</tr>\n",
       "<tr>\n",
       "<td style=\"padding:0px\"><img alt=\"0\" src=\"images/Disc_empty.gif\"/></td>\n",
       "<td style=\"padding:0px\"><img alt=\"0\" src=\"images/Disc_empty.gif\"/></td>\n",
       "<td style=\"padding:0px\"><img alt=\"0\" src=\"images/Disc_empty.gif\"/></td>\n",
       "</tr>\n",
       "<tr>\n",
       "<td style=\"padding:0px\"><img alt=\"3\" src=\"images/Disc3.gif\"/></td>\n",
       "<td style=\"padding:0px\"><img alt=\"0\" src=\"images/Disc_empty.gif\"/></td>\n",
       "<td style=\"padding:0px\"><img alt=\"0\" src=\"images/Disc_empty.gif\"/></td>\n",
       "</tr>\n",
       "<tr>\n",
       "<td style=\"padding:0px\"><img alt=\"4\" src=\"images/Disc4.gif\"/></td>\n",
       "<td style=\"padding:0px\"><img alt=\"0\" src=\"images/Disc_empty.gif\"/></td>\n",
       "<td style=\"padding:0px\"><img alt=\"0\" src=\"images/Disc_empty.gif\"/></td>\n",
       "</tr>\n",
       "<tr>\n",
       "<td style=\"padding:0px\"><img alt=\"5\" src=\"images/Disc5.gif\"/></td>\n",
       "<td style=\"padding:0px\"><img alt=\"1\" src=\"images/Disc1.gif\"/></td>\n",
       "<td style=\"padding:0px\"><img alt=\"2\" src=\"images/Disc2.gif\"/></td>\n",
       "</tr>\n",
       "</tbody></table>"
      ],
      "text/plain": [
       "<Animation function visualisation>"
      ]
     },
     "execution_count": 11,
     "metadata": {},
     "output_type": "execute_result"
    }
   ],
   "source": [
    ":show"
   ]
  },
  {
   "cell_type": "markdown",
   "metadata": {},
   "source": [
    "The image padding preference is respected."
   ]
  },
  {
   "cell_type": "code",
   "execution_count": 12,
   "metadata": {},
   "outputs": [
    {
     "data": {
      "text/plain": [
       "Preference changed: TK_CUSTOM_STATE_VIEW_PADDING = 8\n"
      ]
     },
     "execution_count": 12,
     "metadata": {},
     "output_type": "execute_result"
    }
   ],
   "source": [
    ":pref TK_CUSTOM_STATE_VIEW_PADDING=8"
   ]
  },
  {
   "cell_type": "code",
   "execution_count": 13,
   "metadata": {},
   "outputs": [
    {
     "data": {
      "text/markdown": [
       "<table style=\"font-family:monospace\"><tbody>\n",
       "<tr>\n",
       "<td style=\"padding:8px\"><img alt=\"0\" src=\"images/Disc_empty.gif\"/></td>\n",
       "<td style=\"padding:8px\"><img alt=\"0\" src=\"images/Disc_empty.gif\"/></td>\n",
       "<td style=\"padding:8px\"><img alt=\"0\" src=\"images/Disc_empty.gif\"/></td>\n",
       "</tr>\n",
       "<tr>\n",
       "<td style=\"padding:8px\"><img alt=\"0\" src=\"images/Disc_empty.gif\"/></td>\n",
       "<td style=\"padding:8px\"><img alt=\"0\" src=\"images/Disc_empty.gif\"/></td>\n",
       "<td style=\"padding:8px\"><img alt=\"0\" src=\"images/Disc_empty.gif\"/></td>\n",
       "</tr>\n",
       "<tr>\n",
       "<td style=\"padding:8px\"><img alt=\"3\" src=\"images/Disc3.gif\"/></td>\n",
       "<td style=\"padding:8px\"><img alt=\"0\" src=\"images/Disc_empty.gif\"/></td>\n",
       "<td style=\"padding:8px\"><img alt=\"0\" src=\"images/Disc_empty.gif\"/></td>\n",
       "</tr>\n",
       "<tr>\n",
       "<td style=\"padding:8px\"><img alt=\"4\" src=\"images/Disc4.gif\"/></td>\n",
       "<td style=\"padding:8px\"><img alt=\"0\" src=\"images/Disc_empty.gif\"/></td>\n",
       "<td style=\"padding:8px\"><img alt=\"0\" src=\"images/Disc_empty.gif\"/></td>\n",
       "</tr>\n",
       "<tr>\n",
       "<td style=\"padding:8px\"><img alt=\"5\" src=\"images/Disc5.gif\"/></td>\n",
       "<td style=\"padding:8px\"><img alt=\"1\" src=\"images/Disc1.gif\"/></td>\n",
       "<td style=\"padding:8px\"><img alt=\"2\" src=\"images/Disc2.gif\"/></td>\n",
       "</tr>\n",
       "</tbody></table>"
      ],
      "text/plain": [
       "<Animation function visualisation>"
      ]
     },
     "execution_count": 13,
     "metadata": {},
     "output_type": "execute_result"
    }
   ],
   "source": [
    ":show"
   ]
  },
  {
   "cell_type": "markdown",
   "metadata": {},
   "source": [
    "Text labels are supported."
   ]
  },
  {
   "cell_type": "code",
   "execution_count": 14,
   "metadata": {},
   "outputs": [
    {
     "data": {
      "text/plain": [
       "Loaded machine: CrosswordPuzzle"
      ]
     },
     "execution_count": 14,
     "metadata": {},
     "output_type": "execute_result"
    }
   ],
   "source": [
    ":load CrosswordPuzzle.mch"
   ]
  },
  {
   "cell_type": "code",
   "execution_count": 15,
   "metadata": {},
   "outputs": [
    {
     "data": {
      "text/plain": [
       "Machine constants set up using operation 0: $setup_constants()"
      ]
     },
     "execution_count": 15,
     "metadata": {},
     "output_type": "execute_result"
    }
   ],
   "source": [
    ":constants"
   ]
  },
  {
   "cell_type": "code",
   "execution_count": 16,
   "metadata": {},
   "outputs": [
    {
     "data": {
      "text/plain": [
       "Machine initialised using operation 1: $initialise_machine()"
      ]
     },
     "execution_count": 16,
     "metadata": {},
     "output_type": "execute_result"
    }
   ],
   "source": [
    ":init"
   ]
  },
  {
   "cell_type": "code",
   "execution_count": 17,
   "metadata": {},
   "outputs": [
    {
     "data": {
      "text/markdown": [
       "<table style=\"font-family:monospace\"><tbody>\n",
       "<tr>\n",
       "<td style=\"padding:10px\">S</td>\n",
       "<td style=\"padding:10px\">T</td>\n",
       "<td style=\"padding:10px\">E</td>\n",
       "<td style=\"padding:10px\">E</td>\n",
       "<td style=\"padding:10px\">R</td>\n",
       "</tr>\n",
       "<tr>\n",
       "<td style=\"padding:10px\">-</td>\n",
       "<td style=\"padding:10px\">-</td>\n",
       "<td style=\"padding:10px\">A</td>\n",
       "<td style=\"padding:10px\">-</td>\n",
       "<td style=\"padding:10px\">U</td>\n",
       "</tr>\n",
       "<tr>\n",
       "<td style=\"padding:10px\">-</td>\n",
       "<td style=\"padding:10px\">I</td>\n",
       "<td style=\"padding:10px\">R</td>\n",
       "<td style=\"padding:10px\">O</td>\n",
       "<td style=\"padding:10px\">N</td>\n",
       "</tr>\n",
       "<tr>\n",
       "<td style=\"padding:10px\">-</td>\n",
       "<td style=\"padding:10px\">-</td>\n",
       "<td style=\"padding:10px\">N</td>\n",
       "<td style=\"padding:10px\">O</td>\n",
       "<td style=\"padding:10px\">-</td>\n",
       "</tr>\n",
       "</tbody></table>"
      ],
      "text/plain": [
       "<Animation function visualisation>"
      ]
     },
     "execution_count": 17,
     "metadata": {},
     "output_type": "execute_result"
    }
   ],
   "source": [
    ":show"
   ]
  },
  {
   "cell_type": "markdown",
   "metadata": {},
   "source": [
    "The text padding preference is respected."
   ]
  },
  {
   "cell_type": "code",
   "execution_count": 18,
   "metadata": {},
   "outputs": [
    {
     "data": {
      "text/plain": [
       "Preference changed: TK_CUSTOM_STATE_VIEW_STRING_PADDING = 2\n"
      ]
     },
     "execution_count": 18,
     "metadata": {},
     "output_type": "execute_result"
    }
   ],
   "source": [
    ":pref TK_CUSTOM_STATE_VIEW_STRING_PADDING=2"
   ]
  },
  {
   "cell_type": "code",
   "execution_count": 19,
   "metadata": {},
   "outputs": [
    {
     "data": {
      "text/markdown": [
       "<table style=\"font-family:monospace\"><tbody>\n",
       "<tr>\n",
       "<td style=\"padding:2px\">S</td>\n",
       "<td style=\"padding:2px\">T</td>\n",
       "<td style=\"padding:2px\">E</td>\n",
       "<td style=\"padding:2px\">E</td>\n",
       "<td style=\"padding:2px\">R</td>\n",
       "</tr>\n",
       "<tr>\n",
       "<td style=\"padding:2px\">-</td>\n",
       "<td style=\"padding:2px\">-</td>\n",
       "<td style=\"padding:2px\">A</td>\n",
       "<td style=\"padding:2px\">-</td>\n",
       "<td style=\"padding:2px\">U</td>\n",
       "</tr>\n",
       "<tr>\n",
       "<td style=\"padding:2px\">-</td>\n",
       "<td style=\"padding:2px\">I</td>\n",
       "<td style=\"padding:2px\">R</td>\n",
       "<td style=\"padding:2px\">O</td>\n",
       "<td style=\"padding:2px\">N</td>\n",
       "</tr>\n",
       "<tr>\n",
       "<td style=\"padding:2px\">-</td>\n",
       "<td style=\"padding:2px\">-</td>\n",
       "<td style=\"padding:2px\">N</td>\n",
       "<td style=\"padding:2px\">O</td>\n",
       "<td style=\"padding:2px\">-</td>\n",
       "</tr>\n",
       "</tbody></table>"
      ],
      "text/plain": [
       "<Animation function visualisation>"
      ]
     },
     "execution_count": 19,
     "metadata": {},
     "output_type": "execute_result"
    }
   ],
   "source": [
    ":show"
   ]
  },
  {
   "cell_type": "markdown",
   "metadata": {},
   "source": [
    "The font name and size preferences are supported."
   ]
  },
  {
   "cell_type": "code",
   "execution_count": 20,
   "metadata": {},
   "outputs": [
    {
     "data": {
      "text/plain": [
       "Preference changed: TK_CUSTOM_STATE_VIEW_FONT_SIZE = 18\n",
       "Preference changed: TK_CUSTOM_STATE_VIEW_FONT_NAME = Arial\n"
      ]
     },
     "execution_count": 20,
     "metadata": {},
     "output_type": "execute_result"
    }
   ],
   "source": [
    ":pref TK_CUSTOM_STATE_VIEW_FONT_NAME=Arial TK_CUSTOM_STATE_VIEW_FONT_SIZE=18"
   ]
  },
  {
   "cell_type": "code",
   "execution_count": 21,
   "metadata": {},
   "outputs": [
    {
     "data": {
      "text/markdown": [
       "<table style=\"font-family:\"Arial\" monospace;font-size:18px\"><tbody>\n",
       "<tr>\n",
       "<td style=\"padding:2px\">S</td>\n",
       "<td style=\"padding:2px\">T</td>\n",
       "<td style=\"padding:2px\">E</td>\n",
       "<td style=\"padding:2px\">E</td>\n",
       "<td style=\"padding:2px\">R</td>\n",
       "</tr>\n",
       "<tr>\n",
       "<td style=\"padding:2px\">-</td>\n",
       "<td style=\"padding:2px\">-</td>\n",
       "<td style=\"padding:2px\">A</td>\n",
       "<td style=\"padding:2px\">-</td>\n",
       "<td style=\"padding:2px\">U</td>\n",
       "</tr>\n",
       "<tr>\n",
       "<td style=\"padding:2px\">-</td>\n",
       "<td style=\"padding:2px\">I</td>\n",
       "<td style=\"padding:2px\">R</td>\n",
       "<td style=\"padding:2px\">O</td>\n",
       "<td style=\"padding:2px\">N</td>\n",
       "</tr>\n",
       "<tr>\n",
       "<td style=\"padding:2px\">-</td>\n",
       "<td style=\"padding:2px\">-</td>\n",
       "<td style=\"padding:2px\">N</td>\n",
       "<td style=\"padding:2px\">O</td>\n",
       "<td style=\"padding:2px\">-</td>\n",
       "</tr>\n",
       "</tbody></table>"
      ],
      "text/plain": [
       "<Animation function visualisation>"
      ]
     },
     "execution_count": 21,
     "metadata": {},
     "output_type": "execute_result"
    }
   ],
   "source": [
    ":show"
   ]
  },
  {
   "cell_type": "markdown",
   "metadata": {},
   "source": [
    "Empty cells are supported."
   ]
  },
  {
   "cell_type": "code",
   "execution_count": 22,
   "metadata": {},
   "outputs": [
    {
     "data": {
      "text/plain": [
       "Loaded machine: AnimationFunctionTestProB2"
      ]
     },
     "execution_count": 22,
     "metadata": {},
     "output_type": "execute_result"
    }
   ],
   "source": [
    ":load AnimationFunctionTestProB2.mch"
   ]
  },
  {
   "cell_type": "code",
   "execution_count": 23,
   "metadata": {},
   "outputs": [
    {
     "data": {
      "text/plain": [
       "Machine constants set up using operation 0: $setup_constants()"
      ]
     },
     "execution_count": 23,
     "metadata": {},
     "output_type": "execute_result"
    }
   ],
   "source": [
    ":constants"
   ]
  },
  {
   "cell_type": "code",
   "execution_count": 24,
   "metadata": {},
   "outputs": [
    {
     "data": {
      "text/plain": [
       "Machine initialised using operation 1: $initialise_machine()"
      ]
     },
     "execution_count": 24,
     "metadata": {},
     "output_type": "execute_result"
    }
   ],
   "source": [
    ":init"
   ]
  },
  {
   "cell_type": "code",
   "execution_count": 25,
   "metadata": {},
   "outputs": [
    {
     "data": {
      "text/markdown": [
       "<table style=\"font-family:monospace\"><tbody>\n",
       "<tr>\n",
       "<td style=\"padding:10px\">Overview</td>\n",
       "<td style=\"padding:0px\"></td>\n",
       "<td style=\"padding:0px\"></td>\n",
       "</tr>\n",
       "<tr>\n",
       "<td style=\"padding:0px\"></td>\n",
       "<td style=\"padding:0px\"><img alt=\"0\" src=\"images/small_empty_w.gif\"/></td>\n",
       "<td style=\"padding:0px\"><img alt=\"1\" src=\"images/small_wqueen_w.gif\"/></td>\n",
       "</tr>\n",
       "<tr>\n",
       "<td style=\"padding:0px\"></td>\n",
       "<td style=\"padding:0px\"><img alt=\"1\" src=\"images/small_wqueen_w.gif\"/></td>\n",
       "<td style=\"padding:0px\"><img alt=\"0\" src=\"images/small_empty_w.gif\"/></td>\n",
       "</tr>\n",
       "</tbody></table>"
      ],
      "text/plain": [
       "<Animation function visualisation>"
      ]
     },
     "execution_count": 25,
     "metadata": {},
     "output_type": "execute_result"
    }
   ],
   "source": [
    ":show"
   ]
  }
 ],
 "metadata": {
  "kernelspec": {
   "display_name": "ProB 2",
   "language": "prob",
   "name": "prob2"
  },
  "language_info": {
   "codemirror_mode": "prob2_jupyter_repl",
   "file_extension": ".prob",
   "mimetype": "text/x-prob2-jupyter-repl",
   "name": "prob"
  }
 },
 "nbformat": 4,
 "nbformat_minor": 2
}
