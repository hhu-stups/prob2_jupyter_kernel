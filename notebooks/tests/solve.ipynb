{
 "cells": [
  {
   "cell_type": "code",
   "execution_count": 1,
   "metadata": {},
   "outputs": [
    {
     "data": {
      "text/markdown": [
       "```\n",
       ":solve SOLVER PREDICATE\n",
       "```\n",
       "\n",
       "Solve a predicate with the specified solver.\n",
       "\n",
       "The following solvers are currently available:\n",
       "\n",
       "* `cdclt`\n",
       "* `cvc4`\n",
       "* `kodkod`\n",
       "* `prob`\n",
       "* `sat`\n",
       "* `satz3`\n",
       "* `smt_supported_interpreter`\n",
       "* `z3`\n",
       "* `z3axm`\n",
       "* `z3cns`\n"
      ],
      "text/plain": [
       ":solve SOLVER PREDICATE\n",
       "Solve a predicate with the specified solver.\n",
       "\n",
       "The following solvers are currently available:\n",
       "\n",
       "* `cdclt`\n",
       "* `cvc4`\n",
       "* `kodkod`\n",
       "* `prob`\n",
       "* `sat`\n",
       "* `satz3`\n",
       "* `smt_supported_interpreter`\n",
       "* `z3`\n",
       "* `z3axm`\n",
       "* `z3cns`\n"
      ]
     },
     "execution_count": 1,
     "metadata": {},
     "output_type": "execute_result"
    }
   ],
   "source": [
    ":help :solve"
   ]
  },
  {
   "cell_type": "markdown",
   "metadata": {},
   "source": [
    "Different solvers can be used to solve a predicate."
   ]
  },
  {
   "cell_type": "code",
   "execution_count": 2,
   "metadata": {},
   "outputs": [
    {
     "data": {
      "text/markdown": [
       "$\\mathit{TRUE}$\n",
       "\n",
       "**Solution:**\n",
       "* $\\mathit{xx} = 3$\n",
       "* $\\mathit{yy} = 4$"
      ],
      "text/plain": [
       "TRUE\n",
       "\n",
       "Solution:\n",
       "\txx = 3\n",
       "\tyy = 4"
      ]
     },
     "execution_count": 2,
     "metadata": {},
     "output_type": "execute_result"
    }
   ],
   "source": [
    ":solve prob xx > 2 & yy < 5 & xx < yy"
   ]
  },
  {
   "cell_type": "code",
   "execution_count": 3,
   "metadata": {},
   "outputs": [
    {
     "data": {
      "text/markdown": [
       "$\\mathit{TRUE}$\n",
       "\n",
       "**Solution:**\n",
       "* $\\mathit{xx} = 3$\n",
       "* $\\mathit{yy} = 4$"
      ],
      "text/plain": [
       "TRUE\n",
       "\n",
       "Solution:\n",
       "\txx = 3\n",
       "\tyy = 4"
      ]
     },
     "execution_count": 3,
     "metadata": {},
     "output_type": "execute_result"
    }
   ],
   "source": [
    ":solve kodkod xx > 2 & yy < 5 & xx < yy"
   ]
  },
  {
   "cell_type": "code",
   "execution_count": 4,
   "metadata": {},
   "outputs": [
    {
     "ename": "WithSourceCodeException",
     "evalue": "de.prob.exception.PrologException: Unhandled exception thrown from Prolog: representation_error(existence_error('$@'(':'(z3interface,pop_frame),4415285720),0,procedure,':'(z3interface,'/'(pop_frame,0)),0))",
     "output_type": "error",
     "traceback": [
      "\u001b[1m\u001b[30mError from ProB: \u001b[0m\u001b[1m\u001b[31mUnhandled exception thrown from Prolog: representation_error(existence_error('$@'(':'(z3interface,pop_frame),4415285720),0,procedure,':'(z3interface,'/'(pop_frame,0)),0))\u001b[0m"
     ]
    }
   ],
   "source": [
    ":solve smt_supported_interpreter xx > 2 & yy < 5 & xx < yy"
   ]
  },
  {
   "cell_type": "code",
   "execution_count": 5,
   "metadata": {},
   "outputs": [
    {
     "ename": "WithSourceCodeException",
     "evalue": "de.prob.exception.ProBError: ProB reported Errors\nProB returned error messages:\nWarning: Value true for preference smt_supported_interpreter may lead to errors because extension not available (required file missing: /var/folders/55/r7px92pd3j999smrpydd2tj00000gn/T/prob-java14063475296647204790/lib/z3interface.bundle): smt_extension\nWarning: File for component does not exist: /var/folders/55/r7px92pd3j999smrpydd2tj00000gn/T/prob-java14063475296647204790/lib/z3interface.bundle\nError: Loading Z3 extension failed: 'File does not exist:'(library(z3interface))\nInternal error: Call for event start_solving failed. init_smt_supported_interpreter\nMessage: Be sure that libz3.dylib/so/dll is on your dynamic library path\nMessage: Be sure that libz3.dylib/so/dll is on your dynamic library path\nMessage: Be sure that libz3.dylib/so/dll is on your dynamic library path",
     "output_type": "error",
     "traceback": [
      "\u001b[1m\u001b[30mError from ProB: \u001b[0m\u001b[1m\u001b[31mProB reported Errors\u001b[0m",
      "\u001b[1m\u001b[30m7 errors:\u001b[0m",
      "\u001b[1m\u001b[31mWarning: Value true for preference smt_supported_interpreter may lead to errors because extension not available (required file missing: /var/folders/55/r7px92pd3j999smrpydd2tj00000gn/T/prob-java14063475296647204790/lib/z3interface.bundle): smt_extension\u001b[0m",
      "\u001b[1m\u001b[31mWarning: File for component does not exist: /var/folders/55/r7px92pd3j999smrpydd2tj00000gn/T/prob-java14063475296647204790/lib/z3interface.bundle\u001b[0m",
      "\u001b[1m\u001b[31mError: Loading Z3 extension failed: 'File does not exist:'(library(z3interface))\u001b[0m",
      "\u001b[1m\u001b[31mInternal error: Call for event start_solving failed. init_smt_supported_interpreter\u001b[0m",
      "\u001b[1m\u001b[31mMessage: Be sure that libz3.dylib/so/dll is on your dynamic library path\u001b[0m",
      "\u001b[1m\u001b[31mMessage: Be sure that libz3.dylib/so/dll is on your dynamic library path\u001b[0m",
      "\u001b[1m\u001b[31mMessage: Be sure that libz3.dylib/so/dll is on your dynamic library path\u001b[0m"
     ]
    }
   ],
   "source": [
    ":solve z3 xx > 2 & yy < 5 & xx < yy"
   ]
  },
  {
   "cell_type": "markdown",
   "metadata": {},
   "source": [
    "Machine variables can be used in `:solve` predicates."
   ]
  },
  {
   "cell_type": "code",
   "execution_count": 6,
   "metadata": {},
   "outputs": [
    {
     "data": {
      "text/plain": [
       "Loaded machine: SolveTest"
      ]
     },
     "execution_count": 6,
     "metadata": {},
     "output_type": "execute_result"
    }
   ],
   "source": [
    "::load\n",
    "MACHINE SolveTest\n",
    "VARIABLES z\n",
    "INVARIANT z : MININT..MAXINT\n",
    "INITIALISATION z :: MININT..MAXINT\n",
    "END"
   ]
  },
  {
   "cell_type": "code",
   "execution_count": 7,
   "metadata": {},
   "outputs": [
    {
     "ename": "WithSourceCodeException",
     "evalue": "de.prob.exception.ProBError: NOT-INITIALISED",
     "output_type": "error",
     "traceback": [
      "\u001b[1m\u001b[30mError from ProB: \u001b[0m\u001b[1m\u001b[31mNOT-INITIALISED\u001b[0m"
     ]
    }
   ],
   "source": [
    "z"
   ]
  },
  {
   "cell_type": "code",
   "execution_count": 8,
   "metadata": {},
   "outputs": [
    {
     "data": {
      "text/plain": [
       "Executed operation: INITIALISATION()"
      ]
     },
     "execution_count": 8,
     "metadata": {},
     "output_type": "execute_result"
    }
   ],
   "source": [
    ":init z = 2"
   ]
  },
  {
   "cell_type": "code",
   "execution_count": 9,
   "metadata": {},
   "outputs": [
    {
     "data": {
      "text/markdown": [
       "$2$"
      ],
      "text/plain": [
       "2"
      ]
     },
     "execution_count": 9,
     "metadata": {},
     "output_type": "execute_result"
    }
   ],
   "source": [
    "z"
   ]
  },
  {
   "cell_type": "code",
   "execution_count": 10,
   "metadata": {},
   "outputs": [
    {
     "data": {
      "text/markdown": [
       "$\\mathit{TRUE}$\n",
       "\n",
       "**Solution:**\n",
       "* $\\mathit{x} = 2$\n",
       "* $\\mathit{z} = 2$"
      ],
      "text/plain": [
       "TRUE\n",
       "\n",
       "Solution:\n",
       "\tx = 2\n",
       "\tz = 2"
      ]
     },
     "execution_count": 10,
     "metadata": {},
     "output_type": "execute_result"
    }
   ],
   "source": [
    ":solve prob x <= z & x >= z"
   ]
  },
  {
   "cell_type": "code",
   "execution_count": 11,
   "metadata": {},
   "outputs": [
    {
     "data": {
      "text/markdown": [
       "$\\mathit{FALSE}$"
      ],
      "text/plain": [
       "FALSE"
      ]
     },
     "execution_count": 11,
     "metadata": {},
     "output_type": "execute_result"
    }
   ],
   "source": [
    ":solve prob z /= 2"
   ]
  },
  {
   "cell_type": "markdown",
   "metadata": {},
   "source": [
    "Local variables can be used in `:solve` predicates."
   ]
  },
  {
   "cell_type": "code",
   "execution_count": 12,
   "metadata": {},
   "outputs": [
    {
     "data": {
      "text/markdown": [
       "$5$"
      ],
      "text/plain": [
       "5"
      ]
     },
     "execution_count": 12,
     "metadata": {},
     "output_type": "execute_result"
    }
   ],
   "source": [
    ":let five 5"
   ]
  },
  {
   "cell_type": "code",
   "execution_count": 13,
   "metadata": {},
   "outputs": [
    {
     "data": {
      "text/markdown": [
       "$\\mathit{TRUE}$\n",
       "\n",
       "**Solution:**\n",
       "* $\\mathit{xx} = 3$\n",
       "* $\\mathit{yy} = 4$"
      ],
      "text/plain": [
       "TRUE\n",
       "\n",
       "Solution:\n",
       "\txx = 3\n",
       "\tyy = 4"
      ]
     },
     "execution_count": 13,
     "metadata": {},
     "output_type": "execute_result"
    }
   ],
   "source": [
    ":solve prob xx > 2 & yy < five & xx < yy"
   ]
  },
  {
   "cell_type": "code",
   "execution_count": 14,
   "metadata": {},
   "outputs": [
    {
     "data": {
      "text/markdown": [
       "$\\mathit{TRUE}$\n",
       "\n",
       "**Solution:**\n",
       "* $\\mathit{xx} = 3$\n",
       "* $\\mathit{yy} = 4$"
      ],
      "text/plain": [
       "TRUE\n",
       "\n",
       "Solution:\n",
       "\txx = 3\n",
       "\tyy = 4"
      ]
     },
     "execution_count": 14,
     "metadata": {},
     "output_type": "execute_result"
    }
   ],
   "source": [
    ":solve kodkod xx > 2 & yy < five & xx < yy"
   ]
  }
 ],
 "metadata": {
  "kernelspec": {
   "display_name": "ProB 2",
   "language": "prob",
   "name": "prob2"
  },
  "language_info": {
   "codemirror_mode": "prob2_jupyter_repl",
   "file_extension": ".prob",
   "mimetype": "text/x-prob2-jupyter-repl",
   "name": "prob"
  }
 },
 "nbformat": 4,
 "nbformat_minor": 4
}
