{
 "cells": [
  {
   "cell_type": "code",
   "execution_count": 1,
   "metadata": {},
   "outputs": [
    {
     "data": {
      "text/plain": [
       ":solve SOLVER PREDICATE\n",
       "\n",
       "Solve a predicate with the specified solver"
      ]
     },
     "execution_count": 1,
     "metadata": {},
     "output_type": "execute_result"
    }
   ],
   "source": [
    ":help :solve"
   ]
  },
  {
   "cell_type": "markdown",
   "metadata": {},
   "source": [
    "Different solvers can be used to solve a predicate."
   ]
  },
  {
   "cell_type": "code",
   "execution_count": 2,
   "metadata": {},
   "outputs": [
    {
     "data": {
      "text/plain": [
       "TRUE\n",
       "\n",
       "Solution:\n",
       "\txx = 3\n",
       "\tyy = 4"
      ]
     },
     "execution_count": 2,
     "metadata": {},
     "output_type": "execute_result"
    }
   ],
   "source": [
    ":solve prob xx > 2 & yy < 5 & xx < yy"
   ]
  },
  {
   "cell_type": "code",
   "execution_count": 3,
   "metadata": {},
   "outputs": [
    {
     "name": "stdout",
     "output_type": "stream",
     "text": [
      "[2018-05-24 15:07:08,593, T+7799] \"ProB Output Logger for instance 7301eebe\" de.prob.cli.ProBInstance.readAndLog(ConsoleListener.java:48): [INFO] kodkod ok:   xx > 2 & yy < 5 & xx < yy  ints: irange(2,5), intatoms: none\u001b[0m\n",
      "[2018-05-24 15:07:08,597, T+7803] \"ProB Output Logger for instance 7301eebe\" de.prob.cli.ProBInstance.readAndLog(ConsoleListener.java:48): [INFO] Kodkod module started up successfully (SAT solver SAT4J with timeout of 1500 ms).\u001b[0m\n",
      "[2018-05-24 15:07:08,598, T+7804] \"ProB Output Logger for instance 7301eebe\" de.prob.cli.ProBInstance.readAndLog(ConsoleListener.java:48): [INFO] Times for computing solutions: [3]\u001b[0m\n"
     ]
    },
    {
     "data": {
      "text/plain": [
       "TRUE\n",
       "\n",
       "Solution:\n",
       "\txx = 3\n",
       "\tyy = 4"
      ]
     },
     "execution_count": 3,
     "metadata": {},
     "output_type": "execute_result"
    }
   ],
   "source": [
    ":solve kodkod xx > 2 & yy < 5 & xx < yy"
   ]
  },
  {
   "cell_type": "code",
   "execution_count": 4,
   "metadata": {},
   "outputs": [
    {
     "name": "stdout",
     "output_type": "stream",
     "text": [
      "[2018-05-24 15:07:08,690, T+7896] \"ProB Output Logger for instance 7301eebe\" de.prob.cli.ProBInstance.readAndLog(ConsoleListener.java:48): [INFO] *** LOADING Z3 library failed\u001b[0m\n",
      "[2018-05-24 15:07:08,693, T+7899] \"ProB Output Logger for instance 7301eebe\" de.prob.cli.ProBInstance.readAndLog(ConsoleListener.java:48): [INFO] *** error(system_error,system_error(dlopen(\"/Users/david/.prob/prob2-3.2.10-SNAPSHOT/lib/z3interface.bundle\") failed in load_foreign_resource/1: dlopen(/Users/david/.prob/prob2-3.2.10-SNAPSHOT/lib/z3interface.bundle, 2): Library not loaded: libz3.dylib\u001b[0m\n",
      "[2018-05-24 15:07:08,694, T+7900] \"ProB Output Logger for instance 7301eebe\" de.prob.cli.ProBInstance.readAndLog(ConsoleListener.java:48): [INFO]   Referenced from: /Users/david/.prob/prob2-3.2.10-SNAPSHOT/lib/z3interface.bundle\u001b[0m\n",
      "[2018-05-24 15:07:08,695, T+7901] \"ProB Output Logger for instance 7301eebe\" de.prob.cli.ProBInstance.readAndLog(ConsoleListener.java:48): [INFO]   Reason: image not found))\u001b[0m\n",
      "[2018-05-24 15:07:08,726, T+7932] \"ProB Output Logger for instance 7301eebe\" de.prob.cli.ProBInstance.readAndLog(ConsoleListener.java:48): [INFO] \u001b[31m\u001b[1m! An error occurred !\u001b[0m\n",
      "[2018-05-24 15:07:08,727, T+7933] \"ProB Output Logger for instance 7301eebe\" de.prob.cli.ProBInstance.readAndLog(ConsoleListener.java:48): [INFO] \u001b[0m\u001b[31m\u001b[1m! source(internal_error(smt_solvers_interface))\u001b[0m\n",
      "[2018-05-24 15:07:08,730, T+7936] \"ProB Output Logger for instance 7301eebe\" de.prob.cli.ProBInstance.readAndLog(ConsoleListener.java:48): [INFO] \u001b[0m\u001b[31m\u001b[1m! Call for event start_solving failed. init_interface(z3)\u001b[0m\n",
      "[2018-05-24 15:07:08,750, T+7956] \"ProB Output Logger for instance 7301eebe\" de.prob.cli.ProBInstance.readAndLog(ConsoleListener.java:48): [INFO] \u001b[0m*** LOADING Z3 library failed\u001b[0m\n",
      "[2018-05-24 15:07:08,751, T+7957] \"ProB Output Logger for instance 7301eebe\" de.prob.cli.ProBInstance.readAndLog(ConsoleListener.java:48): [INFO] *** error(system_error,system_error(dlopen(\"/Users/david/.prob/prob2-3.2.10-SNAPSHOT/lib/z3interface.bundle\") failed in load_foreign_resource/1: dlopen(/Users/david/.prob/prob2-3.2.10-SNAPSHOT/lib/z3interface.bundle, 2): Library not loaded: libz3.dylib\u001b[0m\n",
      "[2018-05-24 15:07:08,752, T+7958] \"ProB Output Logger for instance 7301eebe\" de.prob.cli.ProBInstance.readAndLog(ConsoleListener.java:48): [INFO]   Referenced from: /Users/david/.prob/prob2-3.2.10-SNAPSHOT/lib/z3interface.bundle\u001b[0m\n",
      "[2018-05-24 15:07:08,753, T+7959] \"ProB Output Logger for instance 7301eebe\" de.prob.cli.ProBInstance.readAndLog(ConsoleListener.java:48): [INFO]   Reason: image not found))\u001b[0m\n",
      "[2018-05-24 15:07:08,759, T+7965] \"ProB Output Logger for instance 7301eebe\" de.prob.cli.ProBInstance.readAndLog(ConsoleListener.java:48): [INFO] exception(make_call/3, error(existence_error(procedure,z3interface:pop_frame/0),existence_error($@(z3interface:pop_frame,4557968700),0,procedure,z3interface:pop_frame/0,0))).\u001b[0m\n"
     ]
    },
    {
     "ename": "ProBError",
     "evalue": "(error(existence_error(procedure,:(z3interface,/(pop_frame,0))),existence_error($@(:(z3interface,pop_frame),4557968700),0,procedure,:(z3interface,/(pop_frame,0)),0)))",
     "output_type": "error",
     "traceback": [
      "\u001b[1m\u001b[31m---------------------------------------------------------------------------\u001b[0m",
      "\u001b[1m\u001b[31mde.prob.exception.ProBError: (error(existence_error(procedure,:(z3interface,/(pop_frame,0))),existence_error($@(:(z3interface,pop_frame),4557968700),0,procedure,:(z3interface,/(pop_frame,0)),0)))\u001b[0m",
      "\u001b[1m\u001b[31m\tat de.prob.animator.CommandProcessor.extractResult(CommandProcessor.java:70)\u001b[0m",
      "\u001b[1m\u001b[31m\tat de.prob.animator.CommandProcessor.sendCommand(CommandProcessor.java:51)\u001b[0m",
      "\u001b[1m\u001b[31m\tat de.prob.animator.AnimatorImpl.execute(AnimatorImpl.java:68)\u001b[0m",
      "\u001b[1m\u001b[31m\tat de.prob.statespace.StateSpace.execute(StateSpace.java:549)\u001b[0m",
      "\u001b[1m\u001b[31m\tat de.prob2.jupyter.commands.SolveCommand.run(SolveCommand.java:70)\u001b[0m",
      "\u001b[1m\u001b[31m\tat de.prob2.jupyter.ProBKernel.executeLineCommand(ProBKernel.java:118)\u001b[0m",
      "\u001b[1m\u001b[31m\tat de.prob2.jupyter.ProBKernel.eval(ProBKernel.java:142)\u001b[0m",
      "\u001b[1m\u001b[31m\tat io.github.spencerpark.jupyter.kernel.BaseKernel.handleExecuteRequest(BaseKernel.java:282)\u001b[0m",
      "\u001b[1m\u001b[31m\tat io.github.spencerpark.jupyter.channels.ShellChannel.lambda$bind$0(ShellChannel.java:50)\u001b[0m",
      "\u001b[1m\u001b[31m\tat java.lang.Thread.run(Thread.java:748)\u001b[0m",
      "\u001b[1m\u001b[31m\tat io.github.spencerpark.jupyter.channels.Loop.run(Loop.java:39)\u001b[0m"
     ]
    }
   ],
   "source": [
    ":solve smt_supported_interpreter xx > 2 & yy < 5 & xx < yy"
   ]
  },
  {
   "cell_type": "code",
   "execution_count": 5,
   "metadata": {},
   "outputs": [
    {
     "name": "stdout",
     "output_type": "stream",
     "text": [
      "[2018-05-24 15:07:08,942, T+8148] \"Shell-0\" de.prob.animator.AnimatorImpl.getErrorItems(AnimatorImpl.java:105): [ERROR] ProB raised exception(s):\n",
      "[2018-05-24 15:07:08,943, T+8149] \"ProB Output Logger for instance 7301eebe\" de.prob.cli.ProBInstance.readAndLog(ConsoleListener.java:48): [INFO] *** LOADING Z3 library failed\u001b[0m\n",
      "[2018-05-24 15:07:08,943, T+8149] \"Shell-0\" de.prob.animator.AnimatorImpl.getErrorItems(AnimatorImpl.java:107): [ERROR] Internal error: Call for event start_solving failed. init_interface(z3)\n",
      "[2018-05-24 15:07:08,945, T+8151] \"ProB Output Logger for instance 7301eebe\" de.prob.cli.ProBInstance.readAndLog(ConsoleListener.java:48): [INFO] *** error(system_error,system_error(dlopen(\"/Users/david/.prob/prob2-3.2.10-SNAPSHOT/lib/z3interface.bundle\") failed in load_foreign_resource/1: dlopen(/Users/david/.prob/prob2-3.2.10-SNAPSHOT/lib/z3interface.bundle, 2): Library not loaded: libz3.dylib\u001b[0m\n"
     ]
    },
    {
     "ename": "ProBError",
     "evalue": "ProB reported Errors\nProB returned error messages:\nInternal error: Call for event start_solving failed. init_interface(z3)",
     "output_type": "error",
     "traceback": [
      "\u001b[1m\u001b[31m---------------------------------------------------------------------------\u001b[0m",
      "\u001b[1m\u001b[31mde.prob.exception.ProBError: ProB reported Errors\u001b[0m",
      "\u001b[1m\u001b[31mProB returned error messages:\u001b[0m",
      "\u001b[1m\u001b[31mInternal error: Call for event start_solving failed. init_interface(z3)\u001b[0m",
      "\u001b[1m\u001b[31m\tat de.prob.animator.command.AbstractCommand.processErrorResult(AbstractCommand.java:137)\u001b[0m",
      "\u001b[1m\u001b[31m\tat de.prob.animator.AnimatorImpl.execute(AnimatorImpl.java:81)\u001b[0m",
      "\u001b[1m\u001b[31m\tat de.prob.statespace.StateSpace.execute(StateSpace.java:549)\u001b[0m",
      "\u001b[1m\u001b[31m\tat de.prob2.jupyter.commands.SolveCommand.run(SolveCommand.java:70)\u001b[0m",
      "\u001b[1m\u001b[31m\tat de.prob2.jupyter.ProBKernel.executeLineCommand(ProBKernel.java:118)\u001b[0m",
      "\u001b[1m\u001b[31m\tat de.prob2.jupyter.ProBKernel.eval(ProBKernel.java:142)\u001b[0m",
      "\u001b[1m\u001b[31m\tat io.github.spencerpark.jupyter.kernel.BaseKernel.handleExecuteRequest(BaseKernel.java:282)\u001b[0m",
      "\u001b[1m\u001b[31m\tat io.github.spencerpark.jupyter.channels.ShellChannel.lambda$bind$0(ShellChannel.java:50)\u001b[0m",
      "\u001b[1m\u001b[31m\tat java.lang.Thread.run(Thread.java:748)\u001b[0m",
      "\u001b[1m\u001b[31m\tat io.github.spencerpark.jupyter.channels.Loop.run(Loop.java:39)\u001b[0m"
     ]
    },
    {
     "name": "stdout",
     "output_type": "stream",
     "text": [
      "[2018-05-24 15:07:08,946, T+8152] \"ProB Output Logger for instance 7301eebe\" de.prob.cli.ProBInstance.readAndLog(ConsoleListener.java:48): [INFO]   Referenced from: /Users/david/.prob/prob2-3.2.10-SNAPSHOT/lib/z3interface.bundle\u001b[0m\n"
     ]
    }
   ],
   "source": [
    ":solve z3 xx > 2 & yy < 5 & xx < yy"
   ]
  },
  {
   "cell_type": "markdown",
   "metadata": {},
   "source": [
    "Machine variables can be used in `:solve` predicates."
   ]
  },
  {
   "cell_type": "code",
   "execution_count": 6,
   "metadata": {},
   "outputs": [
    {
     "name": "stdout",
     "output_type": "stream",
     "text": [
      "[2018-05-24 15:07:09,078, T+8284] \"Shell-0\" de.prob.cli.PrologProcessProvider.makeProcess(PrologProcessProvider.java:64): [INFO] Starting ProB's Prolog Core. Path is /Users/david/.prob/prob2-3.2.10-SNAPSHOT/probcli.sh\n",
      "[2018-05-24 15:07:10,503, T+9709] \"Shell-0\" de.prob.cli.PortPattern.setValue(PortPattern.java:30): [INFO] Server has started and listens on port 59655\n",
      "[2018-05-24 15:07:10,505, T+9711] \"Shell-0\" de.prob.cli.InterruptRefPattern.setValue(InterruptRefPattern.java:29): [INFO] Server can receive user interrupts via reference 4695\n",
      "[2018-05-24 15:07:10,517, T+9723] \"ProB Output Logger for instance 9bb8e42\" de.prob.cli.ProBInstance.readAndLog(ConsoleListener.java:48): [INFO] -- starting command loop --\u001b[0m\n",
      "[2018-05-24 15:07:10,551, T+9757] \"ProB Output Logger for instance 9bb8e42\" de.prob.cli.ProBInstance.readAndLog(ConsoleListener.java:48): [INFO] Connected: 127.0.0.1\u001b[0m\n",
      "[2018-05-24 15:07:10,878, T+10084] \"ProB Output Logger for instance 9bb8e42\" de.prob.cli.ProBInstance.readAndLog(ConsoleListener.java:48): [INFO] loading_classical_b(parser_version(2018-05-16 13:34:59.07),SolveTest,[/Users/Shared/Uni/SHK/ProB2/prob2-jupyter-kernel/notebooks/tests])\u001b[0m\n"
     ]
    },
    {
     "data": {
      "text/plain": [
       "Loaded machine: SolveTest : []\n"
      ]
     },
     "execution_count": 6,
     "metadata": {},
     "output_type": "execute_result"
    }
   ],
   "source": [
    "::load\n",
    "MACHINE SolveTest\n",
    "VARIABLES z\n",
    "INVARIANT z : MININT..MAXINT\n",
    "INITIALISATION z :: MININT..MAXINT\n",
    "END"
   ]
  },
  {
   "cell_type": "code",
   "execution_count": 7,
   "metadata": {},
   "outputs": [
    {
     "ename": "CommandExecutionException",
     "evalue": ":eval: NOT-INITIALISED",
     "output_type": "error",
     "traceback": [
      "\u001b[1m\u001b[31m:eval: NOT-INITIALISED\u001b[0m"
     ]
    }
   ],
   "source": [
    "z"
   ]
  },
  {
   "cell_type": "code",
   "execution_count": 8,
   "metadata": {},
   "outputs": [
    {
     "data": {
      "text/plain": [
       "Machine initialised using operation 0: $initialise_machine()"
      ]
     },
     "execution_count": 8,
     "metadata": {},
     "output_type": "execute_result"
    }
   ],
   "source": [
    ":init z = 2"
   ]
  },
  {
   "cell_type": "code",
   "execution_count": 9,
   "metadata": {},
   "outputs": [
    {
     "data": {
      "text/plain": [
       "2"
      ]
     },
     "execution_count": 9,
     "metadata": {},
     "output_type": "execute_result"
    }
   ],
   "source": [
    "z"
   ]
  },
  {
   "cell_type": "code",
   "execution_count": 10,
   "metadata": {},
   "outputs": [
    {
     "data": {
      "text/plain": [
       "TRUE\n",
       "\n",
       "Solution:\n",
       "\tx = 0\n",
       "\tz = 0"
      ]
     },
     "execution_count": 10,
     "metadata": {},
     "output_type": "execute_result"
    }
   ],
   "source": [
    ":solve prob x <= z & x >= z"
   ]
  }
 ],
 "metadata": {
  "kernelspec": {
   "display_name": "ProB 2",
   "language": "prob",
   "name": "prob2"
  },
  "language_info": {
   "file_extension": ".prob",
   "mimetype": "text/x-prob",
   "name": "prob"
  }
 },
 "nbformat": 4,
 "nbformat_minor": 2
}
