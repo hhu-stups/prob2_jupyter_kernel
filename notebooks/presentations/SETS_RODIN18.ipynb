{
 "cells": [
  {
   "cell_type": "markdown",
   "metadata": {
    "slideshow": {
     "slide_type": "slide"
    }
   },
   "source": [
    "# Solving (Set) Constraints in B and Event-B #\n",
    "\n",
    "## A quick Introduction to B ##"
   ]
  },
  {
   "cell_type": "markdown",
   "metadata": {
    "slideshow": {
     "slide_type": "slide"
    }
   },
   "source": [
    "### Basic Datavalues in B ###"
   ]
  },
  {
   "cell_type": "markdown",
   "metadata": {
    "slideshow": {
     "slide_type": "-"
    }
   },
   "source": [
    "B provides the booleans, strings and integers as built-in datatypes. (Strings are not available in Event-B.)"
   ]
  },
  {
   "cell_type": "code",
   "execution_count": 1,
   "metadata": {
    "slideshow": {
     "slide_type": "subslide"
    }
   },
   "outputs": [
    {
     "data": {
      "text/plain": [
       "{FALSE,TRUE}"
      ]
     },
     "execution_count": 1,
     "metadata": {},
     "output_type": "execute_result"
    }
   ],
   "source": [
    "BOOL"
   ]
  },
  {
   "cell_type": "code",
   "execution_count": 2,
   "metadata": {
    "slideshow": {
     "slide_type": "fragment"
    }
   },
   "outputs": [
    {
     "data": {
      "text/plain": [
       "\"this is a string\""
      ]
     },
     "execution_count": 2,
     "metadata": {},
     "output_type": "execute_result"
    }
   ],
   "source": [
    "\"this is a string\""
   ]
  },
  {
   "cell_type": "code",
   "execution_count": 3,
   "metadata": {
    "slideshow": {
     "slide_type": "fragment"
    }
   },
   "outputs": [
    {
     "data": {
      "text/plain": [
       "1024"
      ]
     },
     "execution_count": 3,
     "metadata": {},
     "output_type": "execute_result"
    }
   ],
   "source": [
    "1024"
   ]
  },
  {
   "cell_type": "markdown",
   "metadata": {
    "slideshow": {
     "slide_type": "subslide"
    }
   },
   "source": [
    "Users can define their own datatype in a B machine.\n",
    "One distinguishes between explicitly specified enumerated sets and deferred sets."
   ]
  },
  {
   "cell_type": "code",
   "execution_count": 14,
   "metadata": {
    "slideshow": {
     "slide_type": "-"
    }
   },
   "outputs": [
    {
     "name": "stdout",
     "output_type": "stream",
     "text": [
      "[2018-06-04 17:10:21,614, T+7877565] \"Shell-0\" de.prob.cli.PrologProcessProvider.makeProcess(PrologProcessProvider.java:64): [INFO] Starting ProB's Prolog Core. Path is /Users/leuschel/git_root/prob_prolog/probcli.sh\n",
      "[2018-06-04 17:10:22,773, T+7878724] \"Shell-0\" de.prob.cli.PortPattern.setValue(PortPattern.java:30): [INFO] Server has started and listens on port 57165\n",
      "[2018-06-04 17:10:22,774, T+7878725] \"Shell-0\" de.prob.cli.InterruptRefPattern.setValue(InterruptRefPattern.java:29): [INFO] Server can receive user interrupts via reference 52908\n",
      "[2018-06-04 17:10:22,782, T+7878733] \"ProB Output Logger for instance 17752aaa\" de.prob.cli.ProBInstance.readAndLog(ConsoleListener.java:48): [INFO] -- starting command loop --\u001b[0m\n",
      "[2018-06-04 17:10:22,792, T+7878743] \"ProB Output Logger for instance 17752aaa\" de.prob.cli.ProBInstance.readAndLog(ConsoleListener.java:48): [INFO] Connected: 127.0.0.1\u001b[0m\n"
     ]
    },
    {
     "data": {
      "text/plain": [
       "Loaded machine: MyBasicSets : []\n"
      ]
     },
     "execution_count": 14,
     "metadata": {},
     "output_type": "execute_result"
    }
   ],
   "source": [
    "::load\n",
    "MACHINE MyBasicSets\n",
    "SETS Trains = {thomas, gordon}; Points\n",
    "END"
   ]
  },
  {
   "cell_type": "code",
   "execution_count": 5,
   "metadata": {},
   "outputs": [
    {
     "data": {
      "text/plain": [
       "{thomas,gordon}"
      ]
     },
     "execution_count": 5,
     "metadata": {},
     "output_type": "execute_result"
    }
   ],
   "source": [
    "Trains"
   ]
  },
  {
   "cell_type": "markdown",
   "metadata": {
    "slideshow": {
     "slide_type": "subslide"
    }
   },
   "source": [
    "For animation and constraint solving purposes, ProB will instantiate deferred sets to some finite set (the size of which can be controlled and is partially inferred)."
   ]
  },
  {
   "cell_type": "code",
   "execution_count": 6,
   "metadata": {
    "slideshow": {
     "slide_type": "-"
    }
   },
   "outputs": [
    {
     "data": {
      "text/plain": [
       "{Points1,Points2}"
      ]
     },
     "execution_count": 6,
     "metadata": {},
     "output_type": "execute_result"
    }
   ],
   "source": [
    "Points"
   ]
  },
  {
   "cell_type": "markdown",
   "metadata": {
    "slideshow": {
     "slide_type": "slide"
    }
   },
   "source": [
    "### Pairs ###\n",
    "B also has pairs of values, which can be written in two ways:"
   ]
  },
  {
   "cell_type": "code",
   "execution_count": 7,
   "metadata": {
    "slideshow": {
     "slide_type": "fragment"
    }
   },
   "outputs": [
    {
     "data": {
      "text/plain": [
       "(thomas↦10)"
      ]
     },
     "execution_count": 7,
     "metadata": {},
     "output_type": "execute_result"
    }
   ],
   "source": [
    "(thomas,10)"
   ]
  },
  {
   "cell_type": "code",
   "execution_count": 8,
   "metadata": {
    "slideshow": {
     "slide_type": "fragment"
    }
   },
   "outputs": [
    {
     "data": {
      "text/plain": [
       "(thomas↦10)"
      ]
     },
     "execution_count": 8,
     "metadata": {},
     "output_type": "execute_result"
    }
   ],
   "source": [
    "thomas |-> 10"
   ]
  },
  {
   "cell_type": "markdown",
   "metadata": {
    "slideshow": {
     "slide_type": "fragment"
    }
   },
   "source": [
    "Tuples simply correspond to nested pairs:"
   ]
  },
  {
   "cell_type": "code",
   "execution_count": 9,
   "metadata": {},
   "outputs": [
    {
     "data": {
      "text/plain": [
       "((thomas↦gordon)↦20)"
      ]
     },
     "execution_count": 9,
     "metadata": {},
     "output_type": "execute_result"
    }
   ],
   "source": [
    "(thomas |-> gordon |-> 20)"
   ]
  },
  {
   "cell_type": "markdown",
   "metadata": {},
   "source": [
    "Classical B also provides records:"
   ]
  },
  {
   "cell_type": "code",
   "execution_count": 15,
   "metadata": {},
   "outputs": [
    {
     "data": {
      "text/plain": [
       "rec(length∈20,position∈10302,train∈thomas)"
      ]
     },
     "execution_count": 15,
     "metadata": {},
     "output_type": "execute_result"
    }
   ],
   "source": [
    "rec(train:thomas,length:20,position:10302)"
   ]
  },
  {
   "cell_type": "markdown",
   "metadata": {
    "slideshow": {
     "slide_type": "slide"
    }
   },
   "source": [
    "### Sets ###\n",
    "Sets in B can be specified in multiple ways.\n",
    "For example, using explicit enumeration:"
   ]
  },
  {
   "cell_type": "code",
   "execution_count": 10,
   "metadata": {
    "slideshow": {
     "slide_type": "fragment"
    }
   },
   "outputs": [
    {
     "data": {
      "text/plain": [
       "{1,2,3}"
      ]
     },
     "execution_count": 10,
     "metadata": {},
     "output_type": "execute_result"
    }
   ],
   "source": [
    "{1,3,2,3}"
   ]
  },
  {
   "cell_type": "markdown",
   "metadata": {
    "slideshow": {
     "slide_type": "fragment"
    }
   },
   "source": [
    "or via a predicate by using a set comprehension:"
   ]
  },
  {
   "cell_type": "code",
   "execution_count": 11,
   "metadata": {
    "slideshow": {
     "slide_type": "fragment"
    }
   },
   "outputs": [
    {
     "data": {
      "text/plain": [
       "{1,2,3}"
      ]
     },
     "execution_count": 11,
     "metadata": {},
     "output_type": "execute_result"
    }
   ],
   "source": [
    "{x|x>0 & x<4}"
   ]
  },
  {
   "cell_type": "markdown",
   "metadata": {},
   "source": [
    "One can use on of the *base sets* :"
   ]
  },
  {
   "cell_type": "code",
   "execution_count": 12,
   "metadata": {},
   "outputs": [
    {
     "data": {
      "text/plain": [
       "(((({FALSE,TRUE}↦INTEGER)↦STRING)↦{thomas,gordon})↦{Points1,Points2})"
      ]
     },
     "execution_count": 12,
     "metadata": {},
     "output_type": "execute_result"
    }
   ],
   "source": [
    "(BOOL,INTEGER,STRING,Trains,Points)"
   ]
  },
  {
   "cell_type": "markdown",
   "metadata": {
    "slideshow": {
     "slide_type": "subslide"
    }
   },
   "source": [
    "For integers there are a variety of other sets, such as intervals:"
   ]
  },
  {
   "cell_type": "code",
   "execution_count": 13,
   "metadata": {
    "slideshow": {
     "slide_type": "fragment"
    }
   },
   "outputs": [
    {
     "data": {
      "text/plain": [
       "{1,2,3}"
      ]
     },
     "execution_count": 13,
     "metadata": {},
     "output_type": "execute_result"
    }
   ],
   "source": [
    "1..3"
   ]
  },
  {
   "cell_type": "markdown",
   "metadata": {},
   "source": [
    "or the set of implementable integers INT = MININT..MAXINT or the set of implementable natural numbers NAT = 0..MAXINT."
   ]
  },
  {
   "cell_type": "markdown",
   "metadata": {
    "slideshow": {
     "slide_type": "subslide"
    }
   },
   "source": [
    "Sets can be higher-order and contain other sets:"
   ]
  },
  {
   "cell_type": "code",
   "execution_count": 14,
   "metadata": {
    "slideshow": {
     "slide_type": "fragment"
    }
   },
   "outputs": [
    {
     "data": {
      "text/plain": [
       "{{0,1},{1,2,3}}"
      ]
     },
     "execution_count": 14,
     "metadata": {},
     "output_type": "execute_result"
    }
   ],
   "source": [
    "{ 1..3,  {1,2,3,2}, 0..1, {x|x>0 & x<4} }"
   ]
  },
  {
   "cell_type": "markdown",
   "metadata": {
    "slideshow": {
     "slide_type": "fragment"
    }
   },
   "source": [
    "Relations are modelled as sets of pairs:"
   ]
  },
  {
   "cell_type": "code",
   "execution_count": 16,
   "metadata": {
    "slideshow": {
     "slide_type": "fragment"
    }
   },
   "outputs": [
    {
     "data": {
      "text/plain": [
       "{(thomas↦thomas),(thomas↦gordon),(gordon↦gordon)}"
      ]
     },
     "execution_count": 16,
     "metadata": {},
     "output_type": "execute_result"
    }
   ],
   "source": [
    "{ thomas|->gordon, gordon|->gordon, thomas|->thomas}"
   ]
  },
  {
   "cell_type": "markdown",
   "metadata": {
    "slideshow": {
     "slide_type": "fragment"
    }
   },
   "source": [
    "Note: a pair is an element of a Cartesian product, and a relation is just a subset of a Cartesian product.\n",
    "The above relation is a subset of:"
   ]
  },
  {
   "cell_type": "code",
   "execution_count": 17,
   "metadata": {},
   "outputs": [
    {
     "data": {
      "text/plain": [
       "{(thomas↦thomas),(thomas↦gordon),(gordon↦thomas),(gordon↦gordon)}"
      ]
     },
     "execution_count": 17,
     "metadata": {},
     "output_type": "execute_result"
    }
   ],
   "source": [
    "Trains * Trains"
   ]
  },
  {
   "cell_type": "markdown",
   "metadata": {
    "slideshow": {
     "slide_type": "subslide"
    }
   },
   "source": [
    "Functions are relations which map every domain element to at most one value:"
   ]
  },
  {
   "cell_type": "code",
   "execution_count": 18,
   "metadata": {},
   "outputs": [
    {
     "data": {
      "text/plain": [
       "{(thomas↦1),(gordon↦2)}"
      ]
     },
     "execution_count": 18,
     "metadata": {},
     "output_type": "execute_result"
    }
   ],
   "source": [
    "{ thomas|->1, gordon|->2}"
   ]
  },
  {
   "cell_type": "markdown",
   "metadata": {
    "slideshow": {
     "slide_type": "slide"
    }
   },
   "source": [
    "## Expressions vs Predicates vs Substitutions ##"
   ]
  },
  {
   "cell_type": "markdown",
   "metadata": {
    "slideshow": {
     "slide_type": "fragment"
    }
   },
   "source": [
    "\n",
    "### Expressions ###\n",
    "Expressions in B have a value. With ProB and with ProB's Jupyter backend, you can evaluate expresssions such as:"
   ]
  },
  {
   "cell_type": "code",
   "execution_count": 19,
   "metadata": {
    "slideshow": {
     "slide_type": "fragment"
    }
   },
   "outputs": [
    {
     "data": {
      "text/plain": [
       "10715086071862673209484250490600018105614048117055336074437503883703510511249361224931983788156958581275946729175531468251871452856923140435984577574698574803934567774824230985421074605062371141877954182153046474983581941267398767559165543946077062914571196477686542167660429831652624386837205668069376"
      ]
     },
     "execution_count": 19,
     "metadata": {},
     "output_type": "execute_result"
    }
   ],
   "source": [
    "2**1000"
   ]
  },
  {
   "cell_type": "markdown",
   "metadata": {
    "slideshow": {
     "slide_type": "subslide"
    }
   },
   "source": [
    "B provides many operators which return values, such as the usual arithmetic operators but also many operators for sets, relations and functions.\n",
    "For example set union and set difference:"
   ]
  },
  {
   "cell_type": "code",
   "execution_count": 20,
   "metadata": {},
   "outputs": [
    {
     "data": {
      "text/plain": [
       "{1,7,8,9,10}"
      ]
     },
     "execution_count": 20,
     "metadata": {},
     "output_type": "execute_result"
    }
   ],
   "source": [
    "(1..3 \\/ 5..10) \\ (2..6)"
   ]
  },
  {
   "cell_type": "code",
   "execution_count": 21,
   "metadata": {
    "slideshow": {
     "slide_type": "fragment"
    }
   },
   "outputs": [
    {
     "data": {
      "text/plain": [
       "{1,7,8,9,10}"
      ]
     },
     "execution_count": 21,
     "metadata": {},
     "output_type": "execute_result"
    }
   ],
   "source": [
    "(1..3 ∪ 5..10) \\ (2..6)"
   ]
  },
  {
   "cell_type": "markdown",
   "metadata": {},
   "source": [
    "The range of a relation or function:"
   ]
  },
  {
   "cell_type": "code",
   "execution_count": 22,
   "metadata": {
    "slideshow": {
     "slide_type": "fragment"
    }
   },
   "outputs": [
    {
     "data": {
      "text/plain": [
       "{1,2}"
      ]
     },
     "execution_count": 22,
     "metadata": {},
     "output_type": "execute_result"
    }
   ],
   "source": [
    "ran({(thomas↦1),(gordon↦2)})"
   ]
  },
  {
   "cell_type": "markdown",
   "metadata": {
    "slideshow": {
     "slide_type": "subslide"
    }
   },
   "source": [
    "Function application:"
   ]
  },
  {
   "cell_type": "code",
   "execution_count": null,
   "metadata": {
    "slideshow": {
     "slide_type": "fragment"
    }
   },
   "outputs": [],
   "source": [
    "{(thomas↦1),(gordon↦2)} (thomas)"
   ]
  },
  {
   "cell_type": "markdown",
   "metadata": {
    "slideshow": {
     "slide_type": "fragment"
    }
   },
   "source": [
    "Relational inverse (.~) and relational image .[.] :"
   ]
  },
  {
   "cell_type": "code",
   "execution_count": null,
   "metadata": {
    "slideshow": {
     "slide_type": "fragment"
    }
   },
   "outputs": [],
   "source": [
    "{(thomas↦1),(gordon↦2)}~[2..3]"
   ]
  },
  {
   "cell_type": "markdown",
   "metadata": {
    "slideshow": {
     "slide_type": "slide"
    }
   },
   "source": [
    "## Predicates\n",
    "ProB can also be used to evaluate predicates (B distinguishes between expressions which have a value and predicates which are either true or false)."
   ]
  },
  {
   "cell_type": "code",
   "execution_count": 23,
   "metadata": {
    "slideshow": {
     "slide_type": "fragment"
    }
   },
   "outputs": [
    {
     "data": {
      "text/plain": [
       "FALSE"
      ]
     },
     "execution_count": 23,
     "metadata": {},
     "output_type": "execute_result"
    }
   ],
   "source": [
    "2>3"
   ]
  },
  {
   "cell_type": "code",
   "execution_count": 24,
   "metadata": {
    "slideshow": {
     "slide_type": "fragment"
    }
   },
   "outputs": [
    {
     "data": {
      "text/plain": [
       "TRUE"
      ]
     },
     "execution_count": 24,
     "metadata": {},
     "output_type": "execute_result"
    }
   ],
   "source": [
    "3>2"
   ]
  },
  {
   "cell_type": "markdown",
   "metadata": {
    "slideshow": {
     "slide_type": "subslide"
    }
   },
   "source": [
    "Within predicates you can use **open** variables, which are implicitly existentially quantified.\n",
    "ProB will display the solution for the open variables, if possible."
   ]
  },
  {
   "cell_type": "code",
   "execution_count": 25,
   "metadata": {
    "slideshow": {
     "slide_type": "fragment"
    }
   },
   "outputs": [
    {
     "data": {
      "text/plain": [
       "TRUE\n",
       "\n",
       "Solution:\n",
       "\tx = −10"
      ]
     },
     "execution_count": 25,
     "metadata": {},
     "output_type": "execute_result"
    }
   ],
   "source": [
    "x*x=100"
   ]
  },
  {
   "cell_type": "markdown",
   "metadata": {
    "slideshow": {
     "slide_type": "fragment"
    }
   },
   "source": [
    "We can find all solutions to a predicate by using the set comprehension notation.\n",
    "Note that by this we turn a predicate into an expression."
   ]
  },
  {
   "cell_type": "code",
   "execution_count": 26,
   "metadata": {
    "slideshow": {
     "slide_type": "fragment"
    }
   },
   "outputs": [
    {
     "data": {
      "text/plain": [
       "{−10,10}"
      ]
     },
     "execution_count": 26,
     "metadata": {},
     "output_type": "execute_result"
    }
   ],
   "source": [
    "{x|x*x=100}"
   ]
  },
  {
   "cell_type": "markdown",
   "metadata": {
    "slideshow": {
     "slide_type": "slide"
    }
   },
   "source": [
    "### Substitutions ###\n",
    "B also has a rich syntax for substitutions, aka statements.\n",
    "For example ```x := x+1``` increments the value of x by 1.\n",
    "We will not talk about substitutions in the rest of this presentation.\n",
    "The major differences between classical B and Event-B lie in the area of substitutions, machine composition and refinement."
   ]
  },
  {
   "cell_type": "markdown",
   "metadata": {
    "slideshow": {
     "slide_type": "slide"
    }
   },
   "source": [
    "## Definition of Constraint Solving ##\n",
    "\n",
    "Constraint solving is determine whether a predicate with open/existentially quantified variables is satisfiable and providing values for the open variables in case it is.\n",
    "We have already solved the predicate ```x*x=100``` above, yielding the solution ```x=-10```.\n",
    "The following is an unsatisfiable predicate:"
   ]
  },
  {
   "cell_type": "code",
   "execution_count": 27,
   "metadata": {
    "slideshow": {
     "slide_type": "fragment"
    }
   },
   "outputs": [
    {
     "data": {
      "text/plain": [
       "FALSE"
      ]
     },
     "execution_count": 27,
     "metadata": {},
     "output_type": "execute_result"
    }
   ],
   "source": [
    "x*x=1000"
   ]
  },
  {
   "cell_type": "markdown",
   "metadata": {},
   "source": [
    "The difference to **proof** is that in constraint solving one has to produce a solution (aka a model). The difference to **execution** is that not all variables are known."
   ]
  },
  {
   "cell_type": "markdown",
   "metadata": {
    "slideshow": {
     "slide_type": "slide"
    }
   },
   "source": [
    "## Constraint Solving Applications ##\n",
    "Constraint solving has many applications in formal methods in general and B in particular.\n",
    "\n"
   ]
  },
  {
   "cell_type": "markdown",
   "metadata": {
    "slideshow": {
     "slide_type": "subslide"
    }
   },
   "source": [
    "#### Animation ####\n",
    "It is required to animate implicit specifications.\n",
    "Take for example an event\n",
    "```\n",
    "train_catches_up = any t1,t2,x where t1:dom(train_position) & t2:dom(train_position) &\n",
    "                                     train_position(t1) < train_position(t2) &\n",
    "                                     x:1..(train_position(t2)-train_position(t1)-1) then\n",
    "                         train_position(t1) := train_position(t1)+x end\n",
    "```\n",
    "To determine whether the event is enabled, and to obtain values for the parameters of the event in a given state of the model, we have to solve the following constraint:"
   ]
  },
  {
   "cell_type": "code",
   "execution_count": 28,
   "metadata": {},
   "outputs": [
    {
     "data": {
      "text/plain": [
       "TRUE\n",
       "\n",
       "Solution:\n",
       "\tx = 1\n",
       "\ttrain_position = {(thomas↦100),(gordon↦2020)}\n",
       "\tt1 = thomas\n",
       "\tt2 = gordon"
      ]
     },
     "execution_count": 28,
     "metadata": {},
     "output_type": "execute_result"
    }
   ],
   "source": [
    "train_position = {thomas|->100, gordon|->2020} &\n",
    "t1:dom(train_position) & t2:dom(train_position) & train_position(t1) < train_position(t2) &\n",
    "x:1..(train_position(t2)-train_position(t1)-1)"
   ]
  },
  {
   "cell_type": "code",
   "execution_count": 29,
   "metadata": {},
   "outputs": [
    {
     "data": {
      "text/plain": [
       "FALSE"
      ]
     },
     "execution_count": 29,
     "metadata": {},
     "output_type": "execute_result"
    }
   ],
   "source": [
    "train_position = {thomas|->2019, gordon|->2020} &\n",
    "t1:dom(train_position) & t2:dom(train_position) & train_position(t1) < train_position(t2) &\n",
    "x:1..(train_position(t2)-train_position(t1)-1)"
   ]
  },
  {
   "cell_type": "markdown",
   "metadata": {
    "slideshow": {
     "slide_type": "subslide"
    }
   },
   "source": [
    "#### Feasibility Analysis ####\n",
    "Suppose that we have the invariant, ```train_position:TRAINS-->1..10000``` we can check whether the event is **feasible** in at least one valid state by solving:"
   ]
  },
  {
   "cell_type": "code",
   "execution_count": 30,
   "metadata": {},
   "outputs": [
    {
     "data": {
      "text/plain": [
       "TRUE\n",
       "\n",
       "Solution:\n",
       "\tx = 1\n",
       "\ttrain_position = {(thomas↦1),(gordon↦3)}\n",
       "\tt1 = thomas\n",
       "\tt2 = gordon"
      ]
     },
     "execution_count": 30,
     "metadata": {},
     "output_type": "execute_result"
    }
   ],
   "source": [
    "train_position:Trains-->1..10000 &\n",
    "t1:dom(train_position) & t2:dom(train_position) & train_position(t1) < train_position(t2) &\n",
    "x:1..(train_position(t2)-train_position(t1)-1)"
   ]
  },
  {
   "cell_type": "markdown",
   "metadata": {
    "slideshow": {
     "slide_type": "subslide"
    }
   },
   "source": [
    "Many other applications exist: generating **testcases**, finding counter examples using **bounded model checking** or other algorithms like IC3.\n",
    "Other applications are analysing **proof obligations**.\n",
    "Take the proof obligation for an event theorem t1 $/=$ t2:\n",
    "```\n",
    "train_position:Trains-->1..10000 & train_position(t1) < train_position(t2) |- t1 /= t2\n",
    "```\n",
    "We can find counter examples to it by negating the proof goal:"
   ]
  },
  {
   "cell_type": "code",
   "execution_count": 31,
   "metadata": {},
   "outputs": [
    {
     "data": {
      "text/plain": [
       "FALSE"
      ]
     },
     "execution_count": 31,
     "metadata": {},
     "output_type": "execute_result"
    }
   ],
   "source": [
    "train_position:Trains-->1..10000 & train_position(t1) < train_position(t2) & not( t1 /= t2 )"
   ]
  },
  {
   "cell_type": "markdown",
   "metadata": {},
   "source": [
    "As no counter example has been found, we can in this case establish the goal to be proven."
   ]
  },
  {
   "cell_type": "markdown",
   "metadata": {
    "slideshow": {
     "slide_type": "subslide"
    }
   },
   "source": [
    "#### Modelling and Solving Problems in B ####\n",
    "\n",
    "Obviously, we can also use constraint solving to solve puzzles or real-life problems.\n",
    "#### Send More Money Puzzle ####\n",
    "We now try and solve the SEND+MORE=MONEY arithmetic puzzle in B, involving 8 distinct digits:"
   ]
  },
  {
   "cell_type": "code",
   "execution_count": 32,
   "metadata": {
    "slideshow": {
     "slide_type": "skip"
    }
   },
   "outputs": [
    {
     "data": {
      "text/latex": [
       "$\\{\\mathit{S},\\mathit{E},\\mathit{N},\\mathit{D},\\mathit{M},\\mathit{O},\\mathit{R},\\mathit{Y}\\} \\subseteq  0 .. 9 \\wedge  \\mathit{S} > 0 \\wedge  \\mathit{M} > 0 \\wedge  \\mathit{card}(\\{\\mathit{S},\\mathit{E},\\mathit{N},\\mathit{D},\\mathit{M},\\mathit{O},\\mathit{R},\\mathit{Y}\\}) = 8 \\wedge  \\mathit{S} * 1000 + \\mathit{E} * 100 + \\mathit{N} * 10 + \\mathit{D} + \\mathit{M} * 1000 + \\mathit{O} * 100 + \\mathit{R} * 10 + \\mathit{E} = \\mathit{M} * 10000 + \\mathit{O} * 1000 + \\mathit{N} * 100 + \\mathit{E} * 10 + \\mathit{Y}$"
      ],
      "text/plain": [
       "{S,E,N,D,M,O,R,Y} ⊆ 0 ‥ 9 ∧ S > 0 ∧ M > 0 ∧ card({S,E,N,D,M,O,R,Y}) = 8 ∧ S * 1000 + E * 100 + N * 10 + D + M * 1000 + O * 100 + R * 10 + E = M * 10000 + O * 1000 + N * 100 + E * 10 + Y"
      ]
     },
     "execution_count": 32,
     "metadata": {},
     "output_type": "execute_result"
    }
   ],
   "source": [
    ":prettyprint {S,E,N,D, M,O,R, Y} <: 0..9 & S >0 & M >0 & card({S,E,N,D, M,O,R, Y}) = 8 & \n",
    "   S*1000 + E*100 + N*10 + D + M*1000 + O*100 + R*10 + E = M*10000 + O*1000 + N*100 + E*10 + Y"
   ]
  },
  {
   "cell_type": "code",
   "execution_count": 16,
   "metadata": {},
   "outputs": [
    {
     "data": {
      "text/plain": [
       "TRUE\n",
       "\n",
       "Solution:\n",
       "\tR = 8\n",
       "\tS = 9\n",
       "\tD = 7\n",
       "\tE = 5\n",
       "\tY = 2\n",
       "\tM = 1\n",
       "\tN = 6\n",
       "\tO = 0"
      ]
     },
     "execution_count": 16,
     "metadata": {},
     "output_type": "execute_result"
    }
   ],
   "source": [
    "{S,E,N,D, M,O,R, Y} ⊆ 0..9 & S >0 & M >0 & \n",
    "   card({S,E,N,D, M,O,R, Y}) = 8 & \n",
    "   S*1000 + E*100 + N*10 + D +\n",
    "   M*1000 + O*100 + R*10 + E =\n",
    "  M*10000 + O*1000 + N*100 + E*10 + Y"
   ]
  },
  {
   "cell_type": "markdown",
   "metadata": {
    "slideshow": {
     "slide_type": "subslide"
    }
   },
   "source": [
    "We can find all solutions (to the unmodified puzzle) using a set comprehension and make sure that there is just a single soltuion:"
   ]
  },
  {
   "cell_type": "code",
   "execution_count": 34,
   "metadata": {},
   "outputs": [
    {
     "data": {
      "text/plain": [
       "{(((((((9↦5)↦6)↦7)↦1)↦0)↦8)↦2)}"
      ]
     },
     "execution_count": 34,
     "metadata": {},
     "output_type": "execute_result"
    }
   ],
   "source": [
    "  {S,E,N,D, M,O,R, Y |\n",
    "   {S,E,N,D, M,O,R, Y} <: 0..9 &  S >0 & M >0 & \n",
    "   card({S,E,N,D, M,O,R, Y}) = 8 & \n",
    "   S*1000 + E*100 + N*10 + D +\n",
    "   M*1000 + O*100 + R*10 + E =\n",
    "   M*10000 + O*1000 + N*100 + E*10 + Y }"
   ]
  },
  {
   "cell_type": "code",
   "execution_count": 15,
   "metadata": {},
   "outputs": [
    {
     "data": {
      "text/markdown": [
       "|Nr|S|E|N|D|M|O|R|Y|\n",
       "|---|---|---|---|---|---|---|---|---|\n",
       "|1|9|5|6|7|1|0|8|2|\n"
      ],
      "text/plain": [
       "Nr\tS\tE\tN\tD\tM\tO\tR\tY\n",
       "1\t9\t5\t6\t7\t1\t0\t8\t2\n"
      ]
     },
     "execution_count": 15,
     "metadata": {},
     "output_type": "execute_result"
    }
   ],
   "source": [
    ":table   {S,E,N,D, M,O,R, Y |\n",
    "   {S,E,N,D, M,O,R, Y} <: 0..9 &  S >0 & M >0 & \n",
    "   card({S,E,N,D, M,O,R, Y}) = 8 & \n",
    "   S*1000 + E*100 + N*10 + D +\n",
    "   M*1000 + O*100 + R*10 + E =\n",
    "   M*10000 + O*1000 + N*100 + E*10 + Y }"
   ]
  },
  {
   "cell_type": "markdown",
   "metadata": {
    "slideshow": {
     "slide_type": "subslide"
    }
   },
   "source": [
    "#### KISS PASSION Puzzle####\n",
    "A slightly more complicated puzzle (involving multiplication) is the KISS * KISS = PASSION problem."
   ]
  },
  {
   "cell_type": "code",
   "execution_count": 35,
   "metadata": {},
   "outputs": [
    {
     "data": {
      "text/plain": [
       "TRUE\n",
       "\n",
       "Solution:\n",
       "\tP = 4\n",
       "\tA = 1\n",
       "\tS = 3\n",
       "\tI = 0\n",
       "\tK = 2\n",
       "\tN = 9\n",
       "\tO = 8"
      ]
     },
     "execution_count": 35,
     "metadata": {},
     "output_type": "execute_result"
    }
   ],
   "source": [
    "   {K,P} <: 1..9 &\n",
    "    {I,S,A,O,N} <: 0..9 &\n",
    "    (1000*K+100*I+10*S+S) * (1000*K+100*I+10*S+S) \n",
    "     =  1000000*P+100000*A+10000*S+1000*S+100*I+10*O+N &\n",
    "    card({K, I, S, P, A, O, N}) = 7"
   ]
  },
  {
   "cell_type": "markdown",
   "metadata": {
    "slideshow": {
     "slide_type": "subslide"
    }
   },
   "source": [
    "Finally, a simple puzzle involving sets is to find a subset of numbers from 1..5 whose sum is 14:"
   ]
  },
  {
   "cell_type": "code",
   "execution_count": 36,
   "metadata": {},
   "outputs": [
    {
     "data": {
      "text/plain": [
       "TRUE\n",
       "\n",
       "Solution:\n",
       "\tx = {2,3,4,5}"
      ]
     },
     "execution_count": 36,
     "metadata": {},
     "output_type": "execute_result"
    }
   ],
   "source": [
    "x <: 1..5 & SIGMA(y).(y:x|y)=14"
   ]
  },
  {
   "cell_type": "markdown",
   "metadata": {
    "slideshow": {
     "slide_type": "slide"
    }
   },
   "source": [
    "## How to solve (set) constraints in B ##\n",
    "\n",
    "We will now examine how one can perform constraint solving for B."
   ]
  },
  {
   "cell_type": "markdown",
   "metadata": {
    "slideshow": {
     "slide_type": "subslide"
    }
   },
   "source": [
    "### Booleans ###\n",
    "\n",
    "If we have only booleans, constraint solving is equivalent to SAT solving.\n",
    "Internally, ProB has an interpreter which does **not** translate to CNF (conjunctive normal form), but is otherwise similar to DPLL: deterministic propagations are carried out first (unit propagation) and there are heuristics to choose the next boolean variable to enumerate.\n",
    "(We do not translate to CNF also because of well-definedness issues.)\n"
   ]
  },
  {
   "cell_type": "markdown",
   "metadata": {
    "slideshow": {
     "slide_type": "subslide"
    }
   },
   "source": [
    "\n",
    "#### Knights and Knave Puzzle####\n",
    "Here is a puzzle from Smullyan involving an island with only knights and knaves.\n",
    "We know that:\n",
    " - Knights: always tell the truth\n",
    " - Knaves: always lie\n",
    "\n",
    "We are given the following information about three persons A,B,C on the island:\n",
    " 1. A says: “B is a knave or C is a knave”\n",
    " 2. B says “A is a knight”\n",
    "\n",
    "What are A, B and C?\n",
    "Note: we model A,B,C as boolean variables which are equal to TRUE if they are a knight and FALSE if they are a knave."
   ]
  },
  {
   "cell_type": "code",
   "execution_count": 37,
   "metadata": {
    "slideshow": {
     "slide_type": "fragment"
    }
   },
   "outputs": [
    {
     "data": {
      "text/plain": [
       "TRUE\n",
       "\n",
       "Solution:\n",
       "\tA = TRUE\n",
       "\tB = TRUE\n",
       "\tC = FALSE"
      ]
     },
     "execution_count": 37,
     "metadata": {},
     "output_type": "execute_result"
    }
   ],
   "source": [
    " (A=TRUE <=> (B=FALSE or C=FALSE)) & // Sentence 1\n",
    " (B=TRUE <=> A=TRUE) // Sentence 2"
   ]
  },
  {
   "cell_type": "markdown",
   "metadata": {
    "slideshow": {
     "slide_type": "slide"
    }
   },
   "source": [
    "### Integers ###\n",
    "\n",
    "Let us take the integer constraint ```x*x=100``` which we saw earlier.\n",
    "This constraint is actually more complicated than might appear at first sight: the constraint is not linear and the domain of x is not bounded. Indeed, B supports mathematical integers without any bit size restriction.\n",
    "So, let us first look at some simpler constraints, where the domains of the variables are all bounded."
   ]
  },
  {
   "cell_type": "markdown",
   "metadata": {
    "slideshow": {
     "slide_type": "subslide"
    }
   },
   "source": [
    "Let us look at the simple constraint ```X:0..3 & Y:0..3 & X+Y=2```.\n",
    "As you can see there are three solutions for this constraint:\n"
   ]
  },
  {
   "cell_type": "code",
   "execution_count": 39,
   "metadata": {},
   "outputs": [
    {
     "data": {
      "text/plain": [
       "{(0↦2),(1↦1),(2↦0)}"
      ]
     },
     "execution_count": 39,
     "metadata": {},
     "output_type": "execute_result"
    }
   ],
   "source": [
    "{X,Y|X:0..3 & Y:0..3 & X+Y=2}"
   ]
  },
  {
   "cell_type": "markdown",
   "metadata": {},
   "source": [
    "We will now study how such constraints can be solved."
   ]
  },
  {
   "cell_type": "markdown",
   "metadata": {
    "slideshow": {
     "slide_type": "slide"
    }
   },
   "source": [
    "#### Solving constraints by translating to SAT ####\n",
    "Given that we know the *domain* of X and Y in the constraint ``` X:0..3 & Y:0..3 & X+Y=2```, we can represent the integers by binary numbers and convert the constraint to a **SAT** problem.\n",
    "The number 2 is ```10``` in binary and we can represent X and Y each by two bits X0,X1 and Y0,Y1.\n",
    "We can translate the addition to a propositional logic formula:\n",
    "\n",
    "Bit1 | Bit0\n",
    "-----|-----\n",
    "   X1  |  X0\n",
    " + Y1  |  Y0\n",
    "     |\n",
    " Z1  |  Z0\n",
    " \n",
    "Let us find one solution to this constraint, by encoding addition using an additional carry bit ```CARRY0```:"
   ]
  },
  {
   "cell_type": "code",
   "execution_count": 40,
   "metadata": {},
   "outputs": [
    {
     "data": {
      "text/plain": [
       "TRUE\n",
       "\n",
       "Solution:\n",
       "\tZ0 = FALSE\n",
       "\tY0 = TRUE\n",
       "\tZ1 = TRUE\n",
       "\tX0 = TRUE\n",
       "\tY1 = TRUE\n",
       "\tX1 = TRUE\n",
       "\tCARRY0 = TRUE"
      ]
     },
     "execution_count": 40,
     "metadata": {},
     "output_type": "execute_result"
    }
   ],
   "source": [
    " ((X0=TRUE <=> Y0=TRUE) <=> Z0=FALSE) & \n",
    " ((X0=TRUE & Y0=TRUE) <=> CARRY0=TRUE) & \n",
    " (CARRY0=FALSE => ((X1=TRUE <=> Y1=TRUE) <=> Z1=FALSE)) &\n",
    " (CARRY0=TRUE => ((X1=TRUE <=> Y1=TRUE) <=> Z1=TRUE)) &\n",
    " Z0=FALSE & Z1=TRUE"
   ]
  },
  {
   "cell_type": "code",
   "execution_count": 41,
   "metadata": {
    "slideshow": {
     "slide_type": "subslide"
    }
   },
   "outputs": [
    {
     "data": {
      "text/plain": [
       "{((((((FALSE↦FALSE)↦FALSE)↦TRUE)↦FALSE)↦TRUE)↦FALSE),((((((FALSE↦TRUE)↦FALSE)↦FALSE)↦FALSE)↦TRUE)↦FALSE),((((((TRUE↦FALSE)↦TRUE)↦FALSE)↦FALSE)↦TRUE)↦TRUE),((((((TRUE↦TRUE)↦TRUE)↦TRUE)↦FALSE)↦TRUE)↦TRUE)}"
      ]
     },
     "execution_count": 41,
     "metadata": {},
     "output_type": "execute_result"
    }
   ],
   "source": [
    "{X0,X1,Y0,Y1,Z0,Z1,CARRY0 | ((X0=TRUE <=> Y0=TRUE) <=> Z0=FALSE) & \n",
    "   ((X0=TRUE & Y0=TRUE) <=> CARRY0=TRUE) & \n",
    "   (CARRY0=FALSE => ((X1=TRUE <=> Y1=TRUE) <=> Z1=FALSE)) & \n",
    "   (CARRY0=TRUE => ((X1=TRUE <=> Y1=TRUE) <=> Z1=TRUE)) &\n",
    "    Z0=FALSE & Z1=TRUE}"
   ]
  },
  {
   "cell_type": "markdown",
   "metadata": {},
   "source": [
    "As you can see, we have found four solutions and not three! One solution is 3+3=2.\n",
    "This is a typical issue when translating arithmetic to binary numbers: we have to prevent overflows, which we do below:"
   ]
  },
  {
   "cell_type": "code",
   "execution_count": 42,
   "metadata": {
    "slideshow": {
     "slide_type": "fragment"
    }
   },
   "outputs": [
    {
     "data": {
      "text/plain": [
       "{((((((FALSE↦FALSE)↦FALSE)↦TRUE)↦FALSE)↦TRUE)↦FALSE),((((((FALSE↦TRUE)↦FALSE)↦FALSE)↦FALSE)↦TRUE)↦FALSE),((((((TRUE↦FALSE)↦TRUE)↦FALSE)↦FALSE)↦TRUE)↦TRUE)}"
      ]
     },
     "execution_count": 42,
     "metadata": {},
     "output_type": "execute_result"
    }
   ],
   "source": [
    "{X0,X1,Y0,Y1,Z0,Z1,CARRY0 | ((X0=TRUE <=> Y0=TRUE) <=> Z0=FALSE) & \n",
    "   ((X0=TRUE & Y0=TRUE) <=> CARRY0=TRUE) & \n",
    "   (CARRY0=FALSE => ((X1=TRUE <=> Y1=TRUE) <=> Z1=FALSE)) & \n",
    "   (CARRY0=TRUE => ((X1=TRUE <=> Y1=TRUE) <=> Z1=TRUE)) &\n",
    "   (CARRY0=TRUE => (X1=FALSE & Y1=FALSE)) & // no overflow\n",
    "   (CARRY0=FALSE => (X1=FALSE or Y1=FALSE)) & // no overflow\n",
    "    Z0=FALSE & Z1=TRUE}"
   ]
  },
  {
   "cell_type": "markdown",
   "metadata": {
    "slideshow": {
     "slide_type": "subslide"
    }
   },
   "source": [
    "In ProB, we can use **Kodkod** backend to achieve such a translation to SAT.\n",
    "- Kodkod (https://github.com/emina/kodkod) is the API to the **Alloy** (http://alloytools.org) constraint analyzer and takes relational logic predicates and translates them to SAT.\n",
    "- The SAT problem can be solved by any SAT solver (Sat4J, minisat, glucose,...).\n",
    "- ProB translates parts of B to the Kodkod API and translates the results back to B values.\n",
    "- Prior to the translation, ProB performs an interval analysis to determine possible ranges for the integer decision variables.\n",
    "\n",
    "The details were presented at FM'2012 (Plagge, L.).\n",
    "\n",
    "![ProBKodkod](./img/ProB_Kodkod_Architecture.png)"
   ]
  },
  {
   "cell_type": "code",
   "execution_count": 43,
   "metadata": {
    "slideshow": {
     "slide_type": "subslide"
    }
   },
   "outputs": [
    {
     "name": "stdout",
     "output_type": "stream",
     "text": [
      "[2018-06-04 14:01:28,941, T+458790] \"ProB Output Logger for instance 1ede3ed1\" de.prob.cli.ProBInstance.readAndLog(ConsoleListener.java:48): [INFO] kodkod ok:   x : 0 .. 2 & y : 0 .. 2 & x + y = 2  ints: irange(0,4), intatoms: none\u001b[0m\n",
      "[2018-06-04 14:01:28,941, T+458790] \"ProB Output Logger for instance 1ede3ed1\" de.prob.cli.ProBInstance.readAndLog(ConsoleListener.java:48): [INFO] Kodkod module started up successfully (SAT solver SAT4J with timeout of 1500 ms).\u001b[0m\n",
      "[2018-06-04 14:01:28,942, T+458791] \"ProB Output Logger for instance 1ede3ed1\" de.prob.cli.ProBInstance.readAndLog(ConsoleListener.java:48): [INFO] Times for computing solutions: [2,5,2]\u001b[0m\n"
     ]
    },
    {
     "data": {
      "text/plain": [
       "TRUE\n",
       "\n",
       "Solution:\n",
       "\tx = 2\n",
       "\ty = 0"
      ]
     },
     "execution_count": 43,
     "metadata": {},
     "output_type": "execute_result"
    }
   ],
   "source": [
    ":solve kodkod x:0..2 & y:0..2 & x+y=2"
   ]
  },
  {
   "cell_type": "markdown",
   "metadata": {},
   "source": [
    "We can find all solutions and check that we find exactly the three expected solutions:"
   ]
  },
  {
   "cell_type": "code",
   "execution_count": 44,
   "metadata": {
    "slideshow": {
     "slide_type": "fragment"
    }
   },
   "outputs": [
    {
     "name": "stdout",
     "output_type": "stream",
     "text": [
      "[2018-06-04 14:01:31,052, T+460901] \"ProB Output Logger for instance 1ede3ed1\" de.prob.cli.ProBInstance.readAndLog(ConsoleListener.java:48): [INFO] kodkod ok:   {x,y|x : 0 .. 2 & y : 0 .. 2 & x + y = 2} = res  ints: irange(0,4), intatoms: irange(0,2)\u001b[0m\n",
      "[2018-06-04 14:01:31,054, T+460903] \"ProB Output Logger for instance 1ede3ed1\" de.prob.cli.ProBInstance.readAndLog(ConsoleListener.java:48): [INFO] Times for computing solutions: [1]\u001b[0m\n"
     ]
    },
    {
     "data": {
      "text/plain": [
       "TRUE\n",
       "\n",
       "Solution:\n",
       "\tres = {(0↦2),(1↦1),(2↦0)}"
      ]
     },
     "execution_count": 44,
     "metadata": {},
     "output_type": "execute_result"
    }
   ],
   "source": [
    ":solve kodkod {x,y|x:0..2 & y:0..2 & x+y=2}=res"
   ]
  },
  {
   "cell_type": "markdown",
   "metadata": {
    "slideshow": {
     "slide_type": "slide"
    }
   },
   "source": [
    "#### Translation to SMTLib ####\n",
    "At iFM'2016 we (Krings, L.) presented a translation to SMTLib format to use either the **Z3** or **CVC4** SMT solver.\n",
    "Compared to the Kodkod backend, no translation to SAT is performed, SMTLib supports **integer** predicates and integer operators in the language.\n",
    "\n",
    "![ProBZ3](./img/inputoutputflow.pdf)\n"
   ]
  },
  {
   "cell_type": "markdown",
   "metadata": {
    "slideshow": {
     "slide_type": "subslide"
    }
   },
   "source": [
    "Here is ProB's SMTLib/Z3 API calls for the constraint ``` X:0..3 & Y:0..3 & X+Y=2```:\n",
    "- mk_var(integer,x) $\\rightarrow$ 2\n",
    "- mk_var(integer,y) $\\rightarrow$ 3\n",
    "- mk_int_const(0) $\\rightarrow$ 4\n",
    "- mk_op(greater_equal,2,4) $\\rightarrow$ 5\n",
    "- mk_int_const(2) $\\rightarrow$ 6\n",
    "- mk_op(greater_equal,6,2) $\\rightarrow$ 7\n",
    "- mk_int_const(0) $\\rightarrow$ 8\n",
    "- mk_op(greater_equal,3,8) $\\rightarrow$ 9\n",
    "- mk_int_const(2) $\\rightarrow$ 10\n",
    "- mk_op(greater_equal,10,3) $\\rightarrow$ 11\n",
    "- mk_op(add,2,3) $\\rightarrow$ 12\n",
    "- mk_int_const(2) $\\rightarrow$ 13\n",
    "- mk_op(equal,12,13) $\\rightarrow$ 14\n",
    "- mk_op_arglist(conjunct,[5,7,9,11,14]) $\\rightarrow$ 15"
   ]
  },
  {
   "cell_type": "code",
   "execution_count": 45,
   "metadata": {},
   "outputs": [
    {
     "data": {
      "text/plain": [
       "TRUE\n",
       "\n",
       "Solution:\n",
       "\tx = 0\n",
       "\ty = 2"
      ]
     },
     "execution_count": 45,
     "metadata": {},
     "output_type": "execute_result"
    }
   ],
   "source": [
    ":solve z3 x:0..2 & y:0..2 & x+y=2"
   ]
  },
  {
   "cell_type": "markdown",
   "metadata": {
    "slideshow": {
     "slide_type": "slide"
    }
   },
   "source": [
    "#### ProB's CLP(FD) Solver ####\n",
    "ProB's default solver makes use of constraint logic programming.\n",
    "For arithmetic, it builts on top of CLP(FD), the finite domain library of SICStus Prolog.\n",
    "In CLP(FD):\n",
    "- every integer variable is associated with a domain of possible values, typically an interval\n",
    "- when adding a new constraints, the domains of the involved variables are updated, or more precisely narrowed down.\n",
    "- at some point we need to chose variables for enumeration; typically ProB chooses the value with the smallest domain.\n",
    "\n",
    "Let us use a slightly adapted constraint ```x:0..9 & y:0..9 & x+y=2``` to illustrate how constraint processing works:\n",
    "\n",
    "- x:0..9 $\\leadsto$ x:0..9, y:$-\\infty$..$\\infty$\n",
    "- y:0..9 $\\leadsto$ x:0..9, y:0..9\n",
    "- x+y=2 $\\leadsto$ x:0..2, y:0..2\n",
    "- Enumerate (label) variable x\n",
    " - x=0 $\\leadsto$ x:0..0, y:2..2\n",
    " - x=1 $\\leadsto$ x:1..1, y:1..1\n",
    " - x=2 $\\leadsto$ x:2..2, y:0..0"
   ]
  },
  {
   "cell_type": "markdown",
   "metadata": {
    "slideshow": {
     "slide_type": "subslide"
    }
   },
   "source": [
    "Let us now examine the three approaches for the KISS-PASSION puzzle:"
   ]
  },
  {
   "cell_type": "code",
   "execution_count": 17,
   "metadata": {},
   "outputs": [
    {
     "data": {
      "text/markdown": [
       "Execution time: 0.050491290 seconds"
      ],
      "text/plain": [
       "Execution time: 0.050491290 seconds"
      ]
     },
     "metadata": {},
     "output_type": "display_data"
    },
    {
     "data": {
      "text/plain": [
       "TRUE\n",
       "\n",
       "Solution:\n",
       "\tP = 4\n",
       "\tA = 1\n",
       "\tS = 3\n",
       "\tI = 0\n",
       "\tK = 2\n",
       "\tN = 9\n",
       "\tO = 8"
      ]
     },
     "execution_count": 17,
     "metadata": {},
     "output_type": "execute_result"
    }
   ],
   "source": [
    ":time :solve prob {K,P} <: 1..9 & {I,S,A,O,N} <: 0..9 & (1000*K+100*I+10*S+S) * (1000*K+100*I+10*S+S)  =  1000000*P+100000*A+10000*S+1000*S+100*I+10*O+N & card({K, I, S, P, A, O, N}) = 7"
   ]
  },
  {
   "cell_type": "code",
   "execution_count": 18,
   "metadata": {
    "slideshow": {
     "slide_type": "subslide"
    }
   },
   "outputs": [
    {
     "ename": "CommandExecutionException",
     "evalue": ":time: :solve: Computation not completed: no solution found (but one might exist)",
     "output_type": "error",
     "traceback": [
      "\u001b[1m\u001b[31m:time: :solve: Computation not completed: no solution found (but one might exist)\u001b[0m"
     ]
    }
   ],
   "source": [
    ":time :solve z3 {K,P} <: 1..9 & {I,S,A,O,N} <: 0..9 & (1000*K+100*I+10*S+S) * (1000*K+100*I+10*S+S)  =  1000000*P+100000*A+10000*S+1000*S+100*I+10*O+N & card({K, I, S, P, A, O, N}) = 7"
   ]
  },
  {
   "cell_type": "code",
   "execution_count": 19,
   "metadata": {},
   "outputs": [
    {
     "name": "stdout",
     "output_type": "stream",
     "text": [
      "[2018-06-04 21:43:31,067, T+24267018] \"ProB Output Logger for instance 17752aaa\" de.prob.cli.ProBInstance.readAndLog(ConsoleListener.java:48): [INFO] kodkod ok:   K : 1 .. 9 & P : 1 .. 9 & I : 0 .. 9 & S : 0 .. 9 ...  ints: irange(0,99980001), intatoms: irange(0,9)\u001b[0m\n",
      "[2018-06-04 21:43:31,069, T+24267020] \"ProB Output Logger for instance 17752aaa\" de.prob.cli.ProBInstance.readAndLog(ConsoleListener.java:48): [INFO] Kodkod module started up successfully (SAT solver SAT4J with timeout of 1500 ms).\u001b[0m\n",
      "[2018-06-04 21:43:31,069, T+24267020] \"ProB Output Logger for instance 17752aaa\" de.prob.cli.ProBInstance.readAndLog(ConsoleListener.java:48): [INFO] Times for computing solutions: [636]\u001b[0m\n"
     ]
    },
    {
     "data": {
      "text/markdown": [
       "Execution time: 2.287290784 seconds"
      ],
      "text/plain": [
       "Execution time: 2.287290784 seconds"
      ]
     },
     "metadata": {},
     "output_type": "display_data"
    },
    {
     "data": {
      "text/plain": [
       "TRUE\n",
       "\n",
       "Solution:\n",
       "\tP = 4\n",
       "\tA = 1\n",
       "\tS = 3\n",
       "\tI = 0\n",
       "\tK = 2\n",
       "\tN = 9\n",
       "\tO = 8"
      ]
     },
     "execution_count": 19,
     "metadata": {},
     "output_type": "execute_result"
    }
   ],
   "source": [
    ":time :solve kodkod {K,P} <: 1..9 & {I,S,A,O,N} <: 0..9 & (1000*K+100*I+10*S+S) * (1000*K+100*I+10*S+S)  =  1000000*P+100000*A+10000*S+1000*S+100*I+10*O+N & card({K, I, S, P, A, O, N}) = 7"
   ]
  },
  {
   "cell_type": "markdown",
   "metadata": {
    "slideshow": {
     "slide_type": "subslide"
    }
   },
   "source": [
    "Result for KISS*KISS=PASSION puzzle:\n",
    "\n",
    "Solver | Runtime\n",
    "-------|-------\n",
    "ProB Default | 0.01 sec\n",
    "Kodkod Backend | 1 sec\n",
    "Z3 Backend | ? > 100 sec"
   ]
  },
  {
   "cell_type": "markdown",
   "metadata": {
    "slideshow": {
     "slide_type": "slide"
    }
   },
   "source": [
    "### Unbounded integers ###\n",
    "The SAT translation via Kodkod/Alloy requires to determine the bid width.\n",
    "It cannot be applied to unbounded integers.\n",
    "Even for bounded integers it is quite tricky to get the bid widths correct: one needs also to take care of intermediate results. Alloy can detect incorrect models where an overflow occured, but to our understanding not where an overflow prevented a model (e.g., use inside negation or equivalence, see ```#(V.SS->V.SS)=0 iff no V.SS``` in paper at ABZ conference).\n",
    "\n",
    "SMTLib is more tailored towards proof than towards model finding; as such it has typically no/less issues with unbounded values.\n",
    "The ProB default solver can also deal with unbounded integers: it tries to narrow down domains to finite ones. If this fails, an unbounded variable is enumerated (partially) and an **enumeration warning** is generated. In case a solution is found, this warning is ignored, otherwise the result of ProB's analysis is **UNKNOWN**.\n",
    "Some inconsistencies cannot be detected by interval/domain propagation; here it helps to activate ProB's CHR module which performs some additional inferences.\n",
    "\n",
    "Let us perform some experiments. Both ProB and Z3 can solve the following:"
   ]
  },
  {
   "cell_type": "code",
   "execution_count": 49,
   "metadata": {
    "slideshow": {
     "slide_type": "fragment"
    }
   },
   "outputs": [
    {
     "data": {
      "text/plain": [
       "TRUE\n",
       "\n",
       "Solution:\n",
       "\tx = −10"
      ]
     },
     "execution_count": 49,
     "metadata": {},
     "output_type": "execute_result"
    }
   ],
   "source": [
    ":solve z3 x*x=100"
   ]
  },
  {
   "cell_type": "markdown",
   "metadata": {
    "slideshow": {
     "slide_type": "subslide"
    }
   },
   "source": [
    "Here is an example where ProB generates an enumeration warning, but finds a solution:"
   ]
  },
  {
   "cell_type": "code",
   "execution_count": 50,
   "metadata": {},
   "outputs": [
    {
     "name": "stdout",
     "output_type": "stream",
     "text": [
      "[2018-06-04 14:01:46,410, T+476259] \"ProB Output Logger for instance 1ede3ed1\" de.prob.cli.ProBInstance.readAndLog(ConsoleListener.java:48): [INFO] ### Warning: enumerating x : INTEGER : 6001:sup ---> 6001:6001\u001b[0m\n"
     ]
    },
    {
     "data": {
      "text/plain": [
       "TRUE\n",
       "\n",
       "Solution:\n",
       "\tx = 6001"
      ]
     },
     "execution_count": 50,
     "metadata": {},
     "output_type": "execute_result"
    }
   ],
   "source": [
    "x>100 & x mod 2000 = 1 & x mod 3000 = 1"
   ]
  },
  {
   "cell_type": "code",
   "execution_count": 51,
   "metadata": {},
   "outputs": [
    {
     "data": {
      "text/plain": [
       "TRUE\n",
       "\n",
       "Solution:\n",
       "\tx = 6001"
      ]
     },
     "execution_count": 51,
     "metadata": {},
     "output_type": "execute_result"
    }
   ],
   "source": [
    ":solve z3 x>100 & x mod 2000 = 1 & x mod 3000 = 1"
   ]
  },
  {
   "cell_type": "markdown",
   "metadata": {
    "slideshow": {
     "slide_type": "subslide"
    }
   },
   "source": [
    "Here ProB generates an enumeration warning and does not find a solution, hence the result is **UNKNOWN**. Here Z3 finds a solution."
   ]
  },
  {
   "cell_type": "code",
   "execution_count": 52,
   "metadata": {},
   "outputs": [
    {
     "name": "stdout",
     "output_type": "stream",
     "text": [
      "[2018-06-04 14:01:48,945, T+478794] \"ProB Output Logger for instance 1ede3ed1\" de.prob.cli.ProBInstance.readAndLog(ConsoleListener.java:48): [INFO] ### Warning: enumerating x : INTEGER : 6001:sup ---> 6001:6001\u001b[0m\n"
     ]
    },
    {
     "ename": "CommandExecutionException",
     "evalue": ":solve: Computation not completed: no solution found (but one might exist)",
     "output_type": "error",
     "traceback": [
      "\u001b[1m\u001b[31m:solve: Computation not completed: no solution found (but one might exist)\u001b[0m"
     ]
    }
   ],
   "source": [
    ":solve prob x>100 & x mod 2000 = 1 & x mod 3000 = 1 & (x+x) mod 4501 = 0"
   ]
  },
  {
   "cell_type": "code",
   "execution_count": 53,
   "metadata": {},
   "outputs": [
    {
     "data": {
      "text/plain": [
       "TRUE\n",
       "\n",
       "Solution:\n",
       "\tx = 6756001"
      ]
     },
     "execution_count": 53,
     "metadata": {},
     "output_type": "execute_result"
    }
   ],
   "source": [
    ":solve z3 x>100 & x mod 2000 = 1 & x mod 3000 = 1 & (x+x) mod 4501 = 0"
   ]
  },
  {
   "cell_type": "markdown",
   "metadata": {
    "slideshow": {
     "slide_type": "subslide"
    }
   },
   "source": [
    "Here is an inconsistency which cannot be detected by CLP(FD)'s interval propagation.\n",
    "ProB can detect it with CHR (Constraint Handling Rules) enabled, but without the module the result is **UNKNOWN**."
   ]
  },
  {
   "cell_type": "code",
   "execution_count": 54,
   "metadata": {},
   "outputs": [
    {
     "data": {
      "text/plain": [
       "FALSE"
      ]
     },
     "execution_count": 54,
     "metadata": {},
     "output_type": "execute_result"
    }
   ],
   "source": [
    ":solve z3 x>y & y>x"
   ]
  },
  {
   "cell_type": "code",
   "execution_count": 55,
   "metadata": {},
   "outputs": [
    {
     "name": "stdout",
     "output_type": "stream",
     "text": [
      "[2018-06-04 14:01:54,055, T+483904] \"ProB Output Logger for instance 1ede3ed1\" de.prob.cli.ProBInstance.readAndLog(ConsoleListener.java:48): [INFO] % Timeout when posting constraint:\u001b[0m\n",
      "[2018-06-04 14:01:54,055, T+483904] \"ProB Output Logger for instance 1ede3ed1\" de.prob.cli.ProBInstance.readAndLog(ConsoleListener.java:48): [INFO] % kernel_objects:(_2222183#>0)\u001b[0m\n",
      "[2018-06-04 14:01:54,056, T+483905] \"ProB Output Logger for instance 1ede3ed1\" de.prob.cli.ProBInstance.readAndLog(ConsoleListener.java:48): [INFO] ### Warning: enumerating x : INTEGER : inf:sup ---> -1:3\u001b[0m\n"
     ]
    },
    {
     "ename": "CommandExecutionException",
     "evalue": ":solve: Computation not completed: no solution found (but one might exist)",
     "output_type": "error",
     "traceback": [
      "\u001b[1m\u001b[31m:solve: Computation not completed: no solution found (but one might exist)\u001b[0m"
     ]
    }
   ],
   "source": [
    ":solve prob x>y &y>x"
   ]
  },
  {
   "cell_type": "markdown",
   "metadata": {
    "slideshow": {
     "slide_type": "subslide"
    }
   },
   "source": [
    "### Summary for Integer Arithmetic ###\n",
    "\n",
    "Solver | Unbounded | Model Finding | Inconsistency Detection (Unbounded)\n",
    "------|------------|---------------|---\n",
    "ProB CLP(FD) | yes | very good | limited with CHR\n",
    "ProB Z3 | yes | reasonable | very good\n",
    "ProB Kodkod | no | good | -\n"
   ]
  },
  {
   "cell_type": "markdown",
   "metadata": {
    "slideshow": {
     "slide_type": "slide"
    }
   },
   "source": [
    "### Deferred and Enumerated Sets ###\n",
    "\n",
    "Given an enumerated set ```Trains = {thomas, gordon}``` we associate a variable ```x:Trains``` with\n",
    "an integer decision variable in the range 1..2.\n",
    "Similarly, deferred sets are given a finite cardinality $n$, and a decision variables are in the range 1..n."
   ]
  },
  {
   "cell_type": "code",
   "execution_count": 56,
   "metadata": {},
   "outputs": [
    {
     "data": {
      "text/plain": [
       "TRUE\n",
       "\n",
       "Solution:\n",
       "\tx = thomas\n",
       "\ty = gordon"
      ]
     },
     "execution_count": 56,
     "metadata": {},
     "output_type": "execute_result"
    }
   ],
   "source": [
    "x:Trains & y:Trains & x/=y"
   ]
  },
  {
   "cell_type": "markdown",
   "metadata": {
    "slideshow": {
     "slide_type": "slide"
    }
   },
   "source": [
    "## Set Constraints ##\n",
    "\n",
    "After booleans, integers and enumerated set elements, let us now move to constraint solving involving set variables.\n",
    "\n",
    "### Translation to SAT ###\n",
    "The Kodkod/Alloy backend translates sets bit vectors. The size of the vector is the number of possible elements.\n",
    "\n",
    "Take for example the following constraint:"
   ]
  },
  {
   "cell_type": "code",
   "execution_count": 57,
   "metadata": {},
   "outputs": [
    {
     "data": {
      "text/plain": [
       "TRUE\n",
       "\n",
       "Solution:\n",
       "\tx = {1}\n",
       "\ty = {1,2}"
      ]
     },
     "execution_count": 57,
     "metadata": {},
     "output_type": "execute_result"
    }
   ],
   "source": [
    "x <: 1..2 & y <: 1..2 & x \\/ y = 1..2 & 1:x & x <<: y"
   ]
  },
  {
   "cell_type": "code",
   "execution_count": 58,
   "metadata": {},
   "outputs": [
    {
     "data": {
      "text/plain": [
       "TRUE\n",
       "\n",
       "Solution:\n",
       "\ty1 = TRUE\n",
       "\tx1 = TRUE\n",
       "\ty2 = TRUE\n",
       "\tx2 = FALSE"
      ]
     },
     "execution_count": 58,
     "metadata": {},
     "output_type": "execute_result"
    }
   ],
   "source": [
    "{x1,x2,y1,y2} <: BOOL &\n",
    " x1=TRUE or y1=TRUE & x2=TRUE or y2=TRUE &   // x \\/ y = 1..2\n",
    " x1=TRUE &   // 1:x \n",
    " (x1=TRUE => y1=TRUE) & (x2=TRUE => y2=TRUE) & (x1/=y1 or x2/=y2)  // x <<: y"
   ]
  },
  {
   "cell_type": "markdown",
   "metadata": {
    "slideshow": {
     "slide_type": "subslide"
    }
   },
   "source": [
    "This translation to SAT is exactly what the Kodkod backend does:"
   ]
  },
  {
   "cell_type": "code",
   "execution_count": 59,
   "metadata": {},
   "outputs": [
    {
     "name": "stdout",
     "output_type": "stream",
     "text": [
      "[2018-06-04 14:02:32,427, T+522276] \"ProB Output Logger for instance 1ede3ed1\" de.prob.cli.ProBInstance.readAndLog(ConsoleListener.java:48): [INFO] kodkod ok:   x <: 1 .. 2 & y <: 1 .. 2 & x \\/ y = 1 .. 2 & 1 : ...  ints: irange(1,2), intatoms: irange(1,2)\u001b[0m\n",
      "[2018-06-04 14:02:32,428, T+522277] \"ProB Output Logger for instance 1ede3ed1\" de.prob.cli.ProBInstance.readAndLog(ConsoleListener.java:48): [INFO] Times for computing solutions: [1]\u001b[0m\n"
     ]
    },
    {
     "data": {
      "text/plain": [
       "TRUE\n",
       "\n",
       "Solution:\n",
       "\tx = {1}\n",
       "\ty = {1,2}"
      ]
     },
     "execution_count": 59,
     "metadata": {},
     "output_type": "execute_result"
    }
   ],
   "source": [
    ":solve kodkod x <: 1..2 & y<: 1..2 & x \\/ y = 1..2 & 1:x & x <<: y"
   ]
  },
  {
   "cell_type": "markdown",
   "metadata": {
    "slideshow": {
     "slide_type": "subslide"
    }
   },
   "source": [
    "Limitations of translating set constraints to SAT:\n",
    "- this cannot deal with **unbounded** sets: we need to know a finite type for each set, so that we can generate a finite bit vector\n",
    "- this approach cannot usually deal with **higher order** sets (sets of sets), as the size of the bit vector would be prohibitively large\n",
    "\n",
    "Given that:"
   ]
  },
  {
   "cell_type": "code",
   "execution_count": 60,
   "metadata": {},
   "outputs": [
    {
     "data": {
      "text/plain": [
       "1267650600228229401496703205376"
      ]
     },
     "execution_count": 60,
     "metadata": {},
     "output_type": "execute_result"
    }
   ],
   "source": [
    "card(POW(1..100))"
   ]
  },
  {
   "cell_type": "markdown",
   "metadata": {},
   "source": [
    "translating the following constraint to SAT would require a bit vector of length 1267650600228229401496703205376."
   ]
  },
  {
   "cell_type": "code",
   "execution_count": 61,
   "metadata": {},
   "outputs": [
    {
     "data": {
      "text/plain": [
       "TRUE\n",
       "\n",
       "Solution:\n",
       "\tx = {{100},{1}}"
      ]
     },
     "execution_count": 61,
     "metadata": {},
     "output_type": "execute_result"
    }
   ],
   "source": [
    "x <: POW(1..100) & {100}:x & !y.(y:x => {card(y)}:x)"
   ]
  },
  {
   "cell_type": "markdown",
   "metadata": {
    "slideshow": {
     "slide_type": "subslide"
    }
   },
   "source": [
    "Also, in the following constraint, the set x is unbounded and no translation to SAT is feasible (without a very clever analysis of the universal implications)."
   ]
  },
  {
   "cell_type": "code",
   "execution_count": 62,
   "metadata": {},
   "outputs": [
    {
     "data": {
      "text/plain": [
       "TRUE\n",
       "\n",
       "Solution:\n",
       "\tx = {{100},{50,100},{25,50,100},{12,25,50,100},{6,12,25,50,100},{3,6,12,25,50,100},{1,3,6,12,25,50,100},{0,1,3,6,12,25,50,100}}"
      ]
     },
     "execution_count": 62,
     "metadata": {},
     "output_type": "execute_result"
    }
   ],
   "source": [
    "{100}:x & !y.(y:x => (!z.(z:y => y \\/ {z / 2}:x)))"
   ]
  },
  {
   "cell_type": "markdown",
   "metadata": {
    "slideshow": {
     "slide_type": "subslide"
    }
   },
   "source": [
    "However, when it is applicable the propositional encoding of sets can be very effective for SAT solvers.\n",
    "The following example, involving various relational operators can currently only be solved by our Kodkod backend:"
   ]
  },
  {
   "cell_type": "code",
   "execution_count": 20,
   "metadata": {},
   "outputs": [
    {
     "name": "stdout",
     "output_type": "stream",
     "text": [
      "[2018-06-04 21:54:17,800, T+24913751] \"ProB Output Logger for instance 17752aaa\" de.prob.cli.ProBInstance.readAndLog(ConsoleListener.java:48): [INFO] kodkod ok:   r : 1 .. 5 <-> 1 .. 5 & (r ; r) = r & r /= {} & do...  ints: irange(0,5), intatoms: irange(0,5)\u001b[0m\n",
      "[2018-06-04 21:54:17,801, T+24913752] \"ProB Output Logger for instance 17752aaa\" de.prob.cli.ProBInstance.readAndLog(ConsoleListener.java:48): [INFO] Times for computing solutions: [2,2,1,1,3,2,1,2,1,1,5,1,1,2,1,2,1,2,1,1,1,1]\u001b[0m\n"
     ]
    },
    {
     "data": {
      "text/markdown": [
       "Execution time: 0.153314218 seconds"
      ],
      "text/plain": [
       "Execution time: 0.153314218 seconds"
      ]
     },
     "metadata": {},
     "output_type": "display_data"
    },
    {
     "data": {
      "text/plain": [
       "TRUE\n",
       "\n",
       "Solution:\n",
       "\tr = {(3↦5),(3↦4),(5↦5),(5↦4),(1↦4),(2↦4),(4↦4)}"
      ]
     },
     "execution_count": 20,
     "metadata": {},
     "output_type": "execute_result"
    }
   ],
   "source": [
    ":time :solve kodkod r: 1..5 <-> 1..5 & (r;r) = r & r /= {} & dom(r)=1..5 & r[2..3]=4..5"
   ]
  },
  {
   "cell_type": "markdown",
   "metadata": {
    "slideshow": {
     "slide_type": "slide"
    }
   },
   "source": [
    "### Translation to SMTLib ###\n",
    "\n",
    "This can in principle deal with higher-order sets and unbounded sets, but makes heavy use of quantifiers.\n",
    "The practical usefulness is currently very limited."
   ]
  },
  {
   "cell_type": "code",
   "execution_count": 63,
   "metadata": {},
   "outputs": [
    {
     "data": {
      "text/plain": [
       "TRUE\n",
       "\n",
       "Solution:\n",
       "\tx = ∅\n",
       "\ty = {1,2}"
      ]
     },
     "execution_count": 63,
     "metadata": {},
     "output_type": "execute_result"
    }
   ],
   "source": [
    ":solve z3 x ⊆ 1..2 & y ⊆ 1..2 & x ∪ y = 1..2"
   ]
  },
  {
   "cell_type": "markdown",
   "metadata": {},
   "source": [
    "Internally, the constraint is rewritten to support operators which do not exist in SMTLib:"
   ]
  },
  {
   "cell_type": "code",
   "execution_count": 64,
   "metadata": {
    "slideshow": {
     "slide_type": "fragment"
    }
   },
   "outputs": [
    {
     "data": {
      "text/plain": [
       "TRUE\n",
       "\n",
       "Solution:\n",
       "\tx = ∅\n",
       "\ty = {1,2}"
      ]
     },
     "execution_count": 64,
     "metadata": {},
     "output_type": "execute_result"
    }
   ],
   "source": [
    "∀ smt_tmp28.(smt_tmp28 ∈ x ⇒ smt_tmp28 ≥ 1 & 2 ≥ smt_tmp28) & \n",
    "∀ smt_tmp29.(smt_tmp29 ∈ y ⇒ smt_tmp29 ≥ 1 & 2 ≥ smt_tmp29) &\n",
    "x ∪ y = {1,2}"
   ]
  },
  {
   "cell_type": "markdown",
   "metadata": {
    "slideshow": {
     "slide_type": "subslide"
    }
   },
   "source": [
    "This in turn gets translated to SMTLib (calls to the Z3 API):\n",
    "- mk_var(set(integer),x) $\\rightarrow$ 2\n",
    "- mk_var(set(integer),y) $\\rightarrow$ 3\n",
    "- mk_bounded_var(integer,_smt_tmp28) $\\rightarrow$ 4\n",
    "- mk_op(member,4,2) $\\rightarrow$ 5\n",
    "- mk_int_const(1) $\\rightarrow$ 6\n",
    "- mk_op(greater_equal,4,6) $\\rightarrow$ 7\n",
    "- mk_int_const(2) $\\rightarrow$ 8\n",
    "- mk_op(greater_equal,8,4) $\\rightarrow$ 9\n",
    "- mk_op_arglist(conjunct,[7,9]) $\\rightarrow$ 10\n",
    "- mk_op(implication,5,10) $\\rightarrow$ 11\n",
    "- mk_quantifier(forall,[4],11) $\\rightarrow$ 12\n",
    "- mk_bounded_var(integer,_smt_tmp29) $\\rightarrow$ 13\n",
    "- mk_op(member,13,3) $\\rightarrow$ 14\n",
    "- mk_int_const(1) $\\rightarrow$ 15\n",
    "- mk_op(greater_equal) $\\rightarrow$ 13,15,16\n",
    "- mk_int_const(2) $\\rightarrow$ 17\n",
    "- mk_op(greater_equal,17,13) $\\rightarrow$ 18\n",
    "- mk_op_arglist(conjunct,[16,18]) $\\rightarrow$ 19\n",
    "- mk_op(implication,14,19) $\\rightarrow$ 20\n",
    "- mk_quantifier(forall,[13],20) $\\rightarrow$ 21\n",
    "- mk_op(union,2,3) $\\rightarrow$ 22\n",
    "- mk_int_const(1) $\\rightarrow$ 23\n",
    "- mk_int_const(2) $\\rightarrow$ 24\n",
    "- mk_set([23,24]) $\\rightarrow$ 25\n",
    "- mk_op(equal,22,25) $\\rightarrow$ 26\n",
    "- mk_op_arglist(conjunct,[12,21,26]) $\\rightarrow$ 27"
   ]
  },
  {
   "cell_type": "markdown",
   "metadata": {
    "slideshow": {
     "slide_type": "subslide"
    }
   },
   "source": [
    "This can be solved by Z3 but not by CVC4. Already the slightly more complicated example from above (or the other examples) cannot be solved:"
   ]
  },
  {
   "cell_type": "code",
   "execution_count": 65,
   "metadata": {},
   "outputs": [
    {
     "name": "stdout",
     "output_type": "stream",
     "text": [
      "[2018-06-04 14:02:49,960, T+539809] \"ProB Output Logger for instance 1ede3ed1\" de.prob.cli.ProBInstance.readAndLog(ConsoleListener.java:48): [INFO] z3exception in query: canceled\u001b[0m\n"
     ]
    },
    {
     "ename": "CommandExecutionException",
     "evalue": ":solve: Computation not completed: time out",
     "output_type": "error",
     "traceback": [
      "\u001b[1m\u001b[31m:solve: Computation not completed: time out\u001b[0m"
     ]
    }
   ],
   "source": [
    ":solve z3 x ⊆ 1..2 & y ⊆ 1..2 & x ∪ y = 1..2 & 1∈x & x ⊂ y"
   ]
  },
  {
   "cell_type": "markdown",
   "metadata": {
    "slideshow": {
     "slide_type": "subslide"
    }
   },
   "source": [
    "Let us look at another relatively simple example which poses problems:"
   ]
  },
  {
   "cell_type": "code",
   "execution_count": 66,
   "metadata": {},
   "outputs": [
    {
     "ename": "CommandExecutionException",
     "evalue": ":solve: Computation not completed: no solution found (but one might exist)",
     "output_type": "error",
     "traceback": [
      "\u001b[1m\u001b[31m:solve: Computation not completed: no solution found (but one might exist)\u001b[0m"
     ]
    }
   ],
   "source": [
    ":solve z3 f = {1|->3, 2|->6} & r = f~[{6}]"
   ]
  },
  {
   "cell_type": "markdown",
   "metadata": {
    "slideshow": {
     "slide_type": "subslide"
    }
   },
   "source": [
    "To understand why this simple constraint cannot be solved, we have to know how the translation works:\n",
    "The relational inverse gets translated into two universal quantifications for SMTLib:\n",
    "```\n",
    " x = y~\n",
    "<=>\n",
    " !(st11,st12).(st11 |-> st12 : x => st12 |-> st11 : y) & \n",
    " !(st11,st12).(st12 |-> st11 : y => st11 |-> st12 : x))\n",
    "```\n",
    "Similarly, r = f[s] is translated as follows:\n",
    "```\n",
    " r = f[s]\n",
    "<=>\n",
    " !st27.(st27 : r => #st26.(st26 |-> st27 : f & st26 : s) & \n",
    " !st27.(#st26.(st26 |-> st27 : f & st26 : s) => st27 : r)\n",
    "```\n",
    "The resulting predicate (without the inverse and image operators) is the following, which Z3 cannot solve (but ProB can)."
   ]
  },
  {
   "cell_type": "code",
   "execution_count": 67,
   "metadata": {
    "slideshow": {
     "slide_type": "subslide"
    }
   },
   "outputs": [
    {
     "data": {
      "text/latex": [
       "$\\mathit{f} = \\{(1\\mapsto 3),(2\\mapsto 6)\\} \\wedge  (\\exists  /* LET */ (\\mathit{st13}).( (\\mathit{st13})=\\mathit{r} \\wedge  \\forall \\mathit{st15}\\cdot (\\mathit{st15} \\in  \\mathit{st13} \\mathbin\\Rightarrow  \\exists \\mathit{st16}\\cdot (6 \\mapsto  \\mathit{st15} \\in  \\mathit{st16} \\wedge  (\\forall (\\mathit{st17},\\mathit{st18})\\cdot (\\mathit{st17} \\mapsto  \\mathit{st18} \\in  \\mathit{st16} \\mathbin\\Rightarrow  \\mathit{st18} \\mapsto  \\mathit{st17} \\in  \\mathit{f}) \\wedge  \\forall (\\mathit{st17},\\mathit{st18})\\cdot (\\mathit{st18} \\mapsto  \\mathit{st17} \\in  \\mathit{f} \\mathbin\\Rightarrow  \\mathit{st17} \\mapsto  \\mathit{st18} \\in  \\mathit{st16})))) \\wedge  \\forall \\mathit{st15}\\cdot (\\exists \\mathit{st19}\\cdot (6 \\mapsto  \\mathit{st15} \\in  \\mathit{st19} \\wedge  (\\forall (\\mathit{st20},\\mathit{st21})\\cdot (\\mathit{st20} \\mapsto  \\mathit{st21} \\in  \\mathit{st19} \\mathbin\\Rightarrow  \\mathit{st21} \\mapsto  \\mathit{st20} \\in  \\mathit{f}) \\wedge  \\forall (\\mathit{st20},\\mathit{st21})\\cdot (\\mathit{st21} \\mapsto  \\mathit{st20} \\in  \\mathit{f} \\mathbin\\Rightarrow  \\mathit{st20} \\mapsto  \\mathit{st21} \\in  \\mathit{st19}))) \\mathbin\\Rightarrow  \\mathit{st15} \\in  \\mathit{st13})))$"
      ],
      "text/plain": [
       "f = {(1↦3),(2↦6)} ∧ (∃ /* LET */ (st13).( (st13)=r ∧ ∀st15Â·(st15 ∈ st13 ⇒ ∃st16Â·(6 ↦ st15 ∈ st16 ∧ (∀(st17,st18)Â·(st17 ↦ st18 ∈ st16 ⇒ st18 ↦ st17 ∈ f) ∧ ∀(st17,st18)Â·(st18 ↦ st17 ∈ f ⇒ st17 ↦ st18 ∈ st16)))) ∧ ∀st15Â·(∃st19Â·(6 ↦ st15 ∈ st19 ∧ (∀(st20,st21)Â·(st20 ↦ st21 ∈ st19 ⇒ st21 ↦ st20 ∈ f) ∧ ∀(st20,st21)Â·(st21 ↦ st20 ∈ f ⇒ st20 ↦ st21 ∈ st19))) ⇒ st15 ∈ st13)))"
      ]
     },
     "execution_count": 67,
     "metadata": {},
     "output_type": "execute_result"
    }
   ],
   "source": [
    ":prettyprint f = {(1|->3),(2|->6)} &\n",
    "#st13.(r = st13 & (\n",
    "    !st15.(st15 : st13 => #st14.(#st16.(st14 |-> st15 : st16 & \n",
    "    (!(st17,st18).(st17 |-> st18 : st16 => st18 |-> st17 : f) & \n",
    "     !(st17,st18).(st18 |-> st17 : f => st17 |-> st18 : st16))) & st14 : {6})) & \n",
    "     !st15.(#st14.(#st19.(st14 |-> st15 : st19 & (!(st20,st21).(st20 |-> st21 : st19 => st21 |-> st20 : f) &\n",
    "     !(st20,st21).(st21 |-> st20 : f => st20 |-> st21 : st19))) & st14 : {6}) => st15 : st13)))"
   ]
  },
  {
   "cell_type": "code",
   "execution_count": 68,
   "metadata": {
    "slideshow": {
     "slide_type": "subslide"
    }
   },
   "outputs": [
    {
     "name": "stdout",
     "output_type": "stream",
     "text": [
      "Execution time: 0.038201131 seconds\n"
     ]
    },
    {
     "data": {
      "text/plain": [
       "TRUE\n",
       "\n",
       "Solution:\n",
       "\tr = {2}\n",
       "\tf = {(1↦3),(2↦6)}"
      ]
     },
     "execution_count": 68,
     "metadata": {},
     "output_type": "execute_result"
    }
   ],
   "source": [
    ":time :solve prob f = {(1|->3),(2|->6)} &\n",
    "#st13.(r = st13 & (\n",
    "    !st15.(st15 : st13 => #st14.(#st16.(st14 |-> st15 : st16 & \n",
    "    (!(st17,st18).(st17 |-> st18 : st16 => st18 |-> st17 : f) & \n",
    "     !(st17,st18).(st18 |-> st17 : f => st17 |-> st18 : st16))) & st14 : {6})) & \n",
    "     !st15.(#st14.(#st19.(st14 |-> st15 : st19 & (!(st20,st21).(st20 |-> st21 : st19 => st21 |-> st20 : f) &\n",
    "     !(st20,st21).(st21 |-> st20 : f => st20 |-> st21 : st19))) & st14 : {6}) => st15 : st13)))\n"
   ]
  },
  {
   "cell_type": "code",
   "execution_count": 69,
   "metadata": {},
   "outputs": [
    {
     "ename": "CommandExecutionException",
     "evalue": ":time: :solve: Computation not completed: no solution found (but one might exist)",
     "output_type": "error",
     "traceback": [
      "\u001b[1m\u001b[31m:time: :solve: Computation not completed: no solution found (but one might exist)\u001b[0m"
     ]
    }
   ],
   "source": [
    ":time :solve cvc4 f = {(1|->3),(2|->6)} &\n",
    "#st13.(r = st13 & (\n",
    "    !st15.(st15 : st13 => #st14.(#st16.(st14 |-> st15 : st16 & \n",
    "    (!(st17,st18).(st17 |-> st18 : st16 => st18 |-> st17 : f) & \n",
    "     !(st17,st18).(st18 |-> st17 : f => st17 |-> st18 : st16))) & st14 : {6})) & \n",
    "     !st15.(#st14.(#st19.(st14 |-> st15 : st19 & (!(st20,st21).(st20 |-> st21 : st19 => st21 |-> st20 : f) &\n",
    "     !(st20,st21).(st21 |-> st20 : f => st20 |-> st21 : st19))) & st14 : {6}) => st15 : st13)))"
   ]
  },
  {
   "cell_type": "markdown",
   "metadata": {
    "slideshow": {
     "slide_type": "subslide"
    }
   },
   "source": [
    "The SMTLib translation is still of limited value for finding models.\n",
    "However, for finding inconsistencies it is much better and can detect certain inconsistencies which ProB's solver cannot.\n",
    "While both ProB and Z3 can solve the following:"
   ]
  },
  {
   "cell_type": "code",
   "execution_count": 70,
   "metadata": {},
   "outputs": [
    {
     "data": {
      "text/plain": [
       "FALSE"
      ]
     },
     "execution_count": 70,
     "metadata": {},
     "output_type": "execute_result"
    }
   ],
   "source": [
    ":solve prob x:s1 & x:s2 & x /: (s1 /\\ s2) & s1 <: INTEGER"
   ]
  },
  {
   "cell_type": "markdown",
   "metadata": {},
   "source": [
    "only the Z3 backend can solve this one:"
   ]
  },
  {
   "cell_type": "code",
   "execution_count": 71,
   "metadata": {},
   "outputs": [
    {
     "data": {
      "text/plain": [
       "FALSE"
      ]
     },
     "execution_count": 71,
     "metadata": {},
     "output_type": "execute_result"
    }
   ],
   "source": [
    ":solve z3 x:s1 & x/:s2 & x /: (s1 \\/s2) & s1 <: INTEGER"
   ]
  },
  {
   "cell_type": "markdown",
   "metadata": {
    "slideshow": {
     "slide_type": "slide"
    }
   },
   "source": [
    "### ProB's Set Solver ###\n",
    "ProB has actually three set representations:\n",
    "- Prolog lists of elements\n",
    "- AVL trees for fully known sets\n",
    "- symbolic closures for large or infinite sets\n",
    "\n",
    "For finite sets, the AVL tree representation is the most efficient and allows for efficient lookups.\n",
    "It, however, requires all elements to be fully known.\n",
    "\n",
    "The symbolic closure can be used for large or infinite sets.\n",
    "ProB will automatically use it for sets it knows to be infinite, or when an enumeration warning occurs during an attempt at expanding a set.\n",
    "\n",
    "The list representation is used for sets where some of the members are known or partially known.\n",
    "\n",
    "#### AVL tree representation ####\n",
    "The following generates the AVL tree representation:"
   ]
  },
  {
   "cell_type": "code",
   "execution_count": 72,
   "metadata": {
    "slideshow": {
     "slide_type": "fragment"
    }
   },
   "outputs": [
    {
     "data": {
      "text/plain": [
       "{0,100,200,300,400,500,600,700,800,900,1000}"
      ]
     },
     "execution_count": 72,
     "metadata": {},
     "output_type": "execute_result"
    }
   ],
   "source": [
    "{x|x∈0..2**10 & x mod 100 = 0}"
   ]
  },
  {
   "cell_type": "markdown",
   "metadata": {
    "slideshow": {
     "slide_type": "subslide"
    }
   },
   "source": [
    "A lot of operators and predicates have optimised versions for the AVL tree represenation, e.g.,"
   ]
  },
  {
   "cell_type": "code",
   "execution_count": 73,
   "metadata": {},
   "outputs": [
    {
     "data": {
      "text/plain": [
       "TRUE\n",
       "\n",
       "Solution:\n",
       "\tmn = 0\n",
       "\ts = {0,100,200,300,400,500,600,700,800,900,1000}\n",
       "\tmx = 1000"
      ]
     },
     "execution_count": 73,
     "metadata": {},
     "output_type": "execute_result"
    }
   ],
   "source": [
    "s = {x|x∈0..2**10 & x mod 100 = 0} &\n",
    "mx = max(s) &\n",
    "mn = min(s)"
   ]
  },
  {
   "cell_type": "markdown",
   "metadata": {
    "slideshow": {
     "slide_type": "subslide"
    }
   },
   "source": [
    "#### Symbolic closure representation ####\n",
    "\n",
    "In the following case, ProB knows that the set is infinite and is kept symbolic:"
   ]
  },
  {
   "cell_type": "code",
   "execution_count": 74,
   "metadata": {},
   "outputs": [
    {
     "data": {
      "text/plain": [
       "{x∣x > 1000}"
      ]
     },
     "execution_count": 74,
     "metadata": {},
     "output_type": "execute_result"
    }
   ],
   "source": [
    "{x|x>1000}"
   ]
  },
  {
   "cell_type": "markdown",
   "metadata": {},
   "source": [
    "Symbolic sets can be used in various ways:"
   ]
  },
  {
   "cell_type": "code",
   "execution_count": 75,
   "metadata": {},
   "outputs": [
    {
     "data": {
      "text/plain": [
       "TRUE\n",
       "\n",
       "Solution:\n",
       "\tinf = {x∣x > 1000}\n",
       "\tres = (1001 ‥ 1100)"
      ]
     },
     "execution_count": 75,
     "metadata": {},
     "output_type": "execute_result"
    }
   ],
   "source": [
    "inf = {x|x>1000} & 1024 : inf & not(1000:inf) & res  = (900..1100) ∩ inf"
   ]
  },
  {
   "cell_type": "markdown",
   "metadata": {
    "slideshow": {
     "slide_type": "subslide"
    }
   },
   "source": [
    "For the following set, ProB tries to expand it and then an enumeration warning occurs (also called a **virtual timeout**, ProB realises that no matter what time budget it would be given a timeout would occur).\n",
    "The set is then kept symbolic and can again be used in various ways."
   ]
  },
  {
   "cell_type": "code",
   "execution_count": 76,
   "metadata": {},
   "outputs": [
    {
     "name": "stdout",
     "output_type": "stream",
     "text": [
      "[2018-06-04 14:03:14,350, T+564199] \"ProB Output Logger for instance 1ede3ed1\" de.prob.cli.ProBInstance.readAndLog(ConsoleListener.java:48): [INFO] VIRTUAL TIME-OUT caused by: ### Warning: enumerating x : (all_solutions) : INTEGER : 1025:sup ---> 1025:1025\u001b[0m\n"
     ]
    },
    {
     "data": {
      "text/plain": [
       "TRUE\n",
       "\n",
       "Solution:\n",
       "\tinf = {x∣x > 1000 ∧ x mod 25 = 0}\n",
       "\tres = ((900 ‥ 1100) ∩ {x∣x > 1000 ∧ x mod 25 = 0})"
      ]
     },
     "execution_count": 76,
     "metadata": {},
     "output_type": "execute_result"
    }
   ],
   "source": [
    "inf = {x|x>1000 & x mod 25 = 0} & 1025 ∈ inf & not(1000∈inf) & res  = (900..1100) ∩ inf"
   ]
  },
  {
   "cell_type": "markdown",
   "metadata": {
    "slideshow": {
     "slide_type": "subslide"
    }
   },
   "source": [
    "The virtual timeout message can be removed (and performance improved) by adding the symbolic pragma:"
   ]
  },
  {
   "cell_type": "code",
   "execution_count": 77,
   "metadata": {},
   "outputs": [
    {
     "data": {
      "text/plain": [
       "TRUE\n",
       "\n",
       "Solution:\n",
       "\tinf = {x∣x > 1000 ∧ x mod 25 = 0}\n",
       "\tres = ((900 ‥ 1100) ∩ {x∣x > 1000 ∧ x mod 25 = 0})"
      ]
     },
     "execution_count": 77,
     "metadata": {},
     "output_type": "execute_result"
    }
   ],
   "source": [
    "inf = /*@symbolic*/ {x|x>1000 & x mod 25 = 0} & 1025 ∈ inf & not(1000∈inf) & res  = (900..1100) ∩ inf"
   ]
  },
  {
   "cell_type": "markdown",
   "metadata": {
    "slideshow": {
     "slide_type": "subslide"
    }
   },
   "source": [
    "Internally, a symbolic representation is a **closure** in functional programming terms: all dependent variables are *compiled* into the closure: the closure can be passed as a value and evaluated without needing access to an environment. In Prolog this is represented as a tuple:\n",
    "- closure(Parameters,Types,CompiledPredicate)\n",
    "For example, a set {x|x>v} where v has the value 17 is compiled to:\n",
    "- closure([x],[integer],```x>17```)"
   ]
  },
  {
   "cell_type": "markdown",
   "metadata": {
    "slideshow": {
     "slide_type": "subslide"
    }
   },
   "source": [
    "#### List representation ####\n",
    "The list representation is used when a finite set is partially known and constraint solving has to determine the set.\n"
   ]
  },
  {
   "cell_type": "code",
   "execution_count": 78,
   "metadata": {
    "slideshow": {
     "slide_type": "fragment"
    }
   },
   "outputs": [
    {
     "data": {
      "text/plain": [
       "TRUE\n",
       "\n",
       "Solution:\n",
       "\tvec = {(1↦1),(2↦2),(3↦4),(4↦8),(5↦16),(6↦32),(7↦64),(8↦128),(9↦256),(10↦512)}"
      ]
     },
     "execution_count": 78,
     "metadata": {},
     "output_type": "execute_result"
    }
   ],
   "source": [
    "vec: 1..10 --> 0..9999 &\n",
    "vec(1) : {1,10} &\n",
    "!x.(x:2..10 => vec(x) = vec(x-1)*2)"
   ]
  },
  {
   "cell_type": "markdown",
   "metadata": {
    "slideshow": {
     "slide_type": "subslide"
    }
   },
   "source": [
    "Note that Kodkod translation and SMT translation not very effective for the above.\n",
    "The Kodkod translation can deal with a simpler version of the above:"
   ]
  },
  {
   "cell_type": "code",
   "execution_count": 79,
   "metadata": {},
   "outputs": [
    {
     "name": "stdout",
     "output_type": "stream",
     "text": [
      "[2018-06-04 14:03:20,699, T+570548] \"ProB Output Logger for instance 1ede3ed1\" de.prob.cli.ProBInstance.readAndLog(ConsoleListener.java:48): [INFO] \u001b[0mkodkod ok:   vec : 1 .. 8 --> 0 .. 199 & vec(1) : {1,10} & !x.(...  ints: irange(0,398), intatoms: irange(0,199)\u001b[0m\n",
      "[2018-06-04 14:03:20,699, T+570548] \"ProB Output Logger for instance 1ede3ed1\" de.prob.cli.ProBInstance.readAndLog(ConsoleListener.java:48): [INFO] Times for computing solutions: [204]\u001b[0m\n",
      "Execution time: 2.184422799 seconds\n"
     ]
    },
    {
     "data": {
      "text/plain": [
       "TRUE\n",
       "\n",
       "Solution:\n",
       "\tvec = {(3↦4),(5↦16),(6↦32),(7↦64),(1↦1),(2↦2),(4↦8),(8↦128)}"
      ]
     },
     "execution_count": 79,
     "metadata": {},
     "output_type": "execute_result"
    }
   ],
   "source": [
    ":time :solve kodkod vec: 1..8 --> 0..199 & vec(1) : {1,10} & !x.(x:2..8 => vec(x) = vec(x-1)*2)"
   ]
  },
  {
   "cell_type": "code",
   "execution_count": 80,
   "metadata": {},
   "outputs": [
    {
     "name": "stdout",
     "output_type": "stream",
     "text": [
      "Execution time: 0.014949467 seconds\n"
     ]
    },
    {
     "data": {
      "text/plain": [
       "TRUE\n",
       "\n",
       "Solution:\n",
       "\tvec = {(1↦1),(2↦2),(3↦4),(4↦8),(5↦16),(6↦32),(7↦64),(8↦128)}"
      ]
     },
     "execution_count": 80,
     "metadata": {},
     "output_type": "execute_result"
    }
   ],
   "source": [
    ":time :solve prob vec: 1..8 --> 0..199 & vec(1) : {1,10} & !x.(x:2..8 => vec(x) = vec(x-1)*2)"
   ]
  },
  {
   "cell_type": "code",
   "execution_count": 81,
   "metadata": {},
   "outputs": [
    {
     "name": "stdout",
     "output_type": "stream",
     "text": [
      "[2018-06-04 14:03:24,797, T+574646] \"ProB Output Logger for instance 1ede3ed1\" de.prob.cli.ProBInstance.readAndLog(ConsoleListener.java:48): [INFO] z3exception in query: canceled\u001b[0m\n"
     ]
    },
    {
     "ename": "CommandExecutionException",
     "evalue": ":time: :solve: Computation not completed: time out",
     "output_type": "error",
     "traceback": [
      "\u001b[1m\u001b[31m:time: :solve: Computation not completed: time out\u001b[0m"
     ]
    }
   ],
   "source": [
    ":time :solve z3 vec: 1..8 --> 0..199 & vec(1) : {1,10} & !x.(x:2..8 => vec(x) = vec(x-1)*2)"
   ]
  },
  {
   "cell_type": "markdown",
   "metadata": {
    "slideshow": {
     "slide_type": "slide"
    }
   },
   "source": [
    "### ProB's Solving Algorithm ###\n",
    "\n",
    "ProB tries to accomplish several conflicting goals:\n",
    "- being able to deal with concrete data, i.e., sets and relations containing thousands or hundreds of thousands of elementas\n",
    "- being able to deal with symbolic, infinite sets, relations and functions.\n",
    "- being able to perform efficient computation over large data as well as constraint solving\n",
    "\n",
    "For example, efficient computation over large concrete data is the following:"
   ]
  },
  {
   "cell_type": "code",
   "execution_count": 89,
   "metadata": {},
   "outputs": [
    {
     "name": "stdout",
     "output_type": "stream",
     "text": [
      "Execution time: 0.305008223 seconds\n"
     ]
    },
    {
     "data": {
      "text/plain": [
       "TRUE\n",
       "\n",
       "Solution:\n",
       "\ts3 = ∃500∈{20,40,…,9980,10000}\n",
       "\tn = 4\n",
       "\ts1 = ∃2500∈{4,8,…,9996,10000}\n",
       "\ts2 = ∃2000∈{5,10,…,9995,10000}"
      ]
     },
     "execution_count": 89,
     "metadata": {},
     "output_type": "execute_result"
    }
   ],
   "source": [
    ":time :solve prob s1 = {x|x:1..10**n & x mod n = 0} & s2 = {y|y:1..10**n & y mod (n+1) = 0} & s3 = s1 /\\ s2 & n=4"
   ]
  },
  {
   "cell_type": "markdown",
   "metadata": {
    "slideshow": {
     "slide_type": "subslide"
    }
   },
   "source": [
    "Here is a simple verison of the above"
   ]
  },
  {
   "cell_type": "code",
   "execution_count": 90,
   "metadata": {},
   "outputs": [
    {
     "name": "stdout",
     "output_type": "stream",
     "text": [
      "Execution time: 0.013053703 seconds\n"
     ]
    },
    {
     "data": {
      "text/plain": [
       "TRUE\n",
       "\n",
       "Solution:\n",
       "\txy = ∃201∈{1,2,…,299,300}\n",
       "\tx = (1 ‥ 100)\n",
       "\ty = (200 ‥ 300)\n",
       "\tn = 100"
      ]
     },
     "execution_count": 90,
     "metadata": {},
     "output_type": "execute_result"
    }
   ],
   "source": [
    ":time :solve prob x = 1..n & y = 2*n..3*n & n = 100 & xy = x \\/ y"
   ]
  },
  {
   "cell_type": "code",
   "execution_count": 91,
   "metadata": {
    "slideshow": {
     "slide_type": "subslide"
    }
   },
   "outputs": [
    {
     "ename": "CommandExecutionException",
     "evalue": ":solve: Computation not completed: time out",
     "output_type": "error",
     "traceback": [
      "\u001b[1m\u001b[31m:solve: Computation not completed: time out\u001b[0m"
     ]
    }
   ],
   "source": [
    ":solve z3 x = 1..n & y = 2*n..3*n & n = 100 & xy = x \\/ y"
   ]
  },
  {
   "cell_type": "code",
   "execution_count": 92,
   "metadata": {},
   "outputs": [
    {
     "name": "stdout",
     "output_type": "stream",
     "text": [
      "[2018-06-04 14:05:05,176, T+675025] \"ProB Output Logger for instance 1ede3ed1\" de.prob.cli.ProBInstance.readAndLog(ConsoleListener.java:48): [INFO] kodkod ok:   x = 1 .. n & y = 2 * n .. 3 * n & n = 100 & xy = x...  ints: irange(1,300), intatoms: irange(1,300)\u001b[0m\n",
      "[2018-06-04 14:05:05,176, T+675025] \"ProB Output Logger for instance 1ede3ed1\" de.prob.cli.ProBInstance.readAndLog(ConsoleListener.java:48): [INFO] Times for computing solutions: [2]\u001b[0m\n",
      "Execution time: 0.336676466 seconds\n"
     ]
    },
    {
     "data": {
      "text/plain": [
       "TRUE\n",
       "\n",
       "Solution:\n",
       "\txy = {3,5,6,7,9,10,11,12,13,14,15,17,18,19,20,21,22,23,24,25,26,27,28,29,30,31,33,34,35,36,37,38,39,40,41,42,43,44,45,46,47,48,49,50,51,52,53,54,55,56,57,58,59,60,61,62,63,65,66,67,68,69,70,71,72,73,74,75,76,77,78,79,80,81,82,83,84,85,86,87,88,89,90,91,92,93,94,95,96,97,98,99,100,200,201,202,203,204,205,206,…}\n",
       "\tx = {3,5,6,7,9,10,11,12,13,14,15,17,18,19,20,21,22,23,24,25,26,27,28,29,30,31,33,34,35,36,37,38,39,40,41,42,43,44,45,46,47,48,49,50,51,52,53,54,55,56,57,58,59,60,61,62,63,65,66,67,68,69,70,71,72,73,74,75,76,77,78,79,80,81,82,83,84,85,86,87,88,89,90,91,92,93,94,95,96,97,98,99,100,1,2,4,8,16,32,64}\n",
       "\ty = {200,201,202,203,204,205,206,207,208,209,210,211,212,213,214,215,216,217,218,219,220,221,222,223,224,225,226,227,228,229,230,231,232,233,234,235,236,237,238,239,240,241,242,243,244,245,246,247,248,249,250,251,252,253,254,255,257,258,259,260,261,262,263,264,265,266,267,268,269,270,271,272,273,274,275,276,277,278,279,280,281,282,283,284,285,286,287,288,289,290,291,292,293,294,295,296,297,298,299,300,256}\n",
       "\tn = 100"
      ]
     },
     "execution_count": 92,
     "metadata": {},
     "output_type": "execute_result"
    }
   ],
   "source": [
    ":time :solve kodkod x = 1..n & y = 2*n..3*n & n = 100 & xy = x \\/ y"
   ]
  },
  {
   "cell_type": "markdown",
   "metadata": {},
   "source": [
    "In the appendix there are more examples which analyse the performance for such examples."
   ]
  },
  {
   "cell_type": "markdown",
   "metadata": {
    "slideshow": {
     "slide_type": "subslide"
    }
   },
   "source": [
    "ProB employs the *Andorra* principle: deterministic computations are done first.\n",
    "As there are multiple set representations, there are actually two kinds of deterministic computations:\n",
    "- deterministic computations that generate an efficient representation, e.g., an AVL set representation\n",
    "- and other deterministic computations\n",
    "\n",
    "The ProB solver has a **WAITFLAG store** where choice points and enumerations are registered with a given priority.\n",
    "- Priority 0 means that an efficient representation can be generated\n",
    "- Priority 1 is a deterministic computation not guaranteed to produce an efficient representation\n",
    "- Priority k is a choice point/enumeration which may generate k possible values\n",
    "\n",
    "At each solving step one waitflag is activated, the one with the lowest priority.\n",
    "CLP(FD) variables are also registered in the WAITFLAG store and are enumerated before a waitflag of the same priority is activated. For tie breaking one typically uses the **most attached constraints first** (ffc) heuristic.\n",
    "\n",
    "#### Example ####\n",
    "Let us examine how ```x = 1..n & y = 2*n..3*n & n = 100 & xy = x \\/ y``` is solved.\n",
    "- all constraints are registered\n",
    "- in phase 0 ```n=100``` is run\n",
    "- this means that ```1..n``` can be efficiently computed\n",
    "- this means that ```x = 1..n``` triggers in phase 0\n",
    "- then ```2*n``` and ```3*n``` can be computed, followed by ```2*n..3*n```\n",
    "- this means that ```y = 2*n..3*n``` triggers in phase 0\n",
    "- again, this means that ```x \\/ y``` can be efficiently computed\n",
    "- finally ```xy = x \\/ y``` can be executed in phase 0\n",
    "\n",
    "No enumeration was required. In this case ProB's constraint solver works similar to a topological sorting algorithm.\n"
   ]
  },
  {
   "cell_type": "markdown",
   "metadata": {},
   "source": [
    "#### Dealing with unbounded enumeration ####\n",
    "\n",
    "Note: if an unbounded enumeration is encountered, the solver registers an **enumeration warning** in the current scope (every quantification / comprehension set results in a new inner scope). Depending on the kind of scope (existential/universal) and on whether a solution is found, the warning gets translated into an **UNKNOWN** result."
   ]
  },
  {
   "cell_type": "markdown",
   "metadata": {
    "slideshow": {
     "slide_type": "subslide"
    }
   },
   "source": [
    "### Functional Programming ###\n",
    "\n",
    "Some functions are automatically detected as infinite by ProB, are kept symbolic but can be applied in several ways:\n"
   ]
  },
  {
   "cell_type": "code",
   "execution_count": 93,
   "metadata": {},
   "outputs": [
    {
     "data": {
      "text/plain": [
       "TRUE\n",
       "\n",
       "Solution:\n",
       "\tr2 = {1,4,9,16,25,36,49,64,81,100}\n",
       "\tr3 = [4,9,25,49,121]\n",
       "\tr4 = 256\n",
       "\tsqrt = 10\n",
       "\tf = λx·(x ∈ INTEGER∣x ∗ x)\n",
       "\tr1 = 10000000000"
      ]
     },
     "execution_count": 93,
     "metadata": {},
     "output_type": "execute_result"
    }
   ],
   "source": [
    "f = %x.(x:INTEGER|x*x) &\n",
    "r1 = f(100000) &\n",
    "r2 = f[1..10] &\n",
    "r3 = ([2,3,5,7,11] ; f) &\n",
    "r4 = iterate(f,3)(2) &\n",
    "f(sqrt) = 100"
   ]
  },
  {
   "cell_type": "code",
   "execution_count": 94,
   "metadata": {},
   "outputs": [
    {
     "name": "stdout",
     "output_type": "stream",
     "text": [
      "[2018-06-04 14:08:39,826, T+889675] \"ProB Output Logger for instance 1ede3ed1\" de.prob.cli.ProBInstance.readAndLog(ConsoleListener.java:48): [INFO] \u001b[31m\u001b[1m! source(b_compute_comprehension_set)\u001b[0m\n",
      "[2018-06-04 14:08:39,826, T+889675] \"ProB Output Logger for instance 1ede3ed1\" de.prob.cli.ProBInstance.readAndLog(ConsoleListener.java:48): [INFO] \u001b[0m\u001b[31m\u001b[1m! Keeping comprehension-set symbolic (you may want to use the /*@symbolic*/ pragma to prevent this message, unless it was due to a WD-Error), identifiers: [x,y]\u001b[0m\n",
      "[2018-06-04 14:08:39,827, T+889676] \"ProB Output Logger for instance 1ede3ed1\" de.prob.cli.ProBInstance.readAndLog(ConsoleListener.java:48): [INFO] \u001b[0m\u001b[31m\u001b[1m! Line: 1 Column: 9 until 44\u001b[0m\n",
      "[2018-06-04 14:08:39,837, T+889686] \"ProB Output Logger for instance 1ede3ed1\" de.prob.cli.ProBInstance.readAndLog(ConsoleListener.java:48): [INFO] \u001b[0mVIRTUAL TIME-OUT caused by: ### Warning: enumerating NATURAL(1) : NATURAL(1) : 1:sup ---> 1:3\u001b[0m\n"
     ]
    },
    {
     "data": {
      "text/plain": [
       "TRUE\n",
       "\n",
       "Solution:\n",
       "\tr2 = {1,2,3,4}\n",
       "\tr3 = [2,2,3,3,4]\n",
       "\tr4 = 2\n",
       "\tr5 = {2,4,10,100}\n",
       "\tsqr = 9802\n",
       "\tf = {x,y∣x ∈ NATURAL ∧ y × 2 ≥ x ∧ (y − 1) × 2 < x}\n",
       "\tr1 = 317"
      ]
     },
     "execution_count": 94,
     "metadata": {},
     "output_type": "execute_result"
    }
   ],
   "source": [
    "f = {x,y|x:NATURAL & y**2 >= x & (y-1)**2 <x } & // integer square root function\n",
    "r1 = f(100000) &\n",
    "r2 = f[1..10] &\n",
    "r3 = ([2,3,5,7,11] ; f) &\n",
    "r4 = iterate(f,3)(2) &\n",
    "f(sqr) = 100 &\n",
    "r5 = closure1(f)[{10000}]"
   ]
  },
  {
   "cell_type": "markdown",
   "metadata": {
    "slideshow": {
     "slide_type": "subslide"
    }
   },
   "source": [
    "### Reification ###\n",
    "\n",
    "Reification is linking the truth value of a constraint with a boolean variable.\n",
    "ProB's kernel provides support for reifying a considerable number of constraints (but not yet all!).\n",
    "Reification is important for efficiency, to avoid choice points and is important to link various solvers of ProB (set, arithmetic, boolean,...).\n",
    "![CBCKernel](./img/ProB_CBC_Kernel.pdf)"
   ]
  },
  {
   "cell_type": "code",
   "execution_count": 95,
   "metadata": {},
   "outputs": [
    {
     "data": {
      "text/plain": [
       "TRUE\n",
       "\n",
       "Solution:\n",
       "\tx = 125\n",
       "\tReifVar = TRUE"
      ]
     },
     "execution_count": 95,
     "metadata": {},
     "output_type": "execute_result"
    }
   ],
   "source": [
    "(x>100 <=> (ReifVar=TRUE)) & (x<125 <=> (ReifVar=FALSE)) & x<200"
   ]
  },
  {
   "cell_type": "markdown",
   "metadata": {},
   "source": [
    "![Linking](./img/Linking.png)"
   ]
  },
  {
   "cell_type": "markdown",
   "metadata": {
    "slideshow": {
     "slide_type": "slide"
    }
   },
   "source": [
    "### Relation to SETLOG ###\n",
    "\n",
    "Setlog (http://people.dmi.unipr.it/gianfranco.rossi/setlog.Home.html) is based on non-deterministic set unification\n",
    "Setlog has additional inference rules\n",
    "\n",
    "The former causes problems with larger sets, in our experience.\n",
    "The latter could be added to ProB via CHR, but currently not done.\n",
    "\n",
    "Let us look at a simpler Setlog example from the article \"{log} as a Test Case Generator\n",
    "for the Test Template Framework\" by Cristia, Rossi and Frydman:\n",
    "```\n",
    "1 in R & 1 nin S & inters(R,S,T) & T = {X}\n",
    "```\n",
    "This can be encoded in B as follows:"
   ]
  },
  {
   "cell_type": "code",
   "execution_count": 96,
   "metadata": {},
   "outputs": [
    {
     "data": {
      "text/plain": [
       "TRUE\n",
       "\n",
       "Solution:\n",
       "\tR = {1,0}\n",
       "\tS = {0}\n",
       "\tT = {0}\n",
       "\tX = 0"
      ]
     },
     "execution_count": 96,
     "metadata": {},
     "output_type": "execute_result"
    }
   ],
   "source": [
    "1:R & 1/:S & R/\\S=T & T={X}"
   ]
  },
  {
   "cell_type": "markdown",
   "metadata": {
    "slideshow": {
     "slide_type": "subslide"
    }
   },
   "source": [
    "Another example from that paper is\n",
    "```\n",
    "X in int(1,5) & Y in int(4,10) & inters({X},{Y},R) & X >= Y\n",
    "```\n",
    "which has three solutions\n",
    "```\n",
    "X=4,Y=4,R={4}; X=5,Y=5,R={5}; X=5,Y=4,R={}.\n",
    "```\n",
    "Let us check this with ProB:"
   ]
  },
  {
   "cell_type": "code",
   "execution_count": 97,
   "metadata": {},
   "outputs": [
    {
     "data": {
      "text/plain": [
       "{((4↦4)↦{4}),((5↦4)↦∅),((5↦5)↦{5})}"
      ]
     },
     "execution_count": 97,
     "metadata": {},
     "output_type": "execute_result"
    }
   ],
   "source": [
    "{X,Y,R|X: 1..5 & Y: 4..10 & {X}/\\{Y}=R & X>=Y}"
   ]
  },
  {
   "cell_type": "markdown",
   "metadata": {
    "slideshow": {
     "slide_type": "subslide"
    }
   },
   "source": [
    "However, in particular with unbounded sets Setlog can solve some constraints that ProB, Z3 and Kodkod cannot:\n",
    "```\n",
    "un(A,B,D) & disj(A,C) & D=C & ris(X in A,[],true,X) neq {}\n",
    "```\n",
    "In B this corresponds to:"
   ]
  },
  {
   "cell_type": "code",
   "execution_count": 98,
   "metadata": {},
   "outputs": [
    {
     "name": "stdout",
     "output_type": "stream",
     "text": [
      "[2018-06-04 14:08:47,442, T+897291] \"ProB Output Logger for instance 1ede3ed1\" de.prob.cli.ProBInstance.readAndLog(ConsoleListener.java:48): [INFO] ### Warning: enumerating A : STRING : inf ---> \"STRING1\",\"STRING2\",...\u001b[0m\n",
      "[2018-06-04 14:08:47,443, T+897292] \"ProB Output Logger for instance 1ede3ed1\" de.prob.cli.ProBInstance.readAndLog(ConsoleListener.java:48): [INFO] ### Warning: enumerating B : STRING : inf ---> \"STRING1\",\"STRING2\",...\u001b[0m\n"
     ]
    },
    {
     "ename": "CommandExecutionException",
     "evalue": ":eval: UNKNOWN (FALSE with enumeration warning)",
     "output_type": "error",
     "traceback": [
      "\u001b[1m\u001b[31m:eval: UNKNOWN (FALSE with enumeration warning)\u001b[0m"
     ]
    }
   ],
   "source": [
    "A \\/ B = D & A /\\ C = {} & D=C & A /= {} & A:POW(STRING)"
   ]
  },
  {
   "cell_type": "markdown",
   "metadata": {
    "slideshow": {
     "slide_type": "subslide"
    }
   },
   "source": [
    "From A\\/B=D we and D=C we could infer A<:C and hence A/\\C=C and hence A={} which is in conflict with A/={}.\n",
    "ProB (as well as Kodkod and Z3 backends) can only infer the conflict for finite domains:"
   ]
  },
  {
   "cell_type": "code",
   "execution_count": 99,
   "metadata": {},
   "outputs": [
    {
     "data": {
      "text/plain": [
       "FALSE"
      ]
     },
     "execution_count": 99,
     "metadata": {},
     "output_type": "execute_result"
    }
   ],
   "source": [
    "A \\/ B = D & A /\\ C = {} & D=C & A /= {} & A:POW(BOOL)"
   ]
  },
  {
   "cell_type": "code",
   "execution_count": 100,
   "metadata": {},
   "outputs": [
    {
     "name": "stdout",
     "output_type": "stream",
     "text": [
      "[2018-06-04 14:08:48,854, T+898703] \"ProB Output Logger for instance 1ede3ed1\" de.prob.cli.ProBInstance.readAndLog(ConsoleListener.java:48): [INFO] kodkod ok:   A \\/ B = D & A /\\ C = {} & D = C & A /= {}  ints: none, intatoms: none\u001b[0m\n",
      "[2018-06-04 14:08:48,854, T+898703] \"ProB Output Logger for instance 1ede3ed1\" de.prob.cli.ProBInstance.readAndLog(ConsoleListener.java:48): [INFO] Times for computing solutions: []\u001b[0m\n"
     ]
    },
    {
     "data": {
      "text/plain": [
       "FALSE"
      ]
     },
     "execution_count": 100,
     "metadata": {},
     "output_type": "execute_result"
    }
   ],
   "source": [
    ":solve kodkod A \\/ B = D & A /\\ C = {} & D=C & A /= {} & A:POW(BOOL)"
   ]
  },
  {
   "cell_type": "code",
   "execution_count": 101,
   "metadata": {},
   "outputs": [
    {
     "data": {
      "text/plain": [
       "FALSE"
      ]
     },
     "execution_count": 101,
     "metadata": {},
     "output_type": "execute_result"
    }
   ],
   "source": [
    ":solve z3 A \\/ B = D & A /\\ C = {} & D=C & A /= {} & A:POW(BOOL)"
   ]
  },
  {
   "cell_type": "markdown",
   "metadata": {
    "slideshow": {
     "slide_type": "subslide"
    }
   },
   "source": [
    "Setlog has problems with larger sets. For example, the following takes 24 seconds using the latest stable release 4.9.1 of Setlog from http://people.dmi.unipr.it/gianfranco.rossi/setlog.Home.html: \n",
    "```\n",
    "{log}=> diff(int(1,200),{50},R).\n",
    "\n",
    "R = {1,2,3,4,5,6,7,8,9,10,11,12,13,14,15,16,17,18,19,20,21,22,23,24,25,26,27,28,29,30,31,32,33,34,35,36,37,38,39,40,41,42,43,44,45,46,47,48,49,51,52,53,54,55,56,57,58,59,60,61,62,63,64,65,66,67,68,69,70,71,72,73,74,75,76,77,78,79,80,81,82,83,84,85,86,87,88,89,90,91,92,93,94,95,96,97,98,99,100,101,102,103,104,105,106,107,108,109,110,111,112,113,114,115,116,117,118,119,120,121,122,123,124,125,126,127,128,129,130,131,132,133,134,135,136,137,138,139,140,141,142,143,144,145,146,147,148,149,150,151,152,153,154,155,156,157,158,159,160,161,162,163,164,165,166,167,168,169,170,171,172,173,174,175,176,177,178,179,180,181,182,183,184,185,186,187,188,189,190,191,192,193,194,195,196,197,198,199,200}\n",
    "\n",
    "Another solution?  (y/n)\n",
    "```\n",
    "In ProB this is instantenous:"
   ]
  },
  {
   "cell_type": "code",
   "execution_count": 102,
   "metadata": {
    "slideshow": {
     "slide_type": "subslide"
    }
   },
   "outputs": [
    {
     "name": "stdout",
     "output_type": "stream",
     "text": [
      "Execution time: 0.005074849 seconds\n"
     ]
    },
    {
     "data": {
      "text/plain": [
       "TRUE\n",
       "\n",
       "Solution:\n",
       "\tR = {1,2,3,4,5,6,7,8,9,10,11,12,13,14,15,16,17,18,19,20,21,22,23,24,25,26,27,28,29,30,31,32,33,34,35,36,37,38,39,40,41,42,43,44,45,46,47,48,49,51,52,53,54,55,56,57,58,59,60,61,62,63,64,65,66,67,68,69,70,71,72,73,74,75,76,77,78,79,80,81,82,83,84,85,86,87,88,89,90,91,92,93,94,95,96,97,98,99,100,101,102,103,104,105,106,107,108,109,110,111,112,113,114,115,116,117,118,119,120,121,122,123,124,125,126,127,128,129,130,131,132,133,134,135,136,137,138,139,140,141,142,143,144,145,146,147,148,149,150,151,152,153,154,155,156,157,158,159,160,161,162,163,164,165,166,167,168,169,170,171,172,173,174,175,176,177,178,179,180,181,182,183,184,185,186,187,188,189,190,191,192,193,194,195,196,197,198,199,200}"
      ]
     },
     "execution_count": 102,
     "metadata": {},
     "output_type": "execute_result"
    }
   ],
   "source": [
    ":time R= (1..200) \\ {50}"
   ]
  },
  {
   "cell_type": "markdown",
   "metadata": {
    "slideshow": {
     "slide_type": "slide"
    }
   },
   "source": [
    "## Summary of Set Constraint Solving Approaches ##\n",
    "\n",
    "- SAT Translation (Kodkod backend): \n",
    " - needs finite and small base type, no unbounded or higher-order sets\n",
    " - can be very effective for complex constraints involving image, transitive closure,...\n",
    " - limited performance for large sets\n",
    "- SMTLib Translation (Z3/CVC4 backend):\n",
    " - can deal with unbounded and large sets\n",
    " - due to heavy use of quantifiers, some finite constraints get translated into infinite ones: limited model finding capabilities\n",
    "- ProB's default backend:\n",
    " - can deal with unbounded and large sets\n",
    " - limited constraint solving for complex constraints involving image, transitive closure,...\n",
    " - no learning, backjumping\n",
    " - works well for large sets and semi-deterministic computation\n",
    " - works well for animation, data validation, disproving\n",
    " - limitations appear for symbolic model checking (IC3,...)\n",
    "  - Future work: improve combination with Z3/Kodkod, improve list representation (maybe use a bit-vector like representation, and CLP(FD) cardinality variable) \n",
    " "
   ]
  },
  {
   "cell_type": "markdown",
   "metadata": {
    "slideshow": {
     "slide_type": "subslide"
    }
   },
   "source": [
    "### Integrations of Approaches ###\n",
    "\n",
    "ProB provides the joint application of the CLP(FD) and SMT backend (preference ```SMT_SUPPORTED_INTERPRETER```.\n",
    "Constraints are posted both to ProB and Z3/CVC4, with the hope that Z3/CVC4 prune infeasible branches.\n",
    "The main motivation was new symbolic validation techniques such as IC3.\n",
    "\n",
    "The Kodkod integration also passes higher-order/unbounded constraints to ProB, after solving the first order finite constraints with Kodkod/Alloy.\n",
    "However, this kind of integration is rarely useful (most of the generated solutions get rejected by ProB).\n",
    "\n",
    "A more promising, fine-grained integration has been presented at PADL'18."
   ]
  },
  {
   "cell_type": "markdown",
   "metadata": {
    "slideshow": {
     "slide_type": "slide"
    }
   },
   "source": [
    "## Appendix ##"
   ]
  },
  {
   "cell_type": "markdown",
   "metadata": {
    "slideshow": {
     "slide_type": "subslide"
    }
   },
   "source": [
    "### Explicit Computations ####\n",
    "\n",
    "What about explicit computations? How well does the SMTLib translation fare here?"
   ]
  },
  {
   "cell_type": "code",
   "execution_count": 103,
   "metadata": {},
   "outputs": [
    {
     "ename": "CommandExecutionException",
     "evalue": ":solve: Computation not completed: no solution found (but one might exist)",
     "output_type": "error",
     "traceback": [
      "\u001b[1m\u001b[31m:solve: Computation not completed: no solution found (but one might exist)\u001b[0m"
     ]
    }
   ],
   "source": [
    ":solve z3 x = 1..1000 /\\ (200..300)"
   ]
  },
  {
   "cell_type": "code",
   "execution_count": 104,
   "metadata": {},
   "outputs": [
    {
     "name": "stdout",
     "output_type": "stream",
     "text": [
      "Execution time: 0.175097068 seconds\n"
     ]
    },
    {
     "data": {
      "text/plain": [
       "TRUE\n",
       "\n",
       "Solution:\n",
       "\tx = {6,7,8,9,10,11,12,13,14,15}"
      ]
     },
     "execution_count": 104,
     "metadata": {},
     "output_type": "execute_result"
    }
   ],
   "source": [
    ":time :solve z3 x = 1..40 /\\ (6..15)"
   ]
  },
  {
   "cell_type": "code",
   "execution_count": 105,
   "metadata": {},
   "outputs": [
    {
     "name": "stdout",
     "output_type": "stream",
     "text": [
      "Execution time: 0.754973438 seconds\n"
     ]
    },
    {
     "data": {
      "text/plain": [
       "TRUE\n",
       "\n",
       "Solution:\n",
       "\tx = {6,7,8,9,10,11,12,13,14,15}"
      ]
     },
     "execution_count": 105,
     "metadata": {},
     "output_type": "execute_result"
    }
   ],
   "source": [
    ":time :solve z3 x = 1..60 /\\ (6..15)"
   ]
  },
  {
   "cell_type": "code",
   "execution_count": 106,
   "metadata": {},
   "outputs": [
    {
     "name": "stdout",
     "output_type": "stream",
     "text": [
      "Execution time: 2.369086566 seconds\n"
     ]
    },
    {
     "data": {
      "text/plain": [
       "TRUE\n",
       "\n",
       "Solution:\n",
       "\tx = {6,7,8,9,10,11,12,13,14,15}"
      ]
     },
     "execution_count": 106,
     "metadata": {},
     "output_type": "execute_result"
    }
   ],
   "source": [
    ":time :solve z3 x = 1..80 /\\ (6..15)"
   ]
  },
  {
   "cell_type": "code",
   "execution_count": 107,
   "metadata": {},
   "outputs": [
    {
     "name": "stdout",
     "output_type": "stream",
     "text": [
      "Execution time: 0.004883079 seconds\n"
     ]
    },
    {
     "data": {
      "text/plain": [
       "TRUE\n",
       "\n",
       "Solution:\n",
       "\tx = (6 ‥ 15)"
      ]
     },
     "execution_count": 107,
     "metadata": {},
     "output_type": "execute_result"
    }
   ],
   "source": [
    ":time :solve prob x = 1..80 /\\ (6..15)"
   ]
  },
  {
   "cell_type": "markdown",
   "metadata": {
    "slideshow": {
     "slide_type": "subslide"
    }
   },
   "source": [
    "In the following the inverse operator seems to pose problems to Z3:"
   ]
  },
  {
   "cell_type": "code",
   "execution_count": 108,
   "metadata": {},
   "outputs": [
    {
     "ename": "CommandExecutionException",
     "evalue": ":solve: Computation not completed: no solution found (but one might exist)",
     "output_type": "error",
     "traceback": [
      "\u001b[1m\u001b[31m:solve: Computation not completed: no solution found (but one might exist)\u001b[0m"
     ]
    }
   ],
   "source": [
    ":solve z3 s1 = {2,3,5,7,11} & s2 = {4,8,16,32} & c = s1*s2 & r=c~[{8}]"
   ]
  },
  {
   "cell_type": "code",
   "execution_count": 109,
   "metadata": {},
   "outputs": [
    {
     "data": {
      "text/plain": [
       "TRUE\n",
       "\n",
       "Solution:\n",
       "\tr = {2,3,5,7,11}\n",
       "\tc = ({2,3,5,7,11} ∗ {4,8,16,32})\n",
       "\ts1 = {2,3,5,7,11}\n",
       "\ts2 = {4,8,16,32}"
      ]
     },
     "execution_count": 109,
     "metadata": {},
     "output_type": "execute_result"
    }
   ],
   "source": [
    ":solve prob s1 = {2,3,5,7,11} & s2 = {4,8,16,32} & c = s1*s2 & r=c~[{8}]"
   ]
  },
  {
   "cell_type": "markdown",
   "metadata": {
    "slideshow": {
     "slide_type": "slide"
    }
   },
   "source": [
    "### Comparison ###\n",
    "Some further examples for comparison of the backends"
   ]
  },
  {
   "cell_type": "code",
   "execution_count": 110,
   "metadata": {},
   "outputs": [
    {
     "name": "stdout",
     "output_type": "stream",
     "text": [
      "Execution time: 0.012805716 seconds\n"
     ]
    },
    {
     "data": {
      "text/plain": [
       "TRUE\n",
       "\n",
       "Solution:\n",
       "\tf = {(1↦1),(2↦2),(3↦3),(4↦4),(5↦5),(6↦6),(7↦7),(8↦8),(9↦9),(10↦10),(11↦11),(12↦12),(13↦13),(14↦14),(15↦15),(16↦16),(17↦17),(18↦18),(19↦19),(20↦20),(21↦21),(22↦22),(23↦23),(24↦24),(25↦25),(26↦26),(27↦27),(28↦28),(29↦29),(30↦30),(31↦31),(32↦32),(33↦33),(34↦34),(35↦35),(36↦36),(37↦37),(38↦38),(39↦39),(40↦40),(41↦41),(42↦42),(43↦43),(44↦44),(45↦45),(46↦46),(47↦47),(48↦48),(49↦49),(50↦50)}\n",
       "\tn = 50"
      ]
     },
     "execution_count": 110,
     "metadata": {},
     "output_type": "execute_result"
    }
   ],
   "source": [
    ":time :solve prob f: 1..n --> 1..n & !x.(x:2..n => f(x)=f(x-1)+1) & n=50"
   ]
  },
  {
   "cell_type": "code",
   "execution_count": 111,
   "metadata": {},
   "outputs": [
    {
     "name": "stdout",
     "output_type": "stream",
     "text": [
      "[2018-06-04 14:09:10,559, T+920408] \"ProB Output Logger for instance 1ede3ed1\" de.prob.cli.ProBInstance.readAndLog(ConsoleListener.java:48): [INFO] kodkod ok:   f : 1 .. n --> 1 .. n & !x.(x : 2 .. n => f(x) = f...  ints: irange(1,50), intatoms: irange(1,50)\u001b[0m\n",
      "[2018-06-04 14:09:10,560, T+920409] \"ProB Output Logger for instance 1ede3ed1\" de.prob.cli.ProBInstance.readAndLog(ConsoleListener.java:48): [INFO] Times for computing solutions: [1185]\u001b[0m\n",
      "Execution time: 3.657044854 seconds\n"
     ]
    },
    {
     "data": {
      "text/plain": [
       "TRUE\n",
       "\n",
       "Solution:\n",
       "\tf = {(3↦3),(5↦5),(6↦6),(7↦7),(9↦9),(10↦10),(11↦11),(12↦12),(13↦13),(14↦14),(15↦15),(17↦17),(18↦18),(19↦19),(20↦20),(21↦21),(22↦22),(23↦23),(24↦24),(25↦25),(26↦26),(27↦27),(28↦28),(29↦29),(30↦30),(31↦31),(33↦33),(34↦34),(35↦35),(36↦36),(37↦37),(38↦38),(39↦39),(40↦40),(41↦41),(42↦42),(43↦43),(44↦44),(45↦45),(46↦46),(47↦47),(48↦48),(49↦49),(50↦50),(1↦1),(2↦2),(4↦4),(8↦8),(16↦16),(32↦32)}\n",
       "\tn = 50"
      ]
     },
     "execution_count": 111,
     "metadata": {},
     "output_type": "execute_result"
    }
   ],
   "source": [
    ":time :solve kodkod f: 1..n --> 1..n & !x.(x:2..n => f(x)=f(x-1)+1) & n=50"
   ]
  },
  {
   "cell_type": "code",
   "execution_count": 112,
   "metadata": {},
   "outputs": [
    {
     "name": "stdout",
     "output_type": "stream",
     "text": [
      "[2018-06-04 14:09:13,146, T+922995] \"ProB Output Logger for instance 1ede3ed1\" de.prob.cli.ProBInstance.readAndLog(ConsoleListener.java:48): [INFO] z3exception in query: canceled\u001b[0m\n"
     ]
    },
    {
     "ename": "CommandExecutionException",
     "evalue": ":time: :solve: Computation not completed: time out",
     "output_type": "error",
     "traceback": [
      "\u001b[1m\u001b[31m:time: :solve: Computation not completed: time out\u001b[0m"
     ]
    }
   ],
   "source": [
    ":time :solve z3 f: 1..n --> 1..n & !x.(x:2..n => f(x)=f(x-1)+1) & n=50"
   ]
  },
  {
   "cell_type": "markdown",
   "metadata": {
    "slideshow": {
     "slide_type": "subslide"
    }
   },
   "source": [
    "### Fast with Kodkod ###\n",
    "\n",
    "#### Example with relational composition and image ####"
   ]
  },
  {
   "cell_type": "code",
   "execution_count": 113,
   "metadata": {},
   "outputs": [
    {
     "name": "stdout",
     "output_type": "stream",
     "text": [
      "Execution time: 2.087463022 seconds\n"
     ]
    },
    {
     "data": {
      "text/plain": [
       "TRUE\n",
       "\n",
       "Solution:\n",
       "\tr = {(1↦1),(1↦2),(1↦3),(1↦4),(1↦5),(2↦3),(2↦4),(3↦3),(3↦4),(4↦3),(4↦4),(5↦1),(5↦2),(5↦3),(5↦4),(5↦5)}"
      ]
     },
     "execution_count": 113,
     "metadata": {},
     "output_type": "execute_result"
    }
   ],
   "source": [
    ":time :solve prob r: 1..5 <-> 1..5 & (r;r) = r & r /= {} & dom(r)=1..5 & r[2..3]=3..4"
   ]
  },
  {
   "cell_type": "code",
   "execution_count": 114,
   "metadata": {},
   "outputs": [
    {
     "name": "stdout",
     "output_type": "stream",
     "text": [
      "[2018-06-04 14:09:15,382, T+925231] \"ProB Output Logger for instance 1ede3ed1\" de.prob.cli.ProBInstance.readAndLog(ConsoleListener.java:48): [INFO] kodkod ok:   r : 1 .. 5 <-> 1 .. 5 & (r ; r) = r & r /= {} & do...  ints: irange(0,5), intatoms: irange(0,5)\u001b[0m\n",
      "[2018-06-04 14:09:15,383, T+925232] \"ProB Output Logger for instance 1ede3ed1\" de.prob.cli.ProBInstance.readAndLog(ConsoleListener.java:48): [INFO] Times for computing solutions: [1,1,1,0,1,0,1,0,1,1,0,1,0,1,1,0,1,0,1,0,1,1]\u001b[0m\n",
      "Execution time: 0.037624591 seconds\n"
     ]
    },
    {
     "data": {
      "text/plain": [
       "TRUE\n",
       "\n",
       "Solution:\n",
       "\tr = {(3↦3),(3↦4),(5↦4),(1↦4),(2↦4),(4↦4)}"
      ]
     },
     "execution_count": 114,
     "metadata": {},
     "output_type": "execute_result"
    }
   ],
   "source": [
    ":time :solve kodkod r: 1..5 <-> 1..5 & (r;r) = r & r /= {} & dom(r)=1..5 & r[2..3]=3..4"
   ]
  },
  {
   "cell_type": "code",
   "execution_count": 115,
   "metadata": {},
   "outputs": [
    {
     "ename": "CommandExecutionException",
     "evalue": ":time: :solve: Computation not completed: no solution found (but one might exist)",
     "output_type": "error",
     "traceback": [
      "\u001b[1m\u001b[31m:time: :solve: Computation not completed: no solution found (but one might exist)\u001b[0m"
     ]
    }
   ],
   "source": [
    ":time :solve z3 r: 1..5 <-> 1..5 & (r;r) = r & r /= {} & dom(r)=1..5 & r[2..3]=3..4"
   ]
  },
  {
   "cell_type": "code",
   "execution_count": 116,
   "metadata": {},
   "outputs": [
    {
     "name": "stdout",
     "output_type": "stream",
     "text": [
      "Execution time: 1.971222669 seconds\n"
     ]
    },
    {
     "data": {
      "text/plain": [
       "TRUE\n",
       "\n",
       "Solution:\n",
       "\tr = {(1↦1),(1↦2),(1↦3),(1↦4),(1↦5),(2↦3),(2↦4),(3↦3),(3↦4),(4↦3),(4↦4),(5↦1),(5↦2),(5↦3),(5↦4),(5↦5)}"
      ]
     },
     "execution_count": 116,
     "metadata": {},
     "output_type": "execute_result"
    }
   ],
   "source": [
    ":time :solve prob r: 1..5 <-> 1..5 & (r;r) = r & r /= {} & dom(r)=1..5 & r[2..3]=3..4"
   ]
  },
  {
   "cell_type": "markdown",
   "metadata": {
    "slideshow": {
     "slide_type": "slide"
    }
   },
   "source": [
    "#### Graph theorem ####\n",
    "\n",
    "Theorem: all undirected graphs without self-loops (and no 0-vertices) have two nodes with the same degree."
   ]
  },
  {
   "cell_type": "code",
   "execution_count": 10,
   "metadata": {},
   "outputs": [
    {
     "name": "stdout",
     "output_type": "stream",
     "text": [
      "[2018-06-04 16:46:59,166, T+6475117] \"Shell-0\" de.prob.cli.PrologProcessProvider.makeProcess(PrologProcessProvider.java:64): [INFO] Starting ProB's Prolog Core. Path is /Users/leuschel/git_root/prob_prolog/probcli.sh\n",
      "[2018-06-04 16:47:00,347, T+6476298] \"Shell-0\" de.prob.cli.PortPattern.setValue(PortPattern.java:30): [INFO] Server has started and listens on port 55595\n",
      "[2018-06-04 16:47:00,348, T+6476299] \"Shell-0\" de.prob.cli.InterruptRefPattern.setValue(InterruptRefPattern.java:29): [INFO] Server can receive user interrupts via reference 52301\n",
      "[2018-06-04 16:47:00,350, T+6476301] \"ProB Output Logger for instance ecdd0f\" de.prob.cli.ProBInstance.readAndLog(ConsoleListener.java:48): [INFO] -- starting command loop --\u001b[0m\n",
      "[2018-06-04 16:47:00,364, T+6476315] \"ProB Output Logger for instance ecdd0f\" de.prob.cli.ProBInstance.readAndLog(ConsoleListener.java:48): [INFO] Connected: 127.0.0.1\u001b[0m\n"
     ]
    },
    {
     "data": {
      "text/plain": [
       "Loaded machine: GraphTheorem : []\n"
      ]
     },
     "execution_count": 10,
     "metadata": {},
     "output_type": "execute_result"
    }
   ],
   "source": [
    "::load\n",
    "MACHINE GraphTheorem\n",
    "SETS NODES5 \n",
    "PROPERTIES card(NODES5)=5\n",
    "END"
   ]
  },
  {
   "cell_type": "code",
   "execution_count": 118,
   "metadata": {},
   "outputs": [
    {
     "data": {
      "text/latex": [
       "$\\mathit{edges} \\in  \\mathit{NODES5} \\mathbin\\leftrightarrow \\mathit{NODES5} \\wedge  \\mathit{edges}^{-1} = \\mathit{edges} \\wedge  \\neg (\\exists (\\mathit{n1},\\mathit{n2})\\cdot (\\mathit{n1} \\in  \\mathit{NODES5} \\wedge  \\mathit{n2} \\in  \\mathit{NODES5} \\wedge  \\mathit{n2} \\neq  \\mathit{n1} \\wedge  \\mathit{card}(\\mathit{edges}[\\{\\mathit{n1}\\}]) = \\mathit{card}(\\mathit{edges}[\\{\\mathit{n2}\\}]))) \\wedge  \\mathit{dom}(\\mathit{edges}) = \\mathit{NODES5} \\wedge  id(\\mathit{NODES5}) \\cap  \\mathit{edges} = \\emptyset $"
      ],
      "text/plain": [
       "edges ∈ NODES5 ↔ NODES5 ∧ edges⁻¹ = edges ∧ ¬(∃(n1,n2)Â·(n1 ∈ NODES5 ∧ n2 ∈ NODES5 ∧ n2 ≠ n1 ∧ card(edges[{n1}]) = card(edges[{n2}]))) ∧ dom(edges) = NODES5 ∧ id(NODES5) ∩ edges = ∅"
      ]
     },
     "execution_count": 118,
     "metadata": {},
     "output_type": "execute_result"
    }
   ],
   "source": [
    ":prettyprint edges : NODES5 <-> NODES5 & \n",
    "      edges~=edges &\n",
    "      not(#(n1,n2).(n1:NODES5 & n2:NODES5 & n2/=n1 & \n",
    "      card(edges[{n1}]) = card(edges[{n2}]))) &\n",
    "      dom(edges)=NODES5 & id(NODES5) /\\ edges = {}"
   ]
  },
  {
   "cell_type": "code",
   "execution_count": 119,
   "metadata": {},
   "outputs": [
    {
     "ename": "CommandExecutionException",
     "evalue": ":time: :solve: Computation not completed: time out",
     "output_type": "error",
     "traceback": [
      "\u001b[1m\u001b[31m:time: :solve: Computation not completed: time out\u001b[0m"
     ]
    }
   ],
   "source": [
    ":time :solve prob  edges : NODES5 <-> NODES5 & \n",
    "      edges~=edges &\n",
    "      not(#(n1,n2).(n1:NODES5 & n2:NODES5 & n2/=n1 & \n",
    "      card(edges[{n1}]) = card(edges[{n2}]))) &\n",
    "      dom(edges)=NODES5 & id(NODES5) /\\ edges = {}"
   ]
  },
  {
   "cell_type": "code",
   "execution_count": 120,
   "metadata": {
    "slideshow": {
     "slide_type": "subslide"
    }
   },
   "outputs": [
    {
     "name": "stdout",
     "output_type": "stream",
     "text": [
      "[2018-06-04 14:09:25,781, T+935630] \"ProB Output Logger for instance 2d81a536\" de.prob.cli.ProBInstance.readAndLog(ConsoleListener.java:48): [INFO] kodkod ok:   edges~ = edges & not(#(n1,n2).(n2 /= n1 & card(edg...  ints: irange(0,5), intatoms: none\u001b[0m\n",
      "[2018-06-04 14:09:25,781, T+935630] \"ProB Output Logger for instance 2d81a536\" de.prob.cli.ProBInstance.readAndLog(ConsoleListener.java:48): [INFO] Kodkod module started up successfully (SAT solver SAT4J with timeout of 1500 ms).\u001b[0m\n",
      "[2018-06-04 14:09:25,782, T+935631] \"ProB Output Logger for instance 2d81a536\" de.prob.cli.ProBInstance.readAndLog(ConsoleListener.java:48): [INFO] Times for computing solutions: []\u001b[0m\n",
      "Execution time: 0.837816834 seconds\n"
     ]
    },
    {
     "data": {
      "text/plain": [
       "FALSE"
      ]
     },
     "execution_count": 120,
     "metadata": {},
     "output_type": "execute_result"
    }
   ],
   "source": [
    ":time :solve kodkod  edges : NODES5 <-> NODES5 & \n",
    "      edges~=edges &\n",
    "      not(#(n1,n2).(n1:NODES5 & n2:NODES5 & n2/=n1 & \n",
    "      card(edges[{n1}]) = card(edges[{n2}]))) &\n",
    "      dom(edges)=NODES5 & id(NODES5) /\\ edges = {}"
   ]
  },
  {
   "cell_type": "code",
   "execution_count": 121,
   "metadata": {},
   "outputs": [
    {
     "ename": "CommandExecutionException",
     "evalue": ":time: :solve: Computation not completed: no solution found (but one might exist)",
     "output_type": "error",
     "traceback": [
      "\u001b[1m\u001b[31m:time: :solve: Computation not completed: no solution found (but one might exist)\u001b[0m"
     ]
    }
   ],
   "source": [
    ":time :solve z3  edges : NODES5 <-> NODES5 & \n",
    "      edges~=edges &\n",
    "      not(#(n1,n2).(n1:NODES5 & n2:NODES5 & n2/=n1 & \n",
    "      card(edges[{n1}]) = card(edges[{n2}]))) &\n",
    "      dom(edges)=NODES5 & id(NODES5) /\\ edges = {}"
   ]
  },
  {
   "cell_type": "markdown",
   "metadata": {
    "slideshow": {
     "slide_type": "subslide"
    }
   },
   "source": [
    "So with Kodkod we proved the theorem for 5 nodes in about a second.\n",
    "What if we remove the self-loops restriction:"
   ]
  },
  {
   "cell_type": "code",
   "execution_count": 122,
   "metadata": {},
   "outputs": [
    {
     "name": "stdout",
     "output_type": "stream",
     "text": [
      "[2018-06-04 14:09:26,058, T+935907] \"ProB Output Logger for instance 2d81a536\" de.prob.cli.ProBInstance.readAndLog(ConsoleListener.java:48): [INFO] kodkod ok:   edges~ = edges & not(#(n1,n2).(n2 /= n1 & card(edg...  ints: irange(0,5), intatoms: none\u001b[0m\n",
      "[2018-06-04 14:09:26,059, T+935908] \"ProB Output Logger for instance 2d81a536\" de.prob.cli.ProBInstance.readAndLog(ConsoleListener.java:48): [INFO] Times for computing solutions: [5,4,3,1,2,2,2,2,2,1,7,1,2,2,2,1,3,2,2,2,1,2]\u001b[0m\n",
      "Execution time: 0.107056638 seconds\n"
     ]
    },
    {
     "data": {
      "text/plain": [
       "TRUE\n",
       "\n",
       "Solution:\n",
       "\tedges = {(NODES51↦NODES54),(NODES52↦NODES52),(NODES52↦NODES53),(NODES52↦NODES54),(NODES53↦NODES52),(NODES53↦NODES53),(NODES53↦NODES54),(NODES53↦NODES55),(NODES54↦NODES51),(NODES54↦NODES52),(NODES54↦NODES53),(NODES54↦NODES54),(NODES54↦NODES55),(NODES55↦NODES53),(NODES55↦NODES54)}"
      ]
     },
     "execution_count": 122,
     "metadata": {},
     "output_type": "execute_result"
    }
   ],
   "source": [
    ":time :solve kodkod  edges : NODES5 <-> NODES5 & \n",
    "      edges~=edges &\n",
    "      not(#(n1,n2).(n1:NODES5 & n2:NODES5 & n2/=n1 & \n",
    "      card(edges[{n1}]) = card(edges[{n2}]))) &\n",
    "      dom(edges)=NODES5"
   ]
  },
  {
   "cell_type": "code",
   "execution_count": 123,
   "metadata": {},
   "outputs": [
    {
     "name": "stdout",
     "output_type": "stream",
     "text": [
      "[2018-06-04 14:09:26,173, T+936022] \"ProB Output Logger for instance 2d81a536\" de.prob.cli.ProBInstance.readAndLog(ConsoleListener.java:48): [INFO] kodkod ok:   edges~ = edges & not(#(n1,n2).(n1 : dom(edges) & n...  ints: irange(0,5), intatoms: none\u001b[0m\n",
      "Execution time: 0.056822248 seconds\n"
     ]
    },
    {
     "data": {
      "text/plain": [
       "FALSE"
      ]
     },
     "execution_count": 123,
     "metadata": {},
     "output_type": "execute_result"
    }
   ],
   "source": [
    ":time :solve kodkod  edges : NODES5 <-> NODES5 & \n",
    "      edges~=edges &\n",
    "      not(#(n1,n2).(n1:dom(edges) & n2:dom(edges) & n2/=n1 & \n",
    "                    card(edges[{n1}]) = card(edges[{n2}]))) &\n",
    "      id(NODES5) /\\ edges = {} & edges /= {}"
   ]
  },
  {
   "cell_type": "markdown",
   "metadata": {
    "slideshow": {
     "slide_type": "slide"
    }
   },
   "source": [
    "### Benchmark Puzzles ####\n",
    "\n",
    "#### N-Queens ####\n"
   ]
  },
  {
   "cell_type": "code",
   "execution_count": 124,
   "metadata": {},
   "outputs": [
    {
     "name": "stdout",
     "output_type": "stream",
     "text": [
      "Execution time: 0.053214873 seconds\n"
     ]
    },
    {
     "data": {
      "text/plain": [
       "TRUE\n",
       "\n",
       "Solution:\n",
       "\tqueens = {(1↦4),(2↦2),(3↦7),(4↦3),(5↦6),(6↦8),(7↦5),(8↦1)}\n",
       "\tn = 8"
      ]
     },
     "execution_count": 124,
     "metadata": {},
     "output_type": "execute_result"
    }
   ],
   "source": [
    ":time :solve prob n=8 &\n",
    "    queens : 1..n >-> 1..n &\n",
    "    !(q1,q2).(q1:1..n & q2:2..n & q2>q1 => queens(q1)+(q2-q1) /= queens(q2) & queens(q1)+(q1-q2) /= queens(q2))"
   ]
  },
  {
   "cell_type": "code",
   "execution_count": 125,
   "metadata": {},
   "outputs": [
    {
     "name": "stdout",
     "output_type": "stream",
     "text": [
      "Execution time: 0.370806337 seconds\n"
     ]
    },
    {
     "data": {
      "text/plain": [
       "TRUE\n",
       "\n",
       "Solution:\n",
       "\tqueens = {(1↦4),(2↦7),(3↦5),(4↦2),(5↦6),(6↦1),(7↦3),(8↦8)}\n",
       "\tn = 8"
      ]
     },
     "execution_count": 125,
     "metadata": {},
     "output_type": "execute_result"
    }
   ],
   "source": [
    ":time :solve z3 n=8 &\n",
    "    queens : 1..n >-> 1..n &\n",
    "    !(q1,q2).(q1:1..n & q2:2..n & q2>q1 => queens(q1)+(q2-q1) /= queens(q2) & queens(q1)+(q1-q2) /= queens(q2))"
   ]
  },
  {
   "cell_type": "code",
   "execution_count": 126,
   "metadata": {},
   "outputs": [
    {
     "name": "stdout",
     "output_type": "stream",
     "text": [
      "[2018-06-04 14:09:27,167, T+937016] \"ProB Output Logger for instance 2d81a536\" de.prob.cli.ProBInstance.readAndLog(ConsoleListener.java:48): [INFO] kodkod ok:   n = 8 & queens : 1 .. n >-> 1 .. n & !(q1,q2).(q1 ...  ints: irange(-7,15), intatoms: irange(1,8)\u001b[0m\n",
      "[2018-06-04 14:09:27,168, T+937017] \"ProB Output Logger for instance 2d81a536\" de.prob.cli.ProBInstance.readAndLog(ConsoleListener.java:48): [INFO] Times for computing solutions: [27,19,44,9,6,6,11,5,5,10,4,9,22,2,6,8,4,3,3,14,3,3]\u001b[0m\n",
      "Execution time: 0.405027874 seconds\n"
     ]
    },
    {
     "data": {
      "text/plain": [
       "TRUE\n",
       "\n",
       "Solution:\n",
       "\tqueens = {(3↦2),(5↦5),(6↦1),(7↦8),(1↦3),(2↦6),(4↦7),(8↦4)}\n",
       "\tn = 8"
      ]
     },
     "execution_count": 126,
     "metadata": {},
     "output_type": "execute_result"
    }
   ],
   "source": [
    ":time :solve kodkod n=8 &\n",
    "    queens : 1..n >-> 1..n &\n",
    "    !(q1,q2).(q1:1..n & q2:2..n & q2>q1 => queens(q1)+(q2-q1) /= queens(q2) & queens(q1)+(q1-q2) /= queens(q2))"
   ]
  },
  {
   "cell_type": "markdown",
   "metadata": {
    "slideshow": {
     "slide_type": "subslide"
    }
   },
   "source": [
    "#### N-Bishops ####\n"
   ]
  },
  {
   "cell_type": "code",
   "execution_count": 127,
   "metadata": {},
   "outputs": [
    {
     "name": "stdout",
     "output_type": "stream",
     "text": [
      "Execution time: 0.054922769 seconds\n"
     ]
    },
    {
     "data": {
      "text/plain": [
       "TRUE\n",
       "\n",
       "Solution:\n",
       "\tbshp = {(1↦1),(1↦2),(1↦3)}\n",
       "\tn = 3"
      ]
     },
     "execution_count": 127,
     "metadata": {},
     "output_type": "execute_result"
    }
   ],
   "source": [
    ":time :solve prob n=3 & bshp <: (1..n)*(1..n) & \n",
    "  !(i,j).({i,j}<:1..n => ( (i,j): bshp => (!k.(k:(i+1)..n => (k,j+k-i) /: bshp & (k,j-k+i) /: bshp )) )) &\n",
    "  card(bshp) = 3"
   ]
  },
  {
   "cell_type": "code",
   "execution_count": 128,
   "metadata": {},
   "outputs": [
    {
     "name": "stdout",
     "output_type": "stream",
     "text": [
      "[2018-06-04 14:09:29,856, T+939705] \"ProB Output Logger for instance 2d81a536\" de.prob.cli.ProBInstance.readAndLog(ConsoleListener.java:48): [INFO] z3exception in query: canceled\u001b[0m\n"
     ]
    },
    {
     "ename": "CommandExecutionException",
     "evalue": ":time: :solve: Computation not completed: time out",
     "output_type": "error",
     "traceback": [
      "\u001b[1m\u001b[31m:time: :solve: Computation not completed: time out\u001b[0m"
     ]
    }
   ],
   "source": [
    ":time :solve z3 n=3 & bshp <: (1..n)*(1..n) & \n",
    "  !(i,j).({i,j}<:1..n => ( (i,j): bshp => (!k.(k:(i+1)..n => (k,j+k-i) /: bshp & (k,j-k+i) /: bshp )) )) &\n",
    "  card(bshp) = 3"
   ]
  },
  {
   "cell_type": "markdown",
   "metadata": {},
   "source": [
    "Solving takes about 150 seconds; Kodkod translation currently does not work due to card and preventing overflows."
   ]
  },
  {
   "cell_type": "code",
   "execution_count": 129,
   "metadata": {},
   "outputs": [
    {
     "data": {
      "text/latex": [
       "$\\mathit{n} = 3 \\wedge  \\mathit{bshp} \\subseteq  (1 .. \\mathit{n}) \\times (1 .. \\mathit{n}) \\wedge  \\forall (\\mathit{i},\\mathit{j})\\cdot (\\{\\mathit{i},\\mathit{j}\\} \\subseteq  1 .. \\mathit{n} \\mathbin\\Rightarrow  (\\mathit{i} \\mapsto  \\mathit{j} \\in  \\mathit{bshp} \\mathbin\\Rightarrow  \\forall \\mathit{k}\\cdot (\\mathit{k} \\in  \\mathit{i} + 1 .. \\mathit{n} \\mathbin\\Rightarrow  (\\mathit{k} \\mapsto  (\\mathit{j} + \\mathit{k}) - \\mathit{i}) \\not\\in  \\mathit{bshp} \\wedge  (\\mathit{k} \\mapsto  (\\mathit{j} - \\mathit{k}) + \\mathit{i}) \\not\\in  \\mathit{bshp}))) \\wedge  \\mathit{card}(\\mathit{bshp}) = 3$"
      ],
      "text/plain": [
       "n = 3 ∧ bshp ⊆ (1 ‥ n) × (1 ‥ n) ∧ ∀(i,j)Â·({i,j} ⊆ 1 ‥ n ⇒ (i ↦ j ∈ bshp ⇒ ∀kÂ·(k ∈ i + 1 ‥ n ⇒ (k ↦ (j + k) - i) ∉ bshp ∧ (k ↦ (j - k) + i) ∉ bshp))) ∧ card(bshp) = 3"
      ]
     },
     "execution_count": 129,
     "metadata": {},
     "output_type": "execute_result"
    }
   ],
   "source": [
    ":prettyprint n=3 & bshp <: (1..n)*(1..n)  & \n",
    "  !(i,j).({i,j}<:1..n => ( (i,j): bshp => (!k.(k:(i+1)..n => (k,j+k-i) /: bshp & (k,j-k+i) /: bshp )) )) &\n",
    "  card(bshp) = 3"
   ]
  },
  {
   "cell_type": "markdown",
   "metadata": {
    "slideshow": {
     "slide_type": "subslide"
    }
   },
   "source": [
    "### Other examples ###\n"
   ]
  },
  {
   "cell_type": "code",
   "execution_count": 130,
   "metadata": {},
   "outputs": [
    {
     "data": {
      "text/plain": [
       "TRUE\n",
       "\n",
       "Solution:\n",
       "\tr = {(1↦1),(1↦2),(1↦3),(2↦1),(2↦2),(2↦3)}"
      ]
     },
     "execution_count": 130,
     "metadata": {},
     "output_type": "execute_result"
    }
   ],
   "source": [
    "!x.(x:1..2 => !y.(y:1..3 => (x,y):r)) "
   ]
  },
  {
   "cell_type": "code",
   "execution_count": 131,
   "metadata": {},
   "outputs": [
    {
     "data": {
      "text/plain": [
       "TRUE\n",
       "\n",
       "Solution:\n",
       "\tr = {z_∣z_ ∈ INTEGER ∗ INTEGER}"
      ]
     },
     "execution_count": 131,
     "metadata": {},
     "output_type": "execute_result"
    }
   ],
   "source": [
    ":solve z3 !x.(x:1..2 => !y.(y:1..3 => (x,y):r)) "
   ]
  },
  {
   "cell_type": "markdown",
   "metadata": {},
   "source": [
    "For unbounded problem above, Z3 can find a model, but for the one below not (even with mbqi and pull_nested_quantifiers)."
   ]
  },
  {
   "cell_type": "code",
   "execution_count": 132,
   "metadata": {},
   "outputs": [
    {
     "ename": "CommandExecutionException",
     "evalue": ":solve: Computation not completed: no solution found (but one might exist)",
     "output_type": "error",
     "traceback": [
      "\u001b[1m\u001b[31m:solve: Computation not completed: no solution found (but one might exist)\u001b[0m"
     ]
    }
   ],
   "source": [
    ":solve z3 !x.(x:1..2 => !y.(y:1..3 => (x,y):r)) & r<: (1..10)*(1..10)"
   ]
  },
  {
   "cell_type": "code",
   "execution_count": 133,
   "metadata": {},
   "outputs": [
    {
     "name": "stdout",
     "output_type": "stream",
     "text": [
      "[2018-06-04 14:09:32,837, T+942686] \"ProB Output Logger for instance 2d81a536\" de.prob.cli.ProBInstance.readAndLog(ConsoleListener.java:48): [INFO] kodkod ok:   !x.(x : 1 .. 2 => !y.(y : 1 .. 3 => x |-> y : r)) ...  ints: irange(1,10), intatoms: irange(1,10)\u001b[0m\n",
      "[2018-06-04 14:09:32,839, T+942688] \"ProB Output Logger for instance 2d81a536\" de.prob.cli.ProBInstance.readAndLog(ConsoleListener.java:48): [INFO] Times for computing solutions: [2,2,0,2,3,6,0,4,2,0,1,1,2,1,2,0,1,2,4,2,0,1]\u001b[0m\n",
      "Execution time: 0.112904757 seconds\n"
     ]
    },
    {
     "data": {
      "text/plain": [
       "TRUE\n",
       "\n",
       "Solution:\n",
       "\tr = {(1↦3),(1↦1),(1↦2),(2↦3),(2↦1),(2↦2)}"
      ]
     },
     "execution_count": 133,
     "metadata": {},
     "output_type": "execute_result"
    }
   ],
   "source": [
    ":time :solve kodkod !x.(x:1..2 => !y.(y:1..3 => (x,y):r)) & r<: (1..10)*(1..10)"
   ]
  },
  {
   "cell_type": "code",
   "execution_count": 134,
   "metadata": {},
   "outputs": [
    {
     "name": "stdout",
     "output_type": "stream",
     "text": [
      "Execution time: 0.019540215 seconds\n"
     ]
    },
    {
     "data": {
      "text/plain": [
       "TRUE\n",
       "\n",
       "Solution:\n",
       "\tr = {(1↦1),(1↦2),(1↦3),(2↦1),(2↦2),(2↦3)}"
      ]
     },
     "execution_count": 134,
     "metadata": {},
     "output_type": "execute_result"
    }
   ],
   "source": [
    ":time :solve prob !x.(x:1..2 => !y.(y:1..3 => (x,y):r)) & r<: (1..10)*(1..10)"
   ]
  },
  {
   "cell_type": "markdown",
   "metadata": {
    "slideshow": {
     "slide_type": "subslide"
    }
   },
   "source": [
    "#### Datavalidation example ####\n"
   ]
  },
  {
   "cell_type": "code",
   "execution_count": 135,
   "metadata": {},
   "outputs": [
    {
     "name": "stdout",
     "output_type": "stream",
     "text": [
      "[2018-06-04 14:09:33,012, T+942861] \"Shell-0\" de.prob.cli.PrologProcessProvider.makeProcess(PrologProcessProvider.java:64): [INFO] Starting ProB's Prolog Core. Path is /Users/leuschel/git_root/prob_prolog/probcli.sh\n",
      "[2018-06-04 14:09:34,585, T+944434] \"Shell-0\" de.prob.cli.PortPattern.setValue(PortPattern.java:30): [INFO] Server has started and listens on port 63565\n",
      "[2018-06-04 14:09:34,585, T+944434] \"Shell-0\" de.prob.cli.InterruptRefPattern.setValue(InterruptRefPattern.java:29): [INFO] Server can receive user interrupts via reference 47984\n",
      "[2018-06-04 14:09:34,589, T+944438] \"ProB Output Logger for instance 79d26131\" de.prob.cli.ProBInstance.readAndLog(ConsoleListener.java:48): [INFO] -- starting command loop --\u001b[0m\n",
      "[2018-06-04 14:09:34,613, T+944462] \"ProB Output Logger for instance 79d26131\" de.prob.cli.ProBInstance.readAndLog(ConsoleListener.java:48): [INFO] Connected: 127.0.0.1\u001b[0m\n"
     ]
    },
    {
     "data": {
      "text/plain": [
       "Loaded machine: signals : []\n"
      ]
     },
     "execution_count": 135,
     "metadata": {},
     "output_type": "execute_result"
    }
   ],
   "source": [
    "::load\n",
    "MACHINE\n",
    "    signals\n",
    "\n",
    "SETS\n",
    "/* Ensemble des signaux */\n",
    "   \tSIGNAL =\n",
    "   \t{    PL01\n",
    "   \t,    PL02\n",
    "   \t,    PL03\n",
    "   \t,    PL04\n",
    "   \t,    PL05\n",
    "   \t,    PL06\n",
    "   \t,    PL07\n",
    "   \t,    PL08\n",
    "   \t,    PL09\n",
    "   \t,    PL10\n",
    "   \t,    PL11\n",
    "   \t,    PL12\n",
    "\t,\t PL13\n",
    "   \t,    PL14\n",
    "   \t,    PL15\n",
    "   \t,    PL16\n",
    "   \t,    PL17\n",
    "   \t,    PL18\n",
    "   \t,    PL19\n",
    "   \t,    PL20\n",
    "   \t}\n",
    "END"
   ]
  },
  {
   "cell_type": "code",
   "execution_count": 136,
   "metadata": {},
   "outputs": [
    {
     "name": "stdout",
     "output_type": "stream",
     "text": [
      "Execution time: 0.201494972 seconds\n"
     ]
    },
    {
     "data": {
      "text/plain": [
       "TRUE\n",
       "\n",
       "Solution:\n",
       "\tres = {PL01,PL12}\n",
       "\tnxt = {(PL01↦PL02),(PL02↦PL03),(PL03↦PL04),(PL04↦PL05),(PL05↦PL06),(PL06↦PL07),(PL07↦PL08),(PL08↦PL09),(PL09↦PL10),(PL10↦PL11),(PL11↦PL11),(PL12↦PL13),(PL13↦PL14),(PL14↦PL15),(PL15↦PL16),(PL16↦PL17),(PL17↦PL18),(PL18↦PL19),(PL19↦PL20),(PL20↦PL20)}"
      ]
     },
     "execution_count": 136,
     "metadata": {},
     "output_type": "execute_result"
    }
   ],
   "source": [
    ":time :solve prob nxt = \n",
    "    {PL01 |-> PL02, PL02 |-> PL03, PL03 |-> PL04, PL04 |-> PL05,\n",
    "     PL05 |-> PL06, PL06 |-> PL07, PL07 |-> PL08, PL08 |-> PL09,\n",
    "     PL09 |-> PL10, PL10 |-> PL11, PL11 |-> PL11, PL12 |-> PL13,\n",
    "     PL13 |-> PL14, PL14 |-> PL15, PL15 |-> PL16, PL16 |-> PL17,\n",
    "     PL17 |-> PL18, PL18 |-> PL19, PL19 |-> PL20, PL20 |-> PL20} &\n",
    "     res = SIGNAL \\ nxt[SIGNAL]"
   ]
  },
  {
   "cell_type": "code",
   "execution_count": 137,
   "metadata": {},
   "outputs": [
    {
     "ename": "CommandExecutionException",
     "evalue": ":time: :solve: Computation not completed: no solution found (but one might exist)",
     "output_type": "error",
     "traceback": [
      "\u001b[1m\u001b[31m:time: :solve: Computation not completed: no solution found (but one might exist)\u001b[0m"
     ]
    }
   ],
   "source": [
    ":time :solve z3 nxt = \n",
    "    {PL01 |-> PL02, PL02 |-> PL03, PL03 |-> PL04, PL04 |-> PL05,\n",
    "     PL05 |-> PL06, PL06 |-> PL07, PL07 |-> PL08, PL08 |-> PL09,\n",
    "     PL09 |-> PL10, PL10 |-> PL11, PL11 |-> PL11, PL12 |-> PL13,\n",
    "     PL13 |-> PL14, PL14 |-> PL15, PL15 |-> PL16, PL16 |-> PL17,\n",
    "     PL17 |-> PL18, PL18 |-> PL19, PL19 |-> PL20, PL20 |-> PL20} &\n",
    "     res = SIGNAL \\ nxt[SIGNAL]"
   ]
  },
  {
   "cell_type": "code",
   "execution_count": 138,
   "metadata": {},
   "outputs": [
    {
     "name": "stdout",
     "output_type": "stream",
     "text": [
      "[2018-06-04 14:09:38,479, T+948328] \"ProB Output Logger for instance 79d26131\" de.prob.cli.ProBInstance.readAndLog(ConsoleListener.java:48): [INFO] kodkod ok:   nxt = {PL01 |-> PL02,PL02 |-> PL03,PL03 |-> PL04,P...  ints: none, intatoms: none\u001b[0m\n",
      "[2018-06-04 14:09:38,480, T+948329] \"ProB Output Logger for instance 79d26131\" de.prob.cli.ProBInstance.readAndLog(ConsoleListener.java:48): [INFO] Kodkod module started up successfully (SAT solver SAT4J with timeout of 1500 ms).\u001b[0m\n",
      "[2018-06-04 14:09:38,480, T+948329] \"ProB Output Logger for instance 79d26131\" de.prob.cli.ProBInstance.readAndLog(ConsoleListener.java:48): [INFO] Times for computing solutions: [2]\u001b[0m\n",
      "Execution time: 0.686312764 seconds\n"
     ]
    },
    {
     "data": {
      "text/plain": [
       "TRUE\n",
       "\n",
       "Solution:\n",
       "\tres = {PL01,PL12}\n",
       "\tnxt = {(PL01↦PL02),(PL02↦PL03),(PL03↦PL04),(PL04↦PL05),(PL05↦PL06),(PL06↦PL07),(PL07↦PL08),(PL08↦PL09),(PL09↦PL10),(PL10↦PL11),(PL11↦PL11),(PL12↦PL13),(PL13↦PL14),(PL14↦PL15),(PL15↦PL16),(PL16↦PL17),(PL17↦PL18),(PL18↦PL19),(PL19↦PL20),(PL20↦PL20)}"
      ]
     },
     "execution_count": 138,
     "metadata": {},
     "output_type": "execute_result"
    }
   ],
   "source": [
    ":time :solve kodkod nxt = \n",
    "    {PL01 |-> PL02, PL02 |-> PL03, PL03 |-> PL04, PL04 |-> PL05,\n",
    "     PL05 |-> PL06, PL06 |-> PL07, PL07 |-> PL08, PL08 |-> PL09,\n",
    "     PL09 |-> PL10, PL10 |-> PL11, PL11 |-> PL11, PL12 |-> PL13,\n",
    "     PL13 |-> PL14, PL14 |-> PL15, PL15 |-> PL16, PL16 |-> PL17,\n",
    "     PL17 |-> PL18, PL18 |-> PL19, PL19 |-> PL20, PL20 |-> PL20} &\n",
    "     res = SIGNAL \\ nxt[SIGNAL]"
   ]
  },
  {
   "cell_type": "code",
   "execution_count": 4,
   "metadata": {},
   "outputs": [
    {
     "name": "stdout",
     "output_type": "stream",
     "text": [
      "[2018-06-04 15:03:05,856, T+241807] \"Shell-0\" de.prob.cli.PrologProcessProvider.makeProcess(PrologProcessProvider.java:64): [INFO] Starting ProB's Prolog Core. Path is /Users/leuschel/git_root/prob_prolog/probcli.sh\n",
      "[2018-06-04 15:03:07,015, T+242966] \"Shell-0\" de.prob.cli.PortPattern.setValue(PortPattern.java:30): [INFO] Server has started and listens on port 51091\n",
      "[2018-06-04 15:03:07,018, T+242969] \"Shell-0\" de.prob.cli.InterruptRefPattern.setValue(InterruptRefPattern.java:29): [INFO] Server can receive user interrupts via reference 50312\n",
      "[2018-06-04 15:03:07,021, T+242972] \"ProB Output Logger for instance 5f836b9a\" de.prob.cli.ProBInstance.readAndLog(ConsoleListener.java:48): [INFO] -- starting command loop --\u001b[0m\n",
      "[2018-06-04 15:03:07,034, T+242985] \"ProB Output Logger for instance 5f836b9a\" de.prob.cli.ProBInstance.readAndLog(ConsoleListener.java:48): [INFO] Connected: 127.0.0.1\u001b[0m\n"
     ]
    },
    {
     "data": {
      "text/plain": [
       "Loaded machine: signals : []\n"
      ]
     },
     "execution_count": 4,
     "metadata": {},
     "output_type": "execute_result"
    }
   ],
   "source": [
    "::load\n",
    "MACHINE\n",
    "    signals\n",
    "\n",
    "SETS\n",
    "/* Ensemble des signaux */\n",
    "   \tSIGNAL =\n",
    "   \t{    PL01\n",
    "   \t,    PL02\n",
    "   \t,    PL03\n",
    "   \t,    PL04\n",
    "   \t,    PL05\n",
    "   \t,    PL06\n",
    "   \t,    PL07\n",
    "   \t,    PL08\n",
    "   \t,    PL09\n",
    "   \t,    PL10\n",
    "   \t,    PL11\n",
    "   \t,    PL12\n",
    "\t,\t PL13\n",
    "   \t,    PL14\n",
    "   \t,    PL15\n",
    "   \t,    PL16\n",
    "   \t,    PL17\n",
    "   \t,    PL18\n",
    "   \t,    PL19\n",
    "   \t,    PL20\n",
    "   \t,    PL21\n",
    "   \t,    PL22\n",
    "\t,\t PL23\n",
    "   \t,    PL24\n",
    "   \t,    PL25\n",
    "   \t,    PL26\n",
    "   \t,    PL27\n",
    "   \t,    PL28\n",
    "   \t,    PL29\n",
    "   \t,    PL30\n",
    "   \t,    PL31\n",
    "   \t,    PL32\n",
    "\t,\t PL33\n",
    "   \t,    PL34\n",
    "   \t,    PL35\n",
    "   \t,    PL36\n",
    "   \t,    PL37\n",
    "   \t,    PL38\n",
    "   \t,    PL39\n",
    "   \t,    PL40\n",
    "   \t}\n",
    "END"
   ]
  },
  {
   "cell_type": "code",
   "execution_count": 140,
   "metadata": {},
   "outputs": [
    {
     "name": "stdout",
     "output_type": "stream",
     "text": [
      "[2018-06-04 14:09:40,326, T+950175] \"ProB Output Logger for instance 1361b11\" de.prob.cli.ProBInstance.readAndLog(ConsoleListener.java:48): [INFO] empty_kodkod_union_constraint\u001b[0m\n",
      "[2018-06-04 14:09:40,326, T+950175] \"ProB Output Logger for instance 1361b11\" de.prob.cli.ProBInstance.readAndLog(ConsoleListener.java:48): [INFO] kodkod fail: nxt = {PL01 |-> PL02,PL02 |-> PL03,PL03 |-> PL04,P...  , reason: integer without upper and lower bound in: {max(ran(nrs))} while extracting used types\u001b[0m\n",
      "Execution time: 0.318373176 seconds\n"
     ]
    },
    {
     "data": {
      "text/plain": [
       "TRUE\n",
       "\n",
       "Solution:\n",
       "\tcl1 = ∃197∈{(PL01↦PL02),(PL01↦PL03),…,(PL33↦PL35),(PL34↦PL35)}\n",
       "\tmx = {PL01}\n",
       "\tnxt = {(PL01↦PL02),(PL02↦PL03),(PL03↦PL04),(PL04↦PL05),(PL05↦PL06),(PL06↦PL07),(PL07↦PL08),(PL08↦PL09),(PL09↦PL10),(PL10↦PL11),(PL11↦PL12),(PL12↦PL13),(PL13↦PL14),(PL14↦PL15),(PL15↦PL16),(PL16↦PL17),(PL17↦PL18),(PL18↦PL19),(PL19↦PL20),(PL20↦PL20),(PL30↦PL31),(PL31↦PL32),(PL33↦PL34),(PL34↦PL35)}\n",
       "\tnrs = {(PL01↦19),(PL02↦18),(PL03↦17),(PL04↦16),(PL05↦15),(PL06↦14),(PL07↦13),(PL08↦12),(PL09↦11),(PL10↦10),(PL11↦9),(PL12↦8),(PL13↦7),(PL14↦6),(PL15↦5),(PL16↦4),(PL17↦3),(PL18↦2),(PL19↦1),(PL20↦1),(PL21↦0),(PL22↦0),(PL23↦0),(PL24↦0),(PL25↦0),(PL26↦0),(PL27↦0),(PL28↦0),(PL29↦0),(PL30↦2),(PL31↦1),(PL32↦0),(PL33↦2),(PL34↦1),(PL35↦0),(PL36↦0),(PL37↦0),(PL38↦0),(PL39↦0),(PL40↦0)}"
      ]
     },
     "execution_count": 140,
     "metadata": {},
     "output_type": "execute_result"
    }
   ],
   "source": [
    ":time :solve kodkod nxt = \n",
    "    {PL01 |-> PL02, PL02 |-> PL03, PL03 |-> PL04, PL04 |-> PL05,\n",
    "     PL05 |-> PL06, PL06 |-> PL07, PL07 |-> PL08, PL08 |-> PL09,\n",
    "     PL09 |-> PL10, PL10 |-> PL11, PL11 |-> PL12, PL12 |-> PL13,\n",
    "     PL13 |-> PL14, PL14 |-> PL15, PL15 |-> PL16, PL16 |-> PL17,\n",
    "     PL17 |-> PL18, PL18 |-> PL19, PL19 |-> PL20, PL20 |-> PL20,\n",
    "     PL30 |-> PL31, PL31 |-> PL32, PL33 |-> PL34, PL34 |-> PL35} &\n",
    "     cl1 = closure1(nxt) & \n",
    "     nrs = %x.(x:SIGNAL|card(cl1[{x}])) &\n",
    "     mx = nrs~[{max(ran(nrs))}]"
   ]
  },
  {
   "cell_type": "code",
   "execution_count": 141,
   "metadata": {},
   "outputs": [
    {
     "name": "stdout",
     "output_type": "stream",
     "text": [
      "Execution time: 0.046631537 seconds\n"
     ]
    },
    {
     "data": {
      "text/plain": [
       "TRUE\n",
       "\n",
       "Solution:\n",
       "\tcl1 = ∃197∈{(PL01↦PL02),(PL01↦PL03),…,(PL33↦PL35),(PL34↦PL35)}\n",
       "\tmx = {PL01}\n",
       "\tnxt = {(PL01↦PL02),(PL02↦PL03),(PL03↦PL04),(PL04↦PL05),(PL05↦PL06),(PL06↦PL07),(PL07↦PL08),(PL08↦PL09),(PL09↦PL10),(PL10↦PL11),(PL11↦PL12),(PL12↦PL13),(PL13↦PL14),(PL14↦PL15),(PL15↦PL16),(PL16↦PL17),(PL17↦PL18),(PL18↦PL19),(PL19↦PL20),(PL20↦PL20),(PL30↦PL31),(PL31↦PL32),(PL33↦PL34),(PL34↦PL35)}\n",
       "\tnrs = {(PL01↦19),(PL02↦18),(PL03↦17),(PL04↦16),(PL05↦15),(PL06↦14),(PL07↦13),(PL08↦12),(PL09↦11),(PL10↦10),(PL11↦9),(PL12↦8),(PL13↦7),(PL14↦6),(PL15↦5),(PL16↦4),(PL17↦3),(PL18↦2),(PL19↦1),(PL20↦1),(PL21↦0),(PL22↦0),(PL23↦0),(PL24↦0),(PL25↦0),(PL26↦0),(PL27↦0),(PL28↦0),(PL29↦0),(PL30↦2),(PL31↦1),(PL32↦0),(PL33↦2),(PL34↦1),(PL35↦0),(PL36↦0),(PL37↦0),(PL38↦0),(PL39↦0),(PL40↦0)}"
      ]
     },
     "execution_count": 141,
     "metadata": {},
     "output_type": "execute_result"
    }
   ],
   "source": [
    ":time :solve prob nxt = \n",
    "    {PL01 |-> PL02, PL02 |-> PL03, PL03 |-> PL04, PL04 |-> PL05,\n",
    "     PL05 |-> PL06, PL06 |-> PL07, PL07 |-> PL08, PL08 |-> PL09,\n",
    "     PL09 |-> PL10, PL10 |-> PL11, PL11 |-> PL12, PL12 |-> PL13,\n",
    "     PL13 |-> PL14, PL14 |-> PL15, PL15 |-> PL16, PL16 |-> PL17,\n",
    "     PL17 |-> PL18, PL18 |-> PL19, PL19 |-> PL20, PL20 |-> PL20,\n",
    "     PL30 |-> PL31, PL31 |-> PL32, PL33 |-> PL34, PL34 |-> PL35} &\n",
    "     cl1 = closure1(nxt) & \n",
    "     nrs = %x.(x:SIGNAL|card(cl1[{x}])) &\n",
    "     mx = nrs~[{max(ran(nrs))}]"
   ]
  },
  {
   "cell_type": "code",
   "execution_count": 5,
   "metadata": {},
   "outputs": [
    {
     "data": {
      "text/markdown": [
       "|Nr|prj1|prj2|\n",
       "|---|---|---|\n",
       "|1|PL01|PL02|\n",
       "|2|PL02|PL03|\n",
       "|3|PL03|PL04|\n",
       "|4|PL04|PL05|\n",
       "|5|PL05|PL06|\n",
       "|6|PL06|PL07|\n",
       "|7|PL07|PL08|\n",
       "|8|PL08|PL09|\n",
       "|9|PL09|PL10|\n",
       "|10|PL10|PL11|\n",
       "|11|PL11|PL12|\n",
       "|12|PL12|PL13|\n",
       "|13|PL13|PL14|\n",
       "|14|PL14|PL15|\n",
       "|15|PL15|PL16|\n",
       "|16|PL16|PL17|\n",
       "|17|PL17|PL18|\n",
       "|18|PL18|PL19|\n",
       "|19|PL19|PL20|\n",
       "|20|PL20|PL20|\n",
       "|21|PL30|PL31|\n",
       "|22|PL31|PL32|\n",
       "|23|PL33|PL34|\n",
       "|24|PL34|PL35|\n"
      ],
      "text/plain": [
       "Nr\tprj1\tprj2\n",
       "1\tPL01\tPL02\n",
       "2\tPL02\tPL03\n",
       "3\tPL03\tPL04\n",
       "4\tPL04\tPL05\n",
       "5\tPL05\tPL06\n",
       "6\tPL06\tPL07\n",
       "7\tPL07\tPL08\n",
       "8\tPL08\tPL09\n",
       "9\tPL09\tPL10\n",
       "10\tPL10\tPL11\n",
       "11\tPL11\tPL12\n",
       "12\tPL12\tPL13\n",
       "13\tPL13\tPL14\n",
       "14\tPL14\tPL15\n",
       "15\tPL15\tPL16\n",
       "16\tPL16\tPL17\n",
       "17\tPL17\tPL18\n",
       "18\tPL18\tPL19\n",
       "19\tPL19\tPL20\n",
       "20\tPL20\tPL20\n",
       "21\tPL30\tPL31\n",
       "22\tPL31\tPL32\n",
       "23\tPL33\tPL34\n",
       "24\tPL34\tPL35\n"
      ]
     },
     "execution_count": 5,
     "metadata": {},
     "output_type": "execute_result"
    }
   ],
   "source": [
    ":table {PL01 |-> PL02, PL02 |-> PL03, PL03 |-> PL04, PL04 |-> PL05,\n",
    "     PL05 |-> PL06, PL06 |-> PL07, PL07 |-> PL08, PL08 |-> PL09,\n",
    "     PL09 |-> PL10, PL10 |-> PL11, PL11 |-> PL12, PL12 |-> PL13,\n",
    "     PL13 |-> PL14, PL14 |-> PL15, PL15 |-> PL16, PL16 |-> PL17,\n",
    "     PL17 |-> PL18, PL18 |-> PL19, PL19 |-> PL20, PL20 |-> PL20,\n",
    "     PL30 |-> PL31, PL31 |-> PL32, PL33 |-> PL34, PL34 |-> PL35}"
   ]
  },
  {
   "cell_type": "code",
   "execution_count": 142,
   "metadata": {
    "slideshow": {
     "slide_type": "subslide"
    }
   },
   "outputs": [
    {
     "name": "stdout",
     "output_type": "stream",
     "text": [
      "[2018-06-04 14:09:40,536, T+950385] \"Shell-0\" de.prob.cli.PrologProcessProvider.makeProcess(PrologProcessProvider.java:64): [INFO] Starting ProB's Prolog Core. Path is /Users/leuschel/git_root/prob_prolog/probcli.sh\n",
      "[2018-06-04 14:09:41,873, T+951722] \"Shell-0\" de.prob.cli.PortPattern.setValue(PortPattern.java:30): [INFO] Server has started and listens on port 63578\n",
      "[2018-06-04 14:09:41,874, T+951723] \"Shell-0\" de.prob.cli.InterruptRefPattern.setValue(InterruptRefPattern.java:29): [INFO] Server can receive user interrupts via reference 47994\n",
      "[2018-06-04 14:09:41,875, T+951724] \"ProB Output Logger for instance 1145e2a2\" de.prob.cli.ProBInstance.readAndLog(ConsoleListener.java:48): [INFO] -- starting command loop --\u001b[0m\n",
      "[2018-06-04 14:09:41,890, T+951739] \"ProB Output Logger for instance 1145e2a2\" de.prob.cli.ProBInstance.readAndLog(ConsoleListener.java:48): [INFO] Connected: 127.0.0.1\u001b[0m\n"
     ]
    },
    {
     "data": {
      "text/plain": [
       "Loaded machine: SlotSolver_KodkodTest : []\n"
      ]
     },
     "execution_count": 142,
     "metadata": {},
     "output_type": "execute_result"
    }
   ],
   "source": [
    "::load\n",
    "MACHINE SlotSolver_KodkodTest\n",
    "SETS /* enumerated */\n",
    "  SLOTS={a1,a2,a3,a4,a5,b1,b2,b3,b4,b5,c1,c2,c3,c4,c5,d1,d2,d3,d4,d5,e1,e2,e3,e4,e5,f1,f2,f3,f4,f5,unknown};\n",
    "  DAYS={Mon,Tue,Wed,Thu,Fri};\n",
    "  COURSES={ang,ger,ges,inf,jap,jid,jud,kom,lin,pol,rom,soz};\n",
    "  TYPES={T_KF,T_EF}\n",
    "END"
   ]
  },
  {
   "cell_type": "code",
   "execution_count": 143,
   "metadata": {},
   "outputs": [
    {
     "name": "stdout",
     "output_type": "stream",
     "text": [
      "Execution time: 0.353512947 seconds\n"
     ]
    },
    {
     "data": {
      "text/plain": [
       "TRUE\n",
       "\n",
       "Solution:\n",
       "\tcs = {kom,lin,pol,rom}\n",
       "\tmapping = ∃235∈{(((ang↦1)↦T_KF)↦1),(((ang↦1)↦T_KF)↦5),…,(((soz↦2)↦T_EF)↦156),(((soz↦2)↦T_EF)↦158)}"
      ]
     },
     "execution_count": 143,
     "metadata": {},
     "output_type": "execute_result"
    }
   ],
   "source": [
    ":time :solve prob mapping = {\n",
    "        (lin, 1, T_EF, 102),\n",
    "        (jap, 1, T_EF, 52),\n",
    "        (ger, 1, T_KF, 25),\n",
    "        (inf, 1, T_EF, 43),\n",
    "        (jap, 2, T_EF, 53),\n",
    "        (jap, 2, T_EF, 60),\n",
    "        (rom, 1, T_EF, 132),\n",
    "        (pol, 1, T_EF, 122),\n",
    "        (rom, 2, T_EF, 133),\n",
    "        (ang, 2, T_EF, 2),\n",
    "        (ang, 2, T_EF, 9),\n",
    "        (kom, 2, T_EF, 99),\n",
    "        (rom, 2, T_EF, 125),\n",
    "        (rom, 1, T_EF, 128),\n",
    "        (lin, 3, T_EF, 104),\n",
    "        (inf, 3, T_EF, 41),\n",
    "        (jid, 2, T_EF, 66),\n",
    "        (jap, 3, T_EF, 54),\n",
    "        (rom, 3, T_EF, 138),\n",
    "        (jap, 1, T_KF, 61),\n",
    "        (jap, 1, T_KF, 56),\n",
    "        (ger, 1, T_EF, 29),\n",
    "        (jap, 2, T_KF, 57),\n",
    "        (jap, 2, T_KF, 64),\n",
    "        (jid, 4, T_EF, 68),\n",
    "        (jud, 1, T_KF, 87),\n",
    "        (rom, 1, T_KF, 136),\n",
    "        (rom, 1, T_KF, 150),\n",
    "        (ang, 2, T_KF, 6),\n",
    "        (ang, 2, T_KF, 13),\n",
    "        (ang, 1, T_EF, 16),\n",
    "        (ang, 1, T_EF, 5),\n",
    "        (ang, 2, T_KF, 19),\n",
    "        (ger, 3, T_KF, 26),\n",
    "        (soz, 2, T_EF, 154),\n",
    "        (rom, 3, T_KF, 151),\n",
    "        (rom, 4, T_EF, 127),\n",
    "        (rom, 3, T_EF, 126),\n",
    "        (lin, 1, T_EF, 110),\n",
    "        (ges, 2, T_KF, 32),\n",
    "        (inf, 2, T_EF, 36),\n",
    "        (rom, 1, T_EF, 147),\n",
    "        (jud, 1, T_EF, 86),\n",
    "        (ang, 1, T_KF, 12),\n",
    "        (ang, 1, T_KF, 1),\n",
    "        (lin, 3, T_EF, 112),\n",
    "        (kom, 1, T_EF, 100),\n",
    "        (ger, 3, T_EF, 30),\n",
    "        (jid, 2, T_EF, 81),\n",
    "        (lin, 4, T_EF, 105),\n",
    "        (jid, 2, T_EF, 76),\n",
    "        (jid, 1, T_EF, 69),\n",
    "        (jud, 3, T_EF, 84),\n",
    "        (soz, 1, T_EF, 155),\n",
    "        (jap, 4, T_EF, 51),\n",
    "        (ger, 1, T_EF, 27),\n",
    "        (jid, 3, T_EF, 71),\n",
    "        (ges, 1, T_EF, 33),\n",
    "        (jud, 1, T_KF, 82),\n",
    "        (jud, 2, T_KF, 83),\n",
    "        (pol, 2, T_EF, 121),\n",
    "        (ang, 2, T_KF, 11),\n",
    "        (jud, 4, T_KF, 85),\n",
    "        (rom, 4, T_KF, 146),\n",
    "        (rom, 3, T_KF, 152),\n",
    "        (rom, 4, T_KF, 135),\n",
    "        (jap, 4, T_KF, 55),\n",
    "        (lin, 2, T_EF, 107),\n",
    "        (inf, 2, T_EF, 44),\n",
    "        (jap, 1, T_EF, 59),\n",
    "        (jap, 2, T_EF, 62),\n",
    "        (ger, 1, T_KF, 22),\n",
    "        (ger, 5, T_EF, 24),\n",
    "        (rom, 2, T_EF, 137),\n",
    "        (ang, 2, T_EF, 15),\n",
    "        (ang, 1, T_KF, 20),\n",
    "        (kom, 2, T_EF, 101),\n",
    "        (lin, 3, T_EF, 116),\n",
    "        (lin, 4, T_EF, 113),\n",
    "        (rom, 3, T_EF, 134),\n",
    "        (rom, 4, T_EF, 149),\n",
    "        (rom, 3, T_EF, 148),\n",
    "        (ang, 3, T_KF, 7),\n",
    "        (inf, 4, T_EF, 46),\n",
    "        (rom, 4, T_EF, 131),\n",
    "        (ang, 4, T_EF, 4),\n",
    "        (jap, 1, T_KF, 63),\n",
    "        (ges, 1, T_EF, 31),\n",
    "        (jid, 3, T_EF, 77),\n",
    "        (rom, 1, T_KF, 140),\n",
    "        (rom, 2, T_KF, 141),\n",
    "        (ang, 1, T_EF, 14),\n",
    "        (ang, 2, T_KF, 17),\n",
    "        (ger, 3, T_KF, 28),\n",
    "        (rom, 3, T_KF, 130),\n",
    "        (jud, 3, T_KF, 95),\n",
    "        (rom, 4, T_KF, 143),\n",
    "        (jap, 1, T_EF, 48),\n",
    "        (inf, 1, T_EF, 39),\n",
    "        (jap, 2, T_EF, 49),\n",
    "        (rom, 1, T_EF, 144),\n",
    "        (rom, 2, T_EF, 129),\n",
    "        (ges, 2, T_KF, 34),\n",
    "        (pol, 1, T_EF, 118),\n",
    "        (ang, 2, T_EF, 21),\n",
    "        (ang, 1, T_KF, 10),\n",
    "        (ang, 1, T_KF, 8),\n",
    "        (rom, 1, T_EF, 124),\n",
    "        (ger, 3, T_EF, 23),\n",
    "        (inf, 3, T_EF, 37),\n",
    "        (jid, 2, T_EF, 70),\n",
    "        (jap, 3, T_EF, 50),\n",
    "        (jid, 2, T_EF, 79),\n",
    "        (rom, 3, T_EF, 142),\n",
    "        (rom, 4, T_EF, 139),\n",
    "        (rom, 3, T_EF, 145),\n",
    "        (inf, 4, T_EF, 38),\n",
    "        (soz, 1, T_EF, 153),\n",
    "        (jap, 4, T_EF, 58),\n",
    "        (jid, 4, T_EF, 72),\n",
    "        (jap, 1, T_KF, 52),\n",
    "        (ger, 1, T_EF, 25),\n",
    "        (jap, 2, T_KF, 53),\n",
    "        (jap, 2, T_KF, 60),\n",
    "        (rom, 1, T_KF, 132),\n",
    "        (jud, 2, T_KF, 92),\n",
    "        (rom, 2, T_KF, 133),\n",
    "        (ang, 2, T_KF, 2),\n",
    "        (ang, 2, T_KF, 9),\n",
    "        (pol, 2, T_EF, 123),\n",
    "        (rom, 2, T_KF, 125),\n",
    "        (rom, 1, T_KF, 128),\n",
    "        (jap, 3, T_KF, 54),\n",
    "        (rom, 3, T_KF, 138),\n",
    "        (lin, 2, T_EF, 103),\n",
    "        (jap, 1, T_EF, 61),\n",
    "        (jap, 1, T_EF, 56),\n",
    "        (ger, 1, T_KF, 29),\n",
    "        (jap, 2, T_EF, 57),\n",
    "        (jap, 2, T_EF, 64),\n",
    "        (rom, 1, T_EF, 136),\n",
    "        (rom, 1, T_EF, 150),\n",
    "        (ang, 2, T_EF, 6),\n",
    "        (ang, 1, T_KF, 18),\n",
    "        (ang, 2, T_EF, 19),\n",
    "        (ang, 1, T_KF, 5),\n",
    "        (ang, 1, T_KF, 16),\n",
    "        (inf, 3, T_EF, 45),\n",
    "        (ger, 3, T_EF, 26),\n",
    "        (lin, 4, T_EF, 109),\n",
    "        (rom, 3, T_EF, 151),\n",
    "        (rom, 4, T_KF, 127),\n",
    "        (rom, 3, T_KF, 126),\n",
    "        (ges, 2, T_EF, 32),\n",
    "        (jid, 4, T_EF, 78),\n",
    "        (rom, 1, T_KF, 147),\n",
    "        (jud, 2, T_KF, 94),\n",
    "        (ang, 1, T_EF, 12),\n",
    "        (ang, 1, T_EF, 1),\n",
    "        (ger, 3, T_KF, 30),\n",
    "        (soz, 2, T_EF, 158),\n",
    "        (jap, 4, T_KF, 51),\n",
    "        (lin, 2, T_EF, 111),\n",
    "        (lin, 1, T_EF, 106),\n",
    "        (inf, 2, T_EF, 47),\n",
    "        (inf, 2, T_EF, 40),\n",
    "        (ger, 1, T_KF, 27),\n",
    "        (ges, 1, T_KF, 33),\n",
    "        (jud, 1, T_EF, 82),\n",
    "        (jud, 2, T_EF, 83),\n",
    "        (kom, 1, T_EF, 96),\n",
    "        (pol, 1, T_EF, 120),\n",
    "        (kom, 2, T_EF, 97),\n",
    "        (lin, 3, T_EF, 108),\n",
    "        (lin, 4, T_EF, 117),\n",
    "        (jid, 2, T_EF, 73),\n",
    "        (jid, 1, T_EF, 65),\n",
    "        (rom, 4, T_EF, 146),\n",
    "        (jud, 3, T_EF, 89),\n",
    "        (rom, 3, T_EF, 152),\n",
    "        (ang, 3, T_KF, 3),\n",
    "        (inf, 4, T_EF, 42),\n",
    "        (jap, 4, T_EF, 55),\n",
    "        (rom, 4, T_EF, 135),\n",
    "        (jap, 1, T_KF, 59),\n",
    "        (jid, 4, T_EF, 75),\n",
    "        (jap, 2, T_KF, 62),\n",
    "        (ger, 1, T_EF, 22),\n",
    "        (jid, 3, T_EF, 67),\n",
    "        (ger, 5, T_KF, 24),\n",
    "        (jid, 3, T_EF, 74),\n",
    "        (jud, 1, T_KF, 91),\n",
    "        (jud, 2, T_KF, 88),\n",
    "        (rom, 2, T_KF, 137),\n",
    "        (ang, 2, T_KF, 15),\n",
    "        (soz, 2, T_EF, 156),\n",
    "        (rom, 3, T_KF, 134),\n",
    "        (rom, 4, T_KF, 149),\n",
    "        (rom, 3, T_KF, 148),\n",
    "        (ang, 3, T_EF, 7),\n",
    "        (rom, 4, T_KF, 131),\n",
    "        (lin, 1, T_EF, 114),\n",
    "        (ang, 4, T_KF, 4),\n",
    "        (jap, 1, T_EF, 63),\n",
    "        (lin, 2, T_EF, 115),\n",
    "        (ges, 1, T_KF, 31),\n",
    "        (inf, 1, T_EF, 35),\n",
    "        (jud, 1, T_EF, 90),\n",
    "        (rom, 1, T_EF, 140),\n",
    "        (rom, 2, T_EF, 141),\n",
    "        (ang, 2, T_EF, 17),\n",
    "        (ang, 1, T_KF, 14),\n",
    "        (kom, 1, T_EF, 98),\n",
    "        (ger, 3, T_EF, 28),\n",
    "        (rom, 3, T_EF, 130),\n",
    "        (rom, 4, T_EF, 143),\n",
    "        (soz, 1, T_EF, 157),\n",
    "        (jap, 1, T_KF, 48),\n",
    "        (rom, 1, T_KF, 144),\n",
    "        (jap, 2, T_KF, 49),\n",
    "        (jid, 3, T_EF, 80),\n",
    "        (jud, 1, T_KF, 93),\n",
    "        (rom, 2, T_KF, 129),\n",
    "        (ges, 2, T_EF, 34),\n",
    "        (pol, 2, T_EF, 119),\n",
    "        (ang, 1, T_EF, 10),\n",
    "        (ang, 2, T_KF, 21),\n",
    "        (ang, 1, T_EF, 8),\n",
    "        (rom, 1, T_KF, 124),\n",
    "        (ger, 3, T_KF, 23),\n",
    "        (jap, 3, T_KF, 50),\n",
    "        (rom, 3, T_KF, 142),\n",
    "        (rom, 4, T_KF, 139),\n",
    "        (rom, 3, T_KF, 145),\n",
    "        (jap, 4, T_KF, 58)\n",
    "    } &\n",
    "    cs = {c|#(sem,typ,nr).( (c,sem,typ,nr):mapping & nr:100..150)}"
   ]
  },
  {
   "cell_type": "code",
   "execution_count": null,
   "metadata": {},
   "outputs": [],
   "source": []
  }
 ],
 "metadata": {
  "celltoolbar": "Slideshow",
  "kernelspec": {
   "display_name": "ProB 2",
   "language": "prob",
   "name": "prob2"
  },
  "language_info": {
   "file_extension": ".prob",
   "mimetype": "text/x-prob",
   "name": "prob"
  }
 },
 "nbformat": 4,
 "nbformat_minor": 2
}
