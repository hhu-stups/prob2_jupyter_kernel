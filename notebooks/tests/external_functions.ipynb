{
 "cells": [
  {
   "cell_type": "code",
   "execution_count": 1,
   "metadata": {},
   "outputs": [
    {
     "data": {
      "text/plain": [
       "Loaded machine: Jupyter"
      ]
     },
     "execution_count": 1,
     "metadata": {},
     "output_type": "execute_result"
    }
   ],
   "source": [
    "::load\n",
    "MACHINE Jupyter\n",
    "    DEFINITIONS \"LibraryMeta.def\"; \"LibraryStrings.def\"\n",
    "END"
   ]
  },
  {
   "cell_type": "code",
   "execution_count": 2,
   "metadata": {},
   "outputs": [
    {
     "data": {
      "text/markdown": [
       "$\\text{\"1.15.0-final\"}$"
      ],
      "text/plain": [
       "\"1.15.0-final\""
      ]
     },
     "execution_count": 2,
     "metadata": {},
     "output_type": "execute_result"
    }
   ],
   "source": [
    "PROB_INFO_STR(\"prob-version\")"
   ]
  },
  {
   "cell_type": "code",
   "execution_count": 3,
   "metadata": {},
   "outputs": [
    {
     "data": {
      "text/markdown": [
       "$\\text{\"1.21.0.4+7-LTS\"}$"
      ],
      "text/plain": [
       "\"1.21.0.4+7-LTS\""
      ]
     },
     "execution_count": 3,
     "metadata": {},
     "output_type": "execute_result"
    }
   ],
   "source": [
    "PROB_INFO_STR(\"java-version\")"
   ]
  },
  {
   "cell_type": "code",
   "execution_count": 4,
   "metadata": {},
   "outputs": [
    {
     "data": {
      "text/markdown": [
       "$\\text{\"e10c98eafba5a91367f8b51c96f659e2d3727226\"}$"
      ],
      "text/plain": [
       "\"e10c98eafba5a91367f8b51c96f659e2d3727226\""
      ]
     },
     "execution_count": 4,
     "metadata": {},
     "output_type": "execute_result"
    }
   ],
   "source": [
    "PROB_INFO_STR(\"prob-revision\")"
   ]
  },
  {
   "cell_type": "code",
   "execution_count": 5,
   "metadata": {},
   "outputs": [
    {
     "data": {
      "text/markdown": [
       "$1$"
      ],
      "text/plain": [
       "1"
      ]
     },
     "execution_count": 5,
     "metadata": {},
     "output_type": "execute_result"
    }
   ],
   "source": [
    "PROB_STATISTICS(\"states\")"
   ]
  },
  {
   "cell_type": "code",
   "execution_count": 6,
   "metadata": {},
   "outputs": [
    {
     "data": {
      "text/markdown": [
       "$164235600$"
      ],
      "text/plain": [
       "164235600"
      ]
     },
     "execution_count": 6,
     "metadata": {},
     "output_type": "execute_result"
    }
   ],
   "source": [
    "PROB_STATISTICS(\"prolog-memory-bytes-used\")"
   ]
  },
  {
   "cell_type": "markdown",
   "metadata": {},
   "source": [
    "The following fails because Java parser not available from within probcli:"
   ]
  },
  {
   "cell_type": "code",
   "execution_count": 7,
   "metadata": {},
   "outputs": [
    {
     "ename": "WithSourceCodeException",
     "evalue": "de.prob.exception.ProBError: UNKNOWN\nProB returned error messages:\nError: Unexpected error while parsing machine: \nError: Additional information:  Error: Unable to access jarfile /var/folders/55/r7px92pd3j999smrpydd2tj00000gn/T/prob-java6528413823042104381/lib/probcliparser.jar\nInternal error: Java B parser (probcliparser.jar) is missing from lib directory in:  /var/folders/55/r7px92pd3j999smrpydd2tj00000gn/T/prob-java6528413823042104381\nError: Unknown info field, known fields: prob-version prolog-version prob-revision prob-last-changed-date java-version java-command-path current-time _960685",
     "output_type": "error",
     "traceback": [
      "\u001b[1m\u001b[30mError from ProB: \u001b[0m\u001b[1m\u001b[31mUNKNOWN\u001b[0m",
      "\u001b[1m\u001b[30m4 errors:\u001b[0m",
      "\u001b[1m\u001b[31mError: Unexpected error while parsing machine: \u001b[0m",
      "\u001b[1m\u001b[31mError: Additional information:  Error: Unable to access jarfile /var/folders/55/r7px92pd3j999smrpydd2tj00000gn/T/prob-java6528413823042104381/lib/probcliparser.jar\u001b[0m",
      "\u001b[1m\u001b[31mInternal error: Java B parser (probcliparser.jar) is missing from lib directory in:  /var/folders/55/r7px92pd3j999smrpydd2tj00000gn/T/prob-java6528413823042104381\u001b[0m",
      "\u001b[1m\u001b[31mError: Unknown info field, known fields: prob-version prolog-version prob-revision prob-last-changed-date java-version java-command-path current-time _960685\u001b[0m"
     ]
    }
   ],
   "source": [
    "PROB_INFO_STR(\"parser-version\")"
   ]
  }
 ],
 "metadata": {
  "kernelspec": {
   "display_name": "ProB 2",
   "language": "prob",
   "name": "prob2"
  },
  "language_info": {
   "codemirror_mode": "prob2_jupyter_repl",
   "file_extension": ".prob",
   "mimetype": "text/x-prob2-jupyter-repl",
   "name": "prob"
  }
 },
 "nbformat": 4,
 "nbformat_minor": 4
}
