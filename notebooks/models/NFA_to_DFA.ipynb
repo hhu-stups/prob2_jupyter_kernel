{
 "cells": [
  {
   "cell_type": "code",
   "execution_count": 1,
   "metadata": {},
   "outputs": [
    {
     "data": {
      "text/markdown": [
       "$\\def\\Inter{\\bigcap\\nolimits}\\def\\bfalse{\\mathord\\bot}\\def\\qdot{\\mathord{\\mkern1mu\\cdot\\mkern1mu}}\\def\\binter{\\mathbin{\\mkern1mu\\cap\\mkern1mu}}\\def\\dprod{\\mathbin\\otimes}\\def\\usucc{\\mathop{\\mathrm{succ}}\\nolimits}\\def\\trel{\\mathbin{<\\mkern-6mu<\\mkern-10mu-\\mkern-10mu>}}\\def\\strel{\\mathbin{<\\mkern-6mu<\\mkern-10mu-\\mkern-10mu>\\mkern-6mu>}}\\def\\Bool{\\mathord{\\mathrm{BOOL}}}\\def\\rel{\\mathbin{<\\mkern-10mu-\\mkern-10mu>}}\\def\\pprod{\\mathbin\\mid}\\def\\id{\\mathop{\\mathrm{id}}\\nolimits}\\def\\cprod{\\mathbin\\times}\\def\\ran{\\mathop{\\mathrm{ran}}\\nolimits}\\def\\nat{\\mathord{\\mathbb N}}\\def\\pown{\\mathop{\\mathbb P_1}\\nolimits}\\def\\finite{\\mathop{\\mathrm{finite}}\\nolimits}\\def\\inter{\\mathop{\\mathrm{inter}}\\nolimits}\\def\\prjone{\\mathop{\\mathrm{prj}_1}\\nolimits}\\def\\defi{\\mathrel{≙}}\\def\\ranres{\\mathbin▷}\\def\\prjtwo{\\mathop{\\mathrm{prj}_2}\\nolimits}\\def\\upred{\\mathop{\\mathrm{pred}}\\nolimits}\\def\\fcomp{\\mathbin;}\\def\\tbij{\\mathbin⤖}\\def\\pfun{\\mathbin↦}\\def\\tfun{\\mathbin→}\\def\\card{\\mathop{\\mathrm{card}}\\nolimits}\\def\\pinj{\\mathbin⤔}\\def\\dom{\\mathop{\\mathrm{dom}}\\nolimits}\\def\\bool{\\mathop{\\mathrm{bool}}\\nolimits}\\def\\tinj{\\mathbin↣}\\def\\domsub{\\mathbin⩤}\\def\\Union{\\bigcup\\nolimits}\\def\\limp{\\mathbin\\Rightarrow}\\def\\ransub{\\mathbin⩥}\\def\\psur{\\mathbin⤅}\\def\\pow{\\mathop{\\mathbb P\\hbox{}}\\nolimits}\\def\\bcmsuch{\\mathrel{:\\mkern1mu\\mid}}\\def\\natn{\\mathord{\\mathbb N_1}}\\def\\expn{\\mathbin{\\widehat{\\mkern1em}}}\\def\\upto{\\mathbin{.\\mkern1mu.}}\\def\\bcomp{\\circ}\\def\\bcmin{\\mathrel{:\\mkern1mu\\in}}\\def\\ovl{\\mathbin{<\\mkern-11mu+}}\\def\\intg{\\mathord{\\mathbb Z}}\\def\\domres{\\mathbin◁}\\def\\tsur{\\mathbin↠}\\def\\btrue{\\mathord\\top}\\def\\union{\\mathop{\\mathrm{union}}\\nolimits}\\def\\bcmeq{\\mathrel{:\\mkern1mu=}}\\def\\leqv{\\mathbin\\Leftrightarrow}\\def\\emptyset{\\mathord\\varnothing}\\def\\bunion{\\mathbin{\\mkern1mu\\cup\\mkern1mu}}\\def\\srel{\\mathbin{<\\mkern-10mu-\\mkern-10mu>\\mkern-6mu>}}\\text{All bsymb.sty definitions have been loaded.}$"
      ],
      "text/plain": [
       "Your current environment uses plain text output; the bsymb.sty LaTeX commands will not be loaded."
      ]
     },
     "execution_count": 1,
     "metadata": {},
     "output_type": "execute_result"
    }
   ],
   "source": [
    ":bsymb"
   ]
  },
  {
   "cell_type": "markdown",
   "metadata": {},
   "source": [
    "# Application: Course Notes for Theoretical Computer Science (NFA)\n",
    "\n",
    "\n",
    "\n",
    "#### DEFINITION 2.9 (NFA)\n",
    "A non-deterministic finite automaton\n",
    "(NFA) is a  5-tuple $M = (\\Sigma, Z, \\delta , S, F)$, where\n",
    "\n",
    "* $\\Sigma$ is the alphabet,\n",
    "* $Z$ is a finite set of states with $\\Sigma \\cap Z = \\emptyset$,\n",
    "* $\\delta : Z \\times \\Sigma \\rightarrow POW(Z)$ is the transition function\n",
    "  ($\\pow(Z)$ is the powerset of $Z$, the set of all subsets of $Z$),\n",
    "* $S \\subseteq Z$ is the set of initial states,\n",
    "* $F \\subseteq Z$ is the set of final (accepting) states.\n",
    "\n",
    "\n",
    "#### DEFINITION 2.10 (Language of an NFA)\n",
    "\n",
    "Die erweiterte Überführungsfunktion $\\widehat{\\delta} :\n",
    "\\pow(Z) \\times \\Sigma^* \\rightarrow \\pow(Z)$ von $M$ ist\n",
    "induktiv definiert:\n",
    "* $\\widehat{\\delta}(Z', \\lambda) = Z'$\n",
    "* $\\widehat{\\delta}(Z', ax) = \\bigcup_{z \\in Z'} \\widehat{\\delta}(\\delta(z,a), x)$\n",
    "für alle $Z' \\subseteq Z$, $a \\in \\Sigma$ und $x \\in \\Sigma^*$.\n",
    "\n",
    "Die vom NFA $M$ akzeptierte Sprache ist definiert durch\n",
    "* L(M) = $\\{w \\in \\Sigma^* \\mid \\widehat{\\delta}(S,w) \\cap F \\neq \\emptyset\\}$\n",
    "\n"
   ]
  },
  {
   "cell_type": "markdown",
   "metadata": {},
   "source": [
    "Wie laden nun ein B Modell welches diese Definitionen beinhaltet.\n",
    "Wörter werden dabei in der B Sprache mit eckigen Klammern und Kommas geschrieben; aus 101 wird [1,0,1].\n",
    "Gewisse griechische Zeichen sind in der B Sprache als Schlüsselwörter reserviert, zB $\\lambda$.\n",
    "Auch kann man leider kein $\\hat{~}$ in Bezeichnern verwenden.\n",
    "Deshalb wird aus\n",
    "* $\\Sigma^*$ wird ```seq(Σ)```\n",
    "* $\\widehat{\\delta}$ wird ```δs```"
   ]
  },
  {
   "cell_type": "code",
   "execution_count": 2,
   "metadata": {},
   "outputs": [
    {
     "data": {
      "text/plain": [
       "Loaded machine: NFA_nach_DFA"
      ]
     },
     "execution_count": 2,
     "metadata": {},
     "output_type": "execute_result"
    }
   ],
   "source": [
    "::load\n",
    "MACHINE NFA_nach_DFA\n",
    "SETS\n",
    "   Z = {z0,z1,z2,z3}\n",
    "ABSTRACT_CONSTANTS δs, L\n",
    "CONSTANTS Σ, S, F, δ\n",
    "PROPERTIES\n",
    " S ⊆ Z ∧ F ⊆ Z ∧ δ ∈ (Z×Σ) → ℙ(Z) ∧\n",
    "\n",
    " /* Definition der erweiterten Übergangsfunktion */\n",
    " δs ∈ (ℙ(Z)×seq(Σ)) → ℙ(Z) ∧\n",
    " δs = λ(Z2,s).(Z2⊆Z ∧ s∈seq(Σ) | \n",
    "           IF s=[] THEN Z2\n",
    "           ELSE         ⋃(z).(z∈Z2|δs(δ(z,first(s)),tail(s))) END)\n",
    " ∧\n",
    " /* die vom Automaten generierte Sprache */\n",
    " L = {ω|ω∈seq(Σ) ∧ δs(S,ω) ∩ F ≠ ∅}\n",
    " ∧\n",
    " /* Nun ein Beispiel-Automat von Folie 24 (Info 4) */\n",
    " Σ = {0,1} ∧\n",
    " S = {z0} ∧ F={z2} ∧\n",
    " δ = {     (z0,0)↦{z0}, (z0,1)↦{z0,z1},\n",
    "           (z1,0)↦{z2}, (z1,1)↦{z2},\n",
    "           (z2,0)↦{z3}, (z2,1)↦{z3},\n",
    "           (z3,0)↦{z3}, (z3,1)↦{z3} }\n",
    "END"
   ]
  },
  {
   "cell_type": "code",
   "execution_count": 3,
   "metadata": {},
   "outputs": [
    {
     "data": {
      "text/plain": [
       "Executed operation: SETUP_CONSTANTS()"
      ]
     },
     "execution_count": 3,
     "metadata": {},
     "output_type": "execute_result"
    }
   ],
   "source": [
    ":constants"
   ]
  },
  {
   "cell_type": "code",
   "execution_count": 4,
   "metadata": {},
   "outputs": [
    {
     "data": {
      "text/plain": [
       "Executed operation: INITIALISATION()"
      ]
     },
     "execution_count": 4,
     "metadata": {},
     "output_type": "execute_result"
    }
   ],
   "source": [
    ":init"
   ]
  },
  {
   "cell_type": "markdown",
   "metadata": {},
   "source": [
    "Die Übergangsfunktion $\\delta$ gibt us für einen Zustand und ein Symbol die möglichen nächsten Zustande an:"
   ]
  },
  {
   "cell_type": "code",
   "execution_count": 5,
   "metadata": {},
   "outputs": [
    {
     "data": {
      "text/markdown": [
       "$\\{\\mathit{z0},\\mathit{z1}\\}$"
      ],
      "text/plain": [
       "{z0,z1}"
      ]
     },
     "execution_count": 5,
     "metadata": {},
     "output_type": "execute_result"
    }
   ],
   "source": [
    "δ(z0,1)"
   ]
  },
  {
   "cell_type": "markdown",
   "metadata": {},
   "source": [
    "As you can see, the automaton is non-deterministic as there are two successors for the state ```z0``` and the input symbol ```1```.\n",
    "\n",
    "We can examine the transition function of this automaton as a table:"
   ]
  },
  {
   "cell_type": "code",
   "execution_count": 6,
   "metadata": {},
   "outputs": [
    {
     "data": {
      "text/markdown": [
       "|prj11|prj12|prj2|\n",
       "|---|---|---|\n",
       "|z0|0|{z0}|\n",
       "|z0|1|{z0,z1}|\n",
       "|z1|0|{z2}|\n",
       "|z1|1|{z2}|\n",
       "|z2|0|{z3}|\n",
       "|z2|1|{z3}|\n",
       "|z3|0|{z3}|\n",
       "|z3|1|{z3}|\n"
      ],
      "text/plain": [
       "prj11\tprj12\tprj2\n",
       "z0\t0\t{z0}\n",
       "z0\t1\t{z0,z1}\n",
       "z1\t0\t{z2}\n",
       "z1\t1\t{z2}\n",
       "z2\t0\t{z3}\n",
       "z2\t1\t{z3}\n",
       "z3\t0\t{z3}\n",
       "z3\t1\t{z3}\n"
      ]
     },
     "execution_count": 6,
     "metadata": {},
     "output_type": "execute_result"
    }
   ],
   "source": [
    ":table δ"
   ]
  },
  {
   "cell_type": "markdown",
   "metadata": {},
   "source": [
    "Alternatively, we can view it as graph:"
   ]
  },
  {
   "cell_type": "code",
   "execution_count": 7,
   "metadata": {},
   "outputs": [
    {
     "data": {
      "image/svg+xml": [
       "<?xml version=\"1.0\" encoding=\"UTF-8\" standalone=\"no\"?>\n",
       "<!DOCTYPE svg PUBLIC \"-//W3C//DTD SVG 1.1//EN\"\n",
       " \"http://www.w3.org/Graphics/SVG/1.1/DTD/svg11.dtd\">\n",
       "<!-- Generated by graphviz version 12.2.1 (20241206.2353)\n",
       " -->\n",
       "<!-- Title: state Pages: 1 -->\n",
       "<svg width=\"144pt\" height=\"364pt\"\n",
       " viewBox=\"0.00 0.00 144.00 363.75\" xmlns=\"http://www.w3.org/2000/svg\" xmlns:xlink=\"http://www.w3.org/1999/xlink\">\n",
       "<g id=\"graph0\" class=\"graph\" transform=\"scale(1 1) rotate(0) translate(4 359.75)\">\n",
       "<title>state</title>\n",
       "<polygon fill=\"white\" stroke=\"none\" points=\"-4,4 -4,-359.75 140,-359.75 140,4 -4,4\"/>\n",
       "<g id=\"clust1\" class=\"cluster\">\n",
       "<title>cluster_Z</title>\n",
       "<polygon fill=\"lightgrey\" stroke=\"lightgrey\" points=\"8,-8 8,-347.75 128,-347.75 128,-8 8,-8\"/>\n",
       "<text text-anchor=\"middle\" x=\"68\" y=\"-332.35\" font-family=\"Times,serif\" font-size=\"12.00\">Z</text>\n",
       "</g>\n",
       "<!-- z0 -->\n",
       "<g id=\"node1\" class=\"node\">\n",
       "<title>z0</title>\n",
       "<polygon fill=\"#efdf84\" stroke=\"#efdf84\" points=\"70,-317.5 16,-317.5 16,-281.5 70,-281.5 70,-317.5\"/>\n",
       "<text text-anchor=\"middle\" x=\"43\" y=\"-294.45\" font-family=\"Times,serif\" font-size=\"14.00\">z0</text>\n",
       "</g>\n",
       "<!-- z0&#45;&gt;z0 -->\n",
       "<g id=\"edge2\" class=\"edge\">\n",
       "<title>z0&#45;&gt;z0</title>\n",
       "<path fill=\"none\" stroke=\"firebrick\" d=\"M70.24,-303.64C80.02,-303.73 88,-302.35 88,-299.5 88,-297.9 85.48,-296.76 81.53,-296.08\"/>\n",
       "<polygon fill=\"firebrick\" stroke=\"firebrick\" points=\"81.96,-292.6 71.75,-295.45 81.51,-299.59 81.96,-292.6\"/>\n",
       "<text text-anchor=\"middle\" x=\"91.38\" y=\"-294.45\" font-family=\"Times,serif\" font-size=\"14.00\">1</text>\n",
       "</g>\n",
       "<!-- z0&#45;&gt;z0 -->\n",
       "<g id=\"edge6\" class=\"edge\">\n",
       "<title>z0&#45;&gt;z0</title>\n",
       "<path fill=\"none\" stroke=\"sienna\" d=\"M70.2,-307.07C88.34,-309.2 106,-306.67 106,-299.5 106,-293.84 95,-291.08 81.45,-291.21\"/>\n",
       "<polygon fill=\"sienna\" stroke=\"sienna\" points=\"81.46,-287.7 71.71,-291.84 81.91,-294.69 81.46,-287.7\"/>\n",
       "<text text-anchor=\"middle\" x=\"109.38\" y=\"-294.45\" font-family=\"Times,serif\" font-size=\"14.00\">0</text>\n",
       "</g>\n",
       "<!-- z1 -->\n",
       "<g id=\"node2\" class=\"node\">\n",
       "<title>z1</title>\n",
       "<polygon fill=\"#efdf84\" stroke=\"#efdf84\" points=\"70,-229 16,-229 16,-193 70,-193 70,-229\"/>\n",
       "<text text-anchor=\"middle\" x=\"43\" y=\"-205.95\" font-family=\"Times,serif\" font-size=\"14.00\">z1</text>\n",
       "</g>\n",
       "<!-- z0&#45;&gt;z1 -->\n",
       "<g id=\"edge1\" class=\"edge\">\n",
       "<title>z0&#45;&gt;z1</title>\n",
       "<path fill=\"none\" stroke=\"firebrick\" d=\"M43,-281.41C43,-269.76 43,-254.05 43,-240.52\"/>\n",
       "<polygon fill=\"firebrick\" stroke=\"firebrick\" points=\"46.5,-240.86 43,-230.86 39.5,-240.86 46.5,-240.86\"/>\n",
       "<text text-anchor=\"middle\" x=\"46.38\" y=\"-250.2\" font-family=\"Times,serif\" font-size=\"14.00\">1</text>\n",
       "</g>\n",
       "<!-- z2 -->\n",
       "<g id=\"node4\" class=\"node\">\n",
       "<title>z2</title>\n",
       "<polygon fill=\"#efdf84\" stroke=\"#efdf84\" points=\"70,-140.5 16,-140.5 16,-104.5 70,-104.5 70,-140.5\"/>\n",
       "<text text-anchor=\"middle\" x=\"43\" y=\"-117.45\" font-family=\"Times,serif\" font-size=\"14.00\">z2</text>\n",
       "</g>\n",
       "<!-- z1&#45;&gt;z2 -->\n",
       "<g id=\"edge5\" class=\"edge\">\n",
       "<title>z1&#45;&gt;z2</title>\n",
       "<path fill=\"none\" stroke=\"sienna\" d=\"M43,-192.91C43,-181.26 43,-165.55 43,-152.02\"/>\n",
       "<polygon fill=\"sienna\" stroke=\"sienna\" points=\"46.5,-152.36 43,-142.36 39.5,-152.36 46.5,-152.36\"/>\n",
       "<text text-anchor=\"middle\" x=\"46.38\" y=\"-161.7\" font-family=\"Times,serif\" font-size=\"14.00\">0</text>\n",
       "</g>\n",
       "<!-- z3 -->\n",
       "<g id=\"node3\" class=\"node\">\n",
       "<title>z3</title>\n",
       "<polygon fill=\"#efdf84\" stroke=\"#efdf84\" points=\"70,-52 16,-52 16,-16 70,-16 70,-52\"/>\n",
       "<text text-anchor=\"middle\" x=\"43\" y=\"-28.95\" font-family=\"Times,serif\" font-size=\"14.00\">z3</text>\n",
       "</g>\n",
       "<!-- z3&#45;&gt;z3 -->\n",
       "<g id=\"edge3\" class=\"edge\">\n",
       "<title>z3&#45;&gt;z3</title>\n",
       "<path fill=\"none\" stroke=\"sienna\" d=\"M70.24,-42.29C80.02,-42.47 88,-39.7 88,-34 88,-30.79 85.48,-28.51 81.53,-27.17\"/>\n",
       "<polygon fill=\"sienna\" stroke=\"sienna\" points=\"82.11,-23.71 71.74,-25.9 81.21,-30.65 82.11,-23.71\"/>\n",
       "<text text-anchor=\"middle\" x=\"91.38\" y=\"-28.95\" font-family=\"Times,serif\" font-size=\"14.00\">0</text>\n",
       "</g>\n",
       "<!-- z2&#45;&gt;z3 -->\n",
       "<g id=\"edge4\" class=\"edge\">\n",
       "<title>z2&#45;&gt;z3</title>\n",
       "<path fill=\"none\" stroke=\"sienna\" d=\"M43,-104.41C43,-92.76 43,-77.05 43,-63.52\"/>\n",
       "<polygon fill=\"sienna\" stroke=\"sienna\" points=\"46.5,-63.86 43,-53.86 39.5,-63.86 46.5,-63.86\"/>\n",
       "<text text-anchor=\"middle\" x=\"46.38\" y=\"-73.2\" font-family=\"Times,serif\" font-size=\"14.00\">0</text>\n",
       "</g>\n",
       "</g>\n",
       "</svg>\n"
      ],
      "text/plain": [
       "<Dot visualization: expr_as_graph [(\"0\",{x,y| x∈Z & y:δ(x,0)},\n",
       "                    \"1\",{x,y| x∈S & y∈δ(x,1)})]>"
      ]
     },
     "execution_count": 7,
     "metadata": {},
     "output_type": "execute_result"
    }
   ],
   "source": [
    ":dot expr_as_graph (\"0\",{x,y| x∈Z & y:δ(x,0)},\n",
    "                    \"1\",{x,y| x∈S & y∈δ(x,1)})"
   ]
  },
  {
   "cell_type": "markdown",
   "metadata": {},
   "source": [
    "Die Funktion $\\widehat{\\delta}$ berechnet die möglichen Zustände nach dem Abarbeiten eines Wortes. Zum Beispiel, kann sich der Automat nach dem Abarbeiten des Präfixes 111 in folgenden Zuständen befinden:"
   ]
  },
  {
   "cell_type": "code",
   "execution_count": 8,
   "metadata": {},
   "outputs": [
    {
     "data": {
      "text/markdown": [
       "$\\{\\mathit{z0},\\mathit{z1},\\mathit{z2},\\mathit{z3}\\}$"
      ],
      "text/plain": [
       "{z0,z1,z2,z3}"
      ]
     },
     "execution_count": 8,
     "metadata": {},
     "output_type": "execute_result"
    }
   ],
   "source": [
    "δs(S,[1,1,1])"
   ]
  },
  {
   "cell_type": "markdown",
   "metadata": {},
   "source": [
    "Der Automat akzeptiert zum Beispiel das Wort 111 und das Wort 101 nicht, da:"
   ]
  },
  {
   "cell_type": "code",
   "execution_count": 9,
   "metadata": {},
   "outputs": [
    {
     "data": {
      "text/markdown": [
       "$\\{\\mathit{z2}\\}$"
      ],
      "text/plain": [
       "{z2}"
      ]
     },
     "execution_count": 9,
     "metadata": {},
     "output_type": "execute_result"
    }
   ],
   "source": [
    "δs(S,[1,1,1]) ∩ F"
   ]
  },
  {
   "cell_type": "markdown",
   "metadata": {},
   "source": [
    "Folgende Wörter der Länge 3 werden vom Automaten akzeptiert:"
   ]
  },
  {
   "cell_type": "code",
   "execution_count": 10,
   "metadata": {},
   "outputs": [
    {
     "data": {
      "text/markdown": [
       "|x|y|z|\n",
       "|---|---|---|\n",
       "|0|1|0|\n",
       "|0|1|1|\n",
       "|1|1|0|\n",
       "|1|1|1|\n"
      ],
      "text/plain": [
       "x\ty\tz\n",
       "0\t1\t0\n",
       "0\t1\t1\n",
       "1\t1\t0\n",
       "1\t1\t1\n"
      ]
     },
     "execution_count": 10,
     "metadata": {},
     "output_type": "execute_result"
    }
   ],
   "source": [
    ":table {x,y,z| [x,y,z]∈L}"
   ]
  },
  {
   "cell_type": "markdown",
   "metadata": {},
   "source": [
    "and the following words of length 3 are not accepted:"
   ]
  },
  {
   "cell_type": "code",
   "execution_count": 11,
   "metadata": {},
   "outputs": [
    {
     "data": {
      "text/markdown": [
       "|x|y|z|\n",
       "|---|---|---|\n",
       "|0|0|0|\n",
       "|0|0|1|\n",
       "|1|0|0|\n",
       "|1|0|1|\n"
      ],
      "text/plain": [
       "x\ty\tz\n",
       "0\t0\t0\n",
       "0\t0\t1\n",
       "1\t0\t0\n",
       "1\t0\t1\n"
      ]
     },
     "execution_count": 11,
     "metadata": {},
     "output_type": "execute_result"
    }
   ],
   "source": [
    ":table {x,y,z| {x,y,z} ⊆ Σ & ¬([x,y,z]∈L)}"
   ]
  },
  {
   "cell_type": "markdown",
   "metadata": {},
   "source": [
    "Es stellt sich die Frage, ob NFAs mächtiger sind als DFAs. Die \n",
    "Antwort lautet: Nein.\n",
    "\n",
    "## Theorem (Rabin und Scott)\n",
    "Jede von einem NFA akzeptierte Sprache kann auch von einem DFA akzeptiert\n",
    "werden.\n",
    "\n",
    "### Beweis\n",
    "Sei $M = (\\Sigma, Z, \\delta , S, E)$ ein NFA. \n",
    "Konstruiere einen zu\n",
    "  $M$ äquivalenten DFA \n",
    "  $M' = (\\Sigma, \\pow(Z), \\delta' ,z_0', F)$ wie folgt:\n",
    "* Zustandsmenge von $M'$: die Potenzmenge $\\pow(Z)$ von $Z$,\n",
    "* $\\delta'(Z' , a) = \\widehat{\\delta}(Z',a)$ für alle $Z' \\subseteq Z$ und $a \\in \\Sigma$,\n",
    "* $z_0'=S$,\n",
    "* $F = \\{ Z' \\subseteq Z \\mid Z' \\cap E \\neq \\emptyset\\}$.\n",
    "Offenbar sind M' und M äquivalent, denn für alle ...\n",
    "\n"
   ]
  },
  {
   "cell_type": "markdown",
   "metadata": {},
   "source": [
    "Für den oben geladen Automaten können wir diese Konstruktion illustrieren.\n",
    "Die Potenzmenge der Zustände ist:"
   ]
  },
  {
   "cell_type": "code",
   "execution_count": 12,
   "metadata": {},
   "outputs": [
    {
     "data": {
      "text/markdown": [
       "$\\def\\emptyset{\\mathord\\varnothing}\\{\\emptyset,\\{\\mathit{z0}\\},\\{\\mathit{z0},\\mathit{z1}\\},\\{\\mathit{z0},\\mathit{z2}\\},\\{\\mathit{z0},\\mathit{z3}\\},\\{\\mathit{z1}\\},\\{\\mathit{z0},\\mathit{z1},\\mathit{z2}\\},\\{\\mathit{z0},\\mathit{z1},\\mathit{z3}\\},\\{\\mathit{z1},\\mathit{z2}\\},\\{\\mathit{z1},\\mathit{z3}\\},\\{\\mathit{z0},\\mathit{z1},\\mathit{z2},\\mathit{z3}\\},\\{\\mathit{z2}\\},\\{\\mathit{z0},\\mathit{z2},\\mathit{z3}\\},\\{\\mathit{z1},\\mathit{z2},\\mathit{z3}\\},\\{\\mathit{z2},\\mathit{z3}\\},\\{\\mathit{z3}\\}\\}$"
      ],
      "text/plain": [
       "{∅,{z0},{z0,z1},{z0,z2},{z0,z3},{z1},{z0,z1,z2},{z0,z1,z3},{z1,z2},{z1,z3},{z0,z1,z2,z3},{z2},{z0,z2,z3},{z1,z2,z3},{z2,z3},{z3}}"
      ]
     },
     "execution_count": 12,
     "metadata": {},
     "output_type": "execute_result"
    }
   ],
   "source": [
    "ℙ(Z)"
   ]
  },
  {
   "cell_type": "markdown",
   "metadata": {},
   "source": [
    "Tabellarisch können wir $\\widehat{\\delta}$ für $\\pow(Z)$ wie folgt ausrechnen:"
   ]
  },
  {
   "cell_type": "code",
   "execution_count": 13,
   "metadata": {},
   "outputs": [
    {
     "data": {
      "text/markdown": [
       "|x|a|y|\n",
       "|---|---|---|\n",
       "|∅|0|∅|\n",
       "|∅|1|∅|\n",
       "|{z0}|0|{z0}|\n",
       "|{z0}|1|{z0,z1}|\n",
       "|{z0,z1}|0|{z0,z2}|\n",
       "|{z0,z1}|1|{z0,z1,z2}|\n",
       "|{z0,z2}|0|{z0,z3}|\n",
       "|{z0,z2}|1|{z0,z1,z3}|\n",
       "|{z0,z3}|0|{z0,z3}|\n",
       "|{z0,z3}|1|{z0,z1,z3}|\n",
       "|{z1}|0|{z2}|\n",
       "|{z1}|1|{z2}|\n",
       "|{z0,z1,z2}|0|{z0,z2,z3}|\n",
       "|{z0,z1,z2}|1|{z0,z1,z2,z3}|\n",
       "|{z0,z1,z3}|0|{z0,z2,z3}|\n",
       "|{z0,z1,z3}|1|{z0,z1,z2,z3}|\n",
       "|{z1,z2}|0|{z2,z3}|\n",
       "|{z1,z2}|1|{z2,z3}|\n",
       "|{z1,z3}|0|{z2,z3}|\n",
       "|{z1,z3}|1|{z2,z3}|\n",
       "|{z0,z1,z2,z3}|0|{z0,z2,z3}|\n",
       "|{z0,z1,z2,z3}|1|{z0,z1,z2,z3}|\n",
       "|{z2}|0|{z3}|\n",
       "|{z2}|1|{z3}|\n",
       "|{z0,z2,z3}|0|{z0,z3}|\n",
       "|{z0,z2,z3}|1|{z0,z1,z3}|\n",
       "|{z1,z2,z3}|0|{z2,z3}|\n",
       "|{z1,z2,z3}|1|{z2,z3}|\n",
       "|{z2,z3}|0|{z3}|\n",
       "|{z2,z3}|1|{z3}|\n",
       "|{z3}|0|{z3}|\n",
       "|{z3}|1|{z3}|\n"
      ],
      "text/plain": [
       "x\ta\ty\n",
       "{}\t0\t{}\n",
       "{}\t1\t{}\n",
       "{z0}\t0\t{z0}\n",
       "{z0}\t1\t{z0,z1}\n",
       "{z0,z1}\t0\t{z0,z2}\n",
       "{z0,z1}\t1\t{z0,z1,z2}\n",
       "{z0,z2}\t0\t{z0,z3}\n",
       "{z0,z2}\t1\t{z0,z1,z3}\n",
       "{z0,z3}\t0\t{z0,z3}\n",
       "{z0,z3}\t1\t{z0,z1,z3}\n",
       "{z1}\t0\t{z2}\n",
       "{z1}\t1\t{z2}\n",
       "{z0,z1,z2}\t0\t{z0,z2,z3}\n",
       "{z0,z1,z2}\t1\t{z0,z1,z2,z3}\n",
       "{z0,z1,z3}\t0\t{z0,z2,z3}\n",
       "{z0,z1,z3}\t1\t{z0,z1,z2,z3}\n",
       "{z1,z2}\t0\t{z2,z3}\n",
       "{z1,z2}\t1\t{z2,z3}\n",
       "{z1,z3}\t0\t{z2,z3}\n",
       "{z1,z3}\t1\t{z2,z3}\n",
       "{z0,z1,z2,z3}\t0\t{z0,z2,z3}\n",
       "{z0,z1,z2,z3}\t1\t{z0,z1,z2,z3}\n",
       "{z2}\t0\t{z3}\n",
       "{z2}\t1\t{z3}\n",
       "{z0,z2,z3}\t0\t{z0,z3}\n",
       "{z0,z2,z3}\t1\t{z0,z1,z3}\n",
       "{z1,z2,z3}\t0\t{z2,z3}\n",
       "{z1,z2,z3}\t1\t{z2,z3}\n",
       "{z2,z3}\t0\t{z3}\n",
       "{z2,z3}\t1\t{z3}\n",
       "{z3}\t0\t{z3}\n",
       "{z3}\t1\t{z3}\n"
      ]
     },
     "execution_count": 13,
     "metadata": {},
     "output_type": "execute_result"
    }
   ],
   "source": [
    ":table {x,a,y| a∈Σ & x∈ℙ(Z) & y=δs(x,[a])}"
   ]
  },
  {
   "cell_type": "markdown",
   "metadata": {},
   "source": [
    "Graphisch lässt sich der Automat wie folgt darstellen; die Start und Endzustände sind noch nicht schön markiert."
   ]
  },
  {
   "cell_type": "code",
   "execution_count": 14,
   "metadata": {},
   "outputs": [
    {
     "data": {
      "text/plain": [
       "Preference changed: DOT_DECOMPOSE_NODES = FALSE\n"
      ]
     },
     "execution_count": 14,
     "metadata": {},
     "output_type": "execute_result"
    }
   ],
   "source": [
    ":pref DOT_DECOMPOSE_NODES=FALSE"
   ]
  },
  {
   "cell_type": "code",
   "execution_count": 15,
   "metadata": {},
   "outputs": [
    {
     "data": {
      "image/svg+xml": [
       "<?xml version=\"1.0\" encoding=\"UTF-8\" standalone=\"no\"?>\n",
       "<!DOCTYPE svg PUBLIC \"-//W3C//DTD SVG 1.1//EN\"\n",
       " \"http://www.w3.org/Graphics/SVG/1.1/DTD/svg11.dtd\">\n",
       "<!-- Generated by graphviz version 12.2.1 (20241206.2353)\n",
       " -->\n",
       "<!-- Title: state Pages: 1 -->\n",
       "<svg width=\"645pt\" height=\"575pt\"\n",
       " viewBox=\"0.00 0.00 644.50 575.00\" xmlns=\"http://www.w3.org/2000/svg\" xmlns:xlink=\"http://www.w3.org/1999/xlink\">\n",
       "<g id=\"graph0\" class=\"graph\" transform=\"scale(1 1) rotate(0) translate(4 571)\">\n",
       "<title>state</title>\n",
       "<polygon fill=\"white\" stroke=\"none\" points=\"-4,4 -4,-571 640.5,-571 640.5,4 -4,4\"/>\n",
       "<!-- \\{z2,z3\\} -->\n",
       "<g id=\"node1\" class=\"node\">\n",
       "<title>\\{z2,z3\\}</title>\n",
       "<polygon fill=\"#cae1ff\" stroke=\"#cae1ff\" points=\"228.38,-478.5 169.62,-478.5 169.62,-442.5 228.38,-442.5 228.38,-478.5\"/>\n",
       "<text text-anchor=\"middle\" x=\"199\" y=\"-455.45\" font-family=\"Times,serif\" font-size=\"14.00\">{z2,z3}</text>\n",
       "</g>\n",
       "<!-- \\{z2,z3\\}&#45;&gt;\\{z2,z3\\} -->\n",
       "<g id=\"edge1\" class=\"edge\">\n",
       "<title>\\{z2,z3\\}&#45;&gt;\\{z2,z3\\}</title>\n",
       "<path fill=\"none\" stroke=\"firebrick\" d=\"M228.61,-468.8C238.48,-468.8 246.38,-466.03 246.38,-460.5 246.38,-457.39 243.88,-455.15 239.93,-453.79\"/>\n",
       "<polygon fill=\"firebrick\" stroke=\"firebrick\" points=\"240.5,-450.34 230.11,-452.41 239.53,-457.27 240.5,-450.34\"/>\n",
       "<text text-anchor=\"middle\" x=\"256.12\" y=\"-455.45\" font-family=\"Times,serif\" font-size=\"14.00\">end</text>\n",
       "</g>\n",
       "<!-- \\{z3\\} -->\n",
       "<g id=\"node10\" class=\"node\">\n",
       "<title>\\{z3\\}</title>\n",
       "<polygon fill=\"#cae1ff\" stroke=\"#cae1ff\" points=\"187,-390 133,-390 133,-354 187,-354 187,-390\"/>\n",
       "<text text-anchor=\"middle\" x=\"160\" y=\"-366.95\" font-family=\"Times,serif\" font-size=\"14.00\">{z3}</text>\n",
       "</g>\n",
       "<!-- \\{z2,z3\\}&#45;&gt;\\{z3\\} -->\n",
       "<g id=\"edge11\" class=\"edge\">\n",
       "<title>\\{z2,z3\\}&#45;&gt;\\{z3\\}</title>\n",
       "<path fill=\"none\" stroke=\"#473c8b\" d=\"M179.55,-442.15C174.81,-436.93 170.24,-430.89 167.25,-424.5 163.98,-417.53 162.09,-409.48 161.01,-401.85\"/>\n",
       "<polygon fill=\"#473c8b\" stroke=\"#473c8b\" points=\"164.5,-401.55 160.06,-391.93 157.53,-402.22 164.5,-401.55\"/>\n",
       "<text text-anchor=\"middle\" x=\"170.62\" y=\"-411.2\" font-family=\"Times,serif\" font-size=\"14.00\">1</text>\n",
       "</g>\n",
       "<!-- \\{z2,z3\\}&#45;&gt;\\{z3\\} -->\n",
       "<g id=\"edge27\" class=\"edge\">\n",
       "<title>\\{z2,z3\\}&#45;&gt;\\{z3\\}</title>\n",
       "<path fill=\"none\" stroke=\"black\" d=\"M191.29,-442.41C185.93,-430.52 178.67,-414.41 172.49,-400.7\"/>\n",
       "<polygon fill=\"black\" stroke=\"black\" points=\"175.75,-399.41 168.44,-391.73 169.36,-402.28 175.75,-399.41\"/>\n",
       "<text text-anchor=\"middle\" x=\"186.37\" y=\"-411.2\" font-family=\"Times,serif\" font-size=\"14.00\">0</text>\n",
       "</g>\n",
       "<!-- \\{z1,z2,z3\\} -->\n",
       "<g id=\"node2\" class=\"node\">\n",
       "<title>\\{z1,z2,z3\\}</title>\n",
       "<polygon fill=\"#cae1ff\" stroke=\"#cae1ff\" points=\"147.62,-567 72.38,-567 72.38,-531 147.62,-531 147.62,-567\"/>\n",
       "<text text-anchor=\"middle\" x=\"110\" y=\"-543.95\" font-family=\"Times,serif\" font-size=\"14.00\">{z1,z2,z3}</text>\n",
       "</g>\n",
       "<!-- \\{z1,z2,z3\\}&#45;&gt;\\{z2,z3\\} -->\n",
       "<g id=\"edge12\" class=\"edge\">\n",
       "<title>\\{z1,z2,z3\\}&#45;&gt;\\{z2,z3\\}</title>\n",
       "<path fill=\"none\" stroke=\"#473c8b\" d=\"M111.55,-530.53C113.33,-519.66 117.13,-505.99 125.25,-496.5 134.02,-486.26 146.45,-478.79 158.62,-473.46\"/>\n",
       "<polygon fill=\"#473c8b\" stroke=\"#473c8b\" points=\"159.72,-476.78 167.74,-469.86 157.15,-470.27 159.72,-476.78\"/>\n",
       "<text text-anchor=\"middle\" x=\"128.62\" y=\"-499.7\" font-family=\"Times,serif\" font-size=\"14.00\">1</text>\n",
       "</g>\n",
       "<!-- \\{z1,z2,z3\\}&#45;&gt;\\{z2,z3\\} -->\n",
       "<g id=\"edge28\" class=\"edge\">\n",
       "<title>\\{z1,z2,z3\\}&#45;&gt;\\{z2,z3\\}</title>\n",
       "<path fill=\"none\" stroke=\"black\" d=\"M127.58,-530.91C140.54,-518.32 158.38,-500.98 172.98,-486.79\"/>\n",
       "<polygon fill=\"black\" stroke=\"black\" points=\"175.33,-489.38 180.06,-479.91 170.45,-484.36 175.33,-489.38\"/>\n",
       "<text text-anchor=\"middle\" x=\"165.85\" y=\"-499.7\" font-family=\"Times,serif\" font-size=\"14.00\">0</text>\n",
       "</g>\n",
       "<!-- \\{z1,z2,z3\\}&#45;&gt;\\{z1,z2,z3\\} -->\n",
       "<g id=\"edge2\" class=\"edge\">\n",
       "<title>\\{z1,z2,z3\\}&#45;&gt;\\{z1,z2,z3\\}</title>\n",
       "<path fill=\"none\" stroke=\"firebrick\" d=\"M147.96,-557.22C158.01,-556.75 165.62,-554.01 165.62,-549 165.62,-546.1 163.08,-543.96 158.99,-542.58\"/>\n",
       "<polygon fill=\"firebrick\" stroke=\"firebrick\" points=\"159.89,-539.18 149.45,-541.02 158.75,-546.09 159.89,-539.18\"/>\n",
       "<text text-anchor=\"middle\" x=\"175.38\" y=\"-543.95\" font-family=\"Times,serif\" font-size=\"14.00\">end</text>\n",
       "</g>\n",
       "<!-- \\{z0,z2,z3\\} -->\n",
       "<g id=\"node3\" class=\"node\">\n",
       "<title>\\{z0,z2,z3\\}</title>\n",
       "<polygon fill=\"#cae1ff\" stroke=\"#cae1ff\" points=\"342.62,-301.5 267.38,-301.5 267.38,-265.5 342.62,-265.5 342.62,-301.5\"/>\n",
       "<text text-anchor=\"middle\" x=\"305\" y=\"-278.45\" font-family=\"Times,serif\" font-size=\"14.00\">{z0,z2,z3}</text>\n",
       "</g>\n",
       "<!-- \\{z0,z2,z3\\}&#45;&gt;\\{z0,z2,z3\\} -->\n",
       "<g id=\"edge3\" class=\"edge\">\n",
       "<title>\\{z0,z2,z3\\}&#45;&gt;\\{z0,z2,z3\\}</title>\n",
       "<path fill=\"none\" stroke=\"firebrick\" d=\"M342.96,-291.72C353.01,-291.25 360.62,-288.51 360.62,-283.5 360.62,-280.6 358.08,-278.46 353.99,-277.08\"/>\n",
       "<polygon fill=\"firebrick\" stroke=\"firebrick\" points=\"354.89,-273.68 344.45,-275.52 353.75,-280.59 354.89,-273.68\"/>\n",
       "<text text-anchor=\"middle\" x=\"370.38\" y=\"-278.45\" font-family=\"Times,serif\" font-size=\"14.00\">end</text>\n",
       "</g>\n",
       "<!-- \\{z0,z1,z3\\} -->\n",
       "<g id=\"node11\" class=\"node\">\n",
       "<title>\\{z0,z1,z3\\}</title>\n",
       "<polygon fill=\"#cae1ff\" stroke=\"#cae1ff\" points=\"385.62,-124.5 310.38,-124.5 310.38,-88.5 385.62,-88.5 385.62,-124.5\"/>\n",
       "<text text-anchor=\"middle\" x=\"348\" y=\"-101.45\" font-family=\"Times,serif\" font-size=\"14.00\">{z0,z1,z3}</text>\n",
       "</g>\n",
       "<!-- \\{z0,z2,z3\\}&#45;&gt;\\{z0,z1,z3\\} -->\n",
       "<g id=\"edge13\" class=\"edge\">\n",
       "<title>\\{z0,z2,z3\\}&#45;&gt;\\{z0,z1,z3\\}</title>\n",
       "<path fill=\"none\" stroke=\"#473c8b\" d=\"M305.98,-265.05C307.47,-243.91 311.07,-207.34 319.25,-177 323.09,-162.76 329.13,-147.56 334.69,-135.02\"/>\n",
       "<polygon fill=\"#473c8b\" stroke=\"#473c8b\" points=\"337.77,-136.7 338.75,-126.15 331.41,-133.78 337.77,-136.7\"/>\n",
       "<text text-anchor=\"middle\" x=\"322.62\" y=\"-189.95\" font-family=\"Times,serif\" font-size=\"14.00\">1</text>\n",
       "</g>\n",
       "<!-- \\{z0,z3\\} -->\n",
       "<g id=\"node14\" class=\"node\">\n",
       "<title>\\{z0,z3\\}</title>\n",
       "<polygon fill=\"#cae1ff\" stroke=\"#cae1ff\" points=\"478.38,-213 419.62,-213 419.62,-177 478.38,-177 478.38,-213\"/>\n",
       "<text text-anchor=\"middle\" x=\"449\" y=\"-189.95\" font-family=\"Times,serif\" font-size=\"14.00\">{z0,z3}</text>\n",
       "</g>\n",
       "<!-- \\{z0,z2,z3\\}&#45;&gt;\\{z0,z3\\} -->\n",
       "<g id=\"edge29\" class=\"edge\">\n",
       "<title>\\{z0,z2,z3\\}&#45;&gt;\\{z0,z3\\}</title>\n",
       "<path fill=\"none\" stroke=\"black\" d=\"M333.79,-265.2C355.87,-251.94 386.54,-233.52 410.69,-219.01\"/>\n",
       "<polygon fill=\"black\" stroke=\"black\" points=\"412.19,-222.2 418.96,-214.05 408.58,-216.2 412.19,-222.2\"/>\n",
       "<text text-anchor=\"middle\" x=\"393.27\" y=\"-234.2\" font-family=\"Times,serif\" font-size=\"14.00\">0</text>\n",
       "</g>\n",
       "<!-- \\{z2\\} -->\n",
       "<g id=\"node4\" class=\"node\">\n",
       "<title>\\{z2\\}</title>\n",
       "<polygon fill=\"#cae1ff\" stroke=\"#cae1ff\" points=\"97,-478.5 43,-478.5 43,-442.5 97,-442.5 97,-478.5\"/>\n",
       "<text text-anchor=\"middle\" x=\"70\" y=\"-455.45\" font-family=\"Times,serif\" font-size=\"14.00\">{z2}</text>\n",
       "</g>\n",
       "<!-- \\{z2\\}&#45;&gt;\\{z2\\} -->\n",
       "<g id=\"edge4\" class=\"edge\">\n",
       "<title>\\{z2\\}&#45;&gt;\\{z2\\}</title>\n",
       "<path fill=\"none\" stroke=\"firebrick\" d=\"M97.24,-468.79C107.02,-468.97 115,-466.2 115,-460.5 115,-457.29 112.48,-455.01 108.53,-453.67\"/>\n",
       "<polygon fill=\"firebrick\" stroke=\"firebrick\" points=\"109.11,-450.21 98.74,-452.4 108.21,-457.15 109.11,-450.21\"/>\n",
       "<text text-anchor=\"middle\" x=\"124.75\" y=\"-455.45\" font-family=\"Times,serif\" font-size=\"14.00\">end</text>\n",
       "</g>\n",
       "<!-- \\{z2\\}&#45;&gt;\\{z3\\} -->\n",
       "<g id=\"edge14\" class=\"edge\">\n",
       "<title>\\{z2\\}&#45;&gt;\\{z3\\}</title>\n",
       "<path fill=\"none\" stroke=\"#473c8b\" d=\"M73.89,-442.05C77.05,-431.19 82.46,-417.52 91.25,-408 99.72,-398.83 111.14,-391.7 122.23,-386.33\"/>\n",
       "<polygon fill=\"#473c8b\" stroke=\"#473c8b\" points=\"123.54,-389.58 131.28,-382.34 120.72,-383.18 123.54,-389.58\"/>\n",
       "<text text-anchor=\"middle\" x=\"94.62\" y=\"-411.2\" font-family=\"Times,serif\" font-size=\"14.00\">1</text>\n",
       "</g>\n",
       "<!-- \\{z2\\}&#45;&gt;\\{z3\\} -->\n",
       "<g id=\"edge30\" class=\"edge\">\n",
       "<title>\\{z2\\}&#45;&gt;\\{z3\\}</title>\n",
       "<path fill=\"none\" stroke=\"black\" d=\"M87.78,-442.41C100.89,-429.82 118.92,-412.48 133.69,-398.29\"/>\n",
       "<polygon fill=\"black\" stroke=\"black\" points=\"136.07,-400.85 140.86,-391.4 131.22,-395.81 136.07,-400.85\"/>\n",
       "<text text-anchor=\"middle\" x=\"126.44\" y=\"-411.2\" font-family=\"Times,serif\" font-size=\"14.00\">0</text>\n",
       "</g>\n",
       "<!-- \\{z0,z1,z2,z3\\} -->\n",
       "<g id=\"node5\" class=\"node\">\n",
       "<title>\\{z0,z1,z2,z3\\}</title>\n",
       "<polygon fill=\"#cae1ff\" stroke=\"#cae1ff\" points=\"304.88,-36 213.12,-36 213.12,0 304.88,0 304.88,-36\"/>\n",
       "<text text-anchor=\"middle\" x=\"259\" y=\"-12.95\" font-family=\"Times,serif\" font-size=\"14.00\">{z0,z1,z2,z3}</text>\n",
       "</g>\n",
       "<!-- \\{z0,z1,z2,z3\\}&#45;&gt;\\{z0,z2,z3\\} -->\n",
       "<g id=\"edge31\" class=\"edge\">\n",
       "<title>\\{z0,z1,z2,z3\\}&#45;&gt;\\{z0,z2,z3\\}</title>\n",
       "<path fill=\"none\" stroke=\"black\" d=\"M262.03,-36.35C269.79,-80.81 290.45,-199.14 300.01,-253.93\"/>\n",
       "<polygon fill=\"black\" stroke=\"black\" points=\"296.55,-254.47 301.72,-263.72 303.45,-253.27 296.55,-254.47\"/>\n",
       "<text text-anchor=\"middle\" x=\"286.44\" y=\"-145.7\" font-family=\"Times,serif\" font-size=\"14.00\">0</text>\n",
       "</g>\n",
       "<!-- \\{z0,z1,z2,z3\\}&#45;&gt;\\{z0,z1,z2,z3\\} -->\n",
       "<g id=\"edge5\" class=\"edge\">\n",
       "<title>\\{z0,z1,z2,z3\\}&#45;&gt;\\{z0,z1,z2,z3\\}</title>\n",
       "<path fill=\"none\" stroke=\"firebrick\" d=\"M305.22,-22.04C315.44,-21.66 322.88,-20.31 322.88,-18 322.88,-16.7 320.52,-15.7 316.64,-15.02\"/>\n",
       "<polygon fill=\"firebrick\" stroke=\"firebrick\" points=\"317.01,-11.53 306.73,-14.1 316.37,-18.51 317.01,-11.53\"/>\n",
       "<text text-anchor=\"middle\" x=\"332.62\" y=\"-12.95\" font-family=\"Times,serif\" font-size=\"14.00\">end</text>\n",
       "</g>\n",
       "<!-- \\{z0,z1,z2,z3\\}&#45;&gt;\\{z0,z1,z2,z3\\} -->\n",
       "<g id=\"edge15\" class=\"edge\">\n",
       "<title>\\{z0,z1,z2,z3\\}&#45;&gt;\\{z0,z1,z2,z3\\}</title>\n",
       "<path fill=\"none\" stroke=\"#473c8b\" d=\"M305.09,-26.2C325.12,-26.87 342.38,-24.14 342.38,-18 342.38,-13.06 331.2,-10.33 316.4,-9.8\"/>\n",
       "<polygon fill=\"#473c8b\" stroke=\"#473c8b\" points=\"316.61,-6.3 306.61,-9.8 316.61,-13.3 316.61,-6.3\"/>\n",
       "<text text-anchor=\"middle\" x=\"345.75\" y=\"-12.95\" font-family=\"Times,serif\" font-size=\"14.00\">1</text>\n",
       "</g>\n",
       "<!-- \\{z1,z2\\} -->\n",
       "<g id=\"node6\" class=\"node\">\n",
       "<title>\\{z1,z2\\}</title>\n",
       "<polygon fill=\"#cae1ff\" stroke=\"#cae1ff\" points=\"262.38,-567 203.62,-567 203.62,-531 262.38,-531 262.38,-567\"/>\n",
       "<text text-anchor=\"middle\" x=\"233\" y=\"-543.95\" font-family=\"Times,serif\" font-size=\"14.00\">{z1,z2}</text>\n",
       "</g>\n",
       "<!-- \\{z1,z2\\}&#45;&gt;\\{z2,z3\\} -->\n",
       "<g id=\"edge17\" class=\"edge\">\n",
       "<title>\\{z1,z2\\}&#45;&gt;\\{z2,z3\\}</title>\n",
       "<path fill=\"none\" stroke=\"#473c8b\" d=\"M213.84,-530.7C209.25,-525.49 204.91,-519.43 202.25,-513 199.33,-505.94 198,-497.86 197.51,-490.23\"/>\n",
       "<polygon fill=\"#473c8b\" stroke=\"#473c8b\" points=\"201.02,-490.29 197.38,-480.34 194.02,-490.39 201.02,-490.29\"/>\n",
       "<text text-anchor=\"middle\" x=\"205.62\" y=\"-499.7\" font-family=\"Times,serif\" font-size=\"14.00\">1</text>\n",
       "</g>\n",
       "<!-- \\{z1,z2\\}&#45;&gt;\\{z2,z3\\} -->\n",
       "<g id=\"edge33\" class=\"edge\">\n",
       "<title>\\{z1,z2\\}&#45;&gt;\\{z2,z3\\}</title>\n",
       "<path fill=\"none\" stroke=\"black\" d=\"M226.28,-530.91C221.61,-519.02 215.28,-502.91 209.89,-489.2\"/>\n",
       "<polygon fill=\"black\" stroke=\"black\" points=\"213.29,-488.29 206.37,-480.26 206.77,-490.85 213.29,-488.29\"/>\n",
       "<text text-anchor=\"middle\" x=\"222.42\" y=\"-499.7\" font-family=\"Times,serif\" font-size=\"14.00\">0</text>\n",
       "</g>\n",
       "<!-- \\{z1,z2\\}&#45;&gt;\\{z1,z2\\} -->\n",
       "<g id=\"edge6\" class=\"edge\">\n",
       "<title>\\{z1,z2\\}&#45;&gt;\\{z1,z2\\}</title>\n",
       "<path fill=\"none\" stroke=\"firebrick\" d=\"M262.61,-557.3C272.48,-557.3 280.38,-554.53 280.38,-549 280.38,-545.89 277.88,-543.65 273.93,-542.29\"/>\n",
       "<polygon fill=\"firebrick\" stroke=\"firebrick\" points=\"274.5,-538.84 264.11,-540.91 273.53,-545.77 274.5,-538.84\"/>\n",
       "<text text-anchor=\"middle\" x=\"290.12\" y=\"-543.95\" font-family=\"Times,serif\" font-size=\"14.00\">end</text>\n",
       "</g>\n",
       "<!-- \\{z0,z1,z2\\} -->\n",
       "<g id=\"node7\" class=\"node\">\n",
       "<title>\\{z0,z1,z2\\}</title>\n",
       "<polygon fill=\"#cae1ff\" stroke=\"#cae1ff\" points=\"342.62,-390 267.38,-390 267.38,-354 342.62,-354 342.62,-390\"/>\n",
       "<text text-anchor=\"middle\" x=\"305\" y=\"-366.95\" font-family=\"Times,serif\" font-size=\"14.00\">{z0,z1,z2}</text>\n",
       "</g>\n",
       "<!-- \\{z0,z1,z2\\}&#45;&gt;\\{z0,z2,z3\\} -->\n",
       "<g id=\"edge35\" class=\"edge\">\n",
       "<title>\\{z0,z1,z2\\}&#45;&gt;\\{z0,z2,z3\\}</title>\n",
       "<path fill=\"none\" stroke=\"black\" d=\"M305,-353.91C305,-342.26 305,-326.55 305,-313.02\"/>\n",
       "<polygon fill=\"black\" stroke=\"black\" points=\"308.5,-313.36 305,-303.36 301.5,-313.36 308.5,-313.36\"/>\n",
       "<text text-anchor=\"middle\" x=\"308.38\" y=\"-322.7\" font-family=\"Times,serif\" font-size=\"14.00\">0</text>\n",
       "</g>\n",
       "<!-- \\{z0,z1,z2\\}&#45;&gt;\\{z0,z1,z2,z3\\} -->\n",
       "<g id=\"edge19\" class=\"edge\">\n",
       "<title>\\{z0,z1,z2\\}&#45;&gt;\\{z0,z1,z2,z3\\}</title>\n",
       "<path fill=\"none\" stroke=\"#473c8b\" d=\"M271.8,-353.74C248.32,-338.9 221,-315.06 221,-284.5 221,-284.5 221,-284.5 221,-105.5 221,-84.17 230.8,-62.2 240.45,-45.73\"/>\n",
       "<polygon fill=\"#473c8b\" stroke=\"#473c8b\" points=\"243.24,-47.88 245.55,-37.53 237.29,-44.18 243.24,-47.88\"/>\n",
       "<text text-anchor=\"middle\" x=\"224.38\" y=\"-189.95\" font-family=\"Times,serif\" font-size=\"14.00\">1</text>\n",
       "</g>\n",
       "<!-- \\{z0,z1,z2\\}&#45;&gt;\\{z0,z1,z2\\} -->\n",
       "<g id=\"edge7\" class=\"edge\">\n",
       "<title>\\{z0,z1,z2\\}&#45;&gt;\\{z0,z1,z2\\}</title>\n",
       "<path fill=\"none\" stroke=\"firebrick\" d=\"M342.96,-380.22C353.01,-379.75 360.62,-377.01 360.62,-372 360.62,-369.1 358.08,-366.96 353.99,-365.58\"/>\n",
       "<polygon fill=\"firebrick\" stroke=\"firebrick\" points=\"354.89,-362.18 344.45,-364.02 353.75,-369.09 354.89,-362.18\"/>\n",
       "<text text-anchor=\"middle\" x=\"370.38\" y=\"-366.95\" font-family=\"Times,serif\" font-size=\"14.00\">end</text>\n",
       "</g>\n",
       "<!-- \\{z0,z2\\} -->\n",
       "<g id=\"node8\" class=\"node\">\n",
       "<title>\\{z0,z2\\}</title>\n",
       "<polygon fill=\"#cae1ff\" stroke=\"#cae1ff\" points=\"457.38,-301.5 398.62,-301.5 398.62,-265.5 457.38,-265.5 457.38,-301.5\"/>\n",
       "<text text-anchor=\"middle\" x=\"428\" y=\"-278.45\" font-family=\"Times,serif\" font-size=\"14.00\">{z0,z2}</text>\n",
       "</g>\n",
       "<!-- \\{z0,z2\\}&#45;&gt;\\{z0,z2\\} -->\n",
       "<g id=\"edge8\" class=\"edge\">\n",
       "<title>\\{z0,z2\\}&#45;&gt;\\{z0,z2\\}</title>\n",
       "<path fill=\"none\" stroke=\"firebrick\" d=\"M457.61,-291.8C467.48,-291.8 475.38,-289.03 475.38,-283.5 475.38,-280.39 472.88,-278.15 468.93,-276.79\"/>\n",
       "<polygon fill=\"firebrick\" stroke=\"firebrick\" points=\"469.5,-273.34 459.11,-275.41 468.53,-280.27 469.5,-273.34\"/>\n",
       "<text text-anchor=\"middle\" x=\"485.12\" y=\"-278.45\" font-family=\"Times,serif\" font-size=\"14.00\">end</text>\n",
       "</g>\n",
       "<!-- \\{z0,z2\\}&#45;&gt;\\{z0,z1,z3\\} -->\n",
       "<g id=\"edge22\" class=\"edge\">\n",
       "<title>\\{z0,z2\\}&#45;&gt;\\{z0,z1,z3\\}</title>\n",
       "<path fill=\"none\" stroke=\"#473c8b\" d=\"M420.04,-265.08C406.14,-234.68 377.35,-171.71 360.69,-135.25\"/>\n",
       "<polygon fill=\"#473c8b\" stroke=\"#473c8b\" points=\"363.9,-133.87 356.56,-126.23 357.53,-136.78 363.9,-133.87\"/>\n",
       "<text text-anchor=\"middle\" x=\"399.33\" y=\"-189.95\" font-family=\"Times,serif\" font-size=\"14.00\">1</text>\n",
       "</g>\n",
       "<!-- \\{z0,z2\\}&#45;&gt;\\{z0,z3\\} -->\n",
       "<g id=\"edge38\" class=\"edge\">\n",
       "<title>\\{z0,z2\\}&#45;&gt;\\{z0,z3\\}</title>\n",
       "<path fill=\"none\" stroke=\"black\" d=\"M432.15,-265.41C434.98,-253.76 438.79,-238.05 442.08,-224.52\"/>\n",
       "<polygon fill=\"black\" stroke=\"black\" points=\"445.47,-225.36 444.43,-214.82 438.67,-223.71 445.47,-225.36\"/>\n",
       "<text text-anchor=\"middle\" x=\"443.76\" y=\"-234.2\" font-family=\"Times,serif\" font-size=\"14.00\">0</text>\n",
       "</g>\n",
       "<!-- \\{z0\\} -->\n",
       "<g id=\"node9\" class=\"node\">\n",
       "<title>\\{z0\\}</title>\n",
       "<polygon fill=\"#cae1ff\" stroke=\"#cae1ff\" points=\"449,-567 395,-567 395,-531 449,-531 449,-567\"/>\n",
       "<text text-anchor=\"middle\" x=\"422\" y=\"-543.95\" font-family=\"Times,serif\" font-size=\"14.00\">{z0}</text>\n",
       "</g>\n",
       "<!-- \\{z0\\}&#45;&gt;\\{z0\\} -->\n",
       "<g id=\"edge9\" class=\"edge\">\n",
       "<title>\\{z0\\}&#45;&gt;\\{z0\\}</title>\n",
       "<path fill=\"none\" stroke=\"sienna\" d=\"M449.24,-553.14C459.02,-553.23 467,-551.85 467,-549 467,-547.4 464.48,-546.26 460.53,-545.58\"/>\n",
       "<polygon fill=\"sienna\" stroke=\"sienna\" points=\"460.96,-542.1 450.75,-544.95 460.51,-549.09 460.96,-542.1\"/>\n",
       "<text text-anchor=\"middle\" x=\"478.62\" y=\"-543.95\" font-family=\"Times,serif\" font-size=\"14.00\">start</text>\n",
       "</g>\n",
       "<!-- \\{z0\\}&#45;&gt;\\{z0\\} -->\n",
       "<g id=\"edge40\" class=\"edge\">\n",
       "<title>\\{z0\\}&#45;&gt;\\{z0\\}</title>\n",
       "<path fill=\"none\" stroke=\"black\" d=\"M449.26,-556.4C469.41,-558.81 490.25,-556.35 490.25,-549 490.25,-543.03 476.49,-540.28 460.53,-540.76\"/>\n",
       "<polygon fill=\"black\" stroke=\"black\" points=\"460.49,-537.25 450.77,-541.48 461.01,-544.23 460.49,-537.25\"/>\n",
       "<text text-anchor=\"middle\" x=\"493.62\" y=\"-543.95\" font-family=\"Times,serif\" font-size=\"14.00\">0</text>\n",
       "</g>\n",
       "<!-- \\{z0,z1\\} -->\n",
       "<g id=\"node15\" class=\"node\">\n",
       "<title>\\{z0,z1\\}</title>\n",
       "<polygon fill=\"#cae1ff\" stroke=\"#cae1ff\" points=\"451.38,-478.5 392.62,-478.5 392.62,-442.5 451.38,-442.5 451.38,-478.5\"/>\n",
       "<text text-anchor=\"middle\" x=\"422\" y=\"-455.45\" font-family=\"Times,serif\" font-size=\"14.00\">{z0,z1}</text>\n",
       "</g>\n",
       "<!-- \\{z0\\}&#45;&gt;\\{z0,z1\\} -->\n",
       "<g id=\"edge24\" class=\"edge\">\n",
       "<title>\\{z0\\}&#45;&gt;\\{z0,z1\\}</title>\n",
       "<path fill=\"none\" stroke=\"#473c8b\" d=\"M422,-530.91C422,-519.26 422,-503.55 422,-490.02\"/>\n",
       "<polygon fill=\"#473c8b\" stroke=\"#473c8b\" points=\"425.5,-490.36 422,-480.36 418.5,-490.36 425.5,-490.36\"/>\n",
       "<text text-anchor=\"middle\" x=\"425.38\" y=\"-499.7\" font-family=\"Times,serif\" font-size=\"14.00\">1</text>\n",
       "</g>\n",
       "<!-- \\{z3\\}&#45;&gt;\\{z3\\} -->\n",
       "<g id=\"edge10\" class=\"edge\">\n",
       "<title>\\{z3\\}&#45;&gt;\\{z3\\}</title>\n",
       "<path fill=\"none\" stroke=\"#473c8b\" d=\"M187.24,-376.14C197.02,-376.23 205,-374.85 205,-372 205,-370.4 202.48,-369.26 198.53,-368.58\"/>\n",
       "<polygon fill=\"#473c8b\" stroke=\"#473c8b\" points=\"198.96,-365.1 188.75,-367.95 198.51,-372.09 198.96,-365.1\"/>\n",
       "<text text-anchor=\"middle\" x=\"208.38\" y=\"-366.95\" font-family=\"Times,serif\" font-size=\"14.00\">1</text>\n",
       "</g>\n",
       "<!-- \\{z3\\}&#45;&gt;\\{z3\\} -->\n",
       "<g id=\"edge26\" class=\"edge\">\n",
       "<title>\\{z3\\}&#45;&gt;\\{z3\\}</title>\n",
       "<path fill=\"none\" stroke=\"black\" d=\"M187.2,-379.57C205.34,-381.7 223,-379.17 223,-372 223,-366.34 212,-363.58 198.45,-363.71\"/>\n",
       "<polygon fill=\"black\" stroke=\"black\" points=\"198.46,-360.2 188.71,-364.34 198.91,-367.19 198.46,-360.2\"/>\n",
       "<text text-anchor=\"middle\" x=\"226.38\" y=\"-366.95\" font-family=\"Times,serif\" font-size=\"14.00\">0</text>\n",
       "</g>\n",
       "<!-- \\{z0,z1,z3\\}&#45;&gt;\\{z0,z2,z3\\} -->\n",
       "<g id=\"edge34\" class=\"edge\">\n",
       "<title>\\{z0,z1,z3\\}&#45;&gt;\\{z0,z2,z3\\}</title>\n",
       "<path fill=\"none\" stroke=\"black\" d=\"M346.31,-124.68C343.35,-151.45 336.14,-204.53 322,-247.5 321.21,-249.9 320.29,-252.34 319.29,-254.77\"/>\n",
       "<polygon fill=\"black\" stroke=\"black\" points=\"316.18,-253.15 315.23,-263.7 322.55,-256.05 316.18,-253.15\"/>\n",
       "<text text-anchor=\"middle\" x=\"342.03\" y=\"-189.95\" font-family=\"Times,serif\" font-size=\"14.00\">0</text>\n",
       "</g>\n",
       "<!-- \\{z0,z1,z3\\}&#45;&gt;\\{z0,z1,z2,z3\\} -->\n",
       "<g id=\"edge18\" class=\"edge\">\n",
       "<title>\\{z0,z1,z3\\}&#45;&gt;\\{z0,z1,z2,z3\\}</title>\n",
       "<path fill=\"none\" stroke=\"#473c8b\" d=\"M330.42,-88.41C317.46,-75.82 299.62,-58.48 285.02,-44.29\"/>\n",
       "<polygon fill=\"#473c8b\" stroke=\"#473c8b\" points=\"287.55,-41.86 277.94,-37.41 282.67,-46.88 287.55,-41.86\"/>\n",
       "<text text-anchor=\"middle\" x=\"314.85\" y=\"-57.2\" font-family=\"Times,serif\" font-size=\"14.00\">1</text>\n",
       "</g>\n",
       "<!-- \\{z1,z3\\} -->\n",
       "<g id=\"node12\" class=\"node\">\n",
       "<title>\\{z1,z3\\}</title>\n",
       "<polygon fill=\"#cae1ff\" stroke=\"#cae1ff\" points=\"376.38,-567 317.62,-567 317.62,-531 376.38,-531 376.38,-567\"/>\n",
       "<text text-anchor=\"middle\" x=\"347\" y=\"-543.95\" font-family=\"Times,serif\" font-size=\"14.00\">{z1,z3}</text>\n",
       "</g>\n",
       "<!-- \\{z1,z3\\}&#45;&gt;\\{z2,z3\\} -->\n",
       "<g id=\"edge16\" class=\"edge\">\n",
       "<title>\\{z1,z3\\}&#45;&gt;\\{z2,z3\\}</title>\n",
       "<path fill=\"none\" stroke=\"#473c8b\" d=\"M317.41,-530.7C294.79,-517.49 263.4,-499.14 238.62,-484.66\"/>\n",
       "<polygon fill=\"#473c8b\" stroke=\"#473c8b\" points=\"240.5,-481.7 230.1,-479.68 236.97,-487.75 240.5,-481.7\"/>\n",
       "<text text-anchor=\"middle\" x=\"289.63\" y=\"-499.7\" font-family=\"Times,serif\" font-size=\"14.00\">1</text>\n",
       "</g>\n",
       "<!-- \\{z1,z3\\}&#45;&gt;\\{z2,z3\\} -->\n",
       "<g id=\"edge32\" class=\"edge\">\n",
       "<title>\\{z1,z3\\}&#45;&gt;\\{z2,z3\\}</title>\n",
       "<path fill=\"none\" stroke=\"black\" d=\"M333.74,-530.7C324.47,-519.63 311.25,-505.67 297,-496.5 279.51,-485.25 257.93,-477.04 239.48,-471.41\"/>\n",
       "<polygon fill=\"black\" stroke=\"black\" points=\"240.5,-468.06 229.92,-468.66 238.56,-474.79 240.5,-468.06\"/>\n",
       "<text text-anchor=\"middle\" x=\"320.22\" y=\"-499.7\" font-family=\"Times,serif\" font-size=\"14.00\">0</text>\n",
       "</g>\n",
       "<!-- \\{z1\\} -->\n",
       "<g id=\"node13\" class=\"node\">\n",
       "<title>\\{z1\\}</title>\n",
       "<polygon fill=\"#cae1ff\" stroke=\"#cae1ff\" points=\"54,-567 0,-567 0,-531 54,-531 54,-567\"/>\n",
       "<text text-anchor=\"middle\" x=\"27\" y=\"-543.95\" font-family=\"Times,serif\" font-size=\"14.00\">{z1}</text>\n",
       "</g>\n",
       "<!-- \\{z1\\}&#45;&gt;\\{z2\\} -->\n",
       "<g id=\"edge20\" class=\"edge\">\n",
       "<title>\\{z1\\}&#45;&gt;\\{z2\\}</title>\n",
       "<path fill=\"none\" stroke=\"#473c8b\" d=\"M28.53,-530.54C29.98,-520.19 32.8,-507.08 38.25,-496.5 39.85,-493.39 41.8,-490.35 43.94,-487.43\"/>\n",
       "<polygon fill=\"#473c8b\" stroke=\"#473c8b\" points=\"46.56,-489.75 50.24,-479.81 41.17,-485.29 46.56,-489.75\"/>\n",
       "<text text-anchor=\"middle\" x=\"41.62\" y=\"-499.7\" font-family=\"Times,serif\" font-size=\"14.00\">1</text>\n",
       "</g>\n",
       "<!-- \\{z1\\}&#45;&gt;\\{z2\\} -->\n",
       "<g id=\"edge36\" class=\"edge\">\n",
       "<title>\\{z1\\}&#45;&gt;\\{z2\\}</title>\n",
       "<path fill=\"none\" stroke=\"black\" d=\"M36.05,-530.59C38.94,-524.99 42.13,-518.75 45,-513 48.91,-505.18 53.09,-496.65 56.88,-488.82\"/>\n",
       "<polygon fill=\"black\" stroke=\"black\" points=\"59.91,-490.6 61.11,-480.08 53.6,-487.56 59.91,-490.6\"/>\n",
       "<text text-anchor=\"middle\" x=\"56.04\" y=\"-499.7\" font-family=\"Times,serif\" font-size=\"14.00\">0</text>\n",
       "</g>\n",
       "<!-- \\{z0,z3\\}&#45;&gt;\\{z0,z1,z3\\} -->\n",
       "<g id=\"edge21\" class=\"edge\">\n",
       "<title>\\{z0,z3\\}&#45;&gt;\\{z0,z1,z3\\}</title>\n",
       "<path fill=\"none\" stroke=\"#473c8b\" d=\"M438.21,-176.84C430.87,-166.1 420.45,-152.45 409,-142.5 404.16,-138.29 398.74,-134.34 393.18,-130.71\"/>\n",
       "<polygon fill=\"#473c8b\" stroke=\"#473c8b\" points=\"395.4,-127.97 385.05,-125.72 391.74,-133.93 395.4,-127.97\"/>\n",
       "<text text-anchor=\"middle\" x=\"427.28\" y=\"-145.7\" font-family=\"Times,serif\" font-size=\"14.00\">1</text>\n",
       "</g>\n",
       "<!-- \\{z0,z3\\}&#45;&gt;\\{z0,z3\\} -->\n",
       "<g id=\"edge37\" class=\"edge\">\n",
       "<title>\\{z0,z3\\}&#45;&gt;\\{z0,z3\\}</title>\n",
       "<path fill=\"none\" stroke=\"black\" d=\"M478.61,-203.3C488.48,-203.3 496.38,-200.53 496.38,-195 496.38,-191.89 493.88,-189.65 489.93,-188.29\"/>\n",
       "<polygon fill=\"black\" stroke=\"black\" points=\"490.5,-184.84 480.11,-186.91 489.53,-191.77 490.5,-184.84\"/>\n",
       "<text text-anchor=\"middle\" x=\"499.75\" y=\"-189.95\" font-family=\"Times,serif\" font-size=\"14.00\">0</text>\n",
       "</g>\n",
       "<!-- \\{z0,z1\\}&#45;&gt;\\{z0,z1,z2\\} -->\n",
       "<g id=\"edge23\" class=\"edge\">\n",
       "<title>\\{z0,z1\\}&#45;&gt;\\{z0,z1,z2\\}</title>\n",
       "<path fill=\"none\" stroke=\"#473c8b\" d=\"M398.6,-442.2C381.07,-429.24 356.85,-411.34 337.45,-396.99\"/>\n",
       "<polygon fill=\"#473c8b\" stroke=\"#473c8b\" points=\"339.69,-394.3 329.57,-391.17 335.53,-399.93 339.69,-394.3\"/>\n",
       "<text text-anchor=\"middle\" x=\"377.35\" y=\"-411.2\" font-family=\"Times,serif\" font-size=\"14.00\">1</text>\n",
       "</g>\n",
       "<!-- \\{z0,z1\\}&#45;&gt;\\{z0,z2\\} -->\n",
       "<g id=\"edge39\" class=\"edge\">\n",
       "<title>\\{z0,z1\\}&#45;&gt;\\{z0,z2\\}</title>\n",
       "<path fill=\"none\" stroke=\"black\" d=\"M422.6,-442.08C423.63,-411.94 425.76,-349.8 427.02,-313.2\"/>\n",
       "<polygon fill=\"black\" stroke=\"black\" points=\"430.51,-313.48 427.35,-303.36 423.51,-313.24 430.51,-313.48\"/>\n",
       "<text text-anchor=\"middle\" x=\"428.97\" y=\"-366.95\" font-family=\"Times,serif\" font-size=\"14.00\">0</text>\n",
       "</g>\n",
       "<!-- \\{\\} -->\n",
       "<g id=\"node16\" class=\"node\">\n",
       "<title>\\{\\}</title>\n",
       "<polygon fill=\"#cae1ff\" stroke=\"#cae1ff\" points=\"587,-567 533,-567 533,-531 587,-531 587,-567\"/>\n",
       "<text text-anchor=\"middle\" x=\"560\" y=\"-543.95\" font-family=\"Times,serif\" font-size=\"14.00\">{}</text>\n",
       "</g>\n",
       "<!-- \\{\\}&#45;&gt;\\{\\} -->\n",
       "<g id=\"edge25\" class=\"edge\">\n",
       "<title>\\{\\}&#45;&gt;\\{\\}</title>\n",
       "<path fill=\"none\" stroke=\"#473c8b\" d=\"M587.24,-553.14C597.02,-553.23 605,-551.85 605,-549 605,-547.4 602.48,-546.26 598.53,-545.58\"/>\n",
       "<polygon fill=\"#473c8b\" stroke=\"#473c8b\" points=\"598.96,-542.1 588.75,-544.95 598.51,-549.09 598.96,-542.1\"/>\n",
       "<text text-anchor=\"middle\" x=\"608.38\" y=\"-543.95\" font-family=\"Times,serif\" font-size=\"14.00\">1</text>\n",
       "</g>\n",
       "<!-- \\{\\}&#45;&gt;\\{\\} -->\n",
       "<g id=\"edge41\" class=\"edge\">\n",
       "<title>\\{\\}&#45;&gt;\\{\\}</title>\n",
       "<path fill=\"none\" stroke=\"black\" d=\"M587.2,-556.57C605.34,-558.7 623,-556.17 623,-549 623,-543.34 612,-540.58 598.45,-540.71\"/>\n",
       "<polygon fill=\"black\" stroke=\"black\" points=\"598.46,-537.2 588.71,-541.34 598.91,-544.19 598.46,-537.2\"/>\n",
       "<text text-anchor=\"middle\" x=\"626.38\" y=\"-543.95\" font-family=\"Times,serif\" font-size=\"14.00\">0</text>\n",
       "</g>\n",
       "</g>\n",
       "</svg>\n"
      ],
      "text/plain": [
       "<Dot visualization: expr_as_graph [(\"0\",{x,y| x∈ℙ(Z) & δs(x,[0]) = y},\n",
       "                    \"1\",{x,y| x∈ℙ(Z) & δs(x,[1]) = y},\n",
       "                    \"start\", {x,y|x=y & x={z0}},\n",
       "                    \"end\", {x,y|x=y & x∩F ≠ ∅})]>"
      ]
     },
     "execution_count": 15,
     "metadata": {},
     "output_type": "execute_result"
    }
   ],
   "source": [
    ":dot expr_as_graph (\"0\",{x,y| x∈ℙ(Z) & δs(x,[0]) = y},\n",
    "                    \"1\",{x,y| x∈ℙ(Z) & δs(x,[1]) = y},\n",
    "                    \"start\", {x,y|x=y & x={z0}},\n",
    "                    \"end\", {x,y|x=y & x∩F ≠ ∅})"
   ]
  }
 ],
 "metadata": {
  "kernelspec": {
   "display_name": "ProB 2",
   "language": "prob",
   "name": "prob2"
  },
  "language_info": {
   "codemirror_mode": "prob2_jupyter_repl",
   "file_extension": ".prob",
   "mimetype": "text/x-prob2-jupyter-repl",
   "name": "prob"
  }
 },
 "nbformat": 4,
 "nbformat_minor": 4
}
