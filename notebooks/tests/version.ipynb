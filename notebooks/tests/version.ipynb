{
 "cells": [
  {
   "cell_type": "code",
   "execution_count": 1,
   "metadata": {},
   "outputs": [
    {
     "data": {
      "text/markdown": [
       "```\n",
       ":version\n",
       "```\n",
       "\n",
       "Display version info about the ProB CLI and ProB 2."
      ],
      "text/plain": [
       "```\n",
       ":version\n",
       "```\n",
       "\n",
       "Display version info about the ProB CLI and ProB 2."
      ]
     },
     "execution_count": 1,
     "metadata": {},
     "output_type": "execute_result"
    }
   ],
   "source": [
    ":help :version"
   ]
  },
  {
   "cell_type": "code",
   "execution_count": 2,
   "metadata": {},
   "outputs": [
    {
     "data": {
      "text/plain": [
       "ProB CLI: 1.8.1-beta5 (c72b1a169223d7a37e2bc4313a57da091c8e23e7)\n",
       "ProB 2: 3.2.10-SNAPSHOT (01c9043ddb8ad69e4e9063a98f0ce132faf030a2)"
      ]
     },
     "execution_count": 2,
     "metadata": {},
     "output_type": "execute_result"
    }
   ],
   "source": [
    ":version"
   ]
  }
 ],
 "metadata": {
  "kernelspec": {
   "display_name": "ProB 2",
   "language": "prob",
   "name": "prob2"
  },
  "language_info": {
   "codemirror_mode": "prob2_jupyter_repl",
   "file_extension": ".prob",
   "mimetype": "text/x-prob2-jupyter-repl",
   "name": "prob"
  }
 },
 "nbformat": 4,
 "nbformat_minor": 2
}
