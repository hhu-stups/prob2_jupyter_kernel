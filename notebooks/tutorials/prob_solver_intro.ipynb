{
 "cells": [
  {
   "cell_type": "markdown",
   "metadata": {},
   "source": [
    "# Introduction to ProB's constraint solving capabilities\n",
    "We can use ProB to perform computations:\n",
    "\n",
    "## Expressions\n",
    "Expressions in B have a value. With ProB and with ProB's Jupyter backend, you can evaluate expresssions such as:"
   ]
  },
  {
   "cell_type": "code",
   "execution_count": 1,
   "metadata": {},
   "outputs": [
    {
     "data": {
      "text/markdown": [
       "$5070602400912917605986812821504$"
      ],
      "text/plain": [
       "5070602400912917605986812821504"
      ]
     },
     "execution_count": 1,
     "metadata": {},
     "output_type": "execute_result"
    }
   ],
   "source": [
    "2**102"
   ]
  },
  {
   "cell_type": "markdown",
   "metadata": {},
   "source": [
    "ProB supports *mathematical* integers without restriction (apart from memmory consumption):"
   ]
  },
  {
   "cell_type": "code",
   "execution_count": 2,
   "metadata": {},
   "outputs": [
    {
     "data": {
      "text/markdown": [
       "$1267650600228229401496703205376$"
      ],
      "text/plain": [
       "1267650600228229401496703205376"
      ]
     },
     "execution_count": 2,
     "metadata": {},
     "output_type": "execute_result"
    }
   ],
   "source": [
    "2**100"
   ]
  },
  {
   "cell_type": "markdown",
   "metadata": {},
   "source": [
    "## Predicates\n",
    "ProB can also be used to evaluate predicates (B distinguishes between expressions which have a value and predicates which are either true or false)."
   ]
  },
  {
   "cell_type": "code",
   "execution_count": 3,
   "metadata": {},
   "outputs": [
    {
     "data": {
      "text/markdown": [
       "$\\mathit{TRUE}$"
      ],
      "text/plain": [
       "TRUE"
      ]
     },
     "execution_count": 3,
     "metadata": {},
     "output_type": "execute_result"
    }
   ],
   "source": [
    "2+2>3"
   ]
  },
  {
   "cell_type": "markdown",
   "metadata": {},
   "source": [
    "Within predicates you can use **open** variables, which are implicitly existentially quantified.\n",
    "ProB will display the solution for the open variables, if possible."
   ]
  },
  {
   "cell_type": "code",
   "execution_count": 4,
   "metadata": {},
   "outputs": [
    {
     "data": {
      "text/markdown": [
       "$\\mathit{TRUE}$\n",
       "\n",
       "**Solution:**\n",
       "* $\\mathit{x} = -10$"
      ],
      "text/plain": [
       "TRUE\n",
       "\n",
       "Solution:\n",
       "\tx = −10"
      ]
     },
     "execution_count": 4,
     "metadata": {},
     "output_type": "execute_result"
    }
   ],
   "source": [
    "x*x=100"
   ]
  },
  {
   "cell_type": "markdown",
   "metadata": {},
   "source": [
    "We can find all solutions to a predicate by using the set comprehension notation.\n",
    "Note that by this we turn a predicate into an expression."
   ]
  },
  {
   "cell_type": "code",
   "execution_count": 5,
   "metadata": {},
   "outputs": [
    {
     "data": {
      "text/markdown": [
       "$\\{-10,10\\}$"
      ],
      "text/plain": [
       "{−10,10}"
      ]
     },
     "execution_count": 5,
     "metadata": {},
     "output_type": "execute_result"
    }
   ],
   "source": [
    "{x|x*x=100}"
   ]
  },
  {
   "cell_type": "markdown",
   "metadata": {},
   "source": [
    "## Send More Money Puzzle\n",
    "We now try and solve the SEND+MORE=MONEY arithmetic puzzle in B, involving 8 distinct digits:"
   ]
  },
  {
   "cell_type": "code",
   "execution_count": 6,
   "metadata": {},
   "outputs": [
    {
     "data": {
      "text/markdown": [
       "$\\mathit{TRUE}$\n",
       "\n",
       "**Solution:**\n",
       "* $\\mathit{R} = 8$\n",
       "* $\\mathit{S} = 9$\n",
       "* $\\mathit{D} = 7$\n",
       "* $\\mathit{E} = 5$\n",
       "* $\\mathit{Y} = 2$\n",
       "* $\\mathit{M} = 1$\n",
       "* $\\mathit{N} = 6$\n",
       "* $\\mathit{O} = 0$"
      ],
      "text/plain": [
       "TRUE\n",
       "\n",
       "Solution:\n",
       "\tR = 8\n",
       "\tS = 9\n",
       "\tD = 7\n",
       "\tE = 5\n",
       "\tY = 2\n",
       "\tM = 1\n",
       "\tN = 6\n",
       "\tO = 0"
      ]
     },
     "execution_count": 6,
     "metadata": {},
     "output_type": "execute_result"
    }
   ],
   "source": [
    "  {S,E,N,D, M,O,R, Y} <: 0..9 & S >0 & M >0 & \n",
    "   card({S,E,N,D, M,O,R, Y}) = 8 & \n",
    "   S*1000 + E*100 + N*10 + D +\n",
    "   M*1000 + O*100 + R*10 + E =\n",
    "  M*10000 + O*1000 + N*100 + E*10 + Y"
   ]
  },
  {
   "cell_type": "markdown",
   "metadata": {},
   "source": [
    "Observe how we have used the cardinality constraint to express that all digits are distinct.\n",
    "If we leave out this cardinality constraint, other solutions are possible:"
   ]
  },
  {
   "cell_type": "code",
   "execution_count": 7,
   "metadata": {},
   "outputs": [
    {
     "data": {
      "text/markdown": [
       "$\\mathit{TRUE}$\n",
       "\n",
       "**Solution:**\n",
       "* $\\mathit{R} = 0$\n",
       "* $\\mathit{S} = 9$\n",
       "* $\\mathit{D} = 0$\n",
       "* $\\mathit{E} = 0$\n",
       "* $\\mathit{Y} = 0$\n",
       "* $\\mathit{M} = 1$\n",
       "* $\\mathit{N} = 0$\n",
       "* $\\mathit{O} = 0$"
      ],
      "text/plain": [
       "TRUE\n",
       "\n",
       "Solution:\n",
       "\tR = 0\n",
       "\tS = 9\n",
       "\tD = 0\n",
       "\tE = 0\n",
       "\tY = 0\n",
       "\tM = 1\n",
       "\tN = 0\n",
       "\tO = 0"
      ]
     },
     "execution_count": 7,
     "metadata": {},
     "output_type": "execute_result"
    }
   ],
   "source": [
    "  {S,E,N,D, M,O,R, Y} <: 0..9 & S >0 & M >0 & \n",
    "  // card({S,E,N,D, M,O,R, Y}) = 8 & // commented out\n",
    "   S*1000 + E*100 + N*10 + D +\n",
    "   M*1000 + O*100 + R*10 + E =\n",
    "  M*10000 + O*1000 + N*100 + E*10 + Y"
   ]
  },
  {
   "cell_type": "markdown",
   "metadata": {},
   "source": [
    "We can find all solutions (to the unmodified puzzle) using a set comprehension and make sure that there is just a single soltuion:"
   ]
  },
  {
   "cell_type": "code",
   "execution_count": 8,
   "metadata": {},
   "outputs": [
    {
     "data": {
      "text/markdown": [
       "$\\{(9\\mapsto 5\\mapsto 6\\mapsto 7\\mapsto 1\\mapsto 0\\mapsto 8\\mapsto 2)\\}$"
      ],
      "text/plain": [
       "{(9↦5↦6↦7↦1↦0↦8↦2)}"
      ]
     },
     "execution_count": 8,
     "metadata": {},
     "output_type": "execute_result"
    }
   ],
   "source": [
    "  {S,E,N,D, M,O,R, Y |\n",
    "   {S,E,N,D, M,O,R, Y} <: 0..9 &  S >0 & M >0 & \n",
    "   card({S,E,N,D, M,O,R, Y}) = 8 & \n",
    "   S*1000 + E*100 + N*10 + D +\n",
    "   M*1000 + O*100 + R*10 + E =\n",
    "   M*10000 + O*1000 + N*100 + E*10 + Y }"
   ]
  },
  {
   "cell_type": "markdown",
   "metadata": {},
   "source": [
    "## KISS PASSION Puzzle\n",
    "A slightly more complicated puzzle (involving multiplication) is the KISS * KISS = PASSION problem."
   ]
  },
  {
   "cell_type": "code",
   "execution_count": 9,
   "metadata": {},
   "outputs": [
    {
     "data": {
      "text/markdown": [
       "$\\mathit{TRUE}$\n",
       "\n",
       "**Solution:**\n",
       "* $\\mathit{P} = 4$\n",
       "* $\\mathit{A} = 1$\n",
       "* $\\mathit{S} = 3$\n",
       "* $\\mathit{I} = 0$\n",
       "* $\\mathit{K} = 2$\n",
       "* $\\mathit{N} = 9$\n",
       "* $\\mathit{O} = 8$"
      ],
      "text/plain": [
       "TRUE\n",
       "\n",
       "Solution:\n",
       "\tP = 4\n",
       "\tA = 1\n",
       "\tS = 3\n",
       "\tI = 0\n",
       "\tK = 2\n",
       "\tN = 9\n",
       "\tO = 8"
      ]
     },
     "execution_count": 9,
     "metadata": {},
     "output_type": "execute_result"
    }
   ],
   "source": [
    "    {K,P} <: 1..9 &\n",
    "    {I,S,A,O,N} <: 0..9 &\n",
    "    (1000*K+100*I+10*S+S) * (1000*K+100*I+10*S+S) \n",
    "     =  1000000*P+100000*A+10000*S+1000*S+100*I+10*O+N &\n",
    "    card({K, I, S, P, A, O, N}) = 7"
   ]
  },
  {
   "cell_type": "markdown",
   "metadata": {},
   "source": [
    "## N-Queens Puzzle\n",
    "Here is how we can solve the famous N-Queens puzzle for n=8."
   ]
  },
  {
   "cell_type": "code",
   "execution_count": 10,
   "metadata": {},
   "outputs": [
    {
     "data": {
      "text/markdown": [
       "$\\mathit{TRUE}$\n",
       "\n",
       "**Solution:**\n",
       "* $\\mathit{queens} = \\{(1\\mapsto 1),(2\\mapsto 5),(3\\mapsto 8),(4\\mapsto 6),(5\\mapsto 3),(6\\mapsto 7),(7\\mapsto 2),(8\\mapsto 4)\\}$\n",
       "* $\\mathit{n} = 8$"
      ],
      "text/plain": [
       "TRUE\n",
       "\n",
       "Solution:\n",
       "\tqueens = {(1↦1),(2↦5),(3↦8),(4↦6),(5↦3),(6↦7),(7↦2),(8↦4)}\n",
       "\tn = 8"
      ]
     },
     "execution_count": 10,
     "metadata": {},
     "output_type": "execute_result"
    }
   ],
   "source": [
    " n = 8 &  \n",
    " queens : perm(1..n) /* for each column the row in which the queen is in */\n",
    " &\n",
    " !(q1,q2).(q1:1..n & q2:2..n & q2>q1\n",
    "    => queens(q1)+(q2-q1) /= queens(q2) & queens(q1)+(q1-q2) /= queens(q2))"
   ]
  },
  {
   "cell_type": "code",
   "execution_count": 11,
   "metadata": {},
   "outputs": [
    {
     "data": {
      "text/markdown": [
       "|prj1|prj2|\n",
       "|---|---|\n",
       "|1|1|\n",
       "|2|5|\n",
       "|3|8|\n",
       "|4|6|\n",
       "|5|3|\n",
       "|6|7|\n",
       "|7|2|\n",
       "|8|4|\n"
      ],
      "text/plain": [
       "prj1\tprj2\n",
       "1\t1\n",
       "2\t5\n",
       "3\t8\n",
       "4\t6\n",
       "5\t3\n",
       "6\t7\n",
       "7\t2\n",
       "8\t4\n"
      ]
     },
     "execution_count": 11,
     "metadata": {},
     "output_type": "execute_result"
    }
   ],
   "source": [
    ":table {(1↦1),(2↦5),(3↦8),(4↦6),(5↦3),(6↦7),(7↦2),(8↦4)}"
   ]
  },
  {
   "cell_type": "code",
   "execution_count": 12,
   "metadata": {},
   "outputs": [
    {
     "data": {
      "text/markdown": [
       "$\\mathit{TRUE}$\n",
       "\n",
       "**Solution:**\n",
       "* $\\mathit{queens} = \\{(1\\mapsto 1),(2\\mapsto 3),(3\\mapsto 5),(4\\mapsto 13),(5\\mapsto 11),(6\\mapsto 4),(7\\mapsto 15),(8\\mapsto 7),(9\\mapsto 16),(10\\mapsto 14),(11\\mapsto 2),(12\\mapsto 8),(13\\mapsto 6),(14\\mapsto 9),(15\\mapsto 12),(16\\mapsto 10)\\}$\n",
       "* $\\mathit{n} = 16$"
      ],
      "text/plain": [
       "TRUE\n",
       "\n",
       "Solution:\n",
       "\tqueens = {(1↦1),(2↦3),(3↦5),(4↦13),(5↦11),(6↦4),(7↦15),(8↦7),(9↦16),(10↦14),(11↦2),(12↦8),(13↦6),(14↦9),(15↦12),(16↦10)}\n",
       "\tn = 16"
      ]
     },
     "execution_count": 12,
     "metadata": {},
     "output_type": "execute_result"
    }
   ],
   "source": [
    "n = 16 &  \n",
    " queens : perm(1..n) /* for each column the row in which the queen is in */\n",
    " &\n",
    " !(q1,q2).(q1:1..n & q2:2..n & q2>q1\n",
    "    => queens(q1)+(q2-q1) /= queens(q2) & queens(q1)+(q1-q2) /= queens(q2))"
   ]
  },
  {
   "cell_type": "markdown",
   "metadata": {},
   "source": [
    "## Knights and Knave Puzzle\n",
    "Here is a puzzle from Smullyan involving an island with only knights and knaves.\n",
    "We know that:\n",
    " - Knights: always tell the truth\n",
    " - Knaves: always lie\n",
    "\n",
    "We are given the following information about three persons A,B,C on the island:\n",
    " 1. A says: “B is a knave or C is a knave”\n",
    " 2. B says “A is a knight”\n",
    "\n",
    "What are A, B and C?\n",
    "Note: we model A,B,C as boolean variables which are equal to TRUE if they are a knight and FALSE if they are a knave."
   ]
  },
  {
   "cell_type": "code",
   "execution_count": 13,
   "metadata": {},
   "outputs": [
    {
     "data": {
      "text/markdown": [
       "$\\mathit{TRUE}$\n",
       "\n",
       "**Solution:**\n",
       "* $\\mathit{A} = \\mathit{TRUE}$\n",
       "* $\\mathit{B} = \\mathit{TRUE}$\n",
       "* $\\mathit{C} = \\mathit{FALSE}$"
      ],
      "text/plain": [
       "TRUE\n",
       "\n",
       "Solution:\n",
       "\tA = TRUE\n",
       "\tB = TRUE\n",
       "\tC = FALSE"
      ]
     },
     "execution_count": 13,
     "metadata": {},
     "output_type": "execute_result"
    }
   ],
   "source": [
    " (A=TRUE <=> (B=FALSE or C=FALSE)) & // Sentence 1\n",
    " (B=TRUE <=> A=TRUE) // Sentence 2"
   ]
  },
  {
   "cell_type": "markdown",
   "metadata": {},
   "source": [
    "Note that in B there are no propositional variables: A,B and C are expressions with a value.\n",
    "To turn them into a predicate we need to use the comparison with TRUE."
   ]
  },
  {
   "cell_type": "code",
   "execution_count": 14,
   "metadata": {},
   "outputs": [
    {
     "data": {
      "text/markdown": [
       "$\\{(\\mathit{TRUE}\\mapsto\\mathit{TRUE}\\mapsto\\mathit{FALSE})\\}$"
      ],
      "text/plain": [
       "{(TRUE↦TRUE↦FALSE)}"
      ]
     },
     "execution_count": 14,
     "metadata": {},
     "output_type": "execute_result"
    }
   ],
   "source": [
    "/* this computes the set of all models: */ \n",
    "{A,B,C| (A=TRUE <=> (B=FALSE or C=FALSE)) &\n",
    "        (B=TRUE <=> A=TRUE) }"
   ]
  },
  {
   "cell_type": "code",
   "execution_count": 15,
   "metadata": {},
   "outputs": [
    {
     "data": {
      "text/markdown": [
       "|A|B|C|\n",
       "|---|---|---|\n",
       "|TRUE|TRUE|FALSE|\n"
      ],
      "text/plain": [
       "A\tB\tC\n",
       "TRUE\tTRUE\tFALSE\n"
      ]
     },
     "execution_count": 15,
     "metadata": {},
     "output_type": "execute_result"
    }
   ],
   "source": [
    ":table {A,B,C| (A=TRUE <=> (B=FALSE or C=FALSE)) &\n",
    "        (B=TRUE <=> A=TRUE) }"
   ]
  },
  {
   "cell_type": "markdown",
   "metadata": {},
   "source": [
    "## Sudoku\n"
   ]
  },
  {
   "cell_type": "code",
   "execution_count": 16,
   "metadata": {},
   "outputs": [
    {
     "data": {
      "text/markdown": [
       "$\\newcommand{\\upto}{\\mathbin{.\\mkern1mu.}}\\mathit{TRUE}$\n",
       "\n",
       "**Solution:**\n",
       "* $\\mathit{DOM} = (1 \\upto 9)$\n",
       "* $\\mathit{Board} = \\{(1\\mapsto\\{(1\\mapsto 7),(2\\mapsto 8),(3\\mapsto 1),(4\\mapsto 6),(5\\mapsto 3),(6\\mapsto 2),(7\\mapsto 9),(8\\mapsto 4),(9\\mapsto 5)\\}),(2\\mapsto\\{(1\\mapsto 9),(2\\mapsto 5),(3\\mapsto 2),(4\\mapsto 7),(5\\mapsto 1),(6\\mapsto 4),(7\\mapsto 6),(8\\mapsto 3),(9\\mapsto 8)\\}),(3\\mapsto\\{(1\\mapsto 4),(2\\mapsto 3),(3\\mapsto 6),(4\\mapsto 8),(5\\mapsto 9),(6\\mapsto 5),(7\\mapsto 7),(8\\mapsto 1),(9\\mapsto 2)\\}),(4\\mapsto\\{(1\\mapsto 2),(2\\mapsto 4),(3\\mapsto 9),(4\\mapsto 3),(5\\mapsto 7),(6\\mapsto 6),(7\\mapsto 8),(8\\mapsto 5),(9\\mapsto 1)\\}),(5\\mapsto\\{(1\\mapsto 6),(2\\mapsto 7),(3\\mapsto 3),(4\\mapsto 5),(5\\mapsto 8),(6\\mapsto 1),(7\\mapsto 2),(8\\mapsto 9),(9\\mapsto 4)\\}),(6\\mapsto\\{(1\\mapsto 5),(2\\mapsto 1),(3\\mapsto 8),(4\\mapsto 4),(5\\mapsto 2),(6\\mapsto 9),(7\\mapsto 3),(8\\mapsto 6),(9\\mapsto 7)\\}),(7\\mapsto\\{(1\\mapsto 1),(2\\mapsto 9),(3\\mapsto 4),(4\\mapsto 2),(5\\mapsto 6),(6\\mapsto 7),(7\\mapsto 5),(8\\mapsto 8),(9\\mapsto 3)\\}),(8\\mapsto\\{(1\\mapsto 8),(2\\mapsto 6),(3\\mapsto 7),(4\\mapsto 1),(5\\mapsto 5),(6\\mapsto 3),(7\\mapsto 4),(8\\mapsto 2),(9\\mapsto 9)\\}),(9\\mapsto\\{(1\\mapsto 3),(2\\mapsto 2),(3\\mapsto 5),(4\\mapsto 9),(5\\mapsto 4),(6\\mapsto 8),(7\\mapsto 1),(8\\mapsto 7),(9\\mapsto 6)\\})\\}$\n",
       "* $\\mathit{SUBSQ} = \\{\\{1,2,3\\},\\{4,5,6\\},\\{7,8,9\\}\\}$"
      ],
      "text/plain": [
       "TRUE\n",
       "\n",
       "Solution:\n",
       "\tDOM = (1 ‥ 9)\n",
       "\tBoard = {(1↦{(1↦7),(2↦8),(3↦1),(4↦6),(5↦3),(6↦2),(7↦9),(8↦4),(9↦5)}),(2↦{(1↦9),(2↦5),(3↦2),(4↦7),(5↦1),(6↦4),(7↦6),(8↦3),(9↦8)}),(3↦{(1↦4),(2↦3),(3↦6),(4↦8),(5↦9),(6↦5),(7↦7),(8↦1),(9↦2)}),(4↦{(1↦2),(2↦4),(3↦9),(4↦3),(5↦7),(6↦6),(7↦8),(8↦5),(9↦1)}),(5↦{(1↦6),(2↦7),(3↦3),(4↦5),(5↦8),(6↦1),(7↦2),(8↦9),(9↦4)}),(6↦{(1↦5),(2↦1),(3↦8),(4↦4),(5↦2),(6↦9),(7↦3),(8↦6),(9↦7)}),(7↦{(1↦1),(2↦9),(3↦4),(4↦2),(5↦6),(6↦7),(7↦5),(8↦8),(9↦3)}),(8↦{(1↦8),(2↦6),(3↦7),(4↦1),(5↦5),(6↦3),(7↦4),(8↦2),(9↦9)}),(9↦{(1↦3),(2↦2),(3↦5),(4↦9),(5↦4),(6↦8),(7↦1),(8↦7),(9↦6)})}\n",
       "\tSUBSQ = {{1,2,3},{4,5,6},{7,8,9}}"
      ]
     },
     "execution_count": 16,
     "metadata": {},
     "output_type": "execute_result"
    }
   ],
   "source": [
    " DOM = 1..9 & \n",
    " SUBSQ = { {1,2,3}, {4,5,6}, {7,8,9} } &\n",
    " Board : DOM --> (DOM --> DOM)   &\n",
    "  !y.(y:DOM => !(x1,x2).(x1:DOM & x1<x2 & x2:DOM  => (Board(x1)(y) /= Board(x2)(y) &\n",
    "                                                      Board(y)(x1) /= Board(y)(x2)))) &\n",
    "  !(s1,s2).(s1:SUBSQ & s2:SUBSQ =>\n",
    "             !(x1,y1,x2,y2).( (x1:s1 & x2:s1 & x1>=x2 & (x1=x2 => y1>y2) &\n",
    "                               y1:s2 & y2:s2 & (x1,y1) /= (x2,y2))\n",
    "                              =>\n",
    "                              Board(x1)(y1) /= Board(x2)(y2)\n",
    "                            ))\n",
    "                            \n",
    "   & /* PUZZLE CONSTRAINTS : */\n",
    "   \n",
    "   Board(1)(1)=7 & Board(1)(2)=8  & Board(1)(3)=1 & Board(1)(4)=6 & Board(1)(6)=2 \n",
    "                 & Board(1)(7)=9 & Board(1)(9) = 5 &\n",
    "   Board(2)(1)=9 & Board(2)(3)=2 & Board(2)(4)=7 & Board(2)(5)=1 &\n",
    "   Board(3)(3)=6 & Board(3)(4)=8 & Board(3)(8)=1 & Board(3)(9)=2 &\n",
    "   \n",
    "   Board(4)(1)=2 & Board(4)(4)=3 & Board(4)(7)=8 & Board(4)(8)=5 & Board(4)(9)=1 &\n",
    "   Board(5)(2)=7 & Board(5)(3)=3 & Board(5)(4)=5 & Board(5)(9)=4 &\n",
    "   Board(6)(3)=8 & Board(6)(6)=9 & Board(6)(7)=3 & Board(6)(8)=6 &\n",
    "   \n",
    "   Board(7)(1)=1 & Board(7)(2)=9 & Board(7)(6)=7 & Board(7)(8)=8 &\n",
    "   Board(8)(1)=8 & Board(8)(2)=6 & Board(8)(3)=7 & Board(8)(6)=3 & Board(8)(7)=4 & Board(8)(9)=9 &\n",
    "   Board(9)(3)=5 & Board(9)(7)=1"
   ]
  },
  {
   "cell_type": "markdown",
   "metadata": {},
   "source": [
    "## Subset Sum Puzzle\n",
    " From Katta G. Murty: \"Optimization Models for Decision Making\", page 340\n",
    "  http://ioe.engin.umich.edu/people/fac/books/murty/opti_model/junior-7.pdf\n",
    "  \n",
    "Example 7.8.1\n",
    "``A bank van had several bags of coins, each containing either\n",
    "  16, 17, 23, 24, 39, or 40 coins. While the van was parked on the\n",
    "  street, thieves stole some bags. A total of 100 coins were lost.\n",
    "  It is required to find how many bags were stolen.''"
   ]
  },
  {
   "cell_type": "code",
   "execution_count": 17,
   "metadata": {},
   "outputs": [
    {
     "data": {
      "text/markdown": [
       "$\\mathit{TRUE}$\n",
       "\n",
       "**Solution:**\n",
       "* $\\mathit{stolen} = \\{(16\\mapsto 2),(17\\mapsto 4),(23\\mapsto 0),(24\\mapsto 0),(39\\mapsto 0),(40\\mapsto 0)\\}$\n",
       "* $\\mathit{coins} = \\{16,17,23,24,39,40\\}$"
      ],
      "text/plain": [
       "TRUE\n",
       "\n",
       "Solution:\n",
       "\tstolen = {(16↦2),(17↦4),(23↦0),(24↦0),(39↦0),(40↦0)}\n",
       "\tcoins = {16,17,23,24,39,40}"
      ]
     },
     "execution_count": 17,
     "metadata": {},
     "output_type": "execute_result"
    }
   ],
   "source": [
    "coins = {16,17,23,24,39,40} &  /* number of coins in each bag */\n",
    " stolen : coins --> NATURAL & /* number of bags of each type stolen */\n",
    " SIGMA(x).(x:coins|stolen(x)*x)=100"
   ]
  },
  {
   "cell_type": "markdown",
   "metadata": {},
   "source": [
    "## Who killed Agatha Puzzle"
   ]
  },
  {
   "cell_type": "code",
   "execution_count": 18,
   "metadata": {},
   "outputs": [
    {
     "data": {
      "text/markdown": [
       "$\\mathit{TRUE}$\n",
       "\n",
       "**Solution:**\n",
       "* $\\mathit{Persons} = \\{\\text{\"Agatha\"},\\text{\"Charles\"},\\text{\"butler\"}\\}$\n",
       "* $\\mathit{richer} = \\{(\\text{\"Agatha\"}\\mapsto\\text{\"Charles\"}),(\\text{\"butler\"}\\mapsto\\text{\"Agatha\"}),(\\text{\"butler\"}\\mapsto\\text{\"Charles\"})\\}$\n",
       "* $\\mathit{victim} = \\text{\"Agatha\"}$\n",
       "* $\\mathit{killer} = \\text{\"Agatha\"}$\n",
       "* $\\mathit{hates} = \\{(\\text{\"Agatha\"}\\mapsto\\text{\"Agatha\"}),(\\text{\"Agatha\"}\\mapsto\\text{\"Charles\"}),(\\text{\"Charles\"}\\mapsto\\text{\"butler\"}),(\\text{\"butler\"}\\mapsto\\text{\"Agatha\"}),(\\text{\"butler\"}\\mapsto\\text{\"Charles\"})\\}$"
      ],
      "text/plain": [
       "TRUE\n",
       "\n",
       "Solution:\n",
       "\tPersons = {\"Agatha\",\"Charles\",\"butler\"}\n",
       "\tricher = {(\"Agatha\"↦\"Charles\"),(\"butler\"↦\"Agatha\"),(\"butler\"↦\"Charles\")}\n",
       "\tvictim = \"Agatha\"\n",
       "\tkiller = \"Agatha\"\n",
       "\thates = {(\"Agatha\"↦\"Agatha\"),(\"Agatha\"↦\"Charles\"),(\"Charles\"↦\"butler\"),(\"butler\"↦\"Agatha\"),(\"butler\"↦\"Charles\")}"
      ]
     },
     "execution_count": 18,
     "metadata": {},
     "output_type": "execute_result"
    }
   ],
   "source": [
    "Persons = { \"Agatha\", \"butler\", \"Charles\"} /* it is more efficient in B to use enumerated sets; but in the eval window we cannot define them */\n",
    " &\n",
    " hates : Persons <-> Persons &\n",
    " richer : Persons <-> Persons &  /* richer /\\ richer~ = {} & */\n",
    " richer /\\ id(Persons) = {} &\n",
    " !(x,y,z).(x|->y:richer & y|->z:richer => x|->z:richer) &\n",
    " !(x,y).(x:Persons & y:Persons & x/=y => (x|->y:richer <=> y|->x /: richer)) &\n",
    " \n",
    " killer : Persons &   victim : Persons &\n",
    " killer|->victim : hates & /* A killer always hates his victim */\n",
    " killer|->victim /: richer & /* and is no richer than his victim */\n",
    " hates[{ \"Agatha\"}] /\\ hates[{\"Charles\"}] = {} & /* Charles hates noone that Agatha hates. */\n",
    " hates[{ \"Agatha\"}] = Persons - {\"butler\"} & /* Agatha hates everybody except the butler. */\n",
    " !x.( x: Persons & x|-> \"Agatha\" /: richer => \"butler\"|->x : hates) & /* The butler hates everyone not richer than Aunt Agatha */\n",
    " hates[{ \"Agatha\"}] <: hates[{\"butler\"}] & /* The butler hates everyone whom Agatha hates.  */\n",
    " !x.(x:Persons => hates[{x}] /= Persons) /* Noone hates everyone. */ &\n",
    " victim =  \"Agatha\""
   ]
  },
  {
   "cell_type": "markdown",
   "metadata": {},
   "source": [
    "## Golomb Ruler\n",
    "A Golomb ruler with $n$ marks of length $len$ has the property that all distances between distinct marks are different\n",
    "The following expresses the problem in B:"
   ]
  },
  {
   "cell_type": "code",
   "execution_count": 19,
   "metadata": {},
   "outputs": [
    {
     "data": {
      "text/markdown": [
       "$\\mathit{TRUE}$\n",
       "\n",
       "**Solution:**\n",
       "* $\\mathit{a} = \\{(1\\mapsto 0),(2\\mapsto 2),(3\\mapsto 6),(4\\mapsto 9),(5\\mapsto 14),(6\\mapsto 24),(7\\mapsto 25)\\}$\n",
       "* $\\mathit{len} = 25$\n",
       "* $\\mathit{n} = 7$"
      ],
      "text/plain": [
       "TRUE\n",
       "\n",
       "Solution:\n",
       "\ta = {(1↦0),(2↦2),(3↦6),(4↦9),(5↦14),(6↦24),(7↦25)}\n",
       "\tlen = 25\n",
       "\tn = 7"
      ]
     },
     "execution_count": 19,
     "metadata": {},
     "output_type": "execute_result"
    }
   ],
   "source": [
    "n=7 & len=25 &\n",
    "a:1..n --> 0..len & !i.(i:2..n => a(i-1) < a(i)) & \n",
    "!(i1,j1,i2,j2).(( i1>0 & i2>0 & j1<=n & j2 <= n & i1<j1 & i2<j2 & (i1,j1) /= (i2,j2)) => (a(j1)-a(i1) /= a(j2)-a(i2)))"
   ]
  },
  {
   "cell_type": "markdown",
   "metadata": {},
   "source": [
    "## Graph Isomorphism\n",
    "We can check two graphs $g1$ and $g2$ for isomporhism by trying to find a solution for the following predicate:"
   ]
  },
  {
   "cell_type": "code",
   "execution_count": 20,
   "metadata": {},
   "outputs": [
    {
     "data": {
      "text/markdown": [
       "$\\mathit{TRUE}$\n",
       "\n",
       "**Solution:**\n",
       "* $\\mathit{n1} = \\text{\"a\"}$\n",
       "* $\\mathit{iso} = \\{(1\\mapsto\\text{\"c\"}),(2\\mapsto\\text{\"a\"}),(3\\mapsto\\text{\"b\"})\\}$\n",
       "* $\\mathit{n2} = \\text{\"b\"}$\n",
       "* $\\mathit{n3} = \\text{\"c\"}$\n",
       "* $\\mathit{V} = \\{1,2,3\\}$\n",
       "* $\\mathit{g1} = \\{(1\\mapsto 2),(1\\mapsto 3),(2\\mapsto 3)\\}$\n",
       "* $\\mathit{g2} = \\{(\\text{\"a\"}\\mapsto\\text{\"b\"}),(\\text{\"c\"}\\mapsto\\text{\"a\"}),(\\text{\"c\"}\\mapsto\\text{\"b\"})\\}$\n",
       "* $\\mathit{v1} = 1$\n",
       "* $\\mathit{v2} = 2$\n",
       "* $\\mathit{v3} = 3$\n",
       "* $\\mathit{N} = \\{\\text{\"a\"},\\text{\"b\"},\\text{\"c\"}\\}$"
      ],
      "text/plain": [
       "TRUE\n",
       "\n",
       "Solution:\n",
       "\tn1 = \"a\"\n",
       "\tiso = {(1↦\"c\"),(2↦\"a\"),(3↦\"b\")}\n",
       "\tn2 = \"b\"\n",
       "\tn3 = \"c\"\n",
       "\tV = {1,2,3}\n",
       "\tg1 = {(1↦2),(1↦3),(2↦3)}\n",
       "\tg2 = {(\"a\"↦\"b\"),(\"c\"↦\"a\"),(\"c\"↦\"b\")}\n",
       "\tv1 = 1\n",
       "\tv2 = 2\n",
       "\tv3 = 3\n",
       "\tN = {\"a\",\"b\",\"c\"}"
      ]
     },
     "execution_count": 20,
     "metadata": {},
     "output_type": "execute_result"
    }
   ],
   "source": [
    "LET V,N,v1,v2,v3,n1,n2,n3 BE\n",
    "  v1=1 & v2=2 & v3=3 & n1=\"a\" & n2=\"b\" & n3=\"c\" &\n",
    "  V = {v1,v2,v3} & N = {n1,n2,n3}\n",
    "IN\n",
    "g1 = {v1 |->v2, v1|->v3, v2|->v3} &\n",
    "g2 = {n3 |->n2, n3|->n1, n1|->n2} &\n",
    "iso: V >->> N & !v.(v:V => iso[g1[{v}]] = g2[iso[{v}]])\n",
    "END"
   ]
  },
  {
   "cell_type": "code",
   "execution_count": 21,
   "metadata": {},
   "outputs": [
    {
     "data": {
      "text/markdown": [
       "$\\text{\"abc\"}$"
      ],
      "text/plain": [
       "\"abc\""
      ]
     },
     "execution_count": 21,
     "metadata": {},
     "output_type": "execute_result"
    }
   ],
   "source": [
    "\"abc\""
   ]
  }
 ],
 "metadata": {
  "kernelspec": {
   "display_name": "ProB 2",
   "language": "prob",
   "name": "prob2"
  },
  "language_info": {
   "codemirror_mode": "prob2_jupyter_repl",
   "file_extension": ".prob",
   "mimetype": "text/x-prob2-jupyter-repl",
   "name": "prob"
  }
 },
 "nbformat": 4,
 "nbformat_minor": 2
}
