{
 "cells": [
  {
   "cell_type": "markdown",
   "metadata": {},
   "source": [
    "# Functional Programming in B #"
   ]
  },
  {
   "cell_type": "markdown",
   "metadata": {},
   "source": [
    "Some functions are automatically detected as infinite by ProB, are kept symbolic but can be applied in several ways:\n",
    "For example, you can apply the function and compute the relational image:\n"
   ]
  },
  {
   "cell_type": "code",
   "execution_count": 1,
   "metadata": {},
   "outputs": [
    {
     "data": {
      "text/markdown": [
       "$\\def\\qdot{\\mathord{\\mkern1mu\\cdot\\mkern1mu}}\\def\\intg{\\mathord{\\mathbb Z}}\\mathit{TRUE}$\n",
       "\n",
       "**Solution:**\n",
       "* $\\mathit{r2} = \\{1,4,9,16,25,36,49,64,81,100\\}$\n",
       "* $\\mathit{f} = /*@\\mathit{symbolic}*/ \\lambda\\mathit{x}\\qdot(\\mathit{x} \\in \\intg\\mid\\mathit{x} * \\mathit{x})$\n",
       "* $\\mathit{r1} = 10000000000$"
      ],
      "text/plain": [
       "TRUE\n",
       "\n",
       "Solution:\n",
       "\tr2 = {1,4,9,16,25,36,49,64,81,100}\n",
       "\tf = /*@symbolic*/ λx·(x ∈ ℤ∣x ∗ x)\n",
       "\tr1 = 10000000000"
      ]
     },
     "execution_count": 1,
     "metadata": {},
     "output_type": "execute_result"
    }
   ],
   "source": [
    "f = %x.(x:INTEGER|x*x) &\n",
    "r1 = f(100000) &\n",
    "r2 = f[1..10] "
   ]
  },
  {
   "cell_type": "markdown",
   "metadata": {},
   "source": [
    "You can map the function over a sequence using the relational composition:"
   ]
  },
  {
   "cell_type": "code",
   "execution_count": 2,
   "metadata": {},
   "outputs": [
    {
     "data": {
      "text/markdown": [
       "$\\def\\qdot{\\mathord{\\mkern1mu\\cdot\\mkern1mu}}\\def\\intg{\\mathord{\\mathbb Z}}\\mathit{TRUE}$\n",
       "\n",
       "**Solution:**\n",
       "* $\\mathit{r3} = \\{(1\\mapsto 4),(2\\mapsto 9),(3\\mapsto 25),(4\\mapsto 49),(5\\mapsto 121)\\}$\n",
       "* $\\mathit{f} = /*@\\mathit{symbolic}*/ \\lambda\\mathit{x}\\qdot(\\mathit{x} \\in \\intg\\mid\\mathit{x} * \\mathit{x})$"
      ],
      "text/plain": [
       "TRUE\n",
       "\n",
       "Solution:\n",
       "\tr3 = {(1↦4),(2↦9),(3↦25),(4↦49),(5↦121)}\n",
       "\tf = /*@symbolic*/ λx·(x ∈ ℤ∣x ∗ x)"
      ]
     },
     "execution_count": 2,
     "metadata": {},
     "output_type": "execute_result"
    }
   ],
   "source": [
    "f = %x.(x:INTEGER|x*x) &\n",
    "r3 = ([2,3,5,7,11] ; f)"
   ]
  },
  {
   "cell_type": "markdown",
   "metadata": {},
   "source": [
    "You can iterate the function using the iterate construct:"
   ]
  },
  {
   "cell_type": "code",
   "execution_count": 3,
   "metadata": {},
   "outputs": [
    {
     "data": {
      "text/markdown": [
       "$\\def\\qdot{\\mathord{\\mkern1mu\\cdot\\mkern1mu}}\\def\\intg{\\mathord{\\mathbb Z}}\\mathit{TRUE}$\n",
       "\n",
       "**Solution:**\n",
       "* $\\mathit{r4} = 256$\n",
       "* $\\mathit{f} = /*@\\mathit{symbolic}*/ \\lambda\\mathit{x}\\qdot(\\mathit{x} \\in \\intg\\mid\\mathit{x} * \\mathit{x})$"
      ],
      "text/plain": [
       "TRUE\n",
       "\n",
       "Solution:\n",
       "\tr4 = 256\n",
       "\tf = /*@symbolic*/ λx·(x ∈ ℤ∣x ∗ x)"
      ]
     },
     "execution_count": 3,
     "metadata": {},
     "output_type": "execute_result"
    }
   ],
   "source": [
    "f = %x.(x:INTEGER|x*x) &\n",
    "r4 = iterate(f,3)(2)"
   ]
  },
  {
   "cell_type": "markdown",
   "metadata": {},
   "source": [
    "You can even use the function for constraint solving:"
   ]
  },
  {
   "cell_type": "code",
   "execution_count": 4,
   "metadata": {},
   "outputs": [
    {
     "data": {
      "text/markdown": [
       "$\\def\\qdot{\\mathord{\\mkern1mu\\cdot\\mkern1mu}}\\def\\intg{\\mathord{\\mathbb Z}}\\mathit{TRUE}$\n",
       "\n",
       "**Solution:**\n",
       "* $\\mathit{sqrt} = 10$\n",
       "* $\\mathit{f} = /*@\\mathit{symbolic}*/ \\lambda\\mathit{x}\\qdot(\\mathit{x} \\in \\intg\\mid\\mathit{x} * \\mathit{x})$"
      ],
      "text/plain": [
       "TRUE\n",
       "\n",
       "Solution:\n",
       "\tsqrt = 10\n",
       "\tf = /*@symbolic*/ λx·(x ∈ ℤ∣x ∗ x)"
      ]
     },
     "execution_count": 4,
     "metadata": {},
     "output_type": "execute_result"
    }
   ],
   "source": [
    "f = %x.(x:INTEGER|x*x) &\n",
    "f(sqrt) = 100"
   ]
  },
  {
   "cell_type": "markdown",
   "metadata": {},
   "source": [
    "Let us use a more complicated function which is not obviously infinite:"
   ]
  },
  {
   "cell_type": "code",
   "execution_count": 5,
   "metadata": {},
   "outputs": [
    {
     "data": {
      "text/markdown": [
       "$\\def\\nat{\\mathord{\\mathbb N}}\\mathit{TRUE}$\n",
       "\n",
       "**Solution:**\n",
       "* $\\mathit{f} = /*@\\mathit{symbolic}*/ \\{\\mathit{x},\\mathit{y}\\mid\\mathit{x} \\in \\nat \\land \\mathit{y} ˄ 2 \\geq \\mathit{x} \\land (\\mathit{y} - 1) ˄ 2 < \\mathit{x}\\}$\n",
       "* $\\mathit{r1} = 317$"
      ],
      "text/plain": [
       "TRUE\n",
       "\n",
       "Solution:\n",
       "\tf = /*@symbolic*/ {x,y∣x ∈ ℕ ∧ y ˄ 2 ≥ x ∧ (y − 1) ˄ 2 < x}\n",
       "\tr1 = 317"
      ]
     },
     "execution_count": 5,
     "metadata": {},
     "output_type": "execute_result"
    }
   ],
   "source": [
    "f = {x,y|x:NATURAL & y**2 >= x & (y-1)**2 <x } & // integer square root function\n",
    "r1 = f(100000) "
   ]
  },
  {
   "cell_type": "markdown",
   "metadata": {},
   "source": [
    "You can use the symbolic pragma so that ProB does not try to expand the function:"
   ]
  },
  {
   "cell_type": "code",
   "execution_count": 6,
   "metadata": {},
   "outputs": [
    {
     "data": {
      "text/markdown": [
       "$\\def\\nat{\\mathord{\\mathbb N}}\\mathit{TRUE}$\n",
       "\n",
       "**Solution:**\n",
       "* $\\mathit{r2} = \\{1,2,3,4\\}$\n",
       "* $\\mathit{r3} = \\{(1\\mapsto 2),(2\\mapsto 2),(3\\mapsto 3),(4\\mapsto 3),(5\\mapsto 4)\\}$\n",
       "* $\\mathit{r4} = 2$\n",
       "* $\\mathit{sqr} = 9802$\n",
       "* $\\mathit{f} = /*@\\mathit{symbolic}*/ \\{\\mathit{x},\\mathit{y}\\mid\\mathit{x} \\in \\nat \\land \\mathit{y} ˄ 2 \\geq \\mathit{x} \\land (\\mathit{y} - 1) ˄ 2 < \\mathit{x}\\}$\n",
       "* $\\mathit{r1} = 317$"
      ],
      "text/plain": [
       "TRUE\n",
       "\n",
       "Solution:\n",
       "\tr2 = {1,2,3,4}\n",
       "\tr3 = {(1↦2),(2↦2),(3↦3),(4↦3),(5↦4)}\n",
       "\tr4 = 2\n",
       "\tsqr = 9802\n",
       "\tf = /*@symbolic*/ {x,y∣x ∈ ℕ ∧ y ˄ 2 ≥ x ∧ (y − 1) ˄ 2 < x}\n",
       "\tr1 = 317"
      ]
     },
     "execution_count": 6,
     "metadata": {},
     "output_type": "execute_result"
    }
   ],
   "source": [
    "f = /*@symbolic*/ {x,y|x:NATURAL & y**2 >= x & (y-1)**2 <x } & // integer square root function\n",
    "r1 = f(100000) &\n",
    "r2 = f[1..10] &\n",
    "r3 = ([2,3,5,7,11] ; f) &\n",
    "r4 = iterate(f,3)(2) &\n",
    "f(sqr) = 100"
   ]
  },
  {
   "cell_type": "markdown",
   "metadata": {},
   "source": [
    "We can also use the transitive closure of the function and apply it:"
   ]
  },
  {
   "cell_type": "code",
   "execution_count": 7,
   "metadata": {},
   "outputs": [
    {
     "data": {
      "text/markdown": [
       "$\\def\\nat{\\mathord{\\mathbb N}}\\mathit{TRUE}$\n",
       "\n",
       "**Solution:**\n",
       "* $\\mathit{r5} = \\{2,4,10,100\\}$\n",
       "* $\\mathit{f} = /*@\\mathit{symbolic}*/ \\{\\mathit{x},\\mathit{y}\\mid\\mathit{x} \\in \\nat \\land \\mathit{y} ˄ 2 \\geq \\mathit{x} \\land (\\mathit{y} - 1) ˄ 2 < \\mathit{x}\\}$"
      ],
      "text/plain": [
       "TRUE\n",
       "\n",
       "Solution:\n",
       "\tr5 = {2,4,10,100}\n",
       "\tf = /*@symbolic*/ {x,y∣x ∈ ℕ ∧ y ˄ 2 ≥ x ∧ (y − 1) ˄ 2 < x}"
      ]
     },
     "execution_count": 7,
     "metadata": {},
     "output_type": "execute_result"
    }
   ],
   "source": [
    "f = /*@symbolic*/ {x,y|x:NATURAL & y**2 >= x & (y-1)**2 <x } & // integer square root function\n",
    "r5 = closure1(f)[{10000}]"
   ]
  },
  {
   "cell_type": "markdown",
   "metadata": {},
   "source": [
    "We can visualize the result of the function for some values:"
   ]
  },
  {
   "cell_type": "code",
   "execution_count": 8,
   "metadata": {},
   "outputs": [
    {
     "data": {
      "text/markdown": [
       "|x|isqrt|\n",
       "|---|---|\n",
       "|1|1|\n",
       "|2|2|\n",
       "|3|2|\n",
       "|4|2|\n",
       "|5|3|\n",
       "|6|3|\n",
       "|7|3|\n",
       "|8|3|\n",
       "|9|3|\n",
       "|10|4|\n",
       "|11|4|\n",
       "|12|4|\n",
       "|13|4|\n",
       "|14|4|\n",
       "|15|4|\n",
       "|16|4|\n"
      ],
      "text/plain": [
       "x\tisqrt\n",
       "1\t1\n",
       "2\t2\n",
       "3\t2\n",
       "4\t2\n",
       "5\t3\n",
       "6\t3\n",
       "7\t3\n",
       "8\t3\n",
       "9\t3\n",
       "10\t4\n",
       "11\t4\n",
       "12\t4\n",
       "13\t4\n",
       "14\t4\n",
       "15\t4\n",
       "16\t4\n"
      ]
     },
     "execution_count": 8,
     "metadata": {},
     "output_type": "execute_result"
    }
   ],
   "source": [
    ":table {x,isqrt|x:1..16 & isqrt**2 >= x & (isqrt-1)**2 <x }"
   ]
  },
  {
   "cell_type": "code",
   "execution_count": 9,
   "metadata": {},
   "outputs": [
    {
     "data": {
      "text/latex": [
       "$\\mathit{f} = /*@symbolic*/ \\lambda \\mathit{x}.(\\mathit{x} \\in  \\mathbb Z \\mid \\mathit{x} * \\mathit{x}) \\wedge  \\mathit{r1} = \\mathit{f}(100000) \\wedge  \\mathit{r2} = \\mathit{f}[1 .. 10]$"
      ],
      "text/plain": [
       "f = /*@symbolic*/ λx.(x ∈ ℤ|x * x) ∧ r1 = f(100000) ∧ r2 = f[1 ‥ 10]"
      ]
     },
     "execution_count": 9,
     "metadata": {},
     "output_type": "execute_result"
    }
   ],
   "source": [
    ":prettyprint f = %x.(x:INTEGER|x*x) &\n",
    "r1 = f(100000) &\n",
    "r2 = f[1..10] "
   ]
  }
 ],
 "metadata": {
  "kernelspec": {
   "display_name": "ProB 2",
   "language": "prob",
   "name": "prob2"
  },
  "language_info": {
   "codemirror_mode": "prob2_jupyter_repl",
   "file_extension": ".prob",
   "mimetype": "text/x-prob2-jupyter-repl",
   "name": "prob"
  }
 },
 "nbformat": 4,
 "nbformat_minor": 2
}
