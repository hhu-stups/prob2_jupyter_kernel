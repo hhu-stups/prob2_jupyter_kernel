{
 "cells": [
  {
   "cell_type": "markdown",
   "metadata": {},
   "source": [
    "# Introduction to ProB's constraint solving capabilities\n",
    "We can use ProB to perform computations:\n",
    "\n",
    "## Expressions\n",
    "Expressions in B have a value. With ProB and with ProB's Jupyter backend, you can evaluate expresssions such as:"
   ]
  },
  {
   "cell_type": "code",
   "execution_count": 1,
   "metadata": {},
   "outputs": [
    {
     "data": {
      "text/plain": [
       "1024"
      ]
     },
     "execution_count": 1,
     "metadata": {},
     "output_type": "execute_result"
    }
   ],
   "source": [
    "2**10"
   ]
  },
  {
   "cell_type": "markdown",
   "metadata": {},
   "source": [
    "ProB supports *mathematical* integers without restriction (apart from memmory consumption):"
   ]
  },
  {
   "cell_type": "code",
   "execution_count": 2,
   "metadata": {},
   "outputs": [
    {
     "data": {
      "text/plain": [
       "1267650600228229401496703205376"
      ]
     },
     "execution_count": 2,
     "metadata": {},
     "output_type": "execute_result"
    }
   ],
   "source": [
    "2**100"
   ]
  },
  {
   "cell_type": "markdown",
   "metadata": {},
   "source": [
    "## Predicates\n",
    "ProB can also be used to evaluate predicates (B distinguishes between expressions which have a value and predicates which are either true or false)."
   ]
  },
  {
   "cell_type": "code",
   "execution_count": 3,
   "metadata": {},
   "outputs": [
    {
     "data": {
      "text/plain": [
       "TRUE"
      ]
     },
     "execution_count": 3,
     "metadata": {},
     "output_type": "execute_result"
    }
   ],
   "source": [
    "2+2>3"
   ]
  },
  {
   "cell_type": "markdown",
   "metadata": {},
   "source": [
    "Within predicates you can use **open** variables, which are implicitly existentially quantified.\n",
    "ProB will display the solution for the open variables, if possible."
   ]
  },
  {
   "cell_type": "code",
   "execution_count": 4,
   "metadata": {},
   "outputs": [
    {
     "data": {
      "text/plain": [
       "TRUE\n",
       "\n",
       "Solution:\n",
       "\tx = −10"
      ]
     },
     "execution_count": 4,
     "metadata": {},
     "output_type": "execute_result"
    }
   ],
   "source": [
    "x*x=100"
   ]
  },
  {
   "cell_type": "markdown",
   "metadata": {},
   "source": [
    "We can find all solutions to a predicate by using the set comprehension notation.\n",
    "Note that by this we turn a predicate into an expression."
   ]
  },
  {
   "cell_type": "code",
   "execution_count": 5,
   "metadata": {},
   "outputs": [
    {
     "data": {
      "text/plain": [
       "{−10,10}"
      ]
     },
     "execution_count": 5,
     "metadata": {},
     "output_type": "execute_result"
    }
   ],
   "source": [
    "{x|x*x=100}"
   ]
  },
  {
   "cell_type": "markdown",
   "metadata": {},
   "source": [
    "## Send More Money Puzzle\n",
    "We now try and solve the SEND+MORE=MONEY arithmetic puzzle in B, involving 8 distinct digits:"
   ]
  },
  {
   "cell_type": "code",
   "execution_count": 6,
   "metadata": {},
   "outputs": [
    {
     "data": {
      "text/plain": [
       "TRUE\n",
       "\n",
       "Solution:\n",
       "\tR = 8\n",
       "\tS = 9\n",
       "\tD = 7\n",
       "\tE = 5\n",
       "\tY = 2\n",
       "\tM = 1\n",
       "\tN = 6\n",
       "\tO = 0"
      ]
     },
     "execution_count": 6,
     "metadata": {},
     "output_type": "execute_result"
    }
   ],
   "source": [
    "  {S,E,N,D, M,O,R, Y} <: 0..9 & S >0 & M >0 & \n",
    "   card({S,E,N,D, M,O,R, Y}) = 8 & \n",
    "   S*1000 + E*100 + N*10 + D +\n",
    "   M*1000 + O*100 + R*10 + E =\n",
    "  M*10000 + O*1000 + N*100 + E*10 + Y"
   ]
  },
  {
   "cell_type": "markdown",
   "metadata": {},
   "source": [
    "Observe how we have used the cardinality constraint to express that all digits are distinct.\n",
    "If we leave out this cardinality constraint, other solutions are possible:"
   ]
  },
  {
   "cell_type": "code",
   "execution_count": 7,
   "metadata": {},
   "outputs": [
    {
     "data": {
      "text/plain": [
       "TRUE\n",
       "\n",
       "Solution:\n",
       "\tR = 0\n",
       "\tS = 9\n",
       "\tD = 0\n",
       "\tE = 0\n",
       "\tY = 0\n",
       "\tM = 1\n",
       "\tN = 0\n",
       "\tO = 0"
      ]
     },
     "execution_count": 7,
     "metadata": {},
     "output_type": "execute_result"
    }
   ],
   "source": [
    "  {S,E,N,D, M,O,R, Y} <: 0..9 & S >0 & M >0 & \n",
    "  // card({S,E,N,D, M,O,R, Y}) = 8 & // commented out\n",
    "   S*1000 + E*100 + N*10 + D +\n",
    "   M*1000 + O*100 + R*10 + E =\n",
    "  M*10000 + O*1000 + N*100 + E*10 + Y"
   ]
  },
  {
   "cell_type": "markdown",
   "metadata": {},
   "source": [
    "We can find all solutions (to the unmodified puzzle) using a set comprehension and make sure that there is just a single soltuion:"
   ]
  },
  {
   "cell_type": "code",
   "execution_count": 8,
   "metadata": {},
   "outputs": [
    {
     "data": {
      "text/plain": [
       "{(((((((9↦5)↦6)↦7)↦1)↦0)↦8)↦2)}"
      ]
     },
     "execution_count": 8,
     "metadata": {},
     "output_type": "execute_result"
    }
   ],
   "source": [
    "  {S,E,N,D, M,O,R, Y |\n",
    "   {S,E,N,D, M,O,R, Y} <: 0..9 &  S >0 & M >0 & \n",
    "   card({S,E,N,D, M,O,R, Y}) = 8 & \n",
    "   S*1000 + E*100 + N*10 + D +\n",
    "   M*1000 + O*100 + R*10 + E =\n",
    "   M*10000 + O*1000 + N*100 + E*10 + Y }"
   ]
  },
  {
   "cell_type": "markdown",
   "metadata": {},
   "source": [
    "## KISS PASSION Puzzle\n",
    "A slightly more complicated puzzle (involving multiplication) is the KISS * KISS = PASSION problem."
   ]
  },
  {
   "cell_type": "code",
   "execution_count": 9,
   "metadata": {},
   "outputs": [
    {
     "data": {
      "text/plain": [
       "TRUE\n",
       "\n",
       "Solution:\n",
       "\tP = 4\n",
       "\tA = 1\n",
       "\tS = 3\n",
       "\tI = 0\n",
       "\tK = 2\n",
       "\tN = 9\n",
       "\tO = 8"
      ]
     },
     "execution_count": 9,
     "metadata": {},
     "output_type": "execute_result"
    }
   ],
   "source": [
    "    {K,P} <: 1..9 &\n",
    "    {I,S,A,O,N} <: 0..9 &\n",
    "    (1000*K+100*I+10*S+S) * (1000*K+100*I+10*S+S) \n",
    "     =  1000000*P+100000*A+10000*S+1000*S+100*I+10*O+N &\n",
    "    card({K, I, S, P, A, O, N}) = 7"
   ]
  },
  {
   "cell_type": "markdown",
   "metadata": {},
   "source": [
    "## N-Queens Puzzle\n",
    "Here is how we can solve the famous N-Queens puzzle for n=8."
   ]
  },
  {
   "cell_type": "code",
   "execution_count": 10,
   "metadata": {},
   "outputs": [
    {
     "data": {
      "text/plain": [
       "TRUE\n",
       "\n",
       "Solution:\n",
       "\tqueens = {(1↦1),(2↦5),(3↦8),(4↦6),(5↦3),(6↦7),(7↦2),(8↦4)}\n",
       "\tn = 8"
      ]
     },
     "execution_count": 10,
     "metadata": {},
     "output_type": "execute_result"
    }
   ],
   "source": [
    " n = 8 &  \n",
    " queens : perm(1..n) /* for each column the row in which the queen is in */\n",
    " &\n",
    " !(q1,q2).(q1:1..n & q2:2..n & q2>q1\n",
    "    => queens(q1)+(q2-q1) /= queens(q2) & queens(q1)+(q1-q2) /= queens(q2))"
   ]
  },
  {
   "cell_type": "code",
   "execution_count": 11,
   "metadata": {},
   "outputs": [
    {
     "data": {
      "text/plain": [
       "TRUE\n",
       "\n",
       "Solution:\n",
       "\tqueens = {(1↦1),(2↦3),(3↦5),(4↦13),(5↦11),(6↦4),(7↦15),(8↦7),(9↦16),(10↦14),(11↦2),(12↦8),(13↦6),(14↦9),(15↦12),(16↦10)}\n",
       "\tn = 16"
      ]
     },
     "execution_count": 11,
     "metadata": {},
     "output_type": "execute_result"
    }
   ],
   "source": [
    "n = 16 &  \n",
    " queens : perm(1..n) /* for each column the row in which the queen is in */\n",
    " &\n",
    " !(q1,q2).(q1:1..n & q2:2..n & q2>q1\n",
    "    => queens(q1)+(q2-q1) /= queens(q2) & queens(q1)+(q1-q2) /= queens(q2))"
   ]
  },
  {
   "cell_type": "markdown",
   "metadata": {},
   "source": [
    "## Knights and Knave Puzzle\n",
    "Here is a puzzle from Smullyan involving an island with only knights and knaves.\n",
    "We know that:\n",
    " - Knights: always tell the truth\n",
    " - Knaves: always lie\n",
    "\n",
    "We are given the following information about three persons A,B,C on the island:\n",
    " 1. A says: “B is a knave or C is a knave”\n",
    " 2. B says “A is a knight”\n",
    "\n",
    "What are A, B and C?\n",
    "Note: we model A,B,C as boolean variables which are equal to TRUE if they are a knight and FALSE if they are a knave."
   ]
  },
  {
   "cell_type": "code",
   "execution_count": 12,
   "metadata": {},
   "outputs": [
    {
     "data": {
      "text/plain": [
       "TRUE\n",
       "\n",
       "Solution:\n",
       "\tA = TRUE\n",
       "\tB = TRUE\n",
       "\tC = FALSE"
      ]
     },
     "execution_count": 12,
     "metadata": {},
     "output_type": "execute_result"
    }
   ],
   "source": [
    " (A=TRUE <=> (B=FALSE or C=FALSE)) & // Sentence 1\n",
    " (B=TRUE <=> A=TRUE) // Sentence 2"
   ]
  },
  {
   "cell_type": "markdown",
   "metadata": {},
   "source": [
    "Note that in B there are no propositional variables: A,B and C are expressions with a value.\n",
    "To turn them into a predicate we need to use the comparison with TRUE."
   ]
  },
  {
   "cell_type": "code",
   "execution_count": 13,
   "metadata": {},
   "outputs": [
    {
     "data": {
      "text/plain": [
       "{((TRUE↦TRUE)↦FALSE)}"
      ]
     },
     "execution_count": 13,
     "metadata": {},
     "output_type": "execute_result"
    }
   ],
   "source": [
    "/* this computes the set of all models: */ \n",
    "{A,B,C| (A=TRUE <=> (B=FALSE or C=FALSE)) &\n",
    "        (B=TRUE <=> A=TRUE) }"
   ]
  },
  {
   "cell_type": "markdown",
   "metadata": {},
   "source": [
    "## Sudoku\n"
   ]
  },
  {
   "cell_type": "code",
   "execution_count": 14,
   "metadata": {},
   "outputs": [
    {
     "data": {
      "text/plain": [
       "TRUE\n",
       "\n",
       "Solution:\n",
       "\tDOM = (1 ‥ 9)\n",
       "\tBoard = {(1↦{(1↦7),(2↦8),(3↦1),(4↦6),(5↦3),(6↦2),(7↦9),(8↦4),(9↦5)}),(2↦{(1↦9),(2↦5),(3↦2),(4↦7),(5↦1),(6↦4),(7↦6),(8↦3),(9↦8)}),(3↦{(1↦4),(2↦3),(3↦6),(4↦8),(5↦9),(6↦5),(7↦7),(8↦1),(9↦2)}),(4↦{(1↦2),(2↦4),(3↦9),(4↦3),(5↦7),(6↦6),(7↦8),(8↦5),(9↦1)}),(5↦{(1↦6),(2↦7),(3↦3),(4↦5),(5↦8),(6↦1),(7↦2),(8↦9),(9↦4)}),(6↦{(1↦5),(2↦1),(3↦8),(4↦4),(5↦2),(6↦9),(7↦3),(8↦6),(9↦7)}),(7↦{(1↦1),(2↦9),(3↦4),(4↦2),(5↦6),(6↦7),(7↦5),(8↦8),(9↦3)}),(8↦{(1↦8),(2↦6),(3↦7),(4↦1),(5↦5),(6↦3),(7↦4),(8↦2),(9↦9)}),(9↦{(1↦3),(2↦2),(3↦5),(4↦9),(5↦4),(6↦8),(7↦1),(8↦7),(9↦6)})}\n",
       "\tSUBSQ = {{1,2,3},{4,5,6},{7,8,9}}"
      ]
     },
     "execution_count": 14,
     "metadata": {},
     "output_type": "execute_result"
    }
   ],
   "source": [
    " DOM = 1..9 & \n",
    " SUBSQ = { {1,2,3}, {4,5,6}, {7,8,9} } &\n",
    " Board : DOM --> (DOM --> DOM)   &\n",
    "  !y.(y:DOM => !(x1,x2).(x1:DOM & x1<x2 & x2:DOM  => (Board(x1)(y) /= Board(x2)(y) &\n",
    "                                                      Board(y)(x1) /= Board(y)(x2)))) &\n",
    "  !(s1,s2).(s1:SUBSQ & s2:SUBSQ =>\n",
    "             !(x1,y1,x2,y2).( (x1:s1 & x2:s1 & x1>=x2 & (x1=x2 => y1>y2) &\n",
    "                               y1:s2 & y2:s2 & (x1,y1) /= (x2,y2))\n",
    "                              =>\n",
    "                              Board(x1)(y1) /= Board(x2)(y2)\n",
    "                            ))\n",
    "                            \n",
    "   & /* PUZZLE CONSTRAINTS : */\n",
    "   \n",
    "   Board(1)(1)=7 & Board(1)(2)=8  & Board(1)(3)=1 & Board(1)(4)=6 & Board(1)(6)=2 \n",
    "                 & Board(1)(7)=9 & Board(1)(9) = 5 &\n",
    "   Board(2)(1)=9 & Board(2)(3)=2 & Board(2)(4)=7 & Board(2)(5)=1 &\n",
    "   Board(3)(3)=6 & Board(3)(4)=8 & Board(3)(8)=1 & Board(3)(9)=2 &\n",
    "   \n",
    "   Board(4)(1)=2 & Board(4)(4)=3 & Board(4)(7)=8 & Board(4)(8)=5 & Board(4)(9)=1 &\n",
    "   Board(5)(2)=7 & Board(5)(3)=3 & Board(5)(4)=5 & Board(5)(9)=4 &\n",
    "   Board(6)(3)=8 & Board(6)(6)=9 & Board(6)(7)=3 & Board(6)(8)=6 &\n",
    "   \n",
    "   Board(7)(1)=1 & Board(7)(2)=9 & Board(7)(6)=7 & Board(7)(8)=8 &\n",
    "   Board(8)(1)=8 & Board(8)(2)=6 & Board(8)(3)=7 & Board(8)(6)=3 & Board(8)(7)=4 & Board(8)(9)=9 &\n",
    "   Board(9)(3)=5 & Board(9)(7)=1"
   ]
  },
  {
   "cell_type": "markdown",
   "metadata": {},
   "source": [
    "## Subset Sum Puzzle\n",
    " From Katta G. Murty: \"Optimization Models for Decision Making\", page 340\n",
    "  http://ioe.engin.umich.edu/people/fac/books/murty/opti_model/junior-7.pdf\n",
    "  \n",
    "Example 7.8.1\n",
    "``A bank van had several bags of coins, each containing either\n",
    "  16, 17, 23, 24, 39, or 40 coins. While the van was parked on the\n",
    "  street, thieves stole some bags. A total of 100 coins were lost.\n",
    "  It is required to find how many bags were stolen.''"
   ]
  },
  {
   "cell_type": "code",
   "execution_count": 15,
   "metadata": {},
   "outputs": [
    {
     "data": {
      "text/plain": [
       "TRUE\n",
       "\n",
       "Solution:\n",
       "\tstolen = {(16↦2),(17↦4),(23↦0),(24↦0),(39↦0),(40↦0)}\n",
       "\tcoins = {16,17,23,24,39,40}"
      ]
     },
     "execution_count": 15,
     "metadata": {},
     "output_type": "execute_result"
    }
   ],
   "source": [
    "coins = {16,17,23,24,39,40} &  /* number of coins in each bag */\n",
    " stolen : coins --> NATURAL & /* number of bags of each type stolen */\n",
    " SIGMA(x).(x:coins|stolen(x)*x)=100"
   ]
  },
  {
   "cell_type": "markdown",
   "metadata": {},
   "source": [
    "## Who killed Agatha Puzzle"
   ]
  },
  {
   "cell_type": "code",
   "execution_count": 16,
   "metadata": {},
   "outputs": [
    {
     "data": {
      "text/plain": [
       "TRUE\n",
       "\n",
       "Solution:\n",
       "\tPersons = {\"Agatha\",\"Charles\",\"butler\"}\n",
       "\tricher = {(\"Agatha\"↦\"Charles\"),(\"butler\"↦\"Agatha\"),(\"butler\"↦\"Charles\")}\n",
       "\tvictim = \"Agatha\"\n",
       "\tkiller = \"Agatha\"\n",
       "\thates = {(\"Agatha\"↦\"Agatha\"),(\"Agatha\"↦\"Charles\"),(\"Charles\"↦\"butler\"),(\"butler\"↦\"Agatha\"),(\"butler\"↦\"Charles\")}"
      ]
     },
     "execution_count": 16,
     "metadata": {},
     "output_type": "execute_result"
    }
   ],
   "source": [
    "Persons = { \"Agatha\", \"butler\", \"Charles\"} /* it is more efficient in B to use enumerated sets; but in the eval window we cannot define them */\n",
    " &\n",
    " hates : Persons <-> Persons &\n",
    " richer : Persons <-> Persons &  /* richer /\\ richer~ = {} & */\n",
    " richer /\\ id(Persons) = {} &\n",
    " !(x,y,z).(x|->y:richer & y|->z:richer => x|->z:richer) &\n",
    " !(x,y).(x:Persons & y:Persons & x/=y => (x|->y:richer <=> y|->x /: richer)) &\n",
    " \n",
    " killer : Persons &   victim : Persons &\n",
    " killer|->victim : hates & /* A killer always hates his victim */\n",
    " killer|->victim /: richer & /* and is no richer than his victim */\n",
    " hates[{ \"Agatha\"}] /\\ hates[{\"Charles\"}] = {} & /* Charles hates noone that Agatha hates. */\n",
    " hates[{ \"Agatha\"}] = Persons - {\"butler\"} & /* Agatha hates everybody except the butler. */\n",
    " !x.( x: Persons & x|-> \"Agatha\" /: richer => \"butler\"|->x : hates) & /* The butler hates everyone not richer than Aunt Agatha */\n",
    " hates[{ \"Agatha\"}] <: hates[{\"butler\"}] & /* The butler hates everyone whom Agatha hates.  */\n",
    " !x.(x:Persons => hates[{x}] /= Persons) /* Noone hates everyone. */ &\n",
    " victim =  \"Agatha\""
   ]
  },
  {
   "cell_type": "code",
   "execution_count": null,
   "metadata": {},
   "outputs": [],
   "source": []
  },
  {
   "cell_type": "code",
   "execution_count": null,
   "metadata": {},
   "outputs": [],
   "source": []
  }
 ],
 "metadata": {
  "kernelspec": {
   "display_name": "ProB 2",
   "language": "prob",
   "name": "prob2"
  },
  "language_info": {
   "file_extension": ".prob",
   "mimetype": "text/x-prob",
   "name": "prob"
  }
 },
 "nbformat": 4,
 "nbformat_minor": 2
}
