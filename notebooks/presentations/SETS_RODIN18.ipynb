{
 "cells": [
  {
   "cell_type": "markdown",
   "metadata": {
    "slideshow": {
     "slide_type": "slide"
    }
   },
   "source": [
    "## Introduction to B ##"
   ]
  },
  {
   "cell_type": "markdown",
   "metadata": {
    "slideshow": {
     "slide_type": "slide"
    }
   },
   "source": [
    "### Basic Datavalues ###"
   ]
  },
  {
   "cell_type": "markdown",
   "metadata": {
    "slideshow": {
     "slide_type": "-"
    }
   },
   "source": [
    "B provides the booleans, strings and integers as built-in datatypes."
   ]
  },
  {
   "cell_type": "code",
   "execution_count": 1,
   "metadata": {
    "slideshow": {
     "slide_type": "subslide"
    }
   },
   "outputs": [
    {
     "data": {
      "text/plain": [
       "{FALSE,TRUE}"
      ]
     },
     "execution_count": 1,
     "metadata": {},
     "output_type": "execute_result"
    }
   ],
   "source": [
    "BOOL"
   ]
  },
  {
   "cell_type": "code",
   "execution_count": 2,
   "metadata": {
    "slideshow": {
     "slide_type": "fragment"
    }
   },
   "outputs": [
    {
     "data": {
      "text/plain": [
       "\"this is a string\""
      ]
     },
     "execution_count": 2,
     "metadata": {},
     "output_type": "execute_result"
    }
   ],
   "source": [
    "\"this is a string\""
   ]
  },
  {
   "cell_type": "code",
   "execution_count": 3,
   "metadata": {
    "slideshow": {
     "slide_type": "fragment"
    }
   },
   "outputs": [
    {
     "data": {
      "text/plain": [
       "1024"
      ]
     },
     "execution_count": 3,
     "metadata": {},
     "output_type": "execute_result"
    }
   ],
   "source": [
    "1024"
   ]
  },
  {
   "cell_type": "markdown",
   "metadata": {
    "slideshow": {
     "slide_type": "subslide"
    }
   },
   "source": [
    "Users can define their own datatype in a B machine.\n",
    "One distinguishes between explicitly specified enumerated sets and deferred sets."
   ]
  },
  {
   "cell_type": "code",
   "execution_count": 5,
   "metadata": {
    "slideshow": {
     "slide_type": "-"
    }
   },
   "outputs": [
    {
     "name": "stdout",
     "output_type": "stream",
     "text": [
      "[2018-05-25 13:12:41,869, T+1176691] \"Shell-0\" de.prob.cli.PrologProcessProvider.makeProcess(PrologProcessProvider.java:64): [INFO] Starting ProB's Prolog Core. Path is /Users/leuschel/git_root/prob_prolog/probcli.sh\n",
      "[2018-05-25 13:12:43,407, T+1178229] \"Shell-0\" de.prob.cli.PortPattern.setValue(PortPattern.java:30): [INFO] Server has started and listens on port 54757\n",
      "[2018-05-25 13:12:43,408, T+1178230] \"Shell-0\" de.prob.cli.InterruptRefPattern.setValue(InterruptRefPattern.java:29): [INFO] Server can receive user interrupts via reference 94534\n",
      "[2018-05-25 13:12:43,412, T+1178234] \"ProB Output Logger for instance 6e2e7ba7\" de.prob.cli.ProBInstance.readAndLog(ConsoleListener.java:48): [INFO] -- starting command loop --\u001b[0m\n",
      "[2018-05-25 13:12:43,441, T+1178263] \"ProB Output Logger for instance 6e2e7ba7\" de.prob.cli.ProBInstance.readAndLog(ConsoleListener.java:48): [INFO] Connected: 127.0.0.1\u001b[0m\n"
     ]
    },
    {
     "data": {
      "text/plain": [
       "Loaded machine: MyBasicSets : []\n"
      ]
     },
     "execution_count": 5,
     "metadata": {},
     "output_type": "execute_result"
    }
   ],
   "source": [
    "::load\n",
    "MACHINE MyBasicSets\n",
    "SETS Trains = {thomas, gordon}; Points\n",
    "END"
   ]
  },
  {
   "cell_type": "markdown",
   "metadata": {
    "slideshow": {
     "slide_type": "subslide"
    }
   },
   "source": [
    "For animation and constraint solving purposes, ProB will instantiate deferred sets to some finite set (the size of which can be controlled)."
   ]
  },
  {
   "cell_type": "code",
   "execution_count": 6,
   "metadata": {
    "slideshow": {
     "slide_type": "-"
    }
   },
   "outputs": [
    {
     "data": {
      "text/plain": [
       "{Points1,Points2}"
      ]
     },
     "execution_count": 6,
     "metadata": {},
     "output_type": "execute_result"
    }
   ],
   "source": [
    "Points"
   ]
  },
  {
   "cell_type": "markdown",
   "metadata": {
    "slideshow": {
     "slide_type": "slide"
    }
   },
   "source": [
    "### Pairs ###\n",
    "B also has pairs of values, which can be written in two ways:"
   ]
  },
  {
   "cell_type": "code",
   "execution_count": 7,
   "metadata": {
    "slideshow": {
     "slide_type": "fragment"
    }
   },
   "outputs": [
    {
     "data": {
      "text/plain": [
       "(thomas↦10)"
      ]
     },
     "execution_count": 7,
     "metadata": {},
     "output_type": "execute_result"
    }
   ],
   "source": [
    "(thomas,10)"
   ]
  },
  {
   "cell_type": "code",
   "execution_count": 8,
   "metadata": {
    "slideshow": {
     "slide_type": "fragment"
    }
   },
   "outputs": [
    {
     "data": {
      "text/plain": [
       "(thomas↦10)"
      ]
     },
     "execution_count": 8,
     "metadata": {},
     "output_type": "execute_result"
    }
   ],
   "source": [
    "thomas |-> 10"
   ]
  },
  {
   "cell_type": "markdown",
   "metadata": {
    "slideshow": {
     "slide_type": "subslide"
    }
   },
   "source": [
    "Tuples simply correspond to nested pairs:"
   ]
  },
  {
   "cell_type": "code",
   "execution_count": 12,
   "metadata": {},
   "outputs": [
    {
     "data": {
      "text/plain": [
       "((thomas↦gordon)↦20)"
      ]
     },
     "execution_count": 12,
     "metadata": {},
     "output_type": "execute_result"
    }
   ],
   "source": [
    "(thomas |-> gordon |-> 20)"
   ]
  },
  {
   "cell_type": "markdown",
   "metadata": {
    "slideshow": {
     "slide_type": "slide"
    }
   },
   "source": [
    "### Sets ###\n",
    "Sets in B can be specified in multiple ways.\n",
    "For example, using explicit enumeration:"
   ]
  },
  {
   "cell_type": "code",
   "execution_count": 13,
   "metadata": {
    "slideshow": {
     "slide_type": "fragment"
    }
   },
   "outputs": [
    {
     "data": {
      "text/plain": [
       "{1,2,3}"
      ]
     },
     "execution_count": 13,
     "metadata": {},
     "output_type": "execute_result"
    }
   ],
   "source": [
    "{1,3,2,3}"
   ]
  },
  {
   "cell_type": "markdown",
   "metadata": {
    "slideshow": {
     "slide_type": "fragment"
    }
   },
   "source": [
    "or via a predicate by using a set comprehension:"
   ]
  },
  {
   "cell_type": "code",
   "execution_count": 14,
   "metadata": {
    "slideshow": {
     "slide_type": "fragment"
    }
   },
   "outputs": [
    {
     "data": {
      "text/plain": [
       "{1,2,3}"
      ]
     },
     "execution_count": 14,
     "metadata": {},
     "output_type": "execute_result"
    }
   ],
   "source": [
    "{x|x>0 & x<4}"
   ]
  },
  {
   "cell_type": "markdown",
   "metadata": {
    "slideshow": {
     "slide_type": "subslide"
    }
   },
   "source": [
    "For integers there are a variety of other sets, such as intervals:"
   ]
  },
  {
   "cell_type": "code",
   "execution_count": 15,
   "metadata": {
    "slideshow": {
     "slide_type": "fragment"
    }
   },
   "outputs": [
    {
     "data": {
      "text/plain": [
       "{1,2,3}"
      ]
     },
     "execution_count": 15,
     "metadata": {},
     "output_type": "execute_result"
    }
   ],
   "source": [
    "1..3"
   ]
  },
  {
   "cell_type": "markdown",
   "metadata": {},
   "source": [
    "or the set of implementable integers INT = MININT..MAXINT or the set of implementable natural numbers NAT = 0..MAXINT."
   ]
  },
  {
   "cell_type": "markdown",
   "metadata": {
    "slideshow": {
     "slide_type": "subslide"
    }
   },
   "source": [
    "Sets can be higher-order and contain other sets:"
   ]
  },
  {
   "cell_type": "code",
   "execution_count": 17,
   "metadata": {
    "slideshow": {
     "slide_type": "fragment"
    }
   },
   "outputs": [
    {
     "data": {
      "text/plain": [
       "{{0,1},{1,2,3}}"
      ]
     },
     "execution_count": 17,
     "metadata": {},
     "output_type": "execute_result"
    }
   ],
   "source": [
    "{ 1..3,  {1,2,3,2}, 0..1, {x|x>0 & x<4} }"
   ]
  },
  {
   "cell_type": "markdown",
   "metadata": {
    "slideshow": {
     "slide_type": "fragment"
    }
   },
   "source": [
    "Relations are modelled as sets of pairs:"
   ]
  },
  {
   "cell_type": "code",
   "execution_count": 18,
   "metadata": {
    "slideshow": {
     "slide_type": "fragment"
    }
   },
   "outputs": [
    {
     "data": {
      "text/plain": [
       "{(thomas↦thomas),(thomas↦gordon),(gordon↦gordon)}"
      ]
     },
     "execution_count": 18,
     "metadata": {},
     "output_type": "execute_result"
    }
   ],
   "source": [
    "{ thomas|->gordon, gordon|->gordon, thomas|->thomas}"
   ]
  },
  {
   "cell_type": "markdown",
   "metadata": {
    "slideshow": {
     "slide_type": "subslide"
    }
   },
   "source": [
    "Functions are relations which map every domain element to at most one value:"
   ]
  },
  {
   "cell_type": "code",
   "execution_count": 22,
   "metadata": {},
   "outputs": [
    {
     "data": {
      "text/plain": [
       "{(thomas↦1),(gordon↦2)}"
      ]
     },
     "execution_count": 22,
     "metadata": {},
     "output_type": "execute_result"
    }
   ],
   "source": [
    "{ thomas|->1, gordon|->2}"
   ]
  },
  {
   "cell_type": "markdown",
   "metadata": {
    "slideshow": {
     "slide_type": "slide"
    }
   },
   "source": [
    "## Expressions vs Predicates vs Substitutions ##"
   ]
  },
  {
   "cell_type": "markdown",
   "metadata": {
    "slideshow": {
     "slide_type": "fragment"
    }
   },
   "source": [
    "\n",
    "### Expressions ###\n",
    "Expressions in B have a value. With ProB and with ProB's Jupyter backend, you can evaluate expresssions such as:"
   ]
  },
  {
   "cell_type": "code",
   "execution_count": 19,
   "metadata": {
    "slideshow": {
     "slide_type": "fragment"
    }
   },
   "outputs": [
    {
     "data": {
      "text/plain": [
       "10715086071862673209484250490600018105614048117055336074437503883703510511249361224931983788156958581275946729175531468251871452856923140435984577574698574803934567774824230985421074605062371141877954182153046474983581941267398767559165543946077062914571196477686542167660429831652624386837205668069376"
      ]
     },
     "execution_count": 19,
     "metadata": {},
     "output_type": "execute_result"
    }
   ],
   "source": [
    "2**1000"
   ]
  },
  {
   "cell_type": "markdown",
   "metadata": {
    "slideshow": {
     "slide_type": "subslide"
    }
   },
   "source": [
    "B provides many operators which return values, such as the usual arithmetic operators but also many operators for sets, relations and functions."
   ]
  },
  {
   "cell_type": "code",
   "execution_count": 21,
   "metadata": {
    "slideshow": {
     "slide_type": "fragment"
    }
   },
   "outputs": [
    {
     "data": {
      "text/plain": [
       "{1,7,8,9,10}"
      ]
     },
     "execution_count": 21,
     "metadata": {},
     "output_type": "execute_result"
    }
   ],
   "source": [
    "(1..3 \\/ 5..10) \\ (2..6)"
   ]
  },
  {
   "cell_type": "code",
   "execution_count": 23,
   "metadata": {
    "slideshow": {
     "slide_type": "fragment"
    }
   },
   "outputs": [
    {
     "data": {
      "text/plain": [
       "{1,2}"
      ]
     },
     "execution_count": 23,
     "metadata": {},
     "output_type": "execute_result"
    }
   ],
   "source": [
    "ran({(thomas↦1),(gordon↦2)})"
   ]
  },
  {
   "cell_type": "code",
   "execution_count": 24,
   "metadata": {
    "slideshow": {
     "slide_type": "fragment"
    }
   },
   "outputs": [
    {
     "data": {
      "text/plain": [
       "1"
      ]
     },
     "execution_count": 24,
     "metadata": {},
     "output_type": "execute_result"
    }
   ],
   "source": [
    "{(thomas↦1),(gordon↦2)} (thomas)"
   ]
  },
  {
   "cell_type": "code",
   "execution_count": 25,
   "metadata": {
    "slideshow": {
     "slide_type": "fragment"
    }
   },
   "outputs": [
    {
     "data": {
      "text/plain": [
       "{gordon}"
      ]
     },
     "execution_count": 25,
     "metadata": {},
     "output_type": "execute_result"
    }
   ],
   "source": [
    "{(thomas↦1),(gordon↦2)}~[2..3]"
   ]
  },
  {
   "cell_type": "markdown",
   "metadata": {
    "slideshow": {
     "slide_type": "slide"
    }
   },
   "source": [
    "## Predicates\n",
    "ProB can also be used to evaluate predicates (B distinguishes between expressions which have a value and predicates which are either true or false)."
   ]
  },
  {
   "cell_type": "code",
   "execution_count": 26,
   "metadata": {
    "slideshow": {
     "slide_type": "fragment"
    }
   },
   "outputs": [
    {
     "data": {
      "text/plain": [
       "FALSE"
      ]
     },
     "execution_count": 26,
     "metadata": {},
     "output_type": "execute_result"
    }
   ],
   "source": [
    "2>3"
   ]
  },
  {
   "cell_type": "code",
   "execution_count": 27,
   "metadata": {
    "slideshow": {
     "slide_type": "fragment"
    }
   },
   "outputs": [
    {
     "data": {
      "text/plain": [
       "TRUE"
      ]
     },
     "execution_count": 27,
     "metadata": {},
     "output_type": "execute_result"
    }
   ],
   "source": [
    "3>2"
   ]
  },
  {
   "cell_type": "markdown",
   "metadata": {
    "slideshow": {
     "slide_type": "subslide"
    }
   },
   "source": [
    "Within predicates you can use **open** variables, which are implicitly existentially quantified.\n",
    "ProB will display the solution for the open variables, if possible."
   ]
  },
  {
   "cell_type": "code",
   "execution_count": 28,
   "metadata": {
    "slideshow": {
     "slide_type": "fragment"
    }
   },
   "outputs": [
    {
     "data": {
      "text/plain": [
       "TRUE\n",
       "\n",
       "Solution:\n",
       "\tx = −10"
      ]
     },
     "execution_count": 28,
     "metadata": {},
     "output_type": "execute_result"
    }
   ],
   "source": [
    "x*x=100"
   ]
  },
  {
   "cell_type": "markdown",
   "metadata": {
    "slideshow": {
     "slide_type": "fragment"
    }
   },
   "source": [
    "We can find all solutions to a predicate by using the set comprehension notation.\n",
    "Note that by this we turn a predicate into an expression."
   ]
  },
  {
   "cell_type": "code",
   "execution_count": 29,
   "metadata": {
    "slideshow": {
     "slide_type": "fragment"
    }
   },
   "outputs": [
    {
     "data": {
      "text/plain": [
       "{−10,10}"
      ]
     },
     "execution_count": 29,
     "metadata": {},
     "output_type": "execute_result"
    }
   ],
   "source": [
    "{x|x*x=100}"
   ]
  },
  {
   "cell_type": "markdown",
   "metadata": {
    "slideshow": {
     "slide_type": "slide"
    }
   },
   "source": [
    "### Substitutions ###\n",
    "B also has a rich syntax for substitutions, aka statements.\n",
    "For example ```x := x+1``` increments the value of x by 1.\n",
    "We will not talk about substitutions in the rest of this presentation."
   ]
  },
  {
   "cell_type": "markdown",
   "metadata": {
    "slideshow": {
     "slide_type": "slide"
    }
   },
   "source": [
    "## Constraint Solving ##\n",
    "\n",
    "Constraint solving is determine whether a predicate with open/existentially quantified variables is satisfiable and providing values for the open variables in case it is.\n",
    "We have already solved the predicate ```x*x=100``` above, yielding the solution ```x=-10```.\n",
    "The following is an unsatisfiable predicate:"
   ]
  },
  {
   "cell_type": "code",
   "execution_count": 31,
   "metadata": {
    "slideshow": {
     "slide_type": "fragment"
    }
   },
   "outputs": [
    {
     "data": {
      "text/plain": [
       "FALSE"
      ]
     },
     "execution_count": 31,
     "metadata": {},
     "output_type": "execute_result"
    }
   ],
   "source": [
    "x*x=1000"
   ]
  },
  {
   "cell_type": "markdown",
   "metadata": {
    "slideshow": {
     "slide_type": "slide"
    }
   },
   "source": [
    "# Constraint solving has many applications in formal methods in general and B in particular.\n",
    "It is required to animate implicit specifications.\n",
    "Take for example an event\n",
    "```\n",
    "train_catches_up = any t1,t2,x where t1:dom(train_position) & t2:dom(train_position) &\n",
    "                                     train_position(t1) < train_position(t2) &\n",
    "                                     x:1..(train_position(t2)-train_position(t1)-1) then\n",
    "                         train_position(t1) := train_position(t1)+x end\n",
    "```\n",
    "To determine whether the event is enabled, and to obtain values for the parameters of the event in a given state of the model, we have to solve the following constraint:"
   ]
  },
  {
   "cell_type": "code",
   "execution_count": 39,
   "metadata": {},
   "outputs": [
    {
     "data": {
      "text/plain": [
       "TRUE\n",
       "\n",
       "Solution:\n",
       "\tx = 1\n",
       "\ttrain_position = {(thomas↦100),(gordon↦2020)}\n",
       "\tt1 = thomas\n",
       "\tt2 = gordon"
      ]
     },
     "execution_count": 39,
     "metadata": {},
     "output_type": "execute_result"
    }
   ],
   "source": [
    "train_position = {thomas|->100, gordon|->2020} &\n",
    "t1:dom(train_position) & t2:dom(train_position) & train_position(t1) < train_position(t2) &\n",
    "x:1..(train_position(t2)-train_position(t1)-1)"
   ]
  },
  {
   "cell_type": "code",
   "execution_count": 40,
   "metadata": {},
   "outputs": [
    {
     "data": {
      "text/plain": [
       "FALSE"
      ]
     },
     "execution_count": 40,
     "metadata": {},
     "output_type": "execute_result"
    }
   ],
   "source": [
    "train_position = {thomas|->2019, gordon|->2020} &\n",
    "t1:dom(train_position) & t2:dom(train_position) & train_position(t1) < train_position(t2) &\n",
    "x:1..(train_position(t2)-train_position(t1)-1)"
   ]
  },
  {
   "cell_type": "markdown",
   "metadata": {},
   "source": [
    "Suppose that we have the invariant, ```train_position:TRAINS-->1..10000``` we can check whether the event is feasible in at least one valid state by solving:"
   ]
  },
  {
   "cell_type": "code",
   "execution_count": 38,
   "metadata": {},
   "outputs": [
    {
     "data": {
      "text/plain": [
       "TRUE\n",
       "\n",
       "Solution:\n",
       "\tx = 1\n",
       "\ttrain_position = {(thomas↦1),(gordon↦3)}\n",
       "\tt1 = thomas\n",
       "\tt2 = gordon"
      ]
     },
     "execution_count": 38,
     "metadata": {},
     "output_type": "execute_result"
    }
   ],
   "source": [
    "train_position:Trains-->1..10000 &\n",
    "t1:dom(train_position) & t2:dom(train_position) & train_position(t1) < train_position(t2) &\n",
    "x:1..(train_position(t2)-train_position(t1)-1)"
   ]
  },
  {
   "cell_type": "markdown",
   "metadata": {
    "slideshow": {
     "slide_type": "subslide"
    }
   },
   "source": [
    "Many other applications exist: generating testcases, finding counter examples using bounded model checking or other algorithms like IC3.\n",
    "Other applications are analysing proof obligations.\n",
    "Take the proof obligation for an event theorem t1 $/=$ t2:\n",
    "```\n",
    "train_position:Trains-->1..10000 & train_position(t1) < train_position(t2) |- t1 /= t2\n",
    "```\n",
    "We can find counter examples to it by negating the proof goal:"
   ]
  },
  {
   "cell_type": "code",
   "execution_count": 42,
   "metadata": {},
   "outputs": [
    {
     "data": {
      "text/plain": [
       "FALSE"
      ]
     },
     "execution_count": 42,
     "metadata": {},
     "output_type": "execute_result"
    }
   ],
   "source": [
    "train_position:Trains-->1..10000 & train_position(t1) < train_position(t2) & not( t1 /= t2 )"
   ]
  },
  {
   "cell_type": "markdown",
   "metadata": {
    "slideshow": {
     "slide_type": "subslide"
    }
   },
   "source": [
    "Obviously, we can also use constraint solving to solve puzzles or real-life problems.\n",
    "#### Send More Money Puzzle ####\n",
    "We now try and solve the SEND+MORE=MONEY arithmetic puzzle in B, involving 8 distinct digits:"
   ]
  },
  {
   "cell_type": "code",
   "execution_count": 43,
   "metadata": {},
   "outputs": [
    {
     "data": {
      "text/plain": [
       "TRUE\n",
       "\n",
       "Solution:\n",
       "\tR = 8\n",
       "\tS = 9\n",
       "\tD = 7\n",
       "\tE = 5\n",
       "\tY = 2\n",
       "\tM = 1\n",
       "\tN = 6\n",
       "\tO = 0"
      ]
     },
     "execution_count": 43,
     "metadata": {},
     "output_type": "execute_result"
    }
   ],
   "source": [
    "{S,E,N,D, M,O,R, Y} <: 0..9 & S >0 & M >0 & \n",
    "   card({S,E,N,D, M,O,R, Y}) = 8 & \n",
    "   S*1000 + E*100 + N*10 + D +\n",
    "   M*1000 + O*100 + R*10 + E =\n",
    "  M*10000 + O*1000 + N*100 + E*10 + Y"
   ]
  },
  {
   "cell_type": "markdown",
   "metadata": {},
   "source": [
    "We can find all solutions (to the unmodified puzzle) using a set comprehension and make sure that there is just a single soltuion:"
   ]
  },
  {
   "cell_type": "code",
   "execution_count": 44,
   "metadata": {},
   "outputs": [
    {
     "data": {
      "text/plain": [
       "{(((((((9↦5)↦6)↦7)↦1)↦0)↦8)↦2)}"
      ]
     },
     "execution_count": 44,
     "metadata": {},
     "output_type": "execute_result"
    }
   ],
   "source": [
    "  {S,E,N,D, M,O,R, Y |\n",
    "   {S,E,N,D, M,O,R, Y} <: 0..9 &  S >0 & M >0 & \n",
    "   card({S,E,N,D, M,O,R, Y}) = 8 & \n",
    "   S*1000 + E*100 + N*10 + D +\n",
    "   M*1000 + O*100 + R*10 + E =\n",
    "   M*10000 + O*1000 + N*100 + E*10 + Y }"
   ]
  },
  {
   "cell_type": "markdown",
   "metadata": {
    "slideshow": {
     "slide_type": "subslide"
    }
   },
   "source": [
    "#### KISS PASSION Puzzle####\n",
    "A slightly more complicated puzzle (involving multiplication) is the KISS * KISS = PASSION problem."
   ]
  },
  {
   "cell_type": "code",
   "execution_count": 46,
   "metadata": {},
   "outputs": [
    {
     "data": {
      "text/plain": [
       "TRUE\n",
       "\n",
       "Solution:\n",
       "\tP = 4\n",
       "\tA = 1\n",
       "\tS = 3\n",
       "\tI = 0\n",
       "\tK = 2\n",
       "\tN = 9\n",
       "\tO = 8"
      ]
     },
     "execution_count": 46,
     "metadata": {},
     "output_type": "execute_result"
    }
   ],
   "source": [
    "   {K,P} <: 1..9 &\n",
    "    {I,S,A,O,N} <: 0..9 &\n",
    "    (1000*K+100*I+10*S+S) * (1000*K+100*I+10*S+S) \n",
    "     =  1000000*P+100000*A+10000*S+1000*S+100*I+10*O+N &\n",
    "    card({K, I, S, P, A, O, N}) = 7"
   ]
  },
  {
   "cell_type": "markdown",
   "metadata": {
    "slideshow": {
     "slide_type": "subslide"
    }
   },
   "source": [
    "Finally, a simple puzzle involving sets is to find a subset of numbers from 1..5 whose sum is 14:"
   ]
  },
  {
   "cell_type": "code",
   "execution_count": 48,
   "metadata": {},
   "outputs": [
    {
     "data": {
      "text/plain": [
       "TRUE\n",
       "\n",
       "Solution:\n",
       "\tx = {2,3,4,5}"
      ]
     },
     "execution_count": 48,
     "metadata": {},
     "output_type": "execute_result"
    }
   ],
   "source": [
    "x <: 1..5 & SIGMA(y).(y:x|y)=14"
   ]
  },
  {
   "cell_type": "markdown",
   "metadata": {
    "slideshow": {
     "slide_type": "slide"
    }
   },
   "source": [
    "## How to solve (set) constraints in B ##"
   ]
  },
  {
   "cell_type": "markdown",
   "metadata": {},
   "source": [
    "### Booleans ###\n",
    "\n",
    "If we have only booleans, constraint solving is equivalent to SAT solving.\n",
    "Internally, ProB has an interpreter which does not translate to CNF (conjunctive normal form), but is otherwise similar to DPLL: deterministic propagations are carried out first (unit propagation) and there are heuristics to choose the next boolean variable to enumerate.\n",
    "\n",
    "#### Knights and Knave Puzzle####\n",
    "Here is a puzzle from Smullyan involving an island with only knights and knaves.\n",
    "We know that:\n",
    " - Knights: always tell the truth\n",
    " - Knaves: always lie\n",
    "\n",
    "We are given the following information about three persons A,B,C on the island:\n",
    " 1. A says: “B is a knave or C is a knave”\n",
    " 2. B says “A is a knight”\n",
    "\n",
    "What are A, B and C?\n",
    "Note: we model A,B,C as boolean variables which are equal to TRUE if they are a knight and FALSE if they are a knave."
   ]
  },
  {
   "cell_type": "code",
   "execution_count": 49,
   "metadata": {},
   "outputs": [
    {
     "data": {
      "text/plain": [
       "TRUE\n",
       "\n",
       "Solution:\n",
       "\tA = TRUE\n",
       "\tB = TRUE\n",
       "\tC = FALSE"
      ]
     },
     "execution_count": 49,
     "metadata": {},
     "output_type": "execute_result"
    }
   ],
   "source": [
    " (A=TRUE <=> (B=FALSE or C=FALSE)) & // Sentence 1\n",
    " (B=TRUE <=> A=TRUE) // Sentence 2"
   ]
  },
  {
   "cell_type": "markdown",
   "metadata": {
    "slideshow": {
     "slide_type": "slide"
    }
   },
   "source": [
    "### Integers ###\n",
    "\n",
    "Let us take the integer constraint ```x*x=100``` which we saw earlier.\n",
    "This constraint is actually more complicated than might appear at first sight: the constraint is not linear and the domain of x is not bounded. Indeed, B supports mathematical integers without any bit size restriction.\n",
    "So, let us first look at some simpler constraints, where the domains of the variables are all bounded.\n",
    "Let us consider a small arithmetic puzzle \n",
    "```\n",
    "  X Y\n",
    "+ X Y\n",
    "-----\n",
    "  Y 0\n",
    "```"
   ]
  },
  {
   "cell_type": "code",
   "execution_count": 7,
   "metadata": {},
   "outputs": [
    {
     "data": {
      "text/plain": [
       "TRUE\n",
       "\n",
       "Solution:\n",
       "\tX = 2\n",
       "\tY = 5"
      ]
     },
     "execution_count": 7,
     "metadata": {},
     "output_type": "execute_result"
    }
   ],
   "source": [
    "X:1..9 & Y:0..9 & X*10 + Y + X*10 + Y = Y*10"
   ]
  },
  {
   "cell_type": "markdown",
   "metadata": {},
   "source": [
    "Given that we know the domain of X and Y one can represent the integers by binary numbers and convert the constraint to a SAT problem."
   ]
  },
  {
   "cell_type": "markdown",
   "metadata": {
    "slideshow": {
     "slide_type": "subslide"
    }
   },
   "source": [
    "Let us look at an even simpler constraint X:0..3 & Y:0..3 & X+Y=2. As you can see there are three solutions for this constraint:\n"
   ]
  },
  {
   "cell_type": "code",
   "execution_count": 14,
   "metadata": {},
   "outputs": [
    {
     "data": {
      "text/plain": [
       "{(0↦2),(1↦1),(2↦0)}"
      ]
     },
     "execution_count": 14,
     "metadata": {},
     "output_type": "execute_result"
    }
   ],
   "source": [
    "{X,Y|X:0..3 & Y:0..3 & X+Y=2}"
   ]
  },
  {
   "cell_type": "markdown",
   "metadata": {},
   "source": [
    "We will now study how such constraints can be solved."
   ]
  },
  {
   "cell_type": "markdown",
   "metadata": {},
   "source": [
    "#### Solving constraints by translating to SAT ####\n",
    "Given that we know the domain of X and Y in the constraint ``` X:0..3 & Y:0..3 & X+Y=2``` one can represent the integers by binary numbers and convert the constraint to a SAT problem.\n",
    "The number 2 is 10 in binary and we can represent X and Y each by two bits X0,X1 and Y0,Y1.\n",
    "We can translate the addition to a propositional logic formula:\n",
    "\n",
    "Bit1 | Bit0\n",
    "-----|-----\n",
    "   X1  |  X0\n",
    " + Y1  |  Y0\n",
    "     |\n",
    " Z1  |  Z0\n",
    " \n",
    "Let us find one solution to this constraint, by encoding addition using an additional carry bit:"
   ]
  },
  {
   "cell_type": "code",
   "execution_count": 12,
   "metadata": {},
   "outputs": [
    {
     "data": {
      "text/plain": [
       "TRUE\n",
       "\n",
       "Solution:\n",
       "\tZ0 = FALSE\n",
       "\tY0 = TRUE\n",
       "\tZ1 = TRUE\n",
       "\tX0 = TRUE\n",
       "\tY1 = TRUE\n",
       "\tX1 = TRUE\n",
       "\tCARRY0 = TRUE"
      ]
     },
     "execution_count": 12,
     "metadata": {},
     "output_type": "execute_result"
    }
   ],
   "source": [
    " ((X0=TRUE <=> Y0=TRUE) <=> Z0=FALSE) & \n",
    " ((X0=TRUE & Y0=TRUE) <=> CARRY0=TRUE) & \n",
    " (CARRY0=FALSE => ((X1=TRUE <=> Y1=TRUE) <=> Z1=FALSE)) &\n",
    " (CARRY0=TRUE => ((X1=TRUE <=> Y1=TRUE) <=> Z1=TRUE)) &\n",
    " Z0=FALSE & Z1=TRUE"
   ]
  },
  {
   "cell_type": "code",
   "execution_count": 16,
   "metadata": {},
   "outputs": [
    {
     "data": {
      "text/plain": [
       "{((((((FALSE↦FALSE)↦FALSE)↦TRUE)↦FALSE)↦TRUE)↦FALSE),((((((FALSE↦TRUE)↦FALSE)↦FALSE)↦FALSE)↦TRUE)↦FALSE),((((((TRUE↦FALSE)↦TRUE)↦FALSE)↦FALSE)↦TRUE)↦TRUE),((((((TRUE↦TRUE)↦TRUE)↦TRUE)↦FALSE)↦TRUE)↦TRUE)}"
      ]
     },
     "execution_count": 16,
     "metadata": {},
     "output_type": "execute_result"
    }
   ],
   "source": [
    "{X0,X1,Y0,Y1,Z0,Z1,CARRY0 | ((X0=TRUE <=> Y0=TRUE) <=> Z0=FALSE) & \n",
    "   ((X0=TRUE & Y0=TRUE) <=> CARRY0=TRUE) & \n",
    "   (CARRY0=FALSE => ((X1=TRUE <=> Y1=TRUE) <=> Z1=FALSE)) & \n",
    "   (CARRY0=TRUE => ((X1=TRUE <=> Y1=TRUE) <=> Z1=TRUE)) &\n",
    "    Z0=FALSE & Z1=TRUE}"
   ]
  },
  {
   "cell_type": "markdown",
   "metadata": {},
   "source": [
    "As you can see, we have found four solutions and not three! One solution is 3+3=2.\n",
    "This is a typical issue when translating arithmetic to binary numbers: we have to prevent overflows."
   ]
  },
  {
   "cell_type": "code",
   "execution_count": 20,
   "metadata": {},
   "outputs": [
    {
     "data": {
      "text/plain": [
       "{((((((FALSE↦FALSE)↦FALSE)↦TRUE)↦FALSE)↦TRUE)↦FALSE),((((((FALSE↦TRUE)↦FALSE)↦FALSE)↦FALSE)↦TRUE)↦FALSE),((((((TRUE↦FALSE)↦TRUE)↦FALSE)↦FALSE)↦TRUE)↦TRUE)}"
      ]
     },
     "execution_count": 20,
     "metadata": {},
     "output_type": "execute_result"
    }
   ],
   "source": [
    "{X0,X1,Y0,Y1,Z0,Z1,CARRY0 | ((X0=TRUE <=> Y0=TRUE) <=> Z0=FALSE) & \n",
    "   ((X0=TRUE & Y0=TRUE) <=> CARRY0=TRUE) & \n",
    "   (CARRY0=FALSE => ((X1=TRUE <=> Y1=TRUE) <=> Z1=FALSE)) & \n",
    "   (CARRY0=TRUE => ((X1=TRUE <=> Y1=TRUE) <=> Z1=TRUE)) &\n",
    "   (CARRY0=TRUE => (X1=FALSE & Y1=FALSE)) & // no overflow\n",
    "   (CARRY0=FALSE => (X1=FALSE or Y1=FALSE)) & // no overflow\n",
    "    Z0=FALSE & Z1=TRUE}"
   ]
  },
  {
   "cell_type": "markdown",
   "metadata": {
    "slideshow": {
     "slide_type": "subslide"
    }
   },
   "source": [
    "In ProB, we can use **Kodkod** backend to achieve such a translation to SAT.\n",
    "- Kodkod is the API to the **Alloy** constraint analyzer and takes relational logic predicates and translates them to SAT.\n",
    "- The SAT problem can be solved by any SAT solver (Sat4J, minisat, glucose,...).\n",
    "- ProB translates parts of B to the Kodkod API and translates the results back to B values.\n",
    "- Prior to the translation, ProB performs an interval analysis to determine possible ranges for the integer decision variables.\n",
    "\n",
    "The details were presented at FM'2012."
   ]
  },
  {
   "cell_type": "code",
   "execution_count": 21,
   "metadata": {},
   "outputs": [
    {
     "name": "stdout",
     "output_type": "stream",
     "text": [
      "[2018-05-28 12:36:06,209, T+7177542] \"ProB Output Logger for instance 712ca57b\" de.prob.cli.ProBInstance.readAndLog(ConsoleListener.java:48): [INFO] kodkod ok:   x : 0 .. 2 & y : 0 .. 2 & x + y = 2  ints: irange(0,4), intatoms: none\u001b[0m\n",
      "[2018-05-28 12:36:06,212, T+7177545] \"ProB Output Logger for instance 712ca57b\" de.prob.cli.ProBInstance.readAndLog(ConsoleListener.java:48): [INFO] Times for computing solutions: [1,1,1]\u001b[0m\n"
     ]
    },
    {
     "data": {
      "text/plain": [
       "TRUE\n",
       "\n",
       "Solution:\n",
       "\tx = 2\n",
       "\ty = 0"
      ]
     },
     "execution_count": 21,
     "metadata": {},
     "output_type": "execute_result"
    }
   ],
   "source": [
    ":solve kodkod x:0..2 & y:0..2 & x+y=2"
   ]
  },
  {
   "cell_type": "markdown",
   "metadata": {},
   "source": [
    "We can find all solutions and check that we find exactly the three expected solutions:"
   ]
  },
  {
   "cell_type": "code",
   "execution_count": 24,
   "metadata": {
    "slideshow": {
     "slide_type": "fragment"
    }
   },
   "outputs": [
    {
     "name": "stdout",
     "output_type": "stream",
     "text": [
      "[2018-05-28 12:36:47,975, T+7219308] \"ProB Output Logger for instance 712ca57b\" de.prob.cli.ProBInstance.readAndLog(ConsoleListener.java:48): [INFO] kodkod ok:   {x,y|x : 0 .. 2 & y : 0 .. 2 & x + y = 2} = res  ints: irange(0,4), intatoms: irange(0,2)\u001b[0m\n",
      "[2018-05-28 12:36:47,977, T+7219310] \"ProB Output Logger for instance 712ca57b\" de.prob.cli.ProBInstance.readAndLog(ConsoleListener.java:48): [INFO] Times for computing solutions: [1]\u001b[0m\n"
     ]
    },
    {
     "data": {
      "text/plain": [
       "TRUE\n",
       "\n",
       "Solution:\n",
       "\tres = {(0↦2),(1↦1),(2↦0)}"
      ]
     },
     "execution_count": 24,
     "metadata": {},
     "output_type": "execute_result"
    }
   ],
   "source": [
    ":solve kodkod {x,y|x:0..2 & y:0..2 & x+y=2}=res"
   ]
  },
  {
   "cell_type": "markdown",
   "metadata": {},
   "source": [
    "#### Translation to SMTLib ####\n",
    "At iFM'2016 we (Krings et al.) presented a translation to SMTLib format to use either the Z3 or CVC4 SMT solver.\n",
    "Compared to the Kodkod backend, no translation to SAT is performed, SMTLib supports integer predicates and operators in the language.\n",
    "Here is ProB's SMTLib/Z3 API calls for the constraint:\n",
    "- mk_var(integer,x) $\\rightarrow$ 2\n",
    "- mk_var(integer,y) $\\rightarrow$ 3\n",
    "- mk_int_const(0) $\\rightarrow$ 4\n",
    "- mk_op(greater_equal,2,4) $\\rightarrow$ 5\n",
    "- mk_int_const(2) $\\rightarrow$ 6\n",
    "- mk_op(greater_equal,6,2) $\\rightarrow$ 7\n",
    "- mk_int_const(0) $\\rightarrow$ 8\n",
    "- mk_op(greater_equal,3,8) $\\rightarrow$ 9\n",
    "- mk_int_const(2) $\\rightarrow$ 10\n",
    "- mk_op(greater_equal,10,3) $\\rightarrow$ 11\n",
    "- mk_op(add,2,3) $\\rightarrow$ 12\n",
    "- mk_int_const(2) $\\rightarrow$ 13\n",
    "- mk_op(equal,12,13) $\\rightarrow$ 14\n",
    "- mk_op_arglist(conjunct,[5,7,9,11,14]) $\\rightarrow$ 15"
   ]
  },
  {
   "cell_type": "code",
   "execution_count": 25,
   "metadata": {},
   "outputs": [
    {
     "data": {
      "text/plain": [
       "TRUE\n",
       "\n",
       "Solution:\n",
       "\tx = 0\n",
       "\ty = 2"
      ]
     },
     "execution_count": 25,
     "metadata": {},
     "output_type": "execute_result"
    }
   ],
   "source": [
    ":solve z3 x:0..2 & y:0..2 & x+y=2"
   ]
  },
  {
   "cell_type": "markdown",
   "metadata": {
    "slideshow": {
     "slide_type": "subslide"
    }
   },
   "source": [
    "#### ProB's CLP(FD) Solver ####\n",
    "ProB's default solver makes use of constraint logic programming.\n",
    "For arithmetic, it builts on top of CLP(FD), the finite domain library of SICStus Prolog.\n",
    "In CLP(FD):\n",
    "- every integer variable is associated with a domain of possible values, typically an interval\n",
    "- when adding a new constraints, the domains of the involved variables are updated, or more precisely narrowed down.\n",
    "- at some point we need to chose variables for enumeration; typically ProB chooses the value with the smallest domain.\n",
    "\n",
    "Let us use a slightly adapted constraint ```x:0..9 & y:0..9 & x+y=2``` to illustrate how constraint processing works:\n",
    "\n",
    "- x:0..9 $\\leadsto$ x:0..9, y:$-\\infty$..$\\infty$\n",
    "- y:0..9 $\\leadsto$ x:0..9, y:0..9\n",
    "- x+y=2 $\\leadsto$ x:0..2, y:0..2\n",
    "- Enumerate (label) variable x\n",
    " - x=0 $\\leadsto$ x:0..0, y:2..2\n",
    " - x=1 $\\leadsto$ x:1..1, y:1..1\n",
    " - x=2 $\\leadsto$ x:2..2, y:0..0"
   ]
  },
  {
   "cell_type": "code",
   "execution_count": 33,
   "metadata": {},
   "outputs": [
    {
     "data": {
      "text/plain": [
       "TRUE\n",
       "\n",
       "Solution:\n",
       "\tP = 4\n",
       "\tA = 1\n",
       "\tS = 3\n",
       "\tI = 0\n",
       "\tK = 2\n",
       "\tN = 9\n",
       "\tO = 8"
      ]
     },
     "execution_count": 33,
     "metadata": {},
     "output_type": "execute_result"
    }
   ],
   "source": [
    ":solve prob {K,P} <: 1..9 & {I,S,A,O,N} <: 0..9 & (1000*K+100*I+10*S+S) * (1000*K+100*I+10*S+S)  =  1000000*P+100000*A+10000*S+1000*S+100*I+10*O+N & card({K, I, S, P, A, O, N}) = 7"
   ]
  },
  {
   "cell_type": "code",
   "execution_count": 31,
   "metadata": {},
   "outputs": [
    {
     "ename": "CommandExecutionException",
     "evalue": ":solve: Computation not completed: no solution found (but one might exist)",
     "output_type": "error",
     "traceback": [
      "\u001b[1m\u001b[31m:solve: Computation not completed: no solution found (but one might exist)\u001b[0m"
     ]
    }
   ],
   "source": [
    ":solve z3 {K,P} <: 1..9 & {I,S,A,O,N} <: 0..9 & (1000*K+100*I+10*S+S) * (1000*K+100*I+10*S+S)  =  1000000*P+100000*A+10000*S+1000*S+100*I+10*O+N & card({K, I, S, P, A, O, N}) = 7"
   ]
  },
  {
   "cell_type": "code",
   "execution_count": 32,
   "metadata": {},
   "outputs": [
    {
     "name": "stdout",
     "output_type": "stream",
     "text": [
      "[2018-05-28 13:16:28,635, T+9599968] \"ProB Output Logger for instance 712ca57b\" de.prob.cli.ProBInstance.readAndLog(ConsoleListener.java:48): [INFO] kodkod ok:   K : 1 .. 9 & P : 1 .. 9 & I : 0 .. 9 & S : 0 .. 9 ...  ints: irange(0,99980001), intatoms: irange(0,9)\u001b[0m\n",
      "[2018-05-28 13:16:28,636, T+9599969] \"ProB Output Logger for instance 712ca57b\" de.prob.cli.ProBInstance.readAndLog(ConsoleListener.java:48): [INFO] Times for computing solutions: [679]\u001b[0m\n"
     ]
    },
    {
     "data": {
      "text/plain": [
       "TRUE\n",
       "\n",
       "Solution:\n",
       "\tP = 4\n",
       "\tA = 1\n",
       "\tS = 3\n",
       "\tI = 0\n",
       "\tK = 2\n",
       "\tN = 9\n",
       "\tO = 8"
      ]
     },
     "execution_count": 32,
     "metadata": {},
     "output_type": "execute_result"
    }
   ],
   "source": [
    ":solve kodkod {K,P} <: 1..9 & {I,S,A,O,N} <: 0..9 & (1000*K+100*I+10*S+S) * (1000*K+100*I+10*S+S)  =  1000000*P+100000*A+10000*S+1000*S+100*I+10*O+N & card({K, I, S, P, A, O, N}) = 7"
   ]
  },
  {
   "cell_type": "markdown",
   "metadata": {},
   "source": [
    "Result for KISS*KISS=PASSION puzzle:\n",
    "\n",
    "Solver | Runtime\n",
    "-------|-------\n",
    "ProB Default | 0.01 sec\n",
    "Kodkod Backend | 1 sec\n",
    "Z3 Backend | ? > 100 sec"
   ]
  },
  {
   "cell_type": "markdown",
   "metadata": {},
   "source": [
    "### Unbounded integers ###\n",
    "The SAT translation via Kodkod/Alloy requires to determine the bid width.\n",
    "It cannot be applied to unbounded integers.\n",
    "Even for bounded integers it is quite tricky to get the bid widths correct: one needs also to take care of intermediate results. Alloy can detect incorrect models where an overflow occured, but to our understanding not where an overflow prevented a model (e.g., use inside negation).\n",
    "\n",
    "SMTLib is more tailored towards proof than towards model finding; as such it has typically no/less issues with unbounded values.\n",
    "The ProB default solver can also deal with unbounded integers: it tries to narrow down domains to finite ones. If this fails, an unbounded variable is enumerated (partially) and an **enumeration warning** is generated. In case a solution is found, this warning is ignored, otherwise the result of ProB's analysis is **UNKNOWN**.\n",
    "Some inconsistencies cannot be detected by interval/domain propagation; here it helps to activate ProB's CHR module which performs some additional inferences.\n",
    "\n",
    "Let us perform some experiments."
   ]
  },
  {
   "cell_type": "code",
   "execution_count": 34,
   "metadata": {
    "slideshow": {
     "slide_type": "fragment"
    }
   },
   "outputs": [
    {
     "data": {
      "text/plain": [
       "TRUE\n",
       "\n",
       "Solution:\n",
       "\tx = −10"
      ]
     },
     "execution_count": 34,
     "metadata": {},
     "output_type": "execute_result"
    }
   ],
   "source": [
    ":solve z3 x*x=100"
   ]
  },
  {
   "cell_type": "markdown",
   "metadata": {
    "slideshow": {
     "slide_type": "subslide"
    }
   },
   "source": [
    "Here is an example where ProB generates an enumeration warning, but finds a solution:"
   ]
  },
  {
   "cell_type": "code",
   "execution_count": 52,
   "metadata": {},
   "outputs": [
    {
     "name": "stdout",
     "output_type": "stream",
     "text": [
      "[2018-05-28 13:33:04,444, T+10595777] \"ProB Output Logger for instance 712ca57b\" de.prob.cli.ProBInstance.readAndLog(ConsoleListener.java:48): [INFO] ### Warning: enumerating x : INTEGER : 6001:sup ---> 6001:6001\u001b[0m\n"
     ]
    },
    {
     "data": {
      "text/plain": [
       "TRUE\n",
       "\n",
       "Solution:\n",
       "\tx = 6001"
      ]
     },
     "execution_count": 52,
     "metadata": {},
     "output_type": "execute_result"
    }
   ],
   "source": [
    "x>100 & x mod 2000 = 1 & x mod 3000 = 1"
   ]
  },
  {
   "cell_type": "code",
   "execution_count": 53,
   "metadata": {},
   "outputs": [
    {
     "data": {
      "text/plain": [
       "TRUE\n",
       "\n",
       "Solution:\n",
       "\tx = 6001"
      ]
     },
     "execution_count": 53,
     "metadata": {},
     "output_type": "execute_result"
    }
   ],
   "source": [
    ":solve z3 x>100 & x mod 2000 = 1 & x mod 3000 = 1"
   ]
  },
  {
   "cell_type": "markdown",
   "metadata": {
    "slideshow": {
     "slide_type": "subslide"
    }
   },
   "source": [
    "Here ProB generates an enumeration warning and does not find a solution, hence the result is **UNKNOWN**. Here Z3 finds a solution."
   ]
  },
  {
   "cell_type": "code",
   "execution_count": 48,
   "metadata": {},
   "outputs": [
    {
     "name": "stdout",
     "output_type": "stream",
     "text": [
      "[2018-05-28 13:31:19,432, T+10490765] \"ProB Output Logger for instance 712ca57b\" de.prob.cli.ProBInstance.readAndLog(ConsoleListener.java:48): [INFO] ### Warning: enumerating x : INTEGER : 6001:sup ---> 6001:6001\u001b[0m\n"
     ]
    },
    {
     "ename": "CommandExecutionException",
     "evalue": ":solve: Computation not completed: no solution found (but one might exist)",
     "output_type": "error",
     "traceback": [
      "\u001b[1m\u001b[31m:solve: Computation not completed: no solution found (but one might exist)\u001b[0m"
     ]
    }
   ],
   "source": [
    ":solve prob x>100 & x mod 2000 = 1 & x mod 3000 = 1 & (x+x) mod 4501 = 0"
   ]
  },
  {
   "cell_type": "code",
   "execution_count": 43,
   "metadata": {},
   "outputs": [
    {
     "data": {
      "text/plain": [
       "TRUE\n",
       "\n",
       "Solution:\n",
       "\tx = 6756001"
      ]
     },
     "execution_count": 43,
     "metadata": {},
     "output_type": "execute_result"
    }
   ],
   "source": [
    ":solve z3 x>100 & x mod 2000 = 1 & x mod 3000 = 1 & (x+x) mod 4501 = 0"
   ]
  },
  {
   "cell_type": "markdown",
   "metadata": {
    "slideshow": {
     "slide_type": "subslide"
    }
   },
   "source": [
    "Here is an inconsistency which cannot be detected by CLP(FD)'s interval propagation. ProB can detect it with CHR enabled, but without the module the result is **UNKNOWN**."
   ]
  },
  {
   "cell_type": "code",
   "execution_count": 45,
   "metadata": {},
   "outputs": [
    {
     "data": {
      "text/plain": [
       "FALSE"
      ]
     },
     "execution_count": 45,
     "metadata": {},
     "output_type": "execute_result"
    }
   ],
   "source": [
    ":solve z3 x>y & y>x"
   ]
  },
  {
   "cell_type": "code",
   "execution_count": 47,
   "metadata": {},
   "outputs": [
    {
     "name": "stdout",
     "output_type": "stream",
     "text": [
      "[2018-05-28 13:31:04,544, T+10475877] \"ProB Output Logger for instance 712ca57b\" de.prob.cli.ProBInstance.readAndLog(ConsoleListener.java:48): [INFO] % Timeout when posting constraint:\u001b[0m\n",
      "[2018-05-28 13:31:04,545, T+10475878] \"ProB Output Logger for instance 712ca57b\" de.prob.cli.ProBInstance.readAndLog(ConsoleListener.java:48): [INFO] % kernel_objects:(_2097077#>0)\u001b[0m\n",
      "[2018-05-28 13:31:04,545, T+10475878] \"ProB Output Logger for instance 712ca57b\" de.prob.cli.ProBInstance.readAndLog(ConsoleListener.java:48): [INFO] ### Warning: enumerating x : INTEGER : inf:sup ---> -1:3\u001b[0m\n"
     ]
    },
    {
     "ename": "CommandExecutionException",
     "evalue": ":solve: Computation not completed: no solution found (but one might exist)",
     "output_type": "error",
     "traceback": [
      "\u001b[1m\u001b[31m:solve: Computation not completed: no solution found (but one might exist)\u001b[0m"
     ]
    },
    {
     "name": "stdout",
     "output_type": "stream",
     "text": [
      "[2018-05-28 13:31:04,546, T+10475879] \"ProB Output Logger for instance 712ca57b\" de.prob.cli.ProBInstance.readAndLog(ConsoleListener.java:48): [INFO] % Timeout when posting constraint:\u001b[0m\n"
     ]
    }
   ],
   "source": [
    ":solve prob x>y &y>x"
   ]
  },
  {
   "cell_type": "markdown",
   "metadata": {},
   "source": [
    "### Summary for Integer Arithmetic ###\n",
    "\n",
    "Solver | Unbounded | Model Finding | Inconsistency Detection\n",
    "------|------------|---------------|---\n",
    "ProB CLP(FD) | yes | very good | limited with CHR\n",
    "ProB Z3 | yes | reasonable | very good\n",
    "ProB Kodkod | no | good | -\n"
   ]
  },
  {
   "cell_type": "code",
   "execution_count": null,
   "metadata": {},
   "outputs": [],
   "source": []
  }
 ],
 "metadata": {
  "celltoolbar": "Slideshow",
  "kernelspec": {
   "display_name": "ProB 2",
   "language": "prob",
   "name": "prob2"
  },
  "language_info": {
   "file_extension": ".prob",
   "mimetype": "text/x-prob",
   "name": "prob"
  }
 },
 "nbformat": 4,
 "nbformat_minor": 2
}
