{
 "cells": [
  {
   "cell_type": "code",
   "execution_count": 1,
   "metadata": {},
   "outputs": [
    {
     "data": {
      "text/markdown": [
       "```\n",
       ":version\n",
       "```\n",
       "\n",
       "Display version info about the ProB 2 Jupyter kernel, ProB 2, and the underlying ProB CLI."
      ],
      "text/plain": [
       ":version\n",
       "Display version info about the ProB 2 Jupyter kernel, ProB 2, and the underlying ProB CLI."
      ]
     },
     "execution_count": 1,
     "metadata": {},
     "output_type": "execute_result"
    }
   ],
   "source": [
    ":help :version"
   ]
  },
  {
   "cell_type": "code",
   "execution_count": 2,
   "metadata": {},
   "outputs": [
    {
     "data": {
      "text/plain": [
       "ProB 2 Jupyter kernel: 1.0.1-SNAPSHOT (2b75217bf8bef7737632efee1ebb1ddbd8cfefe6)\n",
       "ProB 2: 3.10.0 (0ee5d5eea6894b2899690565dfc3d9042098ce89)\n",
       "ProB CLI:\n",
       "\t1.9.3-final (64afef0148d6ce70f2af5082e69269c950078133)\n",
       "\tLast changed: Wed Feb 19 11:16:13 2020 +0100\n",
       "\tProlog: SICStus 4.5.1 (x86_64-darwin-17.7.0): Tue Apr  2 15:34:32 CEST 2019"
      ]
     },
     "execution_count": 2,
     "metadata": {},
     "output_type": "execute_result"
    }
   ],
   "source": [
    ":version"
   ]
  }
 ],
 "metadata": {
  "kernelspec": {
   "display_name": "ProB 2",
   "language": "prob",
   "name": "prob2"
  },
  "language_info": {
   "codemirror_mode": "prob2_jupyter_repl",
   "file_extension": ".prob",
   "mimetype": "text/x-prob2-jupyter-repl",
   "name": "prob"
  }
 },
 "nbformat": 4,
 "nbformat_minor": 2
}
