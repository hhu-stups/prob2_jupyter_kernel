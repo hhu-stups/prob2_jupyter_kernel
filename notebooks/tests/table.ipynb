{
 "cells": [
  {
   "cell_type": "code",
   "execution_count": 1,
   "metadata": {},
   "outputs": [
    {
     "data": {
      "text/markdown": [
       "```\n",
       ":table EXPRESSION\n",
       "```\n",
       "\n",
       "Display an expression as a table.\n",
       "\n",
       "Although any expression is accepted, this command is most useful for sets of tuples."
      ],
      "text/plain": [
       ":table EXPRESSION\n",
       "Display an expression as a table.\n",
       "\n",
       "Although any expression is accepted, this command is most useful for sets of tuples."
      ]
     },
     "execution_count": 1,
     "metadata": {},
     "output_type": "execute_result"
    }
   ],
   "source": [
    ":help :table"
   ]
  },
  {
   "cell_type": "code",
   "execution_count": 2,
   "metadata": {},
   "outputs": [
    {
     "data": {
      "text/plain": [
       "Executed operation: INITIALISATION()"
      ]
     },
     "execution_count": 2,
     "metadata": {},
     "output_type": "execute_result"
    }
   ],
   "source": [
    ":init"
   ]
  },
  {
   "cell_type": "code",
   "execution_count": 3,
   "metadata": {},
   "outputs": [
    {
     "data": {
      "text/markdown": [
       "|Elements|\n",
       "|---|\n",
       "|1|\n",
       "|2|\n",
       "|3|\n",
       "|4|\n"
      ],
      "text/plain": [
       "Elements\n",
       "1\n",
       "2\n",
       "3\n",
       "4\n"
      ]
     },
     "execution_count": 3,
     "metadata": {},
     "output_type": "execute_result"
    }
   ],
   "source": [
    ":table {1, 2, 3, 4}"
   ]
  },
  {
   "cell_type": "code",
   "execution_count": 4,
   "metadata": {},
   "outputs": [
    {
     "data": {
      "text/markdown": [
       "|prj1|prj2|\n",
       "|---|---|\n",
       "|1|1|\n",
       "|2|2|\n",
       "|3|3|\n",
       "|4|4|\n"
      ],
      "text/plain": [
       "prj1\tprj2\n",
       "1\t1\n",
       "2\t2\n",
       "3\t3\n",
       "4\t4\n"
      ]
     },
     "execution_count": 4,
     "metadata": {},
     "output_type": "execute_result"
    }
   ],
   "source": [
    ":table [1, 2, 3, 4]"
   ]
  },
  {
   "cell_type": "code",
   "execution_count": 5,
   "metadata": {},
   "outputs": [
    {
     "data": {
      "text/markdown": [
       "|prj11|prj12|prj2|\n",
       "|---|---|---|\n",
       "|1|2|3|\n",
       "|4|5|6|\n",
       "|7|8|9|\n"
      ],
      "text/plain": [
       "prj11\tprj12\tprj2\n",
       "1\t2\t3\n",
       "4\t5\t6\n",
       "7\t8\t9\n"
      ]
     },
     "execution_count": 5,
     "metadata": {},
     "output_type": "execute_result"
    }
   ],
   "source": [
    ":table {(1, 2, 3), (4, 5, 6), (7, 8, 9)}"
   ]
  },
  {
   "cell_type": "code",
   "execution_count": 6,
   "metadata": {},
   "outputs": [
    {
     "data": {
      "text/markdown": [
       "|prj1|prj2|\n",
       "|---|---|\n",
       "|∅|∅|\n"
      ],
      "text/plain": [
       "prj1\tprj2\n",
       "{}\t{}\n"
      ]
     },
     "execution_count": 6,
     "metadata": {},
     "output_type": "execute_result"
    }
   ],
   "source": [
    ":table {({}, {})}"
   ]
  },
  {
   "cell_type": "code",
   "execution_count": 7,
   "metadata": {},
   "outputs": [
    {
     "data": {
      "text/markdown": [
       "|prj1|prj2|\n",
       "|---|---|\n",
       "|{(1↦2),(3↦4)}|{(5↦6),(7↦8)}|\n",
       "|{(2↦1),(4↦3)}|{(6↦5),(8↦7)}|\n"
      ],
      "text/plain": [
       "prj1\tprj2\n",
       "{(1|->2),(3|->4)}\t{(5|->6),(7|->8)}\n",
       "{(2|->1),(4|->3)}\t{(6|->5),(8|->7)}\n"
      ]
     },
     "execution_count": 7,
     "metadata": {},
     "output_type": "execute_result"
    }
   ],
   "source": [
    ":table {({1|->2, 3|->4}, {5|->6, 7|->8}), ({2|->1, 4|->3}, {6|->5, 8|->7})}"
   ]
  },
  {
   "cell_type": "markdown",
   "metadata": {},
   "source": [
    "Local variables can be used in expressions visualised as table."
   ]
  },
  {
   "cell_type": "code",
   "execution_count": 8,
   "metadata": {},
   "outputs": [
    {
     "data": {
      "text/markdown": [
       "$\\{(1\\mapsto 2\\mapsto 3),(4\\mapsto 5\\mapsto 6),(7\\mapsto 8\\mapsto 9)\\}$"
      ],
      "text/plain": [
       "{(1↦2↦3),(4↦5↦6),(7↦8↦9)}"
      ]
     },
     "execution_count": 8,
     "metadata": {},
     "output_type": "execute_result"
    }
   ],
   "source": [
    ":let thing {(1, 2, 3), (4, 5, 6), (7, 8, 9)}"
   ]
  },
  {
   "cell_type": "code",
   "execution_count": 9,
   "metadata": {},
   "outputs": [
    {
     "data": {
      "text/markdown": [
       "|prj11|prj12|prj2|\n",
       "|---|---|---|\n",
       "|1|2|3|\n",
       "|4|5|6|\n",
       "|7|8|9|\n"
      ],
      "text/plain": [
       "prj11\tprj12\tprj2\n",
       "1\t2\t3\n",
       "4\t5\t6\n",
       "7\t8\t9\n"
      ]
     },
     "execution_count": 9,
     "metadata": {},
     "output_type": "execute_result"
    }
   ],
   "source": [
    ":table thing"
   ]
  }
 ],
 "metadata": {
  "kernelspec": {
   "display_name": "ProB 2",
   "language": "prob",
   "name": "prob2"
  },
  "language_info": {
   "codemirror_mode": "prob2_jupyter_repl",
   "file_extension": ".prob",
   "mimetype": "text/x-prob2-jupyter-repl",
   "name": "prob"
  }
 },
 "nbformat": 4,
 "nbformat_minor": 2
}
