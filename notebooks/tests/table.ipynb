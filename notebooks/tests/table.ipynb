{
 "cells": [
  {
   "cell_type": "code",
   "execution_count": 1,
   "metadata": {},
   "outputs": [
    {
     "data": {
      "text/markdown": [
       "```\n",
       ":table EXPRESSION\n",
       "```\n",
       "\n",
       "Display an expression as a table.\n",
       "\n",
       "Although any expression is accepted, this command is most useful for sets of tuples."
      ],
      "text/plain": [
       "```\n",
       ":table EXPRESSION\n",
       "```\n",
       "\n",
       "Display an expression as a table.\n",
       "\n",
       "Although any expression is accepted, this command is most useful for sets of tuples."
      ]
     },
     "execution_count": 1,
     "metadata": {},
     "output_type": "execute_result"
    }
   ],
   "source": [
    ":help :table"
   ]
  },
  {
   "cell_type": "code",
   "execution_count": 2,
   "metadata": {},
   "outputs": [
    {
     "data": {
      "text/plain": [
       "Machine initialised using operation 0: $initialise_machine()"
      ]
     },
     "execution_count": 2,
     "metadata": {},
     "output_type": "execute_result"
    }
   ],
   "source": [
    ":init"
   ]
  },
  {
   "cell_type": "code",
   "execution_count": 3,
   "metadata": {},
   "outputs": [
    {
     "data": {
      "text/markdown": [
       "|Nr|Elements|\n",
       "|---|---|\n",
       "|1|1|\n",
       "|2|2|\n",
       "|3|3|\n",
       "|4|4|\n"
      ],
      "text/plain": [
       "Nr\tElements\n",
       "1\t1\n",
       "2\t2\n",
       "3\t3\n",
       "4\t4\n"
      ]
     },
     "execution_count": 3,
     "metadata": {},
     "output_type": "execute_result"
    }
   ],
   "source": [
    ":table {1, 2, 3, 4}"
   ]
  },
  {
   "cell_type": "code",
   "execution_count": 4,
   "metadata": {},
   "outputs": [
    {
     "data": {
      "text/markdown": [
       "|Nr|prj1|prj2|\n",
       "|---|---|---|\n",
       "|1|1|1|\n",
       "|2|2|2|\n",
       "|3|3|3|\n",
       "|4|4|4|\n"
      ],
      "text/plain": [
       "Nr\tprj1\tprj2\n",
       "1\t1\t1\n",
       "2\t2\t2\n",
       "3\t3\t3\n",
       "4\t4\t4\n"
      ]
     },
     "execution_count": 4,
     "metadata": {},
     "output_type": "execute_result"
    }
   ],
   "source": [
    ":table [1, 2, 3, 4]"
   ]
  },
  {
   "cell_type": "code",
   "execution_count": 5,
   "metadata": {},
   "outputs": [
    {
     "data": {
      "text/markdown": [
       "|Nr|prj11|prj12|prj2|\n",
       "|---|---|---|---|\n",
       "|1|1|2|3|\n",
       "|2|4|5|6|\n",
       "|3|7|8|9|\n"
      ],
      "text/plain": [
       "Nr\tprj11\tprj12\tprj2\n",
       "1\t1\t2\t3\n",
       "2\t4\t5\t6\n",
       "3\t7\t8\t9\n"
      ]
     },
     "execution_count": 5,
     "metadata": {},
     "output_type": "execute_result"
    }
   ],
   "source": [
    ":table {(1, 2, 3), (4, 5, 6), (7, 8, 9)}"
   ]
  },
  {
   "cell_type": "code",
   "execution_count": 6,
   "metadata": {},
   "outputs": [
    {
     "data": {
      "text/markdown": [
       "|Nr|prj1|prj2|\n",
       "|---|---|---|\n",
       "|1|{}|{}|\n"
      ],
      "text/plain": [
       "Nr\tprj1\tprj2\n",
       "1\t{}\t{}\n"
      ]
     },
     "execution_count": 6,
     "metadata": {},
     "output_type": "execute_result"
    }
   ],
   "source": [
    ":table {({}, {})}"
   ]
  }
 ],
 "metadata": {
  "kernelspec": {
   "display_name": "ProB 2",
   "language": "prob",
   "name": "prob2"
  },
  "language_info": {
   "codemirror_mode": "prob2_jupyter_repl",
   "file_extension": ".prob",
   "mimetype": "text/x-prob2-jupyter-repl",
   "name": "prob"
  }
 },
 "nbformat": 4,
 "nbformat_minor": 2
}
