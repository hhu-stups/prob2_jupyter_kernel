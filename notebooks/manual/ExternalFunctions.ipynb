{
 "cells": [
  {
   "cell_type": "markdown",
   "metadata": {},
   "source": [
    "# External Functions\n",
    "## LibraryStrings\n",
    "\n",
    "In pure B there are only two built-in operators on strings: equality $=$ and inequality $\\neq$.\n",
    "This library provides several string manipulation functions, and assumes that STRINGS are\n",
    " sequences of unicode characters (in UTF-8 encoding).\n",
    "You can obtain the definitions below by putting the following into your DEFINITIONS clause:\n",
    "\n",
    "`DEFINITIONS \"LibraryStrings.def\"`\n",
    "\n",
    "The file `LibraryStrings.def` is bundled with ProB and can be found in the `stdlib` folder.\n",
    "You can also include the machine `LibraryStrings.mch` instead of the definition file;\n",
    " the machine defines some of the functions below as proper B functions (i.e., functions\n",
    " for which you can compute the domain and use constructs such as\n",
    " relational image)."
   ]
  },
  {
   "cell_type": "code",
   "execution_count": 1,
   "metadata": {},
   "outputs": [
    {
     "data": {
      "text/plain": [
       "Loaded machine: Jupyter_LibraryStrings"
      ]
     },
     "execution_count": 1,
     "metadata": {},
     "output_type": "execute_result"
    }
   ],
   "source": [
    "::load\n",
    "MACHINE Jupyter_LibraryStrings\n",
    "DEFINITIONS \"LibraryStrings.def\"\n",
    "END"
   ]
  },
  {
   "cell_type": "markdown",
   "metadata": {},
   "source": [
    "### STRING_APPEND\n",
    "\n",
    "This external function takes two strings and concatenates them.\n",
    "\n",
    "Type: $STRING \\times STRING \\rightarrow STRING $."
   ]
  },
  {
   "cell_type": "code",
   "execution_count": 198,
   "metadata": {},
   "outputs": [
    {
     "data": {
      "text/markdown": [
       "$\\text{\"abcabc\"}$"
      ],
      "text/plain": [
       "\"abcabc\""
      ]
     },
     "execution_count": 198,
     "metadata": {},
     "output_type": "execute_result"
    }
   ],
   "source": [
    "STRING_APPEND(\"abc\",\"abc\")"
   ]
  },
  {
   "cell_type": "code",
   "execution_count": 199,
   "metadata": {},
   "outputs": [
    {
     "data": {
      "text/markdown": [
       "$\\text{\"abc\"}$"
      ],
      "text/plain": [
       "\"abc\""
      ]
     },
     "execution_count": 199,
     "metadata": {},
     "output_type": "execute_result"
    }
   ],
   "source": [
    "STRING_APPEND(\"abc\",\"\")"
   ]
  },
  {
   "cell_type": "markdown",
   "metadata": {},
   "source": [
    "### STRING_LENGTH\n",
    "\n",
    "This external function takes a string and returns the length.\n",
    "\n",
    "Type: $STRING \\rightarrow INTEGER$."
   ]
  },
  {
   "cell_type": "code",
   "execution_count": 200,
   "metadata": {},
   "outputs": [
    {
     "data": {
      "text/markdown": [
       "$3$"
      ],
      "text/plain": [
       "3"
      ]
     },
     "execution_count": 200,
     "metadata": {},
     "output_type": "execute_result"
    }
   ],
   "source": [
    "STRING_LENGTH(\"abc\")"
   ]
  },
  {
   "cell_type": "code",
   "execution_count": 201,
   "metadata": {},
   "outputs": [
    {
     "data": {
      "text/markdown": [
       "$0$"
      ],
      "text/plain": [
       "0"
      ]
     },
     "execution_count": 201,
     "metadata": {},
     "output_type": "execute_result"
    }
   ],
   "source": [
    "STRING_LENGTH(\"\")"
   ]
  },
  {
   "cell_type": "markdown",
   "metadata": {},
   "source": [
    "### STRING_SPLIT\n",
    "\n",
    "This external function takes two strings and separates the first string\n",
    " according to the separator specified by the second string.\n",
    "\n",
    "Type: $STRING \\times STRING \\rightarrow \\mathit{seq}(STRING) $."
   ]
  },
  {
   "cell_type": "code",
   "execution_count": 202,
   "metadata": {},
   "outputs": [
    {
     "data": {
      "text/markdown": [
       "$\\{(1\\mapsto\\text{\"filename\"}),(2\\mapsto\\text{\"ext\"})\\}$"
      ],
      "text/plain": [
       "{(1↦\"filename\"),(2↦\"ext\")}"
      ]
     },
     "execution_count": 202,
     "metadata": {},
     "output_type": "execute_result"
    }
   ],
   "source": [
    "STRING_SPLIT(\"filename.ext\",\".\")"
   ]
  },
  {
   "cell_type": "code",
   "execution_count": 203,
   "metadata": {},
   "outputs": [
    {
     "data": {
      "text/markdown": [
       "$\\{(1\\mapsto\\text{\"filename.ext\"})\\}$"
      ],
      "text/plain": [
       "{(1↦\"filename.ext\")}"
      ]
     },
     "execution_count": 203,
     "metadata": {},
     "output_type": "execute_result"
    }
   ],
   "source": [
    "STRING_SPLIT(\"filename.ext\",\"/\")"
   ]
  },
  {
   "cell_type": "code",
   "execution_count": 204,
   "metadata": {},
   "outputs": [
    {
     "data": {
      "text/markdown": [
       "$[\\text{\"usr\"},\\text{\"local\"},\\text{\"lib\"}]$"
      ],
      "text/plain": [
       "[\"usr\",\"local\",\"lib\"]"
      ]
     },
     "execution_count": 204,
     "metadata": {},
     "output_type": "execute_result"
    }
   ],
   "source": [
    "STRING_SPLIT(\"usr/local/lib\",\"/\")"
   ]
  },
  {
   "cell_type": "code",
   "execution_count": 205,
   "metadata": {},
   "outputs": [
    {
     "data": {
      "text/markdown": [
       "$\\{(1\\mapsto\\text{\"\"})\\}$"
      ],
      "text/plain": [
       "{(1↦\"\")}"
      ]
     },
     "execution_count": 205,
     "metadata": {},
     "output_type": "execute_result"
    }
   ],
   "source": [
    "STRING_SPLIT(\"\",\".\")"
   ]
  },
  {
   "cell_type": "markdown",
   "metadata": {},
   "source": [
    "I am not sure the following result makes sense, maybe a sequence of all characters is more appropriate?"
   ]
  },
  {
   "cell_type": "code",
   "execution_count": 206,
   "metadata": {},
   "outputs": [
    {
     "data": {
      "text/markdown": [
       "$\\{(1\\mapsto\\text{\"usr/local/lib\"})\\}$"
      ],
      "text/plain": [
       "{(1↦\"usr/local/lib\")}"
      ]
     },
     "execution_count": 206,
     "metadata": {},
     "output_type": "execute_result"
    }
   ],
   "source": [
    "STRING_SPLIT(\"usr/local/lib\",\"\")"
   ]
  },
  {
   "cell_type": "code",
   "execution_count": 207,
   "metadata": {},
   "outputs": [
    {
     "data": {
      "text/markdown": [
       "$\\{(1\\mapsto\\text{\"usr/lo\"}),(2\\mapsto\\text{\"/lib\"})\\}$"
      ],
      "text/plain": [
       "{(1↦\"usr/lo\"),(2↦\"/lib\")}"
      ]
     },
     "execution_count": 207,
     "metadata": {},
     "output_type": "execute_result"
    }
   ],
   "source": [
    "STRING_SPLIT(\"usr/local/lib\",\"cal\")"
   ]
  },
  {
   "cell_type": "markdown",
   "metadata": {},
   "source": [
    "### STRING_JOIN\n",
    "This external function takes a sequence of strings and a separator string\n",
    " and joins the strings together inserting the separators as often as needed.\n",
    "It is the inverse of the `STRING_SPLIT` function.\n",
    "\n",
    "Type: $\\mathit{seq}(STRING) \\times STRING \\rightarrow STRING $."
   ]
  },
  {
   "cell_type": "code",
   "execution_count": 208,
   "metadata": {},
   "outputs": [
    {
     "data": {
      "text/markdown": [
       "$\\text{\"usr/local/lib\"}$"
      ],
      "text/plain": [
       "\"usr/local/lib\""
      ]
     },
     "execution_count": 208,
     "metadata": {},
     "output_type": "execute_result"
    }
   ],
   "source": [
    "STRING_JOIN([\"usr\",\"local\",\"lib\"],\"/\")"
   ]
  },
  {
   "cell_type": "code",
   "execution_count": 209,
   "metadata": {},
   "outputs": [
    {
     "data": {
      "text/markdown": [
       "$\\text{\"usr/local/lib\"}$"
      ],
      "text/plain": [
       "\"usr/local/lib\""
      ]
     },
     "execution_count": 209,
     "metadata": {},
     "output_type": "execute_result"
    }
   ],
   "source": [
    "STRING_JOIN([\"usr/lo\",\"/lib\"],\"cal\")"
   ]
  },
  {
   "cell_type": "code",
   "execution_count": 210,
   "metadata": {},
   "outputs": [
    {
     "data": {
      "text/markdown": [
       "$\\text{\"usr/local/lib\"}$"
      ],
      "text/plain": [
       "\"usr/local/lib\""
      ]
     },
     "execution_count": 210,
     "metadata": {},
     "output_type": "execute_result"
    }
   ],
   "source": [
    "STRING_JOIN([\"usr/local/lib\"],\"\")"
   ]
  },
  {
   "cell_type": "markdown",
   "metadata": {},
   "source": [
    "### STRING_CHARS\n",
    "\n",
    "This external function takes a strings splits it into a sequence\n",
    "of the individual characters. Each character is represented by a string.\n",
    "\n",
    "Type: $STRING \\rightarrow \\mathit{seq}(STRING) $."
   ]
  },
  {
   "cell_type": "code",
   "execution_count": 211,
   "metadata": {},
   "outputs": [
    {
     "data": {
      "text/markdown": [
       "$\\renewcommand{\\emptyset}{\\mathord\\varnothing}\\emptyset$"
      ],
      "text/plain": [
       "∅"
      ]
     },
     "execution_count": 211,
     "metadata": {},
     "output_type": "execute_result"
    }
   ],
   "source": [
    "STRING_CHARS(\"\")"
   ]
  },
  {
   "cell_type": "code",
   "execution_count": 212,
   "metadata": {},
   "outputs": [
    {
     "data": {
      "text/markdown": [
       "$[\\text{\"a\"},\\text{\"b\"},\\text{\"c\"}]$"
      ],
      "text/plain": [
       "[\"a\",\"b\",\"c\"]"
      ]
     },
     "execution_count": 212,
     "metadata": {},
     "output_type": "execute_result"
    }
   ],
   "source": [
    "STRING_CHARS(\"abc\")"
   ]
  },
  {
   "cell_type": "code",
   "execution_count": 213,
   "metadata": {},
   "outputs": [
    {
     "data": {
      "text/markdown": [
       "$\\text{\"a.b.c\"}$"
      ],
      "text/plain": [
       "\"a.b.c\""
      ]
     },
     "execution_count": 213,
     "metadata": {},
     "output_type": "execute_result"
    }
   ],
   "source": [
    "STRING_JOIN(STRING_CHARS(\"abc\"),\".\")"
   ]
  },
  {
   "cell_type": "markdown",
   "metadata": {},
   "source": [
    "### STRING_CODES\n",
    "\n",
    "This external function takes a strings splits it into a sequence\n",
    "of the individual characters. Each character is represented by a natural number\n",
    " (the ASCII or Unicode representation of the character).\n",
    "\n",
    "Type: $STRING \\rightarrow \\mathit{seq}(INTEGER) $."
   ]
  },
  {
   "cell_type": "code",
   "execution_count": 214,
   "metadata": {},
   "outputs": [
    {
     "data": {
      "text/markdown": [
       "$\\renewcommand{\\emptyset}{\\mathord\\varnothing}\\emptyset$"
      ],
      "text/plain": [
       "∅"
      ]
     },
     "execution_count": 214,
     "metadata": {},
     "output_type": "execute_result"
    }
   ],
   "source": [
    "STRING_CODES(\"\")"
   ]
  },
  {
   "cell_type": "code",
   "execution_count": 215,
   "metadata": {},
   "outputs": [
    {
     "data": {
      "text/markdown": [
       "$[65,90,32,97,122,32,48,57]$"
      ],
      "text/plain": [
       "[65,90,32,97,122,32,48,57]"
      ]
     },
     "execution_count": 215,
     "metadata": {},
     "output_type": "execute_result"
    }
   ],
   "source": [
    "STRING_CODES(\"AZ az 09\")"
   ]
  },
  {
   "cell_type": "markdown",
   "metadata": {},
   "source": [
    "### CODES_TO_STRING\n",
    "\n",
    "This external function is the inverse of the ```STRING_CODES``` function above.\n",
    "\n",
    "Type: $\\mathit{seq}(INTEGER)\\rightarrow  STRING$."
   ]
  },
  {
   "cell_type": "code",
   "execution_count": 2,
   "metadata": {},
   "outputs": [
    {
     "data": {
      "text/markdown": [
       "$\\text{\"ABC\"}$"
      ],
      "text/plain": [
       "\"ABC\""
      ]
     },
     "execution_count": 2,
     "metadata": {},
     "output_type": "execute_result"
    }
   ],
   "source": [
    "CODES_TO_STRING([65,66,67])"
   ]
  },
  {
   "cell_type": "markdown",
   "metadata": {},
   "source": [
    "### STRING_TO_UPPER\n",
    "\n",
    "This external function converts a string to upper-case letters. It currently converts also diacritical marks (this behaviour may in future be controlled by an additional flag or option).\n",
    "\n",
    "Type: $STRING \\rightarrow STRING $."
   ]
  },
  {
   "cell_type": "code",
   "execution_count": 3,
   "metadata": {},
   "outputs": [
    {
     "data": {
      "text/markdown": [
       "$\\text{\"ABC_ABC\"}$"
      ],
      "text/plain": [
       "\"ABC_ABC\""
      ]
     },
     "execution_count": 3,
     "metadata": {},
     "output_type": "execute_result"
    }
   ],
   "source": [
    "STRING_TO_UPPER(\"abc_ABC\")"
   ]
  },
  {
   "cell_type": "code",
   "execution_count": 7,
   "metadata": {},
   "outputs": [
    {
     "data": {
      "text/markdown": [
       "$\\text{\"AZ-AZ-09-AAOU-AO\"}$"
      ],
      "text/plain": [
       "\"AZ-AZ-09-AAOU-AO\""
      ]
     },
     "execution_count": 7,
     "metadata": {},
     "output_type": "execute_result"
    }
   ],
   "source": [
    "STRING_TO_UPPER(\"az-AZ-09-äàöù-ÄÖ\")"
   ]
  },
  {
   "cell_type": "code",
   "execution_count": 5,
   "metadata": {},
   "outputs": [
    {
     "data": {
      "text/markdown": [
       "$\\text{\"\"}$"
      ],
      "text/plain": [
       "\"\""
      ]
     },
     "execution_count": 5,
     "metadata": {},
     "output_type": "execute_result"
    }
   ],
   "source": [
    "STRING_TO_UPPER(\"\")"
   ]
  },
  {
   "cell_type": "markdown",
   "metadata": {},
   "source": [
    "### STRING_TO_LOWER\n",
    "\n",
    "This external function converts a string to lower-case letters. It currently converts also diacritical marks (this behaviour may in future be controlled by an additional flag or option).\n",
    "\n",
    "Type: $STRING \\rightarrow STRING $."
   ]
  },
  {
   "cell_type": "code",
   "execution_count": 2,
   "metadata": {},
   "outputs": [
    {
     "data": {
      "text/markdown": [
       "$\\text{\"az-az-09-aaou-ao\"}$"
      ],
      "text/plain": [
       "\"az-az-09-aaou-ao\""
      ]
     },
     "execution_count": 2,
     "metadata": {},
     "output_type": "execute_result"
    }
   ],
   "source": [
    "STRING_TO_LOWER(\"az-AZ-09-äàöù-ÄÖ\")"
   ]
  },
  {
   "cell_type": "markdown",
   "metadata": {},
   "source": [
    "### SUB_STRING\n",
    "\n",
    "This external function takes a strings a position and a sequence and produces a corresponding substring.\n",
    "The numbering starts at 1 and the position must be at least 1, but can extend beyond the end of the string.\n",
    "\n",
    "Type: $STRING \\times INTEGER \\times INTEGER \\rightarrow STRING $."
   ]
  },
  {
   "cell_type": "code",
   "execution_count": 216,
   "metadata": {},
   "outputs": [
    {
     "data": {
      "text/markdown": [
       "$\\text{\"abc\"}$"
      ],
      "text/plain": [
       "\"abc\""
      ]
     },
     "execution_count": 216,
     "metadata": {},
     "output_type": "execute_result"
    }
   ],
   "source": [
    "SUB_STRING(\"abcdefg\",1,3)"
   ]
  },
  {
   "cell_type": "code",
   "execution_count": 217,
   "metadata": {},
   "outputs": [
    {
     "data": {
      "text/markdown": [
       "$\\text{\"abcdefg\"}$"
      ],
      "text/plain": [
       "\"abcdefg\""
      ]
     },
     "execution_count": 217,
     "metadata": {},
     "output_type": "execute_result"
    }
   ],
   "source": [
    "SUB_STRING(\"abcdefg\",1,100)"
   ]
  },
  {
   "cell_type": "code",
   "execution_count": 218,
   "metadata": {},
   "outputs": [
    {
     "data": {
      "text/markdown": [
       "$\\text{\"de\"}$"
      ],
      "text/plain": [
       "\"de\""
      ]
     },
     "execution_count": 218,
     "metadata": {},
     "output_type": "execute_result"
    }
   ],
   "source": [
    "SUB_STRING(\"abcdefg\",4,2)"
   ]
  },
  {
   "cell_type": "code",
   "execution_count": 219,
   "metadata": {},
   "outputs": [
    {
     "data": {
      "text/markdown": [
       "$\\text{\"\"}$"
      ],
      "text/plain": [
       "\"\""
      ]
     },
     "execution_count": 219,
     "metadata": {},
     "output_type": "execute_result"
    }
   ],
   "source": [
    "SUB_STRING(\"abcdefg\",3,0)"
   ]
  },
  {
   "cell_type": "code",
   "execution_count": 220,
   "metadata": {},
   "outputs": [
    {
     "data": {
      "text/markdown": [
       "$\\text{\"\"}$"
      ],
      "text/plain": [
       "\"\""
      ]
     },
     "execution_count": 220,
     "metadata": {},
     "output_type": "execute_result"
    }
   ],
   "source": [
    "SUB_STRING(\"abcdefg\",11,3)"
   ]
  },
  {
   "cell_type": "markdown",
   "metadata": {},
   "source": [
    "### STRING_IS_INT"
   ]
  },
  {
   "cell_type": "markdown",
   "metadata": {},
   "source": [
    "\n",
    "This external predicate takes a string and is true if the string represents an integer.\n",
    "\n",
    "Type: $STRING $."
   ]
  },
  {
   "cell_type": "code",
   "execution_count": 221,
   "metadata": {},
   "outputs": [
    {
     "data": {
      "text/markdown": [
       "$\\mathit{TRUE}$"
      ],
      "text/plain": [
       "TRUE"
      ]
     },
     "execution_count": 221,
     "metadata": {},
     "output_type": "execute_result"
    }
   ],
   "source": [
    "STRING_IS_INT(\"1204\")"
   ]
  },
  {
   "cell_type": "code",
   "execution_count": 222,
   "metadata": {},
   "outputs": [
    {
     "data": {
      "text/markdown": [
       "$\\mathit{TRUE}$"
      ],
      "text/plain": [
       "TRUE"
      ]
     },
     "execution_count": 222,
     "metadata": {},
     "output_type": "execute_result"
    }
   ],
   "source": [
    "STRING_IS_INT(\"-1204\")"
   ]
  },
  {
   "cell_type": "code",
   "execution_count": 223,
   "metadata": {},
   "outputs": [
    {
     "data": {
      "text/markdown": [
       "$\\mathit{TRUE}$"
      ],
      "text/plain": [
       "TRUE"
      ]
     },
     "execution_count": 223,
     "metadata": {},
     "output_type": "execute_result"
    }
   ],
   "source": [
    "STRING_IS_INT(\" - 1204\")"
   ]
  },
  {
   "cell_type": "code",
   "execution_count": 224,
   "metadata": {},
   "outputs": [
    {
     "data": {
      "text/markdown": [
       "$\\mathit{FALSE}$"
      ],
      "text/plain": [
       "FALSE"
      ]
     },
     "execution_count": 224,
     "metadata": {},
     "output_type": "execute_result"
    }
   ],
   "source": [
    "STRING_IS_INT(\"1.1\")"
   ]
  },
  {
   "cell_type": "code",
   "execution_count": 225,
   "metadata": {},
   "outputs": [
    {
     "data": {
      "text/markdown": [
       "$\\mathit{FALSE}$"
      ],
      "text/plain": [
       "FALSE"
      ]
     },
     "execution_count": 225,
     "metadata": {},
     "output_type": "execute_result"
    }
   ],
   "source": [
    "STRING_IS_INT(\"1.0\")"
   ]
  },
  {
   "cell_type": "code",
   "execution_count": 226,
   "metadata": {},
   "outputs": [
    {
     "data": {
      "text/markdown": [
       "$\\mathit{FALSE}$"
      ],
      "text/plain": [
       "FALSE"
      ]
     },
     "execution_count": 226,
     "metadata": {},
     "output_type": "execute_result"
    }
   ],
   "source": [
    "STRING_IS_INT(\"a\")"
   ]
  },
  {
   "cell_type": "code",
   "execution_count": 227,
   "metadata": {},
   "outputs": [
    {
     "data": {
      "text/markdown": [
       "$\\mathit{TRUE}$"
      ],
      "text/plain": [
       "TRUE"
      ]
     },
     "execution_count": 227,
     "metadata": {},
     "output_type": "execute_result"
    }
   ],
   "source": [
    "STRING_IS_INT(\"1000000000000000000000000000\")"
   ]
  },
  {
   "cell_type": "code",
   "execution_count": 228,
   "metadata": {},
   "outputs": [
    {
     "data": {
      "text/markdown": [
       "$\\mathit{TRUE}$"
      ],
      "text/plain": [
       "TRUE"
      ]
     },
     "execution_count": 228,
     "metadata": {},
     "output_type": "execute_result"
    }
   ],
   "source": [
    "STRING_IS_INT(\"-00001\")"
   ]
  },
  {
   "cell_type": "code",
   "execution_count": 229,
   "metadata": {},
   "outputs": [
    {
     "data": {
      "text/markdown": [
       "$\\mathit{TRUE}$"
      ],
      "text/plain": [
       "TRUE"
      ]
     },
     "execution_count": 229,
     "metadata": {},
     "output_type": "execute_result"
    }
   ],
   "source": [
    "STRING_IS_INT(\"00002\")"
   ]
  },
  {
   "cell_type": "markdown",
   "metadata": {},
   "source": [
    "### STRING_TO_INT\n",
    "\n",
    "This external function takes a string and converts it into an integer.\n",
    "An error is raised if this cannot be done.\n",
    "It is safer to first check with `STRING_IS_INT` whether the conversion can be done.\n",
    "\n",
    "Type: $STRING \\rightarrow INTEGER$."
   ]
  },
  {
   "cell_type": "code",
   "execution_count": 230,
   "metadata": {},
   "outputs": [
    {
     "data": {
      "text/markdown": [
       "$1024$"
      ],
      "text/plain": [
       "1024"
      ]
     },
     "execution_count": 230,
     "metadata": {},
     "output_type": "execute_result"
    }
   ],
   "source": [
    "STRING_TO_INT(\"1024\")"
   ]
  },
  {
   "cell_type": "code",
   "execution_count": 231,
   "metadata": {},
   "outputs": [
    {
     "data": {
      "text/markdown": [
       "$-1$"
      ],
      "text/plain": [
       "−1"
      ]
     },
     "execution_count": 231,
     "metadata": {},
     "output_type": "execute_result"
    }
   ],
   "source": [
    "STRING_TO_INT(\" - 00001\")"
   ]
  },
  {
   "cell_type": "markdown",
   "metadata": {},
   "source": [
    "### INT_TO_STRING\n",
    "\n",
    "This external function converts an integer to a string representation.\n",
    "\n",
    "Type: $INTEGER  \\rightarrow STRING $."
   ]
  },
  {
   "cell_type": "code",
   "execution_count": 232,
   "metadata": {},
   "outputs": [
    {
     "data": {
      "text/markdown": [
       "$\\text{\"1024\"}$"
      ],
      "text/plain": [
       "\"1024\""
      ]
     },
     "execution_count": 232,
     "metadata": {},
     "output_type": "execute_result"
    }
   ],
   "source": [
    "INT_TO_STRING(1024)"
   ]
  },
  {
   "cell_type": "code",
   "execution_count": 233,
   "metadata": {},
   "outputs": [
    {
     "data": {
      "text/markdown": [
       "$\\text{\"-1024\"}$"
      ],
      "text/plain": [
       "\"-1024\""
      ]
     },
     "execution_count": 233,
     "metadata": {},
     "output_type": "execute_result"
    }
   ],
   "source": [
    "INT_TO_STRING(-1024)"
   ]
  },
  {
   "cell_type": "code",
   "execution_count": 234,
   "metadata": {},
   "outputs": [
    {
     "data": {
      "text/markdown": [
       "$\\text{\"-1\"}$"
      ],
      "text/plain": [
       "\"-1\""
      ]
     },
     "execution_count": 234,
     "metadata": {},
     "output_type": "execute_result"
    }
   ],
   "source": [
    "INT_TO_STRING(STRING_TO_INT(\" - 00001\"))"
   ]
  },
  {
   "cell_type": "code",
   "execution_count": 235,
   "metadata": {},
   "outputs": [
    {
     "data": {
      "text/markdown": [
       "$\\mathit{TRUE}$"
      ],
      "text/plain": [
       "TRUE"
      ]
     },
     "execution_count": 235,
     "metadata": {},
     "output_type": "execute_result"
    }
   ],
   "source": [
    "STRING_TO_INT(INT_TO_STRING(-1))=-1"
   ]
  },
  {
   "cell_type": "markdown",
   "metadata": {},
   "source": [
    "### DEC_STRING_TO_INT\n",
    "\n",
    "This external function takes a decimal string (with optional decimal places) and converts it to an integer with the given precision (rounding if required).\n",
    "\n",
    "Type: $STRING \\times INTEGER  \\rightarrow INTEGER$."
   ]
  },
  {
   "cell_type": "code",
   "execution_count": 236,
   "metadata": {},
   "outputs": [
    {
     "data": {
      "text/markdown": [
       "$1024$"
      ],
      "text/plain": [
       "1024"
      ]
     },
     "execution_count": 236,
     "metadata": {},
     "output_type": "execute_result"
    }
   ],
   "source": [
    "DEC_STRING_TO_INT(\"1024\",0)"
   ]
  },
  {
   "cell_type": "code",
   "execution_count": 237,
   "metadata": {},
   "outputs": [
    {
     "data": {
      "text/markdown": [
       "$102400$"
      ],
      "text/plain": [
       "102400"
      ]
     },
     "execution_count": 237,
     "metadata": {},
     "output_type": "execute_result"
    }
   ],
   "source": [
    "DEC_STRING_TO_INT(\"1024\",2)"
   ]
  },
  {
   "cell_type": "code",
   "execution_count": 238,
   "metadata": {},
   "outputs": [
    {
     "data": {
      "text/markdown": [
       "$102$"
      ],
      "text/plain": [
       "102"
      ]
     },
     "execution_count": 238,
     "metadata": {},
     "output_type": "execute_result"
    }
   ],
   "source": [
    "DEC_STRING_TO_INT(\"1024\",-1)"
   ]
  },
  {
   "cell_type": "code",
   "execution_count": 239,
   "metadata": {},
   "outputs": [
    {
     "data": {
      "text/markdown": [
       "$103$"
      ],
      "text/plain": [
       "103"
      ]
     },
     "execution_count": 239,
     "metadata": {},
     "output_type": "execute_result"
    }
   ],
   "source": [
    "DEC_STRING_TO_INT(\"1025\",-1)"
   ]
  },
  {
   "cell_type": "code",
   "execution_count": 240,
   "metadata": {},
   "outputs": [
    {
     "data": {
      "text/markdown": [
       "$-103$"
      ],
      "text/plain": [
       "−103"
      ]
     },
     "execution_count": 240,
     "metadata": {},
     "output_type": "execute_result"
    }
   ],
   "source": [
    "DEC_STRING_TO_INT(\" -1025\",-1)"
   ]
  },
  {
   "cell_type": "code",
   "execution_count": 241,
   "metadata": {},
   "outputs": [
    {
     "data": {
      "text/markdown": [
       "$102423$"
      ],
      "text/plain": [
       "102423"
      ]
     },
     "execution_count": 241,
     "metadata": {},
     "output_type": "execute_result"
    }
   ],
   "source": [
    "DEC_STRING_TO_INT(\"1024.234\",2)"
   ]
  },
  {
   "cell_type": "code",
   "execution_count": 242,
   "metadata": {},
   "outputs": [
    {
     "data": {
      "text/markdown": [
       "$10240000000000000000000000000000000000000000000000000000000000000000000000000000000000000000000000000000$"
      ],
      "text/plain": [
       "10240000000000000000000000000000000000000000000000000000000000000000000000000000000000000000000000000000"
      ]
     },
     "execution_count": 242,
     "metadata": {},
     "output_type": "execute_result"
    }
   ],
   "source": [
    "DEC_STRING_TO_INT(\"1024\",100)"
   ]
  },
  {
   "cell_type": "code",
   "execution_count": 243,
   "metadata": {},
   "outputs": [
    {
     "data": {
      "text/markdown": [
       "$\\mathit{TRUE}$"
      ],
      "text/plain": [
       "TRUE"
      ]
     },
     "execution_count": 243,
     "metadata": {},
     "output_type": "execute_result"
    }
   ],
   "source": [
    "DEC_STRING_TO_INT(\"10000000000000000000000000000000000\",-32)=100"
   ]
  },
  {
   "cell_type": "markdown",
   "metadata": {},
   "source": [
    "### INT_TO_DEC_STRING\n",
    "\n",
    "This external function converts an integer to a decimal string representation\n",
    " with the precision provided by the second argument.\n",
    "\n",
    "Type: $INTEGER  \\times INTEGER  \\rightarrow STRING $."
   ]
  },
  {
   "cell_type": "code",
   "execution_count": 244,
   "metadata": {},
   "outputs": [
    {
     "data": {
      "text/markdown": [
       "$\\text{\"12.04\"}$"
      ],
      "text/plain": [
       "\"12.04\""
      ]
     },
     "execution_count": 244,
     "metadata": {},
     "output_type": "execute_result"
    }
   ],
   "source": [
    "INT_TO_DEC_STRING(1204,2)"
   ]
  },
  {
   "cell_type": "code",
   "execution_count": 245,
   "metadata": {},
   "outputs": [
    {
     "data": {
      "text/markdown": [
       "$\\text{\"-1.204\"}$"
      ],
      "text/plain": [
       "\"-1.204\""
      ]
     },
     "execution_count": 245,
     "metadata": {},
     "output_type": "execute_result"
    }
   ],
   "source": [
    "INT_TO_DEC_STRING(-1204,3)"
   ]
  },
  {
   "cell_type": "code",
   "execution_count": 246,
   "metadata": {},
   "outputs": [
    {
     "data": {
      "text/markdown": [
       "$\\text{\"0.00\"}$"
      ],
      "text/plain": [
       "\"0.00\""
      ]
     },
     "execution_count": 246,
     "metadata": {},
     "output_type": "execute_result"
    }
   ],
   "source": [
    "INT_TO_DEC_STRING(0,2)"
   ]
  },
  {
   "cell_type": "code",
   "execution_count": 247,
   "metadata": {},
   "outputs": [
    {
     "data": {
      "text/markdown": [
       "$\\text{\"120400\"}$"
      ],
      "text/plain": [
       "\"120400\""
      ]
     },
     "execution_count": 247,
     "metadata": {},
     "output_type": "execute_result"
    }
   ],
   "source": [
    "INT_TO_DEC_STRING(1204,-2)"
   ]
  },
  {
   "cell_type": "code",
   "execution_count": 248,
   "metadata": {},
   "outputs": [
    {
     "data": {
      "text/markdown": [
       "$\\text{\"-0.010\"}$"
      ],
      "text/plain": [
       "\"-0.010\""
      ]
     },
     "execution_count": 248,
     "metadata": {},
     "output_type": "execute_result"
    }
   ],
   "source": [
    "INT_TO_DEC_STRING(-10,3)"
   ]
  },
  {
   "cell_type": "markdown",
   "metadata": {},
   "source": [
    "### INT_TO_HEX_STRING\n",
    "\n",
    "This external function converts an integer to a hexadecimal string representation.\n",
    "\n",
    "Type: $INTEGER  \\rightarrow STRING $."
   ]
  },
  {
   "cell_type": "code",
   "execution_count": 249,
   "metadata": {},
   "outputs": [
    {
     "data": {
      "text/markdown": [
       "$\\text{\"fe\"}$"
      ],
      "text/plain": [
       "\"fe\""
      ]
     },
     "execution_count": 249,
     "metadata": {},
     "output_type": "execute_result"
    }
   ],
   "source": [
    "INT_TO_HEX_STRING(254)"
   ]
  },
  {
   "cell_type": "code",
   "execution_count": 250,
   "metadata": {},
   "outputs": [
    {
     "data": {
      "text/markdown": [
       "$\\text{\"0\"}$"
      ],
      "text/plain": [
       "\"0\""
      ]
     },
     "execution_count": 250,
     "metadata": {},
     "output_type": "execute_result"
    }
   ],
   "source": [
    "INT_TO_HEX_STRING(0)"
   ]
  },
  {
   "cell_type": "code",
   "execution_count": 251,
   "metadata": {},
   "outputs": [
    {
     "data": {
      "text/markdown": [
       "$\\text{\"-fe\"}$"
      ],
      "text/plain": [
       "\"-fe\""
      ]
     },
     "execution_count": 251,
     "metadata": {},
     "output_type": "execute_result"
    }
   ],
   "source": [
    "INT_TO_HEX_STRING(-254)"
   ]
  },
  {
   "cell_type": "code",
   "execution_count": 252,
   "metadata": {},
   "outputs": [
    {
     "data": {
      "text/markdown": [
       "$\\text{\"fffffffffffffffffffffffff\"}$"
      ],
      "text/plain": [
       "\"fffffffffffffffffffffffff\""
      ]
     },
     "execution_count": 252,
     "metadata": {},
     "output_type": "execute_result"
    }
   ],
   "source": [
    "INT_TO_HEX_STRING(2**100-1)"
   ]
  },
  {
   "cell_type": "markdown",
   "metadata": {},
   "source": [
    "### TO_STRING\n",
    "\n",
    "This external function converts a B data value to a string representation.\n",
    "\n",
    "Type: $\\tau \\rightarrow STRING$."
   ]
  },
  {
   "cell_type": "code",
   "execution_count": 253,
   "metadata": {},
   "outputs": [
    {
     "data": {
      "text/markdown": [
       "$\\text{\"1024\"}$"
      ],
      "text/plain": [
       "\"1024\""
      ]
     },
     "execution_count": 253,
     "metadata": {},
     "output_type": "execute_result"
    }
   ],
   "source": [
    "TO_STRING(1024)"
   ]
  },
  {
   "cell_type": "code",
   "execution_count": 254,
   "metadata": {},
   "outputs": [
    {
     "data": {
      "text/markdown": [
       "$\\text{\"1024\"}$"
      ],
      "text/plain": [
       "\"1024\""
      ]
     },
     "execution_count": 254,
     "metadata": {},
     "output_type": "execute_result"
    }
   ],
   "source": [
    "TO_STRING(\"1024\")"
   ]
  },
  {
   "cell_type": "code",
   "execution_count": 255,
   "metadata": {},
   "outputs": [
    {
     "data": {
      "text/markdown": [
       "$\\text{\"{2,3,5}\"}$"
      ],
      "text/plain": [
       "\"{2,3,5}\""
      ]
     },
     "execution_count": 255,
     "metadata": {},
     "output_type": "execute_result"
    }
   ],
   "source": [
    "TO_STRING({2,3,5})"
   ]
  },
  {
   "cell_type": "code",
   "execution_count": 256,
   "metadata": {},
   "outputs": [
    {
     "data": {
      "text/markdown": [
       "$\\text{\"(TRUE|->3|->{(11|->rec(a:22,b:33))})\"}$"
      ],
      "text/plain": [
       "\"(TRUE|->3|->{(11|->rec(a:22,b:33))})\""
      ]
     },
     "execution_count": 256,
     "metadata": {},
     "output_type": "execute_result"
    }
   ],
   "source": [
    "TO_STRING((TRUE,3,{11|->rec(a:22,b:33)}))"
   ]
  },
  {
   "cell_type": "markdown",
   "metadata": {},
   "source": [
    "### FORMAT_TO_STRING\n",
    "This external function takes a format string and a B sequence of values and generates an output string, where the values have been inserted into the format string in place of the `~w` placeholders.\n",
    " - the length of sequence must correspond to the number of `~w` in the format string.\n",
    " - the format string follows the conventions of SICStus Prolog.\n",
    "    E.g., one can use `~n` for newlines.\n",
    "\n",
    "\n",
    "Type: $(STRING*seq(\\tau)) \\rightarrow STRING$."
   ]
  },
  {
   "cell_type": "code",
   "execution_count": 257,
   "metadata": {},
   "outputs": [
    {
     "data": {
      "text/markdown": [
       "$\\text{\"two to the power ten = 1024\"}$"
      ],
      "text/plain": [
       "\"two to the power ten = 1024\""
      ]
     },
     "execution_count": 257,
     "metadata": {},
     "output_type": "execute_result"
    }
   ],
   "source": [
    "FORMAT_TO_STRING(\"two to the power ten = ~w\",[2**10])"
   ]
  },
  {
   "cell_type": "code",
   "execution_count": 258,
   "metadata": {},
   "outputs": [
    {
     "data": {
      "text/markdown": [
       "$\\text{\"My two sets are {1,2} and {}\"}$"
      ],
      "text/plain": [
       "\"My two sets are {1,2} and {}\""
      ]
     },
     "execution_count": 258,
     "metadata": {},
     "output_type": "execute_result"
    }
   ],
   "source": [
    "FORMAT_TO_STRING(\"My two sets are ~w and ~w\",[1..2,2..1])"
   ]
  },
  {
   "cell_type": "markdown",
   "metadata": {},
   "source": [
    "#### Format Strings\n",
    "\n",
    "Various external functions and predicates work with format strings.\n",
    "ProB uses the conventions of the SICStus Prolog format string.\n",
    " - `~n` inserts a newline into the generated output\n",
    " - `~Nn` where N is a number: it inserts $N$ newlines into the output\n",
    " - `~w` inserts the next argument into the generated output\n",
    " - `~i` consumes the next argument but ignores it; i.e., nothing is inserted into the output\n",
    " - `~~` inserts the tilde symbol into the generated output\n",
    " - `~N` inserts a newline if not at the beginning of the line\n",
    "\n",
    "SICStus Prolog also uses a few other formatting codes, such as `~@`, `~p`,... which should not be used."
   ]
  },
  {
   "cell_type": "markdown",
   "metadata": {},
   "source": [
    "### STRINGIFY\n",
    "\n",
    "This external function converts a B expression to a string representation of the expression, not the value.\n",
    "It can be used to obtain the name of variables.\n",
    "Warning: ProB may simplify and rewrite expressions (you can turn this off by setting the OPTIMIZE_AST preference to false).\n",
    "\n",
    "Type: $\\tau \\rightarrow STRING$."
   ]
  },
  {
   "cell_type": "code",
   "execution_count": 259,
   "metadata": {},
   "outputs": [
    {
     "data": {
      "text/markdown": [
       "$\\text{\"dom({1 |-> 2})\"}$"
      ],
      "text/plain": [
       "\"dom({1 |-> 2})\""
      ]
     },
     "execution_count": 259,
     "metadata": {},
     "output_type": "execute_result"
    }
   ],
   "source": [
    "STRINGIFY(dom({1|->2}))"
   ]
  },
  {
   "cell_type": "markdown",
   "metadata": {},
   "source": [
    "Compare this with the result of TO_STRING:"
   ]
  },
  {
   "cell_type": "code",
   "execution_count": 260,
   "metadata": {},
   "outputs": [
    {
     "data": {
      "text/markdown": [
       "$\\text{\"{1}\"}$"
      ],
      "text/plain": [
       "\"{1}\""
      ]
     },
     "execution_count": 260,
     "metadata": {},
     "output_type": "execute_result"
    }
   ],
   "source": [
    "TO_STRING(dom({1|->2}))"
   ]
  },
  {
   "cell_type": "code",
   "execution_count": 261,
   "metadata": {},
   "outputs": [
    {
     "data": {
      "text/markdown": [
       "|stringify|tostring|\n",
       "|---|---|\n",
       "|$\\text{\"\\\"abc\\\"\"}$|$\\text{\"abc\"}$|\n"
      ],
      "text/plain": [
       "stringify\ttostring\n",
       "\"\\\"abc\\\"\"\t\"abc\"\n"
      ]
     },
     "execution_count": 261,
     "metadata": {},
     "output_type": "execute_result"
    }
   ],
   "source": [
    ":table rec(stringify:STRINGIFY(\"abc\"),tostring:TO_STRING(\"abc\"))"
   ]
  },
  {
   "cell_type": "markdown",
   "metadata": {},
   "source": [
    "## Choose Operators\n",
    "You can obtain access to the definitions below by putting the following into your DEFINITIONS clause:\n",
    " `DEFINITIONS \"CHOOSE.def\"`\n",
    "\n",
    "### Choose\n",
    "\n",
    "This external function takes a set and returns an element of the set.\n",
    "This is a proper mathematical function, i.e., it will always return the same value\n",
    "given the same argument.\n",
    "It is also known as Hilbert's operator.\n",
    "\n",
    "The operator raises an error when it is called with an empty set.\n",
    "Also, it is not guaranteed to work for infinite sets.\n",
    "\n",
    "Type: $POW(T) \\rightarrow T$."
   ]
  },
  {
   "cell_type": "code",
   "execution_count": 262,
   "metadata": {},
   "outputs": [
    {
     "data": {
      "text/plain": [
       "Loaded machine: Jupyter_CHOOSE"
      ]
     },
     "execution_count": 262,
     "metadata": {},
     "output_type": "execute_result"
    }
   ],
   "source": [
    "::load\n",
    "MACHINE Jupyter_CHOOSE\n",
    "DEFINITIONS \"CHOOSE.def\"\n",
    "END"
   ]
  },
  {
   "cell_type": "code",
   "execution_count": 263,
   "metadata": {},
   "outputs": [
    {
     "data": {
      "text/markdown": [
       "$1$"
      ],
      "text/plain": [
       "1"
      ]
     },
     "execution_count": 263,
     "metadata": {},
     "output_type": "execute_result"
    }
   ],
   "source": [
    "CHOOSE(1..3)"
   ]
  },
  {
   "cell_type": "code",
   "execution_count": 264,
   "metadata": {},
   "outputs": [
    {
     "data": {
      "text/markdown": [
       "$1$"
      ],
      "text/plain": [
       "1"
      ]
     },
     "execution_count": 264,
     "metadata": {},
     "output_type": "execute_result"
    }
   ],
   "source": [
    "CHOOSE({1,2,3})"
   ]
  },
  {
   "cell_type": "code",
   "execution_count": 265,
   "metadata": {},
   "outputs": [
    {
     "data": {
      "text/markdown": [
       "$\\text{\"a\"}$"
      ],
      "text/plain": [
       "\"a\""
      ]
     },
     "execution_count": 265,
     "metadata": {},
     "output_type": "execute_result"
    }
   ],
   "source": [
    "CHOOSE({\"a\",\"b\",\"c\"})"
   ]
  },
  {
   "cell_type": "code",
   "execution_count": 266,
   "metadata": {},
   "outputs": [
    {
     "data": {
      "text/markdown": [
       "$0$"
      ],
      "text/plain": [
       "0"
      ]
     },
     "execution_count": 266,
     "metadata": {},
     "output_type": "execute_result"
    }
   ],
   "source": [
    "CHOOSE(NATURAL)"
   ]
  },
  {
   "cell_type": "code",
   "execution_count": 267,
   "metadata": {},
   "outputs": [
    {
     "data": {
      "text/markdown": [
       "$0$"
      ],
      "text/plain": [
       "0"
      ]
     },
     "execution_count": 267,
     "metadata": {},
     "output_type": "execute_result"
    }
   ],
   "source": [
    "CHOOSE(INTEGER)"
   ]
  },
  {
   "cell_type": "markdown",
   "metadata": {},
   "source": [
    "The operator is useful for writing WHILE loops or recursive functions which manipulate sets.\n",
    "The following example defines a recursive summation function using the CHOOSE operator.\n",
    "\n",
    "```\n",
    "MACHINE RecursiveSigmaCHOOSEv3\n",
    "DEFINITIONS\n",
    "  \"Choose.def\"\n",
    "ABSTRACT_CONSTANTS sigma\n",
    "PROPERTIES\n",
    "  sigma: POW(INTEGER) <-> INTEGER &\n",
    "  sigma = %x.(x:POW(INTEGER) |\n",
    "              IF x={} THEN 0 ELSE\n",
    "                LET c BE c=CHOOSE(x) IN c+sigma(x-{c}) END\n",
    "              END\n",
    "              )\n",
    "ASSERTIONS\n",
    " sigma({3,5,7}) = 15;\n",
    "END\n",
    "```"
   ]
  },
  {
   "cell_type": "markdown",
   "metadata": {},
   "source": [
    "\n",
    "### MU\n",
    "\n",
    "Just like CHOOSE, this external function takes a set and returns an element of the set.\n",
    "In contrast to CHOOSE, it is only defined for singleton sets.\n",
    "The operator raises an error when it is called with an empty set or a set containing more than one element.\n",
    "\n",
    "Type: $POW(T) \\rightarrow T$."
   ]
  },
  {
   "cell_type": "code",
   "execution_count": 268,
   "metadata": {},
   "outputs": [
    {
     "data": {
      "text/markdown": [
       "$2$"
      ],
      "text/plain": [
       "2"
      ]
     },
     "execution_count": 268,
     "metadata": {},
     "output_type": "execute_result"
    }
   ],
   "source": [
    "MU({2})"
   ]
  },
  {
   "cell_type": "code",
   "execution_count": 269,
   "metadata": {},
   "outputs": [
    {
     "data": {
      "text/markdown": [
       "$3$"
      ],
      "text/plain": [
       "3"
      ]
     },
     "execution_count": 269,
     "metadata": {},
     "output_type": "execute_result"
    }
   ],
   "source": [
    "MU({2})+MU({x|x>0 & x<2})"
   ]
  },
  {
   "cell_type": "markdown",
   "metadata": {},
   "source": [
    "## Sorting Sets\n",
    "You can obtain access to the definitions below by putting the following into your DEFINITIONS clause:\n",
    "`DEFINITIONS \"SORT.def\"`\n",
    "\n",
    "Alternatively you can use the following if you use ProB prior to version 1.7.1:\n",
    "`\n",
    "DEFINITIONS\n",
    " SORT(X) == [];\n",
    " EXTERNAL_FUNCTION_SORT(T) == (POW(T)-->seq(T));\n",
    "`\n",
    "\n",
    "This external function SORT takes a set and translates it into a B sequence.\n",
    "It uses ProB's internal order for sorting the elements.\n",
    "It will not work for infinite sets.\n",
    "Type: $POW(\\tau) \\rightarrow seq(\\tau)$."
   ]
  },
  {
   "cell_type": "code",
   "execution_count": 270,
   "metadata": {},
   "outputs": [
    {
     "data": {
      "text/plain": [
       "Loaded machine: Jupyter_SORT"
      ]
     },
     "execution_count": 270,
     "metadata": {},
     "output_type": "execute_result"
    }
   ],
   "source": [
    "::load\n",
    "MACHINE Jupyter_SORT\n",
    "DEFINITIONS \"SORT.def\"\n",
    "END"
   ]
  },
  {
   "cell_type": "code",
   "execution_count": 271,
   "metadata": {},
   "outputs": [
    {
     "data": {
      "text/markdown": [
       "$[1,2,3]$"
      ],
      "text/plain": [
       "[1,2,3]"
      ]
     },
     "execution_count": 271,
     "metadata": {},
     "output_type": "execute_result"
    }
   ],
   "source": [
    "SORT(1..3)"
   ]
  },
  {
   "cell_type": "code",
   "execution_count": 272,
   "metadata": {},
   "outputs": [
    {
     "data": {
      "text/markdown": [
       "$[6,9,27]$"
      ],
      "text/plain": [
       "[6,9,27]"
      ]
     },
     "execution_count": 272,
     "metadata": {},
     "output_type": "execute_result"
    }
   ],
   "source": [
    "SORT({3*3,3+3,3**3})"
   ]
  },
  {
   "cell_type": "code",
   "execution_count": 273,
   "metadata": {},
   "outputs": [
    {
     "data": {
      "text/markdown": [
       "$[\\text{\"1\"},\\text{\"10\"},\\text{\"11\"},\\text{\"2\"},\\text{\"a\"},\\text{\"aa\"},\\text{\"ab\"},\\text{\"b\"}]$"
      ],
      "text/plain": [
       "[\"1\",\"10\",\"11\",\"2\",\"a\",\"aa\",\"ab\",\"b\"]"
      ]
     },
     "execution_count": 273,
     "metadata": {},
     "output_type": "execute_result"
    }
   ],
   "source": [
    "SORT({\"ab\",\"aa\",\"a\",\"b\",\"10\",\"1\",\"2\",\"11\"})"
   ]
  },
  {
   "cell_type": "code",
   "execution_count": 274,
   "metadata": {},
   "outputs": [
    {
     "data": {
      "text/markdown": [
       "$[(\\text{\"a\"}\\mapsto 0),(\\text{\"a\"}\\mapsto 1),(\\text{\"b\"}\\mapsto 0)]$"
      ],
      "text/plain": [
       "[(\"a\"↦0),(\"a\"↦1),(\"b\"↦0)]"
      ]
     },
     "execution_count": 274,
     "metadata": {},
     "output_type": "execute_result"
    }
   ],
   "source": [
    "SORT({(\"a\"|->1),(\"b\"|->0),(\"a\"|->0)})"
   ]
  },
  {
   "cell_type": "markdown",
   "metadata": {},
   "source": [
    "A related external function is LEQ_SYM_BREAK which allows one to compare values of arbitrary type.\n",
    "Calls to this external function are automatically\n",
    "inserted by ProB for symmetry breaking of quantifiers.\n",
    "It should currently not be used for sets or sequences."
   ]
  },
  {
   "cell_type": "markdown",
   "metadata": {},
   "source": [
    "The SORT.def file also contains a definition for the SQUASH operator which takes a sequence with gaps and completes it into a proper sequence:"
   ]
  },
  {
   "cell_type": "code",
   "execution_count": 275,
   "metadata": {},
   "outputs": [
    {
     "data": {
      "text/markdown": [
       "$[\\text{\"a\"},\\text{\"b\"},\\text{\"c\"},\\text{\"c\"},\\text{\"d\"}]$"
      ],
      "text/plain": [
       "[\"a\",\"b\",\"c\",\"c\",\"d\"]"
      ]
     },
     "execution_count": 275,
     "metadata": {},
     "output_type": "execute_result"
    }
   ],
   "source": [
    "SQUASH({0|->\"a\",100|->\"c\",1001 |->\"d\",4|->\"b\", 44|->\"c\"})"
   ]
  },
  {
   "cell_type": "markdown",
   "metadata": {},
   "source": [
    "## Strongly Connected Components\n",
    "You can obtain access to the definitions below by putting the following into your DEFINITIONS clause:\n",
    "`DEFINITIONS \"SCCS.def\"`\n",
    "\n",
    "Alternatively you can use the following if you use ProB prior to version 1.9.0:\n",
    "`\n",
    "DEFINITIONS\n",
    "  EXTERNAL_FUNCTION_SCCS(T) == (T<->T) --> POW(POW(T));\n",
    "  SCCS(relation) == {};\n",
    "`\n",
    "\n",
    "This external function SCCS takes a binary relation and computes the set of strongly connected components.\n",
    "Type: $POW(\\tau \\times \\tau) \\rightarrow POW(POW(\\tau))$."
   ]
  },
  {
   "cell_type": "code",
   "execution_count": 276,
   "metadata": {},
   "outputs": [
    {
     "data": {
      "text/plain": [
       "Loaded machine: Jupyter_SCCS"
      ]
     },
     "execution_count": 276,
     "metadata": {},
     "output_type": "execute_result"
    }
   ],
   "source": [
    "::load\n",
    "MACHINE Jupyter_SCCS\n",
    "DEFINITIONS \"SCCS.def\"\n",
    "END"
   ]
  },
  {
   "cell_type": "code",
   "execution_count": 277,
   "metadata": {},
   "outputs": [
    {
     "data": {
      "text/markdown": [
       "$\\{\\{1,2\\},\\{3,4\\}\\}$"
      ],
      "text/plain": [
       "{{1,2},{3,4}}"
      ]
     },
     "execution_count": 277,
     "metadata": {},
     "output_type": "execute_result"
    }
   ],
   "source": [
    "SCCS({1|->2,2|->1,2|->3,3|->4,4|->3})"
   ]
  },
  {
   "cell_type": "code",
   "execution_count": 278,
   "metadata": {},
   "outputs": [
    {
     "data": {
      "image/svg+xml": [
       "<?xml version=\"1.0\" encoding=\"UTF-8\" standalone=\"no\"?>\n",
       "<!DOCTYPE svg PUBLIC \"-//W3C//DTD SVG 1.1//EN\"\n",
       " \"http://www.w3.org/Graphics/SVG/1.1/DTD/svg11.dtd\">\n",
       "<!-- Generated by graphviz version 2.28.0 (20110509.1545)\n",
       " -->\n",
       "<!-- Title: state Pages: 1 -->\n",
       "<svg width=\"176pt\" height=\"134pt\"\n",
       " viewBox=\"0.00 0.00 176.00 134.00\" xmlns=\"http://www.w3.org/2000/svg\" xmlns:xlink=\"http://www.w3.org/1999/xlink\">\n",
       "<g id=\"graph1\" class=\"graph\" transform=\"scale(1 1) rotate(0) translate(4 130)\">\n",
       "<title>state</title>\n",
       "<polygon fill=\"white\" stroke=\"white\" points=\"-4,5 -4,-130 173,-130 173,5 -4,5\"/>\n",
       "<!-- 4 -->\n",
       "<g id=\"node1\" class=\"node\"><title>4</title>\n",
       "<polygon fill=\"#cdba96\" stroke=\"#cdba96\" points=\"54,-126 0,-126 0,-90 54,-90 54,-126\"/>\n",
       "<text text-anchor=\"middle\" x=\"27\" y=\"-103.8\" font-family=\"Times,serif\" font-size=\"14.00\">4</text>\n",
       "</g>\n",
       "<!-- 3 -->\n",
       "<g id=\"node3\" class=\"node\"><title>3</title>\n",
       "<polygon fill=\"#cdba96\" stroke=\"#cdba96\" points=\"73,-36 19,-36 19,-0 73,-0 73,-36\"/>\n",
       "<text text-anchor=\"middle\" x=\"46\" y=\"-13.8\" font-family=\"Times,serif\" font-size=\"14.00\">3</text>\n",
       "</g>\n",
       "<!-- 4&#45;&gt;3 -->\n",
       "<g id=\"edge2\" class=\"edge\"><title>4&#45;&gt;3</title>\n",
       "<path fill=\"none\" stroke=\"firebrick\" d=\"M14.7127,-89.5479C8.92229,-79.0815 4.26329,-65.5953 9.2342,-54 10.7469,-50.4715 12.8093,-47.1304 15.1907,-44.0151\"/>\n",
       "<polygon fill=\"firebrick\" stroke=\"firebrick\" points=\"18.016,-46.1066 22.0804,-36.3224 12.8016,-41.4365 18.016,-46.1066\"/>\n",
       "<text text-anchor=\"middle\" x=\"17.3829\" y=\"-58.8\" font-family=\"Times,serif\" font-size=\"14.00\">rel</text>\n",
       "</g>\n",
       "<!-- 3&#45;&gt;4 -->\n",
       "<g id=\"edge4\" class=\"edge\"><title>3&#45;&gt;4</title>\n",
       "<path fill=\"none\" stroke=\"firebrick\" d=\"M42.3187,-36.0504C39.6388,-48.4624 35.9542,-65.5279 32.8703,-79.8114\"/>\n",
       "<polygon fill=\"firebrick\" stroke=\"firebrick\" points=\"29.4432,-79.1006 30.7538,-89.614 36.2855,-80.578 29.4432,-79.1006\"/>\n",
       "<text text-anchor=\"middle\" x=\"46.3829\" y=\"-58.8\" font-family=\"Times,serif\" font-size=\"14.00\">rel</text>\n",
       "</g>\n",
       "<!-- 2 -->\n",
       "<g id=\"node5\" class=\"node\"><title>2</title>\n",
       "<polygon fill=\"#cdba96\" stroke=\"#cdba96\" points=\"149,-126 95,-126 95,-90 149,-90 149,-126\"/>\n",
       "<text text-anchor=\"middle\" x=\"122\" y=\"-103.8\" font-family=\"Times,serif\" font-size=\"14.00\">2</text>\n",
       "</g>\n",
       "<!-- 2&#45;&gt;3 -->\n",
       "<g id=\"edge6\" class=\"edge\"><title>2&#45;&gt;3</title>\n",
       "<path fill=\"none\" stroke=\"firebrick\" d=\"M106.985,-89.614C95.6699,-76.5125 79.9997,-58.3681 67.3773,-43.7526\"/>\n",
       "<polygon fill=\"firebrick\" stroke=\"firebrick\" points=\"69.9105,-41.331 60.7254,-36.0504 64.6127,-45.9064 69.9105,-41.331\"/>\n",
       "<text text-anchor=\"middle\" x=\"98.3829\" y=\"-58.8\" font-family=\"Times,serif\" font-size=\"14.00\">rel</text>\n",
       "</g>\n",
       "<!-- 1 -->\n",
       "<g id=\"node8\" class=\"node\"><title>1</title>\n",
       "<polygon fill=\"#cdba96\" stroke=\"#cdba96\" points=\"168,-36 114,-36 114,-0 168,-0 168,-36\"/>\n",
       "<text text-anchor=\"middle\" x=\"141\" y=\"-13.8\" font-family=\"Times,serif\" font-size=\"14.00\">1</text>\n",
       "</g>\n",
       "<!-- 2&#45;&gt;1 -->\n",
       "<g id=\"edge8\" class=\"edge\"><title>2&#45;&gt;1</title>\n",
       "<path fill=\"none\" stroke=\"firebrick\" d=\"M120.481,-89.5538C120.042,-79.0894 120.315,-65.6034 123.234,-54 123.951,-51.1501 124.931,-48.2672 126.064,-45.4432\"/>\n",
       "<polygon fill=\"firebrick\" stroke=\"firebrick\" points=\"129.318,-46.747 130.352,-36.2028 122.968,-43.8007 129.318,-46.747\"/>\n",
       "<text text-anchor=\"middle\" x=\"131.383\" y=\"-58.8\" font-family=\"Times,serif\" font-size=\"14.00\">rel</text>\n",
       "</g>\n",
       "<!-- 1&#45;&gt;2 -->\n",
       "<g id=\"edge10\" class=\"edge\"><title>1&#45;&gt;2</title>\n",
       "<path fill=\"none\" stroke=\"firebrick\" d=\"M141.627,-36.427C141.607,-46.8845 140.879,-60.3701 138,-72 137.331,-74.7036 136.455,-77.4548 135.458,-80.1664\"/>\n",
       "<polygon fill=\"firebrick\" stroke=\"firebrick\" points=\"132.117,-79.0831 131.468,-89.658 138.57,-81.7962 132.117,-79.0831\"/>\n",
       "<text text-anchor=\"middle\" x=\"147.383\" y=\"-58.8\" font-family=\"Times,serif\" font-size=\"14.00\">rel</text>\n",
       "</g>\n",
       "</g>\n",
       "</svg>"
      ],
      "text/plain": [
       "<Dot visualization: expr_as_graph [(\"rel\",{(1,2),(2,1),(2,3),(3,4),(4,3)})]>"
      ]
     },
     "execution_count": 278,
     "metadata": {},
     "output_type": "execute_result"
    }
   ],
   "source": [
    ":dot expr_as_graph (\"rel\",{1|->2,2|->1,2|->3,3|->4,4|->3})"
   ]
  },
  {
   "cell_type": "code",
   "execution_count": 279,
   "metadata": {},
   "outputs": [
    {
     "data": {
      "text/markdown": [
       "$\\{\\{2,3,4,5,6,7,8,9,10,11,12,13,14,15,16,17,18,19,20,21,22,23,24,25,26,27,28,29,30,31,32,33,34,35,36,37,38,39,40,41,42,43,44,45,46,47,48,49,50,51,52,54,55,56,57,58,60,62,63,64,65,66,68,69,70,72,74,75,76,77,78,80,81,82,84,85,86,87,88,90,91,92,93,94,95,96,98,99,100\\},\\{53\\},\\{59\\},\\{61\\},\\{67\\},\\{71\\},\\{73\\},\\{79\\},\\{83\\},\\{89\\},\\{97\\}\\}$"
      ],
      "text/plain": [
       "{{2,3,4,5,6,7,8,9,10,11,12,13,14,15,16,17,18,19,20,21,22,23,24,25,26,27,28,29,30,31,32,33,34,35,36,37,38,39,40,41,42,43,44,45,46,47,48,49,50,51,52,54,55,56,57,58,60,62,63,64,65,66,68,69,70,72,74,75,76,77,78,80,81,82,84,85,86,87,88,90,91,92,93,94,95,96,98,99,100},{53},{59},{61},{67},{71},{73},{79},{83},{89},{97}}"
      ]
     },
     "execution_count": 279,
     "metadata": {},
     "output_type": "execute_result"
    }
   ],
   "source": [
    "SCCS({x,y|x:2..100 & y:2..100 & (x mod y = 0 or y mod x =0)})"
   ]
  },
  {
   "cell_type": "markdown",
   "metadata": {},
   "source": [
    "## LibraryMeta\n",
    "This library provides various meta information about ProB and the current model.\n",
    "You can obtain the definitions below by putting the following into your DEFINITIONS clause:\n",
    "\n",
    "`DEFINITIONS \"LibraryMeta.def\"`\n",
    "\n",
    "The file `LibraryMeta.def` is also bundled with ProB and can be found in the `stdlib` folder."
   ]
  },
  {
   "cell_type": "code",
   "execution_count": 280,
   "metadata": {},
   "outputs": [
    {
     "data": {
      "text/plain": [
       "Loaded machine: Jupyter_LibraryMeta"
      ]
     },
     "execution_count": 280,
     "metadata": {},
     "output_type": "execute_result"
    }
   ],
   "source": [
    "::load\n",
    "MACHINE Jupyter_LibraryMeta\n",
    "DEFINITIONS \"LibraryMeta.def\"\n",
    "END"
   ]
  },
  {
   "cell_type": "markdown",
   "metadata": {},
   "source": [
    "### PROB_INFO_STR\n",
    "This external function provides access to various information strings about ProB.\n",
    "Type: $STRING \\rightarrow STRING$."
   ]
  },
  {
   "cell_type": "code",
   "execution_count": 281,
   "metadata": {},
   "outputs": [
    {
     "data": {
      "text/markdown": [
       "$\\text{\"1.9.0-beta8\"}$"
      ],
      "text/plain": [
       "\"1.9.0-beta8\""
      ]
     },
     "execution_count": 281,
     "metadata": {},
     "output_type": "execute_result"
    }
   ],
   "source": [
    "PROB_INFO_STR(\"prob-version\")"
   ]
  },
  {
   "cell_type": "code",
   "execution_count": 282,
   "metadata": {},
   "outputs": [
    {
     "data": {
      "text/markdown": [
       "$\\text{\"2a32153ac44523a5f93b0a999f9c42198b9360dc\"}$"
      ],
      "text/plain": [
       "\"2a32153ac44523a5f93b0a999f9c42198b9360dc\""
      ]
     },
     "execution_count": 282,
     "metadata": {},
     "output_type": "execute_result"
    }
   ],
   "source": [
    "PROB_INFO_STR(\"prob-revision\")"
   ]
  },
  {
   "cell_type": "code",
   "execution_count": 283,
   "metadata": {},
   "outputs": [
    {
     "data": {
      "text/markdown": [
       "$\\text{\"Thu Feb 28 13:02:03 2019 +0100\"}$"
      ],
      "text/plain": [
       "\"Thu Feb 28 13:02:03 2019 +0100\""
      ]
     },
     "execution_count": 283,
     "metadata": {},
     "output_type": "execute_result"
    }
   ],
   "source": [
    "PROB_INFO_STR(\"prob-last-changed-date\")"
   ]
  },
  {
   "cell_type": "code",
   "execution_count": 284,
   "metadata": {},
   "outputs": [
    {
     "data": {
      "text/markdown": [
       "$\\text{\"1.8.0_202-b08\"}$"
      ],
      "text/plain": [
       "\"1.8.0_202-b08\""
      ]
     },
     "execution_count": 284,
     "metadata": {},
     "output_type": "execute_result"
    }
   ],
   "source": [
    "PROB_INFO_STR(\"java-version\")"
   ]
  },
  {
   "cell_type": "code",
   "execution_count": 285,
   "metadata": {},
   "outputs": [
    {
     "data": {
      "text/markdown": [
       "$\\text{\"/usr/bin/java\"}$"
      ],
      "text/plain": [
       "\"/usr/bin/java\""
      ]
     },
     "execution_count": 285,
     "metadata": {},
     "output_type": "execute_result"
    }
   ],
   "source": [
    "PROB_INFO_STR(\"java-command-path\")"
   ]
  },
  {
   "cell_type": "code",
   "execution_count": 286,
   "metadata": {},
   "outputs": [
    {
     "data": {
      "text/markdown": [
       "$\\text{\"5/3/2019 - 13h42 41s\"}$"
      ],
      "text/plain": [
       "\"5/3/2019 - 13h42 41s\""
      ]
     },
     "execution_count": 286,
     "metadata": {},
     "output_type": "execute_result"
    }
   ],
   "source": [
    "PROB_INFO_STR(\"current-time\")"
   ]
  },
  {
   "cell_type": "markdown",
   "metadata": {},
   "source": [
    "Another command is PROB_INFO_STR(\"parser-version\") which does not work within Jupyter."
   ]
  },
  {
   "cell_type": "markdown",
   "metadata": {},
   "source": [
    "### PROB_STATISTICS\n",
    "This external function provides access to various statistics in the form of integers about ProB.\n",
    "Type: $STRING \\rightarrow INTEGER$."
   ]
  },
  {
   "cell_type": "code",
   "execution_count": 287,
   "metadata": {},
   "outputs": [
    {
     "data": {
      "text/markdown": [
       "$157096032$"
      ],
      "text/plain": [
       "157096032"
      ]
     },
     "execution_count": 287,
     "metadata": {},
     "output_type": "execute_result"
    }
   ],
   "source": [
    "PROB_STATISTICS(\"prolog-memory-bytes-used\")"
   ]
  },
  {
   "cell_type": "code",
   "execution_count": 288,
   "metadata": {},
   "outputs": [
    {
     "data": {
      "text/markdown": [
       "$1$"
      ],
      "text/plain": [
       "1"
      ]
     },
     "execution_count": 288,
     "metadata": {},
     "output_type": "execute_result"
    }
   ],
   "source": [
    "PROB_STATISTICS(\"states\")"
   ]
  },
  {
   "cell_type": "code",
   "execution_count": 289,
   "metadata": {},
   "outputs": [
    {
     "data": {
      "text/markdown": [
       "$0$"
      ],
      "text/plain": [
       "0"
      ]
     },
     "execution_count": 289,
     "metadata": {},
     "output_type": "execute_result"
    }
   ],
   "source": [
    "PROB_STATISTICS(\"transitions\")"
   ]
  },
  {
   "cell_type": "code",
   "execution_count": 290,
   "metadata": {},
   "outputs": [
    {
     "data": {
      "text/markdown": [
       "$0$"
      ],
      "text/plain": [
       "0"
      ]
     },
     "execution_count": 290,
     "metadata": {},
     "output_type": "execute_result"
    }
   ],
   "source": [
    "PROB_STATISTICS(\"processed-states\")"
   ]
  },
  {
   "cell_type": "code",
   "execution_count": 291,
   "metadata": {},
   "outputs": [
    {
     "data": {
      "text/markdown": [
       "$-1$"
      ],
      "text/plain": [
       "−1"
      ]
     },
     "execution_count": 291,
     "metadata": {},
     "output_type": "execute_result"
    }
   ],
   "source": [
    "PROB_STATISTICS(\"current-state-id\")"
   ]
  },
  {
   "cell_type": "code",
   "execution_count": 292,
   "metadata": {},
   "outputs": [
    {
     "data": {
      "text/markdown": [
       "$1551789761$"
      ],
      "text/plain": [
       "1551789761"
      ]
     },
     "execution_count": 292,
     "metadata": {},
     "output_type": "execute_result"
    }
   ],
   "source": [
    "PROB_STATISTICS(\"now-timestamp\")"
   ]
  },
  {
   "cell_type": "code",
   "execution_count": 293,
   "metadata": {},
   "outputs": [
    {
     "data": {
      "text/markdown": [
       "$1535$"
      ],
      "text/plain": [
       "1535"
      ]
     },
     "execution_count": 293,
     "metadata": {},
     "output_type": "execute_result"
    }
   ],
   "source": [
    "PROB_STATISTICS(\"prolog-runtime\")"
   ]
  },
  {
   "cell_type": "code",
   "execution_count": 294,
   "metadata": {},
   "outputs": [
    {
     "data": {
      "text/markdown": [
       "$2519$"
      ],
      "text/plain": [
       "2519"
      ]
     },
     "execution_count": 294,
     "metadata": {},
     "output_type": "execute_result"
    }
   ],
   "source": [
    "PROB_STATISTICS(\"prolog-walltime\")"
   ]
  },
  {
   "cell_type": "markdown",
   "metadata": {},
   "source": [
    "Other possible information fields are prolog-memory-bytes-free,\n",
    "prolog-global-stack-bytes-used,\n",
    "prolog-local-stack-bytes-used,\n",
    "prolog-global-stack-bytes-free,\n",
    "prolog-local-stack-bytes-free,\n",
    "prolog-trail-bytes-used,\n",
    "prolog-choice-bytes-used,\n",
    "prolog-atoms-bytes-used,\n",
    "prolog-atoms-nb-used,\n",
    "prolog-gc-count,\n",
    "prolog-gc-time."
   ]
  },
  {
   "cell_type": "markdown",
   "metadata": {},
   "source": [
    "### PROJECT_STATISTICS\n",
    "This external function provides access to various statistics in the form of integers about the current specification being processed, with all auxiliary files (i.e., project).\n",
    "Type: $STRING \\rightarrow INTEGER$."
   ]
  },
  {
   "cell_type": "code",
   "execution_count": 295,
   "metadata": {},
   "outputs": [
    {
     "data": {
      "text/markdown": [
       "$0$"
      ],
      "text/plain": [
       "0"
      ]
     },
     "execution_count": 295,
     "metadata": {},
     "output_type": "execute_result"
    }
   ],
   "source": [
    "PROJECT_STATISTICS(\"constants\")"
   ]
  },
  {
   "cell_type": "code",
   "execution_count": 296,
   "metadata": {},
   "outputs": [
    {
     "data": {
      "text/markdown": [
       "$0$"
      ],
      "text/plain": [
       "0"
      ]
     },
     "execution_count": 296,
     "metadata": {},
     "output_type": "execute_result"
    }
   ],
   "source": [
    "PROJECT_STATISTICS(\"variables\")"
   ]
  },
  {
   "cell_type": "code",
   "execution_count": 297,
   "metadata": {},
   "outputs": [
    {
     "data": {
      "text/markdown": [
       "$0$"
      ],
      "text/plain": [
       "0"
      ]
     },
     "execution_count": 297,
     "metadata": {},
     "output_type": "execute_result"
    }
   ],
   "source": [
    "PROJECT_STATISTICS(\"properties\")"
   ]
  },
  {
   "cell_type": "code",
   "execution_count": 298,
   "metadata": {},
   "outputs": [
    {
     "data": {
      "text/markdown": [
       "$0$"
      ],
      "text/plain": [
       "0"
      ]
     },
     "execution_count": 298,
     "metadata": {},
     "output_type": "execute_result"
    }
   ],
   "source": [
    "PROJECT_STATISTICS(\"invariants\")"
   ]
  },
  {
   "cell_type": "code",
   "execution_count": 299,
   "metadata": {},
   "outputs": [
    {
     "data": {
      "text/markdown": [
       "$0$"
      ],
      "text/plain": [
       "0"
      ]
     },
     "execution_count": 299,
     "metadata": {},
     "output_type": "execute_result"
    }
   ],
   "source": [
    "PROJECT_STATISTICS(\"operations\")"
   ]
  },
  {
   "cell_type": "code",
   "execution_count": 300,
   "metadata": {},
   "outputs": [
    {
     "data": {
      "text/markdown": [
       "$0$"
      ],
      "text/plain": [
       "0"
      ]
     },
     "execution_count": 300,
     "metadata": {},
     "output_type": "execute_result"
    }
   ],
   "source": [
    "PROJECT_STATISTICS(\"static_assertions\")"
   ]
  },
  {
   "cell_type": "code",
   "execution_count": 301,
   "metadata": {},
   "outputs": [
    {
     "data": {
      "text/markdown": [
       "$0$"
      ],
      "text/plain": [
       "0"
      ]
     },
     "execution_count": 301,
     "metadata": {},
     "output_type": "execute_result"
    }
   ],
   "source": [
    "PROJECT_STATISTICS(\"dynamic_assertions\")"
   ]
  },
  {
   "cell_type": "markdown",
   "metadata": {},
   "source": [
    "### PROJECT_INFO\n",
    "This external function provides access to various information strings about the current specification being processed, with all auxiliary files (i.e., project).\n",
    "Type: $STRING \\rightarrow POW(STRING)$."
   ]
  },
  {
   "cell_type": "code",
   "execution_count": 302,
   "metadata": {},
   "outputs": [
    {
     "data": {
      "text/markdown": [
       "$\\{\\text{\"(machine from Jupyter cell).mch\"},\\text{\"LibraryMeta.def\"}\\}$"
      ],
      "text/plain": [
       "{\"(machine from Jupyter cell).mch\",\"LibraryMeta.def\"}"
      ]
     },
     "execution_count": 302,
     "metadata": {},
     "output_type": "execute_result"
    }
   ],
   "source": [
    "PROJECT_INFO(\"files\")"
   ]
  },
  {
   "cell_type": "code",
   "execution_count": 303,
   "metadata": {},
   "outputs": [
    {
     "data": {
      "text/markdown": [
       "$\\{\\text{\"(machine from Jupyter cell).mch\"}\\}$"
      ],
      "text/plain": [
       "{\"(machine from Jupyter cell).mch\"}"
      ]
     },
     "execution_count": 303,
     "metadata": {},
     "output_type": "execute_result"
    }
   ],
   "source": [
    "PROJECT_INFO(\"main-file\")"
   ]
  },
  {
   "cell_type": "code",
   "execution_count": 304,
   "metadata": {},
   "outputs": [
    {
     "data": {
      "text/markdown": [
       "$\\renewcommand{\\emptyset}{\\mathord\\varnothing}\\emptyset$"
      ],
      "text/plain": [
       "∅"
      ]
     },
     "execution_count": 304,
     "metadata": {},
     "output_type": "execute_result"
    }
   ],
   "source": [
    "PROJECT_INFO(\"variables\")"
   ]
  },
  {
   "cell_type": "code",
   "execution_count": 305,
   "metadata": {},
   "outputs": [
    {
     "data": {
      "text/markdown": [
       "$\\renewcommand{\\emptyset}{\\mathord\\varnothing}\\emptyset$"
      ],
      "text/plain": [
       "∅"
      ]
     },
     "execution_count": 305,
     "metadata": {},
     "output_type": "execute_result"
    }
   ],
   "source": [
    "PROJECT_INFO(\"constants\")"
   ]
  },
  {
   "cell_type": "code",
   "execution_count": 306,
   "metadata": {},
   "outputs": [
    {
     "data": {
      "text/markdown": [
       "$\\renewcommand{\\emptyset}{\\mathord\\varnothing}\\emptyset$"
      ],
      "text/plain": [
       "∅"
      ]
     },
     "execution_count": 306,
     "metadata": {},
     "output_type": "execute_result"
    }
   ],
   "source": [
    "PROJECT_INFO(\"sets\")"
   ]
  },
  {
   "cell_type": "code",
   "execution_count": 307,
   "metadata": {},
   "outputs": [
    {
     "data": {
      "text/markdown": [
       "$\\renewcommand{\\emptyset}{\\mathord\\varnothing}\\emptyset$"
      ],
      "text/plain": [
       "∅"
      ]
     },
     "execution_count": 307,
     "metadata": {},
     "output_type": "execute_result"
    }
   ],
   "source": [
    "PROJECT_INFO(\"operations\")"
   ]
  },
  {
   "cell_type": "code",
   "execution_count": 308,
   "metadata": {},
   "outputs": [
    {
     "data": {
      "text/markdown": [
       "$\\renewcommand{\\emptyset}{\\mathord\\varnothing}\\emptyset$"
      ],
      "text/plain": [
       "∅"
      ]
     },
     "execution_count": 308,
     "metadata": {},
     "output_type": "execute_result"
    }
   ],
   "source": [
    "PROJECT_INFO(\"assertion_labels\")"
   ]
  },
  {
   "cell_type": "code",
   "execution_count": 309,
   "metadata": {},
   "outputs": [
    {
     "data": {
      "text/markdown": [
       "$\\renewcommand{\\emptyset}{\\mathord\\varnothing}\\emptyset$"
      ],
      "text/plain": [
       "∅"
      ]
     },
     "execution_count": 309,
     "metadata": {},
     "output_type": "execute_result"
    }
   ],
   "source": [
    "PROJECT_INFO(\"invariant_labels\")"
   ]
  },
  {
   "cell_type": "code",
   "execution_count": 310,
   "metadata": {},
   "outputs": [
    {
     "data": {
      "text/markdown": [
       "$\\{\\text{\"5d45f08d7e5cf22716b8fd3dd54a29b4ba4c443c\"}\\}$"
      ],
      "text/plain": [
       "{\"5d45f08d7e5cf22716b8fd3dd54a29b4ba4c443c\"}"
      ]
     },
     "execution_count": 310,
     "metadata": {},
     "output_type": "execute_result"
    }
   ],
   "source": [
    "PROJECT_INFO(\"sha-hash\")"
   ]
  },
  {
   "cell_type": "markdown",
   "metadata": {},
   "source": [
    "### MACHINE_INFO\n",
    "This external function provides access to various information strings about B machines being processed.\n",
    "Type: $STRING \\rightarrow STRING$."
   ]
  },
  {
   "cell_type": "code",
   "execution_count": 311,
   "metadata": {},
   "outputs": [
    {
     "data": {
      "text/markdown": [
       "$\\text{\"abstract_machine\"}$"
      ],
      "text/plain": [
       "\"abstract_machine\""
      ]
     },
     "execution_count": 311,
     "metadata": {},
     "output_type": "execute_result"
    }
   ],
   "source": [
    "MACHINE_INFO(\"Jupyter_LibraryMeta\",\"TYPE\")"
   ]
  },
  {
   "cell_type": "markdown",
   "metadata": {},
   "source": [
    "## LibraryIO\n",
    "\n",
    "This library provides various input/output facilities.\n",
    "It is probably most useful for debugging, but can also be used to write B machines\n",
    "which can read and write data.\n",
    "You can obtain the definitions below by putting the following into your DEFINITIONS clause:\n",
    "\n",
    "`DEFINITIONS \"LibraryIO.def\"`\n",
    "\n",
    "The file `LibraryIO.def` is also bundled with ProB and can be found in the `stdlib` folder."
   ]
  },
  {
   "cell_type": "markdown",
   "metadata": {},
   "source": [
    "## LibraryXML\n",
    "\n",
    "This library provides various functions to read and write XML data from file and strings.\n",
    "You can obtain the definitions below by putting the following into your DEFINITIONS clause:\n",
    "\n",
    "`DEFINITIONS \"LibraryXML.def\"`\n",
    "\n",
    "The file `LibraryXML.def` is also bundled with ProB and can be found in the `stdlib` folder.\n",
    "\n",
    "### Internal Data Type\n",
    "\n",
    "An XML document is represented using the type seq(XML_ELement_Type), i.e., a sequence\n",
    " of XML elements, whose type is defined by the following (included in the LibraryXML.def file):\n",
    "\n",
    "```\n",
    " XML_ELement_Type == \n",
    "      struct(\n",
    "        recId: NATURAL1,\n",
    "        pId:NATURAL,\n",
    "        element:STRING,\n",
    "        attributes: STRING +-> STRING,\n",
    "        meta: STRING +-> STRING\n",
    "        );\n",
    "```\n",
    "\n",
    "### Files and Strings\n",
    "\n",
    "XML documents can either be stored in a file or in a B string."
   ]
  },
  {
   "cell_type": "code",
   "execution_count": 312,
   "metadata": {},
   "outputs": [
    {
     "data": {
      "text/plain": [
       "Loaded machine: Jupyter_LibraryXML"
      ]
     },
     "execution_count": 312,
     "metadata": {},
     "output_type": "execute_result"
    }
   ],
   "source": [
    "::load\n",
    "MACHINE Jupyter_LibraryXML\n",
    "DEFINITIONS \"LibraryXML.def\"\n",
    "END"
   ]
  },
  {
   "cell_type": "markdown",
   "metadata": {},
   "source": [
    "### READ_XML_FROM_STRING\n",
    "This external function takes an XML document string and converts into into the B format seq(XML_ELement_Type)}.\n",
    "Note that all strings in ProB are encoded using UTF-8, so no encoding argument has to be provided."
   ]
  },
  {
   "cell_type": "code",
   "execution_count": 313,
   "metadata": {},
   "outputs": [
    {
     "data": {
      "text/markdown": [
       "$\\{(1\\mapsto \\mathit{rec}(\\mathit{attributes}\\in\\{(\\text{\"version\"}\\mapsto\\text{\"0.1\"})\\},\\mathit{element}\\in\\text{\"Data\"},\\mathit{meta}\\in\\{(\\text{\"xmlLineNumber\"}\\mapsto\\text{\"3\"})\\},\\mathit{pId}\\in 0,\\mathit{recId}\\in 1)),(2\\mapsto \\mathit{rec}(\\mathit{attributes}\\in\\{(\\text{\"attr1\"}\\mapsto\\text{\"value1\"}),(\\text{\"elemID\"}\\mapsto\\text{\"ID1\"})\\},\\mathit{element}\\in\\text{\"Tag1\"},\\mathit{meta}\\in\\{(\\text{\"xmlLineNumber\"}\\mapsto\\text{\"4\"})\\},\\mathit{pId}\\in 1,\\mathit{recId}\\in 2))\\}$"
      ],
      "text/plain": [
       "{(1↦rec(attributes∈{(\"version\"↦\"0.1\")},element∈\"Data\",meta∈{(\"xmlLineNumber\"↦\"3\")},pId∈0,recId∈1)),(2↦rec(attributes∈{(\"attr1\"↦\"value1\"),(\"elemID\"↦\"ID1\")},element∈\"Tag1\",meta∈{(\"xmlLineNumber\"↦\"4\")},pId∈1,recId∈2))}"
      ]
     },
     "execution_count": 313,
     "metadata": {},
     "output_type": "execute_result"
    }
   ],
   "source": [
    "READ_XML_FROM_STRING('''\n",
    "<?xml version=\"1.0\" encoding=\"ASCII\"?>\n",
    " <Data version= \"0.1\">\n",
    " <Tag1 elemID=\"ID1\" attr1=\"value1\" />\n",
    " </Data>\n",
    "''')"
   ]
  },
  {
   "cell_type": "markdown",
   "metadata": {},
   "source": [
    "### READ_XML\n",
    "\n",
    "This external function can read in an XML document from file. In contrast to READ_XML_FROM_STRING\n",
    "it also takes a second argument specifying the encoding used.\n",
    "ProB cannot as of now detect the encoding from the XML header.\n",
    "In future this argument may be removed.\n",
    "Currently it can take these values:\n",
    "\"auto\",\"ISO-8859-1\",\"ISO-8859-2\",\"ISO-8859-15\",\n",
    "                    \"UTF-8\",\"UTF-16\",\"UTF-16LE\",\"UTF-16BE\",\"UTF-32\",\"UTF-32LE\",\"UTF-32BE\",\n",
    "                    \"ANSI\\_X3.4-1968\", \"windows 1252\"."
   ]
  },
  {
   "cell_type": "markdown",
   "metadata": {},
   "source": [
    "## LibraryHash\n",
    "\n",
    "This library provides various facilities to compute hash values for B values.\n",
    "You can obtain the definitions below by putting the following into your DEFINITIONS clause:\n",
    "\n",
    "`DEFINITIONS \"LibraryHash.def\"`\n",
    "\n",
    "The file `LibraryHash.def` is also bundled with ProB and can be found in the `stdlib` folder."
   ]
  },
  {
   "cell_type": "code",
   "execution_count": 314,
   "metadata": {},
   "outputs": [
    {
     "data": {
      "text/plain": [
       "Loaded machine: Jupyter_LibraryHash"
      ]
     },
     "execution_count": 314,
     "metadata": {},
     "output_type": "execute_result"
    }
   ],
   "source": [
    "::load\n",
    "MACHINE Jupyter_LibraryHash\n",
    "DEFINITIONS \"LibraryHash.def\"\n",
    "END"
   ]
  },
  {
   "cell_type": "markdown",
   "metadata": {},
   "source": [
    "### HASH\n",
    "\n",
    "This external function converts a B data value to an integer hash value. It uses the ```term_hash``` predicate of SICStus Prolog. It will generate an integer that can be efficiently handled by ProB, but may generate collisions.\n",
    "\n",
    "Type: $\\tau \\rightarrow INTEGER$."
   ]
  },
  {
   "cell_type": "code",
   "execution_count": 315,
   "metadata": {},
   "outputs": [
    {
     "data": {
      "text/markdown": [
       "$92915201$"
      ],
      "text/plain": [
       "92915201"
      ]
     },
     "execution_count": 315,
     "metadata": {},
     "output_type": "execute_result"
    }
   ],
   "source": [
    "HASH({1,2,4})"
   ]
  },
  {
   "cell_type": "code",
   "execution_count": 316,
   "metadata": {},
   "outputs": [
    {
     "data": {
      "text/markdown": [
       "$191034877$"
      ],
      "text/plain": [
       "191034877"
      ]
     },
     "execution_count": 316,
     "metadata": {},
     "output_type": "execute_result"
    }
   ],
   "source": [
    "HASH({1,2,5})"
   ]
  },
  {
   "cell_type": "code",
   "execution_count": 317,
   "metadata": {},
   "outputs": [
    {
     "data": {
      "text/markdown": [
       "$\\mathit{FALSE}$"
      ],
      "text/plain": [
       "FALSE"
      ]
     },
     "execution_count": 317,
     "metadata": {},
     "output_type": "execute_result"
    }
   ],
   "source": [
    "i<: 1..7 & j<:1..7 & i /= j & HASH(i)=HASH(j)"
   ]
  },
  {
   "cell_type": "markdown",
   "metadata": {},
   "source": [
    "### SHA_HASH\n",
    "\n",
    "This external function converts a B data value to a SHA hash value represented as a sequence of bytes. It is unlikely to generate a collision.\n",
    "\n",
    "Type: $\\tau \\rightarrow INTEGER$."
   ]
  },
  {
   "cell_type": "code",
   "execution_count": 318,
   "metadata": {},
   "outputs": [
    {
     "data": {
      "text/markdown": [
       "$[37,168,75,91,175,1,8,58,13,207,7,42,222,208,212,29,243,31,27,154]$"
      ],
      "text/plain": [
       "[37,168,75,91,175,1,8,58,13,207,7,42,222,208,212,29,243,31,27,154]"
      ]
     },
     "execution_count": 318,
     "metadata": {},
     "output_type": "execute_result"
    }
   ],
   "source": [
    "SHA_HASH({1,2,4})"
   ]
  },
  {
   "cell_type": "code",
   "execution_count": 319,
   "metadata": {},
   "outputs": [
    {
     "data": {
      "text/markdown": [
       "$[149,81,45,24,177,25,74,30,204,7,143,202,136,116,148,247,6,221,245,52]$"
      ],
      "text/plain": [
       "[149,81,45,24,177,25,74,30,204,7,143,202,136,116,148,247,6,221,245,52]"
      ]
     },
     "execution_count": 319,
     "metadata": {},
     "output_type": "execute_result"
    }
   ],
   "source": [
    "SHA_HASH({1,2,5})"
   ]
  },
  {
   "cell_type": "code",
   "execution_count": 320,
   "metadata": {},
   "outputs": [
    {
     "data": {
      "text/markdown": [
       "$\\mathit{FALSE}$"
      ],
      "text/plain": [
       "FALSE"
      ]
     },
     "execution_count": 320,
     "metadata": {},
     "output_type": "execute_result"
    }
   ],
   "source": [
    "i<: 1..7 & j<:1..7 & i /= j & SHA_HASH(i)=SHA_HASH(j)"
   ]
  },
  {
   "cell_type": "markdown",
   "metadata": {},
   "source": [
    "### SHA_HASH_HEX\n",
    "\n",
    "This external function converts a B data value to a SHA hash value represented as a hexadecimal string. It is unlikely to generate a collision.\n",
    "\n",
    "Type: $\\tau \\rightarrow STRING$."
   ]
  },
  {
   "cell_type": "code",
   "execution_count": 321,
   "metadata": {},
   "outputs": [
    {
     "data": {
      "text/markdown": [
       "$\\text{\"25a84b5baf01083a0dcf072aded0d41df31f1b9a\"}$"
      ],
      "text/plain": [
       "\"25a84b5baf01083a0dcf072aded0d41df31f1b9a\""
      ]
     },
     "execution_count": 321,
     "metadata": {},
     "output_type": "execute_result"
    }
   ],
   "source": [
    "SHA_HASH_HEX({1,2,4})"
   ]
  },
  {
   "cell_type": "code",
   "execution_count": 322,
   "metadata": {},
   "outputs": [
    {
     "data": {
      "text/markdown": [
       "$\\text{\"95512d18b1194a1ecc078fca887494f706ddf534\"}$"
      ],
      "text/plain": [
       "\"95512d18b1194a1ecc078fca887494f706ddf534\""
      ]
     },
     "execution_count": 322,
     "metadata": {},
     "output_type": "execute_result"
    }
   ],
   "source": [
    "SHA_HASH_HEX({1,2,5})"
   ]
  },
  {
   "cell_type": "code",
   "execution_count": 323,
   "metadata": {},
   "outputs": [
    {
     "data": {
      "text/markdown": [
       "$\\text{\"6bd1d8beefa14ea131285d11bbf8580c5f31fe78\"}$"
      ],
      "text/plain": [
       "\"6bd1d8beefa14ea131285d11bbf8580c5f31fe78\""
      ]
     },
     "execution_count": 323,
     "metadata": {},
     "output_type": "execute_result"
    }
   ],
   "source": [
    "SHA_HASH_HEX({x|x<:1..8 & card(x)=2})"
   ]
  },
  {
   "cell_type": "code",
   "execution_count": 324,
   "metadata": {},
   "outputs": [
    {
     "data": {
      "text/markdown": [
       "$\\text{\"068948b4d423a0db5fd1574edad799005fc456e0\"}$"
      ],
      "text/plain": [
       "\"068948b4d423a0db5fd1574edad799005fc456e0\""
      ]
     },
     "execution_count": 324,
     "metadata": {},
     "output_type": "execute_result"
    }
   ],
   "source": [
    "SHA_HASH_HEX(0)"
   ]
  },
  {
   "cell_type": "code",
   "execution_count": 325,
   "metadata": {},
   "outputs": [
    {
     "data": {
      "text/markdown": [
       "$\\text{\"55b9c89f79362578c3641774db978b5455be5bfd\"}$"
      ],
      "text/plain": [
       "\"55b9c89f79362578c3641774db978b5455be5bfd\""
      ]
     },
     "execution_count": 325,
     "metadata": {},
     "output_type": "execute_result"
    }
   ],
   "source": [
    "SHA_HASH_HEX(SHA_HASH_HEX(0))"
   ]
  },
  {
   "cell_type": "markdown",
   "metadata": {},
   "source": [
    "## LibraryRegex\n",
    "\n",
    "This library provides various facilities for pattern matching with regular expressions.\n",
    "You can obtain the definitions below by putting the following into your DEFINITIONS clause:\n",
    "\n",
    "`DEFINITIONS \"LibraryRegex.def\"`\n",
    "\n",
    "The file `LibraryRegex.def` is also bundled with ProB and can be found in the `stdlib` folder (as of version 1.8.3-beta4)."
   ]
  },
  {
   "cell_type": "code",
   "execution_count": 326,
   "metadata": {},
   "outputs": [
    {
     "data": {
      "text/plain": [
       "Loaded machine: Jupyter_LibraryRegex"
      ]
     },
     "execution_count": 326,
     "metadata": {},
     "output_type": "execute_result"
    }
   ],
   "source": [
    "::load\n",
    "MACHINE Jupyter_LibraryRegex\n",
    "DEFINITIONS \"LibraryRegex.def\"; \"LibraryStrings.def\"\n",
    "END"
   ]
  },
  {
   "cell_type": "markdown",
   "metadata": {},
   "source": [
    "The library works on B strings and regular expression patterns are also written as B strings.\n",
    "The syntax used is the ECMAScript syntax: http://www.cplusplus.com/reference/regex/ECMAScript/\n",
    "The library is currently implemented using the C++ standard library.\n",
    "Below we repeat some information from http://www.cplusplus.com/reference/regex/ECMAScript/ for convenience.\n",
    "\n",
    "The library now does support UTF-8 encoded strings and patterns.\n",
    "Note that ProB only supports UTF-8 for both B machines and for any strings and Unicode files it processes.\n",
    "\n",
    "#### Operators/Quantifiers\n",
    "\n",
    "More precisely the library accepts the following operators:\n",
    "\n",
    "| Syntax | Descr. | Matches |\n",
    "| --- | --- | --- |\n",
    "| ```*``` | 0 or more |The preceding atom is matched 0 or more times. |\n",
    "| ```+``` |1 or more |The preceding atom is matched 1 or more times. |\n",
    "| ```?``` |0 or 1 |The preceding atom is optional (matched either 0 times or once). |\n",
    "| ```{int}``` |int |The preceding atom is matched exactly int times. |\n",
    "| ```{int,}``` |int or more |The preceding atom is matched int or more times. |\n",
    "| ```{min,max}``` |between min and max |The preceding atom is matched at least min times, but not more than max. |\n",
    "\n",
    "\n",
    "There is also the ```|``` separator.\n",
    "It separates two alternative patterns or subpatterns.\n",
    "\n",
    "\n"
   ]
  },
  {
   "cell_type": "markdown",
   "metadata": {},
   "source": [
    "#### Characters\n",
    "The library accepts the following special characters:\n",
    "\n",
    "| Syntax | Descr. | Matches |\n",
    "| --- | --- | --- |\n",
    "| ```.```\t| not newline\t| any character except line terminators (LF, CR, LS, PS).|\n",
    "| ```\\t```\t| tab (HT)\t| a horizontal tab character (same as \\u0009).|\n",
    "| ```\\n```\t| newline (LF)\t| a newline (line feed) character (same as \\u000A).|\n",
    "| ```\\v```\t| vertical tab (VT)\t| a vertical tab character (same as \\u000B).|\n",
    "| ```\\f```\t| form feed (FF)\t| a form feed character (same as \\u000C).|\n",
    "| ```\\r```\t| carriage return (CR)\t| a carriage return character (same as \\u000D).|\n",
    "| ```\\cletter```\t| control code\t| a control code character whose code unit value is the same as the remainder of dividing the code unit value of letter by 32.|\n",
    "\n",
    "For example: ```\\ca``` is the same as ```\\u0001```, ```\\cb``` the same as ```\\u0002```, and so on...\n",
    "\n",
    "| Syntax | Descr. | Matches |\n",
    "| --- | --- | --- |\n",
    "| ```\\xhh```| ASCII character| a character whose code unit value has an hex value equivalent to the two hex digits hh.|\n",
    "\n",
    "For example: ```\\x4c``` is the same as L, or ```\\x23``` the same as #.\n",
    "\n",
    "| Syntax | Descr. | Matches |\n",
    "| --- | --- | --- |\n",
    "| ```\\uhhhh```| unicode character| a character whose code unit value has an hex value equivalent to the four hex digits hhhh.|\n",
    "| ```\\0```| null| a null character (same as \\u0000).|\n",
    "| ```\\int```| backreference| the result of the submatch whose opening parenthesis is the int-th (int shall begin by a digit other than 0). See groups below for more info.|\n",
    "| ```\\d```| digit| a decimal digit character (same as [[:digit:]]).|\n",
    "|  ```\\D```| not digit| any character that is not a decimal digit character (same as [^[:digit:]]).|\n",
    "|  ```\\s```| whitespace| a whitespace character (same as [[:space:]]).|\n",
    "| ```\\S```| not whitespace| any character that is not a whitespace character (same as [^[:space:]]).|\n",
    "|  ```\\w```| word| an alphanumeric or underscore character (same as [_[:alnum:]]).|\n",
    "|  ```\\W```| not word| any character that is not an alphanumeric or underscore character (same as [^_[:alnum:]]).|\n",
    "|  ```\\character```| character| the character character as it is, without interpreting its special meaning within a regex expression.|\n",
    "\n",
    "Any character can be escaped except those which form any of the special character sequences above.\n",
    "Needed for: ```^ $ \\ . * + ? ( ) [ ] { } |```\n",
    "\n",
    "\n",
    "| Syntax | Descr. | Matches |\n",
    "| --- | --- | --- |\n",
    "| ```[class]```| character class| the target character is part of the class (see character classes below)|\n",
    "| ```[^class]```| negated character class| the target character is not part of the class (see character classes below)|\n",
    "\n"
   ]
  },
  {
   "cell_type": "markdown",
   "metadata": {},
   "source": [
    "\n",
    "\n",
    "#### Groups\n",
    "\n",
    "Groups allow to apply quantifiers to a sequence of characters (instead of a single character). There are two kinds of groups:\n",
    "\n",
    "| characters| description| effects| \n",
    "| --- | --- | --- |\n",
    "| ```(subpattern)```| Group| Creates a backreference.\n",
    "| ```(?:subpattern)```| Passive group| Does not create a backreference.\n",
    "\n",
    "#### Assertions\n",
    "Assertions are conditions that do not consume characters in the target sequence: they do not describe a character, but a condition that must be fulfilled before or after a character.\n",
    "\n",
    "characters\tdescription\tcondition for match\n",
    "\n",
    "- ```^```\tBeginning of line\tEither it is the beginning of the target sequence, or follows a line terminator.\n",
    "- ```$```\tEnd of line\tEither it is the end of the target sequence, or precedes a line terminator.\n",
    "- ```\\b```\tWord boundary\tThe previous character is a word character and the next is a non-word character (or vice-versa).\n",
    "Note: The beginning and the end of the target sequence are considered here as non-word characters.\n",
    "- ```\\B```\tNot a word boundary\tThe previous and next characters are both word characters or both are non-word characters.\n",
    "Note: The beginning and the end of the target sequence are considered here as non-word characters.\n",
    "- ```(?=subpattern)```\tPositive lookahead\tThe characters following the assertion must match subpattern, but no characters are consumed.\n",
    "- ```(?!subpattern)```\tNegative lookahead\tThe characters following the assertion must not match subpattern, but no characters are consumed.\n",
    "\n",
    "\n",
    "#### Character classes\n",
    "A character class defines a category of characters. It is introduced by enclosing its descriptors in square brackets ([ and ]).\n",
    "The regex object attempts to match the entire character class against a single character in the target sequence (unless a quantifier specifies otherwise).\n",
    "\n",
    "The character class can contain any combination of:\n",
    "Individual characters: Any character specified is considered part of the class (except the characters \\, [, ] and - when they have a special meaning as described in the following paragraphs).\n",
    "For example:\n",
    "```[abc]``` matches a, b or c.\n",
    "```[^xyz]``` matches any character except x, y and z.\n",
    "Ranges: They can be specified by using the hyphen character (-) between two valid characters.\n",
    "For example:\n",
    "```[a-z]``` matches any lowercase letter (a, b, c, ... until z).\n",
    "```[abc1-5]``` matches either a, b or c, or a digit between 1 and 5.\n",
    "POSIX-like classes: A whole set of predefined classes can be added to a custom character class. There are three kinds:\n",
    "\n",
    "class\tdescription\tnotes\n",
    "- ```[:classname:]```\tcharacter class\tUses the regex traits' isctype member with the appropriate type gotten from applying lookup_classname member on classname for the match.\n",
    "- ```[.classname.]```\tcollating sequence\tUses the regex traits' lookup_collatename to interpret classname.\n",
    "- ```[=classname=]```\tcharacter equivalents\tUses the regex traits' transform_primary of the result of regex_traits::lookup_collatename for classname to check for matches.\n",
    "\n",
    "The choice of available classes depend on the regex traits type and on its selected locale. But at least the following character classes shall be recognized by any regex traits type and locale:\n",
    "\n",
    "class\tdescription\tequivalent (with regex_traits, default locale)\n",
    "- ```[:alnum:]```\talpha-numerical character\tisalnum\n",
    "- ```[:alpha:]```\talphabetic character\tisalpha\n",
    "- ```[:blank:]```\tblank character\tisblank\n",
    "- ```[:cntrl:]```\tcontrol character\tiscntrl\n",
    "- ```[:digit:]```\tdecimal digit character\tisdigit\n",
    "- ```[:graph:]```\tcharacter with graphical representation\tisgraph\n",
    "- ```[:lower:]```\tlowercase letter\tislower\n",
    "- ```[:print:]```\tprintable character\tisprint\n",
    "- ```[:punct:]```\tpunctuation mark character\tispunct\n",
    "- ```[:space:]```\twhitespace character\tisspace\n",
    "- ```[:upper:]```\tuppercase letter\tisupper\n",
    "- ```[:xdigit:]```\thexadecimal digit character\tisxdigit\n",
    "- ```[:d:]```\tdecimal digit character\tisdigit\n",
    "- ```[:w:]```\tword character\tisalnum\n",
    "- ```[:s:]```\twhitespace character\tisspace\n",
    "\n",
    "Please note that the brackets in the class names are additional to those opening and closing the class definition.\n",
    "For example:\n",
    "```[[:alpha:]]``` is a character class that matches any alphabetic character.\n",
    "```[abc[:digit:]]``` is a character class that matches a, b, c, or a digit.\n",
    "```[^[:space:]]``` is a character class that matches any character except a whitespace.\n",
    "\n",
    "Escape characters: All escape characters described above can also be used within a character class specification. The only change is with \\b, that here is interpreted as a backspace character (\\u0008) instead of a word boundary.\n",
    "Notice that within a class definition, those characters that have a special meaning in the regular expression (such as *, ., $) don't have such a meaning and are interpreted as normal characters (so they do not need to be escaped). Instead, within a class definition, the hyphen (-) and the brackets ([ and ]) do have special meanings under some circumstances, in which case they should be placed within the class in other locations where they do not have such special meaning, or be escaped with a backslash (\\).\n"
   ]
  },
  {
   "cell_type": "markdown",
   "metadata": {},
   "source": [
    "### REGEX_MATCH\n",
    "\n",
    "This external predicate checks if a string matches a regular expression pattern.\n",
    "\n",
    "For example, the following calls check whether the first argument is a non-empty sequenze of lower-case letters:\n"
   ]
  },
  {
   "cell_type": "code",
   "execution_count": 327,
   "metadata": {},
   "outputs": [
    {
     "data": {
      "text/markdown": [
       "$\\mathit{TRUE}$"
      ],
      "text/plain": [
       "TRUE"
      ]
     },
     "execution_count": 327,
     "metadata": {},
     "output_type": "execute_result"
    }
   ],
   "source": [
    "REGEX_MATCH(\"abc\",\"[a-z]+\")"
   ]
  },
  {
   "cell_type": "code",
   "execution_count": 328,
   "metadata": {},
   "outputs": [
    {
     "data": {
      "text/markdown": [
       "$\\mathit{FALSE}$"
      ],
      "text/plain": [
       "FALSE"
      ]
     },
     "execution_count": 328,
     "metadata": {},
     "output_type": "execute_result"
    }
   ],
   "source": [
    "REGEX_MATCH(\"abc1\",\"[a-z]+\")"
   ]
  },
  {
   "cell_type": "markdown",
   "metadata": {},
   "source": [
    "Here we check if we have a non-empty sequence of characters which are not letters:"
   ]
  },
  {
   "cell_type": "code",
   "execution_count": 329,
   "metadata": {},
   "outputs": [
    {
     "data": {
      "text/markdown": [
       "$\\mathit{TRUE}$"
      ],
      "text/plain": [
       "TRUE"
      ]
     },
     "execution_count": 329,
     "metadata": {},
     "output_type": "execute_result"
    }
   ],
   "source": [
    "REGEX_MATCH(\"123.45\",\"[^a-zA-Z]+\")"
   ]
  },
  {
   "cell_type": "code",
   "execution_count": 330,
   "metadata": {},
   "outputs": [
    {
     "data": {
      "text/markdown": [
       "$\\mathit{FALSE}$"
      ],
      "text/plain": [
       "FALSE"
      ]
     },
     "execution_count": 330,
     "metadata": {},
     "output_type": "execute_result"
    }
   ],
   "source": [
    "REGEX_MATCH(\"1e9\",\"[^a-zA-Z]+\")"
   ]
  },
  {
   "cell_type": "markdown",
   "metadata": {},
   "source": [
    "Observe that ```REGEX_MATCH``` is a **predicate** not a function returning a boolean value.\n",
    "As such you can write:"
   ]
  },
  {
   "cell_type": "code",
   "execution_count": 331,
   "metadata": {},
   "outputs": [
    {
     "data": {
      "text/markdown": [
       "$\\mathit{TRUE}$\n",
       "\n",
       "**Solution:**\n",
       "* $\\mathit{str} = \\text{\"1.9\"}$"
      ],
      "text/plain": [
       "TRUE\n",
       "\n",
       "Solution:\n",
       "\tstr = \"1.9\""
      ]
     },
     "execution_count": 331,
     "metadata": {},
     "output_type": "execute_result"
    }
   ],
   "source": [
    "str = \"1.9\" & (REGEX_MATCH(str,\"[0-9]+\") or REGEX_MATCH(str,\"[0-9]*\\.[0-9]+\"))"
   ]
  },
  {
   "cell_type": "markdown",
   "metadata": {},
   "source": [
    "### IS_REGEXP\n",
    "This external predicate checks if a string is a valid regular expression pattern.\n",
    "Again, this is a **predicate**, not a function returning a boolean value."
   ]
  },
  {
   "cell_type": "code",
   "execution_count": 332,
   "metadata": {},
   "outputs": [
    {
     "data": {
      "text/markdown": [
       "$\\mathit{TRUE}$"
      ],
      "text/plain": [
       "TRUE"
      ]
     },
     "execution_count": 332,
     "metadata": {},
     "output_type": "execute_result"
    }
   ],
   "source": [
    "IS_REGEX(\"ab[0-9]\")"
   ]
  },
  {
   "cell_type": "code",
   "execution_count": 333,
   "metadata": {},
   "outputs": [
    {
     "data": {
      "text/markdown": [
       "$\\mathit{FALSE}$"
      ],
      "text/plain": [
       "FALSE"
      ]
     },
     "execution_count": 333,
     "metadata": {},
     "output_type": "execute_result"
    }
   ],
   "source": [
    "IS_REGEX(\"ab[0-9\")"
   ]
  },
  {
   "cell_type": "markdown",
   "metadata": {},
   "source": [
    "### REGEXP_REPLACE\n",
    "\n",
    "This external function replaces all occurences of a pattern in a string by a given replacement string.\n",
    "\n",
    "Type: $STRING \\times STRING \\times STRING \\rightarrow STRING$."
   ]
  },
  {
   "cell_type": "code",
   "execution_count": 334,
   "metadata": {},
   "outputs": [
    {
     "data": {
      "text/markdown": [
       "$\\text{\"aNUMbNUMcNUMdNUM\"}$"
      ],
      "text/plain": [
       "\"aNUMbNUMcNUMdNUM\""
      ]
     },
     "execution_count": 334,
     "metadata": {},
     "output_type": "execute_result"
    }
   ],
   "source": [
    "REGEX_REPLACE(\"a01b23c4d56\",\"[0-9]+\",\"NUM\")"
   ]
  },
  {
   "cell_type": "code",
   "execution_count": 335,
   "metadata": {},
   "outputs": [
    {
     "data": {
      "text/markdown": [
       "$\\text{\"X01X23X4X56\"}$"
      ],
      "text/plain": [
       "\"X01X23X4X56\""
      ]
     },
     "execution_count": 335,
     "metadata": {},
     "output_type": "execute_result"
    }
   ],
   "source": [
    "REGEX_REPLACE(\"a01b23c4d56\",\"[^0-9]+\",\"X\")"
   ]
  },
  {
   "cell_type": "markdown",
   "metadata": {},
   "source": [
    "You can use ```$1```, ```$2```, ... to refer to matches subgroups in the replacement string:"
   ]
  },
  {
   "cell_type": "code",
   "execution_count": 336,
   "metadata": {},
   "outputs": [
    {
     "data": {
      "text/markdown": [
       "$\\text{\"1<<abcabd>>2\"}$"
      ],
      "text/plain": [
       "\"1<<abcabd>>2\""
      ]
     },
     "execution_count": 336,
     "metadata": {},
     "output_type": "execute_result"
    }
   ],
   "source": [
    "REGEX_REPLACE(\"1abd00abc2\",\"([a-z]+).*?([a-z]+)\",\"<<$2$1>>\")"
   ]
  },
  {
   "cell_type": "markdown",
   "metadata": {},
   "source": [
    "You can use ```$0``` to refer to the full match:"
   ]
  },
  {
   "cell_type": "code",
   "execution_count": 337,
   "metadata": {},
   "outputs": [
    {
     "data": {
      "text/markdown": [
       "$\\text{\"ab(12)cd(34)\"}$"
      ],
      "text/plain": [
       "\"ab(12)cd(34)\""
      ]
     },
     "execution_count": 337,
     "metadata": {},
     "output_type": "execute_result"
    }
   ],
   "source": [
    "REGEX_REPLACE(\"ab12cd34\",\"[0-9]+\",\"($0)\")"
   ]
  },
  {
   "cell_type": "markdown",
   "metadata": {},
   "source": [
    "### REGEX_SEARCH_STR\n",
    "This external function searches for the **first** occurence of a pattern in a string.\n",
    "\n",
    "Type: $STRING \\times STRING \\rightarrow STRING$."
   ]
  },
  {
   "cell_type": "code",
   "execution_count": 338,
   "metadata": {},
   "outputs": [
    {
     "data": {
      "text/markdown": [
       "$\\text{\"234\"}$"
      ],
      "text/plain": [
       "\"234\""
      ]
     },
     "execution_count": 338,
     "metadata": {},
     "output_type": "execute_result"
    }
   ],
   "source": [
    "REGEX_SEARCH_STR(\"abcdef000234daf\",\"[1-9][0-9]*\")"
   ]
  },
  {
   "cell_type": "code",
   "execution_count": 339,
   "metadata": {},
   "outputs": [
    {
     "data": {
      "text/markdown": [
       "$\\text{\"abcdef\"}$"
      ],
      "text/plain": [
       "\"abcdef\""
      ]
     },
     "execution_count": 339,
     "metadata": {},
     "output_type": "execute_result"
    }
   ],
   "source": [
    "REGEX_SEARCH_STR(\"abcdef000234daf\",\"[[:alpha:]]+\")"
   ]
  },
  {
   "cell_type": "markdown",
   "metadata": {},
   "source": [
    "In the next example we use the ```$``` operator to force a match at the end:"
   ]
  },
  {
   "cell_type": "code",
   "execution_count": 340,
   "metadata": {},
   "outputs": [
    {
     "data": {
      "text/markdown": [
       "$\\text{\"daf\"}$"
      ],
      "text/plain": [
       "\"daf\""
      ]
     },
     "execution_count": 340,
     "metadata": {},
     "output_type": "execute_result"
    }
   ],
   "source": [
    "REGEX_SEARCH_STR(\"abcdef000234daf\",\"[[:alpha:]]+$\")"
   ]
  },
  {
   "cell_type": "markdown",
   "metadata": {},
   "source": [
    "In case there is no match, it returns the empty string:"
   ]
  },
  {
   "cell_type": "code",
   "execution_count": 341,
   "metadata": {},
   "outputs": [
    {
     "data": {
      "text/markdown": [
       "$\\text{\"\"}$"
      ],
      "text/plain": [
       "\"\""
      ]
     },
     "execution_count": 341,
     "metadata": {},
     "output_type": "execute_result"
    }
   ],
   "source": [
    "REGEX_SEARCH_STR(\"0123\",\"[[:alpha:]]+\")"
   ]
  },
  {
   "cell_type": "markdown",
   "metadata": {},
   "source": [
    "### REGEX_SEARCH\n",
    "This external function searches for the first occurence of a pattern in a string and returns full information about the match: position, length, match and sub-matches.\n",
    "It also expects an index at which to start the search; which can be useful for writing loops to find all matches.\n",
    "\n",
    "Type: $STRING \\times INTEGER \\times STRING \\rightarrow struct(position:INTEGER,length:INTEGER,string:STRING,submatches:seq(STRING))$."
   ]
  },
  {
   "cell_type": "code",
   "execution_count": 342,
   "metadata": {},
   "outputs": [
    {
     "data": {
      "text/markdown": [
       "$\\renewcommand{\\emptyset}{\\mathord\\varnothing}\\mathit{rec}(\\mathit{length}\\in 6,\\mathit{position}\\in 1,\\mathit{string}\\in\\text{\"abcdef\"},\\mathit{submatches}\\in\\emptyset)$"
      ],
      "text/plain": [
       "rec(length∈6,position∈1,string∈\"abcdef\",submatches∈∅)"
      ]
     },
     "execution_count": 342,
     "metadata": {},
     "output_type": "execute_result"
    }
   ],
   "source": [
    "REGEX_SEARCH(\"abcdef000234daf\",1,\"[[:alpha:]]+\")"
   ]
  },
  {
   "cell_type": "code",
   "execution_count": 343,
   "metadata": {},
   "outputs": [
    {
     "data": {
      "text/markdown": [
       "$\\renewcommand{\\emptyset}{\\mathord\\varnothing}\\mathit{rec}(\\mathit{length}\\in 3,\\mathit{position}\\in 13,\\mathit{string}\\in\\text{\"daf\"},\\mathit{submatches}\\in\\emptyset)$"
      ],
      "text/plain": [
       "rec(length∈3,position∈13,string∈\"daf\",submatches∈∅)"
      ]
     },
     "execution_count": 343,
     "metadata": {},
     "output_type": "execute_result"
    }
   ],
   "source": [
    "REGEX_SEARCH(\"abcdef000234daf\",7,\"[[:alpha:]]+\")"
   ]
  },
  {
   "cell_type": "code",
   "execution_count": 344,
   "metadata": {},
   "outputs": [
    {
     "data": {
      "text/markdown": [
       "$\\mathit{rec}(\\mathit{length}\\in 3,\\mathit{position}\\in 10,\\mathit{string}\\in\\text{\"234\"},\\mathit{submatches}\\in\\{(1\\mapsto\\text{\"2\"}),(2\\mapsto\\text{\"34\"})\\})$"
      ],
      "text/plain": [
       "rec(length∈3,position∈10,string∈\"234\",submatches∈{(1↦\"2\"),(2↦\"34\")})"
      ]
     },
     "execution_count": 344,
     "metadata": {},
     "output_type": "execute_result"
    }
   ],
   "source": [
    "REGEX_SEARCH(\"abcdef000234daf\",1,\"([1-9])([0-9]*)\")"
   ]
  },
  {
   "cell_type": "markdown",
   "metadata": {},
   "source": [
    "In case there is no match, the function returns a record with position and length being -1:"
   ]
  },
  {
   "cell_type": "code",
   "execution_count": 345,
   "metadata": {},
   "outputs": [
    {
     "data": {
      "text/markdown": [
       "$\\renewcommand{\\emptyset}{\\mathord\\varnothing}\\mathit{rec}(\\mathit{length}\\in-1,\\mathit{position}\\in-1,\\mathit{string}\\in\\text{\"\"},\\mathit{submatches}\\in\\emptyset)$"
      ],
      "text/plain": [
       "rec(length∈−1,position∈−1,string∈\"\",submatches∈∅)"
      ]
     },
     "execution_count": 345,
     "metadata": {},
     "output_type": "execute_result"
    }
   ],
   "source": [
    "REGEX_SEARCH(\"0123\",1,\"[[:alpha:]]+\")"
   ]
  },
  {
   "cell_type": "markdown",
   "metadata": {},
   "source": [
    "### REGEX_SEARCH_ALL\n",
    "This external function searches for the **all** occurence of a pattern in a string and returns the matched strings as a B sequence.\n",
    "It always starts to match at the beginning.\n",
    "\n",
    "Type: $STRING \\times STRING \\rightarrow seq(STRING)$."
   ]
  },
  {
   "cell_type": "code",
   "execution_count": 346,
   "metadata": {},
   "outputs": [
    {
     "data": {
      "text/markdown": [
       "$\\{(1\\mapsto\\text{\"234\"}),(2\\mapsto\\text{\"567\"})\\}$"
      ],
      "text/plain": [
       "{(1↦\"234\"),(2↦\"567\")}"
      ]
     },
     "execution_count": 346,
     "metadata": {},
     "output_type": "execute_result"
    }
   ],
   "source": [
    "REGEX_SEARCH_ALL(\"abcdef000234daf567\",\"([1-9])([0-9]*)\")"
   ]
  },
  {
   "cell_type": "code",
   "execution_count": 347,
   "metadata": {},
   "outputs": [
    {
     "data": {
      "text/markdown": [
       "$[\\text{\"0\"},\\text{\"0\"},\\text{\"0\"},\\text{\"2\"},\\text{\"3\"},\\text{\"4\"},\\text{\"5\"},\\text{\"6\"},\\text{\"7\"}]$"
      ],
      "text/plain": [
       "[\"0\",\"0\",\"0\",\"2\",\"3\",\"4\",\"5\",\"6\",\"7\"]"
      ]
     },
     "execution_count": 347,
     "metadata": {},
     "output_type": "execute_result"
    }
   ],
   "source": [
    "REGEX_SEARCH_ALL(\"abcdef000234daf567\",\"([0-9])\")"
   ]
  },
  {
   "cell_type": "markdown",
   "metadata": {},
   "source": [
    "If there is no match the function returns the empty set."
   ]
  },
  {
   "cell_type": "code",
   "execution_count": 348,
   "metadata": {},
   "outputs": [
    {
     "data": {
      "text/markdown": [
       "$\\renewcommand{\\emptyset}{\\mathord\\varnothing}\\emptyset$"
      ],
      "text/plain": [
       "∅"
      ]
     },
     "execution_count": 348,
     "metadata": {},
     "output_type": "execute_result"
    }
   ],
   "source": [
    "REGEX_SEARCH_ALL(\"0123\",\"[[:alpha:]]+\")"
   ]
  },
  {
   "cell_type": "markdown",
   "metadata": {},
   "source": [
    "### Unicode treatment\n",
    "\n",
    "The examples below show how ProB deals with Unicode strings and patterns.\n"
   ]
  },
  {
   "cell_type": "code",
   "execution_count": 349,
   "metadata": {},
   "outputs": [
    {
     "data": {
      "text/markdown": [
       "$[\\text{\"a\"},\\text{\"b\"},\\text{\"c\"},\\text{\"ä\"},\\text{\"é\"},\\text{\"à\"}]$"
      ],
      "text/plain": [
       "[\"a\",\"b\",\"c\",\"ä\",\"é\",\"à\"]"
      ]
     },
     "execution_count": 349,
     "metadata": {},
     "output_type": "execute_result"
    }
   ],
   "source": [
    "REGEX_SEARCH_ALL(\"abc-äéà-123\",\"[[:alpha:]]\")"
   ]
  },
  {
   "cell_type": "code",
   "execution_count": 350,
   "metadata": {},
   "outputs": [
    {
     "data": {
      "text/markdown": [
       "$\\text{\"äéà\"}$"
      ],
      "text/plain": [
       "\"äéà\""
      ]
     },
     "execution_count": 350,
     "metadata": {},
     "output_type": "execute_result"
    }
   ],
   "source": [
    "REGEX_SEARCH_STR(\"abc-äéà-123\",\"[äüéèà]+\")"
   ]
  },
  {
   "cell_type": "code",
   "execution_count": 351,
   "metadata": {},
   "outputs": [
    {
     "data": {
      "text/markdown": [
       "$\\renewcommand{\\emptyset}{\\mathord\\varnothing}\\mathit{rec}(\\mathit{length}\\in 3,\\mathit{position}\\in 5,\\mathit{string}\\in\\text{\"äéà\"},\\mathit{submatches}\\in\\emptyset)$"
      ],
      "text/plain": [
       "rec(length∈3,position∈5,string∈\"äéà\",submatches∈∅)"
      ]
     },
     "execution_count": 351,
     "metadata": {},
     "output_type": "execute_result"
    }
   ],
   "source": [
    "REGEX_SEARCH(\"abc-äéà-123\",1,\"[äüéèà]+\")"
   ]
  },
  {
   "cell_type": "code",
   "execution_count": 352,
   "metadata": {},
   "outputs": [
    {
     "data": {
      "text/markdown": [
       "$\\text{\"abc- ça -123\"}$"
      ],
      "text/plain": [
       "\"abc- ça -123\""
      ]
     },
     "execution_count": 352,
     "metadata": {},
     "output_type": "execute_result"
    }
   ],
   "source": [
    "REGEX_REPLACE(\"abc-äéà-123\",\"[äüéèà]+\",\" ça \")"
   ]
  },
  {
   "cell_type": "code",
   "execution_count": 353,
   "metadata": {},
   "outputs": [
    {
     "data": {
      "text/markdown": [
       "$\\mathit{TRUE}$"
      ],
      "text/plain": [
       "TRUE"
      ]
     },
     "execution_count": 353,
     "metadata": {},
     "output_type": "execute_result"
    }
   ],
   "source": [
    "REGEX_MATCH(\"äbc\",\"...\")"
   ]
  },
  {
   "cell_type": "code",
   "execution_count": 354,
   "metadata": {},
   "outputs": [
    {
     "data": {
      "text/markdown": [
       "$\\mathit{FALSE}$"
      ],
      "text/plain": [
       "FALSE"
      ]
     },
     "execution_count": 354,
     "metadata": {},
     "output_type": "execute_result"
    }
   ],
   "source": [
    "REGEX_MATCH(\"äbc\",\"abc\")"
   ]
  },
  {
   "cell_type": "code",
   "execution_count": 355,
   "metadata": {},
   "outputs": [
    {
     "data": {
      "text/markdown": [
       "$\\mathit{TRUE}$"
      ],
      "text/plain": [
       "TRUE"
      ]
     },
     "execution_count": 355,
     "metadata": {},
     "output_type": "execute_result"
    }
   ],
   "source": [
    "REGEX_MATCH(\"äbc\",\"[[:alpha:]]{3}\")"
   ]
  },
  {
   "cell_type": "markdown",
   "metadata": {},
   "source": [
    "### Useful patterns\n",
    "\n",
    "Below we show few examples illustrating useful patterns:"
   ]
  },
  {
   "cell_type": "markdown",
   "metadata": {},
   "source": [
    "Here we use the ```\\w``` word operator:"
   ]
  },
  {
   "cell_type": "code",
   "execution_count": 356,
   "metadata": {},
   "outputs": [
    {
     "data": {
      "text/markdown": [
       "$[\\text{\"The\"},\\text{\"quick\"},\\text{\"fox\"}]$"
      ],
      "text/plain": [
       "[\"The\",\"quick\",\"fox\"]"
      ]
     },
     "execution_count": 356,
     "metadata": {},
     "output_type": "execute_result"
    }
   ],
   "source": [
    "REGEX_SEARCH_ALL(\"The quick fox.\",\"\\w+\")"
   ]
  },
  {
   "cell_type": "markdown",
   "metadata": {},
   "source": [
    "The ```\\d``` digit operator is also useful. Note that we have to escape the dot to avoid treating is the operator matching any non-newline character:"
   ]
  },
  {
   "cell_type": "code",
   "execution_count": 357,
   "metadata": {},
   "outputs": [
    {
     "data": {
      "text/markdown": [
       "$\\mathit{rec}(\\mathit{length}\\in 10,\\mathit{position}\\in 1,\\mathit{string}\\in\\text{\"192.69.2.1\"},\\mathit{submatches}\\in [\\text{\"192\"},\\text{\"69\"},\\text{\"2\"},\\text{\"1\"}])$"
      ],
      "text/plain": [
       "rec(length∈10,position∈1,string∈\"192.69.2.1\",submatches∈[\"192\",\"69\",\"2\",\"1\"])"
      ]
     },
     "execution_count": 357,
     "metadata": {},
     "output_type": "execute_result"
    }
   ],
   "source": [
    "REGEX_SEARCH(\"192.69.2.1\",1,\"(\\d+)\\.(\\d+)\\.(\\d+)\\.(\\d+)\")"
   ]
  },
  {
   "cell_type": "markdown",
   "metadata": {},
   "source": [
    "This example also uses the non-digit operator ```\\D```."
   ]
  },
  {
   "cell_type": "code",
   "execution_count": 358,
   "metadata": {},
   "outputs": [
    {
     "data": {
      "text/markdown": [
       "$\\mathit{rec}(\\mathit{length}\\in 10,\\mathit{position}\\in 1,\\mathit{string}\\in\\text{\"192.69.2.1\"},\\mathit{submatches}\\in [\\text{\"192\"},\\text{\"69\"},\\text{\"2\"},\\text{\"1\"}])$"
      ],
      "text/plain": [
       "rec(length∈10,position∈1,string∈\"192.69.2.1\",submatches∈[\"192\",\"69\",\"2\",\"1\"])"
      ]
     },
     "execution_count": 358,
     "metadata": {},
     "output_type": "execute_result"
    }
   ],
   "source": [
    "REGEX_SEARCH(\"192.69.2.1\",1,\"(\\d+)\\D(\\d+)\\D(\\d+)\\D(\\d+)\")"
   ]
  },
  {
   "cell_type": "markdown",
   "metadata": {},
   "source": [
    "Note that we can access the record fields directly and we can escape the ```\\``` if we wish (see section on escaping in B strings below):"
   ]
  },
  {
   "cell_type": "code",
   "execution_count": 359,
   "metadata": {},
   "outputs": [
    {
     "data": {
      "text/markdown": [
       "$[\\text{\"192\"},\\text{\"69\"},\\text{\"2\"},\\text{\"1\"}]$"
      ],
      "text/plain": [
       "[\"192\",\"69\",\"2\",\"1\"]"
      ]
     },
     "execution_count": 359,
     "metadata": {},
     "output_type": "execute_result"
    }
   ],
   "source": [
    "REGEX_SEARCH(\"192.69.2.1\",1,\"(\\\\d+)\\\\D(\\\\d+)\\\\D(\\\\d+)\\\\D(\\\\d+)\")'submatches"
   ]
  },
  {
   "cell_type": "markdown",
   "metadata": {},
   "source": [
    "Here we use the quantifier ```{min,max}``` to find sequences of 1 to 3 digits:"
   ]
  },
  {
   "cell_type": "code",
   "execution_count": 360,
   "metadata": {},
   "outputs": [
    {
     "data": {
      "text/markdown": [
       "$\\{(1\\mapsto\\text{\"102\"}),(2\\mapsto\\text{\"34\"})\\}$"
      ],
      "text/plain": [
       "{(1↦\"102\"),(2↦\"34\")}"
      ]
     },
     "execution_count": 360,
     "metadata": {},
     "output_type": "execute_result"
    }
   ],
   "source": [
    "REGEX_SEARCH_ALL(\"10234\",\"\\d{1,3}\")"
   ]
  },
  {
   "cell_type": "markdown",
   "metadata": {},
   "source": [
    "The next two examples use the ```\\s``` whitespace and not-whitespace ```\\S``` operators:"
   ]
  },
  {
   "cell_type": "code",
   "execution_count": 361,
   "metadata": {},
   "outputs": [
    {
     "data": {
      "text/markdown": [
       "$[\\text{\"weight\"},\\text{\"is\"},\\text{\"50\"},\\text{\"and\"},\\text{\"height\"},\\text{\"is\"},\\text{\"100\"}]$"
      ],
      "text/plain": [
       "[\"weight\",\"is\",\"50\",\"and\",\"height\",\"is\",\"100\"]"
      ]
     },
     "execution_count": 361,
     "metadata": {},
     "output_type": "execute_result"
    }
   ],
   "source": [
    "REGEX_SEARCH_ALL(\"weight is 50 and height is 100\",\"\\S+\")"
   ]
  },
  {
   "cell_type": "code",
   "execution_count": 362,
   "metadata": {},
   "outputs": [
    {
     "data": {
      "text/markdown": [
       "$[\\text{\" is\"},\\text{\" 50\"},\\text{\" and\"},\\text{\" height\"},\\text{\" is\"},\\text{\" 100\"}]$"
      ],
      "text/plain": [
       "[\" is\",\" 50\",\" and\",\" height\",\" is\",\" 100\"]"
      ]
     },
     "execution_count": 362,
     "metadata": {},
     "output_type": "execute_result"
    }
   ],
   "source": [
    "REGEX_SEARCH_ALL(\"weight is 50 and height is 100\",\"\\s+\\S+\")"
   ]
  },
  {
   "cell_type": "markdown",
   "metadata": {},
   "source": [
    "#### Lookaheads\n",
    "\n",
    "These examples use positive lookahead operator ```(?=subpattern)``` and the negative lookahead operator ```(?!subpattern)``` respectively:"
   ]
  },
  {
   "cell_type": "code",
   "execution_count": 363,
   "metadata": {},
   "outputs": [
    {
     "data": {
      "text/markdown": [
       "$\\text{\"hi\"}$"
      ],
      "text/plain": [
       "\"hi\""
      ]
     },
     "execution_count": 363,
     "metadata": {},
     "output_type": "execute_result"
    }
   ],
   "source": [
    "REGEX_SEARCH(\"abc-defg-hi:jkl\",1,\"[[:alpha:]]+(?=:)\")'string"
   ]
  },
  {
   "cell_type": "code",
   "execution_count": 364,
   "metadata": {},
   "outputs": [
    {
     "data": {
      "text/markdown": [
       "$\\text{\"hi\"}$"
      ],
      "text/plain": [
       "\"hi\""
      ]
     },
     "execution_count": 364,
     "metadata": {},
     "output_type": "execute_result"
    }
   ],
   "source": [
    "REGEX_SEARCH(\"abc-defg-hi:jkl\",1,\"[[:alpha:]]+(?![-a-z])\")'string"
   ]
  },
  {
   "cell_type": "markdown",
   "metadata": {},
   "source": [
    "Note that lookbehinds (such as ```(?<=:)```) are currently not supported by ProB:"
   ]
  },
  {
   "cell_type": "code",
   "execution_count": 365,
   "metadata": {},
   "outputs": [
    {
     "ename": "CommandExecutionException",
     "evalue": ":eval: NOT-WELL-DEFINED: \n### Exception occurred while calling external function:  'REGEX_SEARCH':regex_exception('One of *?+{ was not preceded by a valid regular expression.')\n ### File: /Users/leuschel/git_root/prob_prolog/stdlib/LibraryRegex.def\n ### Line: 28, Column: 1 until 88\n ### within: DEFINITION call of REGEX_SEARCH at Line: 1 Column: 0 until Line: 1 Column: 54\n\n",
     "output_type": "error",
     "traceback": [
      "\u001b[1m\u001b[31m:eval: NOT-WELL-DEFINED: \u001b[0m",
      "\u001b[1m\u001b[31m### Exception occurred while calling external function:  'REGEX_SEARCH':regex_exception('One of *?+{ was not preceded by a valid regular expression.')\u001b[0m",
      "\u001b[1m\u001b[31m ### File: /Users/leuschel/git_root/prob_prolog/stdlib/LibraryRegex.def\u001b[0m",
      "\u001b[1m\u001b[31m ### Line: 28, Column: 1 until 88\u001b[0m",
      "\u001b[1m\u001b[31m ### within: DEFINITION call of REGEX_SEARCH at Line: 1 Column: 0 until Line: 1 Column: 54\u001b[0m"
     ]
    }
   ],
   "source": [
    "REGEX_SEARCH(\"abc-defg-hi:jkl\",1,\"[[:alpha:]]+(?<=:)\")'string"
   ]
  },
  {
   "cell_type": "markdown",
   "metadata": {},
   "source": [
    "Backreferences ```\\int``` are supported, to match the int-th subgroup:"
   ]
  },
  {
   "cell_type": "code",
   "execution_count": 366,
   "metadata": {},
   "outputs": [
    {
     "data": {
      "text/markdown": [
       "$\\text{\"dede\"}$"
      ],
      "text/plain": [
       "\"dede\""
      ]
     },
     "execution_count": 366,
     "metadata": {},
     "output_type": "execute_result"
    }
   ],
   "source": [
    "REGEX_SEARCH(\"abc-dede-hi:jkl\",1,\"([[:alpha:]]+)\\1\")'string"
   ]
  },
  {
   "cell_type": "markdown",
   "metadata": {},
   "source": [
    "#### Escaping in B Strings\n",
    "\n",
    "As regular expressions make heavy use of the backslash ```\\``` it is important to know how B strings deal with backslashes.\n",
    "ProB supports two types of strings:\n",
    "- single-line strings delimited using double quotation marks, e.g., ```\"abc\"```\n",
    "- multi-line strings delimited using three single quogtation marks. ```'''abc'''```\n",
    "\n",
    "Inside both types of strings the following escape sequences using the backslash are recognised:\n",
    "\n",
    "- ```\\n``` stands simply for newline\n",
    "- ```\\t``` stands simply for tab\n",
    "- ```\\r``` stands for carriage return\n",
    "\n",
    "\n",
    "- ```\\\"``` stands simply for ```\"```  (to be able to use quotes in single-line strings)\n",
    "- ```\\'``` stands simply for ```'``` (to be able to use quotes in multi-line strings)\n",
    "- ```\\\\``` stands simply for ```\\``` (to be able to use backslash when preceding any of the above symbols)\n",
    "\n",
    "In all other contexts, i.e., for any value of ```c``` different from ```n,t,r,\",',\\```, the sequence ```\\c``` simply stands for ```\\c``` (i.e., the backslash remains unchanged in the string).\n",
    "\n",
    "The following examples illustrate the above."
   ]
  },
  {
   "cell_type": "code",
   "execution_count": 367,
   "metadata": {},
   "outputs": [
    {
     "data": {
      "text/markdown": [
       "$1$"
      ],
      "text/plain": [
       "1"
      ]
     },
     "execution_count": 367,
     "metadata": {},
     "output_type": "execute_result"
    }
   ],
   "source": [
    "STRING_LENGTH(\"\\\"\")"
   ]
  },
  {
   "cell_type": "code",
   "execution_count": 368,
   "metadata": {},
   "outputs": [
    {
     "data": {
      "text/markdown": [
       "$2$"
      ],
      "text/plain": [
       "2"
      ]
     },
     "execution_count": 368,
     "metadata": {},
     "output_type": "execute_result"
    }
   ],
   "source": [
    "STRING_LENGTH(\"\\\\\\\"\")"
   ]
  },
  {
   "cell_type": "code",
   "execution_count": 369,
   "metadata": {},
   "outputs": [
    {
     "data": {
      "text/markdown": [
       "$2$"
      ],
      "text/plain": [
       "2"
      ]
     },
     "execution_count": 369,
     "metadata": {},
     "output_type": "execute_result"
    }
   ],
   "source": [
    "STRING_LENGTH(\"\\a\")"
   ]
  },
  {
   "cell_type": "code",
   "execution_count": 370,
   "metadata": {},
   "outputs": [
    {
     "data": {
      "text/markdown": [
       "$2$"
      ],
      "text/plain": [
       "2"
      ]
     },
     "execution_count": 370,
     "metadata": {},
     "output_type": "execute_result"
    }
   ],
   "source": [
    "STRING_LENGTH(\"\\\\a\")"
   ]
  },
  {
   "cell_type": "code",
   "execution_count": 371,
   "metadata": {},
   "outputs": [
    {
     "data": {
      "text/markdown": [
       "$\\mathit{TRUE}$"
      ],
      "text/plain": [
       "TRUE"
      ]
     },
     "execution_count": 371,
     "metadata": {},
     "output_type": "execute_result"
    }
   ],
   "source": [
    "\"\\a\" = \"\\\\a\""
   ]
  },
  {
   "cell_type": "code",
   "execution_count": 372,
   "metadata": {},
   "outputs": [
    {
     "data": {
      "text/markdown": [
       "$\\mathit{FALSE}$"
      ],
      "text/plain": [
       "FALSE"
      ]
     },
     "execution_count": 372,
     "metadata": {},
     "output_type": "execute_result"
    }
   ],
   "source": [
    "\"\\n\" = \"\\\\n\""
   ]
  },
  {
   "cell_type": "code",
   "execution_count": 373,
   "metadata": {},
   "outputs": [
    {
     "data": {
      "text/markdown": [
       "$\\text{\"\\\\\\\"\"}$"
      ],
      "text/plain": [
       "\"\\\\\\\"\""
      ]
     },
     "execution_count": 373,
     "metadata": {},
     "output_type": "execute_result"
    }
   ],
   "source": [
    "\"\\\\\\\"\""
   ]
  },
  {
   "cell_type": "markdown",
   "metadata": {},
   "source": [
    "Note that the previous result thus contains two characters:"
   ]
  },
  {
   "cell_type": "code",
   "execution_count": 384,
   "metadata": {},
   "outputs": [
    {
     "ename": "CommandExecutionException",
     "evalue": ":eval: Computation not completed: Unknown identifier \"STRING_CHARS\"",
     "output_type": "error",
     "traceback": [
      "\u001b[1m\u001b[31m:eval: Computation not completed: Unknown identifier \"STRING_CHARS\"\u001b[0m"
     ]
    }
   ],
   "source": [
    "STRING_CHARS(\"\\\\\\\"\")"
   ]
  },
  {
   "cell_type": "code",
   "execution_count": 374,
   "metadata": {},
   "outputs": [
    {
     "data": {
      "text/markdown": [
       "$\\text{\"\\a\"}$"
      ],
      "text/plain": [
       "\"\\a\""
      ]
     },
     "execution_count": 374,
     "metadata": {},
     "output_type": "execute_result"
    }
   ],
   "source": [
    "\"\\a\""
   ]
  },
  {
   "cell_type": "code",
   "execution_count": 375,
   "metadata": {},
   "outputs": [
    {
     "data": {
      "text/markdown": [
       "$\\text{\"\\\\\"}$"
      ],
      "text/plain": [
       "\"\\\\\""
      ]
     },
     "execution_count": 375,
     "metadata": {},
     "output_type": "execute_result"
    }
   ],
   "source": [
    "\"\\\\\""
   ]
  },
  {
   "cell_type": "code",
   "execution_count": 376,
   "metadata": {},
   "outputs": [
    {
     "data": {
      "text/markdown": [
       "$\\text{\"(\\d+)\\D(\\d+)\\D(\\d+)\\D(\\d+)\"}$"
      ],
      "text/plain": [
       "\"(\\d+)\\D(\\d+)\\D(\\d+)\\D(\\d+)\""
      ]
     },
     "execution_count": 376,
     "metadata": {},
     "output_type": "execute_result"
    }
   ],
   "source": [
    "\"(\\d+)\\D(\\d+)\\D(\\d+)\\D(\\d+)\""
   ]
  },
  {
   "cell_type": "code",
   "execution_count": 377,
   "metadata": {},
   "outputs": [
    {
     "data": {
      "text/markdown": [
       "$\\text{\"\\b\"}$"
      ],
      "text/plain": [
       "\"\\b\""
      ]
     },
     "execution_count": 377,
     "metadata": {},
     "output_type": "execute_result"
    }
   ],
   "source": [
    "\"\\b\""
   ]
  },
  {
   "cell_type": "markdown",
   "metadata": {},
   "source": [
    "## LibraryProB\n",
    "\n",
    "This library provides various facilities which are very specific to ProB.\n",
    "You can obtain the definitions below by putting the following into your DEFINITIONS clause:\n",
    "\n",
    "`DEFINITIONS \"LibraryProB.def\"`\n",
    "\n",
    "The file `LibraryProB.def` is bundled with ProB and can be found in the `stdlib` folder."
   ]
  },
  {
   "cell_type": "code",
   "execution_count": 387,
   "metadata": {},
   "outputs": [
    {
     "data": {
      "text/plain": [
       "Loaded machine: Jupyter_LibraryStrings"
      ]
     },
     "execution_count": 387,
     "metadata": {},
     "output_type": "execute_result"
    }
   ],
   "source": [
    "::load\n",
    "MACHINE Jupyter_LibraryStrings\n",
    "DEFINITIONS \"LibraryProB.def\"\n",
    "END"
   ]
  },
  {
   "cell_type": "markdown",
   "metadata": {},
   "source": [
    "With ```ASSERT_EXPR``` you can check assertions within expressions.\n",
    "\n",
    "Type: $BOOL \\times STRING \\times \\tau \\rightarrow \\tau$."
   ]
  },
  {
   "cell_type": "code",
   "execution_count": 379,
   "metadata": {},
   "outputs": [
    {
     "data": {
      "text/markdown": [
       "$4$"
      ],
      "text/plain": [
       "4"
      ]
     },
     "execution_count": 379,
     "metadata": {},
     "output_type": "execute_result"
    }
   ],
   "source": [
    "1+ASSERT_EXPR(bool(2>1),\"err\",3)"
   ]
  },
  {
   "cell_type": "markdown",
   "metadata": {},
   "source": [
    "With ```ASSERT_TRUE``` you can check assertions within predicates.\n",
    "\n",
    "Signature: $BOOL \\times STRING \\times \\tau$."
   ]
  },
  {
   "cell_type": "code",
   "execution_count": 380,
   "metadata": {},
   "outputs": [
    {
     "data": {
      "text/markdown": [
       "$\\mathit{TRUE}$"
      ],
      "text/plain": [
       "TRUE"
      ]
     },
     "execution_count": 380,
     "metadata": {},
     "output_type": "execute_result"
    }
   ],
   "source": [
    "ASSERT_TRUE(bool(2>1),\"err\") & 2>1"
   ]
  },
  {
   "cell_type": "code",
   "execution_count": 381,
   "metadata": {},
   "outputs": [
    {
     "ename": "CommandExecutionException",
     "evalue": ":eval: UNKNOWN (FALSE with enumeration warning)",
     "output_type": "error",
     "traceback": [
      "\u001b[1m\u001b[31m:eval: UNKNOWN (FALSE with enumeration warning)\u001b[0m"
     ]
    }
   ],
   "source": [
    "x=0 & res=ASSERT_EXPR(bool(x>0),\"arg not positive\",10+x)"
   ]
  },
  {
   "cell_type": "markdown",
   "metadata": {},
   "source": [
    "The function FORCE forces evaluation of symbolic set representations.\n",
    "\n",
    "Type: $POW(\\tau) \\rightarrow POW(\\tau)$."
   ]
  },
  {
   "cell_type": "code",
   "execution_count": 393,
   "metadata": {},
   "outputs": [
    {
     "data": {
      "text/markdown": [
       "$\\{2,4,6,8,10,12,14,16,18,20,22,24,26,28,30,32,34,36,38,40,42,44,46,48,50,52,54,56,58,60,62,64,66,68,70,72,74,76,78,80,82,84,86,88,90,92,94,96,98,100\\}$"
      ],
      "text/plain": [
       "{2,4,6,8,10,12,14,16,18,20,22,24,26,28,30,32,34,36,38,40,42,44,46,48,50,52,54,56,58,60,62,64,66,68,70,72,74,76,78,80,82,84,86,88,90,92,94,96,98,100}"
      ]
     },
     "execution_count": 393,
     "metadata": {},
     "output_type": "execute_result"
    }
   ],
   "source": [
    "FORCE( /*@symbolic */ { x | x:1..100 & x mod 2 = 0 } )"
   ]
  },
  {
   "cell_type": "markdown",
   "metadata": {},
   "source": [
    "The function COPY can be used as an \"enumeration barrier\"; the value is copied only once it is fully known.\n",
    "\n",
    "Type: $\\tau \\rightarrow \\tau$"
   ]
  },
  {
   "cell_type": "code",
   "execution_count": 390,
   "metadata": {},
   "outputs": [
    {
     "data": {
      "text/markdown": [
       "$\\mathit{TRUE}$\n",
       "\n",
       "**Solution:**\n",
       "* $\\mathit{x} = 3$\n",
       "* $\\mathit{y} = 3$"
      ],
      "text/plain": [
       "TRUE\n",
       "\n",
       "Solution:\n",
       "\tx = 3\n",
       "\ty = 3"
      ]
     },
     "execution_count": 390,
     "metadata": {},
     "output_type": "execute_result"
    }
   ],
   "source": [
    "x:1..3 & y=COPY(x) & 9/y=3"
   ]
  },
  {
   "cell_type": "markdown",
   "metadata": {},
   "source": [
    "### Version\n",
    "This documentation was generated with the following version of ProB:"
   ]
  },
  {
   "cell_type": "code",
   "execution_count": 382,
   "metadata": {},
   "outputs": [
    {
     "data": {
      "text/plain": [
       "ProB CLI: 1.9.0-beta8 (2a32153ac44523a5f93b0a999f9c42198b9360dc)\n",
       "ProB 2: 3.2.12-SNAPSHOT (16945773c7a5d9b44c1061db2a89cdd9e1da3cc3)"
      ]
     },
     "execution_count": 382,
     "metadata": {},
     "output_type": "execute_result"
    }
   ],
   "source": [
    ":version"
   ]
  },
  {
   "cell_type": "code",
   "execution_count": null,
   "metadata": {},
   "outputs": [],
   "source": []
  }
 ],
 "metadata": {
  "kernelspec": {
   "display_name": "ProB 2",
   "language": "prob",
   "name": "prob2"
  },
  "language_info": {
   "codemirror_mode": "prob2_jupyter_repl",
   "file_extension": ".prob",
   "mimetype": "text/x-prob2-jupyter-repl",
   "name": "prob"
  }
 },
 "nbformat": 4,
 "nbformat_minor": 2
}
