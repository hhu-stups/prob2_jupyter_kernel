{
 "cells": [
  {
   "cell_type": "markdown",
   "metadata": {},
   "source": [
    "`:help` can be used to list all commands, or get help for a specific command. `:?` is equivalent to `:help`."
   ]
  },
  {
   "cell_type": "code",
   "execution_count": 1,
   "metadata": {},
   "outputs": [
    {
     "data": {
      "text/markdown": [
       "Type a valid B expression, or one of the following commands:\n",
       "\n",
       "* `::load` Load the machine source code from the body.\n",
       "* `::render` Render some content with the specified MIME type.\n",
       "* `:?` Display help for a specific command, or general help about the REPL.\n",
       "* `:browse` Show information about the current state\n",
       "* `:constants` Set up the current machine's constants with the specified predicate\n",
       "* `:eval` Evaluate an expression.\n",
       "* `:exec` Execute an operation with the specified predicate, or by its ID\n",
       "* `:groovy` Evaluate the given Groovy expression.\n",
       "* `:help` Display help for a specific command, or general help about the REPL.\n",
       "* `:init` Initialise the current machine with the specified predicate\n",
       "* `:initialise` Initialise the current machine with the specified predicate\n",
       "* `:load` Load the machine from the given path.\n",
       "* `:pref` View or change the value of one or more preferences.\n",
       "* `:prettyprint` Pretty-print a predicate.\n",
       "* `:solve` Solve a predicate with the specified solver\n",
       "* `:table` Display an expression as a table.\n",
       "* `:time` Execute the given command and measure how long it takes to execute.\n",
       "* `:version` Display version info about the ProB CLI and ProB 2\n"
      ],
      "text/plain": [
       "Type a valid B expression, or one of the following commands:\n",
       "::load Load the machine source code from the body.\n",
       "::render Render some content with the specified MIME type.\n",
       ":? Display help for a specific command, or general help about the REPL.\n",
       ":browse Show information about the current state\n",
       ":constants Set up the current machine's constants with the specified predicate\n",
       ":eval Evaluate an expression.\n",
       ":exec Execute an operation with the specified predicate, or by its ID\n",
       ":groovy Evaluate the given Groovy expression.\n",
       ":help Display help for a specific command, or general help about the REPL.\n",
       ":init Initialise the current machine with the specified predicate\n",
       ":initialise Initialise the current machine with the specified predicate\n",
       ":load Load the machine from the given path.\n",
       ":pref View or change the value of one or more preferences.\n",
       ":prettyprint Pretty-print a predicate.\n",
       ":solve Solve a predicate with the specified solver\n",
       ":table Display an expression as a table.\n",
       ":time Execute the given command and measure how long it takes to execute.\n",
       ":version Display version info about the ProB CLI and ProB 2\n"
      ]
     },
     "execution_count": 1,
     "metadata": {},
     "output_type": "execute_result"
    }
   ],
   "source": [
    ":help"
   ]
  },
  {
   "cell_type": "code",
   "execution_count": 2,
   "metadata": {},
   "outputs": [
    {
     "data": {
      "text/markdown": [
       "Type a valid B expression, or one of the following commands:\n",
       "\n",
       "* `::load` Load the machine source code from the body.\n",
       "* `::render` Render some content with the specified MIME type.\n",
       "* `:?` Display help for a specific command, or general help about the REPL.\n",
       "* `:browse` Show information about the current state\n",
       "* `:constants` Set up the current machine's constants with the specified predicate\n",
       "* `:eval` Evaluate an expression.\n",
       "* `:exec` Execute an operation with the specified predicate, or by its ID\n",
       "* `:groovy` Evaluate the given Groovy expression.\n",
       "* `:help` Display help for a specific command, or general help about the REPL.\n",
       "* `:init` Initialise the current machine with the specified predicate\n",
       "* `:initialise` Initialise the current machine with the specified predicate\n",
       "* `:load` Load the machine from the given path.\n",
       "* `:pref` View or change the value of one or more preferences.\n",
       "* `:prettyprint` Pretty-print a predicate.\n",
       "* `:solve` Solve a predicate with the specified solver\n",
       "* `:table` Display an expression as a table.\n",
       "* `:time` Execute the given command and measure how long it takes to execute.\n",
       "* `:version` Display version info about the ProB CLI and ProB 2\n"
      ],
      "text/plain": [
       "Type a valid B expression, or one of the following commands:\n",
       "::load Load the machine source code from the body.\n",
       "::render Render some content with the specified MIME type.\n",
       ":? Display help for a specific command, or general help about the REPL.\n",
       ":browse Show information about the current state\n",
       ":constants Set up the current machine's constants with the specified predicate\n",
       ":eval Evaluate an expression.\n",
       ":exec Execute an operation with the specified predicate, or by its ID\n",
       ":groovy Evaluate the given Groovy expression.\n",
       ":help Display help for a specific command, or general help about the REPL.\n",
       ":init Initialise the current machine with the specified predicate\n",
       ":initialise Initialise the current machine with the specified predicate\n",
       ":load Load the machine from the given path.\n",
       ":pref View or change the value of one or more preferences.\n",
       ":prettyprint Pretty-print a predicate.\n",
       ":solve Solve a predicate with the specified solver\n",
       ":table Display an expression as a table.\n",
       ":time Execute the given command and measure how long it takes to execute.\n",
       ":version Display version info about the ProB CLI and ProB 2\n"
      ]
     },
     "execution_count": 2,
     "metadata": {},
     "output_type": "execute_result"
    }
   ],
   "source": [
    ":?"
   ]
  },
  {
   "cell_type": "code",
   "execution_count": 3,
   "metadata": {},
   "outputs": [
    {
     "data": {
      "text/markdown": [
       "```\n",
       ":? [COMMAND]\n",
       ":help [COMMAND]\n",
       "```\n",
       "\n",
       "Display help for a specific command, or general help about the REPL."
      ],
      "text/plain": [
       ":? [COMMAND]\n",
       ":help [COMMAND]\n",
       "\n",
       "Display help for a specific command, or general help about the REPL."
      ]
     },
     "execution_count": 3,
     "metadata": {},
     "output_type": "execute_result"
    }
   ],
   "source": [
    ":help :help"
   ]
  },
  {
   "cell_type": "code",
   "execution_count": 4,
   "metadata": {},
   "outputs": [
    {
     "data": {
      "text/markdown": [
       "```\n",
       ":? [COMMAND]\n",
       ":help [COMMAND]\n",
       "```\n",
       "\n",
       "Display help for a specific command, or general help about the REPL."
      ],
      "text/plain": [
       ":? [COMMAND]\n",
       ":help [COMMAND]\n",
       "\n",
       "Display help for a specific command, or general help about the REPL."
      ]
     },
     "execution_count": 4,
     "metadata": {},
     "output_type": "execute_result"
    }
   ],
   "source": [
    ":? :?"
   ]
  },
  {
   "cell_type": "code",
   "execution_count": 5,
   "metadata": {},
   "outputs": [
    {
     "data": {
      "text/markdown": [
       "```\n",
       ":load FILENAME [PREF=VALUE ...]\n",
       "```\n",
       "\n",
       "Load the machine from the given path."
      ],
      "text/plain": [
       ":load FILENAME [PREF=VALUE ...]\n",
       "\n",
       "Load the machine from the given path."
      ]
     },
     "execution_count": 5,
     "metadata": {},
     "output_type": "execute_result"
    }
   ],
   "source": [
    ":help :load"
   ]
  },
  {
   "cell_type": "code",
   "execution_count": 6,
   "metadata": {},
   "outputs": [
    {
     "data": {
      "text/markdown": [
       "```\n",
       "::load [PREF=VALUE ...]\n",
       "MACHINE\n",
       "...\n",
       "END\n",
       "```\n",
       "\n",
       "Load the machine source code from the body."
      ],
      "text/plain": [
       "::load [PREF=VALUE ...]\n",
       "MACHINE\n",
       "...\n",
       "END\n",
       "\n",
       "Load the machine source code from the body."
      ]
     },
     "execution_count": 6,
     "metadata": {},
     "output_type": "execute_result"
    }
   ],
   "source": [
    ":help ::load"
   ]
  },
  {
   "cell_type": "markdown",
   "metadata": {},
   "source": [
    "When looking up help for a command, the `:` or `::` can be left off of the command name."
   ]
  },
  {
   "cell_type": "code",
   "execution_count": 7,
   "metadata": {},
   "outputs": [
    {
     "data": {
      "text/markdown": [
       "```\n",
       ":? [COMMAND]\n",
       ":help [COMMAND]\n",
       "```\n",
       "\n",
       "Display help for a specific command, or general help about the REPL."
      ],
      "text/plain": [
       ":? [COMMAND]\n",
       ":help [COMMAND]\n",
       "\n",
       "Display help for a specific command, or general help about the REPL."
      ]
     },
     "execution_count": 7,
     "metadata": {},
     "output_type": "execute_result"
    }
   ],
   "source": [
    ":help help"
   ]
  },
  {
   "cell_type": "code",
   "execution_count": 8,
   "metadata": {},
   "outputs": [
    {
     "data": {
      "text/markdown": [
       "```\n",
       ":? [COMMAND]\n",
       ":help [COMMAND]\n",
       "```\n",
       "\n",
       "Display help for a specific command, or general help about the REPL."
      ],
      "text/plain": [
       ":? [COMMAND]\n",
       ":help [COMMAND]\n",
       "\n",
       "Display help for a specific command, or general help about the REPL."
      ]
     },
     "execution_count": 8,
     "metadata": {},
     "output_type": "execute_result"
    }
   ],
   "source": [
    ":help ?"
   ]
  },
  {
   "cell_type": "code",
   "execution_count": 9,
   "metadata": {},
   "outputs": [
    {
     "data": {
      "text/markdown": [
       "```\n",
       ":load FILENAME [PREF=VALUE ...]\n",
       "```\n",
       "\n",
       "Load the machine from the given path."
      ],
      "text/plain": [
       ":load FILENAME [PREF=VALUE ...]\n",
       "\n",
       "Load the machine from the given path."
      ]
     },
     "execution_count": 9,
     "metadata": {},
     "output_type": "execute_result"
    }
   ],
   "source": [
    ":help load"
   ]
  },
  {
   "cell_type": "markdown",
   "metadata": {},
   "source": [
    "But it's not possible to use the wrong number of colons."
   ]
  },
  {
   "cell_type": "code",
   "execution_count": 10,
   "metadata": {},
   "outputs": [
    {
     "ename": "CommandExecutionException",
     "evalue": ":help: Cannot display help for unknown command \"::help\"",
     "output_type": "error",
     "traceback": [
      "\u001b[1m\u001b[31m:help: Cannot display help for unknown command \"::help\"\u001b[0m"
     ]
    }
   ],
   "source": [
    ":help ::help"
   ]
  },
  {
   "cell_type": "markdown",
   "metadata": {},
   "source": [
    "Unknown commands cannot be looked up."
   ]
  },
  {
   "cell_type": "code",
   "execution_count": 11,
   "metadata": {},
   "outputs": [
    {
     "ename": "CommandExecutionException",
     "evalue": ":help: Cannot display help for unknown command \"wrong\"",
     "output_type": "error",
     "traceback": [
      "\u001b[1m\u001b[31m:help: Cannot display help for unknown command \"wrong\"\u001b[0m"
     ]
    }
   ],
   "source": [
    ":help wrong"
   ]
  },
  {
   "cell_type": "code",
   "execution_count": 12,
   "metadata": {},
   "outputs": [
    {
     "ename": "CommandExecutionException",
     "evalue": ":help: Cannot display help for unknown command \":wrong\"",
     "output_type": "error",
     "traceback": [
      "\u001b[1m\u001b[31m:help: Cannot display help for unknown command \":wrong\"\u001b[0m"
     ]
    }
   ],
   "source": [
    ":help :wrong"
   ]
  }
 ],
 "metadata": {
  "kernelspec": {
   "display_name": "ProB 2",
   "language": "prob",
   "name": "prob2"
  },
  "language_info": {
   "file_extension": ".prob",
   "mimetype": "text/x-prob",
   "name": "prob"
  }
 },
 "nbformat": 4,
 "nbformat_minor": 2
}
