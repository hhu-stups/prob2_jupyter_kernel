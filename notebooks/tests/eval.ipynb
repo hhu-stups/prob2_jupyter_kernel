{
 "cells": [
  {
   "cell_type": "code",
   "execution_count": 1,
   "metadata": {},
   "outputs": [
    {
     "data": {
      "text/plain": [
       ":eval EXPRESSION\n",
       "\n",
       "Evaluate an expression."
      ]
     },
     "execution_count": 1,
     "metadata": {},
     "output_type": "execute_result"
    }
   ],
   "source": [
    ":help :eval"
   ]
  },
  {
   "cell_type": "markdown",
   "metadata": {},
   "source": [
    "Expressions can be evaluated."
   ]
  },
  {
   "cell_type": "code",
   "execution_count": 2,
   "metadata": {},
   "outputs": [
    {
     "data": {
      "text/plain": [
       "123"
      ]
     },
     "execution_count": 2,
     "metadata": {},
     "output_type": "execute_result"
    }
   ],
   "source": [
    "123"
   ]
  },
  {
   "cell_type": "code",
   "execution_count": 3,
   "metadata": {},
   "outputs": [
    {
     "data": {
      "text/plain": [
       "579"
      ]
     },
     "execution_count": 3,
     "metadata": {},
     "output_type": "execute_result"
    }
   ],
   "source": [
    "123 + 456"
   ]
  },
  {
   "cell_type": "code",
   "execution_count": 4,
   "metadata": {},
   "outputs": [
    {
     "data": {
      "text/plain": [
       "{1,2,5,6}"
      ]
     },
     "execution_count": 4,
     "metadata": {},
     "output_type": "execute_result"
    }
   ],
   "source": [
    "{1, 2} \\/ {5, 6}"
   ]
  },
  {
   "cell_type": "code",
   "execution_count": 5,
   "metadata": {},
   "outputs": [
    {
     "data": {
      "text/plain": [
       "{1,2,3,4,5}"
      ]
     },
     "execution_count": 5,
     "metadata": {},
     "output_type": "execute_result"
    }
   ],
   "source": [
    "1..5"
   ]
  },
  {
   "cell_type": "code",
   "execution_count": 6,
   "metadata": {},
   "outputs": [
    {
     "data": {
      "text/plain": [
       "3"
      ]
     },
     "execution_count": 6,
     "metadata": {},
     "output_type": "execute_result"
    }
   ],
   "source": [
    "MAXINT"
   ]
  },
  {
   "cell_type": "markdown",
   "metadata": {},
   "source": [
    "Solution variables are displayed."
   ]
  },
  {
   "cell_type": "code",
   "execution_count": 7,
   "metadata": {},
   "outputs": [
    {
     "name": "stdout",
     "output_type": "stream",
     "text": [
      "[2018-05-24 13:07:20,316, T+6658] \"ProB Output Logger for instance 19f040ba\" de.prob.cli.ProBInstance.readAndLog(ConsoleListener.java:48): [INFO] Rewrite NAT1 to: 1 .. MAXINT\u001b[0m\n"
     ]
    },
    {
     "data": {
      "text/plain": [
       "TRUE\n",
       "\n",
       "Solution:\n",
       "\txx = 3"
      ]
     },
     "execution_count": 7,
     "metadata": {},
     "output_type": "execute_result"
    }
   ],
   "source": [
    "#xx.(xx : NAT1 & xx mod 3 = 0)"
   ]
  },
  {
   "cell_type": "code",
   "execution_count": 8,
   "metadata": {},
   "outputs": [
    {
     "data": {
      "text/plain": [
       "TRUE\n",
       "\n",
       "Solution:\n",
       "\txx = 3\n",
       "\tyy = 4"
      ]
     },
     "execution_count": 8,
     "metadata": {},
     "output_type": "execute_result"
    }
   ],
   "source": [
    "#xx, yy.(xx > 2 & yy < 5 & xx < yy)"
   ]
  },
  {
   "cell_type": "markdown",
   "metadata": {},
   "source": [
    "Various kinds of evaluation errors are displayed."
   ]
  },
  {
   "cell_type": "code",
   "execution_count": 9,
   "metadata": {},
   "outputs": [
    {
     "ename": "CommandExecutionException",
     "evalue": ":eval: Computation not completed: Unknown identifier \"unknown\"",
     "output_type": "error",
     "traceback": [
      "\u001b[1m\u001b[31m:eval: Computation not completed: Unknown identifier \"unknown\"\u001b[0m"
     ]
    }
   ],
   "source": [
    "unknown"
   ]
  },
  {
   "cell_type": "code",
   "execution_count": 10,
   "metadata": {},
   "outputs": [
    {
     "name": "stdout",
     "output_type": "stream",
     "text": [
      "[2018-05-24 13:07:20,617, T+6959] \"ProB Output Logger for instance 19f040ba\" de.prob.cli.ProBInstance.readAndLog(ConsoleListener.java:48): [INFO] VIRTUAL TIME-OUT caused by: ### Warning: enumerating x : (all_solutions) : INTEGER : 2:sup ---> 2:3\u001b[0m\n",
      "[2018-05-24 13:07:20,618, T+6960] \"ProB Output Logger for instance 19f040ba\" de.prob.cli.ProBInstance.readAndLog(ConsoleListener.java:48): [INFO] *** exiting multiple error blocks (2 -> 0) for catch_enumeration_warning_exceptions ***\u001b[0m\n"
     ]
    },
    {
     "ename": "CommandExecutionException",
     "evalue": ":eval: UNKNOWN (FALSE with enumeration warning)",
     "output_type": "error",
     "traceback": [
      "\u001b[1m\u001b[31m:eval: UNKNOWN (FALSE with enumeration warning)\u001b[0m"
     ]
    }
   ],
   "source": [
    "card({x | x > 0 & x mod 2 = 0})"
   ]
  },
  {
   "cell_type": "code",
   "execution_count": 11,
   "metadata": {},
   "outputs": [
    {
     "name": "stdout",
     "output_type": "stream",
     "text": [
      "[2018-05-24 13:07:20,715, T+7057] \"ProB Output Logger for instance 19f040ba\" de.prob.cli.ProBInstance.readAndLog(ConsoleListener.java:48): [INFO] \u001b[31m\u001b[1m! A well-definedness error occured !\u001b[0m\n",
      "[2018-05-24 13:07:20,716, T+7058] \"ProB Output Logger for instance 19f040ba\" de.prob.cli.ProBInstance.readAndLog(ConsoleListener.java:48): [INFO] \u001b[0m\u001b[31m\u001b[1m! mod not defined for negative numbers: 2 mod-1\u001b[0m\n",
      "[2018-05-24 13:07:20,717, T+7059] \"ProB Output Logger for instance 19f040ba\" de.prob.cli.ProBInstance.readAndLog(ConsoleListener.java:48): [INFO] \u001b[0m\u001b[31m\u001b[1m! Line: 1 Column: 0 until 8\u001b[0m\n"
     ]
    },
    {
     "ename": "CommandExecutionException",
     "evalue": ":eval: NOT-WELL-DEFINED: \nmod not defined for negative numbers: 2 mod-1\n ### Line: 1, Column: 0 until 8\n\n",
     "output_type": "error",
     "traceback": [
      "\u001b[1m\u001b[31m:eval: NOT-WELL-DEFINED: \u001b[0m",
      "\u001b[1m\u001b[31mmod not defined for negative numbers: 2 mod-1\u001b[0m",
      "\u001b[1m\u001b[31m ### Line: 1, Column: 0 until 8\u001b[0m"
     ]
    }
   ],
   "source": [
    "2 mod -1"
   ]
  },
  {
   "cell_type": "markdown",
   "metadata": {},
   "source": [
    "The `:eval` command is equivalent to entering a bare expression."
   ]
  },
  {
   "cell_type": "code",
   "execution_count": 12,
   "metadata": {},
   "outputs": [
    {
     "data": {
      "text/plain": [
       "TRUE\n",
       "\n",
       "Solution:\n",
       "\txx = 3\n",
       "\tyy = 4"
      ]
     },
     "execution_count": 12,
     "metadata": {},
     "output_type": "execute_result"
    }
   ],
   "source": [
    ":eval #xx, yy.(xx > 2 & yy < 5 & xx < yy)"
   ]
  }
 ],
 "metadata": {
  "kernelspec": {
   "display_name": "ProB 2",
   "language": "prob",
   "name": "prob2"
  },
  "language_info": {
   "file_extension": ".prob",
   "mimetype": "text/x-prob",
   "name": "prob"
  }
 },
 "nbformat": 4,
 "nbformat_minor": 2
}
