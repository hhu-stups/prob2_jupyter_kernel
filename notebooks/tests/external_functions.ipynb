{
 "cells": [
  {
   "cell_type": "markdown",
   "metadata": {},
   "source": [
    "The following fails:"
   ]
  },
  {
   "cell_type": "code",
   "execution_count": 11,
   "metadata": {},
   "outputs": [
    {
     "ename": "ProBError",
     "evalue": "ProB returned error messages:\nError: Definition file cannot be read: Loading of file content not supported.",
     "output_type": "error",
     "traceback": [
      "\u001b[1m\u001b[31m---------------------------------------------------------------------------\u001b[0m",
      "\u001b[1m\u001b[31mde.prob.exception.ProBError: ProB returned error messages:\u001b[0m",
      "\u001b[1m\u001b[31mError: Definition file cannot be read: Loading of file content not supported.\u001b[0m",
      "\u001b[1m\u001b[31m\tat de.prob.scripting.ClassicalBFactory.parseString(ClassicalBFactory.java:137)\u001b[0m",
      "\u001b[1m\u001b[31m\tat de.prob.scripting.ClassicalBFactory.create(ClassicalBFactory.java:55)\u001b[0m",
      "\u001b[1m\u001b[31m\tat de.prob2.jupyter.commands.LoadCellCommand.run(LoadCellCommand.java:49)\u001b[0m",
      "\u001b[1m\u001b[31m\tat de.prob2.jupyter.ProBKernel.executeCellCommand(ProBKernel.java:98)\u001b[0m",
      "\u001b[1m\u001b[31m\tat de.prob2.jupyter.ProBKernel.eval(ProBKernel.java:168)\u001b[0m",
      "\u001b[1m\u001b[31m\tat io.github.spencerpark.jupyter.kernel.BaseKernel.handleExecuteRequest(BaseKernel.java:282)\u001b[0m",
      "\u001b[1m\u001b[31m\tat io.github.spencerpark.jupyter.channels.ShellChannel.lambda$bind$0(ShellChannel.java:50)\u001b[0m",
      "\u001b[1m\u001b[31m\tat java.lang.Thread.run(Thread.java:748)\u001b[0m",
      "\u001b[1m\u001b[31m\tat io.github.spencerpark.jupyter.channels.Loop.run(Loop.java:39)\u001b[0m"
     ]
    }
   ],
   "source": [
    "::load\n",
    "MACHINE Jupyter\n",
    "    DEFINITIONS \"LibraryMeta.def\"; \"LibraryStrings.def\"\n",
    "END"
   ]
  },
  {
   "cell_type": "markdown",
   "metadata": {},
   "source": [
    "The following works:"
   ]
  },
  {
   "cell_type": "code",
   "execution_count": 8,
   "metadata": {},
   "outputs": [
    {
     "name": "stdout",
     "output_type": "stream",
     "text": [
      "[2018-05-11 13:05:25,769, T+420396] \"Shell-0\" de.prob.cli.PrologProcessProvider.makeProcess(PrologProcessProvider.java:64): [INFO] Starting ProB's Prolog Core. Path is /Users/leuschel/.prob/prob2-3.2.10-SNAPSHOT/probcli.sh\n",
      "[2018-05-11 13:05:26,896, T+421523] \"Shell-0\" de.prob.cli.PortPattern.setValue(PortPattern.java:30): [INFO] Server has started and listens on port 61716\n",
      "[2018-05-11 13:05:26,896, T+421523] \"Shell-0\" de.prob.cli.InterruptRefPattern.setValue(InterruptRefPattern.java:29): [INFO] Server can receive user interrupts via reference 40215\n",
      "[2018-05-11 13:05:26,898, T+421525] \"ProB Output Logger for instance 502f39a7\" de.prob.cli.ProBInstance.readAndLog(ConsoleListener.java:48): [INFO] -- starting command loop --\u001b[0m\n",
      "[2018-05-11 13:05:26,922, T+421549] \"ProB Output Logger for instance 502f39a7\" de.prob.cli.ProBInstance.readAndLog(ConsoleListener.java:48): [INFO] Connected: 127.0.0.1\u001b[0m\n",
      "[2018-05-11 13:05:27,034, T+421661] \"ProB Output Logger for instance 502f39a7\" de.prob.cli.ProBInstance.readAndLog(ConsoleListener.java:48): [INFO] loading_classical_b(parser_version(2018-04-11 12:07:37.302),Jupyter,[/Users/leuschel/git_root/JAVAPROB/prob2-jupyter-kernel/notebooks/tests])\u001b[0m\n"
     ]
    },
    {
     "data": {
      "text/plain": [
       "Loaded machine: Jupyter : []\n"
      ]
     },
     "execution_count": 8,
     "metadata": {},
     "output_type": "execute_result"
    }
   ],
   "source": [
    "::load\n",
    "MACHINE Jupyter\n",
    "DEFINITIONS\n",
    "   EXTERNAL_FUNCTION_PROB_INFO_STR == STRING --> STRING;\n",
    "   PROB_INFO_STR(info_field_name) == \"\";\n",
    "   EXTERNAL_FUNCTION_PROB_STATISTICS == STRING --> INTEGER;\n",
    "    PROB_STATISTICS(info_field_name) == 0\n",
    "END"
   ]
  },
  {
   "cell_type": "code",
   "execution_count": 3,
   "metadata": {},
   "outputs": [
    {
     "data": {
      "text/plain": [
       "\"1.8.1-beta4\""
      ]
     },
     "execution_count": 3,
     "metadata": {},
     "output_type": "execute_result"
    }
   ],
   "source": [
    "PROB_INFO_STR(\"prob-version\")"
   ]
  },
  {
   "cell_type": "code",
   "execution_count": 4,
   "metadata": {},
   "outputs": [
    {
     "data": {
      "text/plain": [
       "\"1.8.0_152-b16\""
      ]
     },
     "execution_count": 4,
     "metadata": {},
     "output_type": "execute_result"
    }
   ],
   "source": [
    "PROB_INFO_STR(\"java-version\")"
   ]
  },
  {
   "cell_type": "code",
   "execution_count": 7,
   "metadata": {},
   "outputs": [
    {
     "data": {
      "text/plain": [
       "\"363372b41a2862e778657c124d58da965a3bdaf0\""
      ]
     },
     "execution_count": 7,
     "metadata": {},
     "output_type": "execute_result"
    }
   ],
   "source": [
    "PROB_INFO_STR(\"prob-revision\")"
   ]
  },
  {
   "cell_type": "code",
   "execution_count": 9,
   "metadata": {},
   "outputs": [
    {
     "data": {
      "text/plain": [
       "1"
      ]
     },
     "execution_count": 9,
     "metadata": {},
     "output_type": "execute_result"
    }
   ],
   "source": [
    "PROB_STATISTICS(\"states\")"
   ]
  },
  {
   "cell_type": "code",
   "execution_count": 10,
   "metadata": {},
   "outputs": [
    {
     "data": {
      "text/plain": [
       "150458528"
      ]
     },
     "execution_count": 10,
     "metadata": {},
     "output_type": "execute_result"
    }
   ],
   "source": [
    "PROB_STATISTICS(\"prolog-memory-bytes-used\")"
   ]
  },
  {
   "cell_type": "markdown",
   "metadata": {},
   "source": [
    "The following fails because Java parser not available from within probcli:"
   ]
  },
  {
   "cell_type": "code",
   "execution_count": 5,
   "metadata": {},
   "outputs": [
    {
     "name": "stdout",
     "output_type": "stream",
     "text": [
      "[2018-05-11 13:01:48,465, T+203092] \"ProB Output Logger for instance 4dadeb3e\" de.prob.cli.ProBInstance.readAndLog(ConsoleListener.java:48): [INFO] \u001b[31m\u001b[1m! An error occurred !\u001b[0m\n",
      "[2018-05-11 13:01:48,466, T+203093] \"ProB Output Logger for instance 4dadeb3e\" de.prob.cli.ProBInstance.readAndLog(ConsoleListener.java:48): [INFO] \u001b[0m\u001b[31m\u001b[1m! source(parsercall)\u001b[0m\n",
      "[2018-05-11 13:01:48,466, T+203093] \"ProB Output Logger for instance 4dadeb3e\" de.prob.cli.ProBInstance.readAndLog(ConsoleListener.java:48): [INFO] \u001b[0m\u001b[31m\u001b[1m! Unexpected error while parsing machine: \u001b[0m\n",
      "[2018-05-11 13:01:48,467, T+203094] \"ProB Output Logger for instance 4dadeb3e\" de.prob.cli.ProBInstance.readAndLog(ConsoleListener.java:48): [INFO] \u001b[0m\u001b[31m\u001b[1m! An error occurred !\u001b[0m\n",
      "[2018-05-11 13:01:48,467, T+203094] \"ProB Output Logger for instance 4dadeb3e\" de.prob.cli.ProBInstance.readAndLog(ConsoleListener.java:48): [INFO] \u001b[0m\u001b[31m\u001b[1m! source(parsercall)\u001b[0m\n",
      "[2018-05-11 13:01:48,468, T+203095] \"ProB Output Logger for instance 4dadeb3e\" de.prob.cli.ProBInstance.readAndLog(ConsoleListener.java:48): [INFO] \u001b[0m\u001b[31m\u001b[1m! Additional information:  Error: Could not find or load main class de.prob.cliparser.CliBParser\u001b[0m\n",
      "[2018-05-11 13:01:48,469, T+203096] \"ProB Output Logger for instance 4dadeb3e\" de.prob.cli.ProBInstance.readAndLog(ConsoleListener.java:48): [INFO] \u001b[0m\u001b[31m\u001b[1m! An error occurred !\u001b[0m\n",
      "[2018-05-11 13:01:48,469, T+203096] \"ProB Output Logger for instance 4dadeb3e\" de.prob.cli.ProBInstance.readAndLog(ConsoleListener.java:48): [INFO] \u001b[0m\u001b[31m\u001b[1m! source(internal_error(parsercall))\u001b[0m\n",
      "[2018-05-11 13:01:48,470, T+203097] \"ProB Output Logger for instance 4dadeb3e\" de.prob.cli.ProBInstance.readAndLog(ConsoleListener.java:48): [INFO] \u001b[0m\u001b[31m\u001b[1m! Java B parser (probcliparser.jar) is missing from lib directory in:  /Users/leuschel/.prob/prob2-3.2.10-SNAPSHOT/\u001b[0m\n"
     ]
    },
    {
     "ename": "UserErrorException",
     "evalue": "NOT-WELL-DEFINED: \nUnexpected error while parsing machine: \n\n\nAdditional information:  Error: Could not find or load main class de.prob.cliparser.CliBParser\n\n\nJava B parser (probcliparser.jar) is missing from lib directory in:  /Users/leuschel/.prob/prob2-3.2.10-SNAPSHOT/\n\n",
     "output_type": "error",
     "traceback": [
      "\u001b[1m\u001b[31mNOT-WELL-DEFINED: \u001b[0m",
      "\u001b[1m\u001b[31mUnexpected error while parsing machine: \u001b[0m",
      "\u001b[1m\u001b[31m\u001b[0m",
      "\u001b[1m\u001b[31m\u001b[0m",
      "\u001b[1m\u001b[31mAdditional information:  Error: Could not find or load main class de.prob.cliparser.CliBParser\u001b[0m",
      "\u001b[1m\u001b[31m\u001b[0m",
      "\u001b[1m\u001b[31m\u001b[0m",
      "\u001b[1m\u001b[31mJava B parser (probcliparser.jar) is missing from lib directory in:  /Users/leuschel/.prob/prob2-3.2.10-SNAPSHOT/\u001b[0m"
     ]
    }
   ],
   "source": [
    "PROB_INFO_STR(\"parser-version\")"
   ]
  },
  {
   "cell_type": "code",
   "execution_count": null,
   "metadata": {},
   "outputs": [],
   "source": []
  }
 ],
 "metadata": {
  "kernelspec": {
   "display_name": "ProB 2",
   "language": "prob",
   "name": "prob2"
  },
  "language_info": {
   "file_extension": ".prob",
   "mimetype": "text/x-prob",
   "name": "prob"
  }
 },
 "nbformat": 4,
 "nbformat_minor": 2
}
