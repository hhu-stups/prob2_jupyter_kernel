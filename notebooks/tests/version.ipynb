{
 "cells": [
  {
   "cell_type": "code",
   "execution_count": 1,
   "metadata": {},
   "outputs": [
    {
     "data": {
      "text/markdown": [
       "```\n",
       ":version\n",
       "```\n",
       "\n",
       "Display version info about the ProB 2 Jupyter kernel and its underlying components."
      ],
      "text/plain": [
       ":version\n",
       "Display version info about the ProB 2 Jupyter kernel and its underlying components."
      ]
     },
     "execution_count": 1,
     "metadata": {},
     "output_type": "execute_result"
    }
   ],
   "source": [
    ":help :version"
   ]
  },
  {
   "cell_type": "code",
   "execution_count": 2,
   "metadata": {},
   "outputs": [
    {
     "data": {
      "text/plain": [
       "ProB 2 Jupyter kernel: 1.2.1-SNAPSHOT (2aaa99bab781d6eca5a2b3388cca76b412fd52f6)\n",
       "ProB 2: 3.15.0 (6ee6df4eab62d20df40c36cd42108b62962ec41b)\n",
       "ProB B parser: 2.9.32 (7306d13499ba281a6e336c006d9fb23204624daa)\n",
       "ProB CLI:\n",
       "\t1.11.1-final (1125ea39af78125a39093c65a0af783b7636b362)\n",
       "\tLast changed: Wed Dec 29 13:14:39 2021 +0100\n",
       "\tProlog: SICStus 4.7.0 (x86_64-darwin-18.7.0): Wed Jul  7 17:07:32 CEST 2021"
      ]
     },
     "execution_count": 2,
     "metadata": {},
     "output_type": "execute_result"
    }
   ],
   "source": [
    ":version"
   ]
  }
 ],
 "metadata": {
  "kernelspec": {
   "display_name": "ProB 2",
   "language": "prob",
   "name": "prob2"
  },
  "language_info": {
   "codemirror_mode": "prob2_jupyter_repl",
   "file_extension": ".prob",
   "mimetype": "text/x-prob2-jupyter-repl",
   "name": "prob"
  }
 },
 "nbformat": 4,
 "nbformat_minor": 2
}
