{
 "cells": [
  {
   "cell_type": "markdown",
   "metadata": {
    "slideshow": {
     "slide_type": "slide"
    }
   },
   "source": [
    "# Ein Jupyter-Kernel für Logik und Mengentheorie\n",
    "\n",
    "### David Geleßus, Michael Leuschel\n",
    "### Bad Honnef, 2019\n",
    "#### 36. Workshop der GI-Fachgruppe Programmiersprachen und Rechenkonzepte\n",
    "\n",
    "![ProB](./img/prob_logo.png)"
   ]
  },
  {
   "cell_type": "markdown",
   "metadata": {
    "slideshow": {
     "slide_type": "slide"
    }
   },
   "source": [
    "# Einführung: Notebooks, Jupyter"
   ]
  },
  {
   "cell_type": "markdown",
   "metadata": {
    "slideshow": {
     "slide_type": "subslide"
    }
   },
   "source": [
    "## Was ist ein Notebook?\n",
    "\n",
    "* Dokument mit Text und ausführbaren Code-Abschnitten\n",
    "* Code kann interaktiv ausgeführt werden\n",
    "* Ergebnisse erscheinen im Notebook unter dem jeweiligem Code\n",
    "* Ähnlich wie eine REPL (read-eval-print-loop), mit einigen Unterschieden:\n",
    "    * Code-Abschnitte können \"außer der Reihe\" bearbeitet und ausgeführt werden\n",
    "    * Ausgaben können formatierten Text und Grafiken enthalten\n",
    "    * Speicherbar als Datei\n",
    "    * Code kann später neu ausgeführt werden\n",
    "    * Weitergabe an andere Nutzer möglich\n",
    "* Implementierungen: Mathematica, Maple, Jupyter, u. a."
   ]
  },
  {
   "cell_type": "markdown",
   "metadata": {
    "slideshow": {
     "slide_type": "subslide"
    }
   },
   "source": [
    "## Jupyter Notebook\n",
    "\n",
    "* Browserbasierte Notebook-Oberfläche\n",
    "* Open Source und plattformübergreifend\n",
    "* Stammt aus der Python-Community, in Python implementiert\n",
    "* ACM System Software Award 2017\n",
    "* Jupyter-Notebooks können aber verschiedene Programmiersprachen verwenden\n",
    "* Dazu trennt Jupyter strikt zwischen Frontend und Kernel:\n",
    "    * Das allgemeine **Frontend** implementiert z. B. Benutzeroberfläche und Dateiformat\n",
    "    * Ein sprachspezifischer **Kernel** stellt die Sprache dem Frontend zur Verfügung\n",
    "* Schnittstellen zwischen Frontend und Kernel sind sprachneutral\n",
    "    * Kernel können in (fast) jeder Sprache implementiert werden, kein Python-Code nötig"
   ]
  },
  {
   "cell_type": "markdown",
   "metadata": {
    "slideshow": {
     "slide_type": "subslide"
    }
   },
   "source": [
    "## ProB (https://www3.hhu.de/stups/prob)\n",
    "\n",
    "* Werkzeug zur Animation, Verifikation und Visualisierung formeller Spezifikationen\n",
    "* Grundlage: Solver für Prädikatenlogik, Mengentheorie mit Relationen, Funktionen und Arithmetik.\n",
    "* Unterstützt hauptsächlich B-Spezifikationen (klassisches B, Event-B)\n",
    "* Versteht auch andere Sprachen wie TLA<sup>+</sup> und CSP<sub>M</sub>\n",
    "* Verschiedene Solver Backends (CLP, SAT, SMT), verschiedene Modelchecking Backends (Prolog, parB, C für LTL, LTSMin [sym,seq,par], TLC)\n",
    "* ProBs APIs sind für alle Sprachen gleich\n",
    "    * Der ProB 2-Jupyter-Kernel unterstützt daher (fast) alle Sprachen, die ProB versteht"
   ]
  },
  {
   "cell_type": "markdown",
   "metadata": {},
   "source": [
    "## Einsatz von ProB in der Industrie\n",
    "* Datenvalidierung: Siemens (Paris Line 1, Barcelona, Alger, ...), Alstom (Amsterdam,...), Thales (Schweiz, Dänemark, Slovenien, Thailand,...), RATP, SNCF, ...\n",
    "* Zertifizierung als T2 Werkzeug nach EN50128\n",
    "* Validierung von Systemmodellen: ClearSy (Octys, ...),...\n",
    "* Ausführung formaler Modelle in Echtzeit\n",
    " * SlotTool \n",
    " * Hybrid Level 3 - ETCS  (Thales, ProRail/Network Rail/DB), Video der Deutschen Bahn: https://www.youtube.com/watch?v=FjKnugbmrP4\n",
    "![HL3](./img/HL3_screenshot.png)\n",
    "\n",
    "* Anmerkung: in etwa 30% aller CBTC U-Bahnen weltweit benutzen B."
   ]
  },
  {
   "cell_type": "markdown",
   "metadata": {
    "slideshow": {
     "slide_type": "subslide"
    }
   },
   "source": [
    "## Architektur von ProB\n",
    "\n",
    "* **`probcli`:** Kern/Hauptteil von ProB\n",
    "    * Implementiert in SICStus Prolog\n",
    "    * Erlaubt Animation, Visualisierung, Verifikation von formellen Spezifikationen\n",
    "    * Unterstützt u. A. (klassisches) B, Event-B, TLA<sup>+</sup>, CSP<sub>M</sub>\n",
    "    * Kommandozeilentool oder interaktive REPL\n",
    "* **ProB 2-Java-API:** (aka ProB 2-Kernel; ≠ ProB 2-Jupyter-Kernel!)\n",
    "    * Objektorientierte Java-Schnittstelle für ProB\n",
    "    * Verwaltet automatisch eine oder mehrere `probcli`-Instanzen\n",
    "* **ProB 2-Jupyter-Kernel:** Jupyter-Kernel-Implementierung für ProB\n",
    "    * In Java implementiert\n",
    "    * Ansteuerung von ProB durch ProB 2-Java-API\n",
    "    * Kommunikation mit Jupyter durch Jupyter-JVM-BaseKernel"
   ]
  },
  {
   "cell_type": "markdown",
   "metadata": {
    "slideshow": {
     "slide_type": "subslide"
    }
   },
   "source": [
    "## Formeln auswerten\n",
    "\n",
    "* B-Ausdrücke auswerten und Prädikate lösen wie in `probcli -repl`\n",
    "\n",
    "Zum Beispiel, Primzahlen bis 50 ausgeben:"
   ]
  },
  {
   "cell_type": "code",
   "execution_count": 48,
   "metadata": {},
   "outputs": [
    {
     "data": {
      "text/markdown": [
       "$\\{2,3,5,7,11,13,17,19,23,29,31,37,41,43,47,53,59,61,67,71,73,79,83,89,97,101,103,107,109,113,127,131,137,139,149,151,157,163,167,173,179,181,191,193,197,199,211,223,227,229,233,239,241,251,257,263,269,271,277,281,283,293,307,311,313,317,331,337,347,349,353,359,367,373,379,383,389,397,401,409,419,421,431,433,439,443,449,457,461,463,467,479,487,491,499\\}$"
      ],
      "text/plain": [
       "{2,3,5,7,11,13,17,19,23,29,31,37,41,43,47,53,59,61,67,71,73,79,83,89,97,101,103,107,109,113,127,131,137,139,149,151,157,163,167,173,179,181,191,193,197,199,211,223,227,229,233,239,241,251,257,263,269,271,277,281,283,293,307,311,313,317,331,337,347,349,353,359,367,373,379,383,389,397,401,409,419,421,431,433,439,443,449,457,461,463,467,479,487,491,499}"
      ]
     },
     "execution_count": 48,
     "metadata": {},
     "output_type": "execute_result"
    }
   ],
   "source": [
    "{x | x > 1 & x < 500 & not(#y.(y > 1 & y < x & x mod y = 0))}"
   ]
  },
  {
   "cell_type": "code",
   "execution_count": 49,
   "metadata": {},
   "outputs": [
    {
     "data": {
      "text/latex": [
       "$\\mathit{x} > 1 \\wedge  \\mathit{x} < 50 \\wedge  \\neg (\\exists \\mathit{y}\\cdot (\\mathit{y} > 1 \\wedge  \\mathit{y} < \\mathit{x} \\wedge  \\mathit{x} \\mod  \\mathit{y} = 0))$"
      ],
      "text/plain": [
       "x > 1 ∧ x < 50 ∧ ¬(∃y·(y > 1 ∧ y < x ∧ x mod y = 0))"
      ]
     },
     "execution_count": 49,
     "metadata": {},
     "output_type": "execute_result"
    }
   ],
   "source": [
    ":prettyprint x > 1 & x < 50 & not(#y.(y > 1 & y < x & x mod y = 0))"
   ]
  },
  {
   "cell_type": "markdown",
   "metadata": {
    "slideshow": {
     "slide_type": "subslide"
    }
   },
   "source": [
    "Eingabe als Unicode ist auch erlaubt:"
   ]
  },
  {
   "cell_type": "code",
   "execution_count": 50,
   "metadata": {},
   "outputs": [
    {
     "data": {
      "text/markdown": [
       "$\\{2,3,5,7,11,13,17,19,23,29,31,37,41,43,47\\}$"
      ],
      "text/plain": [
       "{2,3,5,7,11,13,17,19,23,29,31,37,41,43,47}"
      ]
     },
     "execution_count": 50,
     "metadata": {},
     "output_type": "execute_result"
    }
   ],
   "source": [
    "{x | x>1 ∧ x<50 ∧ ¬(∃y.(y>1 ∧ y<x ∧ x mod y=0))}"
   ]
  },
  {
   "cell_type": "markdown",
   "metadata": {
    "slideshow": {
     "slide_type": "subslide"
    }
   },
   "source": [
    "Mehrzeilige Eingabe ist möglich, es gibt Syntax-Highlighting und Code Completion."
   ]
  },
  {
   "cell_type": "code",
   "execution_count": 51,
   "metadata": {},
   "outputs": [
    {
     "data": {
      "text/markdown": [
       "$\\mathit{TRUE}$\n",
       "\n",
       "**Solution:**\n",
       "* $\\mathit{R} = 8$\n",
       "* $\\mathit{S} = 9$\n",
       "* $\\mathit{D} = 7$\n",
       "* $\\mathit{E} = 5$\n",
       "* $\\mathit{Y} = 2$\n",
       "* $\\mathit{M} = 1$\n",
       "* $\\mathit{N} = 6$\n",
       "* $\\mathit{O} = 0$"
      ],
      "text/plain": [
       "TRUE\n",
       "\n",
       "Solution:\n",
       "\tR = 8\n",
       "\tS = 9\n",
       "\tD = 7\n",
       "\tE = 5\n",
       "\tY = 2\n",
       "\tM = 1\n",
       "\tN = 6\n",
       "\tO = 0"
      ]
     },
     "execution_count": 51,
     "metadata": {},
     "output_type": "execute_result"
    }
   ],
   "source": [
    "{S, E, N, D, M, O, R, Y} <: 0..9\n",
    "& S > 0 & M > 0\n",
    "& card({S, E, N, D, M, O, R, Y}) = 8\n",
    "&\n",
    "            S*1000 + E*100 + N*10 + D\n",
    "+           M*1000 + O*100 + R*10 + E\n",
    "= M*10000 + O*1000 + N*100 + E*10 + Y"
   ]
  },
  {
   "cell_type": "markdown",
   "metadata": {
    "slideshow": {
     "slide_type": "subslide"
    }
   },
   "source": [
    "Mithilfe der Mengentheorie kann man alle Lösungen finden, und mit dem ```:table``` Kommando als Tabelle ausgeben."
   ]
  },
  {
   "cell_type": "code",
   "execution_count": 52,
   "metadata": {},
   "outputs": [
    {
     "data": {
      "text/markdown": [
       "|S|E|N|D|M|O|R|Y|\n",
       "|---|---|---|---|---|---|---|---|\n",
       "|$9$|$5$|$6$|$7$|$1$|$0$|$8$|$2$|\n"
      ],
      "text/plain": [
       "S\tE\tN\tD\tM\tO\tR\tY\n",
       "9\t5\t6\t7\t1\t0\t8\t2\n"
      ]
     },
     "execution_count": 52,
     "metadata": {},
     "output_type": "execute_result"
    }
   ],
   "source": [
    ":table {S,E,N,D,M,O,R,Y |\n",
    "\n",
    "{S, E, N, D, M, O, R, Y} <: 0..9\n",
    "& S > 0 & M > 0 // <--\n",
    "& card({S, E, N, D, M, O, R, Y}) = 8\n",
    "&\n",
    "            S*1000 + E*100 + N*10 + D\n",
    "+           M*1000 + O*100 + R*10 + E\n",
    "= M*10000 + O*1000 + N*100 + E*10 + Y\n",
    "\n",
    "}"
   ]
  },
  {
   "cell_type": "markdown",
   "metadata": {
    "slideshow": {
     "slide_type": "subslide"
    }
   },
   "source": [
    "In B sind Folgen auch Funktionen, Funktionen auch Relationen, Relationen auch Mengen.\n",
    "Relationen können in Jupyter auch grafisch dargestellt werden."
   ]
  },
  {
   "cell_type": "code",
   "execution_count": 53,
   "metadata": {},
   "outputs": [
    {
     "data": {
      "text/markdown": [
       "$\\{(2\\mapsto 1),(3\\mapsto 1),(3\\mapsto 2),(4\\mapsto 1),(4\\mapsto 2),(4\\mapsto 3),(5\\mapsto 1),(5\\mapsto 2),(5\\mapsto 3),(5\\mapsto 4)\\}$"
      ],
      "text/plain": [
       "{(2↦1),(3↦1),(3↦2),(4↦1),(4↦2),(4↦3),(5↦1),(5↦2),(5↦3),(5↦4)}"
      ]
     },
     "execution_count": 53,
     "metadata": {},
     "output_type": "execute_result"
    }
   ],
   "source": [
    "{x,y|x:1..5 & y:1..5 & x>y}"
   ]
  },
  {
   "cell_type": "code",
   "execution_count": 54,
   "metadata": {},
   "outputs": [
    {
     "data": {
      "text/plain": [
       "Preference changed: DOT_ENGINE = circo\n"
      ]
     },
     "execution_count": 54,
     "metadata": {},
     "output_type": "execute_result"
    }
   ],
   "source": [
    ":pref DOT_ENGINE=circo"
   ]
  },
  {
   "cell_type": "code",
   "execution_count": 84,
   "metadata": {},
   "outputs": [
    {
     "data": {
      "image/svg+xml": [
       "<?xml version=\"1.0\" encoding=\"UTF-8\" standalone=\"no\"?>\n",
       "<!DOCTYPE svg PUBLIC \"-//W3C//DTD SVG 1.1//EN\"\n",
       " \"http://www.w3.org/Graphics/SVG/1.1/DTD/svg11.dtd\">\n",
       "<!-- Generated by graphviz version 2.28.0 (20110509.1545)\n",
       " -->\n",
       "<!-- Title: state Pages: 1 -->\n",
       "<svg width=\"197pt\" height=\"404pt\"\n",
       " viewBox=\"0.00 0.00 197.00 404.00\" xmlns=\"http://www.w3.org/2000/svg\" xmlns:xlink=\"http://www.w3.org/1999/xlink\">\n",
       "<g id=\"graph1\" class=\"graph\" transform=\"scale(1 1) rotate(0) translate(4 400)\">\n",
       "<title>state</title>\n",
       "<polygon fill=\"white\" stroke=\"white\" points=\"-4,5 -4,-400 194,-400 194,5 -4,5\"/>\n",
       "<!-- 5 -->\n",
       "<g id=\"node1\" class=\"node\"><title>5</title>\n",
       "<polygon fill=\"#cdba96\" stroke=\"#cdba96\" points=\"96,-396 42,-396 42,-360 96,-360 96,-396\"/>\n",
       "<text text-anchor=\"middle\" x=\"69\" y=\"-373.8\" font-family=\"Times,serif\" font-size=\"14.00\">5</text>\n",
       "</g>\n",
       "<!-- 4 -->\n",
       "<g id=\"node3\" class=\"node\"><title>4</title>\n",
       "<polygon fill=\"#cdba96\" stroke=\"#cdba96\" points=\"132,-306 78,-306 78,-270 132,-270 132,-306\"/>\n",
       "<text text-anchor=\"middle\" x=\"105\" y=\"-283.8\" font-family=\"Times,serif\" font-size=\"14.00\">4</text>\n",
       "</g>\n",
       "<!-- 5&#45;&gt;4 -->\n",
       "<g id=\"edge2\" class=\"edge\"><title>5&#45;&gt;4</title>\n",
       "<path fill=\"none\" stroke=\"firebrick\" d=\"M76.1124,-359.614C81.2737,-346.998 88.3479,-329.705 94.2038,-315.391\"/>\n",
       "<polygon fill=\"firebrick\" stroke=\"firebrick\" points=\"97.4779,-316.631 98.0248,-306.05 90.999,-313.981 97.4779,-316.631\"/>\n",
       "<text text-anchor=\"middle\" x=\"97\" y=\"-328.8\" font-family=\"Times,serif\" font-size=\"14.00\">k5</text>\n",
       "</g>\n",
       "<!-- 3 -->\n",
       "<g id=\"node5\" class=\"node\"><title>3</title>\n",
       "<polygon fill=\"#cdba96\" stroke=\"#cdba96\" points=\"132,-216 78,-216 78,-180 132,-180 132,-216\"/>\n",
       "<text text-anchor=\"middle\" x=\"105\" y=\"-193.8\" font-family=\"Times,serif\" font-size=\"14.00\">3</text>\n",
       "</g>\n",
       "<!-- 5&#45;&gt;3 -->\n",
       "<g id=\"edge4\" class=\"edge\"><title>5&#45;&gt;3</title>\n",
       "<path fill=\"none\" stroke=\"firebrick\" d=\"M62.3241,-359.922C54.9337,-338.461 45.2688,-300.719 55,-270 60.3407,-253.141 71.2853,-236.824 81.5768,-224.093\"/>\n",
       "<polygon fill=\"firebrick\" stroke=\"firebrick\" points=\"84.4013,-226.173 88.18,-216.275 79.0535,-221.656 84.4013,-226.173\"/>\n",
       "<text text-anchor=\"middle\" x=\"62\" y=\"-283.8\" font-family=\"Times,serif\" font-size=\"14.00\">k5</text>\n",
       "</g>\n",
       "<!-- 2 -->\n",
       "<g id=\"node7\" class=\"node\"><title>2</title>\n",
       "<polygon fill=\"#cdba96\" stroke=\"#cdba96\" points=\"189,-126 135,-126 135,-90 189,-90 189,-126\"/>\n",
       "<text text-anchor=\"middle\" x=\"162\" y=\"-103.8\" font-family=\"Times,serif\" font-size=\"14.00\">2</text>\n",
       "</g>\n",
       "<!-- 5&#45;&gt;2 -->\n",
       "<g id=\"edge6\" class=\"edge\"><title>5&#45;&gt;2</title>\n",
       "<path fill=\"none\" stroke=\"firebrick\" d=\"M92.1315,-359.919C108.172,-346.874 128.772,-327.522 141,-306 173.209,-249.313 168.396,-227.196 169,-162 169.074,-154 169.788,-151.961 169,-144 168.749,-141.464 168.398,-138.84 167.985,-136.221\"/>\n",
       "<polygon fill=\"firebrick\" stroke=\"firebrick\" points=\"171.421,-135.548 166.172,-126.345 164.536,-136.813 171.421,-135.548\"/>\n",
       "<text text-anchor=\"middle\" x=\"174\" y=\"-238.8\" font-family=\"Times,serif\" font-size=\"14.00\">k5</text>\n",
       "</g>\n",
       "<!-- 1 -->\n",
       "<g id=\"node9\" class=\"node\"><title>1</title>\n",
       "<polygon fill=\"#cdba96\" stroke=\"#cdba96\" points=\"101,-36 47,-36 47,-0 101,-0 101,-36\"/>\n",
       "<text text-anchor=\"middle\" x=\"74\" y=\"-13.8\" font-family=\"Times,serif\" font-size=\"14.00\">1</text>\n",
       "</g>\n",
       "<!-- 5&#45;&gt;1 -->\n",
       "<g id=\"edge8\" class=\"edge\"><title>5&#45;&gt;1</title>\n",
       "<path fill=\"none\" stroke=\"firebrick\" d=\"M44.0894,-359.841C24.3252,-344 0,-318.51 0,-289 0,-289 0,-289 0,-107 0,-80.6259 19.7116,-58.035 38.788,-42.3476\"/>\n",
       "<polygon fill=\"firebrick\" stroke=\"firebrick\" points=\"41.1268,-44.9623 46.8653,-36.0561 36.8253,-39.4398 41.1268,-44.9623\"/>\n",
       "<text text-anchor=\"middle\" x=\"7\" y=\"-193.8\" font-family=\"Times,serif\" font-size=\"14.00\">k5</text>\n",
       "</g>\n",
       "<!-- 4&#45;&gt;3 -->\n",
       "<g id=\"edge10\" class=\"edge\"><title>4&#45;&gt;3</title>\n",
       "<path fill=\"none\" stroke=\"firebrick\" d=\"M105,-269.614C105,-257.24 105,-240.369 105,-226.22\"/>\n",
       "<polygon fill=\"firebrick\" stroke=\"firebrick\" points=\"108.5,-226.05 105,-216.05 101.5,-226.05 108.5,-226.05\"/>\n",
       "<text text-anchor=\"middle\" x=\"112\" y=\"-238.8\" font-family=\"Times,serif\" font-size=\"14.00\">k5</text>\n",
       "</g>\n",
       "<!-- 4&#45;&gt;2 -->\n",
       "<g id=\"edge12\" class=\"edge\"><title>4&#45;&gt;2</title>\n",
       "<path fill=\"none\" stroke=\"firebrick\" d=\"M113.828,-269.93C116.76,-264.235 120.033,-257.85 123,-252 131.091,-236.046 134.867,-232.804 141,-216 149.463,-192.81 149.264,-186.227 154,-162 155.632,-153.652 157.118,-144.509 158.355,-136.202\"/>\n",
       "<polygon fill=\"firebrick\" stroke=\"firebrick\" points=\"161.827,-136.646 159.78,-126.251 154.898,-135.653 161.827,-136.646\"/>\n",
       "<text text-anchor=\"middle\" x=\"157\" y=\"-193.8\" font-family=\"Times,serif\" font-size=\"14.00\">k5</text>\n",
       "</g>\n",
       "<!-- 4&#45;&gt;1 -->\n",
       "<g id=\"edge14\" class=\"edge\"><title>4&#45;&gt;1</title>\n",
       "<path fill=\"none\" stroke=\"firebrick\" d=\"M93.3702,-269.809C84.7406,-255.958 73.691,-235.625 69,-216 54.8228,-156.69 62.8115,-84.4693 68.9724,-46.0684\"/>\n",
       "<polygon fill=\"firebrick\" stroke=\"firebrick\" points=\"72.4294,-46.6159 70.6417,-36.173 65.527,-45.4514 72.4294,-46.6159\"/>\n",
       "<text text-anchor=\"middle\" x=\"68\" y=\"-148.8\" font-family=\"Times,serif\" font-size=\"14.00\">k5</text>\n",
       "</g>\n",
       "<!-- 3&#45;&gt;2 -->\n",
       "<g id=\"edge16\" class=\"edge\"><title>3&#45;&gt;2</title>\n",
       "<path fill=\"none\" stroke=\"firebrick\" d=\"M116.261,-179.614C124.59,-166.755 136.066,-149.038 145.439,-134.568\"/>\n",
       "<polygon fill=\"firebrick\" stroke=\"firebrick\" points=\"148.457,-136.346 150.956,-126.05 142.582,-132.541 148.457,-136.346\"/>\n",
       "<text text-anchor=\"middle\" x=\"145\" y=\"-148.8\" font-family=\"Times,serif\" font-size=\"14.00\">k5</text>\n",
       "</g>\n",
       "<!-- 3&#45;&gt;1 -->\n",
       "<g id=\"edge18\" class=\"edge\"><title>3&#45;&gt;1</title>\n",
       "<path fill=\"none\" stroke=\"firebrick\" d=\"M102.028,-179.933C96.6346,-148.966 85.1981,-83.2989 78.7247,-46.1292\"/>\n",
       "<polygon fill=\"firebrick\" stroke=\"firebrick\" points=\"82.1273,-45.2669 76.9634,-36.0157 75.2311,-46.468 82.1273,-45.2669\"/>\n",
       "<text text-anchor=\"middle\" x=\"99\" y=\"-103.8\" font-family=\"Times,serif\" font-size=\"14.00\">k5</text>\n",
       "</g>\n",
       "<!-- 2&#45;&gt;1 -->\n",
       "<g id=\"edge20\" class=\"edge\"><title>2&#45;&gt;1</title>\n",
       "<path fill=\"none\" stroke=\"firebrick\" d=\"M146.087,-89.5211C136.408,-79.0452 123.697,-65.5585 112,-54 108.345,-50.3889 104.424,-46.6415 100.538,-42.9996\"/>\n",
       "<polygon fill=\"firebrick\" stroke=\"firebrick\" points=\"102.902,-40.4186 93.1876,-36.1896 98.1443,-45.5534 102.902,-40.4186\"/>\n",
       "<text text-anchor=\"middle\" x=\"135\" y=\"-58.8\" font-family=\"Times,serif\" font-size=\"14.00\">k5</text>\n",
       "</g>\n",
       "</g>\n",
       "</svg>"
      ],
      "text/plain": [
       "<Dot visualization: expr_as_graph [(\"k5\",{x,y|x:1..5 & y:1..5 & x>y})]>"
      ]
     },
     "execution_count": 84,
     "metadata": {},
     "output_type": "execute_result"
    }
   ],
   "source": [
    ":dot expr_as_graph (\"k5\",({x,y|x:1..5 & y:1..5 & x>y} ))"
   ]
  },
  {
   "cell_type": "markdown",
   "metadata": {
    "slideshow": {
     "slide_type": "slide"
    }
   },
   "source": [
    "# Anwendungsmöglichkeiten"
   ]
  },
  {
   "cell_type": "markdown",
   "metadata": {
    "slideshow": {
     "slide_type": "subslide"
    }
   },
   "source": [
    "## Interaktive Nutzung als REPL\n",
    "\n",
    "* Jupyter Notebook kann wie eine REPL benutzt werden\n",
    "* Vorteile: mehrzeilige Eingaben, formatierte Ausgaben, verbesserte Editor-Funktionen, speicherbar\n",
    "* Alternative: `jupyter console` ermöglicht Verwendung von Jupyter-Kerneln im Terminal\n",
    "    * Verhält sich wie eine klassische REPL, arbeitet nicht mit Notebooks\n",
    "    * Unterstützt trotzdem erweiterte Funktionen: Eingabeverlauf, Code-Vervollständigung"
   ]
  },
  {
   "cell_type": "markdown",
   "metadata": {
    "slideshow": {
     "slide_type": "subslide"
    }
   },
   "source": [
    "## Interaktive Experimentierung\n",
    "\n",
    "* Beliebige Stellen im Notebook können bearbeitet und neu ausgeführt werden\n",
    "* Vereinfacht Testen von Änderungen am Code, z. B.:\n",
    "    * Andere Konstanten-/Präferenzwerte\n",
    "    * Hinzufügen/Entfernen von Invarianten/Guards\n",
    "    * Ändern der Operationsfolge\n",
    "* Auch Notebooks von anderen Nutzern können ohne Weiteres bearbeitet werden\n",
    "    * Notebook-Dateien sind nie \"schreibgeschützt\"\n",
    "    * Anzeige und Bearbeitung nutzen die gleiche Oberfläche\n",
    "* Anwendungen:\n",
    "    * ProB-Notebook als Dokumentation und Beispielcode zu einem B-Modell\n",
    "    * ProB-Notebook\n",
    "    * Übungsblätter für Lehrveranstaltungen (B, Logik, Mengentheorie, theoretische Informatik) als Notebooks"
   ]
  },
  {
   "cell_type": "markdown",
   "metadata": {
    "slideshow": {
     "slide_type": "slide"
    }
   },
   "source": [
    "# Anwendung als Dokumentation (Bibliothek von ProB)\n",
    "\n",
    "## LibraryRegex\n",
    "\n",
    "This library provides various facilities for pattern matching with regular expressions.\n",
    "You can obtain the definitions below by putting the following into your DEFINITIONS clause:\n",
    "\n",
    "`DEFINITIONS \"LibraryRegex.def\"`\n",
    "\n",
    "The file `LibraryRegex.def` is also bundled with ProB and can be found in the `stdlib` folder (as of version 1.8.3-beta4)."
   ]
  },
  {
   "cell_type": "code",
   "execution_count": 58,
   "metadata": {},
   "outputs": [
    {
     "data": {
      "text/plain": [
       "Loaded machine: Jupyter_LibraryRegex"
      ]
     },
     "execution_count": 58,
     "metadata": {},
     "output_type": "execute_result"
    }
   ],
   "source": [
    "::load\n",
    "MACHINE Jupyter_LibraryRegex\n",
    "DEFINITIONS \"LibraryRegex.def\"; \"LibraryStrings.def\"\n",
    "END"
   ]
  },
  {
   "cell_type": "markdown",
   "metadata": {
    "slideshow": {
     "slide_type": "subslide"
    }
   },
   "source": [
    "### REGEX_SEARCH_ALL\n",
    "This external function searches for **all** occurences of a pattern in a string and returns the matched strings as a B sequence.\n",
    "It always starts to match at the beginning.\n",
    "\n",
    "Type: $STRING \\times STRING \\rightarrow seq(STRING)$."
   ]
  },
  {
   "cell_type": "code",
   "execution_count": 59,
   "metadata": {},
   "outputs": [
    {
     "data": {
      "text/markdown": [
       "$\\{(1\\mapsto\\text{\"234\"}),(2\\mapsto\\text{\"567\"})\\}$"
      ],
      "text/plain": [
       "{(1↦\"234\"),(2↦\"567\")}"
      ]
     },
     "execution_count": 59,
     "metadata": {},
     "output_type": "execute_result"
    }
   ],
   "source": [
    "REGEX_SEARCH_ALL(\"abcdef000234daf567\",\"([1-9])([0-9]*)\")"
   ]
  },
  {
   "cell_type": "code",
   "execution_count": 60,
   "metadata": {},
   "outputs": [
    {
     "data": {
      "text/markdown": [
       "$[\\text{\"a\"},\\text{\"b\"},\\text{\"c\"},\\text{\"ä\"},\\text{\"é\"},\\text{\"à\"}]$"
      ],
      "text/plain": [
       "[\"a\",\"b\",\"c\",\"ä\",\"é\",\"à\"]"
      ]
     },
     "execution_count": 60,
     "metadata": {},
     "output_type": "execute_result"
    }
   ],
   "source": [
    "REGEX_SEARCH_ALL(\"abc-äéà-123\",\"[[:alpha:]]\")"
   ]
  },
  {
   "cell_type": "markdown",
   "metadata": {
    "slideshow": {
     "slide_type": "slide"
    }
   },
   "source": [
    "# Anwendung: Interaktive Skripte für Vorlesungen\n",
    "\n"
   ]
  },
  {
   "cell_type": "code",
   "execution_count": null,
   "metadata": {},
   "outputs": [],
   "source": [
    "::load\n",
    "MACHINE BaseTypes\n",
    "SETS PERSONS = {peter,paul,mary}; COLOURS = {red,green,blue}\n",
    "END"
   ]
  },
  {
   "cell_type": "markdown",
   "metadata": {
    "slideshow": {
     "slide_type": "subslide"
    }
   },
   "source": [
    "In mathematics a binary relation over the sets $A$ and $B$ is defined to be\n",
    " a subset of $A\\times B$.\n",
    "The Cartesian product $A \\times B$ in turn is defined to be the set of pairs\n",
    " $a \\mapsto b$ such that $a\\in A$ and $b\\in B$.\n",
    " For example, we have:"
   ]
  },
  {
   "cell_type": "code",
   "execution_count": null,
   "metadata": {},
   "outputs": [],
   "source": [
    "PERSONS × COLOURS"
   ]
  },
  {
   "cell_type": "markdown",
   "metadata": {
    "slideshow": {
     "slide_type": "subslide"
    }
   },
   "source": [
    "A particular relation could be the following one, which is a subset of PERSONS × COLOURS:"
   ]
  },
  {
   "cell_type": "code",
   "execution_count": null,
   "metadata": {},
   "outputs": [],
   "source": [
    "{peter|->green,peter|->blue,mary|->blue}"
   ]
  },
  {
   "cell_type": "markdown",
   "metadata": {
    "slideshow": {
     "slide_type": "subslide"
    }
   },
   "source": [
    "We can visualize this relation graphically as follows:"
   ]
  },
  {
   "cell_type": "code",
   "execution_count": null,
   "metadata": {},
   "outputs": [],
   "source": [
    ":dot expr_as_graph (\"r1\",{peter|->green,peter|->blue,mary|->blue})"
   ]
  },
  {
   "cell_type": "code",
   "execution_count": null,
   "metadata": {},
   "outputs": [],
   "source": [
    ":table {peter|->green,peter|->blue,mary|->blue}"
   ]
  },
  {
   "cell_type": "markdown",
   "metadata": {
    "slideshow": {
     "slide_type": "subslide"
    }
   },
   "source": [
    "As in B a relation is a set of pairs, all set operators can be applied to relations.\n",
    "For example,"
   ]
  },
  {
   "cell_type": "code",
   "execution_count": null,
   "metadata": {},
   "outputs": [],
   "source": [
    "{peter|->green,peter|->blue,mary|->blue} - {mary|->blue}"
   ]
  },
  {
   "cell_type": "code",
   "execution_count": null,
   "metadata": {},
   "outputs": [],
   "source": [
    "{peter|->green,peter|->blue,mary|->blue} /\\ {mary}*COLOURS"
   ]
  },
  {
   "cell_type": "markdown",
   "metadata": {
    "slideshow": {
     "slide_type": "subslide"
    }
   },
   "source": [
    "# Anwendung: Skript für theoretische Informatik (NFA)\n",
    "\n",
    "Es folgen Teile aus dem Skript von Informatik 4 (Hauptautor Jörg Rothe).\n",
    "\n",
    "Nun erweitern wir die Überführungsfunktion in der Definition eines DFA \n",
    "und bezeichnen die neuen Automaten als NFA.\n",
    "\n",
    "#### DEFINITION 2.9 (NFA)\n",
    "Ein nichtdeterministischer endlicher Automat \n",
    "(kurz NFA) ist ein  Quintupel $M = (\\Sigma, Z, \\delta , S, F)$, wobei\n",
    "\n",
    "* $\\Sigma$ ein Alphabet ist,\n",
    "* $Z$ eine endliche Menge von Zust\"anden mit $\\Sigma \\cap Z = \\emptyset$,\n",
    "* $\\delta : Z \\times \\Sigma \\rightarrow \\pow(Z)$ die\n",
    "  Überführungsfunktion (hier: $\\pow(Z)$ ist die Potenzmenge\n",
    "  von $Z$, also die Menge aller Teilmengen von $Z$),\n",
    "* $S \\subseteq Z$ die Menge der Startzustände und\n",
    "* $F \\subseteq Z$ die Menge der Endzustände (Finalzustände).\n",
    "\n",
    "\n",
    "#### DEFINITION 2.10 (Sprache eines NFA)\n",
    "\n",
    "Die erweiterte Überführungsfunktion $\\widehat{\\delta} :\n",
    "\\pow(Z) \\times \\Sigma^* \\rightarrow \\pow(Z)$ von $M$ ist\n",
    "induktiv definiert:\n",
    "* $\\widehat{\\delta}(Z', \\lambda) = Z'$\n",
    "* $\\widehat{\\delta}(Z', ax) = \\bigcup_{z \\in Z'} \\widehat{\\delta}(\\delta(z,a), x)$\n",
    "für alle $Z' \\subseteq Z$, $a \\in \\Sigma$ und $x \\in \\Sigma^*$.\n",
    "\n",
    "Die vom NFA $M$ akzeptierte Sprache ist definiert durch\n",
    "* L(M) = $\\{w \\in \\Sigma^* \\mid \\widehat{\\delta}(S,w) \\cap F \\neq \\emptyset\\}$\n"
   ]
  },
  {
   "cell_type": "markdown",
   "metadata": {},
   "source": [
    "Wie laden nun ein B Modell welches diese Definitionen beinhaltet.\n",
    "Wörter werden dabei in der B Sprache mit eckigen Klammern und Kommas geschrieben; aus 101 wird [1,0,1].\n",
    "Gewisse griechische Zeichen sind in der B Sprache als Schlüsselwörter reserviert, zB $\\lambda$.\n",
    "Auch kann man leider weder ' noch $\\hat$ in Bezeichnern verwenden.\n",
    "Deshalb wird aus\n",
    "* $\\Sigma^*$ wird ```seq(Σ)```\n",
    "* $\\widehat{\\delta}$ wird ```δs```"
   ]
  },
  {
   "cell_type": "code",
   "execution_count": 3,
   "metadata": {},
   "outputs": [
    {
     "data": {
      "text/plain": [
       "Loaded machine: NFA_nach_DFA"
      ]
     },
     "execution_count": 3,
     "metadata": {},
     "output_type": "execute_result"
    }
   ],
   "source": [
    "::load\n",
    "MACHINE NFA_nach_DFA\n",
    "SETS\n",
    "   Z = {z0,z1,z2,z3}\n",
    "ABSTRACT_CONSTANTS δs, L\n",
    "CONSTANTS Σ, S, F, δ\n",
    "PROPERTIES\n",
    " S ⊆ Z ∧ F ⊆ Z ∧ δ ∈ (Z×Σ) → ℙ(Z) ∧\n",
    "\n",
    " /* Definition der erweiterten Übergangsfunktion */\n",
    " δs = λ(Z2,s).(Z2⊆Z | IF s=[] THEN Z2 ELSE UNION(z).(z∈Z2|δs(δ(z,first(s)),tail(s))) END )\n",
    " ∧\n",
    " /* die vom Automaten generierte Sprache */\n",
    " L = {ω|ω∈seq(Σ) ∧ δs(S,ω) ∩ F ≠ ∅}\n",
    " ∧\n",
    " /* Nun ein Beispiel-Automat von Folie 24 (Info 4) */\n",
    " Σ = {0,1} ∧\n",
    " S = {z0} ∧ F={z2} ∧\n",
    " δ = {     (z0,0)↦{z0}, (z0,1)↦{z0,z1},\n",
    "           (z1,0)↦{z2}, (z1,1)↦{z2},\n",
    "           (z2,0)↦{z3}, (z2,1)↦{z3},\n",
    "           (z3,0)↦{z3}, (z3,1)↦{z3} }\n",
    "END"
   ]
  },
  {
   "cell_type": "code",
   "execution_count": 62,
   "metadata": {},
   "outputs": [
    {
     "data": {
      "text/plain": [
       "Machine constants set up using operation 0: $setup_constants()"
      ]
     },
     "execution_count": 62,
     "metadata": {},
     "output_type": "execute_result"
    }
   ],
   "source": [
    ":constants"
   ]
  },
  {
   "cell_type": "code",
   "execution_count": 63,
   "metadata": {},
   "outputs": [
    {
     "data": {
      "text/plain": [
       "Machine initialised using operation 1: $initialise_machine()"
      ]
     },
     "execution_count": 63,
     "metadata": {},
     "output_type": "execute_result"
    }
   ],
   "source": [
    ":init"
   ]
  },
  {
   "cell_type": "markdown",
   "metadata": {
    "slideshow": {
     "slide_type": "subslide"
    }
   },
   "source": [
    "Die Übergangsfunktion $\\delta$ gibt us für einen Zustand und ein Symbol die möglichen nächsten Zustande an:"
   ]
  },
  {
   "cell_type": "code",
   "execution_count": 64,
   "metadata": {},
   "outputs": [
    {
     "data": {
      "text/markdown": [
       "$\\{\\mathit{z0},\\mathit{z1}\\}$"
      ],
      "text/plain": [
       "{z0,z1}"
      ]
     },
     "execution_count": 64,
     "metadata": {},
     "output_type": "execute_result"
    }
   ],
   "source": [
    "δ(z0,1)"
   ]
  },
  {
   "cell_type": "markdown",
   "metadata": {},
   "source": [
    "Der obige Automat ist nichtdeterministisch, da zum Beispiel:"
   ]
  },
  {
   "cell_type": "code",
   "execution_count": 65,
   "metadata": {},
   "outputs": [
    {
     "data": {
      "text/markdown": [
       "$2$"
      ],
      "text/plain": [
       "2"
      ]
     },
     "execution_count": 65,
     "metadata": {},
     "output_type": "execute_result"
    }
   ],
   "source": [
    "card(δ(z0,1))"
   ]
  },
  {
   "cell_type": "code",
   "execution_count": null,
   "metadata": {},
   "outputs": [],
   "source": []
  },
  {
   "cell_type": "markdown",
   "metadata": {},
   "source": [
    "Wir können die Übergangsfunktion $\\delta$ des Automaten auch als Tabelle oder Graphen darstellen:"
   ]
  },
  {
   "cell_type": "code",
   "execution_count": 66,
   "metadata": {},
   "outputs": [
    {
     "data": {
      "text/markdown": [
       "|prj11|prj12|prj2|\n",
       "|---|---|---|\n",
       "|$\\mathit{z0}$|$0$|$\\{\\mathit{z0}\\}$|\n",
       "|$\\mathit{z0}$|$1$|$\\{\\mathit{z0},\\mathit{z1}\\}$|\n",
       "|$\\mathit{z1}$|$0$|$\\{\\mathit{z2}\\}$|\n",
       "|$\\mathit{z1}$|$1$|$\\{\\mathit{z2}\\}$|\n",
       "|$\\mathit{z2}$|$0$|$\\{\\mathit{z3}\\}$|\n",
       "|$\\mathit{z2}$|$1$|$\\{\\mathit{z3}\\}$|\n",
       "|$\\mathit{z3}$|$0$|$\\{\\mathit{z3}\\}$|\n",
       "|$\\mathit{z3}$|$1$|$\\{\\mathit{z3}\\}$|\n"
      ],
      "text/plain": [
       "prj11\tprj12\tprj2\n",
       "z0\t0\t{z0}\n",
       "z0\t1\t{z0,z1}\n",
       "z1\t0\t{z2}\n",
       "z1\t1\t{z2}\n",
       "z2\t0\t{z3}\n",
       "z2\t1\t{z3}\n",
       "z3\t0\t{z3}\n",
       "z3\t1\t{z3}\n"
      ]
     },
     "execution_count": 66,
     "metadata": {},
     "output_type": "execute_result"
    }
   ],
   "source": [
    ":table δ"
   ]
  },
  {
   "cell_type": "code",
   "execution_count": 67,
   "metadata": {},
   "outputs": [
    {
     "data": {
      "image/svg+xml": [
       "<?xml version=\"1.0\" encoding=\"UTF-8\" standalone=\"no\"?>\n",
       "<!DOCTYPE svg PUBLIC \"-//W3C//DTD SVG 1.1//EN\"\n",
       " \"http://www.w3.org/Graphics/SVG/1.1/DTD/svg11.dtd\">\n",
       "<!-- Generated by graphviz version 2.28.0 (20110509.1545)\n",
       " -->\n",
       "<!-- Title: state Pages: 1 -->\n",
       "<svg width=\"144pt\" height=\"368pt\"\n",
       " viewBox=\"0.00 0.00 144.00 368.00\" xmlns=\"http://www.w3.org/2000/svg\" xmlns:xlink=\"http://www.w3.org/1999/xlink\">\n",
       "<g id=\"graph1\" class=\"graph\" transform=\"scale(1 1) rotate(0) translate(4 364)\">\n",
       "<title>state</title>\n",
       "<polygon fill=\"white\" stroke=\"white\" points=\"-4,5 -4,-364 141,-364 141,5 -4,5\"/>\n",
       "<g id=\"graph2\" class=\"cluster\"><title>cluster_Z</title>\n",
       "<polygon fill=\"lightgrey\" stroke=\"lightgrey\" points=\"8,-8 8,-352 128,-352 128,-8 8,-8\"/>\n",
       "<text text-anchor=\"middle\" x=\"68\" y=\"-337.2\" font-family=\"Times,serif\" font-size=\"12.00\">Z</text>\n",
       "</g>\n",
       "<!-- z0 -->\n",
       "<g id=\"node1\" class=\"node\"><title>z0</title>\n",
       "<polygon fill=\"#efdf84\" stroke=\"#efdf84\" points=\"70,-322 16,-322 16,-286 70,-286 70,-322\"/>\n",
       "<text text-anchor=\"middle\" x=\"43\" y=\"-299.8\" font-family=\"Times,serif\" font-size=\"14.00\">z0</text>\n",
       "</g>\n",
       "<!-- z0&#45;&gt;z0 -->\n",
       "<g id=\"edge4\" class=\"edge\"><title>z0&#45;&gt;z0</title>\n",
       "<path fill=\"none\" stroke=\"firebrick\" d=\"M70.2408,-308.121C80.0239,-308.21 88,-306.836 88,-304 88,-302.272 85.0382,-301.087 80.5105,-300.445\"/>\n",
       "<polygon fill=\"firebrick\" stroke=\"firebrick\" points=\"80.4181,-296.934 70.2408,-299.879 80.0332,-303.924 80.4181,-296.934\"/>\n",
       "<text text-anchor=\"middle\" x=\"91.5\" y=\"-299.8\" font-family=\"Times,serif\" font-size=\"14.00\">1</text>\n",
       "</g>\n",
       "<!-- z0&#45;&gt;z0 -->\n",
       "<g id=\"edge12\" class=\"edge\"><title>z0&#45;&gt;z0</title>\n",
       "<path fill=\"none\" stroke=\"sienna\" d=\"M70.1975,-319.251C88.3402,-323.544 106,-318.46 106,-304 106,-292.251 94.3418,-286.692 80.2386,-287.323\"/>\n",
       "<polygon fill=\"sienna\" stroke=\"sienna\" points=\"79.6061,-283.878 70.1975,-288.749 80.5903,-290.808 79.6061,-283.878\"/>\n",
       "<text text-anchor=\"middle\" x=\"109.5\" y=\"-299.8\" font-family=\"Times,serif\" font-size=\"14.00\">0</text>\n",
       "</g>\n",
       "<!-- z1 -->\n",
       "<g id=\"node3\" class=\"node\"><title>z1</title>\n",
       "<polygon fill=\"#efdf84\" stroke=\"#efdf84\" points=\"70,-232 16,-232 16,-196 70,-196 70,-232\"/>\n",
       "<text text-anchor=\"middle\" x=\"43\" y=\"-209.8\" font-family=\"Times,serif\" font-size=\"14.00\">z1</text>\n",
       "</g>\n",
       "<!-- z0&#45;&gt;z1 -->\n",
       "<g id=\"edge2\" class=\"edge\"><title>z0&#45;&gt;z1</title>\n",
       "<path fill=\"none\" stroke=\"firebrick\" d=\"M43,-285.614C43,-273.24 43,-256.369 43,-242.22\"/>\n",
       "<polygon fill=\"firebrick\" stroke=\"firebrick\" points=\"46.5001,-242.05 43,-232.05 39.5001,-242.05 46.5001,-242.05\"/>\n",
       "<text text-anchor=\"middle\" x=\"46.5\" y=\"-254.8\" font-family=\"Times,serif\" font-size=\"14.00\">1</text>\n",
       "</g>\n",
       "<!-- z2 -->\n",
       "<g id=\"node7\" class=\"node\"><title>z2</title>\n",
       "<polygon fill=\"#efdf84\" stroke=\"#efdf84\" points=\"70,-142 16,-142 16,-106 70,-106 70,-142\"/>\n",
       "<text text-anchor=\"middle\" x=\"43\" y=\"-119.8\" font-family=\"Times,serif\" font-size=\"14.00\">z2</text>\n",
       "</g>\n",
       "<!-- z1&#45;&gt;z2 -->\n",
       "<g id=\"edge10\" class=\"edge\"><title>z1&#45;&gt;z2</title>\n",
       "<path fill=\"none\" stroke=\"sienna\" d=\"M43,-195.614C43,-183.24 43,-166.369 43,-152.22\"/>\n",
       "<polygon fill=\"sienna\" stroke=\"sienna\" points=\"46.5001,-152.05 43,-142.05 39.5001,-152.05 46.5001,-152.05\"/>\n",
       "<text text-anchor=\"middle\" x=\"46.5\" y=\"-164.8\" font-family=\"Times,serif\" font-size=\"14.00\">0</text>\n",
       "</g>\n",
       "<!-- z3 -->\n",
       "<g id=\"node5\" class=\"node\"><title>z3</title>\n",
       "<polygon fill=\"#efdf84\" stroke=\"#efdf84\" points=\"70,-52 16,-52 16,-16 70,-16 70,-52\"/>\n",
       "<text text-anchor=\"middle\" x=\"43\" y=\"-29.8\" font-family=\"Times,serif\" font-size=\"14.00\">z3</text>\n",
       "</g>\n",
       "<!-- z3&#45;&gt;z3 -->\n",
       "<g id=\"edge6\" class=\"edge\"><title>z3&#45;&gt;z3</title>\n",
       "<path fill=\"none\" stroke=\"sienna\" d=\"M70.2408,-42.2419C80.0239,-42.4192 88,-39.6719 88,-34 88,-30.5437 85.0382,-28.1734 80.5105,-26.8891\"/>\n",
       "<polygon fill=\"sienna\" stroke=\"sienna\" points=\"80.5639,-23.3739 70.2408,-25.7581 79.7975,-30.3318 80.5639,-23.3739\"/>\n",
       "<text text-anchor=\"middle\" x=\"91.5\" y=\"-29.8\" font-family=\"Times,serif\" font-size=\"14.00\">0</text>\n",
       "</g>\n",
       "<!-- z2&#45;&gt;z3 -->\n",
       "<g id=\"edge8\" class=\"edge\"><title>z2&#45;&gt;z3</title>\n",
       "<path fill=\"none\" stroke=\"sienna\" d=\"M43,-105.614C43,-93.2403 43,-76.3686 43,-62.2198\"/>\n",
       "<polygon fill=\"sienna\" stroke=\"sienna\" points=\"46.5001,-62.0504 43,-52.0504 39.5001,-62.0504 46.5001,-62.0504\"/>\n",
       "<text text-anchor=\"middle\" x=\"46.5\" y=\"-74.8\" font-family=\"Times,serif\" font-size=\"14.00\">0</text>\n",
       "</g>\n",
       "</g>\n",
       "</svg>"
      ],
      "text/plain": [
       "<Dot visualization: expr_as_graph [(\"0\",{x,y|x:Z & y:δ(x, 0)})]>"
      ]
     },
     "execution_count": 67,
     "metadata": {},
     "output_type": "execute_result"
    }
   ],
   "source": [
    ":dot expr_as_graph (\"0\",{x,y| x∈Z & y:δ(x,0)},\n",
    "                    \"1\",{x,y| x∈S & y∈δ(x,1)})"
   ]
  },
  {
   "cell_type": "markdown",
   "metadata": {
    "slideshow": {
     "slide_type": "subslide"
    }
   },
   "source": [
    "Die Funktion $\\widehat{\\delta}$ berechnet die möglichen Zustände nach dem Abarbeiten eines Wortes. Zum Beispiel, kann sich der Automat nach dem Abarbeiten des Präfixes 111 in folgenden Zuständen befinden:"
   ]
  },
  {
   "cell_type": "code",
   "execution_count": 68,
   "metadata": {},
   "outputs": [
    {
     "data": {
      "text/markdown": [
       "$\\{\\mathit{z0},\\mathit{z1},\\mathit{z2},\\mathit{z3}\\}$"
      ],
      "text/plain": [
       "{z0,z1,z2,z3}"
      ]
     },
     "execution_count": 68,
     "metadata": {},
     "output_type": "execute_result"
    }
   ],
   "source": [
    "δs(S,[1,1,1])"
   ]
  },
  {
   "cell_type": "markdown",
   "metadata": {},
   "source": [
    "Der Automat akzeptiert zum Beispiel das Wort 111 und das Wort 101 nicht, da:"
   ]
  },
  {
   "cell_type": "code",
   "execution_count": 69,
   "metadata": {},
   "outputs": [
    {
     "data": {
      "text/markdown": [
       "$\\{\\mathit{z2}\\}$"
      ],
      "text/plain": [
       "{z2}"
      ]
     },
     "execution_count": 69,
     "metadata": {},
     "output_type": "execute_result"
    }
   ],
   "source": [
    "δs(S,[1,1,1]) ∩ F"
   ]
  },
  {
   "cell_type": "code",
   "execution_count": 70,
   "metadata": {},
   "outputs": [
    {
     "data": {
      "text/markdown": [
       "$\\renewcommand{\\emptyset}{\\mathord\\varnothing}\\emptyset$"
      ],
      "text/plain": [
       "∅"
      ]
     },
     "execution_count": 70,
     "metadata": {},
     "output_type": "execute_result"
    }
   ],
   "source": [
    "δs(S,[1,0,1]) ∩ F"
   ]
  },
  {
   "cell_type": "markdown",
   "metadata": {
    "slideshow": {
     "slide_type": "subslide"
    }
   },
   "source": [
    "Folgende Wörter der Länge 3 werden vom Automaten akzeptiert:"
   ]
  },
  {
   "cell_type": "code",
   "execution_count": 71,
   "metadata": {},
   "outputs": [
    {
     "data": {
      "text/markdown": [
       "|x|y|z|\n",
       "|---|---|---|\n",
       "|$0$|$1$|$0$|\n",
       "|$0$|$1$|$1$|\n",
       "|$1$|$1$|$0$|\n",
       "|$1$|$1$|$1$|\n"
      ],
      "text/plain": [
       "x\ty\tz\n",
       "0\t1\t0\n",
       "0\t1\t1\n",
       "1\t1\t0\n",
       "1\t1\t1\n"
      ]
     },
     "execution_count": 71,
     "metadata": {},
     "output_type": "execute_result"
    }
   ],
   "source": [
    ":table {x,y,z| [x,y,z]∈L}"
   ]
  },
  {
   "cell_type": "markdown",
   "metadata": {},
   "source": [
    "und folgende werden nicht akzeptiert:"
   ]
  },
  {
   "cell_type": "code",
   "execution_count": 72,
   "metadata": {},
   "outputs": [
    {
     "data": {
      "text/markdown": [
       "|x|y|z|\n",
       "|---|---|---|\n",
       "|$0$|$0$|$0$|\n",
       "|$0$|$0$|$1$|\n",
       "|$1$|$0$|$0$|\n",
       "|$1$|$0$|$1$|\n"
      ],
      "text/plain": [
       "x\ty\tz\n",
       "0\t0\t0\n",
       "0\t0\t1\n",
       "1\t0\t0\n",
       "1\t0\t1\n"
      ]
     },
     "execution_count": 72,
     "metadata": {},
     "output_type": "execute_result"
    }
   ],
   "source": [
    ":table {x,y,z| {x,y,z} ⊆ Σ & ¬([x,y,z]∈L)}"
   ]
  },
  {
   "cell_type": "markdown",
   "metadata": {
    "slideshow": {
     "slide_type": "slide"
    }
   },
   "source": [
    "Es stellt sich die Frage, ob NFAs mächtiger sind als DFAs. Die \n",
    "Antwort lautet: Nein.\n",
    "\n",
    "## Theorem (Rabin und Scott)\n",
    "Jede von einem NFA akzeptierte Sprache kann auch von einem DFA akzeptiert\n",
    "werden.\n",
    "\n",
    "### Beweis\n",
    "Sei $M = (\\Sigma, Z, \\delta , S, E)$ ein NFA. \n",
    "Konstruiere einen zu\n",
    "  $M$ äquivalenten DFA \n",
    "  $M' = (\\Sigma, \\pow(Z), \\delta' ,z_0', F)$ wie folgt:\n",
    "* Zustandsmenge von $M'$: die Potenzmenge $\\pow(Z)$ von $Z$,\n",
    "* $\\delta'(Z' , a) = \\widehat{\\delta}(Z',a)$ für alle $Z' \\subseteq Z$ und $a \\in \\Sigma$,\n",
    "* $z_0'=S$,\n",
    "* $F = \\{ Z' \\subseteq Z \\mid Z' \\cap E \\neq \\emptyset\\}$.\n",
    "Offenbar sind M' und M äquivalent, denn für alle ...\n"
   ]
  },
  {
   "cell_type": "markdown",
   "metadata": {},
   "source": [
    "Für den oben geladen Automaten können wir diese Konstruktion illustrieren.\n",
    "Die Potenzmenge der Zustände ist:"
   ]
  },
  {
   "cell_type": "code",
   "execution_count": 73,
   "metadata": {},
   "outputs": [
    {
     "data": {
      "text/markdown": [
       "$\\renewcommand{\\emptyset}{\\mathord\\varnothing}\\{\\emptyset,\\{\\mathit{z0}\\},\\{\\mathit{z0},\\mathit{z1}\\},\\{\\mathit{z0},\\mathit{z2}\\},\\{\\mathit{z0},\\mathit{z3}\\},\\{\\mathit{z1}\\},\\{\\mathit{z0},\\mathit{z1},\\mathit{z2}\\},\\{\\mathit{z0},\\mathit{z1},\\mathit{z3}\\},\\{\\mathit{z1},\\mathit{z2}\\},\\{\\mathit{z1},\\mathit{z3}\\},\\{\\mathit{z0},\\mathit{z1},\\mathit{z2},\\mathit{z3}\\},\\{\\mathit{z2}\\},\\{\\mathit{z0},\\mathit{z2},\\mathit{z3}\\},\\{\\mathit{z1},\\mathit{z2},\\mathit{z3}\\},\\{\\mathit{z2},\\mathit{z3}\\},\\{\\mathit{z3}\\}\\}$"
      ],
      "text/plain": [
       "{∅,{z0},{z0,z1},{z0,z2},{z0,z3},{z1},{z0,z1,z2},{z0,z1,z3},{z1,z2},{z1,z3},{z0,z1,z2,z3},{z2},{z0,z2,z3},{z1,z2,z3},{z2,z3},{z3}}"
      ]
     },
     "execution_count": 73,
     "metadata": {},
     "output_type": "execute_result"
    }
   ],
   "source": [
    "ℙ(Z)"
   ]
  },
  {
   "cell_type": "markdown",
   "metadata": {
    "slideshow": {
     "slide_type": "subslide"
    }
   },
   "source": [
    "Tabellarisch k¨ønnen wir $\\widehat{\\delta}$ für $\\pow(Z)$ wie folgt ausrechnen:"
   ]
  },
  {
   "cell_type": "code",
   "execution_count": 74,
   "metadata": {},
   "outputs": [
    {
     "data": {
      "text/markdown": [
       "|x|a|y|\n",
       "|---|---|---|\n",
       "|$\\renewcommand{\\emptyset}{\\mathord\\varnothing}\\renewcommand{\\emptyset}{\\mathord\\varnothing}\\renewcommand{\\emptyset}{\\mathord\\varnothing}\\renewcommand{\\emptyset}{\\mathord\\varnothing}\\emptyset$|$0$|$\\emptyset$|\n",
       "|$\\emptyset$|$1$|$\\emptyset$|\n",
       "|$\\{\\mathit{z0}\\}$|$0$|$\\{\\mathit{z0}\\}$|\n",
       "|$\\{\\mathit{z0}\\}$|$1$|$\\{\\mathit{z0},\\mathit{z1}\\}$|\n",
       "|$\\{\\mathit{z0},\\mathit{z1}\\}$|$0$|$\\{\\mathit{z0},\\mathit{z2}\\}$|\n",
       "|$\\{\\mathit{z0},\\mathit{z1}\\}$|$1$|$\\{\\mathit{z0},\\mathit{z1},\\mathit{z2}\\}$|\n",
       "|$\\{\\mathit{z0},\\mathit{z2}\\}$|$0$|$\\{\\mathit{z0},\\mathit{z3}\\}$|\n",
       "|$\\{\\mathit{z0},\\mathit{z2}\\}$|$1$|$\\{\\mathit{z0},\\mathit{z1},\\mathit{z3}\\}$|\n",
       "|$\\{\\mathit{z0},\\mathit{z3}\\}$|$0$|$\\{\\mathit{z0},\\mathit{z3}\\}$|\n",
       "|$\\{\\mathit{z0},\\mathit{z3}\\}$|$1$|$\\{\\mathit{z0},\\mathit{z1},\\mathit{z3}\\}$|\n",
       "|$\\{\\mathit{z1}\\}$|$0$|$\\{\\mathit{z2}\\}$|\n",
       "|$\\{\\mathit{z1}\\}$|$1$|$\\{\\mathit{z2}\\}$|\n",
       "|$\\{\\mathit{z0},\\mathit{z1},\\mathit{z2}\\}$|$0$|$\\{\\mathit{z0},\\mathit{z2},\\mathit{z3}\\}$|\n",
       "|$\\{\\mathit{z0},\\mathit{z1},\\mathit{z2}\\}$|$1$|$\\{\\mathit{z0},\\mathit{z1},\\mathit{z2},\\mathit{z3}\\}$|\n",
       "|$\\{\\mathit{z0},\\mathit{z1},\\mathit{z3}\\}$|$0$|$\\{\\mathit{z0},\\mathit{z2},\\mathit{z3}\\}$|\n",
       "|$\\{\\mathit{z0},\\mathit{z1},\\mathit{z3}\\}$|$1$|$\\{\\mathit{z0},\\mathit{z1},\\mathit{z2},\\mathit{z3}\\}$|\n",
       "|$\\{\\mathit{z1},\\mathit{z2}\\}$|$0$|$\\{\\mathit{z2},\\mathit{z3}\\}$|\n",
       "|$\\{\\mathit{z1},\\mathit{z2}\\}$|$1$|$\\{\\mathit{z2},\\mathit{z3}\\}$|\n",
       "|$\\{\\mathit{z1},\\mathit{z3}\\}$|$0$|$\\{\\mathit{z2},\\mathit{z3}\\}$|\n",
       "|$\\{\\mathit{z1},\\mathit{z3}\\}$|$1$|$\\{\\mathit{z2},\\mathit{z3}\\}$|\n",
       "|$\\{\\mathit{z0},\\mathit{z1},\\mathit{z2},\\mathit{z3}\\}$|$0$|$\\{\\mathit{z0},\\mathit{z2},\\mathit{z3}\\}$|\n",
       "|$\\{\\mathit{z0},\\mathit{z1},\\mathit{z2},\\mathit{z3}\\}$|$1$|$\\{\\mathit{z0},\\mathit{z1},\\mathit{z2},\\mathit{z3}\\}$|\n",
       "|$\\{\\mathit{z2}\\}$|$0$|$\\{\\mathit{z3}\\}$|\n",
       "|$\\{\\mathit{z2}\\}$|$1$|$\\{\\mathit{z3}\\}$|\n",
       "|$\\{\\mathit{z0},\\mathit{z2},\\mathit{z3}\\}$|$0$|$\\{\\mathit{z0},\\mathit{z3}\\}$|\n",
       "|$\\{\\mathit{z0},\\mathit{z2},\\mathit{z3}\\}$|$1$|$\\{\\mathit{z0},\\mathit{z1},\\mathit{z3}\\}$|\n",
       "|$\\{\\mathit{z1},\\mathit{z2},\\mathit{z3}\\}$|$0$|$\\{\\mathit{z2},\\mathit{z3}\\}$|\n",
       "|$\\{\\mathit{z1},\\mathit{z2},\\mathit{z3}\\}$|$1$|$\\{\\mathit{z2},\\mathit{z3}\\}$|\n",
       "|$\\{\\mathit{z2},\\mathit{z3}\\}$|$0$|$\\{\\mathit{z3}\\}$|\n",
       "|$\\{\\mathit{z2},\\mathit{z3}\\}$|$1$|$\\{\\mathit{z3}\\}$|\n",
       "|$\\{\\mathit{z3}\\}$|$0$|$\\{\\mathit{z3}\\}$|\n",
       "|$\\{\\mathit{z3}\\}$|$1$|$\\{\\mathit{z3}\\}$|\n"
      ],
      "text/plain": [
       "x\ta\ty\n",
       "{}\t0\t{}\n",
       "{}\t1\t{}\n",
       "{z0}\t0\t{z0}\n",
       "{z0}\t1\t{z0,z1}\n",
       "{z0,z1}\t0\t{z0,z2}\n",
       "{z0,z1}\t1\t{z0,z1,z2}\n",
       "{z0,z2}\t0\t{z0,z3}\n",
       "{z0,z2}\t1\t{z0,z1,z3}\n",
       "{z0,z3}\t0\t{z0,z3}\n",
       "{z0,z3}\t1\t{z0,z1,z3}\n",
       "{z1}\t0\t{z2}\n",
       "{z1}\t1\t{z2}\n",
       "{z0,z1,z2}\t0\t{z0,z2,z3}\n",
       "{z0,z1,z2}\t1\t{z0,z1,z2,z3}\n",
       "{z0,z1,z3}\t0\t{z0,z2,z3}\n",
       "{z0,z1,z3}\t1\t{z0,z1,z2,z3}\n",
       "{z1,z2}\t0\t{z2,z3}\n",
       "{z1,z2}\t1\t{z2,z3}\n",
       "{z1,z3}\t0\t{z2,z3}\n",
       "{z1,z3}\t1\t{z2,z3}\n",
       "{z0,z1,z2,z3}\t0\t{z0,z2,z3}\n",
       "{z0,z1,z2,z3}\t1\t{z0,z1,z2,z3}\n",
       "{z2}\t0\t{z3}\n",
       "{z2}\t1\t{z3}\n",
       "{z0,z2,z3}\t0\t{z0,z3}\n",
       "{z0,z2,z3}\t1\t{z0,z1,z3}\n",
       "{z1,z2,z3}\t0\t{z2,z3}\n",
       "{z1,z2,z3}\t1\t{z2,z3}\n",
       "{z2,z3}\t0\t{z3}\n",
       "{z2,z3}\t1\t{z3}\n",
       "{z3}\t0\t{z3}\n",
       "{z3}\t1\t{z3}\n"
      ]
     },
     "execution_count": 74,
     "metadata": {},
     "output_type": "execute_result"
    }
   ],
   "source": [
    ":table {x,a,y| a∈Σ & x∈ℙ(Z) & y=δs(x,[a])}"
   ]
  },
  {
   "cell_type": "markdown",
   "metadata": {
    "slideshow": {
     "slide_type": "subslide"
    }
   },
   "source": [
    "Graphisch lässt sich der Automat wie folgt darstellen; die Start und Endzustände sind noch nicht schön markiert."
   ]
  },
  {
   "cell_type": "code",
   "execution_count": 75,
   "metadata": {},
   "outputs": [
    {
     "data": {
      "text/plain": [
       "Preference changed: DOT_DECOMPOSE_NODES = FALSE\n"
      ]
     },
     "execution_count": 75,
     "metadata": {},
     "output_type": "execute_result"
    }
   ],
   "source": [
    ":pref DOT_DECOMPOSE_NODES=FALSE"
   ]
  },
  {
   "cell_type": "code",
   "execution_count": 76,
   "metadata": {},
   "outputs": [
    {
     "data": {
      "image/svg+xml": [
       "<?xml version=\"1.0\" encoding=\"UTF-8\" standalone=\"no\"?>\n",
       "<!DOCTYPE svg PUBLIC \"-//W3C//DTD SVG 1.1//EN\"\n",
       " \"http://www.w3.org/Graphics/SVG/1.1/DTD/svg11.dtd\">\n",
       "<!-- Generated by graphviz version 2.28.0 (20110509.1545)\n",
       " -->\n",
       "<!-- Title: state Pages: 1 -->\n",
       "<svg width=\"648pt\" height=\"584pt\"\n",
       " viewBox=\"0.00 0.00 648.00 584.00\" xmlns=\"http://www.w3.org/2000/svg\" xmlns:xlink=\"http://www.w3.org/1999/xlink\">\n",
       "<g id=\"graph1\" class=\"graph\" transform=\"scale(1 1) rotate(0) translate(4 580)\">\n",
       "<title>state</title>\n",
       "<polygon fill=\"white\" stroke=\"white\" points=\"-4,5 -4,-580 645,-580 645,5 -4,5\"/>\n",
       "<!-- \\{z2,z3\\} -->\n",
       "<g id=\"node1\" class=\"node\"><title>\\{z2,z3\\}</title>\n",
       "<polygon fill=\"#cae1ff\" stroke=\"#cae1ff\" points=\"230.524,-486 171.476,-486 171.476,-450 230.524,-450 230.524,-486\"/>\n",
       "<text text-anchor=\"middle\" x=\"201\" y=\"-463.8\" font-family=\"Times,serif\" font-size=\"14.00\">{z2,z3}</text>\n",
       "</g>\n",
       "<!-- \\{z2,z3\\}&#45;&gt;\\{z2,z3\\} -->\n",
       "<g id=\"edge2\" class=\"edge\"><title>\\{z2,z3\\}&#45;&gt;\\{z2,z3\\}</title>\n",
       "<path fill=\"none\" stroke=\"firebrick\" d=\"M230.375,-476.25C240.167,-476.25 248,-473.5 248,-468 248,-464.648 245.091,-462.318 240.603,-461.009\"/>\n",
       "<polygon fill=\"firebrick\" stroke=\"firebrick\" points=\"240.728,-457.498 230.375,-459.75 239.873,-464.445 240.728,-457.498\"/>\n",
       "<text text-anchor=\"middle\" x=\"258.107\" y=\"-463.8\" font-family=\"Times,serif\" font-size=\"14.00\">end</text>\n",
       "</g>\n",
       "<!-- \\{z3\\} -->\n",
       "<g id=\"node19\" class=\"node\"><title>\\{z3\\}</title>\n",
       "<polygon fill=\"#cae1ff\" stroke=\"#cae1ff\" points=\"147,-396 93,-396 93,-360 147,-360 147,-396\"/>\n",
       "<text text-anchor=\"middle\" x=\"120\" y=\"-373.8\" font-family=\"Times,serif\" font-size=\"14.00\">{z3}</text>\n",
       "</g>\n",
       "<!-- \\{z2,z3\\}&#45;&gt;\\{z3\\} -->\n",
       "<g id=\"edge22\" class=\"edge\"><title>\\{z2,z3\\}&#45;&gt;\\{z3\\}</title>\n",
       "<path fill=\"none\" stroke=\"#473c8b\" d=\"M171.56,-453.384C161.851,-447.811 151.604,-440.623 144,-432 137.328,-424.433 132.209,-414.704 128.447,-405.651\"/>\n",
       "<polygon fill=\"#473c8b\" stroke=\"#473c8b\" points=\"131.695,-404.345 124.887,-396.227 125.146,-406.819 131.695,-404.345\"/>\n",
       "<text text-anchor=\"middle\" x=\"147.5\" y=\"-418.8\" font-family=\"Times,serif\" font-size=\"14.00\">1</text>\n",
       "</g>\n",
       "<!-- \\{z2,z3\\}&#45;&gt;\\{z3\\} -->\n",
       "<g id=\"edge54\" class=\"edge\"><title>\\{z2,z3\\}&#45;&gt;\\{z3\\}</title>\n",
       "<path fill=\"none\" stroke=\"black\" d=\"M184.997,-449.614C172.938,-436.512 156.237,-418.368 142.784,-403.753\"/>\n",
       "<polygon fill=\"black\" stroke=\"black\" points=\"145.042,-401.038 135.694,-396.05 139.891,-405.778 145.042,-401.038\"/>\n",
       "<text text-anchor=\"middle\" x=\"171.5\" y=\"-418.8\" font-family=\"Times,serif\" font-size=\"14.00\">0</text>\n",
       "</g>\n",
       "<!-- \\{z1,z2,z3\\} -->\n",
       "<g id=\"node3\" class=\"node\"><title>\\{z1,z2,z3\\}</title>\n",
       "<polygon fill=\"#cae1ff\" stroke=\"#cae1ff\" points=\"148.061,-576 71.9392,-576 71.9392,-540 148.061,-540 148.061,-576\"/>\n",
       "<text text-anchor=\"middle\" x=\"110\" y=\"-553.8\" font-family=\"Times,serif\" font-size=\"14.00\">{z1,z2,z3}</text>\n",
       "</g>\n",
       "<!-- \\{z1,z2,z3\\}&#45;&gt;\\{z2,z3\\} -->\n",
       "<g id=\"edge24\" class=\"edge\"><title>\\{z1,z2,z3\\}&#45;&gt;\\{z2,z3\\}</title>\n",
       "<path fill=\"none\" stroke=\"#473c8b\" d=\"M112.276,-539.994C114.566,-528.65 119.102,-514.033 128,-504 137.141,-493.694 149.984,-486.149 162.353,-480.761\"/>\n",
       "<polygon fill=\"#473c8b\" stroke=\"#473c8b\" points=\"163.66,-484.008 171.651,-477.052 161.066,-477.507 163.66,-484.008\"/>\n",
       "<text text-anchor=\"middle\" x=\"131.5\" y=\"-508.8\" font-family=\"Times,serif\" font-size=\"14.00\">1</text>\n",
       "</g>\n",
       "<!-- \\{z1,z2,z3\\}&#45;&gt;\\{z2,z3\\} -->\n",
       "<g id=\"edge56\" class=\"edge\"><title>\\{z1,z2,z3\\}&#45;&gt;\\{z2,z3\\}</title>\n",
       "<path fill=\"none\" stroke=\"black\" d=\"M127.979,-539.614C141.652,-526.391 160.638,-508.032 175.822,-493.348\"/>\n",
       "<polygon fill=\"black\" stroke=\"black\" points=\"178.613,-495.518 183.368,-486.05 173.747,-490.486 178.613,-495.518\"/>\n",
       "<text text-anchor=\"middle\" x=\"167.5\" y=\"-508.8\" font-family=\"Times,serif\" font-size=\"14.00\">0</text>\n",
       "</g>\n",
       "<!-- \\{z1,z2,z3\\}&#45;&gt;\\{z1,z2,z3\\} -->\n",
       "<g id=\"edge4\" class=\"edge\"><title>\\{z1,z2,z3\\}&#45;&gt;\\{z1,z2,z3\\}</title>\n",
       "<path fill=\"none\" stroke=\"firebrick\" d=\"M148.214,-566.177C158.335,-565.71 166,-562.984 166,-558 166,-554.885 163.006,-552.652 158.289,-551.301\"/>\n",
       "<polygon fill=\"firebrick\" stroke=\"firebrick\" points=\"158.616,-547.812 148.214,-549.823 157.6,-554.737 158.616,-547.812\"/>\n",
       "<text text-anchor=\"middle\" x=\"176.107\" y=\"-553.8\" font-family=\"Times,serif\" font-size=\"14.00\">end</text>\n",
       "</g>\n",
       "<!-- \\{z0,z2,z3\\} -->\n",
       "<g id=\"node5\" class=\"node\"><title>\\{z0,z2,z3\\}</title>\n",
       "<polygon fill=\"#cae1ff\" stroke=\"#cae1ff\" points=\"403.061,-306 326.939,-306 326.939,-270 403.061,-270 403.061,-306\"/>\n",
       "<text text-anchor=\"middle\" x=\"365\" y=\"-283.8\" font-family=\"Times,serif\" font-size=\"14.00\">{z0,z2,z3}</text>\n",
       "</g>\n",
       "<!-- \\{z0,z2,z3\\}&#45;&gt;\\{z0,z2,z3\\} -->\n",
       "<g id=\"edge6\" class=\"edge\"><title>\\{z0,z2,z3\\}&#45;&gt;\\{z0,z2,z3\\}</title>\n",
       "<path fill=\"none\" stroke=\"firebrick\" d=\"M403.214,-296.177C413.335,-295.71 421,-292.984 421,-288 421,-284.885 418.006,-282.652 413.289,-281.301\"/>\n",
       "<polygon fill=\"firebrick\" stroke=\"firebrick\" points=\"413.616,-277.812 403.214,-279.823 412.6,-284.737 413.616,-277.812\"/>\n",
       "<text text-anchor=\"middle\" x=\"431.107\" y=\"-283.8\" font-family=\"Times,serif\" font-size=\"14.00\">end</text>\n",
       "</g>\n",
       "<!-- \\{z0,z1,z3\\} -->\n",
       "<g id=\"node24\" class=\"node\"><title>\\{z0,z1,z3\\}</title>\n",
       "<polygon fill=\"#cae1ff\" stroke=\"#cae1ff\" points=\"446.061,-126 369.939,-126 369.939,-90 446.061,-90 446.061,-126\"/>\n",
       "<text text-anchor=\"middle\" x=\"408\" y=\"-103.8\" font-family=\"Times,serif\" font-size=\"14.00\">{z0,z1,z3}</text>\n",
       "</g>\n",
       "<!-- \\{z0,z2,z3\\}&#45;&gt;\\{z0,z1,z3\\} -->\n",
       "<g id=\"edge26\" class=\"edge\"><title>\\{z0,z2,z3\\}&#45;&gt;\\{z0,z1,z3\\}</title>\n",
       "<path fill=\"none\" stroke=\"#473c8b\" d=\"M365.892,-269.687C367.306,-248.306 370.797,-210.968 379,-180 383.021,-164.82 389.492,-148.558 395.302,-135.432\"/>\n",
       "<polygon fill=\"#473c8b\" stroke=\"#473c8b\" points=\"398.604,-136.628 399.565,-126.076 392.234,-133.725 398.604,-136.628\"/>\n",
       "<text text-anchor=\"middle\" x=\"382.5\" y=\"-193.8\" font-family=\"Times,serif\" font-size=\"14.00\">1</text>\n",
       "</g>\n",
       "<!-- \\{z0,z3\\} -->\n",
       "<g id=\"node34\" class=\"node\"><title>\\{z0,z3\\}</title>\n",
       "<polygon fill=\"#cae1ff\" stroke=\"#cae1ff\" points=\"536.524,-216 477.476,-216 477.476,-180 536.524,-180 536.524,-216\"/>\n",
       "<text text-anchor=\"middle\" x=\"507\" y=\"-193.8\" font-family=\"Times,serif\" font-size=\"14.00\">{z0,z3}</text>\n",
       "</g>\n",
       "<!-- \\{z0,z2,z3\\}&#45;&gt;\\{z0,z3\\} -->\n",
       "<g id=\"edge58\" class=\"edge\"><title>\\{z0,z2,z3\\}&#45;&gt;\\{z0,z3\\}</title>\n",
       "<path fill=\"none\" stroke=\"black\" d=\"M392.716,-269.824C415,-256.014 446.483,-236.503 470.764,-221.456\"/>\n",
       "<polygon fill=\"black\" stroke=\"black\" points=\"472.697,-224.376 479.354,-216.133 469.01,-218.426 472.697,-224.376\"/>\n",
       "<text text-anchor=\"middle\" x=\"452.5\" y=\"-238.8\" font-family=\"Times,serif\" font-size=\"14.00\">0</text>\n",
       "</g>\n",
       "<!-- \\{z2\\} -->\n",
       "<g id=\"node7\" class=\"node\"><title>\\{z2\\}</title>\n",
       "<polygon fill=\"#cae1ff\" stroke=\"#cae1ff\" points=\"84,-486 30,-486 30,-450 84,-450 84,-486\"/>\n",
       "<text text-anchor=\"middle\" x=\"57\" y=\"-463.8\" font-family=\"Times,serif\" font-size=\"14.00\">{z2}</text>\n",
       "</g>\n",
       "<!-- \\{z2\\}&#45;&gt;\\{z2\\} -->\n",
       "<g id=\"edge8\" class=\"edge\"><title>\\{z2\\}&#45;&gt;\\{z2\\}</title>\n",
       "<path fill=\"none\" stroke=\"firebrick\" d=\"M84.2408,-476.242C94.0239,-476.419 102,-473.672 102,-468 102,-464.544 99.0382,-462.173 94.5105,-460.889\"/>\n",
       "<polygon fill=\"firebrick\" stroke=\"firebrick\" points=\"94.5639,-457.374 84.2408,-459.758 93.7975,-464.332 94.5639,-457.374\"/>\n",
       "<text text-anchor=\"middle\" x=\"112.107\" y=\"-463.8\" font-family=\"Times,serif\" font-size=\"14.00\">end</text>\n",
       "</g>\n",
       "<!-- \\{z2\\}&#45;&gt;\\{z3\\} -->\n",
       "<g id=\"edge28\" class=\"edge\"><title>\\{z2\\}&#45;&gt;\\{z3\\}</title>\n",
       "<path fill=\"none\" stroke=\"#473c8b\" d=\"M60.6361,-449.617C63.525,-438.671 68.3732,-424.649 76,-414 78.8347,-410.042 82.2349,-406.298 85.8727,-402.835\"/>\n",
       "<polygon fill=\"#473c8b\" stroke=\"#473c8b\" points=\"88.3202,-405.344 93.5685,-396.141 83.7263,-400.063 88.3202,-405.344\"/>\n",
       "<text text-anchor=\"middle\" x=\"79.5\" y=\"-418.8\" font-family=\"Times,serif\" font-size=\"14.00\">1</text>\n",
       "</g>\n",
       "<!-- \\{z2\\}&#45;&gt;\\{z3\\} -->\n",
       "<g id=\"edge60\" class=\"edge\"><title>\\{z2\\}&#45;&gt;\\{z3\\}</title>\n",
       "<path fill=\"none\" stroke=\"black\" d=\"M69.7965,-449.984C74.0351,-444.293 78.753,-437.897 83,-432 89.3945,-423.122 96.2851,-413.319 102.367,-404.583\"/>\n",
       "<polygon fill=\"black\" stroke=\"black\" points=\"105.305,-406.487 108.13,-396.276 99.5535,-402.497 105.305,-406.487\"/>\n",
       "<text text-anchor=\"middle\" x=\"99.5\" y=\"-418.8\" font-family=\"Times,serif\" font-size=\"14.00\">0</text>\n",
       "</g>\n",
       "<!-- \\{z0,z1,z2,z3\\} -->\n",
       "<g id=\"node9\" class=\"node\"><title>\\{z0,z1,z2,z3\\}</title>\n",
       "<polygon fill=\"#cae1ff\" stroke=\"#cae1ff\" points=\"365.097,-36 272.903,-36 272.903,-0 365.097,-0 365.097,-36\"/>\n",
       "<text text-anchor=\"middle\" x=\"319\" y=\"-13.8\" font-family=\"Times,serif\" font-size=\"14.00\">{z0,z1,z2,z3}</text>\n",
       "</g>\n",
       "<!-- \\{z0,z1,z2,z3\\}&#45;&gt;\\{z0,z2,z3\\} -->\n",
       "<g id=\"edge62\" class=\"edge\"><title>\\{z0,z1,z2,z3\\}&#45;&gt;\\{z0,z2,z3\\}</title>\n",
       "<path fill=\"none\" stroke=\"black\" d=\"M321.923,-36.0293C329.684,-81.2458 350.861,-204.624 360.324,-259.755\"/>\n",
       "<polygon fill=\"black\" stroke=\"black\" points=\"356.911,-260.564 362.053,-269.828 363.81,-259.38 356.911,-260.564\"/>\n",
       "<text text-anchor=\"middle\" x=\"347.5\" y=\"-148.8\" font-family=\"Times,serif\" font-size=\"14.00\">0</text>\n",
       "</g>\n",
       "<!-- \\{z0,z1,z2,z3\\}&#45;&gt;\\{z0,z1,z2,z3\\} -->\n",
       "<g id=\"edge30\" class=\"edge\"><title>\\{z0,z1,z2,z3\\}&#45;&gt;\\{z0,z1,z2,z3\\}</title>\n",
       "<path fill=\"none\" stroke=\"#473c8b\" d=\"M365.462,-34.5249C385.713,-35.8778 403.215,-30.3695 403.215,-18 403.215,-7.75648 391.212,-2.21833 375.585,-1.38554\"/>\n",
       "<polygon fill=\"#473c8b\" stroke=\"#473c8b\" points=\"375.43,2.11332 365.462,-1.47508 375.492,-4.88641 375.43,2.11332\"/>\n",
       "<text text-anchor=\"middle\" x=\"406.715\" y=\"-13.8\" font-family=\"Times,serif\" font-size=\"14.00\">1</text>\n",
       "</g>\n",
       "<!-- \\{z0,z1,z2,z3\\}&#45;&gt;\\{z0,z1,z2,z3\\} -->\n",
       "<g id=\"edge10\" class=\"edge\"><title>\\{z0,z1,z2,z3\\}&#45;&gt;\\{z0,z1,z2,z3\\}</title>\n",
       "<path fill=\"none\" stroke=\"firebrick\" d=\"M365.312,-22.014C375.546,-21.6368 383,-20.2988 383,-18 383,-16.5632 380.088,-15.5018 375.406,-14.8157\"/>\n",
       "<polygon fill=\"firebrick\" stroke=\"firebrick\" points=\"375.565,-11.317 365.312,-13.986 374.992,-18.2935 375.565,-11.317\"/>\n",
       "<text text-anchor=\"middle\" x=\"393.107\" y=\"-13.8\" font-family=\"Times,serif\" font-size=\"14.00\">end</text>\n",
       "</g>\n",
       "<!-- \\{z1,z2\\} -->\n",
       "<g id=\"node11\" class=\"node\"><title>\\{z1,z2\\}</title>\n",
       "<polygon fill=\"#cae1ff\" stroke=\"#cae1ff\" points=\"263.524,-576 204.476,-576 204.476,-540 263.524,-540 263.524,-576\"/>\n",
       "<text text-anchor=\"middle\" x=\"234\" y=\"-553.8\" font-family=\"Times,serif\" font-size=\"14.00\">{z1,z2}</text>\n",
       "</g>\n",
       "<!-- \\{z1,z2\\}&#45;&gt;\\{z2,z3\\} -->\n",
       "<g id=\"edge34\" class=\"edge\"><title>\\{z1,z2\\}&#45;&gt;\\{z2,z3\\}</title>\n",
       "<path fill=\"none\" stroke=\"#473c8b\" d=\"M216.969,-539.766C212.679,-534.468 208.568,-528.348 206,-522 202.783,-514.048 201.242,-504.896 200.584,-496.458\"/>\n",
       "<polygon fill=\"#473c8b\" stroke=\"#473c8b\" points=\"204.074,-496.145 200.163,-486.298 197.08,-496.434 204.074,-496.145\"/>\n",
       "<text text-anchor=\"middle\" x=\"209.5\" y=\"-508.8\" font-family=\"Times,serif\" font-size=\"14.00\">1</text>\n",
       "</g>\n",
       "<!-- \\{z1,z2\\}&#45;&gt;\\{z2,z3\\} -->\n",
       "<g id=\"edge66\" class=\"edge\"><title>\\{z1,z2\\}&#45;&gt;\\{z2,z3\\}</title>\n",
       "<path fill=\"none\" stroke=\"black\" d=\"M227.48,-539.614C222.795,-527.119 216.389,-510.037 211.052,-495.804\"/>\n",
       "<polygon fill=\"black\" stroke=\"black\" points=\"214.182,-494.185 207.394,-486.05 207.628,-496.643 214.182,-494.185\"/>\n",
       "<text text-anchor=\"middle\" x=\"224.5\" y=\"-508.8\" font-family=\"Times,serif\" font-size=\"14.00\">0</text>\n",
       "</g>\n",
       "<!-- \\{z1,z2\\}&#45;&gt;\\{z1,z2\\} -->\n",
       "<g id=\"edge12\" class=\"edge\"><title>\\{z1,z2\\}&#45;&gt;\\{z1,z2\\}</title>\n",
       "<path fill=\"none\" stroke=\"firebrick\" d=\"M263.375,-566.25C273.167,-566.25 281,-563.5 281,-558 281,-554.648 278.091,-552.318 273.603,-551.009\"/>\n",
       "<polygon fill=\"firebrick\" stroke=\"firebrick\" points=\"273.728,-547.498 263.375,-549.75 272.873,-554.445 273.728,-547.498\"/>\n",
       "<text text-anchor=\"middle\" x=\"291.107\" y=\"-553.8\" font-family=\"Times,serif\" font-size=\"14.00\">end</text>\n",
       "</g>\n",
       "<!-- \\{z0,z1,z2\\} -->\n",
       "<g id=\"node13\" class=\"node\"><title>\\{z0,z1,z2\\}</title>\n",
       "<polygon fill=\"#cae1ff\" stroke=\"#cae1ff\" points=\"403.061,-396 326.939,-396 326.939,-360 403.061,-360 403.061,-396\"/>\n",
       "<text text-anchor=\"middle\" x=\"365\" y=\"-373.8\" font-family=\"Times,serif\" font-size=\"14.00\">{z0,z1,z2}</text>\n",
       "</g>\n",
       "<!-- \\{z0,z1,z2\\}&#45;&gt;\\{z0,z2,z3\\} -->\n",
       "<g id=\"edge70\" class=\"edge\"><title>\\{z0,z1,z2\\}&#45;&gt;\\{z0,z2,z3\\}</title>\n",
       "<path fill=\"none\" stroke=\"black\" d=\"M365,-359.614C365,-347.24 365,-330.369 365,-316.22\"/>\n",
       "<polygon fill=\"black\" stroke=\"black\" points=\"368.5,-316.05 365,-306.05 361.5,-316.05 368.5,-316.05\"/>\n",
       "<text text-anchor=\"middle\" x=\"368.5\" y=\"-328.8\" font-family=\"Times,serif\" font-size=\"14.00\">0</text>\n",
       "</g>\n",
       "<!-- \\{z0,z1,z2\\}&#45;&gt;\\{z0,z1,z2,z3\\} -->\n",
       "<g id=\"edge38\" class=\"edge\"><title>\\{z0,z1,z2\\}&#45;&gt;\\{z0,z1,z2,z3\\}</title>\n",
       "<path fill=\"none\" stroke=\"#473c8b\" d=\"M332.764,-359.919C309.075,-344.787 281,-320.259 281,-289 281,-289 281,-289 281,-107 281,-84.815 291.305,-61.8717 301.182,-44.9761\"/>\n",
       "<polygon fill=\"#473c8b\" stroke=\"#473c8b\" points=\"304.29,-46.6044 306.557,-36.255 298.331,-42.9315 304.29,-46.6044\"/>\n",
       "<text text-anchor=\"middle\" x=\"284.5\" y=\"-193.8\" font-family=\"Times,serif\" font-size=\"14.00\">1</text>\n",
       "</g>\n",
       "<!-- \\{z0,z1,z2\\}&#45;&gt;\\{z0,z1,z2\\} -->\n",
       "<g id=\"edge14\" class=\"edge\"><title>\\{z0,z1,z2\\}&#45;&gt;\\{z0,z1,z2\\}</title>\n",
       "<path fill=\"none\" stroke=\"firebrick\" d=\"M403.214,-386.177C413.335,-385.71 421,-382.984 421,-378 421,-374.885 418.006,-372.652 413.289,-371.301\"/>\n",
       "<polygon fill=\"firebrick\" stroke=\"firebrick\" points=\"413.616,-367.812 403.214,-369.823 412.6,-374.737 413.616,-367.812\"/>\n",
       "<text text-anchor=\"middle\" x=\"431.107\" y=\"-373.8\" font-family=\"Times,serif\" font-size=\"14.00\">end</text>\n",
       "</g>\n",
       "<!-- \\{z0,z2\\} -->\n",
       "<g id=\"node15\" class=\"node\"><title>\\{z0,z2\\}</title>\n",
       "<polygon fill=\"#cae1ff\" stroke=\"#cae1ff\" points=\"518.524,-306 459.476,-306 459.476,-270 518.524,-270 518.524,-306\"/>\n",
       "<text text-anchor=\"middle\" x=\"489\" y=\"-283.8\" font-family=\"Times,serif\" font-size=\"14.00\">{z0,z2}</text>\n",
       "</g>\n",
       "<!-- \\{z0,z2\\}&#45;&gt;\\{z0,z2\\} -->\n",
       "<g id=\"edge16\" class=\"edge\"><title>\\{z0,z2\\}&#45;&gt;\\{z0,z2\\}</title>\n",
       "<path fill=\"none\" stroke=\"firebrick\" d=\"M518.375,-296.25C528.167,-296.25 536,-293.5 536,-288 536,-284.648 533.091,-282.318 528.603,-281.009\"/>\n",
       "<polygon fill=\"firebrick\" stroke=\"firebrick\" points=\"528.728,-277.498 518.375,-279.75 527.873,-284.445 528.728,-277.498\"/>\n",
       "<text text-anchor=\"middle\" x=\"546.107\" y=\"-283.8\" font-family=\"Times,serif\" font-size=\"14.00\">end</text>\n",
       "</g>\n",
       "<!-- \\{z0,z2\\}&#45;&gt;\\{z0,z1,z3\\} -->\n",
       "<g id=\"edge44\" class=\"edge\"><title>\\{z0,z2\\}&#45;&gt;\\{z0,z1,z3\\}</title>\n",
       "<path fill=\"none\" stroke=\"#473c8b\" d=\"M481.233,-269.933C467.021,-238.7 436.745,-172.169 419.913,-135.178\"/>\n",
       "<polygon fill=\"#473c8b\" stroke=\"#473c8b\" points=\"423.071,-133.668 415.743,-126.016 416.699,-136.567 423.071,-133.668\"/>\n",
       "<text text-anchor=\"middle\" x=\"460.5\" y=\"-193.8\" font-family=\"Times,serif\" font-size=\"14.00\">1</text>\n",
       "</g>\n",
       "<!-- \\{z0,z2\\}&#45;&gt;\\{z0,z3\\} -->\n",
       "<g id=\"edge76\" class=\"edge\"><title>\\{z0,z2\\}&#45;&gt;\\{z0,z3\\}</title>\n",
       "<path fill=\"none\" stroke=\"black\" d=\"M492.556,-269.614C495.087,-257.24 498.538,-240.369 501.432,-226.22\"/>\n",
       "<polygon fill=\"black\" stroke=\"black\" points=\"504.937,-226.549 503.512,-216.05 498.079,-225.146 504.937,-226.549\"/>\n",
       "<text text-anchor=\"middle\" x=\"502.5\" y=\"-238.8\" font-family=\"Times,serif\" font-size=\"14.00\">0</text>\n",
       "</g>\n",
       "<!-- \\{z0\\} -->\n",
       "<g id=\"node17\" class=\"node\"><title>\\{z0\\}</title>\n",
       "<polygon fill=\"#cae1ff\" stroke=\"#cae1ff\" points=\"451,-576 397,-576 397,-540 451,-540 451,-576\"/>\n",
       "<text text-anchor=\"middle\" x=\"424\" y=\"-553.8\" font-family=\"Times,serif\" font-size=\"14.00\">{z0}</text>\n",
       "</g>\n",
       "<!-- \\{z0\\}&#45;&gt;\\{z0\\} -->\n",
       "<g id=\"edge80\" class=\"edge\"><title>\\{z0\\}&#45;&gt;\\{z0\\}</title>\n",
       "<path fill=\"none\" stroke=\"black\" d=\"M451.128,-572.838C471.639,-577.842 493.101,-572.896 493.101,-558 493.101,-545.548 478.104,-540.049 461.201,-541.503\"/>\n",
       "<polygon fill=\"black\" stroke=\"black\" points=\"460.426,-538.083 451.128,-543.162 461.564,-544.99 460.426,-538.083\"/>\n",
       "<text text-anchor=\"middle\" x=\"496.601\" y=\"-553.8\" font-family=\"Times,serif\" font-size=\"14.00\">0</text>\n",
       "</g>\n",
       "<!-- \\{z0\\}&#45;&gt;\\{z0\\} -->\n",
       "<g id=\"edge18\" class=\"edge\"><title>\\{z0\\}&#45;&gt;\\{z0\\}</title>\n",
       "<path fill=\"none\" stroke=\"sienna\" d=\"M451.241,-562.121C461.024,-562.21 469,-560.836 469,-558 469,-556.272 466.038,-555.087 461.51,-554.445\"/>\n",
       "<polygon fill=\"sienna\" stroke=\"sienna\" points=\"461.418,-550.934 451.241,-553.879 461.033,-557.924 461.418,-550.934\"/>\n",
       "<text text-anchor=\"middle\" x=\"481.05\" y=\"-553.8\" font-family=\"Times,serif\" font-size=\"14.00\">start</text>\n",
       "</g>\n",
       "<!-- \\{z0,z1\\} -->\n",
       "<g id=\"node37\" class=\"node\"><title>\\{z0,z1\\}</title>\n",
       "<polygon fill=\"#cae1ff\" stroke=\"#cae1ff\" points=\"453.524,-486 394.476,-486 394.476,-450 453.524,-450 453.524,-486\"/>\n",
       "<text text-anchor=\"middle\" x=\"424\" y=\"-463.8\" font-family=\"Times,serif\" font-size=\"14.00\">{z0,z1}</text>\n",
       "</g>\n",
       "<!-- \\{z0\\}&#45;&gt;\\{z0,z1\\} -->\n",
       "<g id=\"edge48\" class=\"edge\"><title>\\{z0\\}&#45;&gt;\\{z0,z1\\}</title>\n",
       "<path fill=\"none\" stroke=\"#473c8b\" d=\"M424,-539.614C424,-527.24 424,-510.369 424,-496.22\"/>\n",
       "<polygon fill=\"#473c8b\" stroke=\"#473c8b\" points=\"427.5,-496.05 424,-486.05 420.5,-496.05 427.5,-496.05\"/>\n",
       "<text text-anchor=\"middle\" x=\"427.5\" y=\"-508.8\" font-family=\"Times,serif\" font-size=\"14.00\">1</text>\n",
       "</g>\n",
       "<!-- \\{z3\\}&#45;&gt;\\{z3\\} -->\n",
       "<g id=\"edge52\" class=\"edge\"><title>\\{z3\\}&#45;&gt;\\{z3\\}</title>\n",
       "<path fill=\"none\" stroke=\"black\" d=\"M147.198,-393.251C165.34,-397.544 183,-392.46 183,-378 183,-366.251 171.342,-360.692 157.239,-361.323\"/>\n",
       "<polygon fill=\"black\" stroke=\"black\" points=\"156.606,-357.878 147.198,-362.749 157.59,-364.808 156.606,-357.878\"/>\n",
       "<text text-anchor=\"middle\" x=\"186.5\" y=\"-373.8\" font-family=\"Times,serif\" font-size=\"14.00\">0</text>\n",
       "</g>\n",
       "<!-- \\{z3\\}&#45;&gt;\\{z3\\} -->\n",
       "<g id=\"edge20\" class=\"edge\"><title>\\{z3\\}&#45;&gt;\\{z3\\}</title>\n",
       "<path fill=\"none\" stroke=\"#473c8b\" d=\"M147.241,-382.121C157.024,-382.21 165,-380.836 165,-378 165,-376.272 162.038,-375.087 157.51,-374.445\"/>\n",
       "<polygon fill=\"#473c8b\" stroke=\"#473c8b\" points=\"157.418,-370.934 147.241,-373.879 157.033,-377.924 157.418,-370.934\"/>\n",
       "<text text-anchor=\"middle\" x=\"168.5\" y=\"-373.8\" font-family=\"Times,serif\" font-size=\"14.00\">1</text>\n",
       "</g>\n",
       "<!-- \\{z0,z1,z3\\}&#45;&gt;\\{z0,z2,z3\\} -->\n",
       "<g id=\"edge68\" class=\"edge\"><title>\\{z0,z1,z3\\}&#45;&gt;\\{z0,z2,z3\\}</title>\n",
       "<path fill=\"none\" stroke=\"black\" d=\"M406.684,-126.14C404.221,-153.399 397.765,-208.04 383,-252 382.062,-254.793 380.929,-257.639 379.693,-260.439\"/>\n",
       "<polygon fill=\"black\" stroke=\"black\" points=\"376.442,-259.123 375.232,-269.649 382.742,-262.175 376.442,-259.123\"/>\n",
       "<text text-anchor=\"middle\" x=\"403.5\" y=\"-193.8\" font-family=\"Times,serif\" font-size=\"14.00\">0</text>\n",
       "</g>\n",
       "<!-- \\{z0,z1,z3\\}&#45;&gt;\\{z0,z1,z2,z3\\} -->\n",
       "<g id=\"edge36\" class=\"edge\"><title>\\{z0,z1,z3\\}&#45;&gt;\\{z0,z1,z2,z3\\}</title>\n",
       "<path fill=\"none\" stroke=\"#473c8b\" d=\"M390.416,-89.614C377.043,-76.3912 358.475,-58.0317 343.624,-43.3476\"/>\n",
       "<polygon fill=\"#473c8b\" stroke=\"#473c8b\" points=\"345.816,-40.5926 336.244,-36.0504 340.894,-45.5703 345.816,-40.5926\"/>\n",
       "<text text-anchor=\"middle\" x=\"375.5\" y=\"-58.8\" font-family=\"Times,serif\" font-size=\"14.00\">1</text>\n",
       "</g>\n",
       "<!-- \\{z1,z3\\} -->\n",
       "<g id=\"node27\" class=\"node\"><title>\\{z1,z3\\}</title>\n",
       "<polygon fill=\"#cae1ff\" stroke=\"#cae1ff\" points=\"378.524,-576 319.476,-576 319.476,-540 378.524,-540 378.524,-576\"/>\n",
       "<text text-anchor=\"middle\" x=\"349\" y=\"-553.8\" font-family=\"Times,serif\" font-size=\"14.00\">{z1,z3}</text>\n",
       "</g>\n",
       "<!-- \\{z1,z3\\}&#45;&gt;\\{z2,z3\\} -->\n",
       "<g id=\"edge32\" class=\"edge\"><title>\\{z1,z3\\}&#45;&gt;\\{z2,z3\\}</title>\n",
       "<path fill=\"none\" stroke=\"#473c8b\" d=\"M320.113,-539.824C296.785,-525.953 263.786,-506.332 238.434,-491.258\"/>\n",
       "<polygon fill=\"#473c8b\" stroke=\"#473c8b\" points=\"240.199,-488.235 229.814,-486.133 236.621,-494.252 240.199,-488.235\"/>\n",
       "<text text-anchor=\"middle\" x=\"292.5\" y=\"-508.8\" font-family=\"Times,serif\" font-size=\"14.00\">1</text>\n",
       "</g>\n",
       "<!-- \\{z1,z3\\}&#45;&gt;\\{z2,z3\\} -->\n",
       "<g id=\"edge64\" class=\"edge\"><title>\\{z1,z3\\}&#45;&gt;\\{z2,z3\\}</title>\n",
       "<path fill=\"none\" stroke=\"black\" d=\"M336.572,-539.66C327.555,-528.167 314.444,-513.509 300,-504 281.93,-492.104 259.339,-483.716 240.302,-478.14\"/>\n",
       "<polygon fill=\"black\" stroke=\"black\" points=\"241,-474.702 230.429,-475.402 239.13,-481.447 241,-474.702\"/>\n",
       "<text text-anchor=\"middle\" x=\"325.5\" y=\"-508.8\" font-family=\"Times,serif\" font-size=\"14.00\">0</text>\n",
       "</g>\n",
       "<!-- \\{z1\\} -->\n",
       "<g id=\"node32\" class=\"node\"><title>\\{z1\\}</title>\n",
       "<polygon fill=\"#cae1ff\" stroke=\"#cae1ff\" points=\"54,-576 0,-576 0,-540 54,-540 54,-576\"/>\n",
       "<text text-anchor=\"middle\" x=\"27\" y=\"-553.8\" font-family=\"Times,serif\" font-size=\"14.00\">{z1}</text>\n",
       "</g>\n",
       "<!-- \\{z1\\}&#45;&gt;\\{z2\\} -->\n",
       "<g id=\"edge40\" class=\"edge\"><title>\\{z1\\}&#45;&gt;\\{z2\\}</title>\n",
       "<path fill=\"none\" stroke=\"#473c8b\" d=\"M25.4389,-539.765C25.086,-529.134 25.7508,-515.399 30,-504 31.1794,-500.836 32.751,-497.726 34.5452,-494.744\"/>\n",
       "<polygon fill=\"#473c8b\" stroke=\"#473c8b\" points=\"37.6054,-496.473 40.4255,-486.26 31.8522,-492.485 37.6054,-496.473\"/>\n",
       "<text text-anchor=\"middle\" x=\"33.5\" y=\"-508.8\" font-family=\"Times,serif\" font-size=\"14.00\">1</text>\n",
       "</g>\n",
       "<!-- \\{z1\\}&#45;&gt;\\{z2\\} -->\n",
       "<g id=\"edge72\" class=\"edge\"><title>\\{z1\\}&#45;&gt;\\{z2\\}</title>\n",
       "<path fill=\"none\" stroke=\"black\" d=\"M32.927,-539.614C37.1867,-527.119 43.01,-510.037 47.8621,-495.804\"/>\n",
       "<polygon fill=\"black\" stroke=\"black\" points=\"51.2733,-496.645 51.1874,-486.05 44.6478,-494.386 51.2733,-496.645\"/>\n",
       "<text text-anchor=\"middle\" x=\"48.5\" y=\"-508.8\" font-family=\"Times,serif\" font-size=\"14.00\">0</text>\n",
       "</g>\n",
       "<!-- \\{z0,z3\\}&#45;&gt;\\{z0,z1,z3\\} -->\n",
       "<g id=\"edge42\" class=\"edge\"><title>\\{z0,z3\\}&#45;&gt;\\{z0,z1,z3\\}</title>\n",
       "<path fill=\"none\" stroke=\"#473c8b\" d=\"M496.207,-179.918C488.647,-168.823 477.814,-154.523 466,-144 460.985,-139.533 455.32,-135.317 449.547,-131.462\"/>\n",
       "<polygon fill=\"#473c8b\" stroke=\"#473c8b\" points=\"451.391,-128.487 441.072,-126.087 447.641,-134.399 451.391,-128.487\"/>\n",
       "<text text-anchor=\"middle\" x=\"485.5\" y=\"-148.8\" font-family=\"Times,serif\" font-size=\"14.00\">1</text>\n",
       "</g>\n",
       "<!-- \\{z0,z3\\}&#45;&gt;\\{z0,z3\\} -->\n",
       "<g id=\"edge74\" class=\"edge\"><title>\\{z0,z3\\}&#45;&gt;\\{z0,z3\\}</title>\n",
       "<path fill=\"none\" stroke=\"black\" d=\"M536.375,-206.25C546.167,-206.25 554,-203.5 554,-198 554,-194.648 551.091,-192.318 546.603,-191.009\"/>\n",
       "<polygon fill=\"black\" stroke=\"black\" points=\"546.728,-187.498 536.375,-189.75 545.873,-194.445 546.728,-187.498\"/>\n",
       "<text text-anchor=\"middle\" x=\"557.5\" y=\"-193.8\" font-family=\"Times,serif\" font-size=\"14.00\">0</text>\n",
       "</g>\n",
       "<!-- \\{z0,z1\\}&#45;&gt;\\{z0,z1,z2\\} -->\n",
       "<g id=\"edge46\" class=\"edge\"><title>\\{z0,z1\\}&#45;&gt;\\{z0,z1,z2\\}</title>\n",
       "<path fill=\"none\" stroke=\"#473c8b\" d=\"M412.343,-449.614C403.722,-436.755 391.844,-419.038 382.142,-404.568\"/>\n",
       "<polygon fill=\"#473c8b\" stroke=\"#473c8b\" points=\"384.907,-402.407 376.432,-396.05 379.093,-406.305 384.907,-402.407\"/>\n",
       "<text text-anchor=\"middle\" x=\"403.5\" y=\"-418.8\" font-family=\"Times,serif\" font-size=\"14.00\">1</text>\n",
       "</g>\n",
       "<!-- \\{z0,z1\\}&#45;&gt;\\{z0,z2\\} -->\n",
       "<g id=\"edge78\" class=\"edge\"><title>\\{z0,z1\\}&#45;&gt;\\{z0,z2\\}</title>\n",
       "<path fill=\"none\" stroke=\"black\" d=\"M430.312,-449.786C435.582,-435.409 443.288,-414.371 450,-396 460.016,-368.585 471.449,-337.208 479.334,-315.554\"/>\n",
       "<polygon fill=\"black\" stroke=\"black\" points=\"482.661,-316.646 482.794,-306.052 476.084,-314.251 482.661,-316.646\"/>\n",
       "<text text-anchor=\"middle\" x=\"466.5\" y=\"-373.8\" font-family=\"Times,serif\" font-size=\"14.00\">0</text>\n",
       "</g>\n",
       "<!-- \\{\\} -->\n",
       "<g id=\"node40\" class=\"node\"><title>\\{\\}</title>\n",
       "<polygon fill=\"#cae1ff\" stroke=\"#cae1ff\" points=\"590,-576 536,-576 536,-540 590,-540 590,-576\"/>\n",
       "<text text-anchor=\"middle\" x=\"563\" y=\"-553.8\" font-family=\"Times,serif\" font-size=\"14.00\">{}</text>\n",
       "</g>\n",
       "<!-- \\{\\}&#45;&gt;\\{\\} -->\n",
       "<g id=\"edge50\" class=\"edge\"><title>\\{\\}&#45;&gt;\\{\\}</title>\n",
       "<path fill=\"none\" stroke=\"#473c8b\" d=\"M590.241,-562.121C600.024,-562.21 608,-560.836 608,-558 608,-556.272 605.038,-555.087 600.51,-554.445\"/>\n",
       "<polygon fill=\"#473c8b\" stroke=\"#473c8b\" points=\"600.418,-550.934 590.241,-553.879 600.033,-557.924 600.418,-550.934\"/>\n",
       "<text text-anchor=\"middle\" x=\"611.5\" y=\"-553.8\" font-family=\"Times,serif\" font-size=\"14.00\">1</text>\n",
       "</g>\n",
       "<!-- \\{\\}&#45;&gt;\\{\\} -->\n",
       "<g id=\"edge82\" class=\"edge\"><title>\\{\\}&#45;&gt;\\{\\}</title>\n",
       "<path fill=\"none\" stroke=\"black\" d=\"M590.198,-573.251C608.34,-577.544 626,-572.46 626,-558 626,-546.251 614.342,-540.692 600.239,-541.323\"/>\n",
       "<polygon fill=\"black\" stroke=\"black\" points=\"599.606,-537.878 590.198,-542.749 600.59,-544.808 599.606,-537.878\"/>\n",
       "<text text-anchor=\"middle\" x=\"629.5\" y=\"-553.8\" font-family=\"Times,serif\" font-size=\"14.00\">0</text>\n",
       "</g>\n",
       "</g>\n",
       "</svg>"
      ],
      "text/plain": [
       "<Dot visualization: expr_as_graph [(\"0\",{x,y|x:POW(Z) & δs(x, [0])=y})]>"
      ]
     },
     "execution_count": 76,
     "metadata": {},
     "output_type": "execute_result"
    }
   ],
   "source": [
    ":dot expr_as_graph (\"0\",{x,y| x∈ℙ(Z) & δs(x,[0]) = y},\n",
    "                    \"1\",{x,y| x∈ℙ(Z) & δs(x,[1]) = y},\n",
    "                    \"start\", {x,y|x=y & x={z0}},\n",
    "                    \"end\", {x,y|x=y & x∩F ≠ ∅})"
   ]
  },
  {
   "cell_type": "markdown",
   "metadata": {
    "slideshow": {
     "slide_type": "slide"
    }
   },
   "source": [
    "# Anwendung: Prüfbericht\n",
    "ProB wird zur Datenvalidierung benutzt.\n",
    "Man kann mit Jupyter auch Prüfberichte erstellen, inklusive der Darstellung von Gegenbeispielen und Erklärungen.\n",
    "Als Beispiel werden hier keine Daten aus der Bahntechnik sondern Daten über chemische Elemente benutzt.\n",
    "\n",
    "\n",
    "## Validation Report: Chemical Elements\n",
    "\n",
    "This report was generated with the following version of ProB:"
   ]
  },
  {
   "cell_type": "code",
   "execution_count": null,
   "metadata": {},
   "outputs": [],
   "source": [
    ":version"
   ]
  },
  {
   "cell_type": "markdown",
   "metadata": {
    "slideshow": {
     "slide_type": "subslide"
    }
   },
   "source": [
    "We read in a CSV data file containing the chemical elements:"
   ]
  },
  {
   "cell_type": "code",
   "execution_count": 77,
   "metadata": {},
   "outputs": [
    {
     "data": {
      "text/plain": [
       "Loaded machine: ChemicalElements"
      ]
     },
     "execution_count": 77,
     "metadata": {},
     "output_type": "execute_result"
    }
   ],
   "source": [
    "::load\n",
    "MACHINE ChemicalElements\n",
    "DEFINITIONS\n",
    " \"LibraryStrings.def\";\n",
    " \"LibraryCSV.def\"\n",
    "CONSTANTS eltable\n",
    "PROPERTIES\n",
    " eltable : POW(STRING*STRING*INTEGER*STRING) &\n",
    " eltable = READ_CSV(\"csv/elementdata.csv\",TRUE,TRUE)  // we skip line 1 and extra columns\n",
    "END"
   ]
  },
  {
   "cell_type": "code",
   "execution_count": 78,
   "metadata": {},
   "outputs": [
    {
     "data": {
      "text/plain": [
       "Machine constants set up using operation 0: $setup_constants()"
      ]
     },
     "execution_count": 78,
     "metadata": {},
     "output_type": "execute_result"
    }
   ],
   "source": [
    ":constants"
   ]
  },
  {
   "cell_type": "markdown",
   "metadata": {
    "slideshow": {
     "slide_type": "subslide"
    }
   },
   "source": [
    "We have read in the following number of elements:"
   ]
  },
  {
   "cell_type": "code",
   "execution_count": 79,
   "metadata": {},
   "outputs": [
    {
     "data": {
      "text/markdown": [
       "$118$"
      ],
      "text/plain": [
       "118"
      ]
     },
     "execution_count": 79,
     "metadata": {},
     "output_type": "execute_result"
    }
   ],
   "source": [
    "card(eltable)"
   ]
  },
  {
   "cell_type": "code",
   "execution_count": 80,
   "metadata": {},
   "outputs": [
    {
     "data": {
      "text/markdown": [
       "|prj111|prj112|prj12|prj2|\n",
       "|---|---|---|---|\n",
       "|$\\text{\"Actinium\"}$|$\\text{\"Ac\"}$|$89$|$\\text{\"227.0278\"}$|\n",
       "|$\\text{\"Aluminum\"}$|$\\text{\"Al\"}$|$13$|$\\text{\"26.981539\"}$|\n",
       "|$\\text{\"Americium\"}$|$\\text{\"Am\"}$|$95$|$\\text{\"243.0614\"}$|\n",
       "|$\\text{\"Antimony\"}$|$\\text{\"Sb\"}$|$51$|$\\text{\"121.76\"}$|\n",
       "|$\\text{\"Argon\"}$|$\\text{\"Ar\"}$|$18$|$\\text{\"39.948\"}$|\n",
       "|$\\text{\"Arsenic\"}$|$\\text{\"As\"}$|$33$|$\\text{\"74.92159\"}$|\n",
       "|$\\text{\"Astatine\"}$|$\\text{\"At\"}$|$85$|$\\text{\"209.9871\"}$|\n",
       "|$\\text{\"Barium\"}$|$\\text{\"Ba\"}$|$56$|$\\text{\"137.327\"}$|\n",
       "|$\\text{\"Berkelium\"}$|$\\text{\"Bk\"}$|$97$|$\\text{\"247.0703\"}$|\n",
       "|$\\text{\"Beryllium\"}$|$\\text{\"Be\"}$|$4$|$\\text{\"9.01218\"}$|\n",
       "|$\\text{\"Bismuth\"}$|$\\text{\"Bi\"}$|$83$|$\\text{\"208.98037\"}$|\n",
       "|$\\text{\"Bohrium\"}$|$\\text{\"Bh\"}$|$107$|$\\text{\"[264]\"}$|\n",
       "|$\\text{\"Boron\"}$|$\\text{\"B\"}$|$5$|$\\text{\"10.811\"}$|\n",
       "|$\\text{\"Bromine\"}$|$\\text{\"Br\"}$|$35$|$\\text{\"79.904\"}$|\n",
       "|$\\text{\"Cadmium\"}$|$\\text{\"Cd\"}$|$48$|$\\text{\"112.411\"}$|\n",
       "|$\\text{\"Calcium\"}$|$\\text{\"Ca\"}$|$20$|$\\text{\"40.078\"}$|\n",
       "|$\\text{\"Californium\"}$|$\\text{\"Cf\"}$|$98$|$\\text{\"251.0796\"}$|\n",
       "|$\\text{\"Carbon\"}$|$\\text{\"C\"}$|$6$|$\\text{\"12.011\"}$|\n",
       "|$\\text{\"Cerium\"}$|$\\text{\"Ce\"}$|$58$|$\\text{\"140.115\"}$|\n",
       "|$\\text{\"Cesium\"}$|$\\text{\"Cs\"}$|$55$|$\\text{\"132.90543\"}$|\n",
       "|$\\text{\"Chlorine\"}$|$\\text{\"Cl\"}$|$17$|$\\text{\"35.4527\"}$|\n",
       "|$\\text{\"Chromium\"}$|$\\text{\"Cr\"}$|$24$|$\\text{\"51.9961\"}$|\n",
       "|$\\text{\"Cobalt\"}$|$\\text{\"Co\"}$|$27$|$\\text{\"58.9332\"}$|\n",
       "|$\\text{\"Copper\"}$|$\\text{\"Cu\"}$|$29$|$\\text{\"63.546\"}$|\n",
       "|$\\text{\"Curium\"}$|$\\text{\"Cm\"}$|$96$|$\\text{\"247.0703\"}$|\n",
       "|$\\text{\"Dubnium\"}$|$\\text{\"Db\"}$|$105$|$\\text{\"[262]\"}$|\n",
       "|$\\text{\"Dysprosium\"}$|$\\text{\"Dy\"}$|$66$|$\\text{\"162.5\"}$|\n",
       "|$\\text{\"Einsteinium\"}$|$\\text{\"Es\"}$|$99$|$\\text{\"252.083\"}$|\n",
       "|$\\text{\"Erbium\"}$|$\\text{\"Er\"}$|$68$|$\\text{\"167.26\"}$|\n",
       "|$\\text{\"Europium\"}$|$\\text{\"Eu\"}$|$63$|$\\text{\"151.965\"}$|\n",
       "|$\\text{\"Fermium\"}$|$\\text{\"Fm\"}$|$100$|$\\text{\"257.0951\"}$|\n",
       "|$\\text{\"Fluorine\"}$|$\\text{\"F\"}$|$9$|$\\text{\"18.998403\"}$|\n",
       "|$\\text{\"Francium\"}$|$\\text{\"Fr\"}$|$87$|$\\text{\"223.0197\"}$|\n",
       "|$\\text{\"Gadolinium\"}$|$\\text{\"Gd\"}$|$64$|$\\text{\"157.25\"}$|\n",
       "|$\\text{\"Gallium\"}$|$\\text{\"Ga\"}$|$31$|$\\text{\"69.723\"}$|\n",
       "|$\\text{\"Germanium\"}$|$\\text{\"Ge\"}$|$32$|$\\text{\"72.61\"}$|\n",
       "|$\\text{\"Gold\"}$|$\\text{\"Au\"}$|$79$|$\\text{\"196.96654\"}$|\n",
       "|$\\text{\"Hafnium\"}$|$\\text{\"Hf\"}$|$72$|$\\text{\"178.49\"}$|\n",
       "|$\\text{\"Hassium\"}$|$\\text{\"Hs\"}$|$108$|$\\text{\"[269]\"}$|\n",
       "|$\\text{\"Helium\"}$|$\\text{\"He\"}$|$2$|$\\text{\"4.002602\"}$|\n",
       "|$\\text{\"Holmium\"}$|$\\text{\"Ho\"}$|$67$|$\\text{\"164.93032\"}$|\n",
       "|$\\text{\"Hydrogen\"}$|$\\text{\"H\"}$|$1$|$\\text{\"1.00794\"}$|\n",
       "|$\\text{\"Indium\"}$|$\\text{\"In\"}$|$49$|$\\text{\"114.818\"}$|\n",
       "|$\\text{\"Iodine\"}$|$\\text{\"I\"}$|$53$|$\\text{\"126.90447\"}$|\n",
       "|$\\text{\"Iridium\"}$|$\\text{\"Ir\"}$|$77$|$\\text{\"192.22\"}$|\n",
       "|$\\text{\"Iron\"}$|$\\text{\"Fe\"}$|$26$|$\\text{\"55.847\"}$|\n",
       "|$\\text{\"Krypton\"}$|$\\text{\"Kr\"}$|$36$|$\\text{\"83.8\"}$|\n",
       "|$\\text{\"Lanthanum\"}$|$\\text{\"La\"}$|$57$|$\\text{\"138.9055\"}$|\n",
       "|$\\text{\"Lawrencium\"}$|$\\text{\"Lr\"}$|$103$|$\\text{\"262.11\"}$|\n",
       "|$\\text{\"Lead\"}$|$\\text{\"Pb\"}$|$82$|$\\text{\"207.2\"}$|\n",
       "|$\\text{\"Lithium\"}$|$\\text{\"Li\"}$|$3$|$\\text{\"6.941\"}$|\n",
       "|$\\text{\"Lutetium\"}$|$\\text{\"Lu\"}$|$71$|$\\text{\"174.967\"}$|\n",
       "|$\\text{\"Magnesium\"}$|$\\text{\"Mg\"}$|$12$|$\\text{\"24.305\"}$|\n",
       "|$\\text{\"Manganese\"}$|$\\text{\"Mn\"}$|$25$|$\\text{\"54.93805\"}$|\n",
       "|$\\text{\"Meitnerium\"}$|$\\text{\"Mt\"}$|$109$|$\\text{\"[268]\"}$|\n",
       "|$\\text{\"Mendelevium\"}$|$\\text{\"Md\"}$|$101$|$\\text{\"258.1\"}$|\n",
       "|$\\text{\"Mercury\"}$|$\\text{\"Hg\"}$|$80$|$\\text{\"200.59\"}$|\n",
       "|$\\text{\"Molybdenum\"}$|$\\text{\"Mo\"}$|$42$|$\\text{\"95.94\"}$|\n",
       "|$\\text{\"Neodymium\"}$|$\\text{\"Nd\"}$|$60$|$\\text{\"144.24\"}$|\n",
       "|$\\text{\"Neon\"}$|$\\text{\"Ne\"}$|$10$|$\\text{\"20.1797\"}$|\n",
       "|$\\text{\"Neptunium\"}$|$\\text{\"Np\"}$|$93$|$\\text{\"237.048\"}$|\n",
       "|$\\text{\"Nickel\"}$|$\\text{\"Ni\"}$|$28$|$\\text{\"58.6934\"}$|\n",
       "|$\\text{\"Niobium\"}$|$\\text{\"Nb\"}$|$41$|$\\text{\"92.90638\"}$|\n",
       "|$\\text{\"Nitrogen\"}$|$\\text{\"N\"}$|$7$|$\\text{\"14.00674\"}$|\n",
       "|$\\text{\"Nobelium\"}$|$\\text{\"No\"}$|$102$|$\\text{\"259.1009\"}$|\n",
       "|$\\text{\"Osmium\"}$|$\\text{\"Os\"}$|$76$|$\\text{\"190.23\"}$|\n",
       "|$\\text{\"Oxygen\"}$|$\\text{\"O\"}$|$8$|$\\text{\"15.9994\"}$|\n",
       "|$\\text{\"Palladium\"}$|$\\text{\"Pd\"}$|$46$|$\\text{\"106.42\"}$|\n",
       "|$\\text{\"Phosphorus\"}$|$\\text{\"P\"}$|$15$|$\\text{\"30.973762\"}$|\n",
       "|$\\text{\"Platinum\"}$|$\\text{\"Pt\"}$|$78$|$\\text{\"195.08\"}$|\n",
       "|$\\text{\"Plutonium\"}$|$\\text{\"Pu\"}$|$94$|$\\text{\"244.0642\"}$|\n",
       "|$\\text{\"Polonium\"}$|$\\text{\"Po\"}$|$84$|$\\text{\"208.9824\"}$|\n",
       "|$\\text{\"Potassium\"}$|$\\text{\"K\"}$|$19$|$\\text{\"39.0983\"}$|\n",
       "|$\\text{\"Praseodymium\"}$|$\\text{\"Pr\"}$|$59$|$\\text{\"140.90765\"}$|\n",
       "|$\\text{\"Promethium\"}$|$\\text{\"Pm\"}$|$61$|$\\text{\"144.9127\"}$|\n",
       "|$\\text{\"Protactinium\"}$|$\\text{\"Pa\"}$|$91$|$\\text{\"231.03588\"}$|\n",
       "|$\\text{\"Radium\"}$|$\\text{\"Ra\"}$|$88$|$\\text{\"226.0254\"}$|\n",
       "|$\\text{\"Radon\"}$|$\\text{\"Rn\"}$|$86$|$\\text{\"222.0176\"}$|\n",
       "|$\\text{\"Rhenium\"}$|$\\text{\"Re\"}$|$75$|$\\text{\"186.207\"}$|\n",
       "|$\\text{\"Rhodium\"}$|$\\text{\"Rh\"}$|$45$|$\\text{\"102.9055\"}$|\n",
       "|$\\text{\"Rubidium\"}$|$\\text{\"Rb\"}$|$37$|$\\text{\"85.4678\"}$|\n",
       "|$\\text{\"Ruthenium\"}$|$\\text{\"Ru\"}$|$44$|$\\text{\"101.07\"}$|\n",
       "|$\\text{\"Rutherfordium\"}$|$\\text{\"Rf\"}$|$104$|$\\text{\"[261]\"}$|\n",
       "|$\\text{\"Samarium\"}$|$\\text{\"Sm\"}$|$62$|$\\text{\"150.36\"}$|\n",
       "|$\\text{\"Scandium\"}$|$\\text{\"Sc\"}$|$21$|$\\text{\"44.95591\"}$|\n",
       "|$\\text{\"Seaborgium\"}$|$\\text{\"Sg\"}$|$106$|$\\text{\"[266]\"}$|\n",
       "|$\\text{\"Selenium\"}$|$\\text{\"Se\"}$|$34$|$\\text{\"78.96\"}$|\n",
       "|$\\text{\"Silicon\"}$|$\\text{\"Si\"}$|$14$|$\\text{\"28.0855\"}$|\n",
       "|$\\text{\"Silver\"}$|$\\text{\"Ag\"}$|$47$|$\\text{\"107.8682\"}$|\n",
       "|$\\text{\"Sodium\"}$|$\\text{\"Na\"}$|$11$|$\\text{\"22.989768\"}$|\n",
       "|$\\text{\"Strontium\"}$|$\\text{\"Sr\"}$|$38$|$\\text{\"87.62\"}$|\n",
       "|$\\text{\"Sulfur\"}$|$\\text{\"S\"}$|$16$|$\\text{\"32.066\"}$|\n",
       "|$\\text{\"Tantalum\"}$|$\\text{\"Ta\"}$|$73$|$\\text{\"180.9479\"}$|\n",
       "|$\\text{\"Technetium\"}$|$\\text{\"Tc\"}$|$43$|$\\text{\"97.9072\"}$|\n",
       "|$\\text{\"Tellurium\"}$|$\\text{\"Te\"}$|$52$|$\\text{\"127.6\"}$|\n",
       "|$\\text{\"Terbium\"}$|$\\text{\"Tb\"}$|$65$|$\\text{\"158.92534\"}$|\n",
       "|$\\text{\"Thallium\"}$|$\\text{\"Tl\"}$|$81$|$\\text{\"204.3833\"}$|\n",
       "|$\\text{\"Thorium\"}$|$\\text{\"Th\"}$|$90$|$\\text{\"232.0381\"}$|\n",
       "|$\\text{\"Thulium\"}$|$\\text{\"Tm\"}$|$69$|$\\text{\"168.93421\"}$|\n",
       "|$\\text{\"Tin\"}$|$\\text{\"Sn\"}$|$50$|$\\text{\"118.71\"}$|\n",
       "|$\\text{\"Titanium\"}$|$\\text{\"Ti\"}$|$22$|$\\text{\"47.88\"}$|\n",
       "|$\\text{\"Tungsten\"}$|$\\text{\"W\"}$|$74$|$\\text{\"183.84\"}$|\n",
       "|$\\text{\"Ununbium\"}$|$\\text{\"Uub\"}$|$112$|$\\text{\"[277]\"}$|\n",
       "|$\\text{\"Ununhexium\"}$|$\\text{\"Uuh\"}$|$116$|$\\text{\"-\"}$|\n",
       "|$\\text{\"Ununnilium\"}$|$\\text{\"Uun\"}$|$110$|$\\text{\"[269]\"}$|\n",
       "|$\\text{\"Ununoctium\"}$|$\\text{\"Uuo\"}$|$118$|$\\text{\"-\"}$|\n",
       "|$\\text{\"Ununpentium\"}$|$\\text{\"Uup\"}$|$115$|$\\text{\"-\"}$|\n",
       "|$\\text{\"Ununquadium\"}$|$\\text{\"Uuq\"}$|$114$|$\\text{\"[289]\"}$|\n",
       "|$\\text{\"Ununseptium\"}$|$\\text{\"Uus\"}$|$117$|$\\text{\"-\"}$|\n",
       "|$\\text{\"Ununtrium\"}$|$\\text{\"Uut\"}$|$113$|$\\text{\"-\"}$|\n",
       "|$\\text{\"Unununium\"}$|$\\text{\"Uuu\"}$|$111$|$\\text{\"[272]\"}$|\n",
       "|$\\text{\"Uranium\"}$|$\\text{\"U\"}$|$92$|$\\text{\"238.0289\"}$|\n",
       "|$\\text{\"Vanadium\"}$|$\\text{\"V\"}$|$23$|$\\text{\"50.9415\"}$|\n",
       "|$\\text{\"Xenon\"}$|$\\text{\"Xe\"}$|$54$|$\\text{\"131.29\"}$|\n",
       "|$\\text{\"Ytterbium\"}$|$\\text{\"Yb\"}$|$70$|$\\text{\"173.04\"}$|\n",
       "|$\\text{\"Yttrium\"}$|$\\text{\"Y\"}$|$39$|$\\text{\"88.90585\"}$|\n",
       "|$\\text{\"Zinc\"}$|$\\text{\"Zn\"}$|$30$|$\\text{\"65.39\"}$|\n",
       "|$\\text{\"Zirconium\"}$|$\\text{\"Zr\"}$|$40$|$\\text{\"91.224\"}$|\n"
      ],
      "text/plain": [
       "prj111\tprj112\tprj12\tprj2\n",
       "\"Actinium\"\t\"Ac\"\t89\t\"227.0278\"\n",
       "\"Aluminum\"\t\"Al\"\t13\t\"26.981539\"\n",
       "\"Americium\"\t\"Am\"\t95\t\"243.0614\"\n",
       "\"Antimony\"\t\"Sb\"\t51\t\"121.76\"\n",
       "\"Argon\"\t\"Ar\"\t18\t\"39.948\"\n",
       "\"Arsenic\"\t\"As\"\t33\t\"74.92159\"\n",
       "\"Astatine\"\t\"At\"\t85\t\"209.9871\"\n",
       "\"Barium\"\t\"Ba\"\t56\t\"137.327\"\n",
       "\"Berkelium\"\t\"Bk\"\t97\t\"247.0703\"\n",
       "\"Beryllium\"\t\"Be\"\t4\t\"9.01218\"\n",
       "\"Bismuth\"\t\"Bi\"\t83\t\"208.98037\"\n",
       "\"Bohrium\"\t\"Bh\"\t107\t\"[264]\"\n",
       "\"Boron\"\t\"B\"\t5\t\"10.811\"\n",
       "\"Bromine\"\t\"Br\"\t35\t\"79.904\"\n",
       "\"Cadmium\"\t\"Cd\"\t48\t\"112.411\"\n",
       "\"Calcium\"\t\"Ca\"\t20\t\"40.078\"\n",
       "\"Californium\"\t\"Cf\"\t98\t\"251.0796\"\n",
       "\"Carbon\"\t\"C\"\t6\t\"12.011\"\n",
       "\"Cerium\"\t\"Ce\"\t58\t\"140.115\"\n",
       "\"Cesium\"\t\"Cs\"\t55\t\"132.90543\"\n",
       "\"Chlorine\"\t\"Cl\"\t17\t\"35.4527\"\n",
       "\"Chromium\"\t\"Cr\"\t24\t\"51.9961\"\n",
       "\"Cobalt\"\t\"Co\"\t27\t\"58.9332\"\n",
       "\"Copper\"\t\"Cu\"\t29\t\"63.546\"\n",
       "\"Curium\"\t\"Cm\"\t96\t\"247.0703\"\n",
       "\"Dubnium\"\t\"Db\"\t105\t\"[262]\"\n",
       "\"Dysprosium\"\t\"Dy\"\t66\t\"162.5\"\n",
       "\"Einsteinium\"\t\"Es\"\t99\t\"252.083\"\n",
       "\"Erbium\"\t\"Er\"\t68\t\"167.26\"\n",
       "\"Europium\"\t\"Eu\"\t63\t\"151.965\"\n",
       "\"Fermium\"\t\"Fm\"\t100\t\"257.0951\"\n",
       "\"Fluorine\"\t\"F\"\t9\t\"18.998403\"\n",
       "\"Francium\"\t\"Fr\"\t87\t\"223.0197\"\n",
       "\"Gadolinium\"\t\"Gd\"\t64\t\"157.25\"\n",
       "\"Gallium\"\t\"Ga\"\t31\t\"69.723\"\n",
       "\"Germanium\"\t\"Ge\"\t32\t\"72.61\"\n",
       "\"Gold\"\t\"Au\"\t79\t\"196.96654\"\n",
       "\"Hafnium\"\t\"Hf\"\t72\t\"178.49\"\n",
       "\"Hassium\"\t\"Hs\"\t108\t\"[269]\"\n",
       "\"Helium\"\t\"He\"\t2\t\"4.002602\"\n",
       "\"Holmium\"\t\"Ho\"\t67\t\"164.93032\"\n",
       "\"Hydrogen\"\t\"H\"\t1\t\"1.00794\"\n",
       "\"Indium\"\t\"In\"\t49\t\"114.818\"\n",
       "\"Iodine\"\t\"I\"\t53\t\"126.90447\"\n",
       "\"Iridium\"\t\"Ir\"\t77\t\"192.22\"\n",
       "\"Iron\"\t\"Fe\"\t26\t\"55.847\"\n",
       "\"Krypton\"\t\"Kr\"\t36\t\"83.8\"\n",
       "\"Lanthanum\"\t\"La\"\t57\t\"138.9055\"\n",
       "\"Lawrencium\"\t\"Lr\"\t103\t\"262.11\"\n",
       "\"Lead\"\t\"Pb\"\t82\t\"207.2\"\n",
       "\"Lithium\"\t\"Li\"\t3\t\"6.941\"\n",
       "\"Lutetium\"\t\"Lu\"\t71\t\"174.967\"\n",
       "\"Magnesium\"\t\"Mg\"\t12\t\"24.305\"\n",
       "\"Manganese\"\t\"Mn\"\t25\t\"54.93805\"\n",
       "\"Meitnerium\"\t\"Mt\"\t109\t\"[268]\"\n",
       "\"Mendelevium\"\t\"Md\"\t101\t\"258.1\"\n",
       "\"Mercury\"\t\"Hg\"\t80\t\"200.59\"\n",
       "\"Molybdenum\"\t\"Mo\"\t42\t\"95.94\"\n",
       "\"Neodymium\"\t\"Nd\"\t60\t\"144.24\"\n",
       "\"Neon\"\t\"Ne\"\t10\t\"20.1797\"\n",
       "\"Neptunium\"\t\"Np\"\t93\t\"237.048\"\n",
       "\"Nickel\"\t\"Ni\"\t28\t\"58.6934\"\n",
       "\"Niobium\"\t\"Nb\"\t41\t\"92.90638\"\n",
       "\"Nitrogen\"\t\"N\"\t7\t\"14.00674\"\n",
       "\"Nobelium\"\t\"No\"\t102\t\"259.1009\"\n",
       "\"Osmium\"\t\"Os\"\t76\t\"190.23\"\n",
       "\"Oxygen\"\t\"O\"\t8\t\"15.9994\"\n",
       "\"Palladium\"\t\"Pd\"\t46\t\"106.42\"\n",
       "\"Phosphorus\"\t\"P\"\t15\t\"30.973762\"\n",
       "\"Platinum\"\t\"Pt\"\t78\t\"195.08\"\n",
       "\"Plutonium\"\t\"Pu\"\t94\t\"244.0642\"\n",
       "\"Polonium\"\t\"Po\"\t84\t\"208.9824\"\n",
       "\"Potassium\"\t\"K\"\t19\t\"39.0983\"\n",
       "\"Praseodymium\"\t\"Pr\"\t59\t\"140.90765\"\n",
       "\"Promethium\"\t\"Pm\"\t61\t\"144.9127\"\n",
       "\"Protactinium\"\t\"Pa\"\t91\t\"231.03588\"\n",
       "\"Radium\"\t\"Ra\"\t88\t\"226.0254\"\n",
       "\"Radon\"\t\"Rn\"\t86\t\"222.0176\"\n",
       "\"Rhenium\"\t\"Re\"\t75\t\"186.207\"\n",
       "\"Rhodium\"\t\"Rh\"\t45\t\"102.9055\"\n",
       "\"Rubidium\"\t\"Rb\"\t37\t\"85.4678\"\n",
       "\"Ruthenium\"\t\"Ru\"\t44\t\"101.07\"\n",
       "\"Rutherfordium\"\t\"Rf\"\t104\t\"[261]\"\n",
       "\"Samarium\"\t\"Sm\"\t62\t\"150.36\"\n",
       "\"Scandium\"\t\"Sc\"\t21\t\"44.95591\"\n",
       "\"Seaborgium\"\t\"Sg\"\t106\t\"[266]\"\n",
       "\"Selenium\"\t\"Se\"\t34\t\"78.96\"\n",
       "\"Silicon\"\t\"Si\"\t14\t\"28.0855\"\n",
       "\"Silver\"\t\"Ag\"\t47\t\"107.8682\"\n",
       "\"Sodium\"\t\"Na\"\t11\t\"22.989768\"\n",
       "\"Strontium\"\t\"Sr\"\t38\t\"87.62\"\n",
       "\"Sulfur\"\t\"S\"\t16\t\"32.066\"\n",
       "\"Tantalum\"\t\"Ta\"\t73\t\"180.9479\"\n",
       "\"Technetium\"\t\"Tc\"\t43\t\"97.9072\"\n",
       "\"Tellurium\"\t\"Te\"\t52\t\"127.6\"\n",
       "\"Terbium\"\t\"Tb\"\t65\t\"158.92534\"\n",
       "\"Thallium\"\t\"Tl\"\t81\t\"204.3833\"\n",
       "\"Thorium\"\t\"Th\"\t90\t\"232.0381\"\n",
       "\"Thulium\"\t\"Tm\"\t69\t\"168.93421\"\n",
       "\"Tin\"\t\"Sn\"\t50\t\"118.71\"\n",
       "\"Titanium\"\t\"Ti\"\t22\t\"47.88\"\n",
       "\"Tungsten\"\t\"W\"\t74\t\"183.84\"\n",
       "\"Ununbium\"\t\"Uub\"\t112\t\"[277]\"\n",
       "\"Ununhexium\"\t\"Uuh\"\t116\t\"-\"\n",
       "\"Ununnilium\"\t\"Uun\"\t110\t\"[269]\"\n",
       "\"Ununoctium\"\t\"Uuo\"\t118\t\"-\"\n",
       "\"Ununpentium\"\t\"Uup\"\t115\t\"-\"\n",
       "\"Ununquadium\"\t\"Uuq\"\t114\t\"[289]\"\n",
       "\"Ununseptium\"\t\"Uus\"\t117\t\"-\"\n",
       "\"Ununtrium\"\t\"Uut\"\t113\t\"-\"\n",
       "\"Unununium\"\t\"Uuu\"\t111\t\"[272]\"\n",
       "\"Uranium\"\t\"U\"\t92\t\"238.0289\"\n",
       "\"Vanadium\"\t\"V\"\t23\t\"50.9415\"\n",
       "\"Xenon\"\t\"Xe\"\t54\t\"131.29\"\n",
       "\"Ytterbium\"\t\"Yb\"\t70\t\"173.04\"\n",
       "\"Yttrium\"\t\"Y\"\t39\t\"88.90585\"\n",
       "\"Zinc\"\t\"Zn\"\t30\t\"65.39\"\n",
       "\"Zirconium\"\t\"Zr\"\t40\t\"91.224\"\n"
      ]
     },
     "execution_count": 80,
     "metadata": {},
     "output_type": "execute_result"
    }
   ],
   "source": [
    ":table eltable"
   ]
  },
  {
   "cell_type": "markdown",
   "metadata": {
    "slideshow": {
     "slide_type": "subslide"
    }
   },
   "source": [
    "We now check the following property, that the atomic weights are not decreasing with increasing atomic number:"
   ]
  },
  {
   "cell_type": "code",
   "execution_count": 81,
   "metadata": {},
   "outputs": [
    {
     "ename": "CommandExecutionException",
     "evalue": ":assert: Assertion is not true: FALSE",
     "output_type": "error",
     "traceback": [
      "\u001b[1m\u001b[31m:assert: Assertion is not true: FALSE\u001b[0m"
     ]
    }
   ],
   "source": [
    ":assert !(n1,n2,s1,s2,nr,aw1,aw2).(\n",
    "   (n1,s1,nr,aw1):eltable & (n2,s2,nr+1,aw2):eltable\n",
    "    =>\n",
    "    DEC_STRING_TO_INT(aw1,3) <= DEC_STRING_TO_INT(aw2,3)\n",
    "   )"
   ]
  },
  {
   "cell_type": "markdown",
   "metadata": {
    "slideshow": {
     "slide_type": "subslide"
    }
   },
   "source": [
    "In case the property is false, we can extract a table with the counter examples to the rule:"
   ]
  },
  {
   "cell_type": "code",
   "execution_count": 82,
   "metadata": {},
   "outputs": [
    {
     "data": {
      "text/markdown": [
       "|n1|aw1|n2|aw2|\n",
       "|---|---|---|---|\n",
       "|$\\text{\"Argon\"}$|$\\text{\"39.948\"}$|$\\text{\"Potassium\"}$|$\\text{\"39.0983\"}$|\n",
       "|$\\text{\"Cobalt\"}$|$\\text{\"58.9332\"}$|$\\text{\"Nickel\"}$|$\\text{\"58.6934\"}$|\n",
       "|$\\text{\"Plutonium\"}$|$\\text{\"244.0642\"}$|$\\text{\"Americium\"}$|$\\text{\"243.0614\"}$|\n",
       "|$\\text{\"Tellurium\"}$|$\\text{\"127.6\"}$|$\\text{\"Iodine\"}$|$\\text{\"126.90447\"}$|\n",
       "|$\\text{\"Thorium\"}$|$\\text{\"232.0381\"}$|$\\text{\"Protactinium\"}$|$\\text{\"231.03588\"}$|\n",
       "|$\\text{\"Uranium\"}$|$\\text{\"238.0289\"}$|$\\text{\"Neptunium\"}$|$\\text{\"237.048\"}$|\n"
      ],
      "text/plain": [
       "n1\taw1\tn2\taw2\n",
       "\"Argon\"\t\"39.948\"\t\"Potassium\"\t\"39.0983\"\n",
       "\"Cobalt\"\t\"58.9332\"\t\"Nickel\"\t\"58.6934\"\n",
       "\"Plutonium\"\t\"244.0642\"\t\"Americium\"\t\"243.0614\"\n",
       "\"Tellurium\"\t\"127.6\"\t\"Iodine\"\t\"126.90447\"\n",
       "\"Thorium\"\t\"232.0381\"\t\"Protactinium\"\t\"231.03588\"\n",
       "\"Uranium\"\t\"238.0289\"\t\"Neptunium\"\t\"237.048\"\n"
      ]
     },
     "execution_count": 82,
     "metadata": {},
     "output_type": "execute_result"
    }
   ],
   "source": [
    ":table {n1,aw1,n2,aw2|#(s1,s2,nr).(\n",
    "              (n1,s1,nr,aw1):eltable & STRING_IS_NUMBER(aw1) &\n",
    "              (n2,s2,nr+1,aw2):eltable & STRING_IS_NUMBER(aw2) &\n",
    "              DEC_STRING_TO_INT(aw1,3) > DEC_STRING_TO_INT(aw2,3))}"
   ]
  },
  {
   "cell_type": "markdown",
   "metadata": {
    "slideshow": {
     "slide_type": "slide"
    }
   },
   "source": [
    "# Anwendung: Modelldokumentation, Beschreibung von Szenarien, Tests\n",
    "\n",
    "Die ProB-Jupyter Kernel kann auch zur Erstellung von Dokumentation von B Modellen\n",
    "benutzt werden:\n",
    "- Beschreibung der Datenstrukturen und wie das Modell benutzt werden kann\n",
    "- Beschreibung von gewünschten oder unerwünschten Szenarien\n",
    "\n",
    "### Beispiel: problematisches Szenario im AMASS Projekt: \n",
    "\n",
    "![AMASS](./img/AMASS_screenshot.png)"
   ]
  },
  {
   "cell_type": "markdown",
   "metadata": {
    "slideshow": {
     "slide_type": "slide"
    }
   },
   "source": [
    "# Future Work\n",
    "\n",
    "* Mehr Kommandos:\n",
    "    * Temporäre (\"lokale\") Variablen mit `:let`\n",
    "    * Verifikation (LTL, Model Checking)\n",
    "    * Diagramme: Plotten von Werten im Verlauf des Traces\n",
    "* `In`/`Out`-Arrays um vorherige Eingaben/Ergebnisse abzurufen\n",
    "* Integration mit ProB 2-Trace-Dateien\n",
    "    * Konvertierung zwischen `.prob2trace` und `.ipynb`"
   ]
  },
  {
   "cell_type": "markdown",
   "metadata": {
    "slideshow": {
     "slide_type": "slide"
    }
   },
   "source": [
    "# Zusammenfassung\n",
    "* die B Sprache ist relativ nahe an der Mathematik die man in der Lehre der Informatik verwendet\n",
    "* die B Sprache erlaubt funktionale Programmierung, Constraint-Programmierung, logisches Schließen und Beweisen\n",
    "* mit ProB kann man B (und TLA+ und Z) animieren, auswerten, grafisch darstellen\n",
    "* mit dem neuen Jupyter Kernel kann man interaktive, ausführbare Dokumente erstellen.\n",
    "* die Anwendungen sind hoffentlich vielfältig"
   ]
  },
  {
   "cell_type": "code",
   "execution_count": null,
   "metadata": {},
   "outputs": [],
   "source": []
  }
 ],
 "metadata": {
  "kernelspec": {
   "display_name": "ProB 2",
   "language": "prob",
   "name": "prob2"
  },
  "language_info": {
   "codemirror_mode": "prob2_jupyter_repl",
   "file_extension": ".prob",
   "mimetype": "text/x-prob2-jupyter-repl",
   "name": "prob"
  }
 },
 "nbformat": 4,
 "nbformat_minor": 2
}
