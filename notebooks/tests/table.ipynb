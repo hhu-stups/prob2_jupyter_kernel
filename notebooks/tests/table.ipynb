{
 "cells": [
  {
   "cell_type": "code",
   "execution_count": 1,
   "metadata": {},
   "outputs": [
    {
     "data": {
      "text/markdown": [
       "```\n",
       ":table EXPRESSION\n",
       "```\n",
       "\n",
       "Display an expression as a table."
      ],
      "text/plain": [
       ":table EXPRESSION\n",
       "\n",
       "Display an expression as a table."
      ]
     },
     "execution_count": 1,
     "metadata": {},
     "output_type": "execute_result"
    }
   ],
   "source": [
    ":help :table"
   ]
  },
  {
   "cell_type": "code",
   "execution_count": 2,
   "metadata": {},
   "outputs": [
    {
     "data": {
      "text/plain": [
       "Machine initialised using operation 0: $initialise_machine()"
      ]
     },
     "execution_count": 2,
     "metadata": {},
     "output_type": "execute_result"
    }
   ],
   "source": [
    ":init"
   ]
  },
  {
   "cell_type": "code",
   "execution_count": 3,
   "metadata": {},
   "outputs": [
    {
     "name": "stdout",
     "output_type": "stream",
     "text": [
      "[2018-06-04 14:38:09,730, T+6763] \"ProB Output Logger for instance 37c36608\" de.prob.cli.ProBInstance.readAndLog(ConsoleListener.java:48): [INFO] finding_trace_from_to(root)\u001b[0m\n",
      "[2018-06-04 14:38:09,734, T+6767] \"ProB Output Logger for instance 37c36608\" de.prob.cli.ProBInstance.readAndLog(ConsoleListener.java:48): [INFO] \u001b[0m\n",
      "[2018-06-04 14:38:09,843, T+6876] \"ProB Output Logger for instance 37c36608\" de.prob.cli.ProBInstance.readAndLog(ConsoleListener.java:48): [INFO] call_command(table,expr_as_table,_85889,[set_extension(pos(2,-1,1,1,1,13),[integer(pos(3,-1,1,2,1,3),1),integer(pos(4,-1,1,5,1,6),2),integer(pos(5,-1,1,8,1,9),3),integer(pos(6,-1,1,11,1,12),4)]),_84193],[])\u001b[0m\n",
      "[2018-06-04 14:38:09,844, T+6877] \"ProB Output Logger for instance 37c36608\" de.prob.cli.ProBInstance.readAndLog(ConsoleListener.java:48): [INFO] result(list([list([Nr,Elements]),list([1,1]),list([2,2]),list([3,3]),list([4,4])]))\u001b[0m\n"
     ]
    },
    {
     "data": {
      "text/markdown": [
       "|Nr|Elements|\n",
       "|---|---|\n",
       "|1|1|\n",
       "|2|2|\n",
       "|3|3|\n",
       "|4|4|\n"
      ],
      "text/plain": [
       "Nr\tElements\n",
       "1\t1\n",
       "2\t2\n",
       "3\t3\n",
       "4\t4\n"
      ]
     },
     "execution_count": 3,
     "metadata": {},
     "output_type": "execute_result"
    }
   ],
   "source": [
    ":table {1, 2, 3, 4}"
   ]
  },
  {
   "cell_type": "code",
   "execution_count": 4,
   "metadata": {},
   "outputs": [
    {
     "name": "stdout",
     "output_type": "stream",
     "text": [
      "[2018-06-04 14:38:09,968, T+7001] \"ProB Output Logger for instance 37c36608\" de.prob.cli.ProBInstance.readAndLog(ConsoleListener.java:48): [INFO] call_command(table,expr_as_table,_98723,[sequence_extension(pos(2,-1,1,1,1,13),[integer(pos(3,-1,1,2,1,3),1),integer(pos(4,-1,1,5,1,6),2),integer(pos(5,-1,1,8,1,9),3),integer(pos(6,-1,1,11,1,12),4)]),_97041],[])\u001b[0m\n",
      "[2018-06-04 14:38:09,970, T+7003] \"ProB Output Logger for instance 37c36608\" de.prob.cli.ProBInstance.readAndLog(ConsoleListener.java:48): [INFO] result(list([list([Nr,prj1,prj2]),list([1,1,1]),list([2,2,2]),list([3,3,3]),list([4,4,4])]))\u001b[0m\n"
     ]
    },
    {
     "data": {
      "text/markdown": [
       "|Nr|prj1|prj2|\n",
       "|---|---|---|\n",
       "|1|1|1|\n",
       "|2|2|2|\n",
       "|3|3|3|\n",
       "|4|4|4|\n"
      ],
      "text/plain": [
       "Nr\tprj1\tprj2\n",
       "1\t1\t1\n",
       "2\t2\t2\n",
       "3\t3\t3\n",
       "4\t4\t4\n"
      ]
     },
     "execution_count": 4,
     "metadata": {},
     "output_type": "execute_result"
    }
   ],
   "source": [
    ":table [1, 2, 3, 4]"
   ]
  },
  {
   "cell_type": "code",
   "execution_count": 5,
   "metadata": {},
   "outputs": [
    {
     "name": "stdout",
     "output_type": "stream",
     "text": [
      "[2018-06-04 14:38:10,074, T+7107] \"ProB Output Logger for instance 37c36608\" de.prob.cli.ProBInstance.readAndLog(ConsoleListener.java:48): [INFO] call_command(table,expr_as_table,_116255,[set_extension(pos(2,-1,1,1,1,34),[couple(pos(3,-1,1,2,1,11),[integer(pos(4,-1,1,3,1,4),1),integer(pos(5,-1,1,6,1,7),2),integer(pos(6,-1,1,9,1,10),3)]),couple(pos(7,-1,1,13,1,22),[integer(pos(8,-1,1,14,1,15),4),integer(pos(9,-1,1,17,1,18),5),integer(pos(10,-1,1,20,1,21),6)]),couple(pos(11,-1,1,24,1,33),[integer(pos(12,-1,1,25,1,26),7),integer(pos(13,-1,1,28,1,29),8),integer(pos(14,-1,1,31,1,32),9)])]),_112973],[])\u001b[0m\n",
      "[2018-06-04 14:38:10,075, T+7108] \"ProB Output Logger for instance 37c36608\" de.prob.cli.ProBInstance.readAndLog(ConsoleListener.java:48): [INFO] result(list([list([Nr,prj11,prj12,prj2]),list([1,1,2,3]),list([2,4,5,6]),list([3,7,8,9])]))\u001b[0m\n"
     ]
    },
    {
     "data": {
      "text/markdown": [
       "|Nr|prj11|prj12|prj2|\n",
       "|---|---|---|---|\n",
       "|1|1|2|3|\n",
       "|2|4|5|6|\n",
       "|3|7|8|9|\n"
      ],
      "text/plain": [
       "Nr\tprj11\tprj12\tprj2\n",
       "1\t1\t2\t3\n",
       "2\t4\t5\t6\n",
       "3\t7\t8\t9\n"
      ]
     },
     "execution_count": 5,
     "metadata": {},
     "output_type": "execute_result"
    }
   ],
   "source": [
    ":table {(1, 2, 3), (4, 5, 6), (7, 8, 9)}"
   ]
  },
  {
   "cell_type": "code",
   "execution_count": 6,
   "metadata": {},
   "outputs": [
    {
     "name": "stdout",
     "output_type": "stream",
     "text": [
      "[2018-06-04 14:38:10,310, T+7343] \"ProB Output Logger for instance 37c36608\" de.prob.cli.ProBInstance.readAndLog(ConsoleListener.java:48): [INFO] call_command(table,expr_as_table,_129729,[set_extension(pos(2,-1,1,1,1,11),[couple(pos(3,-1,1,2,1,10),[empty_set(pos(4,-1,1,3,1,5)),empty_set(pos(5,-1,1,7,1,9))])]),_128283],[])\u001b[0m\n",
      "[2018-06-04 14:38:10,312, T+7345] \"ProB Output Logger for instance 37c36608\" de.prob.cli.ProBInstance.readAndLog(ConsoleListener.java:48): [INFO] result(list([list([Nr,prj1,prj2]),list([1,{},{}])]))\u001b[0m\n"
     ]
    },
    {
     "data": {
      "text/markdown": [
       "|Nr|prj1|prj2|\n",
       "|---|---|---|\n",
       "|1|{}|{}|\n"
      ],
      "text/plain": [
       "Nr\tprj1\tprj2\n",
       "1\t{}\t{}\n"
      ]
     },
     "execution_count": 6,
     "metadata": {},
     "output_type": "execute_result"
    }
   ],
   "source": [
    ":table {({}, {})}"
   ]
  }
 ],
 "metadata": {
  "kernelspec": {
   "display_name": "ProB 2",
   "language": "prob",
   "name": "prob2"
  },
  "language_info": {
   "file_extension": ".prob",
   "mimetype": "text/x-prob",
   "name": "prob"
  }
 },
 "nbformat": 4,
 "nbformat_minor": 2
}
