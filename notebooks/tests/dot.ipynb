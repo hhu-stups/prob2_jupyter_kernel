{
 "cells": [
  {
   "cell_type": "code",
   "execution_count": 1,
   "metadata": {},
   "outputs": [
    {
     "data": {
      "text/markdown": [
       "```\n",
       ":dot COMMAND [FORMULA]\n",
       "```\n",
       "\n",
       "Execute and show a dot visualisation.\n",
       "\n",
       "The following dot visualisation commands are available:\n",
       "\n",
       "* `machine_hierarchy` - Machine Hierarchy: Shows the machine hierarchy of a classical B model\n",
       "* `event_hierarchy` - Event Hierarchy: Shows the event hierarchy of an Event-B model (**Not available for this machine/state**: only available for Event-B models)\n",
       "* `state_space` - State Space: Show state space\n",
       "* `state_space_sfdp` - State Space (Fast): Show state space (fast)\n",
       "* `signature_merge` - Signature Merge: Show signature-merged reduced state space\n",
       "* `dfa_merge` - DFA Merge: Show state space as deterministic automaton (DFA)\n",
       "* `state_as_graph` - State Graph: Show values in current state as a graph\n",
       "* `custom_graph` - Customized State as Graph: Show values in current state as a graph using CUSTOM_GRAPH_EDGES (**Not available for this machine/state**: only available when CUSTOM_GRAPH_NODES and CUSTOM_GRAPH_EDGES are defined in the DEFINITIONS of a B machine)\n",
       "* `invariant` - Invariant Formula Tree: Show invariant as a formula tree (**Not available for this machine/state**: only available for initialised B,Z or Event-B models)\n",
       "* `properties` - Properties Formula Tree: Show properties as a formula tree\n",
       "* `assertions` - Assertions Formula Tree: Show assertions as a formula tree\n",
       "* `deadlock` - Deadlock Formula Tree: Show deadlocking status as a formula tree (**Not available for this machine/state**: only available for initialised B,Z or Event-B models)\n",
       "* `goal` - Goal Formula Tree: Show GOAL as a formula tree\n",
       "* `last_error` - Last Error Formula Tree: Show last error source as a formula tree (**Not available for this machine/state**: only available when error occured)\n",
       "* `enable_graph` - Enable Graph: Show enabling graph of events\n",
       "* `dependence_graph` - Dependence Graph: Show dependence graph of events\n",
       "* `definitions` - Definitions Graph: Show dependence graph of DEFINITIONS\n",
       "* `expr_as_graph` - Expression Graph: Show expression value as a graph\n",
       "* `formula_tree` - Formula Tree: Show predicate and sub-expressions as a tree\n",
       "* `transition_diagram` - Transition Diagram Projection: Project state space onto expression values\n",
       "* `predicate_dependency` - Predicate Dependency Graph: Show dependence graph of conjuncts of a predicate\n"
      ],
      "text/plain": [
       ":dot COMMAND [FORMULA]\n",
       "Execute and show a dot visualisation.\n",
       "\n",
       "The following dot visualisation commands are available:\n",
       "\n",
       "* `machine_hierarchy` - Machine Hierarchy: Shows the machine hierarchy of a classical B model\n",
       "* `event_hierarchy` - Event Hierarchy: Shows the event hierarchy of an Event-B model (**Not available for this machine/state**: only available for Event-B models)\n",
       "* `state_space` - State Space: Show state space\n",
       "* `state_space_sfdp` - State Space (Fast): Show state space (fast)\n",
       "* `signature_merge` - Signature Merge: Show signature-merged reduced state space\n",
       "* `dfa_merge` - DFA Merge: Show state space as deterministic automaton (DFA)\n",
       "* `state_as_graph` - State Graph: Show values in current state as a graph\n",
       "* `custom_graph` - Customized State as Graph: Show values in current state as a graph using CUSTOM_GRAPH_EDGES (**Not available for this machine/state**: only available when CUSTOM_GRAPH_NODES and CUSTOM_GRAPH_EDGES are defined in the DEFINITIONS of a B machine)\n",
       "* `invariant` - Invariant Formula Tree: Show invariant as a formula tree (**Not available for this machine/state**: only available for initialised B,Z or Event-B models)\n",
       "* `properties` - Properties Formula Tree: Show properties as a formula tree\n",
       "* `assertions` - Assertions Formula Tree: Show assertions as a formula tree\n",
       "* `deadlock` - Deadlock Formula Tree: Show deadlocking status as a formula tree (**Not available for this machine/state**: only available for initialised B,Z or Event-B models)\n",
       "* `goal` - Goal Formula Tree: Show GOAL as a formula tree\n",
       "* `last_error` - Last Error Formula Tree: Show last error source as a formula tree (**Not available for this machine/state**: only available when error occured)\n",
       "* `enable_graph` - Enable Graph: Show enabling graph of events\n",
       "* `dependence_graph` - Dependence Graph: Show dependence graph of events\n",
       "* `definitions` - Definitions Graph: Show dependence graph of DEFINITIONS\n",
       "* `expr_as_graph` - Expression Graph: Show expression value as a graph\n",
       "* `formula_tree` - Formula Tree: Show predicate and sub-expressions as a tree\n",
       "* `transition_diagram` - Transition Diagram Projection: Project state space onto expression values\n",
       "* `predicate_dependency` - Predicate Dependency Graph: Show dependence graph of conjuncts of a predicate\n"
      ]
     },
     "execution_count": 1,
     "metadata": {},
     "output_type": "execute_result"
    }
   ],
   "source": [
    ":help :dot"
   ]
  },
  {
   "cell_type": "code",
   "execution_count": 2,
   "metadata": {},
   "outputs": [
    {
     "data": {
      "image/svg+xml": [
       "<?xml version=\"1.0\" encoding=\"UTF-8\" standalone=\"no\"?>\n",
       "<!DOCTYPE svg PUBLIC \"-//W3C//DTD SVG 1.1//EN\"\n",
       " \"http://www.w3.org/Graphics/SVG/1.1/DTD/svg11.dtd\">\n",
       "<!-- Generated by graphviz version 2.40.1 (20161225.0304)\n",
       " -->\n",
       "<!-- Title: visited_states Pages: 1 -->\n",
       "<svg width=\"97pt\" height=\"50pt\"\n",
       " viewBox=\"0.00 0.00 96.64 50.00\" xmlns=\"http://www.w3.org/2000/svg\" xmlns:xlink=\"http://www.w3.org/1999/xlink\">\n",
       "<g id=\"graph0\" class=\"graph\" transform=\"scale(1 1) rotate(0) translate(4 46)\">\n",
       "<title>visited_states</title>\n",
       "<polygon fill=\"#ffffff\" stroke=\"transparent\" points=\"-4,4 -4,-46 92.6445,-46 92.6445,4 -4,4\"/>\n",
       "<!-- root -->\n",
       "<g id=\"node1\" class=\"node\">\n",
       "<title>root</title>\n",
       "<polygon fill=\"none\" stroke=\"#f4e3c1\" stroke-width=\"2\" points=\"44.3223,0 88.4675,-31.5 .177,-31.5 44.3223,0\"/>\n",
       "<text text-anchor=\"middle\" x=\"44.3223\" y=\"-17.9\" font-family=\"Times,serif\" font-size=\"12.00\" fill=\"#000000\">root</text>\n",
       "</g>\n",
       "</g>\n",
       "</svg>"
      ],
      "text/plain": [
       "<Dot visualization: state_space []>"
      ]
     },
     "execution_count": 2,
     "metadata": {},
     "output_type": "execute_result"
    }
   ],
   "source": [
    ":dot state_space"
   ]
  },
  {
   "cell_type": "code",
   "execution_count": 3,
   "metadata": {},
   "outputs": [
    {
     "data": {
      "text/plain": [
       "Machine initialised using operation 0: $initialise_machine()"
      ]
     },
     "execution_count": 3,
     "metadata": {},
     "output_type": "execute_result"
    }
   ],
   "source": [
    ":init"
   ]
  },
  {
   "cell_type": "code",
   "execution_count": 4,
   "metadata": {
    "scrolled": false
   },
   "outputs": [
    {
     "data": {
      "image/svg+xml": [
       "<?xml version=\"1.0\" encoding=\"UTF-8\" standalone=\"no\"?>\n",
       "<!DOCTYPE svg PUBLIC \"-//W3C//DTD SVG 1.1//EN\"\n",
       " \"http://www.w3.org/Graphics/SVG/1.1/DTD/svg11.dtd\">\n",
       "<!-- Generated by graphviz version 2.40.1 (20161225.0304)\n",
       " -->\n",
       "<!-- Title: visited_states Pages: 1 -->\n",
       "<svg width=\"144pt\" height=\"215pt\"\n",
       " viewBox=\"0.00 0.00 144.32 215.00\" xmlns=\"http://www.w3.org/2000/svg\" xmlns:xlink=\"http://www.w3.org/1999/xlink\">\n",
       "<g id=\"graph0\" class=\"graph\" transform=\"scale(1 1) rotate(0) translate(4 211)\">\n",
       "<title>visited_states</title>\n",
       "<polygon fill=\"#ffffff\" stroke=\"transparent\" points=\"-4,4 -4,-211 140.3223,-211 140.3223,4 -4,4\"/>\n",
       "<!-- root -->\n",
       "<g id=\"node1\" class=\"node\">\n",
       "<title>root</title>\n",
       "<polygon fill=\"none\" stroke=\"#f4e3c1\" stroke-width=\"2\" points=\"44.3223,-165 88.4675,-196.5 .177,-196.5 44.3223,-165\"/>\n",
       "<text text-anchor=\"middle\" x=\"44.3223\" y=\"-182.9\" font-family=\"Times,serif\" font-size=\"12.00\" fill=\"#000000\">root</text>\n",
       "</g>\n",
       "<!-- 0 -->\n",
       "<g id=\"node2\" class=\"node\">\n",
       "<title>0</title>\n",
       "<polygon fill=\"none\" stroke=\"#99bf38\" stroke-width=\"2\" points=\"71.3223,-14.5442 71.3223,-29.4558 55.506,-40 33.1385,-40 17.3223,-29.4558 17.3223,-14.5442 33.1385,-4 55.506,-4 71.3223,-14.5442\"/>\n",
       "<polygon fill=\"none\" stroke=\"#99bf38\" stroke-width=\"2\" points=\"75.3223,-12.4034 75.3223,-31.5966 56.7171,-44 31.9274,-44 13.3223,-31.5966 13.3223,-12.4034 31.9274,0 56.7171,0 75.3223,-12.4034\"/>\n",
       "</g>\n",
       "<!-- root&#45;&gt;0 -->\n",
       "<g id=\"edge1\" class=\"edge\">\n",
       "<title>root&#45;&gt;0</title>\n",
       "<path fill=\"none\" stroke=\"#000000\" stroke-dasharray=\"1,5\" d=\"M44.3223,-164.8956C44.3223,-136.9146 44.3223,-87.2613 44.3223,-54.4833\"/>\n",
       "<polygon fill=\"#000000\" stroke=\"#000000\" points=\"47.8224,-54.0698 44.3223,-44.0699 40.8224,-54.0699 47.8224,-54.0698\"/>\n",
       "<text text-anchor=\"middle\" x=\"90.3223\" y=\"-101.4\" font-family=\"Times,serif\" font-size=\"12.00\" fill=\"#000000\">INITIALISATION</text>\n",
       "</g>\n",
       "</g>\n",
       "</svg>"
      ],
      "text/plain": [
       "<Dot visualization: state_space []>"
      ]
     },
     "execution_count": 4,
     "metadata": {},
     "output_type": "execute_result"
    }
   ],
   "source": [
    ":dot state_space"
   ]
  },
  {
   "cell_type": "code",
   "execution_count": 5,
   "metadata": {},
   "outputs": [
    {
     "data": {
      "image/svg+xml": [
       "<?xml version=\"1.0\" encoding=\"UTF-8\" standalone=\"no\"?>\n",
       "<!DOCTYPE svg PUBLIC \"-//W3C//DTD SVG 1.1//EN\"\n",
       " \"http://www.w3.org/Graphics/SVG/1.1/DTD/svg11.dtd\">\n",
       "<!-- Generated by graphviz version 2.40.1 (20161225.0304)\n",
       " -->\n",
       "<!-- Title: g Pages: 1 -->\n",
       "<svg width=\"155pt\" height=\"62pt\"\n",
       " viewBox=\"0.00 0.00 155.08 61.74\" xmlns=\"http://www.w3.org/2000/svg\" xmlns:xlink=\"http://www.w3.org/1999/xlink\">\n",
       "<g id=\"graph0\" class=\"graph\" transform=\"scale(1 1) rotate(0) translate(4 57.7401)\">\n",
       "<title>g</title>\n",
       "<polygon fill=\"#ffffff\" stroke=\"transparent\" points=\"-4,4 -4,-57.7401 151.0782,-57.7401 151.0782,4 -4,4\"/>\n",
       "<!-- Noderoot -->\n",
       "<g id=\"node1\" class=\"node\">\n",
       "<title>Noderoot</title>\n",
       "<ellipse fill=\"#b3ee3a\" stroke=\"#000000\" cx=\"73.5391\" cy=\"-26.8701\" rx=\"73.5782\" ry=\"26.7407\"/>\n",
       "<text text-anchor=\"middle\" x=\"73.5391\" y=\"-30.6701\" font-family=\"Times,serif\" font-size=\"14.00\" fill=\"#000000\">(TRUE:BOOL)</text>\n",
       "<text text-anchor=\"middle\" x=\"73.5391\" y=\"-15.6701\" font-family=\"Times,serif\" font-size=\"14.00\" fill=\"#000000\"> true</text>\n",
       "</g>\n",
       "</g>\n",
       "</svg>"
      ],
      "text/plain": [
       "<Dot visualization: invariant []>"
      ]
     },
     "execution_count": 5,
     "metadata": {},
     "output_type": "execute_result"
    }
   ],
   "source": [
    ":dot invariant"
   ]
  },
  {
   "cell_type": "code",
   "execution_count": 6,
   "metadata": {},
   "outputs": [
    {
     "data": {
      "image/svg+xml": [
       "<?xml version=\"1.0\" encoding=\"UTF-8\" standalone=\"no\"?>\n",
       "<!DOCTYPE svg PUBLIC \"-//W3C//DTD SVG 1.1//EN\"\n",
       " \"http://www.w3.org/Graphics/SVG/1.1/DTD/svg11.dtd\">\n",
       "<!-- Generated by graphviz version 2.40.1 (20161225.0304)\n",
       " -->\n",
       "<!-- Title: state Pages: 1 -->\n",
       "<svg width=\"128pt\" height=\"218pt\"\n",
       " viewBox=\"0.00 0.00 128.00 218.00\" xmlns=\"http://www.w3.org/2000/svg\" xmlns:xlink=\"http://www.w3.org/1999/xlink\">\n",
       "<g id=\"graph0\" class=\"graph\" transform=\"scale(1 1) rotate(0) translate(4 214)\">\n",
       "<title>state</title>\n",
       "<polygon fill=\"#ffffff\" stroke=\"transparent\" points=\"-4,4 -4,-214 124,-214 124,4 -4,4\"/>\n",
       "<!-- 3 -->\n",
       "<g id=\"node1\" class=\"node\">\n",
       "<title>3</title>\n",
       "<polygon fill=\"#cdba96\" stroke=\"#cdba96\" points=\"90,-210 36,-210 36,-174 90,-174 90,-210\"/>\n",
       "<text text-anchor=\"middle\" x=\"63\" y=\"-188.3\" font-family=\"Times,serif\" font-size=\"14.00\" fill=\"#000000\">3</text>\n",
       "</g>\n",
       "<!-- 1 -->\n",
       "<g id=\"node2\" class=\"node\">\n",
       "<title>1</title>\n",
       "<polygon fill=\"#cdba96\" stroke=\"#cdba96\" points=\"54,-123 0,-123 0,-87 54,-87 54,-123\"/>\n",
       "<text text-anchor=\"middle\" x=\"27\" y=\"-101.3\" font-family=\"Times,serif\" font-size=\"14.00\" fill=\"#000000\">1</text>\n",
       "</g>\n",
       "<!-- 3&#45;&gt;1 -->\n",
       "<g id=\"edge1\" class=\"edge\">\n",
       "<title>3&#45;&gt;1</title>\n",
       "<path fill=\"none\" stroke=\"#b22222\" d=\"M48.2776,-173.7725C44.455,-168.3152 40.6674,-162.1419 38,-156 34.9241,-148.9173 32.677,-140.8962 31.0477,-133.3471\"/>\n",
       "<polygon fill=\"#b22222\" stroke=\"#b22222\" points=\"34.4794,-132.6574 29.1892,-123.4779 27.6003,-133.9529 34.4794,-132.6574\"/>\n",
       "<text text-anchor=\"middle\" x=\"57\" y=\"-144.8\" font-family=\"Times,serif\" font-size=\"14.00\" fill=\"#000000\">[2,3,1]</text>\n",
       "</g>\n",
       "<!-- 2 -->\n",
       "<g id=\"node3\" class=\"node\">\n",
       "<title>2</title>\n",
       "<polygon fill=\"#cdba96\" stroke=\"#cdba96\" points=\"85,-36 31,-36 31,0 85,0 85,-36\"/>\n",
       "<text text-anchor=\"middle\" x=\"58\" y=\"-14.3\" font-family=\"Times,serif\" font-size=\"14.00\" fill=\"#000000\">2</text>\n",
       "</g>\n",
       "<!-- 1&#45;&gt;2 -->\n",
       "<g id=\"edge3\" class=\"edge\">\n",
       "<title>1&#45;&gt;2</title>\n",
       "<path fill=\"none\" stroke=\"#b22222\" d=\"M29.6039,-86.69C31.3415,-76.8067 34.0458,-64.5126 38,-54 39.0973,-51.0827 40.4008,-48.115 41.8086,-45.1988\"/>\n",
       "<polygon fill=\"#b22222\" stroke=\"#b22222\" points=\"44.9918,-46.6647 46.5353,-36.1829 38.7922,-43.4144 44.9918,-46.6647\"/>\n",
       "<text text-anchor=\"middle\" x=\"57\" y=\"-57.8\" font-family=\"Times,serif\" font-size=\"14.00\" fill=\"#000000\">[2,3,1]</text>\n",
       "</g>\n",
       "<!-- 2&#45;&gt;3 -->\n",
       "<g id=\"edge2\" class=\"edge\">\n",
       "<title>2&#45;&gt;3</title>\n",
       "<path fill=\"none\" stroke=\"#b22222\" d=\"M69.0675,-36.0594C71.9014,-41.6127 74.5551,-47.8793 76,-54 86.4155,-98.1206 83.8156,-111.3455 76,-156 75.5328,-158.6693 74.8845,-161.4018 74.1248,-164.1095\"/>\n",
       "<polygon fill=\"#b22222\" stroke=\"#b22222\" points=\"70.7862,-163.0583 71.0089,-173.6508 77.4404,-165.2314 70.7862,-163.0583\"/>\n",
       "<text text-anchor=\"middle\" x=\"101\" y=\"-101.3\" font-family=\"Times,serif\" font-size=\"14.00\" fill=\"#000000\">[2,3,1]</text>\n",
       "</g>\n",
       "</g>\n",
       "</svg>"
      ],
      "text/plain": [
       "<Dot visualization: expr_as_graph [{(1,2),(2,3),(3,1)}]>"
      ]
     },
     "execution_count": 6,
     "metadata": {},
     "output_type": "execute_result"
    }
   ],
   "source": [
    ":dot expr_as_graph {1|->2, 2|->3, 3|->1}"
   ]
  },
  {
   "cell_type": "code",
   "execution_count": 7,
   "metadata": {},
   "outputs": [
    {
     "data": {
      "image/svg+xml": [
       "<?xml version=\"1.0\" encoding=\"UTF-8\" standalone=\"no\"?>\n",
       "<!DOCTYPE svg PUBLIC \"-//W3C//DTD SVG 1.1//EN\"\n",
       " \"http://www.w3.org/Graphics/SVG/1.1/DTD/svg11.dtd\">\n",
       "<!-- Generated by graphviz version 2.40.1 (20161225.0304)\n",
       " -->\n",
       "<!-- Title: state Pages: 1 -->\n",
       "<svg width=\"220pt\" height=\"392pt\"\n",
       " viewBox=\"0.00 0.00 220.34 392.00\" xmlns=\"http://www.w3.org/2000/svg\" xmlns:xlink=\"http://www.w3.org/1999/xlink\">\n",
       "<g id=\"graph0\" class=\"graph\" transform=\"scale(1 1) rotate(0) translate(4 388)\">\n",
       "<title>state</title>\n",
       "<polygon fill=\"#ffffff\" stroke=\"transparent\" points=\"-4,4 -4,-388 216.3366,-388 216.3366,4 -4,4\"/>\n",
       "<!-- 4 -->\n",
       "<g id=\"node1\" class=\"node\">\n",
       "<title>4</title>\n",
       "<polygon fill=\"#cdba96\" stroke=\"#cdba96\" points=\"126.3366,-297 72.3366,-297 72.3366,-261 126.3366,-261 126.3366,-297\"/>\n",
       "<text text-anchor=\"middle\" x=\"99.3366\" y=\"-275.3\" font-family=\"Times,serif\" font-size=\"14.00\" fill=\"#000000\">4</text>\n",
       "</g>\n",
       "<!-- 2 -->\n",
       "<g id=\"node2\" class=\"node\">\n",
       "<title>2</title>\n",
       "<polygon fill=\"#cdba96\" stroke=\"#cdba96\" points=\"60.3366,-123 6.3366,-123 6.3366,-87 60.3366,-87 60.3366,-123\"/>\n",
       "<text text-anchor=\"middle\" x=\"33.3366\" y=\"-101.3\" font-family=\"Times,serif\" font-size=\"14.00\" fill=\"#000000\">2</text>\n",
       "</g>\n",
       "<!-- 4&#45;&gt;2 -->\n",
       "<g id=\"edge1\" class=\"edge\">\n",
       "<title>4&#45;&gt;2</title>\n",
       "<path fill=\"none\" stroke=\"#b22222\" d=\"M79.0579,-260.9061C66.1479,-248.0804 50.3898,-229.7049 42.3366,-210 32.3296,-185.5146 30.755,-155.197 31.28,-133.4438\"/>\n",
       "<polygon fill=\"#b22222\" stroke=\"#b22222\" points=\"34.7864,-133.3549 31.6954,-123.221 27.7922,-133.0707 34.7864,-133.3549\"/>\n",
       "<text text-anchor=\"middle\" x=\"53.3366\" y=\"-188.3\" font-family=\"Times,serif\" font-size=\"14.00\" fill=\"#000000\">half</text>\n",
       "</g>\n",
       "<!-- 4&#45;&gt;2 -->\n",
       "<g id=\"edge8\" class=\"edge\">\n",
       "<title>4&#45;&gt;2</title>\n",
       "<path fill=\"none\" stroke=\"#a0522d\" d=\"M72.3052,-265.4238C52.6988,-253.802 27.9955,-234.9838 18.3366,-210 8.649,-184.9421 14.8751,-154.3426 22.0229,-132.6563\"/>\n",
       "<polygon fill=\"#a0522d\" stroke=\"#a0522d\" points=\"25.3751,-133.6757 25.4287,-123.081 18.7798,-131.3298 25.3751,-133.6757\"/>\n",
       "<text text-anchor=\"middle\" x=\"23.8366\" y=\"-188.3\" font-family=\"Times,serif\" font-size=\"14.00\" fill=\"#000000\">gt</text>\n",
       "</g>\n",
       "<!-- 1 -->\n",
       "<g id=\"node3\" class=\"node\">\n",
       "<title>1</title>\n",
       "<polygon fill=\"#cdba96\" stroke=\"#cdba96\" points=\"131.3366,-36 77.3366,-36 77.3366,0 131.3366,0 131.3366,-36\"/>\n",
       "<text text-anchor=\"middle\" x=\"104.3366\" y=\"-14.3\" font-family=\"Times,serif\" font-size=\"14.00\" fill=\"#000000\">1</text>\n",
       "</g>\n",
       "<!-- 4&#45;&gt;1 -->\n",
       "<g id=\"edge9\" class=\"edge\">\n",
       "<title>4&#45;&gt;1</title>\n",
       "<path fill=\"none\" stroke=\"#a0522d\" d=\"M112.2011,-260.991C120.9171,-247.6323 131.6672,-228.5883 136.3366,-210 150.7854,-152.4801 130.3844,-83.5902 116.1253,-45.9526\"/>\n",
       "<polygon fill=\"#a0522d\" stroke=\"#a0522d\" points=\"119.2103,-44.2325 112.3004,-36.201 112.6936,-46.7886 119.2103,-44.2325\"/>\n",
       "<text text-anchor=\"middle\" x=\"145.8366\" y=\"-144.8\" font-family=\"Times,serif\" font-size=\"14.00\" fill=\"#000000\">gt</text>\n",
       "</g>\n",
       "<!-- 3 -->\n",
       "<g id=\"node5\" class=\"node\">\n",
       "<title>3</title>\n",
       "<polygon fill=\"#cdba96\" stroke=\"#cdba96\" points=\"127.3366,-210 73.3366,-210 73.3366,-174 127.3366,-174 127.3366,-210\"/>\n",
       "<text text-anchor=\"middle\" x=\"100.3366\" y=\"-188.3\" font-family=\"Times,serif\" font-size=\"14.00\" fill=\"#000000\">3</text>\n",
       "</g>\n",
       "<!-- 4&#45;&gt;3 -->\n",
       "<g id=\"edge7\" class=\"edge\">\n",
       "<title>4&#45;&gt;3</title>\n",
       "<path fill=\"none\" stroke=\"#a0522d\" d=\"M99.5438,-260.9735C99.6792,-249.1918 99.8589,-233.5607 100.0129,-220.1581\"/>\n",
       "<polygon fill=\"#a0522d\" stroke=\"#a0522d\" points=\"103.5144,-220.043 100.1296,-210.0034 96.5148,-219.9624 103.5144,-220.043\"/>\n",
       "<text text-anchor=\"middle\" x=\"104.8366\" y=\"-231.8\" font-family=\"Times,serif\" font-size=\"14.00\" fill=\"#000000\">gt</text>\n",
       "</g>\n",
       "<!-- 2&#45;&gt;1 -->\n",
       "<g id=\"edge2\" class=\"edge\">\n",
       "<title>2&#45;&gt;1</title>\n",
       "<path fill=\"none\" stroke=\"#b22222\" d=\"M44.556,-86.9526C51.0742,-76.9232 59.6881,-64.4059 68.3366,-54 71.2761,-50.4631 74.5079,-46.8768 77.7917,-43.4073\"/>\n",
       "<polygon fill=\"#b22222\" stroke=\"#b22222\" points=\"80.4832,-45.6608 84.9702,-36.063 75.4773,-40.7679 80.4832,-45.6608\"/>\n",
       "<text text-anchor=\"middle\" x=\"79.3366\" y=\"-57.8\" font-family=\"Times,serif\" font-size=\"14.00\" fill=\"#000000\">half</text>\n",
       "</g>\n",
       "<!-- 2&#45;&gt;1 -->\n",
       "<g id=\"edge12\" class=\"edge\">\n",
       "<title>2&#45;&gt;1</title>\n",
       "<path fill=\"none\" stroke=\"#a0522d\" d=\"M32.4527,-86.5835C32.8248,-76.1947 34.8248,-63.4447 41.3366,-54 47.9062,-44.4715 57.8746,-37.1455 67.9562,-31.6684\"/>\n",
       "<polygon fill=\"#a0522d\" stroke=\"#a0522d\" points=\"69.722,-34.7005 77.1524,-27.1481 66.634,-28.4184 69.722,-34.7005\"/>\n",
       "<text text-anchor=\"middle\" x=\"46.8366\" y=\"-57.8\" font-family=\"Times,serif\" font-size=\"14.00\" fill=\"#000000\">gt</text>\n",
       "</g>\n",
       "<!-- 5 -->\n",
       "<g id=\"node4\" class=\"node\">\n",
       "<title>5</title>\n",
       "<polygon fill=\"#cdba96\" stroke=\"#cdba96\" points=\"173.3366,-384 119.3366,-384 119.3366,-348 173.3366,-348 173.3366,-384\"/>\n",
       "<text text-anchor=\"middle\" x=\"146.3366\" y=\"-362.3\" font-family=\"Times,serif\" font-size=\"14.00\" fill=\"#000000\">5</text>\n",
       "</g>\n",
       "<!-- 5&#45;&gt;4 -->\n",
       "<g id=\"edge3\" class=\"edge\">\n",
       "<title>5&#45;&gt;4</title>\n",
       "<path fill=\"none\" stroke=\"#a0522d\" d=\"M136.5981,-347.9735C130.0442,-335.8418 121.2854,-319.6287 113.9065,-305.9698\"/>\n",
       "<polygon fill=\"#a0522d\" stroke=\"#a0522d\" points=\"116.895,-304.138 109.0625,-297.0034 110.7362,-307.4652 116.895,-304.138\"/>\n",
       "<text text-anchor=\"middle\" x=\"130.8366\" y=\"-318.8\" font-family=\"Times,serif\" font-size=\"14.00\" fill=\"#000000\">gt</text>\n",
       "</g>\n",
       "<!-- 5&#45;&gt;2 -->\n",
       "<g id=\"edge5\" class=\"edge\">\n",
       "<title>5&#45;&gt;2</title>\n",
       "<path fill=\"none\" stroke=\"#a0522d\" d=\"M119.2819,-350.2868C87.3875,-330.0614 35.8753,-291.6572 13.3366,-243 -5.7213,-201.8576 -2.2595,-184.2556 11.3366,-141 12.2728,-138.0215 13.5071,-135.0369 14.9144,-132.1306\"/>\n",
       "<polygon fill=\"#a0522d\" stroke=\"#a0522d\" points=\"18.0667,-133.6627 19.8453,-123.2183 11.9416,-130.2739 18.0667,-133.6627\"/>\n",
       "<text text-anchor=\"middle\" x=\"18.8366\" y=\"-231.8\" font-family=\"Times,serif\" font-size=\"14.00\" fill=\"#000000\">gt</text>\n",
       "</g>\n",
       "<!-- 5&#45;&gt;1 -->\n",
       "<g id=\"edge6\" class=\"edge\">\n",
       "<title>5&#45;&gt;1</title>\n",
       "<path fill=\"none\" stroke=\"#a0522d\" d=\"M166.5042,-347.7161C182.2012,-331.4029 201.3366,-305.9826 201.3366,-279 201.3366,-279 201.3366,-279 201.3366,-105 201.3366,-71.059 168.0169,-47.0183 140.4342,-32.9318\"/>\n",
       "<polygon fill=\"#a0522d\" stroke=\"#a0522d\" points=\"141.8822,-29.7442 131.3565,-28.5363 138.8316,-36.0445 141.8822,-29.7442\"/>\n",
       "<text text-anchor=\"middle\" x=\"206.8366\" y=\"-188.3\" font-family=\"Times,serif\" font-size=\"14.00\" fill=\"#000000\">gt</text>\n",
       "</g>\n",
       "<!-- 5&#45;&gt;3 -->\n",
       "<g id=\"edge4\" class=\"edge\">\n",
       "<title>5&#45;&gt;3</title>\n",
       "<path fill=\"none\" stroke=\"#a0522d\" d=\"M146.4197,-347.7778C146.0646,-326.5243 144.0504,-290.5339 135.3366,-261 131.0657,-246.5246 123.8015,-231.4639 116.9944,-219.1202\"/>\n",
       "<polygon fill=\"#a0522d\" stroke=\"#a0522d\" points=\"119.9349,-217.2116 111.9351,-210.2651 113.857,-220.6842 119.9349,-217.2116\"/>\n",
       "<text text-anchor=\"middle\" x=\"147.8366\" y=\"-275.3\" font-family=\"Times,serif\" font-size=\"14.00\" fill=\"#000000\">gt</text>\n",
       "</g>\n",
       "<!-- 3&#45;&gt;2 -->\n",
       "<g id=\"edge10\" class=\"edge\">\n",
       "<title>3&#45;&gt;2</title>\n",
       "<path fill=\"none\" stroke=\"#a0522d\" d=\"M86.4541,-173.9735C76.9316,-161.6085 64.1439,-145.0036 53.5018,-131.1847\"/>\n",
       "<polygon fill=\"#a0522d\" stroke=\"#a0522d\" points=\"56.0758,-128.7907 47.2012,-123.0034 50.5298,-133.0618 56.0758,-128.7907\"/>\n",
       "<text text-anchor=\"middle\" x=\"75.8366\" y=\"-144.8\" font-family=\"Times,serif\" font-size=\"14.00\" fill=\"#000000\">gt</text>\n",
       "</g>\n",
       "<!-- 3&#45;&gt;1 -->\n",
       "<g id=\"edge11\" class=\"edge\">\n",
       "<title>3&#45;&gt;1</title>\n",
       "<path fill=\"none\" stroke=\"#a0522d\" d=\"M100.7571,-173.7078C101.4551,-143.3436 102.8579,-82.3226 103.6849,-46.3464\"/>\n",
       "<polygon fill=\"#a0522d\" stroke=\"#a0522d\" points=\"107.1908,-46.1249 103.9217,-36.0471 100.1927,-45.964 107.1908,-46.1249\"/>\n",
       "<text text-anchor=\"middle\" x=\"107.8366\" y=\"-101.3\" font-family=\"Times,serif\" font-size=\"14.00\" fill=\"#000000\">gt</text>\n",
       "</g>\n",
       "</g>\n",
       "</svg>"
      ],
      "text/plain": [
       "<Dot visualization: expr_as_graph [(\"gt\",{x,y|x:1..5 & y:1..5 & x>y})]>"
      ]
     },
     "execution_count": 7,
     "metadata": {},
     "output_type": "execute_result"
    }
   ],
   "source": [
    ":dot expr_as_graph (\"gt\",{x,y|x:1..5 & y:1..5 & x>y},\"half\",{y,x|x:1..5 & y:1..5 & x+x=y})"
   ]
  },
  {
   "cell_type": "code",
   "execution_count": 8,
   "metadata": {},
   "outputs": [
    {
     "data": {
      "text/plain": [
       "Preference changed: DOT_ENGINE = circo\n"
      ]
     },
     "execution_count": 8,
     "metadata": {},
     "output_type": "execute_result"
    }
   ],
   "source": [
    ":pref DOT_ENGINE=circo"
   ]
  },
  {
   "cell_type": "code",
   "execution_count": 9,
   "metadata": {},
   "outputs": [
    {
     "data": {
      "image/svg+xml": [
       "<?xml version=\"1.0\" encoding=\"UTF-8\" standalone=\"no\"?>\n",
       "<!DOCTYPE svg PUBLIC \"-//W3C//DTD SVG 1.1//EN\"\n",
       " \"http://www.w3.org/Graphics/SVG/1.1/DTD/svg11.dtd\">\n",
       "<!-- Generated by graphviz version 2.40.1 (20161225.0304)\n",
       " -->\n",
       "<!-- Title: state Pages: 1 -->\n",
       "<svg width=\"243pt\" height=\"235pt\"\n",
       " viewBox=\"0.00 0.00 243.39 234.72\" xmlns=\"http://www.w3.org/2000/svg\" xmlns:xlink=\"http://www.w3.org/1999/xlink\">\n",
       "<g id=\"graph0\" class=\"graph\" transform=\"scale(1 1) rotate(0) translate(4 230.7203)\">\n",
       "<title>state</title>\n",
       "<polygon fill=\"#ffffff\" stroke=\"transparent\" points=\"-4,4 -4,-230.7203 239.3858,-230.7203 239.3858,4 -4,4\"/>\n",
       "<!-- 4 -->\n",
       "<g id=\"node1\" class=\"node\">\n",
       "<title>4</title>\n",
       "<polygon fill=\"#cdba96\" stroke=\"#cdba96\" points=\"166.1026,-36 112.1026,-36 112.1026,0 166.1026,0 166.1026,-36\"/>\n",
       "<text text-anchor=\"middle\" x=\"139.1026\" y=\"-14.3\" font-family=\"Times,serif\" font-size=\"14.00\" fill=\"#000000\">4</text>\n",
       "</g>\n",
       "<!-- 2 -->\n",
       "<g id=\"node2\" class=\"node\">\n",
       "<title>2</title>\n",
       "<polygon fill=\"#cdba96\" stroke=\"#cdba96\" points=\"235.3858,-131.3602 181.3858,-131.3602 181.3858,-95.3602 235.3858,-95.3602 235.3858,-131.3602\"/>\n",
       "<text text-anchor=\"middle\" x=\"208.3858\" y=\"-109.6602\" font-family=\"Times,serif\" font-size=\"14.00\" fill=\"#000000\">2</text>\n",
       "</g>\n",
       "<!-- 4&#45;&gt;2 -->\n",
       "<g id=\"edge1\" class=\"edge\">\n",
       "<title>4&#45;&gt;2</title>\n",
       "<path fill=\"none\" stroke=\"#b22222\" d=\"M146.0962,-36.3277C154.5341,-50.7471 168.707,-70.9379 181.4659,-87.0605\"/>\n",
       "<polygon fill=\"#b22222\" stroke=\"#b22222\" points=\"178.9494,-89.5137 187.9712,-95.0686 184.3826,-85.1 178.9494,-89.5137\"/>\n",
       "<text text-anchor=\"middle\" x=\"152.781\" y=\"-65.4941\" font-family=\"Times,serif\" font-size=\"14.00\" fill=\"#000000\">half</text>\n",
       "</g>\n",
       "<!-- 4&#45;&gt;2 -->\n",
       "<g id=\"edge8\" class=\"edge\">\n",
       "<title>4&#45;&gt;2</title>\n",
       "<path fill=\"none\" stroke=\"#a0522d\" d=\"M159.4846,-36.2526C171.3905,-50.4825 185.9022,-70.3727 196.1137,-86.4179\"/>\n",
       "<polygon fill=\"#a0522d\" stroke=\"#a0522d\" points=\"193.373,-88.6448 201.577,-95.3489 199.3444,-84.992 193.373,-88.6448\"/>\n",
       "<text text-anchor=\"middle\" x=\"172.2992\" y=\"-65.1352\" font-family=\"Times,serif\" font-size=\"14.00\" fill=\"#000000\">gt</text>\n",
       "</g>\n",
       "<!-- 1 -->\n",
       "<g id=\"node3\" class=\"node\">\n",
       "<title>1</title>\n",
       "<polygon fill=\"#cdba96\" stroke=\"#cdba96\" points=\"54,-190.296 0,-190.296 0,-154.296 54,-154.296 54,-190.296\"/>\n",
       "<text text-anchor=\"middle\" x=\"27\" y=\"-168.596\" font-family=\"Times,serif\" font-size=\"14.00\" fill=\"#000000\">1</text>\n",
       "</g>\n",
       "<!-- 4&#45;&gt;1 -->\n",
       "<g id=\"edge9\" class=\"edge\">\n",
       "<title>4&#45;&gt;1</title>\n",
       "<path fill=\"none\" stroke=\"#a0522d\" d=\"M126.0236,-36.0017C106.3845,-63.0326 69.1556,-114.2737 46.3626,-145.6457\"/>\n",
       "<polygon fill=\"#a0522d\" stroke=\"#a0522d\" points=\"43.3895,-143.7832 40.3432,-153.9307 49.0526,-147.8978 43.3895,-143.7832\"/>\n",
       "<text text-anchor=\"middle\" x=\"80.6931\" y=\"-94.6237\" font-family=\"Times,serif\" font-size=\"14.00\" fill=\"#000000\">gt</text>\n",
       "</g>\n",
       "<!-- 3 -->\n",
       "<g id=\"node5\" class=\"node\">\n",
       "<title>3</title>\n",
       "<polygon fill=\"#cdba96\" stroke=\"#cdba96\" points=\"54,-72.4243 0,-72.4243 0,-36.4243 54,-36.4243 54,-72.4243\"/>\n",
       "<text text-anchor=\"middle\" x=\"27\" y=\"-50.7243\" font-family=\"Times,serif\" font-size=\"14.00\" fill=\"#000000\">3</text>\n",
       "</g>\n",
       "<!-- 4&#45;&gt;3 -->\n",
       "<g id=\"edge7\" class=\"edge\">\n",
       "<title>4&#45;&gt;3</title>\n",
       "<path fill=\"none\" stroke=\"#a0522d\" d=\"M111.9657,-26.8173C97.6137,-31.4806 79.779,-37.2754 64.1603,-42.3502\"/>\n",
       "<polygon fill=\"#a0522d\" stroke=\"#a0522d\" points=\"62.7045,-39.143 54.2756,-45.562 64.8677,-45.8004 62.7045,-39.143\"/>\n",
       "<text text-anchor=\"middle\" x=\"82.563\" y=\"-38.3838\" font-family=\"Times,serif\" font-size=\"14.00\" fill=\"#000000\">gt</text>\n",
       "</g>\n",
       "<!-- 2&#45;&gt;1 -->\n",
       "<g id=\"edge2\" class=\"edge\">\n",
       "<title>2&#45;&gt;1</title>\n",
       "<path fill=\"none\" stroke=\"#b22222\" d=\"M181.2766,-117.0448C149.9737,-124.8821 98.3616,-141.3877 63.5383,-154.5076\"/>\n",
       "<polygon fill=\"#b22222\" stroke=\"#b22222\" points=\"62.2655,-151.2472 54.1924,-158.1083 64.7821,-157.7792 62.2655,-151.2472\"/>\n",
       "<text text-anchor=\"middle\" x=\"111.4074\" y=\"-139.5762\" font-family=\"Times,serif\" font-size=\"14.00\" fill=\"#000000\">half</text>\n",
       "</g>\n",
       "<!-- 2&#45;&gt;1 -->\n",
       "<g id=\"edge12\" class=\"edge\">\n",
       "<title>2&#45;&gt;1</title>\n",
       "<path fill=\"none\" stroke=\"#a0522d\" d=\"M181.2172,-127.5384C150.0376,-139.8543 98.7636,-156.6493 63.9685,-166.0402\"/>\n",
       "<polygon fill=\"#a0522d\" stroke=\"#a0522d\" points=\"62.974,-162.6824 54.1813,-168.5933 64.741,-169.4557 62.974,-162.6824\"/>\n",
       "<text text-anchor=\"middle\" x=\"128.0929\" y=\"-150.5893\" font-family=\"Times,serif\" font-size=\"14.00\" fill=\"#000000\">gt</text>\n",
       "</g>\n",
       "<!-- 5 -->\n",
       "<g id=\"node4\" class=\"node\">\n",
       "<title>5</title>\n",
       "<polygon fill=\"#cdba96\" stroke=\"#cdba96\" points=\"166.1026,-226.7203 112.1026,-226.7203 112.1026,-190.7203 166.1026,-190.7203 166.1026,-226.7203\"/>\n",
       "<text text-anchor=\"middle\" x=\"139.1026\" y=\"-205.0203\" font-family=\"Times,serif\" font-size=\"14.00\" fill=\"#000000\">5</text>\n",
       "</g>\n",
       "<!-- 5&#45;&gt;4 -->\n",
       "<g id=\"edge3\" class=\"edge\">\n",
       "<title>5&#45;&gt;4</title>\n",
       "<path fill=\"none\" stroke=\"#a0522d\" d=\"M139.1026,-190.4333C139.1026,-157.0404 139.1026,-85.9864 139.1026,-46.3026\"/>\n",
       "<polygon fill=\"#a0522d\" stroke=\"#a0522d\" points=\"142.6027,-46.2317 139.1026,-36.2317 135.6027,-46.2317 142.6027,-46.2317\"/>\n",
       "<text text-anchor=\"middle\" x=\"133.6026\" y=\"-122.1679\" font-family=\"Times,serif\" font-size=\"14.00\" fill=\"#000000\">gt</text>\n",
       "</g>\n",
       "<!-- 5&#45;&gt;2 -->\n",
       "<g id=\"edge5\" class=\"edge\">\n",
       "<title>5&#45;&gt;2</title>\n",
       "<path fill=\"none\" stroke=\"#a0522d\" d=\"M152.4611,-190.3339C162.879,-175.9949 177.4897,-155.885 189.1646,-139.8159\"/>\n",
       "<polygon fill=\"#a0522d\" stroke=\"#a0522d\" points=\"192.257,-141.5142 195.3033,-131.3667 186.5938,-137.3997 192.257,-141.5142\"/>\n",
       "<text text-anchor=\"middle\" x=\"165.3128\" y=\"-168.8749\" font-family=\"Times,serif\" font-size=\"14.00\" fill=\"#000000\">gt</text>\n",
       "</g>\n",
       "<!-- 5&#45;&gt;1 -->\n",
       "<g id=\"edge6\" class=\"edge\">\n",
       "<title>5&#45;&gt;1</title>\n",
       "<path fill=\"none\" stroke=\"#a0522d\" d=\"M111.9657,-199.903C97.6137,-195.2398 79.779,-189.4449 64.1603,-184.3701\"/>\n",
       "<polygon fill=\"#a0522d\" stroke=\"#a0522d\" points=\"64.8677,-180.9199 54.2756,-181.1584 62.7045,-187.5773 64.8677,-180.9199\"/>\n",
       "<text text-anchor=\"middle\" x=\"82.563\" y=\"-195.9366\" font-family=\"Times,serif\" font-size=\"14.00\" fill=\"#000000\">gt</text>\n",
       "</g>\n",
       "<!-- 5&#45;&gt;3 -->\n",
       "<g id=\"edge4\" class=\"edge\">\n",
       "<title>5&#45;&gt;3</title>\n",
       "<path fill=\"none\" stroke=\"#a0522d\" d=\"M126.0236,-190.7187C106.3845,-163.6878 69.1556,-112.4466 46.3626,-81.0746\"/>\n",
       "<polygon fill=\"#a0522d\" stroke=\"#a0522d\" points=\"49.0526,-78.8226 40.3432,-72.7896 43.3895,-82.9371 49.0526,-78.8226\"/>\n",
       "<text text-anchor=\"middle\" x=\"80.6931\" y=\"-139.6966\" font-family=\"Times,serif\" font-size=\"14.00\" fill=\"#000000\">gt</text>\n",
       "</g>\n",
       "<!-- 3&#45;&gt;2 -->\n",
       "<g id=\"edge10\" class=\"edge\">\n",
       "<title>3&#45;&gt;2</title>\n",
       "<path fill=\"none\" stroke=\"#a0522d\" d=\"M54.1553,-63.2476C85.368,-73.3892 136.7581,-90.0869 171.5567,-101.3937\"/>\n",
       "<polygon fill=\"#a0522d\" stroke=\"#a0522d\" points=\"170.7494,-104.8114 181.3415,-104.5729 172.9125,-98.154 170.7494,-104.8114\"/>\n",
       "<text text-anchor=\"middle\" x=\"107.356\" y=\"-86.1207\" font-family=\"Times,serif\" font-size=\"14.00\" fill=\"#000000\">gt</text>\n",
       "</g>\n",
       "<!-- 3&#45;&gt;1 -->\n",
       "<g id=\"edge11\" class=\"edge\">\n",
       "<title>3&#45;&gt;1</title>\n",
       "<path fill=\"none\" stroke=\"#a0522d\" d=\"M27,-72.5835C27,-91.5634 27,-121.6099 27,-143.7637\"/>\n",
       "<polygon fill=\"#a0522d\" stroke=\"#a0522d\" points=\"23.5001,-143.922 27,-153.922 30.5001,-143.9221 23.5001,-143.922\"/>\n",
       "<text text-anchor=\"middle\" x=\"21.5\" y=\"-111.9736\" font-family=\"Times,serif\" font-size=\"14.00\" fill=\"#000000\">gt</text>\n",
       "</g>\n",
       "</g>\n",
       "</svg>"
      ],
      "text/plain": [
       "<Dot visualization: expr_as_graph [(\"gt\",{x,y|x:1..5 & y:1..5 & x>y})]>"
      ]
     },
     "execution_count": 9,
     "metadata": {},
     "output_type": "execute_result"
    }
   ],
   "source": [
    ":dot expr_as_graph (\"gt\",{x,y|x:1..5 & y:1..5 & x>y},\"half\",{y,x|x:1..5 & y:1..5 & x+x=y})"
   ]
  },
  {
   "cell_type": "code",
   "execution_count": 10,
   "metadata": {},
   "outputs": [
    {
     "data": {
      "text/plain": [
       "Preference changed: DOT_ENGINE = dot\n"
      ]
     },
     "execution_count": 10,
     "metadata": {},
     "output_type": "execute_result"
    }
   ],
   "source": [
    ":pref DOT_ENGINE=dot"
   ]
  },
  {
   "cell_type": "code",
   "execution_count": 11,
   "metadata": {},
   "outputs": [
    {
     "data": {
      "image/svg+xml": [
       "<?xml version=\"1.0\" encoding=\"UTF-8\" standalone=\"no\"?>\n",
       "<!DOCTYPE svg PUBLIC \"-//W3C//DTD SVG 1.1//EN\"\n",
       " \"http://www.w3.org/Graphics/SVG/1.1/DTD/svg11.dtd\">\n",
       "<!-- Generated by graphviz version 2.40.1 (20161225.0304)\n",
       " -->\n",
       "<!-- Title: g Pages: 1 -->\n",
       "<svg width=\"247pt\" height=\"100pt\"\n",
       " viewBox=\"0.00 0.00 247.40 100.00\" xmlns=\"http://www.w3.org/2000/svg\" xmlns:xlink=\"http://www.w3.org/1999/xlink\">\n",
       "<g id=\"graph0\" class=\"graph\" transform=\"scale(1 1) rotate(0) translate(4 96)\">\n",
       "<title>g</title>\n",
       "<polygon fill=\"#ffffff\" stroke=\"transparent\" points=\"-4,4 -4,-96 243.397,-96 243.397,4 -4,4\"/>\n",
       "<!-- Noderoot -->\n",
       "<g id=\"node1\" class=\"node\">\n",
       "<title>Noderoot</title>\n",
       "<ellipse fill=\"#b3ee3a\" stroke=\"#000000\" cx=\"29.6985\" cy=\"-46\" rx=\"29.8983\" ry=\"26.7407\"/>\n",
       "<text text-anchor=\"middle\" x=\"29.6985\" y=\"-49.8\" font-family=\"Times,serif\" font-size=\"14.00\" fill=\"#000000\">=</text>\n",
       "<text text-anchor=\"middle\" x=\"29.6985\" y=\"-34.8\" font-family=\"Times,serif\" font-size=\"14.00\" fill=\"#000000\"> true</text>\n",
       "</g>\n",
       "<!-- Node1 -->\n",
       "<g id=\"node2\" class=\"node\">\n",
       "<title>Node1</title>\n",
       "<polygon fill=\"#ffffff\" stroke=\"#000000\" points=\"149.397,-92 95.397,-92 95.397,-56 149.397,-56 149.397,-92\"/>\n",
       "<text text-anchor=\"middle\" x=\"122.397\" y=\"-70.3\" font-family=\"Times,serif\" font-size=\"14.00\" fill=\"#000000\">2</text>\n",
       "</g>\n",
       "<!-- Node1&#45;&gt;Noderoot -->\n",
       "<g id=\"edge1\" class=\"edge\">\n",
       "<title>Node1&#45;&gt;Noderoot</title>\n",
       "<path fill=\"none\" stroke=\"#000000\" d=\"M95.0857,-65.7505C86.5358,-63.168 76.9398,-60.2694 67.7877,-57.505\"/>\n",
       "<polygon fill=\"#000000\" stroke=\"#000000\" points=\"68.6865,-54.1204 58.1016,-54.5793 66.6624,-60.8214 68.6865,-54.1204\"/>\n",
       "</g>\n",
       "<!-- Node2 -->\n",
       "<g id=\"node3\" class=\"node\">\n",
       "<title>Node2</title>\n",
       "<polygon fill=\"#ffffff\" stroke=\"#000000\" points=\"149.397,-38 95.397,-38 95.397,0 149.397,0 149.397,-38\"/>\n",
       "<text text-anchor=\"middle\" x=\"122.397\" y=\"-22.8\" font-family=\"Times,serif\" font-size=\"14.00\" fill=\"#000000\">card</text>\n",
       "<text text-anchor=\"middle\" x=\"122.397\" y=\"-7.8\" font-family=\"Times,serif\" font-size=\"14.00\" fill=\"#000000\"> 2</text>\n",
       "</g>\n",
       "<!-- Node2&#45;&gt;Noderoot -->\n",
       "<g id=\"edge2\" class=\"edge\">\n",
       "<title>Node2&#45;&gt;Noderoot</title>\n",
       "<path fill=\"none\" stroke=\"#000000\" d=\"M95.0857,-26.9549C86.5358,-29.4452 76.9398,-32.2402 67.7877,-34.9059\"/>\n",
       "<polygon fill=\"#000000\" stroke=\"#000000\" points=\"66.7238,-31.5702 58.1016,-37.7271 68.6814,-38.2909 66.7238,-31.5702\"/>\n",
       "</g>\n",
       "<!-- Node3 -->\n",
       "<g id=\"node4\" class=\"node\">\n",
       "<title>Node3</title>\n",
       "<polygon fill=\"#ffffff\" stroke=\"#000000\" points=\"239.397,-37 185.397,-37 185.397,-1 239.397,-1 239.397,-37\"/>\n",
       "<text text-anchor=\"middle\" x=\"212.397\" y=\"-15.3\" font-family=\"Times,serif\" font-size=\"14.00\" fill=\"#000000\">{1,2}</text>\n",
       "</g>\n",
       "<!-- Node3&#45;&gt;Node2 -->\n",
       "<g id=\"edge3\" class=\"edge\">\n",
       "<title>Node3&#45;&gt;Node2</title>\n",
       "<path fill=\"none\" stroke=\"#000000\" d=\"M185.394,-19C177.3693,-19 168.4304,-19 159.8661,-19\"/>\n",
       "<polygon fill=\"#000000\" stroke=\"#000000\" points=\"159.692,-15.5001 149.6919,-19 159.6919,-22.5001 159.692,-15.5001\"/>\n",
       "</g>\n",
       "</g>\n",
       "</svg>"
      ],
      "text/plain": [
       "<Dot visualization: formula_tree [1*2+3/4=card({1,2})]>"
      ]
     },
     "execution_count": 11,
     "metadata": {},
     "output_type": "execute_result"
    }
   ],
   "source": [
    ":dot formula_tree 1*2 + 3/4 = card({1, 2})"
   ]
  }
 ],
 "metadata": {
  "kernelspec": {
   "display_name": "ProB 2",
   "language": "prob",
   "name": "prob2"
  },
  "language_info": {
   "codemirror_mode": "prob2_jupyter_repl",
   "file_extension": ".prob",
   "mimetype": "text/x-prob2-jupyter-repl",
   "name": "prob"
  }
 },
 "nbformat": 4,
 "nbformat_minor": 2
}
