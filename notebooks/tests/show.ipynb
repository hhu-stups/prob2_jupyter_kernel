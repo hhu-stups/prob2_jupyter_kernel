{
 "cells": [
  {
   "cell_type": "code",
   "execution_count": 1,
   "metadata": {},
   "outputs": [
    {
     "data": {
      "text/markdown": [
       "```\n",
       ":show\n",
       "```\n",
       "\n",
       "Show the machine's animation function visualisation for the current state."
      ],
      "text/plain": [
       ":show\n",
       "\n",
       "Show the machine's animation function visualisation for the current state."
      ]
     },
     "execution_count": 1,
     "metadata": {},
     "output_type": "execute_result"
    }
   ],
   "source": [
    ":help :show"
   ]
  },
  {
   "cell_type": "code",
   "execution_count": 2,
   "metadata": {},
   "outputs": [
    {
     "data": {
      "text/plain": [
       "Loaded machine: Hanoi : []\n"
      ]
     },
     "execution_count": 2,
     "metadata": {},
     "output_type": "execute_result"
    }
   ],
   "source": [
    ":load Hanoi.mch"
   ]
  },
  {
   "cell_type": "code",
   "execution_count": 3,
   "metadata": {},
   "outputs": [
    {
     "ename": "CommandExecutionException",
     "evalue": ":show: Machine is not initialised, cannot show animation function visualisation",
     "output_type": "error",
     "traceback": [
      "\u001b[1m\u001b[31m:show: Machine is not initialised, cannot show animation function visualisation\u001b[0m"
     ]
    }
   ],
   "source": [
    ":show"
   ]
  },
  {
   "cell_type": "code",
   "execution_count": 4,
   "metadata": {},
   "outputs": [
    {
     "data": {
      "text/plain": [
       "Machine constants set up using operation 0: $setup_constants()"
      ]
     },
     "execution_count": 4,
     "metadata": {},
     "output_type": "execute_result"
    }
   ],
   "source": [
    ":constants"
   ]
  },
  {
   "cell_type": "code",
   "execution_count": 5,
   "metadata": {},
   "outputs": [
    {
     "ename": "CommandExecutionException",
     "evalue": ":show: Machine is not initialised, cannot show animation function visualisation",
     "output_type": "error",
     "traceback": [
      "\u001b[1m\u001b[31m:show: Machine is not initialised, cannot show animation function visualisation\u001b[0m"
     ]
    }
   ],
   "source": [
    ":show"
   ]
  },
  {
   "cell_type": "code",
   "execution_count": 6,
   "metadata": {},
   "outputs": [
    {
     "data": {
      "text/plain": [
       "Machine initialised using operation 1: $initialise_machine()"
      ]
     },
     "execution_count": 6,
     "metadata": {},
     "output_type": "execute_result"
    }
   ],
   "source": [
    ":init"
   ]
  },
  {
   "cell_type": "code",
   "execution_count": 7,
   "metadata": {},
   "outputs": [
    {
     "data": {
      "text/markdown": [
       "<table><tbody>\n",
       "<tr>\n",
       "<td style=\"padding:0\">![1](images/Disc1.gif)</td>\n",
       "<td style=\"padding:0\">![0](images/Disc_empty.gif)</td>\n",
       "<td style=\"padding:0\">![0](images/Disc_empty.gif)</td>\n",
       "</tr>\n",
       "<tr>\n",
       "<td style=\"padding:0\">![2](images/Disc2.gif)</td>\n",
       "<td style=\"padding:0\">![0](images/Disc_empty.gif)</td>\n",
       "<td style=\"padding:0\">![0](images/Disc_empty.gif)</td>\n",
       "</tr>\n",
       "<tr>\n",
       "<td style=\"padding:0\">![3](images/Disc3.gif)</td>\n",
       "<td style=\"padding:0\">![0](images/Disc_empty.gif)</td>\n",
       "<td style=\"padding:0\">![0](images/Disc_empty.gif)</td>\n",
       "</tr>\n",
       "<tr>\n",
       "<td style=\"padding:0\">![4](images/Disc4.gif)</td>\n",
       "<td style=\"padding:0\">![0](images/Disc_empty.gif)</td>\n",
       "<td style=\"padding:0\">![0](images/Disc_empty.gif)</td>\n",
       "</tr>\n",
       "<tr>\n",
       "<td style=\"padding:0\">![5](images/Disc5.gif)</td>\n",
       "<td style=\"padding:0\">![0](images/Disc_empty.gif)</td>\n",
       "<td style=\"padding:0\">![0](images/Disc_empty.gif)</td>\n",
       "</tr>\n",
       "</tbody></table>"
      ],
      "text/plain": [
       "<Animation function visualisation>"
      ]
     },
     "execution_count": 7,
     "metadata": {},
     "output_type": "execute_result"
    }
   ],
   "source": [
    ":show"
   ]
  },
  {
   "cell_type": "code",
   "execution_count": 8,
   "metadata": {},
   "outputs": [
    {
     "data": {
      "text/plain": [
       "Executed operation 2: Move(orig,dest,1)"
      ]
     },
     "execution_count": 8,
     "metadata": {},
     "output_type": "execute_result"
    }
   ],
   "source": [
    ":exec Move"
   ]
  },
  {
   "cell_type": "code",
   "execution_count": 9,
   "metadata": {},
   "outputs": [
    {
     "data": {
      "text/markdown": [
       "<table><tbody>\n",
       "<tr>\n",
       "<td style=\"padding:0\">![0](images/Disc_empty.gif)</td>\n",
       "<td style=\"padding:0\">![0](images/Disc_empty.gif)</td>\n",
       "<td style=\"padding:0\">![0](images/Disc_empty.gif)</td>\n",
       "</tr>\n",
       "<tr>\n",
       "<td style=\"padding:0\">![2](images/Disc2.gif)</td>\n",
       "<td style=\"padding:0\">![0](images/Disc_empty.gif)</td>\n",
       "<td style=\"padding:0\">![0](images/Disc_empty.gif)</td>\n",
       "</tr>\n",
       "<tr>\n",
       "<td style=\"padding:0\">![3](images/Disc3.gif)</td>\n",
       "<td style=\"padding:0\">![0](images/Disc_empty.gif)</td>\n",
       "<td style=\"padding:0\">![0](images/Disc_empty.gif)</td>\n",
       "</tr>\n",
       "<tr>\n",
       "<td style=\"padding:0\">![4](images/Disc4.gif)</td>\n",
       "<td style=\"padding:0\">![0](images/Disc_empty.gif)</td>\n",
       "<td style=\"padding:0\">![0](images/Disc_empty.gif)</td>\n",
       "</tr>\n",
       "<tr>\n",
       "<td style=\"padding:0\">![5](images/Disc5.gif)</td>\n",
       "<td style=\"padding:0\">![1](images/Disc1.gif)</td>\n",
       "<td style=\"padding:0\">![0](images/Disc_empty.gif)</td>\n",
       "</tr>\n",
       "</tbody></table>"
      ],
      "text/plain": [
       "<Animation function visualisation>"
      ]
     },
     "execution_count": 9,
     "metadata": {},
     "output_type": "execute_result"
    }
   ],
   "source": [
    ":show"
   ]
  },
  {
   "cell_type": "code",
   "execution_count": 10,
   "metadata": {},
   "outputs": [
    {
     "data": {
      "text/plain": [
       "Executed operation 4: Move(orig,Stakes3,2)"
      ]
     },
     "execution_count": 10,
     "metadata": {},
     "output_type": "execute_result"
    }
   ],
   "source": [
    ":exec Move"
   ]
  },
  {
   "cell_type": "code",
   "execution_count": 11,
   "metadata": {},
   "outputs": [
    {
     "data": {
      "text/markdown": [
       "<table><tbody>\n",
       "<tr>\n",
       "<td style=\"padding:0\">![0](images/Disc_empty.gif)</td>\n",
       "<td style=\"padding:0\">![0](images/Disc_empty.gif)</td>\n",
       "<td style=\"padding:0\">![0](images/Disc_empty.gif)</td>\n",
       "</tr>\n",
       "<tr>\n",
       "<td style=\"padding:0\">![0](images/Disc_empty.gif)</td>\n",
       "<td style=\"padding:0\">![0](images/Disc_empty.gif)</td>\n",
       "<td style=\"padding:0\">![0](images/Disc_empty.gif)</td>\n",
       "</tr>\n",
       "<tr>\n",
       "<td style=\"padding:0\">![3](images/Disc3.gif)</td>\n",
       "<td style=\"padding:0\">![0](images/Disc_empty.gif)</td>\n",
       "<td style=\"padding:0\">![0](images/Disc_empty.gif)</td>\n",
       "</tr>\n",
       "<tr>\n",
       "<td style=\"padding:0\">![4](images/Disc4.gif)</td>\n",
       "<td style=\"padding:0\">![0](images/Disc_empty.gif)</td>\n",
       "<td style=\"padding:0\">![0](images/Disc_empty.gif)</td>\n",
       "</tr>\n",
       "<tr>\n",
       "<td style=\"padding:0\">![5](images/Disc5.gif)</td>\n",
       "<td style=\"padding:0\">![1](images/Disc1.gif)</td>\n",
       "<td style=\"padding:0\">![2](images/Disc2.gif)</td>\n",
       "</tr>\n",
       "</tbody></table>"
      ],
      "text/plain": [
       "<Animation function visualisation>"
      ]
     },
     "execution_count": 11,
     "metadata": {},
     "output_type": "execute_result"
    }
   ],
   "source": [
    ":show"
   ]
  }
 ],
 "metadata": {
  "kernelspec": {
   "display_name": "ProB 2",
   "language": "prob",
   "name": "prob2"
  },
  "language_info": {
   "codemirror_mode": "prob2_jupyter_repl",
   "file_extension": ".prob",
   "mimetype": "text/x-prob2-jupyter-repl",
   "name": "prob"
  }
 },
 "nbformat": 4,
 "nbformat_minor": 2
}
